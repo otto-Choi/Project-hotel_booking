{
 "cells": [
  {
   "cell_type": "markdown",
   "id": "db62f6e9",
   "metadata": {},
   "source": [
    "## 1. 분석 목표\n",
    "\n",
    "본 분석의 목표는 **Resort Hotel**의 예약 데이터를 사용하여 고객의 특성을 깊이 있게 이해하고, 비즈니스 인사이트를 도출하는 데 있다. 구체적인 목표는 다음과 같다.\n",
    "\n",
    "1.  **기술적 고객 세분화 (Customer Segmentation):** 고객의 예약 행동 및 인구통계학적 특성을 기반으로 군집화를 진행하여, 서로 다른 특성을 가진 고객 그룹(페르소나)을 정의한다. 이는 타겟 마케팅 전략 수립 및 맞춤형 서비스 제공의 기반이 된다.\n",
    "2.  **예약 취소 예측 모델링:** 고객의 예약 정보와 행동 패턴을 분석하여 예약 취소 가능성을 예측하는 분류 모델을 구축한다. 이를 통해 잠재적 취소 고객을 사전에 식별하고, 취소 방지를 위한 선제적 대응(프로모션 제공 등)을 가능하게 한다.\n",
    "\n",
    "**추가 분석 및 시각화**: `plotly` 라이브러리를 활용하여 클러스터별 특징을 더욱 풍부하게 시각화하여 비즈니스 인사이트 도출을 강화합니다."
   ]
  },
  {
   "cell_type": "markdown",
   "id": "d0689a1d",
   "metadata": {},
   "source": [
    "## 2. 분석 프로세스 개요\n",
    "\n",
    "분석은 다음과 같은 6단계의 구조화된 프로세스로 진행된다.\n",
    "\n",
    "1.  **EDA (탐색적 데이터 분석):** 데이터의 구조, 분포, 변수 간 관계를 파악하여 데이터에 대한 근본적인 이해를 높인다.\n",
    "2.  **데이터 전처리:** 분석 목적에 맞게 데이터를 정제하고, 파생 변수를 생성하며, 모델링에 적합한 형태로 가공한다.\n",
    "3.  **가설 검정:** 데이터 기반의 통계적 가설을 설정하고 검정하여, 유의미한 비즈니스 인사이트를 도출한다.\n",
    "4.  **고객 클러스터링:** 비지도 학습 기법을 사용하여 고객을 유사한 특성을 가진 그룹으로 분류하고, 각 그룹의 페르소나를 정의한다.\n",
    "5.  **시각화:** 분석 과정에서 발견한 주요 인사이트와 클러스터링, 모델링 결과를 효과적으로 전달하기 위한 시각 자료를 생성한다.\n",
    "6.  **모델링 (예약 취소 예측):** 지도 학습 알고리즘을 사용하여 예약 취소 여부를 예측하는 모델을 구축하고 성능을 평가한다."
   ]
  },
  {
   "cell_type": "markdown",
   "id": "6c6a51df",
   "metadata": {},
   "source": [
    "## 3. 세부 분석 계획"
   ]
  },
  {
   "cell_type": "markdown",
   "id": "c2dd17a1",
   "metadata": {},
   "source": [
    "### 3.1. EDA (탐색적 데이터 분석)\n",
    "\n",
    "데이터의 잠재적 패턴과 이상 징후를 초기에 발견하기 위한 단계이다."
   ]
  },
  {
   "cell_type": "markdown",
   "id": "4300ac19",
   "metadata": {},
   "source": [
    "#### 3.1.0. 모듈 및 폰트 설정"
   ]
  },
  {
   "cell_type": "code",
   "execution_count": null,
   "id": "8897245c",
   "metadata": {},
   "outputs": [
    {
     "data": {
      "image/png": "[encoded data removed]",
      "text/plain": [
       "<Figure size 640x480 with 1 Axes>"
      ]
     },
     "metadata": {},
     "output_type": "display_data"
    }
   ],
   "source": [
    "import matplotlib as mpl\n",
    "import matplotlib.pyplot as plt\n",
    "\n",
    "# 한글 폰트 설정 (Windows 기본)\n",
    "mpl.rcParams['font.family'] = 'Malgun Gothic'\n",
    "mpl.rcParams['axes.unicode_minus'] = False  # 마이너스 기호 깨짐 방지\n",
    "\n",
    "plt.plot([1,2,3],[1,4,9])\n",
    "plt.title(\"한글 테스트 - 맑은 고딕\")\n",
    "plt.show()\n"
   ]
  },
  {
   "cell_type": "code",
   "execution_count": null,
   "id": "e07172a5",
   "metadata": {},
   "outputs": [],
   "source": [
    "import seaborn as sns\n",
    "import matplotlib.pyplot as plt\n",
    "import plotly.express as px"
   ]
  },
  {
   "cell_type": "markdown",
   "id": "719e377a",
   "metadata": {},
   "source": [
    "#### 3.1.1. 데이터 로드 및 기본 정보 확인\n",
    "\n",
    "-   **수행 내용:** `pandas` 라이브러리를 사용하여 `hotel_booking.csv` 파일을 DataFrame으로 로드한다. `.info()`, `.head()`, `.describe(include='all')` 함수를 통해 데이터의 전체적인 구조, 컬럼별 데이터 타입, 결측치 유무, 기초 통계량을 확인한다.\n",
    "-   **선택 근거:** 데이터 분석의 가장 첫 단계로, 데이터의 무결성(integrity)과 기본적인 특성을 파악하여 이후의 분석 계획을 구체화하는 데 필수적이다."
   ]
  },
  {
   "cell_type": "code",
   "execution_count": null,
   "id": "e7dc02e4",
   "metadata": {},
   "outputs": [],
   "source": [
    "import pandas as pd\n",
    "\n",
    "# 같은 경로에 있는 CSV 파일 로드\n",
    "file_path = 'hotel_booking.csv'\n",
    "df = pd.read_csv(file_path)\n",
    "\n",
    "df.head()"
   ]
  },
  {
   "cell_type": "markdown",
   "id": "ce4415f6",
   "metadata": {},
   "source": [
    "### 3.2. 데이터 전처리 (Data Preprocessing)\n",
    "\n",
    "분석의 정확성과 모델의 성능을 극대화하기 위해 데이터를 정제하고 구조화하는 단계이다."
   ]
  },
  {
   "cell_type": "code",
   "execution_count": null,
   "id": "33fe52df",
   "metadata": {},
   "outputs": [],
   "source": [
    "\n",
    "# CSV 파일 로드\n",
    "df = pd.read_csv(file_path)\n",
    "\n",
    "df = df.drop(columns=[\"hotel\"])\n",
    "\n",
    "df[\"arrival_date\"] = pd.to_datetime(\n",
    "    df[\"arrival_date_year\"].astype(str) + \" \" +\n",
    "    df[\"arrival_date_month\"].astype(str) + \" \" +\n",
    "    df[\"arrival_date_day_of_month\"].astype(str),\n",
    "    format=\"%Y %B %d\"\n",
    ")\n",
    "\n",
    "df[\"booking_date\"] = df[\"arrival_date\"] - pd.to_timedelta(df[\"lead_time\"], unit=\"D\")\n",
    "\n",
    "# NaN 값을 0으로 채운 후 정수형으로 변환\n",
    "df[\"adults\"] = df[\"adults\"].fillna(0).astype(int)\n",
    "df[\"children\"] = df[\"children\"].fillna(0).astype(int)\n",
    "df[\"babies\"] = df[\"babies\"].fillna(0).astype(int)\n",
    "\n",
    "\n",
    "df['total_guests'] = df['adults'] + df['children'] + df['babies']\n",
    "\n",
    "df = df.drop(columns=['name', 'email','phone-number', 'credit_card'])\n",
    "\n",
    "df['total_nights'] = df['stays_in_weekend_nights'] + df['stays_in_week_nights']\n",
    "\n",
    "df['is_child'] = (df['children'] > 0) | (df['babies'] > 0)"
   ]
  },
  {
   "cell_type": "markdown",
   "id": "413632db",
   "metadata": {},
   "source": [
    "#### 3.2.3. 결측치 및 무효 데이터 처리\n",
    "\n",
    "-   **수행 내용:**\n",
    "    1.  `total_guests`가 0인 행을 제거한다. (예약에 사람이 없는 경우는 데이터 오류)\n",
    "    2.  `stays_in_weekend_nights`와 `stays_in_week_nights`의 합이 0인 행을 제거한다. (최소 1박 이상 숙박해야 함)\n",
    "    3.  `children`, `country`, `agent` 컬럼의 결측치(NaN)를 처리한다.\n",
    "        -   `children`: 0으로 대체한다. (자녀가 없으면 비워두는 경우가 많음)\n",
    "        -   `country`: 최빈값(mode)으로 대체한다. (국적 정보는 중요 변수이므로 행 삭제보다 대체가 유리)\n",
    "        -   `agent`: 0으로 대체한다. (결측치는 에이전트를 통하지 않은 직접 예약을 의미할 가능성이 높음)\n",
    "-   **선택 근거:** 논리적으로 유효하지 않은 데이터를 제거하여 분석 결과의 신뢰도를 높인다. 결측치는 각 변수의 특성을 고려한 합리적인 방식으로 처리하여 데이터 손실을 최소화하고, 분석의 편향을 줄인다."
   ]
  },
  {
   "cell_type": "code",
   "execution_count": null,
   "id": "bc3f28e6",
   "metadata": {},
   "outputs": [
    {
     "data": {
      "text/plain": [
       "(180, 36)"
      ]
     },
     "metadata": {},
     "output_type": "display_data"
    }
   ],
   "source": [
    "df[df['total_guests'] <= 0].shape"
   ]
  },
  {
   "cell_type": "code",
   "execution_count": null,
   "id": "0139dfe4",
   "metadata": {},
   "outputs": [
    {
     "data": {
      "text/plain": [
       "(715, 36)"
      ]
     },
     "metadata": {},
     "output_type": "display_data"
    }
   ],
   "source": [
    "df[df['total_nights'] <= 0].shape"
   ]
  },
  {
   "cell_type": "code",
   "execution_count": null,
   "id": "84cd73c9",
   "metadata": {},
   "outputs": [],
   "source": [
    "# total_guests가 0인 행 제거\n",
    "df_cleaned = df[df['total_guests'] > 0]\n",
    "df_cleaned = df_cleaned[df_cleaned['total_nights'] > 0]"
   ]
  },
  {
   "cell_type": "markdown",
   "id": "76df4d72",
   "metadata": {},
   "source": [
    "#### 3.2.4. 이상치 처리 (현재 미적용, 추후 적용 계획)\n",
    "\n",
    "-   **수행 내용:** 현재 단계에서는 이상치를 처리하지 않으나, 향후 모델 성능 저하의 원인으로 판단될 경우 적용할 수 있도록 계획을 수립한다.\n",
    "-   **선택 근거:** 이상치는 실제 데이터의 중요한 특성일 수 있으므로, 무조건적인 제거는 정보 손실을 야기할 수 있다. 따라서 해당 분석에서는 그대로 두고 진행한다."
   ]
  },
  {
   "cell_type": "code",
   "execution_count": null,
   "id": "08854ad9",
   "metadata": {},
   "outputs": [],
   "source": [
    "# 이상치 처리 안 함"
   ]
  },
  {
   "cell_type": "markdown",
   "id": "17e8e73c",
   "metadata": {},
   "source": [
    "### 3.4. 고객 클러스터링 (Customer Clustering)\n",
    "\n",
    "고객을 행동 및 특성에 따라 그룹화하여 페르소나를 도출한다."
   ]
  },
  {
   "cell_type": "markdown",
   "id": "6f2953f1",
   "metadata": {},
   "source": [
    "#### 3.4.1. 클러스터링용 데이터 준비\n",
    "\n",
    "-   **수행 내용:** 클러스터링에 사용할 변수(`country`, `market_segment`, `distribution_channel`, `room_match_flag`, `customer_group`, `is_repeated_guest`)를 선택하여 새로운 데이터프레임을 생성한다.\n",
    "-   **선택 근거 및 누수 방지:**\n",
    "    -   요구사항에 명시된 변수들을 사용하여 고객의 예약 채널, 시장, 구성, 충성도, 서비스 만족도 등 다각적인 특성을 반영한다.\n",
    "    -   **[중요] 데이터 누수(Data Leakage) 방지:** 클러스터링은 기술적 세분화가 목적이므로 사후에 확정되는 `room_match_flag`를 사용하는 것이 허용된다. 하지만, 이 변수를 **예약 취소 예측 '지도학습' 모델**의 피처로 사용할 경우, 미래의 정보(체크인 시점에 확정되는 정보)를 사용하여 과거(예약 시점)의 일을 예측하는 **데이터 누수**가 발생하므로 **절대 사용해서는 안 된다.** 이 점을 명확히 인지하고 모델링 단계에서는 해당 변수를 제외한다."
   ]
  },
  {
   "cell_type": "code",
   "execution_count": null,
   "id": "9acf2ffe",
   "metadata": {},
   "outputs": [
    {
     "data": {
      "text/plain": [
       "Index(['is_canceled', 'lead_time', 'arrival_date_year', 'arrival_date_month',\n",
       "       'arrival_date_week_number', 'arrival_date_day_of_month',\n",
       "       'stays_in_weekend_nights', 'stays_in_week_nights', 'adults', 'children',\n",
       "       'babies', 'meal', 'country', 'market_segment', 'distribution_channel',\n",
       "       'is_repeated_guest', 'previous_cancellations',\n",
       "       'previous_bookings_not_canceled', 'reserved_room_type',\n",
       "       'assigned_room_type', 'booking_changes', 'deposit_type', 'agent',\n",
       "       'company', 'days_in_waiting_list', 'customer_type', 'adr',\n",
       "       'required_car_parking_spaces', 'total_of_special_requests',\n",
       "       'reservation_status', 'reservation_status_date', 'arrival_date',\n",
       "       'booking_date', 'total_guests', 'total_nights', 'is_child'],\n",
       "      dtype='object')"
      ]
     },
     "metadata": {},
     "output_type": "display_data"
    }
   ],
   "source": [
    "df_cleaned.columns"
   ]
  },
  {
   "cell_type": "code",
   "execution_count": null,
   "id": "a0898142",
   "metadata": {},
   "outputs": [],
   "source": [
    "# 클러스터링에 사용할 변수 선택\n",
    "clustering_features = ['lead_time','market_segment', 'distribution_channel', 'total_guests', 'is_child',\n",
    "       'customer_type', 'total_of_special_requests','total_nights']\n",
    "df_clustering = df_cleaned[clustering_features].copy()"
   ]
  },
  {
   "cell_type": "markdown",
   "id": "af83b918",
   "metadata": {},
   "source": [
    "#### 3.4.2. 범주형 변수 인코딩 및 스케일링\n",
    "\n",
    "-   **수행 내용:**\n",
    "    1.  `pd.get_dummies()` 함수를 사용하여 모든 범주형 변수를 원-핫 인코딩(One-Hot Encoding)으로 변환한다. `country`와 같이 범주가 매우 많은 변수는 상위 N개만 사용하고 나머지는 'Other'로 묶는 방식을 고려한다.\n",
    "    2.  `StandardScaler`를 사용하여 모든 변수를 표준 정규 분포(평균 0, 표준편차 1)를 따르도록 스케일링한다.\n",
    "-   **선택 근거:** 대부분의 군집 알고리즘(특히 K-Means)은 유클리드 거리를 기반으로 하므로, 모든 변수가 동일한 스케일을 갖도록 정규화해야 한다. 그렇지 않으면 특정 변수의 큰 값 범위가 군집 결과에 과도한 영향을 미치게 된다."
   ]
  },
  {
   "cell_type": "code",
   "execution_count": null,
   "id": "3a31d80d",
   "metadata": {},
   "outputs": [],
   "source": [
    "from sklearn.preprocessing import StandardScaler\n",
    "\n",
    "'''# Country 변수 처리: 상위 10개 국가만 남기고 나머지는 'Other'로 묶기\n",
    "top_countries = df_clustering['country'].value_counts().nlargest(10).index.tolist()\n",
    "df_clustering['country_processed'] = df_clustering['country'].apply(lambda x: x if x in top_countries else 'Other')'''\n",
    "\n",
    "# 범주형 변수 원-핫 인코딩 (처리된 country 변수 포함)\n",
    "categorical_features = ['market_segment', 'distribution_channel','is_child','customer_type']\n",
    "df_clustering_encoded = pd.get_dummies(df_clustering, columns=categorical_features, drop_first=True)\n",
    "\n",
    "# 스케일링 대상 변수 선택 (room_match_flag와 is_repeated_guest는 이미 0/1 값이므로 스케일링 제외)\n",
    "features_to_scale = df_clustering_encoded.columns.difference(['lead_time', 'total_guests', 'total_of_special_requests','total_nights'])\n",
    "\n",
    "# StandardScaler를 사용하여 스케일링\n",
    "scaler = StandardScaler()\n",
    "df_clustering_scaled = df_clustering_encoded.copy()\n",
    "df_clustering_scaled[features_to_scale] = scaler.fit_transform(df_clustering_encoded[features_to_scale])"
   ]
  },
  {
   "cell_type": "markdown",
   "id": "6b282c40",
   "metadata": {},
   "source": [
    "#### 3.4.3. 클러스터링 알고리즘 적용 및 비교\n",
    "\n",
    "-   **수행 내용:** 단일 알고리즘의 한계를 극복하고 데이터 구조에 가장 적합한 모델을 찾기 위해 여러 알고리즘을 비교/분석한다.\n",
    "    1.  **K-Means:**\n",
    "        -   **적용:** 엘보우 메소드(Elbow Method)와 실루엣 점수(Silhouette Score)를 사용하여 최적의 클러스터 개수(K)를 결정하고 모델을 학습시킨다.\n",
    "        -   **해석:** 각 클러스터의 중심(centroid) 값을 분석하여 그룹의 특성을 파악한다. 계산이 빠르고 해석이 용이하지만, 군집이 구형(spherical)이라고 가정하는 한계가 있다.\n",
    "    2.  **계층적 군집화 (Hierarchical Clustering):**\n",
    "        -   **적용:** 덴드로그램(Dendrogram)을 시각화하여 적절한 클러스터 개수를 결정하고, AgglomerativeClustering을 적용한다.\n",
    "        -   **해석:** 클러스터 간의 위계 관계를 파악할 수 있다. 데이터가 적을 때 유용하지만, 대용량 데이터에는 계산 비용이 높다.\n",
    "    3.  **DBSCAN:**\n",
    "        -   **적용:** `eps`와 `min_samples` 하이퍼파라미터를 조정하며 군집을 형성한다.\n",
    "        -   **해석:** 밀도 기반으로 군집을 형성하므로 K-Means로 찾기 어려운 복잡한 형태의 군집을 발견할 수 있으며, 노이즈(어떤 군집에도 속하지 않는 데이터)를 식별할 수 있다.\n",
    "-   **선택 근거:** 각 알고리즘은 서로 다른 가정과 장단점을 가지므로, 여러 모델을 비교하여 데이터의 숨겨진 구조를 가장 잘 표현하는 결과를 선택하는 것이 강건한(robust) 분석 방법이다."
   ]
  },
  {
   "cell_type": "code",
   "execution_count": null,
   "id": "0c875686",
   "metadata": {},
   "outputs": [
    {
     "data": {
      "image/png": "[encoded data removed]",
      "text/plain": [
       "<Figure size 800x400 with 1 Axes>"
      ]
     },
     "metadata": {},
     "output_type": "display_data"
    },
    {
     "name": "stdout",
     "output_type": "stream",
     "text": [
      "클러스터 개수 2의 실루엣 점수: 0.6580257074895086\n",
      "클러스터 개수 3의 실루엣 점수: 0.6235718282294159\n",
      "클러스터 개수 4의 실루엣 점수: 0.5853569202263611\n",
      "클러스터 개수 5의 실루엣 점수: 0.5896329029741436\n",
      "클러스터 개수 6의 실루엣 점수: 0.5591325942263554\n",
      "클러스터 개수 7의 실루엣 점수: 0.5482619628236705\n",
      "클러스터 개수 8의 실루엣 점수: 0.5413796502778611\n",
      "클러스터 개수 9의 실루엣 점수: 0.5430721424885695\n",
      "클러스터 개수 10의 실루엣 점수: 0.5269903777551145\n"
     ]
    }
   ],
   "source": [
    "from sklearn.cluster import KMeans\n",
    "from sklearn.metrics import silhouette_score\n",
    "import matplotlib.pyplot as plt\n",
    "\n",
    "# K-Means 클러스터링 (엘보우 메소드 및 실루엣 점수)\n",
    "\n",
    "# 엘보우 메소드를 위한 WSS (Within-Cluster Sum of Square)\n",
    "wss = []\n",
    "for i in range(1, 11): # 클러스터 개수 1부터 10까지 시도\n",
    "    kmeans = KMeans(n_clusters=i, init='k-means++', random_state=42, n_init=10)\n",
    "    kmeans.fit(df_clustering_scaled)\n",
    "    wss.append(kmeans.inertia_)\n",
    "\n",
    "# 엘보우 메소드 시각화\n",
    "plt.figure(figsize=(8, 4))\n",
    "plt.plot(range(1, 11), wss, marker='o')\n",
    "plt.title('엘보우 메소드')\n",
    "plt.xlabel('클러스터 개수 (K)')\n",
    "plt.ylabel('WSS')\n",
    "plt.xticks(range(1, 11))\n",
    "plt.grid(True)\n",
    "plt.show()\n",
    "\n",
    "# 실루엣 점수를 위한 계산\n",
    "silhouette_scores = []\n",
    "for i in range(2, 11): # 실루엣 점수는 클러스터 개수 2부터 계산 가능\n",
    "    kmeans = KMeans(n_clusters=i, init='k-means++', random_state=42, n_init=10)\n",
    "    kmeans.fit(df_clustering_scaled)\n",
    "    score = silhouette_score(df_clustering_scaled, kmeans.labels_)\n",
    "    silhouette_scores.append(score)\n",
    "    print(f\"클러스터 개수 {i}의 실루엣 점수: {score}\")"
   ]
  },
  {
   "cell_type": "code",
   "execution_count": null,
   "id": "fa07d4ac",
   "metadata": {},
   "outputs": [
    {
     "data": {
      "image/png": "[encoded data removed]",
      "text/plain": [
       "<Figure size 800x400 with 1 Axes>"
      ]
     },
     "metadata": {},
     "output_type": "display_data"
    }
   ],
   "source": [
    "# 실루엣 점수 시각화\n",
    "plt.figure(figsize=(8, 4))\n",
    "plt.plot(range(2, 11), silhouette_scores, marker='o')\n",
    "plt.title('클러스터 개수에 따른 실루엣 점수')\n",
    "plt.xlabel('클러스터 개수 (K)')\n",
    "plt.ylabel('실루엣 점수')\n",
    "plt.xticks(range(2, 11))\n",
    "plt.grid(True)\n",
    "plt.show()"
   ]
  },
  {
   "cell_type": "markdown",
   "id": "3f0df82d",
   "metadata": {},
   "source": [
    "#### 3.4.4. 클러스터 시각화 및 해석\n"
   ]
  },
  {
   "cell_type": "code",
   "execution_count": null,
   "id": "9a3cc6e8",
   "metadata": {},
   "outputs": [],
   "source": [
    "optimal_k = 5\n",
    "\n",
    "# 최적의 K로 K-Means 모델 학습\n",
    "# optimal_k는 이전 셀에서 결정된 값 사용\n",
    "kmeans_final = KMeans(n_clusters=optimal_k, init='k-means++', random_state=42, n_init=10)\n",
    "kmeans_final.fit(df_clustering_scaled)\n",
    "\n",
    "# 원본 데이터프레임에 클러스터 라벨 추가\n",
    "df_resort_clustered = df_cleaned.copy()\n",
    "df_resort_clustered['cluster_label'] = kmeans_final.labels_"
   ]
  },
  {
   "cell_type": "code",
   "execution_count": null,
   "id": "5fa1d3d3",
   "metadata": {},
   "outputs": [],
   "source": [
    "df_resort_clustered.to_csv('hotel_customer_clustered.csv')"
   ]
  },
  {
   "cell_type": "code",
   "execution_count": null,
   "id": "b16f52b9",
   "metadata": {},
   "outputs": [],
   "source": [
    "df = pd.read_csv('hotel_customer_clustered.csv')\n",
    "df = df.drop(columns=['Unnamed: 0'])\n",
    "df.to_csv('hotel_customer_clustered.csv')"
   ]
  },
  {
   "cell_type": "code",
   "execution_count": null,
   "id": "2005b1fd",
   "metadata": {},
   "outputs": [
    {
     "name": "stdout",
     "output_type": "stream",
     "text": [
      "5개 클러스터 프로파일링 결과:\n"
     ]
    },
    {
     "data": {
      "text/html": [
       "<div>\n",
       "<style scoped>\n",
       "    .dataframe tbody tr th:only-of-type {\n",
       "        vertical-align: middle;\n",
       "    }\n",
       "\n",
       "    .dataframe tbody tr th {\n",
       "        vertical-align: top;\n",
       "    }\n",
       "\n",
       "    .dataframe thead th {\n",
       "        text-align: right;\n",
       "    }\n",
       "</style>\n",
       "<table border=\"1\" class=\"dataframe\">\n",
       "  <thead>\n",
       "    <tr style=\"text-align: right;\">\n",
       "      <th></th>\n",
       "      <th>cluster_label</th>\n",
       "      <th>adr_mean</th>\n",
       "      <th>lead_time_mean</th>\n",
       "      <th>total_guests_mean</th>\n",
       "      <th>total_nights_mean</th>\n",
       "      <th>is_canceled_rate</th>\n",
       "      <th>market_segment_mode</th>\n",
       "      <th>is_repeated_guest_ratio</th>\n",
       "    </tr>\n",
       "  </thead>\n",
       "  <tbody>\n",
       "    <tr>\n",
       "      <th>0</th>\n",
       "      <td>0</td>\n",
       "      <td>102.183270</td>\n",
       "      <td>18.116142</td>\n",
       "      <td>1.883917</td>\n",
       "      <td>2.790937</td>\n",
       "      <td>0.231195</td>\n",
       "      <td>Online TA</td>\n",
       "      <td>0.058217</td>\n",
       "    </tr>\n",
       "    <tr>\n",
       "      <th>1</th>\n",
       "      <td>1</td>\n",
       "      <td>78.803145</td>\n",
       "      <td>434.400352</td>\n",
       "      <td>1.911782</td>\n",
       "      <td>2.639801</td>\n",
       "      <td>0.670574</td>\n",
       "      <td>Groups</td>\n",
       "      <td>0.001465</td>\n",
       "    </tr>\n",
       "    <tr>\n",
       "      <th>2</th>\n",
       "      <td>2</td>\n",
       "      <td>107.940864</td>\n",
       "      <td>175.652172</td>\n",
       "      <td>2.049239</td>\n",
       "      <td>4.311630</td>\n",
       "      <td>0.456609</td>\n",
       "      <td>Online TA</td>\n",
       "      <td>0.004362</td>\n",
       "    </tr>\n",
       "    <tr>\n",
       "      <th>3</th>\n",
       "      <td>3</td>\n",
       "      <td>107.451620</td>\n",
       "      <td>88.908603</td>\n",
       "      <td>2.051421</td>\n",
       "      <td>3.813614</td>\n",
       "      <td>0.416440</td>\n",
       "      <td>Online TA</td>\n",
       "      <td>0.006243</td>\n",
       "    </tr>\n",
       "    <tr>\n",
       "      <th>4</th>\n",
       "      <td>4</td>\n",
       "      <td>89.155852</td>\n",
       "      <td>286.860636</td>\n",
       "      <td>2.030934</td>\n",
       "      <td>3.990607</td>\n",
       "      <td>0.627095</td>\n",
       "      <td>Groups</td>\n",
       "      <td>0.017653</td>\n",
       "    </tr>\n",
       "  </tbody>\n",
       "</table>\n",
       "</div>"
      ],
      "text/plain": [
       "   cluster_label    adr_mean  lead_time_mean  total_guests_mean  \\\n",
       "0              0  102.183270       18.116142           1.883917   \n",
       "1              1   78.803145      434.400352           1.911782   \n",
       "2              2  107.940864      175.652172           2.049239   \n",
       "3              3  107.451620       88.908603           2.051421   \n",
       "4              4   89.155852      286.860636           2.030934   \n",
       "\n",
       "   total_nights_mean  is_canceled_rate market_segment_mode  \\\n",
       "0           2.790937          0.231195           Online TA   \n",
       "1           2.639801          0.670574              Groups   \n",
       "2           4.311630          0.456609           Online TA   \n",
       "3           3.813614          0.416440           Online TA   \n",
       "4           3.990607          0.627095              Groups   \n",
       "\n",
       "   is_repeated_guest_ratio  \n",
       "0                 0.058217  \n",
       "1                 0.001465  \n",
       "2                 0.004362  \n",
       "3                 0.006243  \n",
       "4                 0.017653  "
      ]
     },
     "metadata": {},
     "output_type": "display_data"
    }
   ],
   "source": [
    "# 클러스터별 특성 분석\n",
    "# 수치형 변수의 평균, 범주형 변수의 최빈값 또는 비율 등을 계산\n",
    "cluster_profiling = df_resort_clustered.groupby('cluster_label').agg(\n",
    "    # 수치형 변수 예시 (필요에 따라 추가/변경)\n",
    "    adr_mean=('adr', 'mean'),\n",
    "    lead_time_mean=('lead_time', 'mean'),\n",
    "    total_guests_mean=('total_guests', 'mean'),\n",
    "    total_nights_mean=('total_nights', 'mean'),\n",
    "    is_canceled_rate=('is_canceled', 'mean'), # 취소율\n",
    "\n",
    "    # 범주형 변수 예시 (최빈값 또는 비율 계산, 필요에 따라 추가/변경)\n",
    "    market_segment_mode=('market_segment', lambda x: x.mode()[0] if not x.mode().empty else 'N/A'),\n",
    "    is_repeated_guest_ratio=('is_repeated_guest', 'mean'), # 반복 고객 비율\n",
    "\n",
    "    # 다른 변수들에 대해서도 유사하게 분석 가능\n",
    ").reset_index()\n",
    "\n",
    "print(f\"{optimal_k}개 클러스터 프로파일링 결과:\")\n",
    "display(cluster_profiling)"
   ]
  },
  {
   "cell_type": "code",
   "execution_count": null,
   "id": "1aaf33b2",
   "metadata": {},
   "outputs": [
    {
     "data": {
      "application/vnd.plotly.v1+json": {
       "config": {
        "plotlyServerURL": "https://plot.ly"
       },
       "data": [
        {
         "domain": {
          "x": [
           0,
           0.16799999999999998
          ],
          "y": [
           0,
           1
          ]
         },
         "labels": [
          "Aviation",
          "Complementary",
          "Corporate",
          "Direct",
          "Groups",
          "Offline TA/TO",
          "Online TA",
          "Undefined"
         ],
         "name": "클러스터 0",
         "type": "pie",
         "values": {
          "bdata": "5wCZAtsRVyF/DvAb5GcCAA==",
          "dtype": "i2"
         }
        },
        {
         "domain": {
          "x": [
           0.208,
           0.376
          ],
          "y": [
           0,
           1
          ]
         },
         "labels": [
          "Complementary",
          "Direct",
          "Groups",
          "Offline TA/TO",
          "Online TA"
         ],
         "name": "클러스터 1",
         "type": "pie",
         "values": {
          "bdata": "AQAFAOIIUwQZAA==",
          "dtype": "i2"
         }
        },
        {
         "domain": {
          "x": [
           0.416,
           0.584
          ],
          "y": [
           0,
           1
          ]
         },
         "labels": [
          "Complementary",
          "Corporate",
          "Direct",
          "Groups",
          "Offline TA/TO",
          "Online TA"
         ],
         "name": "클러스터 2",
         "type": "pie",
         "values": {
          "bdata": "AgBMAFIF2xBhFlAn",
          "dtype": "i2"
         }
        },
        {
         "domain": {
          "x": [
           0.624,
           0.792
          ],
          "y": [
           0,
           1
          ]
         },
         "labels": [
          "Complementary",
          "Corporate",
          "Direct",
          "Groups",
          "Offline TA/TO",
          "Online TA"
         ],
         "name": "클러스터 3",
         "type": "pie",
         "values": {
          "bdata": "LAAtAncICRIIGYA+",
          "dtype": "i2"
         }
        },
        {
         "domain": {
          "x": [
           0.832,
           1
          ],
          "y": [
           0,
           1
          ]
         },
         "labels": [
          "Complementary",
          "Corporate",
          "Direct",
          "Groups",
          "Offline TA/TO",
          "Online TA"
         ],
         "name": "클러스터 4",
         "type": "pie",
         "values": {
          "bdata": "AwAbAHwB6hJFDnQN",
          "dtype": "i2"
         }
        }
       ],
       "layout": {
        "annotations": [
         {
          "font": {
           "size": 16
          },
          "showarrow": false,
          "text": "클러스터 0",
          "x": 0.08399999999999999,
          "xanchor": "center",
          "xref": "paper",
          "y": 1,
          "yanchor": "bottom",
          "yref": "paper"
         },
         {
          "font": {
           "size": 16
          },
          "showarrow": false,
          "text": "클러스터 1",
          "x": 0.292,
          "xanchor": "center",
          "xref": "paper",
          "y": 1,
          "yanchor": "bottom",
          "yref": "paper"
         },
         {
          "font": {
           "size": 16
          },
          "showarrow": false,
          "text": "클러스터 2",
          "x": 0.5,
          "xanchor": "center",
          "xref": "paper",
          "y": 1,
          "yanchor": "bottom",
          "yref": "paper"
         },
         {
          "font": {
           "size": 16
          },
          "showarrow": false,
          "text": "클러스터 3",
          "x": 0.708,
          "xanchor": "center",
          "xref": "paper",
          "y": 1,
          "yanchor": "bottom",
          "yref": "paper"
         },
         {
          "font": {
           "size": 16
          },
          "showarrow": false,
          "text": "클러스터 4",
          "x": 0.9159999999999999,
          "xanchor": "center",
          "xref": "paper",
          "y": 1,
          "yanchor": "bottom",
          "yref": "paper"
         }
        ],
        "height": 400,
        "template": {
         "data": {
          "bar": [
           {
            "error_x": {
             "color": "#2a3f5f"
            },
            "error_y": {
             "color": "#2a3f5f"
            },
            "marker": {
             "line": {
              "color": "#E5ECF6",
              "width": 0.5
             },
             "pattern": {
              "fillmode": "overlay",
              "size": 10,
              "solidity": 0.2
             }
            },
            "type": "bar"
           }
          ],
          "barpolar": [
           {
            "marker": {
             "line": {
              "color": "#E5ECF6",
              "width": 0.5
             },
             "pattern": {
              "fillmode": "overlay",
              "size": 10,
              "solidity": 0.2
             }
            },
            "type": "barpolar"
           }
          ],
          "carpet": [
           {
            "aaxis": {
             "endlinecolor": "#2a3f5f",
             "gridcolor": "white",
             "linecolor": "white",
             "minorgridcolor": "white",
             "startlinecolor": "#2a3f5f"
            },
            "baxis": {
             "endlinecolor": "#2a3f5f",
             "gridcolor": "white",
             "linecolor": "white",
             "minorgridcolor": "white",
             "startlinecolor": "#2a3f5f"
            },
            "type": "carpet"
           }
          ],
          "choropleth": [
           {
            "colorbar": {
             "outlinewidth": 0,
             "ticks": ""
            },
            "type": "choropleth"
           }
          ],
          "contour": [
           {
            "colorbar": {
             "outlinewidth": 0,
             "ticks": ""
            },
            "colorscale": [
             [
              0,
              "#0d0887"
             ],
             [
              0.1111111111111111,
              "#46039f"
             ],
             [
              0.2222222222222222,
              "#7201a8"
             ],
             [
              0.3333333333333333,
              "#9c179e"
             ],
             [
              0.4444444444444444,
              "#bd3786"
             ],
             [
              0.5555555555555556,
              "#d8576b"
             ],
             [
              0.6666666666666666,
              "#ed7953"
             ],
             [
              0.7777777777777778,
              "#fb9f3a"
             ],
             [
              0.8888888888888888,
              "#fdca26"
             ],
             [
              1,
              "#f0f921"
             ]
            ],
            "type": "contour"
           }
          ],
          "contourcarpet": [
           {
            "colorbar": {
             "outlinewidth": 0,
             "ticks": ""
            },
            "type": "contourcarpet"
           }
          ],
          "heatmap": [
           {
            "colorbar": {
             "outlinewidth": 0,
             "ticks": ""
            },
            "colorscale": [
             [
              0,
              "#0d0887"
             ],
             [
              0.1111111111111111,
              "#46039f"
             ],
             [
              0.2222222222222222,
              "#7201a8"
             ],
             [
              0.3333333333333333,
              "#9c179e"
             ],
             [
              0.4444444444444444,
              "#bd3786"
             ],
             [
              0.5555555555555556,
              "#d8576b"
             ],
             [
              0.6666666666666666,
              "#ed7953"
             ],
             [
              0.7777777777777778,
              "#fb9f3a"
             ],
             [
              0.8888888888888888,
              "#fdca26"
             ],
             [
              1,
              "#f0f921"
             ]
            ],
            "type": "heatmap"
           }
          ],
          "histogram": [
           {
            "marker": {
             "pattern": {
              "fillmode": "overlay",
              "size": 10,
              "solidity": 0.2
             }
            },
            "type": "histogram"
           }
          ],
          "histogram2d": [
           {
            "colorbar": {
             "outlinewidth": 0,
             "ticks": ""
            },
            "colorscale": [
             [
              0,
              "#0d0887"
             ],
             [
              0.1111111111111111,
              "#46039f"
             ],
             [
              0.2222222222222222,
              "#7201a8"
             ],
             [
              0.3333333333333333,
              "#9c179e"
             ],
             [
              0.4444444444444444,
              "#bd3786"
             ],
             [
              0.5555555555555556,
              "#d8576b"
             ],
             [
              0.6666666666666666,
              "#ed7953"
             ],
             [
              0.7777777777777778,
              "#fb9f3a"
             ],
             [
              0.8888888888888888,
              "#fdca26"
             ],
             [
              1,
              "#f0f921"
             ]
            ],
            "type": "histogram2d"
           }
          ],
          "histogram2dcontour": [
           {
            "colorbar": {
             "outlinewidth": 0,
             "ticks": ""
            },
            "colorscale": [
             [
              0,
              "#0d0887"
             ],
             [
              0.1111111111111111,
              "#46039f"
             ],
             [
              0.2222222222222222,
              "#7201a8"
             ],
             [
              0.3333333333333333,
              "#9c179e"
             ],
             [
              0.4444444444444444,
              "#bd3786"
             ],
             [
              0.5555555555555556,
              "#d8576b"
             ],
             [
              0.6666666666666666,
              "#ed7953"
             ],
             [
              0.7777777777777778,
              "#fb9f3a"
             ],
             [
              0.8888888888888888,
              "#fdca26"
             ],
             [
              1,
              "#f0f921"
             ]
            ],
            "type": "histogram2dcontour"
           }
          ],
          "mesh3d": [
           {
            "colorbar": {
             "outlinewidth": 0,
             "ticks": ""
            },
            "type": "mesh3d"
           }
          ],
          "parcoords": [
           {
            "line": {
             "colorbar": {
              "outlinewidth": 0,
              "ticks": ""
             }
            },
            "type": "parcoords"
           }
          ],
          "pie": [
           {
            "automargin": true,
            "type": "pie"
           }
          ],
          "scatter": [
           {
            "fillpattern": {
             "fillmode": "overlay",
             "size": 10,
             "solidity": 0.2
            },
            "type": "scatter"
           }
          ],
          "scatter3d": [
           {
            "line": {
             "colorbar": {
              "outlinewidth": 0,
              "ticks": ""
             }
            },
            "marker": {
             "colorbar": {
              "outlinewidth": 0,
              "ticks": ""
             }
            },
            "type": "scatter3d"
           }
          ],
          "scattercarpet": [
           {
            "marker": {
             "colorbar": {
              "outlinewidth": 0,
              "ticks": ""
             }
            },
            "type": "scattercarpet"
           }
          ],
          "scattergeo": [
           {
            "marker": {
             "colorbar": {
              "outlinewidth": 0,
              "ticks": ""
             }
            },
            "type": "scattergeo"
           }
          ],
          "scattergl": [
           {
            "marker": {
             "colorbar": {
              "outlinewidth": 0,
              "ticks": ""
             }
            },
            "type": "scattergl"
           }
          ],
          "scattermap": [
           {
            "marker": {
             "colorbar": {
              "outlinewidth": 0,
              "ticks": ""
             }
            },
            "type": "scattermap"
           }
          ],
          "scattermapbox": [
           {
            "marker": {
             "colorbar": {
              "outlinewidth": 0,
              "ticks": ""
             }
            },
            "type": "scattermapbox"
           }
          ],
          "scatterpolar": [
           {
            "marker": {
             "colorbar": {
              "outlinewidth": 0,
              "ticks": ""
             }
            },
            "type": "scatterpolar"
           }
          ],
          "scatterpolargl": [
           {
            "marker": {
             "colorbar": {
              "outlinewidth": 0,
              "ticks": ""
             }
            },
            "type": "scatterpolargl"
           }
          ],
          "scatterternary": [
           {
            "marker": {
             "colorbar": {
              "outlinewidth": 0,
              "ticks": ""
             }
            },
            "type": "scatterternary"
           }
          ],
          "surface": [
           {
            "colorbar": {
             "outlinewidth": 0,
             "ticks": ""
            },
            "colorscale": [
             [
              0,
              "#0d0887"
             ],
             [
              0.1111111111111111,
              "#46039f"
             ],
             [
              0.2222222222222222,
              "#7201a8"
             ],
             [
              0.3333333333333333,
              "#9c179e"
             ],
             [
              0.4444444444444444,
              "#bd3786"
             ],
             [
              0.5555555555555556,
              "#d8576b"
             ],
             [
              0.6666666666666666,
              "#ed7953"
             ],
             [
              0.7777777777777778,
              "#fb9f3a"
             ],
             [
              0.8888888888888888,
              "#fdca26"
             ],
             [
              1,
              "#f0f921"
             ]
            ],
            "type": "surface"
           }
          ],
          "table": [
           {
            "cells": {
             "fill": {
              "color": "#EBF0F8"
             },
             "line": {
              "color": "white"
             }
            },
            "header": {
             "fill": {
              "color": "#C8D4E3"
             },
             "line": {
              "color": "white"
             }
            },
            "type": "table"
           }
          ]
         },
         "layout": {
          "annotationdefaults": {
           "arrowcolor": "#2a3f5f",
           "arrowhead": 0,
           "arrowwidth": 1
          },
          "autotypenumbers": "strict",
          "coloraxis": {
           "colorbar": {
            "outlinewidth": 0,
            "ticks": ""
           }
          },
          "colorscale": {
           "diverging": [
            [
             0,
             "#8e0152"
            ],
            [
             0.1,
             "#c51b7d"
            ],
            [
             0.2,
             "#de77ae"
            ],
            [
             0.3,
             "#f1b6da"
            ],
            [
             0.4,
             "#fde0ef"
            ],
            [
             0.5,
             "#f7f7f7"
            ],
            [
             0.6,
             "#e6f5d0"
            ],
            [
             0.7,
             "#b8e186"
            ],
            [
             0.8,
             "#7fbc41"
            ],
            [
             0.9,
             "#4d9221"
            ],
            [
             1,
             "#276419"
            ]
           ],
           "sequential": [
            [
             0,
             "#0d0887"
            ],
            [
             0.1111111111111111,
             "#46039f"
            ],
            [
             0.2222222222222222,
             "#7201a8"
            ],
            [
             0.3333333333333333,
             "#9c179e"
            ],
            [
             0.4444444444444444,
             "#bd3786"
            ],
            [
             0.5555555555555556,
             "#d8576b"
            ],
            [
             0.6666666666666666,
             "#ed7953"
            ],
            [
             0.7777777777777778,
             "#fb9f3a"
            ],
            [
             0.8888888888888888,
             "#fdca26"
            ],
            [
             1,
             "#f0f921"
            ]
           ],
           "sequentialminus": [
            [
             0,
             "#0d0887"
            ],
            [
             0.1111111111111111,
             "#46039f"
            ],
            [
             0.2222222222222222,
             "#7201a8"
            ],
            [
             0.3333333333333333,
             "#9c179e"
            ],
            [
             0.4444444444444444,
             "#bd3786"
            ],
            [
             0.5555555555555556,
             "#d8576b"
            ],
            [
             0.6666666666666666,
             "#ed7953"
            ],
            [
             0.7777777777777778,
             "#fb9f3a"
            ],
            [
             0.8888888888888888,
             "#fdca26"
            ],
            [
             1,
             "#f0f921"
            ]
           ]
          },
          "colorway": [
           "#636efa",
           "#EF553B",
           "#00cc96",
           "#ab63fa",
           "#FFA15A",
           "#19d3f3",
           "#FF6692",
           "#B6E880",
           "#FF97FF",
           "#FECB52"
          ],
          "font": {
           "color": "#2a3f5f"
          },
          "geo": {
           "bgcolor": "white",
           "lakecolor": "white",
           "landcolor": "#E5ECF6",
           "showlakes": true,
           "showland": true,
           "subunitcolor": "white"
          },
          "hoverlabel": {
           "align": "left"
          },
          "hovermode": "closest",
          "mapbox": {
           "style": "light"
          },
          "paper_bgcolor": "white",
          "plot_bgcolor": "#E5ECF6",
          "polar": {
           "angularaxis": {
            "gridcolor": "white",
            "linecolor": "white",
            "ticks": ""
           },
           "bgcolor": "#E5ECF6",
           "radialaxis": {
            "gridcolor": "white",
            "linecolor": "white",
            "ticks": ""
           }
          },
          "scene": {
           "xaxis": {
            "backgroundcolor": "#E5ECF6",
            "gridcolor": "white",
            "gridwidth": 2,
            "linecolor": "white",
            "showbackground": true,
            "ticks": "",
            "zerolinecolor": "white"
           },
           "yaxis": {
            "backgroundcolor": "#E5ECF6",
            "gridcolor": "white",
            "gridwidth": 2,
            "linecolor": "white",
            "showbackground": true,
            "ticks": "",
            "zerolinecolor": "white"
           },
           "zaxis": {
            "backgroundcolor": "#E5ECF6",
            "gridcolor": "white",
            "gridwidth": 2,
            "linecolor": "white",
            "showbackground": true,
            "ticks": "",
            "zerolinecolor": "white"
           }
          },
          "shapedefaults": {
           "line": {
            "color": "#2a3f5f"
           }
          },
          "ternary": {
           "aaxis": {
            "gridcolor": "white",
            "linecolor": "white",
            "ticks": ""
           },
           "baxis": {
            "gridcolor": "white",
            "linecolor": "white",
            "ticks": ""
           },
           "bgcolor": "#E5ECF6",
           "caxis": {
            "gridcolor": "white",
            "linecolor": "white",
            "ticks": ""
           }
          },
          "title": {
           "x": 0.05
          },
          "xaxis": {
           "automargin": true,
           "gridcolor": "white",
           "linecolor": "white",
           "ticks": "",
           "title": {
            "standoff": 15
           },
           "zerolinecolor": "white",
           "zerolinewidth": 2
          },
          "yaxis": {
           "automargin": true,
           "gridcolor": "white",
           "linecolor": "white",
           "ticks": "",
           "title": {
            "standoff": 15
           },
           "zerolinecolor": "white",
           "zerolinewidth": 2
          }
         }
        },
        "title": {
         "text": "클러스터별 Market Segment 분포"
        },
        "width": 1200
       }
      }
     },
     "metadata": {},
     "output_type": "display_data"
    }
   ],
   "source": [
    "import plotly.express as px\n",
    "import pandas as pd\n",
    "from plotly.subplots import make_subplots\n",
    "import plotly.graph_objects as go\n",
    "\n",
    "# df_resort_clustered DataFrame 사용\n",
    "\n",
    "# 클러스터별 market_segment 분포 계산\n",
    "df_market_segment_cluster = df_resort_clustered.groupby(['cluster_label', 'market_segment']).size().reset_index(name='count')\n",
    "\n",
    "# 각 클러스터별 파이 차트 생성\n",
    "clusters = sorted(df_market_segment_cluster['cluster_label'].unique())\n",
    "num_clusters = len(clusters)\n",
    "\n",
    "# 서브플롯 설정 (한 줄에 모든 파이 차트 표시)\n",
    "rows = 1\n",
    "cols = num_clusters\n",
    "\n",
    "fig_market_segment = make_subplots(rows=rows, cols=cols, specs=[[{'type':'domain'}]*cols],\n",
    "                                   subplot_titles=[f'클러스터 {c}' for c in clusters])\n",
    "\n",
    "# 각 클러스터에 대해 파이 차트 추가\n",
    "for i, cluster in enumerate(clusters):\n",
    "    df_cluster = df_market_segment_cluster[df_market_segment_cluster['cluster_label'] == cluster]\n",
    "    if not df_cluster.empty:\n",
    "        fig_market_segment.add_trace(go.Pie(labels=df_cluster['market_segment'], values=df_cluster['count'], name=f'클러스터 {cluster}'),\n",
    "                                     1, i+1) # row, col 순서 (1행 i+1열)\n",
    "\n",
    "fig_market_segment.update_layout(title_text='클러스터별 Market Segment 분포', height=400, width=1200) # 차트 크기 조정\n",
    "fig_market_segment.show()"
   ]
  },
  {
   "cell_type": "code",
   "execution_count": null,
   "id": "927d49dc",
   "metadata": {},
   "outputs": [
    {
     "name": "stdout",
     "output_type": "stream",
     "text": [
      "클러스터별 특성 프로파일 (평균값):\n"
     ]
    },
    {
     "data": {
      "text/html": [
       "<div>\n",
       "<style scoped>\n",
       "    .dataframe tbody tr th:only-of-type {\n",
       "        vertical-align: middle;\n",
       "    }\n",
       "\n",
       "    .dataframe tbody tr th {\n",
       "        vertical-align: top;\n",
       "    }\n",
       "\n",
       "    .dataframe thead th {\n",
       "        text-align: right;\n",
       "    }\n",
       "</style>\n",
       "<table border=\"1\" class=\"dataframe\">\n",
       "  <thead>\n",
       "    <tr style=\"text-align: right;\">\n",
       "      <th></th>\n",
       "      <th>adr</th>\n",
       "      <th>lead_time</th>\n",
       "      <th>total_guests</th>\n",
       "      <th>stays_in_weekend_nights</th>\n",
       "      <th>stays_in_week_nights</th>\n",
       "    </tr>\n",
       "    <tr>\n",
       "      <th>cluster_label</th>\n",
       "      <th></th>\n",
       "      <th></th>\n",
       "      <th></th>\n",
       "      <th></th>\n",
       "      <th></th>\n",
       "    </tr>\n",
       "  </thead>\n",
       "  <tbody>\n",
       "    <tr>\n",
       "      <th>0</th>\n",
       "      <td>102.183270</td>\n",
       "      <td>18.116142</td>\n",
       "      <td>1.883917</td>\n",
       "      <td>0.756466</td>\n",
       "      <td>2.034471</td>\n",
       "    </tr>\n",
       "    <tr>\n",
       "      <th>1</th>\n",
       "      <td>78.803145</td>\n",
       "      <td>434.400352</td>\n",
       "      <td>1.911782</td>\n",
       "      <td>0.570340</td>\n",
       "      <td>2.069461</td>\n",
       "    </tr>\n",
       "    <tr>\n",
       "      <th>2</th>\n",
       "      <td>107.940864</td>\n",
       "      <td>175.652172</td>\n",
       "      <td>2.049239</td>\n",
       "      <td>1.175654</td>\n",
       "      <td>3.135975</td>\n",
       "    </tr>\n",
       "    <tr>\n",
       "      <th>3</th>\n",
       "      <td>107.451620</td>\n",
       "      <td>88.908603</td>\n",
       "      <td>2.051421</td>\n",
       "      <td>1.064747</td>\n",
       "      <td>2.748867</td>\n",
       "    </tr>\n",
       "    <tr>\n",
       "      <th>4</th>\n",
       "      <td>89.155852</td>\n",
       "      <td>286.860636</td>\n",
       "      <td>2.030934</td>\n",
       "      <td>1.018949</td>\n",
       "      <td>2.971658</td>\n",
       "    </tr>\n",
       "  </tbody>\n",
       "</table>\n",
       "</div>"
      ],
      "text/plain": [
       "                      adr   lead_time  total_guests  stays_in_weekend_nights  \\\n",
       "cluster_label                                                                  \n",
       "0              102.183270   18.116142      1.883917                 0.756466   \n",
       "1               78.803145  434.400352      1.911782                 0.570340   \n",
       "2              107.940864  175.652172      2.049239                 1.175654   \n",
       "3              107.451620   88.908603      2.051421                 1.064747   \n",
       "4               89.155852  286.860636      2.030934                 1.018949   \n",
       "\n",
       "               stays_in_week_nights  \n",
       "cluster_label                        \n",
       "0                          2.034471  \n",
       "1                          2.069461  \n",
       "2                          3.135975  \n",
       "3                          2.748867  \n",
       "4                          2.971658  "
      ]
     },
     "metadata": {},
     "output_type": "display_data"
    },
    {
     "data": {
      "image/png": "[encoded data removed]",
      "text/plain": [
       "<Figure size 1200x700 with 1 Axes>"
      ]
     },
     "metadata": {},
     "output_type": "display_data"
    }
   ],
   "source": [
    "import seaborn as sns\n",
    "import matplotlib.pyplot as plt\n",
    "from sklearn.preprocessing import StandardScaler\n",
    "import pandas as pd # pandas 임포트 추가\n",
    "\n",
    "# df_resort_clustered DataFrame 사용 및 'cluster_label'로 그룹화\n",
    "# 실제 데이터에 있는 수치형 컬럼들 사용 (예시: adr, lead_time, total_guests 등)\n",
    "# cluster_profile = df.groupby(\"cluster\")[[\"Income\",\"Spent\",\"Recency\",\"Age\"]].mean() # <-- 오류 코드\n",
    "\n",
    "# 클러스터별 수치형 변수 평균 계산\n",
    "cluster_profile_actual = df_resort_clustered.groupby(\"cluster_label\")[['adr', 'lead_time', 'total_guests', 'stays_in_weekend_nights', 'stays_in_week_nights']].mean()\n",
    "\n",
    "\n",
    "print(\"클러스터별 특성 프로파일 (평균값):\")\n",
    "display(cluster_profile_actual)\n",
    "\n",
    "# 클러스터 프로파일 데이터 스케일링\n",
    "scaler_profile = StandardScaler()\n",
    "cluster_profile_scaled = scaler_profile.fit_transform(cluster_profile_actual)\n",
    "\n",
    "# 스케일링된 데이터를 DataFrame으로 변환 (시각화를 위해)\n",
    "cluster_profile_scaled_df = pd.DataFrame(cluster_profile_scaled, columns=cluster_profile_actual.columns, index=cluster_profile_actual.index)\n",
    "\n",
    "\n",
    "# 클러스터 프로파일 시각화 (스케일링된 값 사용)\n",
    "cluster_profile_scaled_df.plot(kind=\"bar\", figsize=(12, 7))\n",
    "plt.title(\"클러스터별 주요 특성 평균값 (스케일링됨)\")\n",
    "plt.xlabel(\"클러스터 라벨\")\n",
    "plt.ylabel(\"스케일링된 평균 값\")\n",
    "plt.xticks(rotation=0) # 클러스터 라벨이 숫자이므로 회전 불필요\n",
    "plt.tight_layout()\n",
    "plt.show()"
   ]
  },
  {
   "cell_type": "code",
   "execution_count": null,
   "id": "94d9dc65",
   "metadata": {},
   "outputs": [
    {
     "data": {
      "application/vnd.plotly.v1+json": {
       "config": {
        "plotlyServerURL": "https://plot.ly"
       },
       "data": [
        {
         "domain": {
          "x": [
           0,
           0.16799999999999998
          ],
          "y": [
           0,
           1
          ]
         },
         "hoverinfo": "label+value+percent",
         "labels": [
          "A",
          "B",
          "C",
          "D",
          "E",
          "F",
          "G",
          "H",
          "L"
         ],
         "name": "클러스터 0",
         "type": "pie",
         "values": {
          "bdata": "4Y0AAKkBAADPAQAAQiAAAKoLAAA/BgAAOQQAAEQBAAAGAAAA",
          "dtype": "i4"
         }
        },
        {
         "domain": {
          "x": [
           0.208,
           0.376
          ],
          "y": [
           0,
           1
          ]
         },
         "hoverinfo": "label+value+percent",
         "labels": [
          "A",
          "B",
          "C",
          "D",
          "E",
          "F",
          "G"
         ],
         "name": "클러스터 1",
         "type": "pie",
         "values": {
          "bdata": "CA0CAAIAFgAuAAEAAwA=",
          "dtype": "i2"
         }
        },
        {
         "domain": {
          "x": [
           0.416,
           0.584
          ],
          "y": [
           0,
           1
          ]
         },
         "hoverinfo": "label+value+percent",
         "labels": [
          "A",
          "B",
          "C",
          "D",
          "E",
          "F",
          "G",
          "H"
         ],
         "name": "클러스터 2",
         "type": "pie",
         "values": {
          "bdata": "yTv7ALkATw4FBcMBUQFHAA==",
          "dtype": "i2"
         }
        },
        {
         "domain": {
          "x": [
           0.624,
           0.792
          ],
          "y": [
           0,
           1
          ]
         },
         "hoverinfo": "label+value+percent",
         "labels": [
          "A",
          "B",
          "C",
          "D",
          "E",
          "F",
          "G",
          "H"
         ],
         "name": "클러스터 3",
         "type": "pie",
         "values": {
          "bdata": "DU8JAecAcxeKBtYC/wGSAA==",
          "dtype": "i2"
         }
        },
        {
         "domain": {
          "x": [
           0.832,
           1
          ],
          "y": [
           0,
           1
          ]
         },
         "hoverinfo": "label+value+percent",
         "labels": [
          "A",
          "B",
          "C",
          "D",
          "E",
          "F",
          "G",
          "H"
         ],
         "name": "클러스터 4",
         "type": "pie",
         "values": {
          "bdata": "1yenACoAfgTrAWYAjgA4AA==",
          "dtype": "i2"
         }
        }
       ],
       "layout": {
        "annotations": [
         {
          "font": {
           "size": 16
          },
          "showarrow": false,
          "text": "클러스터 0",
          "x": 0.08399999999999999,
          "xanchor": "center",
          "xref": "paper",
          "y": 1,
          "yanchor": "bottom",
          "yref": "paper"
         },
         {
          "font": {
           "size": 16
          },
          "showarrow": false,
          "text": "클러스터 1",
          "x": 0.292,
          "xanchor": "center",
          "xref": "paper",
          "y": 1,
          "yanchor": "bottom",
          "yref": "paper"
         },
         {
          "font": {
           "size": 16
          },
          "showarrow": false,
          "text": "클러스터 2",
          "x": 0.5,
          "xanchor": "center",
          "xref": "paper",
          "y": 1,
          "yanchor": "bottom",
          "yref": "paper"
         },
         {
          "font": {
           "size": 16
          },
          "showarrow": false,
          "text": "클러스터 3",
          "x": 0.708,
          "xanchor": "center",
          "xref": "paper",
          "y": 1,
          "yanchor": "bottom",
          "yref": "paper"
         },
         {
          "font": {
           "size": 16
          },
          "showarrow": false,
          "text": "클러스터 4",
          "x": 0.9159999999999999,
          "xanchor": "center",
          "xref": "paper",
          "y": 1,
          "yanchor": "bottom",
          "yref": "paper"
         }
        ],
        "height": 400,
        "template": {
         "data": {
          "bar": [
           {
            "error_x": {
             "color": "#2a3f5f"
            },
            "error_y": {
             "color": "#2a3f5f"
            },
            "marker": {
             "line": {
              "color": "#E5ECF6",
              "width": 0.5
             },
             "pattern": {
              "fillmode": "overlay",
              "size": 10,
              "solidity": 0.2
             }
            },
            "type": "bar"
           }
          ],
          "barpolar": [
           {
            "marker": {
             "line": {
              "color": "#E5ECF6",
              "width": 0.5
             },
             "pattern": {
              "fillmode": "overlay",
              "size": 10,
              "solidity": 0.2
             }
            },
            "type": "barpolar"
           }
          ],
          "carpet": [
           {
            "aaxis": {
             "endlinecolor": "#2a3f5f",
             "gridcolor": "white",
             "linecolor": "white",
             "minorgridcolor": "white",
             "startlinecolor": "#2a3f5f"
            },
            "baxis": {
             "endlinecolor": "#2a3f5f",
             "gridcolor": "white",
             "linecolor": "white",
             "minorgridcolor": "white",
             "startlinecolor": "#2a3f5f"
            },
            "type": "carpet"
           }
          ],
          "choropleth": [
           {
            "colorbar": {
             "outlinewidth": 0,
             "ticks": ""
            },
            "type": "choropleth"
           }
          ],
          "contour": [
           {
            "colorbar": {
             "outlinewidth": 0,
             "ticks": ""
            },
            "colorscale": [
             [
              0,
              "#0d0887"
             ],
             [
              0.1111111111111111,
              "#46039f"
             ],
             [
              0.2222222222222222,
              "#7201a8"
             ],
             [
              0.3333333333333333,
              "#9c179e"
             ],
             [
              0.4444444444444444,
              "#bd3786"
             ],
             [
              0.5555555555555556,
              "#d8576b"
             ],
             [
              0.6666666666666666,
              "#ed7953"
             ],
             [
              0.7777777777777778,
              "#fb9f3a"
             ],
             [
              0.8888888888888888,
              "#fdca26"
             ],
             [
              1,
              "#f0f921"
             ]
            ],
            "type": "contour"
           }
          ],
          "contourcarpet": [
           {
            "colorbar": {
             "outlinewidth": 0,
             "ticks": ""
            },
            "type": "contourcarpet"
           }
          ],
          "heatmap": [
           {
            "colorbar": {
             "outlinewidth": 0,
             "ticks": ""
            },
            "colorscale": [
             [
              0,
              "#0d0887"
             ],
             [
              0.1111111111111111,
              "#46039f"
             ],
             [
              0.2222222222222222,
              "#7201a8"
             ],
             [
              0.3333333333333333,
              "#9c179e"
             ],
             [
              0.4444444444444444,
              "#bd3786"
             ],
             [
              0.5555555555555556,
              "#d8576b"
             ],
             [
              0.6666666666666666,
              "#ed7953"
             ],
             [
              0.7777777777777778,
              "#fb9f3a"
             ],
             [
              0.8888888888888888,
              "#fdca26"
             ],
             [
              1,
              "#f0f921"
             ]
            ],
            "type": "heatmap"
           }
          ],
          "histogram": [
           {
            "marker": {
             "pattern": {
              "fillmode": "overlay",
              "size": 10,
              "solidity": 0.2
             }
            },
            "type": "histogram"
           }
          ],
          "histogram2d": [
           {
            "colorbar": {
             "outlinewidth": 0,
             "ticks": ""
            },
            "colorscale": [
             [
              0,
              "#0d0887"
             ],
             [
              0.1111111111111111,
              "#46039f"
             ],
             [
              0.2222222222222222,
              "#7201a8"
             ],
             [
              0.3333333333333333,
              "#9c179e"
             ],
             [
              0.4444444444444444,
              "#bd3786"
             ],
             [
              0.5555555555555556,
              "#d8576b"
             ],
             [
              0.6666666666666666,
              "#ed7953"
             ],
             [
              0.7777777777777778,
              "#fb9f3a"
             ],
             [
              0.8888888888888888,
              "#fdca26"
             ],
             [
              1,
              "#f0f921"
             ]
            ],
            "type": "histogram2d"
           }
          ],
          "histogram2dcontour": [
           {
            "colorbar": {
             "outlinewidth": 0,
             "ticks": ""
            },
            "colorscale": [
             [
              0,
              "#0d0887"
             ],
             [
              0.1111111111111111,
              "#46039f"
             ],
             [
              0.2222222222222222,
              "#7201a8"
             ],
             [
              0.3333333333333333,
              "#9c179e"
             ],
             [
              0.4444444444444444,
              "#bd3786"
             ],
             [
              0.5555555555555556,
              "#d8576b"
             ],
             [
              0.6666666666666666,
              "#ed7953"
             ],
             [
              0.7777777777777778,
              "#fb9f3a"
             ],
             [
              0.8888888888888888,
              "#fdca26"
             ],
             [
              1,
              "#f0f921"
             ]
            ],
            "type": "histogram2dcontour"
           }
          ],
          "mesh3d": [
           {
            "colorbar": {
             "outlinewidth": 0,
             "ticks": ""
            },
            "type": "mesh3d"
           }
          ],
          "parcoords": [
           {
            "line": {
             "colorbar": {
              "outlinewidth": 0,
              "ticks": ""
             }
            },
            "type": "parcoords"
           }
          ],
          "pie": [
           {
            "automargin": true,
            "type": "pie"
           }
          ],
          "scatter": [
           {
            "fillpattern": {
             "fillmode": "overlay",
             "size": 10,
             "solidity": 0.2
            },
            "type": "scatter"
           }
          ],
          "scatter3d": [
           {
            "line": {
             "colorbar": {
              "outlinewidth": 0,
              "ticks": ""
             }
            },
            "marker": {
             "colorbar": {
              "outlinewidth": 0,
              "ticks": ""
             }
            },
            "type": "scatter3d"
           }
          ],
          "scattercarpet": [
           {
            "marker": {
             "colorbar": {
              "outlinewidth": 0,
              "ticks": ""
             }
            },
            "type": "scattercarpet"
           }
          ],
          "scattergeo": [
           {
            "marker": {
             "colorbar": {
              "outlinewidth": 0,
              "ticks": ""
             }
            },
            "type": "scattergeo"
           }
          ],
          "scattergl": [
           {
            "marker": {
             "colorbar": {
              "outlinewidth": 0,
              "ticks": ""
             }
            },
            "type": "scattergl"
           }
          ],
          "scattermap": [
           {
            "marker": {
             "colorbar": {
              "outlinewidth": 0,
              "ticks": ""
             }
            },
            "type": "scattermap"
           }
          ],
          "scattermapbox": [
           {
            "marker": {
             "colorbar": {
              "outlinewidth": 0,
              "ticks": ""
             }
            },
            "type": "scattermapbox"
           }
          ],
          "scatterpolar": [
           {
            "marker": {
             "colorbar": {
              "outlinewidth": 0,
              "ticks": ""
             }
            },
            "type": "scatterpolar"
           }
          ],
          "scatterpolargl": [
           {
            "marker": {
             "colorbar": {
              "outlinewidth": 0,
              "ticks": ""
             }
            },
            "type": "scatterpolargl"
           }
          ],
          "scatterternary": [
           {
            "marker": {
             "colorbar": {
              "outlinewidth": 0,
              "ticks": ""
             }
            },
            "type": "scatterternary"
           }
          ],
          "surface": [
           {
            "colorbar": {
             "outlinewidth": 0,
             "ticks": ""
            },
            "colorscale": [
             [
              0,
              "#0d0887"
             ],
             [
              0.1111111111111111,
              "#46039f"
             ],
             [
              0.2222222222222222,
              "#7201a8"
             ],
             [
              0.3333333333333333,
              "#9c179e"
             ],
             [
              0.4444444444444444,
              "#bd3786"
             ],
             [
              0.5555555555555556,
              "#d8576b"
             ],
             [
              0.6666666666666666,
              "#ed7953"
             ],
             [
              0.7777777777777778,
              "#fb9f3a"
             ],
             [
              0.8888888888888888,
              "#fdca26"
             ],
             [
              1,
              "#f0f921"
             ]
            ],
            "type": "surface"
           }
          ],
          "table": [
           {
            "cells": {
             "fill": {
              "color": "#EBF0F8"
             },
             "line": {
              "color": "white"
             }
            },
            "header": {
             "fill": {
              "color": "#C8D4E3"
             },
             "line": {
              "color": "white"
             }
            },
            "type": "table"
           }
          ]
         },
         "layout": {
          "annotationdefaults": {
           "arrowcolor": "#2a3f5f",
           "arrowhead": 0,
           "arrowwidth": 1
          },
          "autotypenumbers": "strict",
          "coloraxis": {
           "colorbar": {
            "outlinewidth": 0,
            "ticks": ""
           }
          },
          "colorscale": {
           "diverging": [
            [
             0,
             "#8e0152"
            ],
            [
             0.1,
             "#c51b7d"
            ],
            [
             0.2,
             "#de77ae"
            ],
            [
             0.3,
             "#f1b6da"
            ],
            [
             0.4,
             "#fde0ef"
            ],
            [
             0.5,
             "#f7f7f7"
            ],
            [
             0.6,
             "#e6f5d0"
            ],
            [
             0.7,
             "#b8e186"
            ],
            [
             0.8,
             "#7fbc41"
            ],
            [
             0.9,
             "#4d9221"
            ],
            [
             1,
             "#276419"
            ]
           ],
           "sequential": [
            [
             0,
             "#0d0887"
            ],
            [
             0.1111111111111111,
             "#46039f"
            ],
            [
             0.2222222222222222,
             "#7201a8"
            ],
            [
             0.3333333333333333,
             "#9c179e"
            ],
            [
             0.4444444444444444,
             "#bd3786"
            ],
            [
             0.5555555555555556,
             "#d8576b"
            ],
            [
             0.6666666666666666,
             "#ed7953"
            ],
            [
             0.7777777777777778,
             "#fb9f3a"
            ],
            [
             0.8888888888888888,
             "#fdca26"
            ],
            [
             1,
             "#f0f921"
            ]
           ],
           "sequentialminus": [
            [
             0,
             "#0d0887"
            ],
            [
             0.1111111111111111,
             "#46039f"
            ],
            [
             0.2222222222222222,
             "#7201a8"
            ],
            [
             0.3333333333333333,
             "#9c179e"
            ],
            [
             0.4444444444444444,
             "#bd3786"
            ],
            [
             0.5555555555555556,
             "#d8576b"
            ],
            [
             0.6666666666666666,
             "#ed7953"
            ],
            [
             0.7777777777777778,
             "#fb9f3a"
            ],
            [
             0.8888888888888888,
             "#fdca26"
            ],
            [
             1,
             "#f0f921"
            ]
           ]
          },
          "colorway": [
           "#636efa",
           "#EF553B",
           "#00cc96",
           "#ab63fa",
           "#FFA15A",
           "#19d3f3",
           "#FF6692",
           "#B6E880",
           "#FF97FF",
           "#FECB52"
          ],
          "font": {
           "color": "#2a3f5f"
          },
          "geo": {
           "bgcolor": "white",
           "lakecolor": "white",
           "landcolor": "#E5ECF6",
           "showlakes": true,
           "showland": true,
           "subunitcolor": "white"
          },
          "hoverlabel": {
           "align": "left"
          },
          "hovermode": "closest",
          "mapbox": {
           "style": "light"
          },
          "paper_bgcolor": "white",
          "plot_bgcolor": "#E5ECF6",
          "polar": {
           "angularaxis": {
            "gridcolor": "white",
            "linecolor": "white",
            "ticks": ""
           },
           "bgcolor": "#E5ECF6",
           "radialaxis": {
            "gridcolor": "white",
            "linecolor": "white",
            "ticks": ""
           }
          },
          "scene": {
           "xaxis": {
            "backgroundcolor": "#E5ECF6",
            "gridcolor": "white",
            "gridwidth": 2,
            "linecolor": "white",
            "showbackground": true,
            "ticks": "",
            "zerolinecolor": "white"
           },
           "yaxis": {
            "backgroundcolor": "#E5ECF6",
            "gridcolor": "white",
            "gridwidth": 2,
            "linecolor": "white",
            "showbackground": true,
            "ticks": "",
            "zerolinecolor": "white"
           },
           "zaxis": {
            "backgroundcolor": "#E5ECF6",
            "gridcolor": "white",
            "gridwidth": 2,
            "linecolor": "white",
            "showbackground": true,
            "ticks": "",
            "zerolinecolor": "white"
           }
          },
          "shapedefaults": {
           "line": {
            "color": "#2a3f5f"
           }
          },
          "ternary": {
           "aaxis": {
            "gridcolor": "white",
            "linecolor": "white",
            "ticks": ""
           },
           "baxis": {
            "gridcolor": "white",
            "linecolor": "white",
            "ticks": ""
           },
           "bgcolor": "#E5ECF6",
           "caxis": {
            "gridcolor": "white",
            "linecolor": "white",
            "ticks": ""
           }
          },
          "title": {
           "x": 0.05
          },
          "xaxis": {
           "automargin": true,
           "gridcolor": "white",
           "linecolor": "white",
           "ticks": "",
           "title": {
            "standoff": 15
           },
           "zerolinecolor": "white",
           "zerolinewidth": 2
          },
          "yaxis": {
           "automargin": true,
           "gridcolor": "white",
           "linecolor": "white",
           "ticks": "",
           "title": {
            "standoff": 15
           },
           "zerolinecolor": "white",
           "zerolinewidth": 2
          }
         }
        },
        "title": {
         "text": "클러스터별 이용 객실 유형 분포"
        },
        "width": 1200
       }
      }
     },
     "metadata": {},
     "output_type": "display_data"
    }
   ],
   "source": [
    "import plotly.express as px\n",
    "import pandas as pd\n",
    "from plotly.subplots import make_subplots\n",
    "import plotly.graph_objects as go\n",
    "\n",
    "# df_resort_clustered DataFrame 사용\n",
    "\n",
    "# 클러스터별 reserved_room_type 분포 계산\n",
    "df_room_type_cluster = df_resort_clustered.groupby(['cluster_label', 'reserved_room_type']).size().reset_index(name='count')\n",
    "\n",
    "# 각 클러스터별 파이 차트 생성\n",
    "clusters = sorted(df_room_type_cluster['cluster_label'].unique())\n",
    "num_clusters = len(clusters)\n",
    "\n",
    "# 서브플롯 설정 (한 줄에 모든 파이 차트 표시)\n",
    "rows = 1\n",
    "cols = num_clusters\n",
    "\n",
    "fig_room_type = make_subplots(rows=rows, cols=cols, specs=[[{'type':'domain'}]*cols],\n",
    "                                   subplot_titles=[f'클러스터 {c}' for c in clusters])\n",
    "\n",
    "# 각 클러스터에 대해 파이 차트 추가\n",
    "for i, cluster in enumerate(clusters):\n",
    "    df_cluster = df_room_type_cluster[df_room_type_cluster['cluster_label'] == cluster].copy() # Create a copy\n",
    "\n",
    "    if not df_cluster.empty:\n",
    "        fig_room_type.add_trace(go.Pie(labels=df_cluster['reserved_room_type'], values=df_cluster['count'], name=f'클러스터 {cluster}',\n",
    "                                       hoverinfo='label+value+percent'), # Show hover info\n",
    "                                1, i+1) # row, col 순서 수정\n",
    "\n",
    "fig_room_type.update_layout(title_text='클러스터별 이용 객실 유형 분포', height=400, width=1200) # 차트 크기 조정\n",
    "fig_room_type.show()"
   ]
  },
  {
   "cell_type": "code",
   "execution_count": null,
   "id": "3f29d15a",
   "metadata": {},
   "outputs": [
    {
     "name": "stdout",
     "output_type": "stream",
     "text": [
      "클러스터별 범주형 변수 분포 차이 카이제곱 검정:\n",
      "\n",
      "Cluster 라벨과 Reserved Room Type 간의 교차표:\n"
     ]
    },
    {
     "data": {
      "text/html": [
       "<div>\n",
       "<style scoped>\n",
       "    .dataframe tbody tr th:only-of-type {\n",
       "        vertical-align: middle;\n",
       "    }\n",
       "\n",
       "    .dataframe tbody tr th {\n",
       "        vertical-align: top;\n",
       "    }\n",
       "\n",
       "    .dataframe thead th {\n",
       "        text-align: right;\n",
       "    }\n",
       "</style>\n",
       "<table border=\"1\" class=\"dataframe\">\n",
       "  <thead>\n",
       "    <tr style=\"text-align: right;\">\n",
       "      <th>reserved_room_type</th>\n",
       "      <th>A</th>\n",
       "      <th>B</th>\n",
       "      <th>C</th>\n",
       "      <th>D</th>\n",
       "      <th>E</th>\n",
       "      <th>F</th>\n",
       "      <th>G</th>\n",
       "      <th>H</th>\n",
       "      <th>L</th>\n",
       "    </tr>\n",
       "    <tr>\n",
       "      <th>cluster_label</th>\n",
       "      <th></th>\n",
       "      <th></th>\n",
       "      <th></th>\n",
       "      <th></th>\n",
       "      <th></th>\n",
       "      <th></th>\n",
       "      <th></th>\n",
       "      <th></th>\n",
       "      <th></th>\n",
       "    </tr>\n",
       "  </thead>\n",
       "  <tbody>\n",
       "    <tr>\n",
       "      <th>0</th>\n",
       "      <td>36321</td>\n",
       "      <td>425</td>\n",
       "      <td>463</td>\n",
       "      <td>8258</td>\n",
       "      <td>2986</td>\n",
       "      <td>1599</td>\n",
       "      <td>1081</td>\n",
       "      <td>324</td>\n",
       "      <td>6</td>\n",
       "    </tr>\n",
       "    <tr>\n",
       "      <th>1</th>\n",
       "      <td>3336</td>\n",
       "      <td>2</td>\n",
       "      <td>2</td>\n",
       "      <td>22</td>\n",
       "      <td>46</td>\n",
       "      <td>1</td>\n",
       "      <td>3</td>\n",
       "      <td>0</td>\n",
       "      <td>0</td>\n",
       "    </tr>\n",
       "    <tr>\n",
       "      <th>2</th>\n",
       "      <td>15305</td>\n",
       "      <td>251</td>\n",
       "      <td>185</td>\n",
       "      <td>3663</td>\n",
       "      <td>1285</td>\n",
       "      <td>451</td>\n",
       "      <td>337</td>\n",
       "      <td>71</td>\n",
       "      <td>0</td>\n",
       "    </tr>\n",
       "    <tr>\n",
       "      <th>3</th>\n",
       "      <td>20237</td>\n",
       "      <td>265</td>\n",
       "      <td>231</td>\n",
       "      <td>6003</td>\n",
       "      <td>1674</td>\n",
       "      <td>726</td>\n",
       "      <td>511</td>\n",
       "      <td>146</td>\n",
       "      <td>0</td>\n",
       "    </tr>\n",
       "    <tr>\n",
       "      <th>4</th>\n",
       "      <td>10199</td>\n",
       "      <td>167</td>\n",
       "      <td>42</td>\n",
       "      <td>1150</td>\n",
       "      <td>491</td>\n",
       "      <td>102</td>\n",
       "      <td>142</td>\n",
       "      <td>56</td>\n",
       "      <td>0</td>\n",
       "    </tr>\n",
       "  </tbody>\n",
       "</table>\n",
       "</div>"
      ],
      "text/plain": [
       "reserved_room_type      A    B    C     D     E     F     G    H  L\n",
       "cluster_label                                                      \n",
       "0                   36321  425  463  8258  2986  1599  1081  324  6\n",
       "1                    3336    2    2    22    46     1     3    0  0\n",
       "2                   15305  251  185  3663  1285   451   337   71  0\n",
       "3                   20237  265  231  6003  1674   726   511  146  0\n",
       "4                   10199  167   42  1150   491   102   142   56  0"
      ]
     },
     "metadata": {},
     "output_type": "display_data"
    },
    {
     "name": "stdout",
     "output_type": "stream",
     "text": [
      "\n",
      "Cluster 라벨과 Reserved Room Type 연관성 카이제곱 검정: Chi2=2572.9133, p=0.0000\n",
      "결론: 클러스터 라벨과 Reserved Room Type 간에는 통계적으로 유의미한 연관성이 있습니다.\n",
      "\n",
      "Cluster 라벨과 Meal 간의 교차표:\n"
     ]
    },
    {
     "data": {
      "text/html": [
       "<div>\n",
       "<style scoped>\n",
       "    .dataframe tbody tr th:only-of-type {\n",
       "        vertical-align: middle;\n",
       "    }\n",
       "\n",
       "    .dataframe tbody tr th {\n",
       "        vertical-align: top;\n",
       "    }\n",
       "\n",
       "    .dataframe thead th {\n",
       "        text-align: right;\n",
       "    }\n",
       "</style>\n",
       "<table border=\"1\" class=\"dataframe\">\n",
       "  <thead>\n",
       "    <tr style=\"text-align: right;\">\n",
       "      <th>meal</th>\n",
       "      <th>BB</th>\n",
       "      <th>FB</th>\n",
       "      <th>HB</th>\n",
       "      <th>SC</th>\n",
       "      <th>Undefined</th>\n",
       "    </tr>\n",
       "    <tr>\n",
       "      <th>cluster_label</th>\n",
       "      <th></th>\n",
       "      <th></th>\n",
       "      <th></th>\n",
       "      <th></th>\n",
       "      <th></th>\n",
       "    </tr>\n",
       "  </thead>\n",
       "  <tbody>\n",
       "    <tr>\n",
       "      <th>0</th>\n",
       "      <td>41031</td>\n",
       "      <td>161</td>\n",
       "      <td>3969</td>\n",
       "      <td>5790</td>\n",
       "      <td>512</td>\n",
       "    </tr>\n",
       "    <tr>\n",
       "      <th>1</th>\n",
       "      <td>2693</td>\n",
       "      <td>1</td>\n",
       "      <td>713</td>\n",
       "      <td>5</td>\n",
       "      <td>0</td>\n",
       "    </tr>\n",
       "    <tr>\n",
       "      <th>2</th>\n",
       "      <td>16083</td>\n",
       "      <td>228</td>\n",
       "      <td>3520</td>\n",
       "      <td>1496</td>\n",
       "      <td>221</td>\n",
       "    </tr>\n",
       "    <tr>\n",
       "      <th>3</th>\n",
       "      <td>22627</td>\n",
       "      <td>342</td>\n",
       "      <td>3726</td>\n",
       "      <td>2739</td>\n",
       "      <td>359</td>\n",
       "    </tr>\n",
       "    <tr>\n",
       "      <th>4</th>\n",
       "      <td>9287</td>\n",
       "      <td>65</td>\n",
       "      <td>2456</td>\n",
       "      <td>473</td>\n",
       "      <td>68</td>\n",
       "    </tr>\n",
       "  </tbody>\n",
       "</table>\n",
       "</div>"
      ],
      "text/plain": [
       "meal              BB   FB    HB    SC  Undefined\n",
       "cluster_label                                   \n",
       "0              41031  161  3969  5790        512\n",
       "1               2693    1   713     5          0\n",
       "2              16083  228  3520  1496        221\n",
       "3              22627  342  3726  2739        359\n",
       "4               9287   65  2456   473         68"
      ]
     },
     "metadata": {},
     "output_type": "display_data"
    },
    {
     "name": "stdout",
     "output_type": "stream",
     "text": [
      "\n",
      "Cluster 라벨과 Meal 연관성 카이제곱 검정: Chi2=3463.3689, p=0.0000\n",
      "결론: 클러스터 라벨과 Meal 간에는 통계적으로 유의미한 연관성이 있습니다.\n"
     ]
    }
   ],
   "source": [
    "from scipy import stats\n",
    "import pandas as pd\n",
    "\n",
    "# df_resort_clustered DataFrame 사용\n",
    "\n",
    "print(\"클러스터별 범주형 변수 분포 차이 카이제곱 검정:\")\n",
    "\n",
    "# 클러스터 라벨과 reserved_room_type 간의 교차표 생성\n",
    "contingency_table_room_type = pd.crosstab(df_resort_clustered['cluster_label'], df_resort_clustered['reserved_room_type'])\n",
    "\n",
    "print(\"\\nCluster 라벨과 Reserved Room Type 간의 교차표:\")\n",
    "display(contingency_table_room_type)\n",
    "\n",
    "# 카이제곱 검정 수행\n",
    "chi2_room_type, p_room_type, dof_room_type, expected_room_type = stats.chi2_contingency(contingency_table_room_type)\n",
    "\n",
    "print(f\"\\nCluster 라벨과 Reserved Room Type 연관성 카이제곱 검정: Chi2={chi2_room_type:.4f}, p={p_room_type:.4f}\")\n",
    "\n",
    "# 결과 해석\n",
    "alpha = 0.05\n",
    "if p_room_type < alpha:\n",
    "    print(\"결론: 클러스터 라벨과 Reserved Room Type 간에는 통계적으로 유의미한 연관성이 있습니다.\")\n",
    "else:\n",
    "    print(\"결론: 클러스터 라벨과 Reserved Room Type 간에는 통계적으로 유의미한 연관성이 없습니다.\")\n",
    "\n",
    "# ------------------------------------------------------------------------------\n",
    "\n",
    "# 클러스터 라벨과 meal 간의 교차표 생성\n",
    "contingency_table_meal = pd.crosstab(df_resort_clustered['cluster_label'], df_resort_clustered['meal'])\n",
    "\n",
    "print(\"\\nCluster 라벨과 Meal 간의 교차표:\")\n",
    "display(contingency_table_meal)\n",
    "\n",
    "# 카이제곱 검정 수행\n",
    "chi2_meal, p_meal, dof_meal, expected_meal = stats.chi2_contingency(contingency_table_meal)\n",
    "\n",
    "print(f\"\\nCluster 라벨과 Meal 연관성 카이제곱 검정: Chi2={chi2_meal:.4f}, p={p_meal:.4f}\")\n",
    "\n",
    "# 결과 해석\n",
    "if p_meal < alpha:\n",
    "    print(\"결론: 클러스터 라벨과 Meal 간에는 통계적으로 유의미한 연관성이 있습니다.\")\n",
    "else:\n",
    "    print(\"결론: 클러스터 라벨과 Meal 간에는 통계적으로 유의미한 연관성이 없습니다.\")\n",
    "\n",
    "# ------------------------------------------------------------------------------\n",
    "\n",
    "# 클러스터 라벨과 market_segment 간의 교차표 생성 (이미 실행된 셀 c1e3275d 에 있으므로 여기서는 생략)\n",
    "# contingency_table_market_segment = pd.crosstab(df_resort_clustered['cluster_label'], df_resort_clustered['market_segment'])\n",
    "# chi2_market_segment, p_market_segment, dof_market_segment, expected_market_segment = stats.chi2_contingency(contingency_table_market_segment)\n",
    "# print(f\"\\nCluster 라벨과 Market Segment 연관성 카이제곱 검정: Chi2={chi2_market_segment:.4f}, p={p_market_segment:.4f}\")\n",
    "# if p_market_segment < alpha:\n",
    "#     print(\"결론: 클러스터 라벨과 Market Segment 간에는 통계적으로 유의미한 연관성이 있습니다.\")\n",
    "# else:\n",
    "#     print(\"결론: 클러스터 라벨과 Market Segment 간에는 통계적으로 유의미한 연관성이 없습니다.\")"
   ]
  },
  {
   "cell_type": "code",
   "execution_count": null,
   "id": "8281d9e8",
   "metadata": {},
   "outputs": [
    {
     "data": {
      "application/vnd.plotly.v1+json": {
       "config": {
        "plotlyServerURL": "https://plot.ly"
       },
       "data": [
        {
         "domain": {
          "x": [
           0,
           0.16799999999999998
          ],
          "y": [
           0,
           1
          ]
         },
         "hoverinfo": "label+value+percent",
         "labels": [
          "BB",
          "FB",
          "HB",
          "SC",
          "Undefined"
         ],
         "name": "클러스터 0",
         "type": "pie",
         "values": {
          "bdata": "R6AAAKEAAACBDwAAnhYAAAACAAA=",
          "dtype": "i4"
         }
        },
        {
         "domain": {
          "x": [
           0.208,
           0.376
          ],
          "y": [
           0,
           1
          ]
         },
         "hoverinfo": "label+value+percent",
         "labels": [
          "BB",
          "FB",
          "HB",
          "SC"
         ],
         "name": "클러스터 1",
         "type": "pie",
         "values": {
          "bdata": "hQoBAMkCBQA=",
          "dtype": "i2"
         }
        },
        {
         "domain": {
          "x": [
           0.416,
           0.584
          ],
          "y": [
           0,
           1
          ]
         },
         "hoverinfo": "label+value+percent",
         "labels": [
          "BB",
          "FB",
          "HB",
          "SC",
          "Undefined"
         ],
         "name": "클러스터 2",
         "type": "pie",
         "values": {
          "bdata": "0z7kAMAN2AXdAA==",
          "dtype": "i2"
         }
        },
        {
         "domain": {
          "x": [
           0.624,
           0.792
          ],
          "y": [
           0,
           1
          ]
         },
         "hoverinfo": "label+value+percent",
         "labels": [
          "BB",
          "FB",
          "HB",
          "SC",
          "Undefined"
         ],
         "name": "클러스터 3",
         "type": "pie",
         "values": {
          "bdata": "Y1hWAY4OswpnAQ==",
          "dtype": "i2"
         }
        },
        {
         "domain": {
          "x": [
           0.832,
           1
          ],
          "y": [
           0,
           1
          ]
         },
         "hoverinfo": "label+value+percent",
         "labels": [
          "BB",
          "FB",
          "HB",
          "SC",
          "Undefined"
         ],
         "name": "클러스터 4",
         "type": "pie",
         "values": {
          "bdata": "RyRBAJgJ2QFEAA==",
          "dtype": "i2"
         }
        }
       ],
       "layout": {
        "annotations": [
         {
          "font": {
           "size": 16
          },
          "showarrow": false,
          "text": "클러스터 0",
          "x": 0.08399999999999999,
          "xanchor": "center",
          "xref": "paper",
          "y": 1,
          "yanchor": "bottom",
          "yref": "paper"
         },
         {
          "font": {
           "size": 16
          },
          "showarrow": false,
          "text": "클러스터 1",
          "x": 0.292,
          "xanchor": "center",
          "xref": "paper",
          "y": 1,
          "yanchor": "bottom",
          "yref": "paper"
         },
         {
          "font": {
           "size": 16
          },
          "showarrow": false,
          "text": "클러스터 2",
          "x": 0.5,
          "xanchor": "center",
          "xref": "paper",
          "y": 1,
          "yanchor": "bottom",
          "yref": "paper"
         },
         {
          "font": {
           "size": 16
          },
          "showarrow": false,
          "text": "클러스터 3",
          "x": 0.708,
          "xanchor": "center",
          "xref": "paper",
          "y": 1,
          "yanchor": "bottom",
          "yref": "paper"
         },
         {
          "font": {
           "size": 16
          },
          "showarrow": false,
          "text": "클러스터 4",
          "x": 0.9159999999999999,
          "xanchor": "center",
          "xref": "paper",
          "y": 1,
          "yanchor": "bottom",
          "yref": "paper"
         }
        ],
        "height": 400,
        "template": {
         "data": {
          "bar": [
           {
            "error_x": {
             "color": "#2a3f5f"
            },
            "error_y": {
             "color": "#2a3f5f"
            },
            "marker": {
             "line": {
              "color": "#E5ECF6",
              "width": 0.5
             },
             "pattern": {
              "fillmode": "overlay",
              "size": 10,
              "solidity": 0.2
             }
            },
            "type": "bar"
           }
          ],
          "barpolar": [
           {
            "marker": {
             "line": {
              "color": "#E5ECF6",
              "width": 0.5
             },
             "pattern": {
              "fillmode": "overlay",
              "size": 10,
              "solidity": 0.2
             }
            },
            "type": "barpolar"
           }
          ],
          "carpet": [
           {
            "aaxis": {
             "endlinecolor": "#2a3f5f",
             "gridcolor": "white",
             "linecolor": "white",
             "minorgridcolor": "white",
             "startlinecolor": "#2a3f5f"
            },
            "baxis": {
             "endlinecolor": "#2a3f5f",
             "gridcolor": "white",
             "linecolor": "white",
             "minorgridcolor": "white",
             "startlinecolor": "#2a3f5f"
            },
            "type": "carpet"
           }
          ],
          "choropleth": [
           {
            "colorbar": {
             "outlinewidth": 0,
             "ticks": ""
            },
            "type": "choropleth"
           }
          ],
          "contour": [
           {
            "colorbar": {
             "outlinewidth": 0,
             "ticks": ""
            },
            "colorscale": [
             [
              0,
              "#0d0887"
             ],
             [
              0.1111111111111111,
              "#46039f"
             ],
             [
              0.2222222222222222,
              "#7201a8"
             ],
             [
              0.3333333333333333,
              "#9c179e"
             ],
             [
              0.4444444444444444,
              "#bd3786"
             ],
             [
              0.5555555555555556,
              "#d8576b"
             ],
             [
              0.6666666666666666,
              "#ed7953"
             ],
             [
              0.7777777777777778,
              "#fb9f3a"
             ],
             [
              0.8888888888888888,
              "#fdca26"
             ],
             [
              1,
              "#f0f921"
             ]
            ],
            "type": "contour"
           }
          ],
          "contourcarpet": [
           {
            "colorbar": {
             "outlinewidth": 0,
             "ticks": ""
            },
            "type": "contourcarpet"
           }
          ],
          "heatmap": [
           {
            "colorbar": {
             "outlinewidth": 0,
             "ticks": ""
            },
            "colorscale": [
             [
              0,
              "#0d0887"
             ],
             [
              0.1111111111111111,
              "#46039f"
             ],
             [
              0.2222222222222222,
              "#7201a8"
             ],
             [
              0.3333333333333333,
              "#9c179e"
             ],
             [
              0.4444444444444444,
              "#bd3786"
             ],
             [
              0.5555555555555556,
              "#d8576b"
             ],
             [
              0.6666666666666666,
              "#ed7953"
             ],
             [
              0.7777777777777778,
              "#fb9f3a"
             ],
             [
              0.8888888888888888,
              "#fdca26"
             ],
             [
              1,
              "#f0f921"
             ]
            ],
            "type": "heatmap"
           }
          ],
          "histogram": [
           {
            "marker": {
             "pattern": {
              "fillmode": "overlay",
              "size": 10,
              "solidity": 0.2
             }
            },
            "type": "histogram"
           }
          ],
          "histogram2d": [
           {
            "colorbar": {
             "outlinewidth": 0,
             "ticks": ""
            },
            "colorscale": [
             [
              0,
              "#0d0887"
             ],
             [
              0.1111111111111111,
              "#46039f"
             ],
             [
              0.2222222222222222,
              "#7201a8"
             ],
             [
              0.3333333333333333,
              "#9c179e"
             ],
             [
              0.4444444444444444,
              "#bd3786"
             ],
             [
              0.5555555555555556,
              "#d8576b"
             ],
             [
              0.6666666666666666,
              "#ed7953"
             ],
             [
              0.7777777777777778,
              "#fb9f3a"
             ],
             [
              0.8888888888888888,
              "#fdca26"
             ],
             [
              1,
              "#f0f921"
             ]
            ],
            "type": "histogram2d"
           }
          ],
          "histogram2dcontour": [
           {
            "colorbar": {
             "outlinewidth": 0,
             "ticks": ""
            },
            "colorscale": [
             [
              0,
              "#0d0887"
             ],
             [
              0.1111111111111111,
              "#46039f"
             ],
             [
              0.2222222222222222,
              "#7201a8"
             ],
             [
              0.3333333333333333,
              "#9c179e"
             ],
             [
              0.4444444444444444,
              "#bd3786"
             ],
             [
              0.5555555555555556,
              "#d8576b"
             ],
             [
              0.6666666666666666,
              "#ed7953"
             ],
             [
              0.7777777777777778,
              "#fb9f3a"
             ],
             [
              0.8888888888888888,
              "#fdca26"
             ],
             [
              1,
              "#f0f921"
             ]
            ],
            "type": "histogram2dcontour"
           }
          ],
          "mesh3d": [
           {
            "colorbar": {
             "outlinewidth": 0,
             "ticks": ""
            },
            "type": "mesh3d"
           }
          ],
          "parcoords": [
           {
            "line": {
             "colorbar": {
              "outlinewidth": 0,
              "ticks": ""
             }
            },
            "type": "parcoords"
           }
          ],
          "pie": [
           {
            "automargin": true,
            "type": "pie"
           }
          ],
          "scatter": [
           {
            "fillpattern": {
             "fillmode": "overlay",
             "size": 10,
             "solidity": 0.2
            },
            "type": "scatter"
           }
          ],
          "scatter3d": [
           {
            "line": {
             "colorbar": {
              "outlinewidth": 0,
              "ticks": ""
             }
            },
            "marker": {
             "colorbar": {
              "outlinewidth": 0,
              "ticks": ""
             }
            },
            "type": "scatter3d"
           }
          ],
          "scattercarpet": [
           {
            "marker": {
             "colorbar": {
              "outlinewidth": 0,
              "ticks": ""
             }
            },
            "type": "scattercarpet"
           }
          ],
          "scattergeo": [
           {
            "marker": {
             "colorbar": {
              "outlinewidth": 0,
              "ticks": ""
             }
            },
            "type": "scattergeo"
           }
          ],
          "scattergl": [
           {
            "marker": {
             "colorbar": {
              "outlinewidth": 0,
              "ticks": ""
             }
            },
            "type": "scattergl"
           }
          ],
          "scattermap": [
           {
            "marker": {
             "colorbar": {
              "outlinewidth": 0,
              "ticks": ""
             }
            },
            "type": "scattermap"
           }
          ],
          "scattermapbox": [
           {
            "marker": {
             "colorbar": {
              "outlinewidth": 0,
              "ticks": ""
             }
            },
            "type": "scattermapbox"
           }
          ],
          "scatterpolar": [
           {
            "marker": {
             "colorbar": {
              "outlinewidth": 0,
              "ticks": ""
             }
            },
            "type": "scatterpolar"
           }
          ],
          "scatterpolargl": [
           {
            "marker": {
             "colorbar": {
              "outlinewidth": 0,
              "ticks": ""
             }
            },
            "type": "scatterpolargl"
           }
          ],
          "scatterternary": [
           {
            "marker": {
             "colorbar": {
              "outlinewidth": 0,
              "ticks": ""
             }
            },
            "type": "scatterternary"
           }
          ],
          "surface": [
           {
            "colorbar": {
             "outlinewidth": 0,
             "ticks": ""
            },
            "colorscale": [
             [
              0,
              "#0d0887"
             ],
             [
              0.1111111111111111,
              "#46039f"
             ],
             [
              0.2222222222222222,
              "#7201a8"
             ],
             [
              0.3333333333333333,
              "#9c179e"
             ],
             [
              0.4444444444444444,
              "#bd3786"
             ],
             [
              0.5555555555555556,
              "#d8576b"
             ],
             [
              0.6666666666666666,
              "#ed7953"
             ],
             [
              0.7777777777777778,
              "#fb9f3a"
             ],
             [
              0.8888888888888888,
              "#fdca26"
             ],
             [
              1,
              "#f0f921"
             ]
            ],
            "type": "surface"
           }
          ],
          "table": [
           {
            "cells": {
             "fill": {
              "color": "#EBF0F8"
             },
             "line": {
              "color": "white"
             }
            },
            "header": {
             "fill": {
              "color": "#C8D4E3"
             },
             "line": {
              "color": "white"
             }
            },
            "type": "table"
           }
          ]
         },
         "layout": {
          "annotationdefaults": {
           "arrowcolor": "#2a3f5f",
           "arrowhead": 0,
           "arrowwidth": 1
          },
          "autotypenumbers": "strict",
          "coloraxis": {
           "colorbar": {
            "outlinewidth": 0,
            "ticks": ""
           }
          },
          "colorscale": {
           "diverging": [
            [
             0,
             "#8e0152"
            ],
            [
             0.1,
             "#c51b7d"
            ],
            [
             0.2,
             "#de77ae"
            ],
            [
             0.3,
             "#f1b6da"
            ],
            [
             0.4,
             "#fde0ef"
            ],
            [
             0.5,
             "#f7f7f7"
            ],
            [
             0.6,
             "#e6f5d0"
            ],
            [
             0.7,
             "#b8e186"
            ],
            [
             0.8,
             "#7fbc41"
            ],
            [
             0.9,
             "#4d9221"
            ],
            [
             1,
             "#276419"
            ]
           ],
           "sequential": [
            [
             0,
             "#0d0887"
            ],
            [
             0.1111111111111111,
             "#46039f"
            ],
            [
             0.2222222222222222,
             "#7201a8"
            ],
            [
             0.3333333333333333,
             "#9c179e"
            ],
            [
             0.4444444444444444,
             "#bd3786"
            ],
            [
             0.5555555555555556,
             "#d8576b"
            ],
            [
             0.6666666666666666,
             "#ed7953"
            ],
            [
             0.7777777777777778,
             "#fb9f3a"
            ],
            [
             0.8888888888888888,
             "#fdca26"
            ],
            [
             1,
             "#f0f921"
            ]
           ],
           "sequentialminus": [
            [
             0,
             "#0d0887"
            ],
            [
             0.1111111111111111,
             "#46039f"
            ],
            [
             0.2222222222222222,
             "#7201a8"
            ],
            [
             0.3333333333333333,
             "#9c179e"
            ],
            [
             0.4444444444444444,
             "#bd3786"
            ],
            [
             0.5555555555555556,
             "#d8576b"
            ],
            [
             0.6666666666666666,
             "#ed7953"
            ],
            [
             0.7777777777777778,
             "#fb9f3a"
            ],
            [
             0.8888888888888888,
             "#fdca26"
            ],
            [
             1,
             "#f0f921"
            ]
           ]
          },
          "colorway": [
           "#636efa",
           "#EF553B",
           "#00cc96",
           "#ab63fa",
           "#FFA15A",
           "#19d3f3",
           "#FF6692",
           "#B6E880",
           "#FF97FF",
           "#FECB52"
          ],
          "font": {
           "color": "#2a3f5f"
          },
          "geo": {
           "bgcolor": "white",
           "lakecolor": "white",
           "landcolor": "#E5ECF6",
           "showlakes": true,
           "showland": true,
           "subunitcolor": "white"
          },
          "hoverlabel": {
           "align": "left"
          },
          "hovermode": "closest",
          "mapbox": {
           "style": "light"
          },
          "paper_bgcolor": "white",
          "plot_bgcolor": "#E5ECF6",
          "polar": {
           "angularaxis": {
            "gridcolor": "white",
            "linecolor": "white",
            "ticks": ""
           },
           "bgcolor": "#E5ECF6",
           "radialaxis": {
            "gridcolor": "white",
            "linecolor": "white",
            "ticks": ""
           }
          },
          "scene": {
           "xaxis": {
            "backgroundcolor": "#E5ECF6",
            "gridcolor": "white",
            "gridwidth": 2,
            "linecolor": "white",
            "showbackground": true,
            "ticks": "",
            "zerolinecolor": "white"
           },
           "yaxis": {
            "backgroundcolor": "#E5ECF6",
            "gridcolor": "white",
            "gridwidth": 2,
            "linecolor": "white",
            "showbackground": true,
            "ticks": "",
            "zerolinecolor": "white"
           },
           "zaxis": {
            "backgroundcolor": "#E5ECF6",
            "gridcolor": "white",
            "gridwidth": 2,
            "linecolor": "white",
            "showbackground": true,
            "ticks": "",
            "zerolinecolor": "white"
           }
          },
          "shapedefaults": {
           "line": {
            "color": "#2a3f5f"
           }
          },
          "ternary": {
           "aaxis": {
            "gridcolor": "white",
            "linecolor": "white",
            "ticks": ""
           },
           "baxis": {
            "gridcolor": "white",
            "linecolor": "white",
            "ticks": ""
           },
           "bgcolor": "#E5ECF6",
           "caxis": {
            "gridcolor": "white",
            "linecolor": "white",
            "ticks": ""
           }
          },
          "title": {
           "x": 0.05
          },
          "xaxis": {
           "automargin": true,
           "gridcolor": "white",
           "linecolor": "white",
           "ticks": "",
           "title": {
            "standoff": 15
           },
           "zerolinecolor": "white",
           "zerolinewidth": 2
          },
          "yaxis": {
           "automargin": true,
           "gridcolor": "white",
           "linecolor": "white",
           "ticks": "",
           "title": {
            "standoff": 15
           },
           "zerolinecolor": "white",
           "zerolinewidth": 2
          }
         }
        },
        "title": {
         "text": "클러스터별 식사 유형 분포"
        },
        "width": 1200
       }
      }
     },
     "metadata": {},
     "output_type": "display_data"
    }
   ],
   "source": [
    "import plotly.express as px\n",
    "import pandas as pd\n",
    "from plotly.subplots import make_subplots\n",
    "import plotly.graph_objects as go\n",
    "\n",
    "# df_resort_clustered DataFrame 사용\n",
    "\n",
    "# 클러스터별 meal 분포 계산\n",
    "df_meal_cluster = df_resort_clustered.groupby(['cluster_label', 'meal']).size().reset_index(name='count')\n",
    "\n",
    "# 각 클러스터별 파이 차트 생성\n",
    "clusters = sorted(df_meal_cluster['cluster_label'].unique())\n",
    "num_clusters = len(clusters)\n",
    "\n",
    "# 서브플롯 설정 (한 줄에 모든 파이 차트 표시)\n",
    "rows = 1\n",
    "cols = num_clusters\n",
    "\n",
    "fig_meal = make_subplots(rows=rows, cols=cols, specs=[[{'type':'domain'}]*cols],\n",
    "                                   subplot_titles=[f'클러스터 {c}' for c in clusters])\n",
    "\n",
    "# 각 클러스터에 대해 파이 차트 추가\n",
    "for i, cluster in enumerate(clusters):\n",
    "    df_cluster = df_meal_cluster[df_meal_cluster['cluster_label'] == cluster].copy() # Create a copy\n",
    "    if not df_cluster.empty:\n",
    "        fig_meal.add_trace(go.Pie(labels=df_cluster['meal'], values=df_cluster['count'], name=f'클러스터 {cluster}',\n",
    "                                       hoverinfo='label+value+percent'), # Show hover info\n",
    "                                1, i+1) # row, col 순서 수정\n",
    "\n",
    "fig_meal.update_layout(title_text='클러스터별 식사 유형 분포', height=400, width=1200) # 차트 크기 조정\n",
    "fig_meal.show()"
   ]
  },
  {
   "cell_type": "code",
   "execution_count": null,
   "id": "e15a7155",
   "metadata": {},
   "outputs": [
    {
     "data": {
      "application/vnd.plotly.v1+json": {
       "config": {
        "plotlyServerURL": "https://plot.ly"
       },
       "data": [
        {
         "hovertemplate": "클러스터 라벨=0<br>도착 주차=%{x}<br>클러스터 내 예약 비율=%{y}<extra></extra>",
         "legendgroup": "0",
         "line": {
          "color": "#636efa",
          "dash": "solid"
         },
         "marker": {
          "symbol": "circle"
         },
         "mode": "lines",
         "name": "0",
         "orientation": "v",
         "showlegend": true,
         "type": "scatter",
         "x": {
          "bdata": "AQIDBAUGBwgJCgsMDQ4PEBESExQVFhcYGRobHB0eHyAhIiMkJSYnKCkqKywtLi8wMTIzNDU=",
          "dtype": "i1"
         },
         "xaxis": "x",
         "y": {
          "bdata": "qFHX/T2eiz9sWKfxm12SP1ex0sv+/ZQ/pi4yqLQFkz/nRlVvFb2TPxXksxsJH5c/hq+9lHU9mz8ogh2M/wydP4xS4sFAKp4/y6jsT5smmT8UL7gydPeZP7lrD/wnFpY/Q7/5jvbFlD8lt5mdUuCPPzwGTVwT1JE/Fjgj6BppkT8FvV7NrROUP79io/UETZM/zGoFiaHhjj8WOCPoGmmRPz59YX6utpQ/LA+6s7L0jz+vnNrDLB+TPyRWDYHPAo0/s2destlLkD/6RUv8joiMP2VuMEgwuo0//QOymsohkT8zBk6tjyuNP2YWD+FTTpI/8Wn5cyL+kD+h7JmXbPaSP8ZmVD9TF5k/vq2nDHAllj9hNQPtjhyVPwEwwqX6K5E/ISr9dZ/4jD+M5DhVTLmSP84S5CHFdZM/IbxTCauHkT/r0/GWyKSWP54hFqm/yZU/sP1m4K/8lT8hHeAlLmWUP2y5Mw4fO5U/JOhjFNuRkT9jS4vypiGVPwUrCDqihI8/+5m6yKDSlj9JAZKfPtWUP5qhltF9dYs/qxxb7OrKiD/B5tRnEcOOPw==",
          "dtype": "f8"
         },
         "yaxis": "y"
        },
        {
         "hovertemplate": "클러스터 라벨=1<br>도착 주차=%{x}<br>클러스터 내 예약 비율=%{y}<extra></extra>",
         "legendgroup": "1",
         "line": {
          "color": "#EF553B",
          "dash": "solid"
         },
         "marker": {
          "symbol": "circle"
         },
         "mode": "lines",
         "name": "1",
         "orientation": "v",
         "showlegend": true,
         "type": "scatter",
         "x": {
          "bdata": "AQIDBAUGBwgJCgsMDQ4QERITFBUWFxgZGhscHR4fICEiIyQlJicoKSorLC0uLzAxMjM0NQ==",
          "dtype": "i1"
         },
         "xaxis": "x",
         "y": {
          "bdata": "w5sV2HBodD/DmxXYcGh0P8ObFdhwaHQ/w5sV2HBodD/DmxXYcGh0P8ObFdhwaHQ/w5sV2HBodD/DmxXYcGh0P793rcbCm3U/w5sV2HBodD/DmxXYcGh0P6ux8GYFNow/q7HwZgU2jD+8U0W1FM+GP71l+b1rNYY/uC/do2YCaD+ojYhVV2mNP7YdKZsPnIg/yuPl+swBoj+4L92jZgKYP7LwZgU2HJo/uC/do2YCaD+8U0W1FM+WP7gv3aNmAmg/QpfoFduOpD+x5wyBCmmaPzP+7Uv3qKk/SugSvWLboT9Bjo6Rr9ukP8Skb1ycG5Q/p4Qu0Su2nT/DmxXYcGiUP8ObFdhwaKQ/q7HwZgU2jD+9Zfm9azWWP8z1mQMkaJE/zxkCFdI0kD+x5wyBCmmaP8nai3ahTqI/vFNFtRTPpj+7Susw6Ru3P7LwZgU2HKo/q7HwZgU2rD+4L92jZgKIP6ux8GYFNow/w5sV2HBodD+/d63Gwpt1P7HnDIEKaZo/w5sV2HBodD/DmxXYcGh0P7QLdZK4NXk/v3etxsKbdT8=",
          "dtype": "f8"
         },
         "yaxis": "y"
        },
        {
         "hovertemplate": "클러스터 라벨=2<br>도착 주차=%{x}<br>클러스터 내 예약 비율=%{y}<extra></extra>",
         "legendgroup": "2",
         "line": {
          "color": "#00cc96",
          "dash": "solid"
         },
         "marker": {
          "symbol": "circle"
         },
         "mode": "lines",
         "name": "2",
         "orientation": "v",
         "showlegend": true,
         "type": "scatter",
         "x": {
          "bdata": "AQIDBAUGBwgJCgsMDQ4PEBESExQVFhcYGRobHB0eHyAhIiMkJSYnKCkqKywtLi8wMTIzNDU=",
          "dtype": "i1"
         },
         "xaxis": "x",
         "y": {
          "bdata": "3InhIqYIbj8Vkro+iIdkP1jj8HkuSlU/B08j64QZdT8HTyPrhBl1P/gPEMqs5Fw/S6BZJivcdT8wGYqy2TGFP9M+QmpMKHA/+grryjbdgz/cieEipgh+PxaRGXI9uYI/z0ZKz6Kajj+dMURP9KGQP/oK68o23ZM/UsHUaQeslD9qTcnczl2ePy0H2117FKM/XwUNilXolT+O8Y9h0Z6WPwU808nbLaE/HbKUtRmJoT8ITeFR73yhP+7FEd6d0qA/hdP3g9U5nT+M3Z5z3eSgPyr2zNVnxaI/T68lFamOoj9jFXpFHmmkP5YQyQsY0qE/yA1aa6fXoj92e851k0OmP1HDFgOdSKg/sZeYf2l8oj8ZoYYtBjqhP5URathioJM/xP6NfCkllj9+sdtzrpuMP2ckRjScG5E/w/8uSXTzlz8BLGYOE62SP4CvmdoY/4g/9Oct7sRwkT8FVEjq+iCOP1nhruCYrYE/FZK6PoiHZD8UlPzXHSR4P7S+2Y4GInw/dGfdh5+JgD/SQIQD4sRjP8EDs3ufLF8/ZyRGNJwbcT+M9ROU/NeNPw==",
          "dtype": "f8"
         },
         "yaxis": "y"
        },
        {
         "hovertemplate": "클러스터 라벨=3<br>도착 주차=%{x}<br>클러스터 내 예약 비율=%{y}<extra></extra>",
         "legendgroup": "3",
         "line": {
          "color": "#ab63fa",
          "dash": "solid"
         },
         "marker": {
          "symbol": "circle"
         },
         "mode": "lines",
         "name": "3",
         "orientation": "v",
         "showlegend": true,
         "type": "scatter",
         "x": {
          "bdata": "AQIDBAUGBwgJCgsMDQ4PEBESExQVFhcYGRobHB0eHyAhIiMkJSYnKCkqKywtLi8wMTIzNDU=",
          "dtype": "i1"
         },
         "xaxis": "x",
         "y": {
          "bdata": "WNbv+PXufj8nengbYzJ4Pyd6eBtjMng/xya/Wh8fij94izk3BUGBP/vT4iKkooA/FV0PhFeXkz+oLJMYVOWPP9semeSUUI4/wyv7cY8Kkz9vH3ZtXeeSPwoW28dFp5U/6tBnjiOWnz8ECDtq1dugP6OhpTSxEaU/sZhW4vs+nj/g1HrJaH2dP5GEPJ2ldqA/YUKzwp1InT9lI4moos6gP/P3SFQPCJY/3ST+1y9Akj/uQWdvO9uWPz6YCo+Z0Zc/sVN03j9Xlj9l+JSncXWMP2azsqO1jZQ/VNsrEGbalz+cEFNdc06WPy3Ag/tJHps/GcipcdTslj8ywazXdCKWP+lAPpMQ15s/r3gD7NXAlj96Zqopb9eQPy5QrfZc3Y4/m4ApYmCPkj8AGu4Ci46TP2Btp8POoZE//xOJD/Cejz8YOIB2wS2TPwP1XvX0JJM/kH7XqQqHjD+pMvgL79STP8GVbIPhW4s/BmD54nF6hj/BlWyD4VuLP4CBwQglao8/Y9hBsUv3hD/gj5jFrJWFP+vWzIG+hXM/79GQak6aij/f/27KmdaRPw==",
          "dtype": "f8"
         },
         "yaxis": "y"
        },
        {
         "hovertemplate": "클러스터 라벨=4<br>도착 주차=%{x}<br>클러스터 내 예약 비율=%{y}<extra></extra>",
         "legendgroup": "4",
         "line": {
          "color": "#FFA15A",
          "dash": "solid"
         },
         "marker": {
          "symbol": "circle"
         },
         "mode": "lines",
         "name": "4",
         "orientation": "v",
         "showlegend": true,
         "type": "scatter",
         "x": {
          "bdata": "AQIDBAUGBwgJCgsMDQ4PEBESExQVFhcYGRobHB0eHyAhIiMkJSYnKCkqKywtLi8wMTIzNDU=",
          "dtype": "i1"
         },
         "xaxis": "x",
         "y": {
          "bdata": "Ft4zwojXXz+Q5qaRpuFnP41BnsYPk2I/jUGexg+TQj8W3jPCiNcvP9EPaURMNWk/T73k3gCOVj+zTYzQxDJrPy1W/5/iPGM/lIuvXD0wfT9uf8FSiJBkPyGaGbE1ink//zI0chc5dj+j7J0WgTF8P0+95N4AjoY/Kx2V8yKyiz/UfiKA96GXP18e05hEj4U/2lyV9017lD9iw9tj292aP9uS5IY5XZs/grsHZ07Cnz+lJQjDQLyTP0Bc9iS9jJc/fntX1MECpz85rYxWhWCgP1gKEZIC1KE/pltXUiyemj+limD7SkugP5+s7YP0caM/RAH/71PbnD+DviKEImugP4k3PcNutaA/o+ydFoExnD96cfbQICWVP13laOyEBJ4/5rMirvCeoT85rYxWhWCwP8KueooINKo/vm7K93t0oT88t+1ZJj6iP0yzg9tfsKQ/XK8ZXZkilz8YF55uSGKHP8F4K/scUpM/zmpgebXmkz+vqIMFLuR1Pw+UIixbOnU/LVb/n+I8cz8W3jPCiNdvP5SLr1w9MF0/TBjcE2o/cT+80AcTslqNPw==",
          "dtype": "f8"
         },
         "yaxis": "y"
        }
       ],
       "layout": {
        "legend": {
         "title": {
          "text": "클러스터 라벨"
         },
         "tracegroupgap": 0
        },
        "template": {
         "data": {
          "bar": [
           {
            "error_x": {
             "color": "#2a3f5f"
            },
            "error_y": {
             "color": "#2a3f5f"
            },
            "marker": {
             "line": {
              "color": "#E5ECF6",
              "width": 0.5
             },
             "pattern": {
              "fillmode": "overlay",
              "size": 10,
              "solidity": 0.2
             }
            },
            "type": "bar"
           }
          ],
          "barpolar": [
           {
            "marker": {
             "line": {
              "color": "#E5ECF6",
              "width": 0.5
             },
             "pattern": {
              "fillmode": "overlay",
              "size": 10,
              "solidity": 0.2
             }
            },
            "type": "barpolar"
           }
          ],
          "carpet": [
           {
            "aaxis": {
             "endlinecolor": "#2a3f5f",
             "gridcolor": "white",
             "linecolor": "white",
             "minorgridcolor": "white",
             "startlinecolor": "#2a3f5f"
            },
            "baxis": {
             "endlinecolor": "#2a3f5f",
             "gridcolor": "white",
             "linecolor": "white",
             "minorgridcolor": "white",
             "startlinecolor": "#2a3f5f"
            },
            "type": "carpet"
           }
          ],
          "choropleth": [
           {
            "colorbar": {
             "outlinewidth": 0,
             "ticks": ""
            },
            "type": "choropleth"
           }
          ],
          "contour": [
           {
            "colorbar": {
             "outlinewidth": 0,
             "ticks": ""
            },
            "colorscale": [
             [
              0,
              "#0d0887"
             ],
             [
              0.1111111111111111,
              "#46039f"
             ],
             [
              0.2222222222222222,
              "#7201a8"
             ],
             [
              0.3333333333333333,
              "#9c179e"
             ],
             [
              0.4444444444444444,
              "#bd3786"
             ],
             [
              0.5555555555555556,
              "#d8576b"
             ],
             [
              0.6666666666666666,
              "#ed7953"
             ],
             [
              0.7777777777777778,
              "#fb9f3a"
             ],
             [
              0.8888888888888888,
              "#fdca26"
             ],
             [
              1,
              "#f0f921"
             ]
            ],
            "type": "contour"
           }
          ],
          "contourcarpet": [
           {
            "colorbar": {
             "outlinewidth": 0,
             "ticks": ""
            },
            "type": "contourcarpet"
           }
          ],
          "heatmap": [
           {
            "colorbar": {
             "outlinewidth": 0,
             "ticks": ""
            },
            "colorscale": [
             [
              0,
              "#0d0887"
             ],
             [
              0.1111111111111111,
              "#46039f"
             ],
             [
              0.2222222222222222,
              "#7201a8"
             ],
             [
              0.3333333333333333,
              "#9c179e"
             ],
             [
              0.4444444444444444,
              "#bd3786"
             ],
             [
              0.5555555555555556,
              "#d8576b"
             ],
             [
              0.6666666666666666,
              "#ed7953"
             ],
             [
              0.7777777777777778,
              "#fb9f3a"
             ],
             [
              0.8888888888888888,
              "#fdca26"
             ],
             [
              1,
              "#f0f921"
             ]
            ],
            "type": "heatmap"
           }
          ],
          "histogram": [
           {
            "marker": {
             "pattern": {
              "fillmode": "overlay",
              "size": 10,
              "solidity": 0.2
             }
            },
            "type": "histogram"
           }
          ],
          "histogram2d": [
           {
            "colorbar": {
             "outlinewidth": 0,
             "ticks": ""
            },
            "colorscale": [
             [
              0,
              "#0d0887"
             ],
             [
              0.1111111111111111,
              "#46039f"
             ],
             [
              0.2222222222222222,
              "#7201a8"
             ],
             [
              0.3333333333333333,
              "#9c179e"
             ],
             [
              0.4444444444444444,
              "#bd3786"
             ],
             [
              0.5555555555555556,
              "#d8576b"
             ],
             [
              0.6666666666666666,
              "#ed7953"
             ],
             [
              0.7777777777777778,
              "#fb9f3a"
             ],
             [
              0.8888888888888888,
              "#fdca26"
             ],
             [
              1,
              "#f0f921"
             ]
            ],
            "type": "histogram2d"
           }
          ],
          "histogram2dcontour": [
           {
            "colorbar": {
             "outlinewidth": 0,
             "ticks": ""
            },
            "colorscale": [
             [
              0,
              "#0d0887"
             ],
             [
              0.1111111111111111,
              "#46039f"
             ],
             [
              0.2222222222222222,
              "#7201a8"
             ],
             [
              0.3333333333333333,
              "#9c179e"
             ],
             [
              0.4444444444444444,
              "#bd3786"
             ],
             [
              0.5555555555555556,
              "#d8576b"
             ],
             [
              0.6666666666666666,
              "#ed7953"
             ],
             [
              0.7777777777777778,
              "#fb9f3a"
             ],
             [
              0.8888888888888888,
              "#fdca26"
             ],
             [
              1,
              "#f0f921"
             ]
            ],
            "type": "histogram2dcontour"
           }
          ],
          "mesh3d": [
           {
            "colorbar": {
             "outlinewidth": 0,
             "ticks": ""
            },
            "type": "mesh3d"
           }
          ],
          "parcoords": [
           {
            "line": {
             "colorbar": {
              "outlinewidth": 0,
              "ticks": ""
             }
            },
            "type": "parcoords"
           }
          ],
          "pie": [
           {
            "automargin": true,
            "type": "pie"
           }
          ],
          "scatter": [
           {
            "fillpattern": {
             "fillmode": "overlay",
             "size": 10,
             "solidity": 0.2
            },
            "type": "scatter"
           }
          ],
          "scatter3d": [
           {
            "line": {
             "colorbar": {
              "outlinewidth": 0,
              "ticks": ""
             }
            },
            "marker": {
             "colorbar": {
              "outlinewidth": 0,
              "ticks": ""
             }
            },
            "type": "scatter3d"
           }
          ],
          "scattercarpet": [
           {
            "marker": {
             "colorbar": {
              "outlinewidth": 0,
              "ticks": ""
             }
            },
            "type": "scattercarpet"
           }
          ],
          "scattergeo": [
           {
            "marker": {
             "colorbar": {
              "outlinewidth": 0,
              "ticks": ""
             }
            },
            "type": "scattergeo"
           }
          ],
          "scattergl": [
           {
            "marker": {
             "colorbar": {
              "outlinewidth": 0,
              "ticks": ""
             }
            },
            "type": "scattergl"
           }
          ],
          "scattermap": [
           {
            "marker": {
             "colorbar": {
              "outlinewidth": 0,
              "ticks": ""
             }
            },
            "type": "scattermap"
           }
          ],
          "scattermapbox": [
           {
            "marker": {
             "colorbar": {
              "outlinewidth": 0,
              "ticks": ""
             }
            },
            "type": "scattermapbox"
           }
          ],
          "scatterpolar": [
           {
            "marker": {
             "colorbar": {
              "outlinewidth": 0,
              "ticks": ""
             }
            },
            "type": "scatterpolar"
           }
          ],
          "scatterpolargl": [
           {
            "marker": {
             "colorbar": {
              "outlinewidth": 0,
              "ticks": ""
             }
            },
            "type": "scatterpolargl"
           }
          ],
          "scatterternary": [
           {
            "marker": {
             "colorbar": {
              "outlinewidth": 0,
              "ticks": ""
             }
            },
            "type": "scatterternary"
           }
          ],
          "surface": [
           {
            "colorbar": {
             "outlinewidth": 0,
             "ticks": ""
            },
            "colorscale": [
             [
              0,
              "#0d0887"
             ],
             [
              0.1111111111111111,
              "#46039f"
             ],
             [
              0.2222222222222222,
              "#7201a8"
             ],
             [
              0.3333333333333333,
              "#9c179e"
             ],
             [
              0.4444444444444444,
              "#bd3786"
             ],
             [
              0.5555555555555556,
              "#d8576b"
             ],
             [
              0.6666666666666666,
              "#ed7953"
             ],
             [
              0.7777777777777778,
              "#fb9f3a"
             ],
             [
              0.8888888888888888,
              "#fdca26"
             ],
             [
              1,
              "#f0f921"
             ]
            ],
            "type": "surface"
           }
          ],
          "table": [
           {
            "cells": {
             "fill": {
              "color": "#EBF0F8"
             },
             "line": {
              "color": "white"
             }
            },
            "header": {
             "fill": {
              "color": "#C8D4E3"
             },
             "line": {
              "color": "white"
             }
            },
            "type": "table"
           }
          ]
         },
         "layout": {
          "annotationdefaults": {
           "arrowcolor": "#2a3f5f",
           "arrowhead": 0,
           "arrowwidth": 1
          },
          "autotypenumbers": "strict",
          "coloraxis": {
           "colorbar": {
            "outlinewidth": 0,
            "ticks": ""
           }
          },
          "colorscale": {
           "diverging": [
            [
             0,
             "#8e0152"
            ],
            [
             0.1,
             "#c51b7d"
            ],
            [
             0.2,
             "#de77ae"
            ],
            [
             0.3,
             "#f1b6da"
            ],
            [
             0.4,
             "#fde0ef"
            ],
            [
             0.5,
             "#f7f7f7"
            ],
            [
             0.6,
             "#e6f5d0"
            ],
            [
             0.7,
             "#b8e186"
            ],
            [
             0.8,
             "#7fbc41"
            ],
            [
             0.9,
             "#4d9221"
            ],
            [
             1,
             "#276419"
            ]
           ],
           "sequential": [
            [
             0,
             "#0d0887"
            ],
            [
             0.1111111111111111,
             "#46039f"
            ],
            [
             0.2222222222222222,
             "#7201a8"
            ],
            [
             0.3333333333333333,
             "#9c179e"
            ],
            [
             0.4444444444444444,
             "#bd3786"
            ],
            [
             0.5555555555555556,
             "#d8576b"
            ],
            [
             0.6666666666666666,
             "#ed7953"
            ],
            [
             0.7777777777777778,
             "#fb9f3a"
            ],
            [
             0.8888888888888888,
             "#fdca26"
            ],
            [
             1,
             "#f0f921"
            ]
           ],
           "sequentialminus": [
            [
             0,
             "#0d0887"
            ],
            [
             0.1111111111111111,
             "#46039f"
            ],
            [
             0.2222222222222222,
             "#7201a8"
            ],
            [
             0.3333333333333333,
             "#9c179e"
            ],
            [
             0.4444444444444444,
             "#bd3786"
            ],
            [
             0.5555555555555556,
             "#d8576b"
            ],
            [
             0.6666666666666666,
             "#ed7953"
            ],
            [
             0.7777777777777778,
             "#fb9f3a"
            ],
            [
             0.8888888888888888,
             "#fdca26"
            ],
            [
             1,
             "#f0f921"
            ]
           ]
          },
          "colorway": [
           "#636efa",
           "#EF553B",
           "#00cc96",
           "#ab63fa",
           "#FFA15A",
           "#19d3f3",
           "#FF6692",
           "#B6E880",
           "#FF97FF",
           "#FECB52"
          ],
          "font": {
           "color": "#2a3f5f"
          },
          "geo": {
           "bgcolor": "white",
           "lakecolor": "white",
           "landcolor": "#E5ECF6",
           "showlakes": true,
           "showland": true,
           "subunitcolor": "white"
          },
          "hoverlabel": {
           "align": "left"
          },
          "hovermode": "closest",
          "mapbox": {
           "style": "light"
          },
          "paper_bgcolor": "white",
          "plot_bgcolor": "#E5ECF6",
          "polar": {
           "angularaxis": {
            "gridcolor": "white",
            "linecolor": "white",
            "ticks": ""
           },
           "bgcolor": "#E5ECF6",
           "radialaxis": {
            "gridcolor": "white",
            "linecolor": "white",
            "ticks": ""
           }
          },
          "scene": {
           "xaxis": {
            "backgroundcolor": "#E5ECF6",
            "gridcolor": "white",
            "gridwidth": 2,
            "linecolor": "white",
            "showbackground": true,
            "ticks": "",
            "zerolinecolor": "white"
           },
           "yaxis": {
            "backgroundcolor": "#E5ECF6",
            "gridcolor": "white",
            "gridwidth": 2,
            "linecolor": "white",
            "showbackground": true,
            "ticks": "",
            "zerolinecolor": "white"
           },
           "zaxis": {
            "backgroundcolor": "#E5ECF6",
            "gridcolor": "white",
            "gridwidth": 2,
            "linecolor": "white",
            "showbackground": true,
            "ticks": "",
            "zerolinecolor": "white"
           }
          },
          "shapedefaults": {
           "line": {
            "color": "#2a3f5f"
           }
          },
          "ternary": {
           "aaxis": {
            "gridcolor": "white",
            "linecolor": "white",
            "ticks": ""
           },
           "baxis": {
            "gridcolor": "white",
            "linecolor": "white",
            "ticks": ""
           },
           "bgcolor": "#E5ECF6",
           "caxis": {
            "gridcolor": "white",
            "linecolor": "white",
            "ticks": ""
           }
          },
          "title": {
           "x": 0.05
          },
          "xaxis": {
           "automargin": true,
           "gridcolor": "white",
           "linecolor": "white",
           "ticks": "",
           "title": {
            "standoff": 15
           },
           "zerolinecolor": "white",
           "zerolinewidth": 2
          },
          "yaxis": {
           "automargin": true,
           "gridcolor": "white",
           "linecolor": "white",
           "ticks": "",
           "title": {
            "standoff": 15
           },
           "zerolinecolor": "white",
           "zerolinewidth": 2
          }
         }
        },
        "title": {
         "text": "클러스터별 도착 주차별 예약 비율 추이"
        },
        "xaxis": {
         "anchor": "y",
         "domain": [
          0,
          1
         ],
         "tickmode": "array",
         "tickvals": [
          5,
          10,
          15,
          20,
          25,
          30,
          35,
          40,
          45,
          50
         ],
         "title": {
          "text": "도착 주차"
         }
        },
        "yaxis": {
         "anchor": "x",
         "domain": [
          0,
          1
         ],
         "tickformat": ".0%",
         "title": {
          "text": "클러스터 내 예약 비율"
         }
        }
       }
      }
     },
     "metadata": {},
     "output_type": "display_data"
    }
   ],
   "source": [
    "import plotly.express as px\n",
    "import pandas as pd\n",
    "import plotly.graph_objects as go\n",
    "\n",
    "# df_resort_clustered DataFrame 사용\n",
    "\n",
    "# 클러스터별, 주차별 예약 건수 계산\n",
    "df_week_cluster_count = df_resort_clustered.groupby(['cluster_label', 'arrival_date_week_number']).size().reset_index(name='count')\n",
    "\n",
    "# 각 클러스터별 총 예약 건수 계산\n",
    "cluster_total_bookings = df_resort_clustered.groupby('cluster_label').size().reset_index(name='total_count')\n",
    "\n",
    "# 주차별 데이터에 클러스터별 총 예약 건수 병합\n",
    "df_week_cluster_count = pd.merge(df_week_cluster_count, cluster_total_bookings, on='cluster_label')\n",
    "\n",
    "# 클러스터별 주차별 예약 건수 비율 계산\n",
    "df_week_cluster_count['percentage'] = df_week_cluster_count['count'] / df_week_cluster_count['total_count']\n",
    "\n",
    "# 하나의 큰 차트에 여러 클러스터 표시 (꺾은선 그래프 - 예약 비율)\n",
    "fig_week_line_combined = px.line(df_week_cluster_count, x='arrival_date_week_number', y='percentage', color='cluster_label',\n",
    "                                 title='클러스터별 도착 주차별 예약 비율 추이',\n",
    "                                 labels={'arrival_date_week_number': '도착 주차', 'percentage': '클러스터 내 예약 비율', 'cluster_label': '클러스터 라벨'})\n",
    "\n",
    "# x축 레이블을 5의 배수만 표시\n",
    "week_numbers = sorted(df_week_cluster_count['arrival_date_week_number'].unique())\n",
    "tick_vals = [week for week in week_numbers if week % 5 == 0]\n",
    "\n",
    "fig_week_line_combined.update_layout(\n",
    "    xaxis = dict(\n",
    "        tickmode = 'array',\n",
    "        tickvals = tick_vals\n",
    "    )\n",
    ") # x축을 5의 배수만 표시\n",
    "fig_week_line_combined.update_yaxes(tickformat=\".0%\") # y축 레이블을 백분율로 표시\n",
    "\n",
    "fig_week_line_combined.show()\n",
    "\n",
    "\n",
    "# 기존 막대 그래프와 꺾은선 그래프 서브플롯 코드는 주석 처리하거나 제거\n",
    "# fig = make_subplots(rows=rows, cols=cols,\n",
    "#                     subplot_titles=[f'클러스터 {c}' for c in clusters],\n",
    "#                     specs=[[{\"secondary_y\": True}]*cols]*rows,\n",
    "#                     vertical_spacing=0.1, horizontal_spacing=0.05)\n",
    "\n",
    "# ... (기존 막대 그래프 및 꺾은선 그래프 추가 코드)\n",
    "\n",
    "# fig.update_layout(\n",
    "#     title_text='클러스터별 도착 주차별 예약 건수 및 비율',\n",
    "# ...\n",
    "# )\n",
    "# fig.show()"
   ]
  },
  {
   "cell_type": "code",
   "execution_count": null,
   "id": "b37df974",
   "metadata": {},
   "outputs": [
    {
     "name": "stdout",
     "output_type": "stream",
     "text": [
      "\n",
      "클러스터별 도착 주차별 예약 비율 차이 ANOVA 검정:\n",
      "F-statistic: 0.0087\n",
      "p-value: 0.9998\n",
      "\n",
      "결론: 클러스터별 도착 주차별 예약 비율에는 통계적으로 유의미한 차이가 없습니다.\n"
     ]
    }
   ],
   "source": [
    "from scipy import stats\n",
    "import pandas as pd\n",
    "\n",
    "# df_week_cluster_count DataFrame 사용 (이전 셀에서 생성됨)\n",
    "\n",
    "# 각 클러스터별 주차별 예약 비율 데이터 추출\n",
    "# ANOVA를 위해 각 클러스터의 'percentage' 값들을 리스트로 준비\n",
    "percentage_by_cluster = [df_week_cluster_count[df_week_cluster_count['cluster_label'] == c]['percentage'].dropna()\n",
    "                         for c in sorted(df_week_cluster_count['cluster_label'].unique())]\n",
    "\n",
    "# ANOVA 검정 수행\n",
    "# F-statistic과 p-value 확인\n",
    "fvalue_weekly_percentage, pvalue_weekly_percentage = stats.f_oneway(*percentage_by_cluster)\n",
    "\n",
    "print(\"\\n클러스터별 도착 주차별 예약 비율 차이 ANOVA 검정:\")\n",
    "print(f\"F-statistic: {fvalue_weekly_percentage:.4f}\")\n",
    "print(f\"p-value: {pvalue_weekly_percentage:.4f}\")\n",
    "\n",
    "# 결과 해석\n",
    "alpha = 0.05\n",
    "if pvalue_weekly_percentage < alpha:\n",
    "    print(\"\\n결론: 클러스터별 도착 주차별 예약 비율에는 통계적으로 유의미한 차이가 있습니다.\")\n",
    "else:\n",
    "    print(\"\\n결론: 클러스터별 도착 주차별 예약 비율에는 통계적으로 유의미한 차이가 없습니다.\")"
   ]
  },
  {
   "cell_type": "code",
   "execution_count": null,
   "id": "18605574",
   "metadata": {},
   "outputs": [
    {
     "data": {
      "application/vnd.plotly.v1+json": {
       "config": {
        "plotlyServerURL": "https://plot.ly"
       },
       "data": [
        {
         "hovertemplate": "color=0<br>클러스터 라벨=%{x}<br>평균 리드 타임 (일)=%{y}<br>lead_time_mean_formatted=%{text}<extra></extra>",
         "legendgroup": "0",
         "marker": {
          "color": "#636efa",
          "pattern": {
           "shape": ""
          }
         },
         "name": "0",
         "orientation": "v",
         "showlegend": true,
         "text": [
          "18.1"
         ],
         "textangle": 0,
         "textposition": "inside",
         "type": "bar",
         "x": {
          "bdata": "AAAAAA==",
          "dtype": "i4"
         },
         "xaxis": "x",
         "y": {
          "bdata": "dJJJdrsdMkA=",
          "dtype": "f8"
         },
         "yaxis": "y"
        },
        {
         "hovertemplate": "color=1<br>클러스터 라벨=%{x}<br>평균 리드 타임 (일)=%{y}<br>lead_time_mean_formatted=%{text}<extra></extra>",
         "legendgroup": "1",
         "marker": {
          "color": "#EF553B",
          "pattern": {
           "shape": ""
          }
         },
         "name": "1",
         "orientation": "v",
         "showlegend": true,
         "text": [
          "434.4"
         ],
         "textangle": 0,
         "textposition": "inside",
         "type": "bar",
         "x": {
          "bdata": "AQAAAA==",
          "dtype": "i4"
         },
         "xaxis": "x",
         "y": {
          "bdata": "UB4v12cme0A=",
          "dtype": "f8"
         },
         "yaxis": "y"
        },
        {
         "hovertemplate": "color=2<br>클러스터 라벨=%{x}<br>평균 리드 타임 (일)=%{y}<br>lead_time_mean_formatted=%{text}<extra></extra>",
         "legendgroup": "2",
         "marker": {
          "color": "#00cc96",
          "pattern": {
           "shape": ""
          }
         },
         "name": "2",
         "orientation": "v",
         "showlegend": true,
         "text": [
          "175.7"
         ],
         "textangle": 0,
         "textposition": "inside",
         "type": "bar",
         "x": {
          "bdata": "AgAAAA==",
          "dtype": "i4"
         },
         "xaxis": "x",
         "y": {
          "bdata": "XTaYl970ZUA=",
          "dtype": "f8"
         },
         "yaxis": "y"
        },
        {
         "hovertemplate": "color=3<br>클러스터 라벨=%{x}<br>평균 리드 타임 (일)=%{y}<br>lead_time_mean_formatted=%{text}<extra></extra>",
         "legendgroup": "3",
         "marker": {
          "color": "#ab63fa",
          "pattern": {
           "shape": ""
          }
         },
         "name": "3",
         "orientation": "v",
         "showlegend": true,
         "text": [
          "88.9"
         ],
         "textangle": 0,
         "textposition": "inside",
         "type": "bar",
         "x": {
          "bdata": "AwAAAA==",
          "dtype": "i4"
         },
         "xaxis": "x",
         "y": {
          "bdata": "N7PniyY6VkA=",
          "dtype": "f8"
         },
         "yaxis": "y"
        },
        {
         "hovertemplate": "color=4<br>클러스터 라벨=%{x}<br>평균 리드 타임 (일)=%{y}<br>lead_time_mean_formatted=%{text}<extra></extra>",
         "legendgroup": "4",
         "marker": {
          "color": "#FFA15A",
          "pattern": {
           "shape": ""
          }
         },
         "name": "4",
         "orientation": "v",
         "showlegend": true,
         "text": [
          "286.9"
         ],
         "textangle": 0,
         "textposition": "inside",
         "type": "bar",
         "x": {
          "bdata": "BAAAAA==",
          "dtype": "i4"
         },
         "xaxis": "x",
         "y": {
          "bdata": "LlHEKsXtcUA=",
          "dtype": "f8"
         },
         "yaxis": "y"
        }
       ],
       "layout": {
        "barmode": "relative",
        "legend": {
         "title": {
          "text": "color"
         },
         "tracegroupgap": 0
        },
        "shapes": [
         {
          "line": {
           "color": "Red",
           "dash": "dash",
           "width": 2
          },
          "name": "전체 평균 리드 타임",
          "type": "line",
          "x0": -0.5,
          "x1": 4.5,
          "y0": 104.50583224391684,
          "y1": 104.50583224391684
         }
        ],
        "showlegend": true,
        "template": {
         "data": {
          "bar": [
           {
            "error_x": {
             "color": "#2a3f5f"
            },
            "error_y": {
             "color": "#2a3f5f"
            },
            "marker": {
             "line": {
              "color": "#E5ECF6",
              "width": 0.5
             },
             "pattern": {
              "fillmode": "overlay",
              "size": 10,
              "solidity": 0.2
             }
            },
            "type": "bar"
           }
          ],
          "barpolar": [
           {
            "marker": {
             "line": {
              "color": "#E5ECF6",
              "width": 0.5
             },
             "pattern": {
              "fillmode": "overlay",
              "size": 10,
              "solidity": 0.2
             }
            },
            "type": "barpolar"
           }
          ],
          "carpet": [
           {
            "aaxis": {
             "endlinecolor": "#2a3f5f",
             "gridcolor": "white",
             "linecolor": "white",
             "minorgridcolor": "white",
             "startlinecolor": "#2a3f5f"
            },
            "baxis": {
             "endlinecolor": "#2a3f5f",
             "gridcolor": "white",
             "linecolor": "white",
             "minorgridcolor": "white",
             "startlinecolor": "#2a3f5f"
            },
            "type": "carpet"
           }
          ],
          "choropleth": [
           {
            "colorbar": {
             "outlinewidth": 0,
             "ticks": ""
            },
            "type": "choropleth"
           }
          ],
          "contour": [
           {
            "colorbar": {
             "outlinewidth": 0,
             "ticks": ""
            },
            "colorscale": [
             [
              0,
              "#0d0887"
             ],
             [
              0.1111111111111111,
              "#46039f"
             ],
             [
              0.2222222222222222,
              "#7201a8"
             ],
             [
              0.3333333333333333,
              "#9c179e"
             ],
             [
              0.4444444444444444,
              "#bd3786"
             ],
             [
              0.5555555555555556,
              "#d8576b"
             ],
             [
              0.6666666666666666,
              "#ed7953"
             ],
             [
              0.7777777777777778,
              "#fb9f3a"
             ],
             [
              0.8888888888888888,
              "#fdca26"
             ],
             [
              1,
              "#f0f921"
             ]
            ],
            "type": "contour"
           }
          ],
          "contourcarpet": [
           {
            "colorbar": {
             "outlinewidth": 0,
             "ticks": ""
            },
            "type": "contourcarpet"
           }
          ],
          "heatmap": [
           {
            "colorbar": {
             "outlinewidth": 0,
             "ticks": ""
            },
            "colorscale": [
             [
              0,
              "#0d0887"
             ],
             [
              0.1111111111111111,
              "#46039f"
             ],
             [
              0.2222222222222222,
              "#7201a8"
             ],
             [
              0.3333333333333333,
              "#9c179e"
             ],
             [
              0.4444444444444444,
              "#bd3786"
             ],
             [
              0.5555555555555556,
              "#d8576b"
             ],
             [
              0.6666666666666666,
              "#ed7953"
             ],
             [
              0.7777777777777778,
              "#fb9f3a"
             ],
             [
              0.8888888888888888,
              "#fdca26"
             ],
             [
              1,
              "#f0f921"
             ]
            ],
            "type": "heatmap"
           }
          ],
          "histogram": [
           {
            "marker": {
             "pattern": {
              "fillmode": "overlay",
              "size": 10,
              "solidity": 0.2
             }
            },
            "type": "histogram"
           }
          ],
          "histogram2d": [
           {
            "colorbar": {
             "outlinewidth": 0,
             "ticks": ""
            },
            "colorscale": [
             [
              0,
              "#0d0887"
             ],
             [
              0.1111111111111111,
              "#46039f"
             ],
             [
              0.2222222222222222,
              "#7201a8"
             ],
             [
              0.3333333333333333,
              "#9c179e"
             ],
             [
              0.4444444444444444,
              "#bd3786"
             ],
             [
              0.5555555555555556,
              "#d8576b"
             ],
             [
              0.6666666666666666,
              "#ed7953"
             ],
             [
              0.7777777777777778,
              "#fb9f3a"
             ],
             [
              0.8888888888888888,
              "#fdca26"
             ],
             [
              1,
              "#f0f921"
             ]
            ],
            "type": "histogram2d"
           }
          ],
          "histogram2dcontour": [
           {
            "colorbar": {
             "outlinewidth": 0,
             "ticks": ""
            },
            "colorscale": [
             [
              0,
              "#0d0887"
             ],
             [
              0.1111111111111111,
              "#46039f"
             ],
             [
              0.2222222222222222,
              "#7201a8"
             ],
             [
              0.3333333333333333,
              "#9c179e"
             ],
             [
              0.4444444444444444,
              "#bd3786"
             ],
             [
              0.5555555555555556,
              "#d8576b"
             ],
             [
              0.6666666666666666,
              "#ed7953"
             ],
             [
              0.7777777777777778,
              "#fb9f3a"
             ],
             [
              0.8888888888888888,
              "#fdca26"
             ],
             [
              1,
              "#f0f921"
             ]
            ],
            "type": "histogram2dcontour"
           }
          ],
          "mesh3d": [
           {
            "colorbar": {
             "outlinewidth": 0,
             "ticks": ""
            },
            "type": "mesh3d"
           }
          ],
          "parcoords": [
           {
            "line": {
             "colorbar": {
              "outlinewidth": 0,
              "ticks": ""
             }
            },
            "type": "parcoords"
           }
          ],
          "pie": [
           {
            "automargin": true,
            "type": "pie"
           }
          ],
          "scatter": [
           {
            "fillpattern": {
             "fillmode": "overlay",
             "size": 10,
             "solidity": 0.2
            },
            "type": "scatter"
           }
          ],
          "scatter3d": [
           {
            "line": {
             "colorbar": {
              "outlinewidth": 0,
              "ticks": ""
             }
            },
            "marker": {
             "colorbar": {
              "outlinewidth": 0,
              "ticks": ""
             }
            },
            "type": "scatter3d"
           }
          ],
          "scattercarpet": [
           {
            "marker": {
             "colorbar": {
              "outlinewidth": 0,
              "ticks": ""
             }
            },
            "type": "scattercarpet"
           }
          ],
          "scattergeo": [
           {
            "marker": {
             "colorbar": {
              "outlinewidth": 0,
              "ticks": ""
             }
            },
            "type": "scattergeo"
           }
          ],
          "scattergl": [
           {
            "marker": {
             "colorbar": {
              "outlinewidth": 0,
              "ticks": ""
             }
            },
            "type": "scattergl"
           }
          ],
          "scattermap": [
           {
            "marker": {
             "colorbar": {
              "outlinewidth": 0,
              "ticks": ""
             }
            },
            "type": "scattermap"
           }
          ],
          "scattermapbox": [
           {
            "marker": {
             "colorbar": {
              "outlinewidth": 0,
              "ticks": ""
             }
            },
            "type": "scattermapbox"
           }
          ],
          "scatterpolar": [
           {
            "marker": {
             "colorbar": {
              "outlinewidth": 0,
              "ticks": ""
             }
            },
            "type": "scatterpolar"
           }
          ],
          "scatterpolargl": [
           {
            "marker": {
             "colorbar": {
              "outlinewidth": 0,
              "ticks": ""
             }
            },
            "type": "scatterpolargl"
           }
          ],
          "scatterternary": [
           {
            "marker": {
             "colorbar": {
              "outlinewidth": 0,
              "ticks": ""
             }
            },
            "type": "scatterternary"
           }
          ],
          "surface": [
           {
            "colorbar": {
             "outlinewidth": 0,
             "ticks": ""
            },
            "colorscale": [
             [
              0,
              "#0d0887"
             ],
             [
              0.1111111111111111,
              "#46039f"
             ],
             [
              0.2222222222222222,
              "#7201a8"
             ],
             [
              0.3333333333333333,
              "#9c179e"
             ],
             [
              0.4444444444444444,
              "#bd3786"
             ],
             [
              0.5555555555555556,
              "#d8576b"
             ],
             [
              0.6666666666666666,
              "#ed7953"
             ],
             [
              0.7777777777777778,
              "#fb9f3a"
             ],
             [
              0.8888888888888888,
              "#fdca26"
             ],
             [
              1,
              "#f0f921"
             ]
            ],
            "type": "surface"
           }
          ],
          "table": [
           {
            "cells": {
             "fill": {
              "color": "#EBF0F8"
             },
             "line": {
              "color": "white"
             }
            },
            "header": {
             "fill": {
              "color": "#C8D4E3"
             },
             "line": {
              "color": "white"
             }
            },
            "type": "table"
           }
          ]
         },
         "layout": {
          "annotationdefaults": {
           "arrowcolor": "#2a3f5f",
           "arrowhead": 0,
           "arrowwidth": 1
          },
          "autotypenumbers": "strict",
          "coloraxis": {
           "colorbar": {
            "outlinewidth": 0,
            "ticks": ""
           }
          },
          "colorscale": {
           "diverging": [
            [
             0,
             "#8e0152"
            ],
            [
             0.1,
             "#c51b7d"
            ],
            [
             0.2,
             "#de77ae"
            ],
            [
             0.3,
             "#f1b6da"
            ],
            [
             0.4,
             "#fde0ef"
            ],
            [
             0.5,
             "#f7f7f7"
            ],
            [
             0.6,
             "#e6f5d0"
            ],
            [
             0.7,
             "#b8e186"
            ],
            [
             0.8,
             "#7fbc41"
            ],
            [
             0.9,
             "#4d9221"
            ],
            [
             1,
             "#276419"
            ]
           ],
           "sequential": [
            [
             0,
             "#0d0887"
            ],
            [
             0.1111111111111111,
             "#46039f"
            ],
            [
             0.2222222222222222,
             "#7201a8"
            ],
            [
             0.3333333333333333,
             "#9c179e"
            ],
            [
             0.4444444444444444,
             "#bd3786"
            ],
            [
             0.5555555555555556,
             "#d8576b"
            ],
            [
             0.6666666666666666,
             "#ed7953"
            ],
            [
             0.7777777777777778,
             "#fb9f3a"
            ],
            [
             0.8888888888888888,
             "#fdca26"
            ],
            [
             1,
             "#f0f921"
            ]
           ],
           "sequentialminus": [
            [
             0,
             "#0d0887"
            ],
            [
             0.1111111111111111,
             "#46039f"
            ],
            [
             0.2222222222222222,
             "#7201a8"
            ],
            [
             0.3333333333333333,
             "#9c179e"
            ],
            [
             0.4444444444444444,
             "#bd3786"
            ],
            [
             0.5555555555555556,
             "#d8576b"
            ],
            [
             0.6666666666666666,
             "#ed7953"
            ],
            [
             0.7777777777777778,
             "#fb9f3a"
            ],
            [
             0.8888888888888888,
             "#fdca26"
            ],
            [
             1,
             "#f0f921"
            ]
           ]
          },
          "colorway": [
           "#636efa",
           "#EF553B",
           "#00cc96",
           "#ab63fa",
           "#FFA15A",
           "#19d3f3",
           "#FF6692",
           "#B6E880",
           "#FF97FF",
           "#FECB52"
          ],
          "font": {
           "color": "#2a3f5f"
          },
          "geo": {
           "bgcolor": "white",
           "lakecolor": "white",
           "landcolor": "#E5ECF6",
           "showlakes": true,
           "showland": true,
           "subunitcolor": "white"
          },
          "hoverlabel": {
           "align": "left"
          },
          "hovermode": "closest",
          "mapbox": {
           "style": "light"
          },
          "paper_bgcolor": "white",
          "plot_bgcolor": "#E5ECF6",
          "polar": {
           "angularaxis": {
            "gridcolor": "white",
            "linecolor": "white",
            "ticks": ""
           },
           "bgcolor": "#E5ECF6",
           "radialaxis": {
            "gridcolor": "white",
            "linecolor": "white",
            "ticks": ""
           }
          },
          "scene": {
           "xaxis": {
            "backgroundcolor": "#E5ECF6",
            "gridcolor": "white",
            "gridwidth": 2,
            "linecolor": "white",
            "showbackground": true,
            "ticks": "",
            "zerolinecolor": "white"
           },
           "yaxis": {
            "backgroundcolor": "#E5ECF6",
            "gridcolor": "white",
            "gridwidth": 2,
            "linecolor": "white",
            "showbackground": true,
            "ticks": "",
            "zerolinecolor": "white"
           },
           "zaxis": {
            "backgroundcolor": "#E5ECF6",
            "gridcolor": "white",
            "gridwidth": 2,
            "linecolor": "white",
            "showbackground": true,
            "ticks": "",
            "zerolinecolor": "white"
           }
          },
          "shapedefaults": {
           "line": {
            "color": "#2a3f5f"
           }
          },
          "ternary": {
           "aaxis": {
            "gridcolor": "white",
            "linecolor": "white",
            "ticks": ""
           },
           "baxis": {
            "gridcolor": "white",
            "linecolor": "white",
            "ticks": ""
           },
           "bgcolor": "#E5ECF6",
           "caxis": {
            "gridcolor": "white",
            "linecolor": "white",
            "ticks": ""
           }
          },
          "title": {
           "x": 0.05
          },
          "xaxis": {
           "automargin": true,
           "gridcolor": "white",
           "linecolor": "white",
           "ticks": "",
           "title": {
            "standoff": 15
           },
           "zerolinecolor": "white",
           "zerolinewidth": 2
          },
          "yaxis": {
           "automargin": true,
           "gridcolor": "white",
           "linecolor": "white",
           "ticks": "",
           "title": {
            "standoff": 15
           },
           "zerolinecolor": "white",
           "zerolinewidth": 2
          }
         }
        },
        "title": {
         "text": "클러스터별 평균 리드 타임"
        },
        "xaxis": {
         "anchor": "y",
         "domain": [
          0,
          1
         ],
         "tickmode": "linear",
         "title": {
          "text": "클러스터 라벨"
         }
        },
        "yaxis": {
         "anchor": "x",
         "domain": [
          0,
          1
         ],
         "title": {
          "text": "평균 리드 타임 (일)"
         }
        }
       }
      }
     },
     "metadata": {},
     "output_type": "display_data"
    },
    {
     "data": {
      "application/vnd.plotly.v1+json": {
       "config": {
        "plotlyServerURL": "https://plot.ly"
       },
       "data": [
        {
         "hovertemplate": "color=0<br>클러스터 라벨=%{x}<br>취소율=%{y}<br>is_canceled_rate_percent=%{text}<extra></extra>",
         "legendgroup": "0",
         "marker": {
          "color": "#636efa",
          "pattern": {
           "shape": ""
          }
         },
         "name": "0",
         "orientation": "v",
         "showlegend": true,
         "text": [
          "23.1%"
         ],
         "textangle": 0,
         "textposition": "inside",
         "type": "bar",
         "x": {
          "bdata": "AAAAAA==",
          "dtype": "i4"
         },
         "xaxis": "x",
         "y": {
          "bdata": "2dnZIs6XzT8=",
          "dtype": "f8"
         },
         "yaxis": "y"
        },
        {
         "hovertemplate": "color=1<br>클러스터 라벨=%{x}<br>취소율=%{y}<br>is_canceled_rate_percent=%{text}<extra></extra>",
         "legendgroup": "1",
         "marker": {
          "color": "#EF553B",
          "pattern": {
           "shape": ""
          }
         },
         "name": "1",
         "orientation": "v",
         "showlegend": true,
         "text": [
          "67.1%"
         ],
         "textangle": 0,
         "textposition": "inside",
         "type": "bar",
         "x": {
          "bdata": "AQAAAA==",
          "dtype": "i4"
         },
         "xaxis": "x",
         "y": {
          "bdata": "QHzaiFh15T8=",
          "dtype": "f8"
         },
         "yaxis": "y"
        },
        {
         "hovertemplate": "color=2<br>클러스터 라벨=%{x}<br>취소율=%{y}<br>is_canceled_rate_percent=%{text}<extra></extra>",
         "legendgroup": "2",
         "marker": {
          "color": "#00cc96",
          "pattern": {
           "shape": ""
          }
         },
         "name": "2",
         "orientation": "v",
         "showlegend": true,
         "text": [
          "45.7%"
         ],
         "textangle": 0,
         "textposition": "inside",
         "type": "bar",
         "x": {
          "bdata": "AgAAAA==",
          "dtype": "i4"
         },
         "xaxis": "x",
         "y": {
          "bdata": "NJ283RI53T8=",
          "dtype": "f8"
         },
         "yaxis": "y"
        },
        {
         "hovertemplate": "color=3<br>클러스터 라벨=%{x}<br>취소율=%{y}<br>is_canceled_rate_percent=%{text}<extra></extra>",
         "legendgroup": "3",
         "marker": {
          "color": "#ab63fa",
          "pattern": {
           "shape": ""
          }
         },
         "name": "3",
         "orientation": "v",
         "showlegend": true,
         "text": [
          "41.6%"
         ],
         "textangle": 0,
         "textposition": "inside",
         "type": "bar",
         "x": {
          "bdata": "AwAAAA==",
          "dtype": "i4"
         },
         "xaxis": "x",
         "y": {
          "bdata": "XqIwZPSm2j8=",
          "dtype": "f8"
         },
         "yaxis": "y"
        },
        {
         "hovertemplate": "color=4<br>클러스터 라벨=%{x}<br>취소율=%{y}<br>is_canceled_rate_percent=%{text}<extra></extra>",
         "legendgroup": "4",
         "marker": {
          "color": "#FFA15A",
          "pattern": {
           "shape": ""
          }
         },
         "name": "4",
         "orientation": "v",
         "showlegend": true,
         "text": [
          "62.7%"
         ],
         "textangle": 0,
         "textposition": "inside",
         "type": "bar",
         "x": {
          "bdata": "BAAAAA==",
          "dtype": "i4"
         },
         "xaxis": "x",
         "y": {
          "bdata": "9q+4LyoR5D8=",
          "dtype": "f8"
         },
         "yaxis": "y"
        }
       ],
       "layout": {
        "barmode": "relative",
        "legend": {
         "title": {
          "text": "color"
         },
         "tracegroupgap": 0
        },
        "shapes": [
         {
          "line": {
           "color": "Red",
           "dash": "dash",
           "width": 2
          },
          "name": "전체 평균 취소율",
          "type": "line",
          "x0": -0.5,
          "x1": 4.5,
          "y0": 0.3725888753004681,
          "y1": 0.3725888753004681
         }
        ],
        "showlegend": true,
        "template": {
         "data": {
          "bar": [
           {
            "error_x": {
             "color": "#2a3f5f"
            },
            "error_y": {
             "color": "#2a3f5f"
            },
            "marker": {
             "line": {
              "color": "#E5ECF6",
              "width": 0.5
             },
             "pattern": {
              "fillmode": "overlay",
              "size": 10,
              "solidity": 0.2
             }
            },
            "type": "bar"
           }
          ],
          "barpolar": [
           {
            "marker": {
             "line": {
              "color": "#E5ECF6",
              "width": 0.5
             },
             "pattern": {
              "fillmode": "overlay",
              "size": 10,
              "solidity": 0.2
             }
            },
            "type": "barpolar"
           }
          ],
          "carpet": [
           {
            "aaxis": {
             "endlinecolor": "#2a3f5f",
             "gridcolor": "white",
             "linecolor": "white",
             "minorgridcolor": "white",
             "startlinecolor": "#2a3f5f"
            },
            "baxis": {
             "endlinecolor": "#2a3f5f",
             "gridcolor": "white",
             "linecolor": "white",
             "minorgridcolor": "white",
             "startlinecolor": "#2a3f5f"
            },
            "type": "carpet"
           }
          ],
          "choropleth": [
           {
            "colorbar": {
             "outlinewidth": 0,
             "ticks": ""
            },
            "type": "choropleth"
           }
          ],
          "contour": [
           {
            "colorbar": {
             "outlinewidth": 0,
             "ticks": ""
            },
            "colorscale": [
             [
              0,
              "#0d0887"
             ],
             [
              0.1111111111111111,
              "#46039f"
             ],
             [
              0.2222222222222222,
              "#7201a8"
             ],
             [
              0.3333333333333333,
              "#9c179e"
             ],
             [
              0.4444444444444444,
              "#bd3786"
             ],
             [
              0.5555555555555556,
              "#d8576b"
             ],
             [
              0.6666666666666666,
              "#ed7953"
             ],
             [
              0.7777777777777778,
              "#fb9f3a"
             ],
             [
              0.8888888888888888,
              "#fdca26"
             ],
             [
              1,
              "#f0f921"
             ]
            ],
            "type": "contour"
           }
          ],
          "contourcarpet": [
           {
            "colorbar": {
             "outlinewidth": 0,
             "ticks": ""
            },
            "type": "contourcarpet"
           }
          ],
          "heatmap": [
           {
            "colorbar": {
             "outlinewidth": 0,
             "ticks": ""
            },
            "colorscale": [
             [
              0,
              "#0d0887"
             ],
             [
              0.1111111111111111,
              "#46039f"
             ],
             [
              0.2222222222222222,
              "#7201a8"
             ],
             [
              0.3333333333333333,
              "#9c179e"
             ],
             [
              0.4444444444444444,
              "#bd3786"
             ],
             [
              0.5555555555555556,
              "#d8576b"
             ],
             [
              0.6666666666666666,
              "#ed7953"
             ],
             [
              0.7777777777777778,
              "#fb9f3a"
             ],
             [
              0.8888888888888888,
              "#fdca26"
             ],
             [
              1,
              "#f0f921"
             ]
            ],
            "type": "heatmap"
           }
          ],
          "histogram": [
           {
            "marker": {
             "pattern": {
              "fillmode": "overlay",
              "size": 10,
              "solidity": 0.2
             }
            },
            "type": "histogram"
           }
          ],
          "histogram2d": [
           {
            "colorbar": {
             "outlinewidth": 0,
             "ticks": ""
            },
            "colorscale": [
             [
              0,
              "#0d0887"
             ],
             [
              0.1111111111111111,
              "#46039f"
             ],
             [
              0.2222222222222222,
              "#7201a8"
             ],
             [
              0.3333333333333333,
              "#9c179e"
             ],
             [
              0.4444444444444444,
              "#bd3786"
             ],
             [
              0.5555555555555556,
              "#d8576b"
             ],
             [
              0.6666666666666666,
              "#ed7953"
             ],
             [
              0.7777777777777778,
              "#fb9f3a"
             ],
             [
              0.8888888888888888,
              "#fdca26"
             ],
             [
              1,
              "#f0f921"
             ]
            ],
            "type": "histogram2d"
           }
          ],
          "histogram2dcontour": [
           {
            "colorbar": {
             "outlinewidth": 0,
             "ticks": ""
            },
            "colorscale": [
             [
              0,
              "#0d0887"
             ],
             [
              0.1111111111111111,
              "#46039f"
             ],
             [
              0.2222222222222222,
              "#7201a8"
             ],
             [
              0.3333333333333333,
              "#9c179e"
             ],
             [
              0.4444444444444444,
              "#bd3786"
             ],
             [
              0.5555555555555556,
              "#d8576b"
             ],
             [
              0.6666666666666666,
              "#ed7953"
             ],
             [
              0.7777777777777778,
              "#fb9f3a"
             ],
             [
              0.8888888888888888,
              "#fdca26"
             ],
             [
              1,
              "#f0f921"
             ]
            ],
            "type": "histogram2dcontour"
           }
          ],
          "mesh3d": [
           {
            "colorbar": {
             "outlinewidth": 0,
             "ticks": ""
            },
            "type": "mesh3d"
           }
          ],
          "parcoords": [
           {
            "line": {
             "colorbar": {
              "outlinewidth": 0,
              "ticks": ""
             }
            },
            "type": "parcoords"
           }
          ],
          "pie": [
           {
            "automargin": true,
            "type": "pie"
           }
          ],
          "scatter": [
           {
            "fillpattern": {
             "fillmode": "overlay",
             "size": 10,
             "solidity": 0.2
            },
            "type": "scatter"
           }
          ],
          "scatter3d": [
           {
            "line": {
             "colorbar": {
              "outlinewidth": 0,
              "ticks": ""
             }
            },
            "marker": {
             "colorbar": {
              "outlinewidth": 0,
              "ticks": ""
             }
            },
            "type": "scatter3d"
           }
          ],
          "scattercarpet": [
           {
            "marker": {
             "colorbar": {
              "outlinewidth": 0,
              "ticks": ""
             }
            },
            "type": "scattercarpet"
           }
          ],
          "scattergeo": [
           {
            "marker": {
             "colorbar": {
              "outlinewidth": 0,
              "ticks": ""
             }
            },
            "type": "scattergeo"
           }
          ],
          "scattergl": [
           {
            "marker": {
             "colorbar": {
              "outlinewidth": 0,
              "ticks": ""
             }
            },
            "type": "scattergl"
           }
          ],
          "scattermap": [
           {
            "marker": {
             "colorbar": {
              "outlinewidth": 0,
              "ticks": ""
             }
            },
            "type": "scattermap"
           }
          ],
          "scattermapbox": [
           {
            "marker": {
             "colorbar": {
              "outlinewidth": 0,
              "ticks": ""
             }
            },
            "type": "scattermapbox"
           }
          ],
          "scatterpolar": [
           {
            "marker": {
             "colorbar": {
              "outlinewidth": 0,
              "ticks": ""
             }
            },
            "type": "scatterpolar"
           }
          ],
          "scatterpolargl": [
           {
            "marker": {
             "colorbar": {
              "outlinewidth": 0,
              "ticks": ""
             }
            },
            "type": "scatterpolargl"
           }
          ],
          "scatterternary": [
           {
            "marker": {
             "colorbar": {
              "outlinewidth": 0,
              "ticks": ""
             }
            },
            "type": "scatterternary"
           }
          ],
          "surface": [
           {
            "colorbar": {
             "outlinewidth": 0,
             "ticks": ""
            },
            "colorscale": [
             [
              0,
              "#0d0887"
             ],
             [
              0.1111111111111111,
              "#46039f"
             ],
             [
              0.2222222222222222,
              "#7201a8"
             ],
             [
              0.3333333333333333,
              "#9c179e"
             ],
             [
              0.4444444444444444,
              "#bd3786"
             ],
             [
              0.5555555555555556,
              "#d8576b"
             ],
             [
              0.6666666666666666,
              "#ed7953"
             ],
             [
              0.7777777777777778,
              "#fb9f3a"
             ],
             [
              0.8888888888888888,
              "#fdca26"
             ],
             [
              1,
              "#f0f921"
             ]
            ],
            "type": "surface"
           }
          ],
          "table": [
           {
            "cells": {
             "fill": {
              "color": "#EBF0F8"
             },
             "line": {
              "color": "white"
             }
            },
            "header": {
             "fill": {
              "color": "#C8D4E3"
             },
             "line": {
              "color": "white"
             }
            },
            "type": "table"
           }
          ]
         },
         "layout": {
          "annotationdefaults": {
           "arrowcolor": "#2a3f5f",
           "arrowhead": 0,
           "arrowwidth": 1
          },
          "autotypenumbers": "strict",
          "coloraxis": {
           "colorbar": {
            "outlinewidth": 0,
            "ticks": ""
           }
          },
          "colorscale": {
           "diverging": [
            [
             0,
             "#8e0152"
            ],
            [
             0.1,
             "#c51b7d"
            ],
            [
             0.2,
             "#de77ae"
            ],
            [
             0.3,
             "#f1b6da"
            ],
            [
             0.4,
             "#fde0ef"
            ],
            [
             0.5,
             "#f7f7f7"
            ],
            [
             0.6,
             "#e6f5d0"
            ],
            [
             0.7,
             "#b8e186"
            ],
            [
             0.8,
             "#7fbc41"
            ],
            [
             0.9,
             "#4d9221"
            ],
            [
             1,
             "#276419"
            ]
           ],
           "sequential": [
            [
             0,
             "#0d0887"
            ],
            [
             0.1111111111111111,
             "#46039f"
            ],
            [
             0.2222222222222222,
             "#7201a8"
            ],
            [
             0.3333333333333333,
             "#9c179e"
            ],
            [
             0.4444444444444444,
             "#bd3786"
            ],
            [
             0.5555555555555556,
             "#d8576b"
            ],
            [
             0.6666666666666666,
             "#ed7953"
            ],
            [
             0.7777777777777778,
             "#fb9f3a"
            ],
            [
             0.8888888888888888,
             "#fdca26"
            ],
            [
             1,
             "#f0f921"
            ]
           ],
           "sequentialminus": [
            [
             0,
             "#0d0887"
            ],
            [
             0.1111111111111111,
             "#46039f"
            ],
            [
             0.2222222222222222,
             "#7201a8"
            ],
            [
             0.3333333333333333,
             "#9c179e"
            ],
            [
             0.4444444444444444,
             "#bd3786"
            ],
            [
             0.5555555555555556,
             "#d8576b"
            ],
            [
             0.6666666666666666,
             "#ed7953"
            ],
            [
             0.7777777777777778,
             "#fb9f3a"
            ],
            [
             0.8888888888888888,
             "#fdca26"
            ],
            [
             1,
             "#f0f921"
            ]
           ]
          },
          "colorway": [
           "#636efa",
           "#EF553B",
           "#00cc96",
           "#ab63fa",
           "#FFA15A",
           "#19d3f3",
           "#FF6692",
           "#B6E880",
           "#FF97FF",
           "#FECB52"
          ],
          "font": {
           "color": "#2a3f5f"
          },
          "geo": {
           "bgcolor": "white",
           "lakecolor": "white",
           "landcolor": "#E5ECF6",
           "showlakes": true,
           "showland": true,
           "subunitcolor": "white"
          },
          "hoverlabel": {
           "align": "left"
          },
          "hovermode": "closest",
          "mapbox": {
           "style": "light"
          },
          "paper_bgcolor": "white",
          "plot_bgcolor": "#E5ECF6",
          "polar": {
           "angularaxis": {
            "gridcolor": "white",
            "linecolor": "white",
            "ticks": ""
           },
           "bgcolor": "#E5ECF6",
           "radialaxis": {
            "gridcolor": "white",
            "linecolor": "white",
            "ticks": ""
           }
          },
          "scene": {
           "xaxis": {
            "backgroundcolor": "#E5ECF6",
            "gridcolor": "white",
            "gridwidth": 2,
            "linecolor": "white",
            "showbackground": true,
            "ticks": "",
            "zerolinecolor": "white"
           },
           "yaxis": {
            "backgroundcolor": "#E5ECF6",
            "gridcolor": "white",
            "gridwidth": 2,
            "linecolor": "white",
            "showbackground": true,
            "ticks": "",
            "zerolinecolor": "white"
           },
           "zaxis": {
            "backgroundcolor": "#E5ECF6",
            "gridcolor": "white",
            "gridwidth": 2,
            "linecolor": "white",
            "showbackground": true,
            "ticks": "",
            "zerolinecolor": "white"
           }
          },
          "shapedefaults": {
           "line": {
            "color": "#2a3f5f"
           }
          },
          "ternary": {
           "aaxis": {
            "gridcolor": "white",
            "linecolor": "white",
            "ticks": ""
           },
           "baxis": {
            "gridcolor": "white",
            "linecolor": "white",
            "ticks": ""
           },
           "bgcolor": "#E5ECF6",
           "caxis": {
            "gridcolor": "white",
            "linecolor": "white",
            "ticks": ""
           }
          },
          "title": {
           "x": 0.05
          },
          "xaxis": {
           "automargin": true,
           "gridcolor": "white",
           "linecolor": "white",
           "ticks": "",
           "title": {
            "standoff": 15
           },
           "zerolinecolor": "white",
           "zerolinewidth": 2
          },
          "yaxis": {
           "automargin": true,
           "gridcolor": "white",
           "linecolor": "white",
           "ticks": "",
           "title": {
            "standoff": 15
           },
           "zerolinecolor": "white",
           "zerolinewidth": 2
          }
         }
        },
        "title": {
         "text": "클러스터별 취소율"
        },
        "xaxis": {
         "anchor": "y",
         "domain": [
          0,
          1
         ],
         "tickmode": "linear",
         "title": {
          "text": "클러스터 라벨"
         }
        },
        "yaxis": {
         "anchor": "x",
         "domain": [
          0,
          1
         ],
         "title": {
          "text": "취소율"
         }
        }
       }
      }
     },
     "metadata": {},
     "output_type": "display_data"
    }
   ],
   "source": [
    "import plotly.express as px\n",
    "import pandas as pd\n",
    "import plotly.graph_objects as go\n",
    "\n",
    "# cluster_profiling DataFrame 사용 (이전 셀에서 생성됨)\n",
    "\n",
    "# 클러스터별 평균 리드 타임 시각화 (막대 그래프)\n",
    "# 평균 리드 타임을 소수점 첫째자리까지 표시, 텍스트 방향 가로\n",
    "cluster_profiling['lead_time_mean_formatted'] = cluster_profiling['lead_time_mean'].round(1).astype(str)\n",
    "\n",
    "fig_lead_time = px.bar(cluster_profiling, x='cluster_label', y='lead_time_mean',\n",
    "                       title='클러스터별 평균 리드 타임',\n",
    "                       labels={'cluster_label': '클러스터 라벨', 'lead_time_mean': '평균 리드 타임 (일)'},\n",
    "                       text='lead_time_mean_formatted',\n",
    "                       color=cluster_profiling['cluster_label'].astype(str)) # 클러스터 라벨을 문자열로 변환하여 색상 구분\n",
    "\n",
    "fig_lead_time.update_traces(textposition='inside', textangle=0) # 텍스트 위치 inside, 각도 0 (가로)\n",
    "fig_lead_time.update_layout(xaxis = dict(tickmode = 'linear'))\n",
    "\n",
    "# 전체 평균 리드 타임 계산\n",
    "overall_avg_lead_time = df_resort_clustered['lead_time'].mean()\n",
    "\n",
    "# 전체 평균 리드 타임 점선 추가\n",
    "fig_lead_time.add_shape(type='line',\n",
    "                          x0=-0.5, # x축 시작점 (클러스터 라벨 0의 왼쪽)\n",
    "                          y0=overall_avg_lead_time,\n",
    "                          x1=len(cluster_profiling['cluster_label']) - 0.5, # x축 끝점 (마지막 클러스터 라벨의 오른쪽)\n",
    "                          y1=overall_avg_lead_time,\n",
    "                          line=dict(color='Red', width=2, dash='dash'),\n",
    "                          name='전체 평균 리드 타임')\n",
    "\n",
    "fig_lead_time.update_layout(showlegend=True) # 범례 표시\n",
    "fig_lead_time.show()\n",
    "\n",
    "\n",
    "# 클러스터별 취소율 시각화 (막대 그래프)\n",
    "# 취소율을 백분율로 변환하고 소수점 첫째자리까지 표시, 텍스트 방향 가로\n",
    "cluster_profiling['is_canceled_rate_percent'] = (cluster_profiling['is_canceled_rate'] * 100).round(1).astype(str) + '%'\n",
    "\n",
    "fig_cancel_rate = px.bar(cluster_profiling, x='cluster_label', y='is_canceled_rate',\n",
    "                       title='클러스터별 취소율',\n",
    "                       labels={'cluster_label': '클러스터 라벨', 'is_canceled_rate': '취소율'},\n",
    "                       text='is_canceled_rate_percent',\n",
    "                       color=cluster_profiling['cluster_label'].astype(str)) # 클러스터 라벨을 문자열로 변환하여 색상 구분\n",
    "\n",
    "\n",
    "fig_cancel_rate.update_traces(textposition='inside', textangle=0) # 텍스트 위치 inside, 각도 0 (가로)\n",
    "fig_cancel_rate.update_layout(xaxis = dict(tickmode = 'linear'))\n",
    "\n",
    "# 전체 평균 취소율 계산\n",
    "overall_avg_cancel_rate = df_resort_clustered['is_canceled'].mean()\n",
    "\n",
    "# 전체 평균 취소율 점선 추가\n",
    "fig_cancel_rate.add_shape(type='line',\n",
    "                          x0=-0.5, # x축 시작점 (클러스터 라벨 0의 왼쪽)\n",
    "                          y0=overall_avg_cancel_rate,\n",
    "                          x1=len(cluster_profiling['cluster_label']) - 0.5, # x축 끝점 (마지막 클러스터 라벨의 오른쪽)\n",
    "                          y1=overall_avg_cancel_rate,\n",
    "                          line=dict(color='Red', width=2, dash='dash'),\n",
    "                          name='전체 평균 취소율')\n",
    "\n",
    "fig_cancel_rate.update_layout(showlegend=True) # 범례 표시\n",
    "fig_cancel_rate.show()"
   ]
  },
  {
   "cell_type": "code",
   "execution_count": null,
   "id": "3560f73d",
   "metadata": {},
   "outputs": [
    {
     "name": "stdout",
     "output_type": "stream",
     "text": [
      "\n",
      "클러스터별 도착 주차별 예약 비율 분산 차이 Levene 검정:\n",
      "W-statistic: 16.3299\n",
      "p-value: 0.0000\n",
      "\n",
      "결론: 클러스터별 도착 주차별 예약 비율의 분산에는 통계적으로 유의미한 차이가 있습니다.\n"
     ]
    }
   ],
   "source": [
    "from scipy import stats\n",
    "import pandas as pd\n",
    "\n",
    "# df_week_cluster_count DataFrame 사용 (이전 셀에서 생성됨)\n",
    "\n",
    "# 각 클러스터별 주차별 예약 비율 데이터 추출\n",
    "# Levene 검정을 위해 각 클러스터의 'percentage' 값들을 리스트로 준비\n",
    "percentage_by_cluster = [df_week_cluster_count[df_week_cluster_count['cluster_label'] == c]['percentage'].dropna()\n",
    "                         for c in sorted(df_week_cluster_count['cluster_label'].unique())]\n",
    "\n",
    "# Levene 검정 수행 (분산의 동질성 검정)\n",
    "# W-statistic과 p-value 확인\n",
    "wvalue_weekly_percentage, pvalue_weekly_percentage_levene = stats.levene(*percentage_by_cluster)\n",
    "\n",
    "print(\"\\n클러스터별 도착 주차별 예약 비율 분산 차이 Levene 검정:\")\n",
    "print(f\"W-statistic: {wvalue_weekly_percentage:.4f}\")\n",
    "print(f\"p-value: {pvalue_weekly_percentage_levene:.4f}\")\n",
    "\n",
    "# 결과 해석\n",
    "alpha = 0.05\n",
    "if pvalue_weekly_percentage_levene < alpha:\n",
    "    print(\"\\n결론: 클러스터별 도착 주차별 예약 비율의 분산에는 통계적으로 유의미한 차이가 있습니다.\")\n",
    "else:\n",
    "    print(\"\\n결론: 클러스터별 도착 주차별 예약 비율의 분산에는 통계적으로 유의미한 차이가 없습니다.\")"
   ]
  },
  {
   "cell_type": "code",
   "execution_count": null,
   "id": "139d92cb",
   "metadata": {},
   "outputs": [
    {
     "data": {
      "application/vnd.plotly.v1+json": {
       "config": {
        "plotlyServerURL": "https://plot.ly"
       },
       "data": [
        {
         "alignmentgroup": "True",
         "hovertemplate": "자녀 동반 여부=자녀 미동반<br>클러스터 라벨=%{x}<br>비율=%{y}<extra></extra>",
         "legendgroup": "자녀 미동반",
         "marker": {
          "color": "#636efa",
          "pattern": {
           "shape": ""
          }
         },
         "name": "자녀 미동반",
         "offsetgroup": "자녀 미동반",
         "orientation": "v",
         "showlegend": true,
         "textposition": "auto",
         "texttemplate": "%{y:.1%}",
         "type": "bar",
         "x": {
          "bdata": "AAAAAAEAAAACAAAAAwAAAAQAAAA=",
          "dtype": "i4"
         },
         "xaxis": "x",
         "y": {
          "bdata": "E5FMIIVa7T9gw6FRMOPvPzDqQD7mGe0/PuPytelh7T/B0PIrGFruPw==",
          "dtype": "f8"
         },
         "yaxis": "y"
        },
        {
         "alignmentgroup": "True",
         "hovertemplate": "자녀 동반 여부=자녀 동반<br>클러스터 라벨=%{x}<br>비율=%{y}<extra></extra>",
         "legendgroup": "자녀 동반",
         "marker": {
          "color": "#EF553B",
          "pattern": {
           "shape": ""
          }
         },
         "name": "자녀 동반",
         "offsetgroup": "자녀 동반",
         "orientation": "v",
         "showlegend": true,
         "textposition": "auto",
         "texttemplate": "%{y:.1%}",
         "type": "bar",
         "x": {
          "bdata": "AAAAAAEAAAACAAAAAwAAAAQAAAA=",
          "dtype": "i4"
         },
         "xaxis": "x",
         "y": {
          "bdata": "Z3eb/dYrtT+qnzxers9sP4Cu+A3OMLc/E+ZoULLwtD/q89JAfV6qPw==",
          "dtype": "f8"
         },
         "yaxis": "y"
        }
       ],
       "layout": {
        "barmode": "group",
        "legend": {
         "title": {
          "text": "자녀 동반 여부"
         },
         "tracegroupgap": 0
        },
        "template": {
         "data": {
          "bar": [
           {
            "error_x": {
             "color": "#2a3f5f"
            },
            "error_y": {
             "color": "#2a3f5f"
            },
            "marker": {
             "line": {
              "color": "#E5ECF6",
              "width": 0.5
             },
             "pattern": {
              "fillmode": "overlay",
              "size": 10,
              "solidity": 0.2
             }
            },
            "type": "bar"
           }
          ],
          "barpolar": [
           {
            "marker": {
             "line": {
              "color": "#E5ECF6",
              "width": 0.5
             },
             "pattern": {
              "fillmode": "overlay",
              "size": 10,
              "solidity": 0.2
             }
            },
            "type": "barpolar"
           }
          ],
          "carpet": [
           {
            "aaxis": {
             "endlinecolor": "#2a3f5f",
             "gridcolor": "white",
             "linecolor": "white",
             "minorgridcolor": "white",
             "startlinecolor": "#2a3f5f"
            },
            "baxis": {
             "endlinecolor": "#2a3f5f",
             "gridcolor": "white",
             "linecolor": "white",
             "minorgridcolor": "white",
             "startlinecolor": "#2a3f5f"
            },
            "type": "carpet"
           }
          ],
          "choropleth": [
           {
            "colorbar": {
             "outlinewidth": 0,
             "ticks": ""
            },
            "type": "choropleth"
           }
          ],
          "contour": [
           {
            "colorbar": {
             "outlinewidth": 0,
             "ticks": ""
            },
            "colorscale": [
             [
              0,
              "#0d0887"
             ],
             [
              0.1111111111111111,
              "#46039f"
             ],
             [
              0.2222222222222222,
              "#7201a8"
             ],
             [
              0.3333333333333333,
              "#9c179e"
             ],
             [
              0.4444444444444444,
              "#bd3786"
             ],
             [
              0.5555555555555556,
              "#d8576b"
             ],
             [
              0.6666666666666666,
              "#ed7953"
             ],
             [
              0.7777777777777778,
              "#fb9f3a"
             ],
             [
              0.8888888888888888,
              "#fdca26"
             ],
             [
              1,
              "#f0f921"
             ]
            ],
            "type": "contour"
           }
          ],
          "contourcarpet": [
           {
            "colorbar": {
             "outlinewidth": 0,
             "ticks": ""
            },
            "type": "contourcarpet"
           }
          ],
          "heatmap": [
           {
            "colorbar": {
             "outlinewidth": 0,
             "ticks": ""
            },
            "colorscale": [
             [
              0,
              "#0d0887"
             ],
             [
              0.1111111111111111,
              "#46039f"
             ],
             [
              0.2222222222222222,
              "#7201a8"
             ],
             [
              0.3333333333333333,
              "#9c179e"
             ],
             [
              0.4444444444444444,
              "#bd3786"
             ],
             [
              0.5555555555555556,
              "#d8576b"
             ],
             [
              0.6666666666666666,
              "#ed7953"
             ],
             [
              0.7777777777777778,
              "#fb9f3a"
             ],
             [
              0.8888888888888888,
              "#fdca26"
             ],
             [
              1,
              "#f0f921"
             ]
            ],
            "type": "heatmap"
           }
          ],
          "histogram": [
           {
            "marker": {
             "pattern": {
              "fillmode": "overlay",
              "size": 10,
              "solidity": 0.2
             }
            },
            "type": "histogram"
           }
          ],
          "histogram2d": [
           {
            "colorbar": {
             "outlinewidth": 0,
             "ticks": ""
            },
            "colorscale": [
             [
              0,
              "#0d0887"
             ],
             [
              0.1111111111111111,
              "#46039f"
             ],
             [
              0.2222222222222222,
              "#7201a8"
             ],
             [
              0.3333333333333333,
              "#9c179e"
             ],
             [
              0.4444444444444444,
              "#bd3786"
             ],
             [
              0.5555555555555556,
              "#d8576b"
             ],
             [
              0.6666666666666666,
              "#ed7953"
             ],
             [
              0.7777777777777778,
              "#fb9f3a"
             ],
             [
              0.8888888888888888,
              "#fdca26"
             ],
             [
              1,
              "#f0f921"
             ]
            ],
            "type": "histogram2d"
           }
          ],
          "histogram2dcontour": [
           {
            "colorbar": {
             "outlinewidth": 0,
             "ticks": ""
            },
            "colorscale": [
             [
              0,
              "#0d0887"
             ],
             [
              0.1111111111111111,
              "#46039f"
             ],
             [
              0.2222222222222222,
              "#7201a8"
             ],
             [
              0.3333333333333333,
              "#9c179e"
             ],
             [
              0.4444444444444444,
              "#bd3786"
             ],
             [
              0.5555555555555556,
              "#d8576b"
             ],
             [
              0.6666666666666666,
              "#ed7953"
             ],
             [
              0.7777777777777778,
              "#fb9f3a"
             ],
             [
              0.8888888888888888,
              "#fdca26"
             ],
             [
              1,
              "#f0f921"
             ]
            ],
            "type": "histogram2dcontour"
           }
          ],
          "mesh3d": [
           {
            "colorbar": {
             "outlinewidth": 0,
             "ticks": ""
            },
            "type": "mesh3d"
           }
          ],
          "parcoords": [
           {
            "line": {
             "colorbar": {
              "outlinewidth": 0,
              "ticks": ""
             }
            },
            "type": "parcoords"
           }
          ],
          "pie": [
           {
            "automargin": true,
            "type": "pie"
           }
          ],
          "scatter": [
           {
            "fillpattern": {
             "fillmode": "overlay",
             "size": 10,
             "solidity": 0.2
            },
            "type": "scatter"
           }
          ],
          "scatter3d": [
           {
            "line": {
             "colorbar": {
              "outlinewidth": 0,
              "ticks": ""
             }
            },
            "marker": {
             "colorbar": {
              "outlinewidth": 0,
              "ticks": ""
             }
            },
            "type": "scatter3d"
           }
          ],
          "scattercarpet": [
           {
            "marker": {
             "colorbar": {
              "outlinewidth": 0,
              "ticks": ""
             }
            },
            "type": "scattercarpet"
           }
          ],
          "scattergeo": [
           {
            "marker": {
             "colorbar": {
              "outlinewidth": 0,
              "ticks": ""
             }
            },
            "type": "scattergeo"
           }
          ],
          "scattergl": [
           {
            "marker": {
             "colorbar": {
              "outlinewidth": 0,
              "ticks": ""
             }
            },
            "type": "scattergl"
           }
          ],
          "scattermap": [
           {
            "marker": {
             "colorbar": {
              "outlinewidth": 0,
              "ticks": ""
             }
            },
            "type": "scattermap"
           }
          ],
          "scattermapbox": [
           {
            "marker": {
             "colorbar": {
              "outlinewidth": 0,
              "ticks": ""
             }
            },
            "type": "scattermapbox"
           }
          ],
          "scatterpolar": [
           {
            "marker": {
             "colorbar": {
              "outlinewidth": 0,
              "ticks": ""
             }
            },
            "type": "scatterpolar"
           }
          ],
          "scatterpolargl": [
           {
            "marker": {
             "colorbar": {
              "outlinewidth": 0,
              "ticks": ""
             }
            },
            "type": "scatterpolargl"
           }
          ],
          "scatterternary": [
           {
            "marker": {
             "colorbar": {
              "outlinewidth": 0,
              "ticks": ""
             }
            },
            "type": "scatterternary"
           }
          ],
          "surface": [
           {
            "colorbar": {
             "outlinewidth": 0,
             "ticks": ""
            },
            "colorscale": [
             [
              0,
              "#0d0887"
             ],
             [
              0.1111111111111111,
              "#46039f"
             ],
             [
              0.2222222222222222,
              "#7201a8"
             ],
             [
              0.3333333333333333,
              "#9c179e"
             ],
             [
              0.4444444444444444,
              "#bd3786"
             ],
             [
              0.5555555555555556,
              "#d8576b"
             ],
             [
              0.6666666666666666,
              "#ed7953"
             ],
             [
              0.7777777777777778,
              "#fb9f3a"
             ],
             [
              0.8888888888888888,
              "#fdca26"
             ],
             [
              1,
              "#f0f921"
             ]
            ],
            "type": "surface"
           }
          ],
          "table": [
           {
            "cells": {
             "fill": {
              "color": "#EBF0F8"
             },
             "line": {
              "color": "white"
             }
            },
            "header": {
             "fill": {
              "color": "#C8D4E3"
             },
             "line": {
              "color": "white"
             }
            },
            "type": "table"
           }
          ]
         },
         "layout": {
          "annotationdefaults": {
           "arrowcolor": "#2a3f5f",
           "arrowhead": 0,
           "arrowwidth": 1
          },
          "autotypenumbers": "strict",
          "coloraxis": {
           "colorbar": {
            "outlinewidth": 0,
            "ticks": ""
           }
          },
          "colorscale": {
           "diverging": [
            [
             0,
             "#8e0152"
            ],
            [
             0.1,
             "#c51b7d"
            ],
            [
             0.2,
             "#de77ae"
            ],
            [
             0.3,
             "#f1b6da"
            ],
            [
             0.4,
             "#fde0ef"
            ],
            [
             0.5,
             "#f7f7f7"
            ],
            [
             0.6,
             "#e6f5d0"
            ],
            [
             0.7,
             "#b8e186"
            ],
            [
             0.8,
             "#7fbc41"
            ],
            [
             0.9,
             "#4d9221"
            ],
            [
             1,
             "#276419"
            ]
           ],
           "sequential": [
            [
             0,
             "#0d0887"
            ],
            [
             0.1111111111111111,
             "#46039f"
            ],
            [
             0.2222222222222222,
             "#7201a8"
            ],
            [
             0.3333333333333333,
             "#9c179e"
            ],
            [
             0.4444444444444444,
             "#bd3786"
            ],
            [
             0.5555555555555556,
             "#d8576b"
            ],
            [
             0.6666666666666666,
             "#ed7953"
            ],
            [
             0.7777777777777778,
             "#fb9f3a"
            ],
            [
             0.8888888888888888,
             "#fdca26"
            ],
            [
             1,
             "#f0f921"
            ]
           ],
           "sequentialminus": [
            [
             0,
             "#0d0887"
            ],
            [
             0.1111111111111111,
             "#46039f"
            ],
            [
             0.2222222222222222,
             "#7201a8"
            ],
            [
             0.3333333333333333,
             "#9c179e"
            ],
            [
             0.4444444444444444,
             "#bd3786"
            ],
            [
             0.5555555555555556,
             "#d8576b"
            ],
            [
             0.6666666666666666,
             "#ed7953"
            ],
            [
             0.7777777777777778,
             "#fb9f3a"
            ],
            [
             0.8888888888888888,
             "#fdca26"
            ],
            [
             1,
             "#f0f921"
            ]
           ]
          },
          "colorway": [
           "#636efa",
           "#EF553B",
           "#00cc96",
           "#ab63fa",
           "#FFA15A",
           "#19d3f3",
           "#FF6692",
           "#B6E880",
           "#FF97FF",
           "#FECB52"
          ],
          "font": {
           "color": "#2a3f5f"
          },
          "geo": {
           "bgcolor": "white",
           "lakecolor": "white",
           "landcolor": "#E5ECF6",
           "showlakes": true,
           "showland": true,
           "subunitcolor": "white"
          },
          "hoverlabel": {
           "align": "left"
          },
          "hovermode": "closest",
          "mapbox": {
           "style": "light"
          },
          "paper_bgcolor": "white",
          "plot_bgcolor": "#E5ECF6",
          "polar": {
           "angularaxis": {
            "gridcolor": "white",
            "linecolor": "white",
            "ticks": ""
           },
           "bgcolor": "#E5ECF6",
           "radialaxis": {
            "gridcolor": "white",
            "linecolor": "white",
            "ticks": ""
           }
          },
          "scene": {
           "xaxis": {
            "backgroundcolor": "#E5ECF6",
            "gridcolor": "white",
            "gridwidth": 2,
            "linecolor": "white",
            "showbackground": true,
            "ticks": "",
            "zerolinecolor": "white"
           },
           "yaxis": {
            "backgroundcolor": "#E5ECF6",
            "gridcolor": "white",
            "gridwidth": 2,
            "linecolor": "white",
            "showbackground": true,
            "ticks": "",
            "zerolinecolor": "white"
           },
           "zaxis": {
            "backgroundcolor": "#E5ECF6",
            "gridcolor": "white",
            "gridwidth": 2,
            "linecolor": "white",
            "showbackground": true,
            "ticks": "",
            "zerolinecolor": "white"
           }
          },
          "shapedefaults": {
           "line": {
            "color": "#2a3f5f"
           }
          },
          "ternary": {
           "aaxis": {
            "gridcolor": "white",
            "linecolor": "white",
            "ticks": ""
           },
           "baxis": {
            "gridcolor": "white",
            "linecolor": "white",
            "ticks": ""
           },
           "bgcolor": "#E5ECF6",
           "caxis": {
            "gridcolor": "white",
            "linecolor": "white",
            "ticks": ""
           }
          },
          "title": {
           "x": 0.05
          },
          "xaxis": {
           "automargin": true,
           "gridcolor": "white",
           "linecolor": "white",
           "ticks": "",
           "title": {
            "standoff": 15
           },
           "zerolinecolor": "white",
           "zerolinewidth": 2
          },
          "yaxis": {
           "automargin": true,
           "gridcolor": "white",
           "linecolor": "white",
           "ticks": "",
           "title": {
            "standoff": 15
           },
           "zerolinecolor": "white",
           "zerolinewidth": 2
          }
         }
        },
        "title": {
         "text": "클러스터별 자녀 동반 여부 비율 분포"
        },
        "xaxis": {
         "anchor": "y",
         "domain": [
          0,
          1
         ],
         "tickmode": "linear",
         "title": {
          "text": "클러스터 라벨"
         }
        },
        "yaxis": {
         "anchor": "x",
         "domain": [
          0,
          1
         ],
         "tickformat": ".0%",
         "title": {
          "text": "비율"
         }
        }
       }
      }
     },
     "metadata": {},
     "output_type": "display_data"
    }
   ],
   "source": [
    "import plotly.express as px\n",
    "import pandas as pd\n",
    "\n",
    "# df_resort_clustered DataFrame 사용\n",
    "\n",
    "# 클러스터별 is_child 분포 계산 (count)\n",
    "df_child_cluster = df_resort_clustered.groupby(['cluster_label', 'is_child']).size().reset_index(name='count')\n",
    "\n",
    "# 클러스터별 총 예약 건수 계산\n",
    "cluster_total_bookings = df_resort_clustered.groupby('cluster_label').size().reset_index(name='total_count')\n",
    "\n",
    "# 클러스터별 is_child 분포 데이터에 총 예약 건수 병합\n",
    "df_child_cluster = pd.merge(df_child_cluster, cluster_total_bookings, on='cluster_label')\n",
    "\n",
    "# 클러스터별 비율 계산\n",
    "df_child_cluster['percentage'] = df_child_cluster['count'] / df_child_cluster['total_count']\n",
    "\n",
    "# is_child 값을 '자녀 동반'/'자녀 미동반'으로 변경하여 가독성 높이기\n",
    "df_child_cluster['is_child_label'] = df_child_cluster['is_child'].apply(lambda x: '자녀 동반' if x else '자녀 미동반')\n",
    "\n",
    "# 클러스터별 is_child 분포 시각화 (그룹화된 막대 그래프) - 비율 사용\n",
    "fig_is_child = px.bar(df_child_cluster, x='cluster_label', y='percentage', color='is_child_label',\n",
    "                      title='클러스터별 자녀 동반 여부 비율 분포',\n",
    "                      labels={'cluster_label': '클러스터 라벨', 'percentage': '비율', 'is_child_label': '자녀 동반 여부'},\n",
    "                      barmode='group', # 그룹화된 막대 그래프\n",
    "                      text_auto='.1%') # 비율을 백분율로 자동 표시 (소수점 첫째 자리)\n",
    "\n",
    "\n",
    "fig_is_child.update_layout(yaxis={'tickformat': '.0%'}) # y축 레이블을 백분율로 표시\n",
    "fig_is_child.update_layout(xaxis = dict(tickmode = 'linear'))\n",
    "fig_is_child.show()"
   ]
  },
  {
   "cell_type": "code",
   "execution_count": null,
   "id": "72352d92",
   "metadata": {},
   "outputs": [
    {
     "data": {
      "application/vnd.plotly.v1+json": {
       "config": {
        "plotlyServerURL": "https://plot.ly"
       },
       "data": [
        {
         "marker": {
          "color": [
           "#636efa",
           "#ef553b",
           "#00cc96",
           "#ab63fa",
           "#ffa15a"
          ]
         },
         "name": "전체 예약 건수",
         "text": {
          "bdata": "AAAAAOAg6UAAAAAAAKiqQAAAAAAAC9VAAAAAAEAY3UAAAAAAgB7IQA==",
          "dtype": "f8"
         },
         "textposition": "auto",
         "type": "bar",
         "x": {
          "bdata": "AAAAAAEAAAACAAAAAwAAAAQAAAA=",
          "dtype": "i4"
         },
         "xaxis": "x",
         "y": {
          "bdata": "B8kAAFQNAAAsVAAAYXQAAD0wAAA=",
          "dtype": "i4"
         },
         "yaxis": "y"
        },
        {
         "marker": {
          "color": [
           "#0718ec",
           "#c0290f",
           "#008e69",
           "#7407ec",
           "#f16700"
          ],
          "line": {
           "color": "black",
           "width": 1
          }
         },
         "name": "취소되지 않은 예약 건수",
         "text": {
          "bdata": "AAAAAKBR40AAAAAAAJCRQAAAAACA3sZAAAAAAID60EAAAAAAAP2xQA==",
          "dtype": "f8"
         },
         "textposition": "auto",
         "type": "bar",
         "x": {
          "bdata": "AAAAAAEAAAACAAAAAwAAAAQAAAA=",
          "dtype": "i4"
         },
         "xaxis": "x",
         "y": {
          "bdata": "jZoAAGQEAAC9LQAA6kMAAP0RAAA=",
          "dtype": "i4"
         },
         "yaxis": "y"
        },
        {
         "line": {
          "dash": "dot"
         },
         "marker": {
          "size": 8
         },
         "mode": "lines+markers",
         "name": "취소율",
         "type": "scatter",
         "x": {
          "bdata": "AAAAAAEAAAACAAAAAwAAAAQAAAA=",
          "dtype": "i4"
         },
         "xaxis": "x",
         "y": {
          "bdata": "2dnZIs6XzT9AfNqIWHXlPzSdvN0SOd0/XqIwZPSm2j/2r7gvKhHkPw==",
          "dtype": "f8"
         },
         "yaxis": "y2"
        }
       ],
       "layout": {
        "legend": {
         "orientation": "h",
         "x": 1,
         "xanchor": "right",
         "y": 1.02,
         "yanchor": "bottom"
        },
        "template": {
         "data": {
          "bar": [
           {
            "error_x": {
             "color": "#2a3f5f"
            },
            "error_y": {
             "color": "#2a3f5f"
            },
            "marker": {
             "line": {
              "color": "#E5ECF6",
              "width": 0.5
             },
             "pattern": {
              "fillmode": "overlay",
              "size": 10,
              "solidity": 0.2
             }
            },
            "type": "bar"
           }
          ],
          "barpolar": [
           {
            "marker": {
             "line": {
              "color": "#E5ECF6",
              "width": 0.5
             },
             "pattern": {
              "fillmode": "overlay",
              "size": 10,
              "solidity": 0.2
             }
            },
            "type": "barpolar"
           }
          ],
          "carpet": [
           {
            "aaxis": {
             "endlinecolor": "#2a3f5f",
             "gridcolor": "white",
             "linecolor": "white",
             "minorgridcolor": "white",
             "startlinecolor": "#2a3f5f"
            },
            "baxis": {
             "endlinecolor": "#2a3f5f",
             "gridcolor": "white",
             "linecolor": "white",
             "minorgridcolor": "white",
             "startlinecolor": "#2a3f5f"
            },
            "type": "carpet"
           }
          ],
          "choropleth": [
           {
            "colorbar": {
             "outlinewidth": 0,
             "ticks": ""
            },
            "type": "choropleth"
           }
          ],
          "contour": [
           {
            "colorbar": {
             "outlinewidth": 0,
             "ticks": ""
            },
            "colorscale": [
             [
              0,
              "#0d0887"
             ],
             [
              0.1111111111111111,
              "#46039f"
             ],
             [
              0.2222222222222222,
              "#7201a8"
             ],
             [
              0.3333333333333333,
              "#9c179e"
             ],
             [
              0.4444444444444444,
              "#bd3786"
             ],
             [
              0.5555555555555556,
              "#d8576b"
             ],
             [
              0.6666666666666666,
              "#ed7953"
             ],
             [
              0.7777777777777778,
              "#fb9f3a"
             ],
             [
              0.8888888888888888,
              "#fdca26"
             ],
             [
              1,
              "#f0f921"
             ]
            ],
            "type": "contour"
           }
          ],
          "contourcarpet": [
           {
            "colorbar": {
             "outlinewidth": 0,
             "ticks": ""
            },
            "type": "contourcarpet"
           }
          ],
          "heatmap": [
           {
            "colorbar": {
             "outlinewidth": 0,
             "ticks": ""
            },
            "colorscale": [
             [
              0,
              "#0d0887"
             ],
             [
              0.1111111111111111,
              "#46039f"
             ],
             [
              0.2222222222222222,
              "#7201a8"
             ],
             [
              0.3333333333333333,
              "#9c179e"
             ],
             [
              0.4444444444444444,
              "#bd3786"
             ],
             [
              0.5555555555555556,
              "#d8576b"
             ],
             [
              0.6666666666666666,
              "#ed7953"
             ],
             [
              0.7777777777777778,
              "#fb9f3a"
             ],
             [
              0.8888888888888888,
              "#fdca26"
             ],
             [
              1,
              "#f0f921"
             ]
            ],
            "type": "heatmap"
           }
          ],
          "histogram": [
           {
            "marker": {
             "pattern": {
              "fillmode": "overlay",
              "size": 10,
              "solidity": 0.2
             }
            },
            "type": "histogram"
           }
          ],
          "histogram2d": [
           {
            "colorbar": {
             "outlinewidth": 0,
             "ticks": ""
            },
            "colorscale": [
             [
              0,
              "#0d0887"
             ],
             [
              0.1111111111111111,
              "#46039f"
             ],
             [
              0.2222222222222222,
              "#7201a8"
             ],
             [
              0.3333333333333333,
              "#9c179e"
             ],
             [
              0.4444444444444444,
              "#bd3786"
             ],
             [
              0.5555555555555556,
              "#d8576b"
             ],
             [
              0.6666666666666666,
              "#ed7953"
             ],
             [
              0.7777777777777778,
              "#fb9f3a"
             ],
             [
              0.8888888888888888,
              "#fdca26"
             ],
             [
              1,
              "#f0f921"
             ]
            ],
            "type": "histogram2d"
           }
          ],
          "histogram2dcontour": [
           {
            "colorbar": {
             "outlinewidth": 0,
             "ticks": ""
            },
            "colorscale": [
             [
              0,
              "#0d0887"
             ],
             [
              0.1111111111111111,
              "#46039f"
             ],
             [
              0.2222222222222222,
              "#7201a8"
             ],
             [
              0.3333333333333333,
              "#9c179e"
             ],
             [
              0.4444444444444444,
              "#bd3786"
             ],
             [
              0.5555555555555556,
              "#d8576b"
             ],
             [
              0.6666666666666666,
              "#ed7953"
             ],
             [
              0.7777777777777778,
              "#fb9f3a"
             ],
             [
              0.8888888888888888,
              "#fdca26"
             ],
             [
              1,
              "#f0f921"
             ]
            ],
            "type": "histogram2dcontour"
           }
          ],
          "mesh3d": [
           {
            "colorbar": {
             "outlinewidth": 0,
             "ticks": ""
            },
            "type": "mesh3d"
           }
          ],
          "parcoords": [
           {
            "line": {
             "colorbar": {
              "outlinewidth": 0,
              "ticks": ""
             }
            },
            "type": "parcoords"
           }
          ],
          "pie": [
           {
            "automargin": true,
            "type": "pie"
           }
          ],
          "scatter": [
           {
            "fillpattern": {
             "fillmode": "overlay",
             "size": 10,
             "solidity": 0.2
            },
            "type": "scatter"
           }
          ],
          "scatter3d": [
           {
            "line": {
             "colorbar": {
              "outlinewidth": 0,
              "ticks": ""
             }
            },
            "marker": {
             "colorbar": {
              "outlinewidth": 0,
              "ticks": ""
             }
            },
            "type": "scatter3d"
           }
          ],
          "scattercarpet": [
           {
            "marker": {
             "colorbar": {
              "outlinewidth": 0,
              "ticks": ""
             }
            },
            "type": "scattercarpet"
           }
          ],
          "scattergeo": [
           {
            "marker": {
             "colorbar": {
              "outlinewidth": 0,
              "ticks": ""
             }
            },
            "type": "scattergeo"
           }
          ],
          "scattergl": [
           {
            "marker": {
             "colorbar": {
              "outlinewidth": 0,
              "ticks": ""
             }
            },
            "type": "scattergl"
           }
          ],
          "scattermap": [
           {
            "marker": {
             "colorbar": {
              "outlinewidth": 0,
              "ticks": ""
             }
            },
            "type": "scattermap"
           }
          ],
          "scattermapbox": [
           {
            "marker": {
             "colorbar": {
              "outlinewidth": 0,
              "ticks": ""
             }
            },
            "type": "scattermapbox"
           }
          ],
          "scatterpolar": [
           {
            "marker": {
             "colorbar": {
              "outlinewidth": 0,
              "ticks": ""
             }
            },
            "type": "scatterpolar"
           }
          ],
          "scatterpolargl": [
           {
            "marker": {
             "colorbar": {
              "outlinewidth": 0,
              "ticks": ""
             }
            },
            "type": "scatterpolargl"
           }
          ],
          "scatterternary": [
           {
            "marker": {
             "colorbar": {
              "outlinewidth": 0,
              "ticks": ""
             }
            },
            "type": "scatterternary"
           }
          ],
          "surface": [
           {
            "colorbar": {
             "outlinewidth": 0,
             "ticks": ""
            },
            "colorscale": [
             [
              0,
              "#0d0887"
             ],
             [
              0.1111111111111111,
              "#46039f"
             ],
             [
              0.2222222222222222,
              "#7201a8"
             ],
             [
              0.3333333333333333,
              "#9c179e"
             ],
             [
              0.4444444444444444,
              "#bd3786"
             ],
             [
              0.5555555555555556,
              "#d8576b"
             ],
             [
              0.6666666666666666,
              "#ed7953"
             ],
             [
              0.7777777777777778,
              "#fb9f3a"
             ],
             [
              0.8888888888888888,
              "#fdca26"
             ],
             [
              1,
              "#f0f921"
             ]
            ],
            "type": "surface"
           }
          ],
          "table": [
           {
            "cells": {
             "fill": {
              "color": "#EBF0F8"
             },
             "line": {
              "color": "white"
             }
            },
            "header": {
             "fill": {
              "color": "#C8D4E3"
             },
             "line": {
              "color": "white"
             }
            },
            "type": "table"
           }
          ]
         },
         "layout": {
          "annotationdefaults": {
           "arrowcolor": "#2a3f5f",
           "arrowhead": 0,
           "arrowwidth": 1
          },
          "autotypenumbers": "strict",
          "coloraxis": {
           "colorbar": {
            "outlinewidth": 0,
            "ticks": ""
           }
          },
          "colorscale": {
           "diverging": [
            [
             0,
             "#8e0152"
            ],
            [
             0.1,
             "#c51b7d"
            ],
            [
             0.2,
             "#de77ae"
            ],
            [
             0.3,
             "#f1b6da"
            ],
            [
             0.4,
             "#fde0ef"
            ],
            [
             0.5,
             "#f7f7f7"
            ],
            [
             0.6,
             "#e6f5d0"
            ],
            [
             0.7,
             "#b8e186"
            ],
            [
             0.8,
             "#7fbc41"
            ],
            [
             0.9,
             "#4d9221"
            ],
            [
             1,
             "#276419"
            ]
           ],
           "sequential": [
            [
             0,
             "#0d0887"
            ],
            [
             0.1111111111111111,
             "#46039f"
            ],
            [
             0.2222222222222222,
             "#7201a8"
            ],
            [
             0.3333333333333333,
             "#9c179e"
            ],
            [
             0.4444444444444444,
             "#bd3786"
            ],
            [
             0.5555555555555556,
             "#d8576b"
            ],
            [
             0.6666666666666666,
             "#ed7953"
            ],
            [
             0.7777777777777778,
             "#fb9f3a"
            ],
            [
             0.8888888888888888,
             "#fdca26"
            ],
            [
             1,
             "#f0f921"
            ]
           ],
           "sequentialminus": [
            [
             0,
             "#0d0887"
            ],
            [
             0.1111111111111111,
             "#46039f"
            ],
            [
             0.2222222222222222,
             "#7201a8"
            ],
            [
             0.3333333333333333,
             "#9c179e"
            ],
            [
             0.4444444444444444,
             "#bd3786"
            ],
            [
             0.5555555555555556,
             "#d8576b"
            ],
            [
             0.6666666666666666,
             "#ed7953"
            ],
            [
             0.7777777777777778,
             "#fb9f3a"
            ],
            [
             0.8888888888888888,
             "#fdca26"
            ],
            [
             1,
             "#f0f921"
            ]
           ]
          },
          "colorway": [
           "#636efa",
           "#EF553B",
           "#00cc96",
           "#ab63fa",
           "#FFA15A",
           "#19d3f3",
           "#FF6692",
           "#B6E880",
           "#FF97FF",
           "#FECB52"
          ],
          "font": {
           "color": "#2a3f5f"
          },
          "geo": {
           "bgcolor": "white",
           "lakecolor": "white",
           "landcolor": "#E5ECF6",
           "showlakes": true,
           "showland": true,
           "subunitcolor": "white"
          },
          "hoverlabel": {
           "align": "left"
          },
          "hovermode": "closest",
          "mapbox": {
           "style": "light"
          },
          "paper_bgcolor": "white",
          "plot_bgcolor": "#E5ECF6",
          "polar": {
           "angularaxis": {
            "gridcolor": "white",
            "linecolor": "white",
            "ticks": ""
           },
           "bgcolor": "#E5ECF6",
           "radialaxis": {
            "gridcolor": "white",
            "linecolor": "white",
            "ticks": ""
           }
          },
          "scene": {
           "xaxis": {
            "backgroundcolor": "#E5ECF6",
            "gridcolor": "white",
            "gridwidth": 2,
            "linecolor": "white",
            "showbackground": true,
            "ticks": "",
            "zerolinecolor": "white"
           },
           "yaxis": {
            "backgroundcolor": "#E5ECF6",
            "gridcolor": "white",
            "gridwidth": 2,
            "linecolor": "white",
            "showbackground": true,
            "ticks": "",
            "zerolinecolor": "white"
           },
           "zaxis": {
            "backgroundcolor": "#E5ECF6",
            "gridcolor": "white",
            "gridwidth": 2,
            "linecolor": "white",
            "showbackground": true,
            "ticks": "",
            "zerolinecolor": "white"
           }
          },
          "shapedefaults": {
           "line": {
            "color": "#2a3f5f"
           }
          },
          "ternary": {
           "aaxis": {
            "gridcolor": "white",
            "linecolor": "white",
            "ticks": ""
           },
           "baxis": {
            "gridcolor": "white",
            "linecolor": "white",
            "ticks": ""
           },
           "bgcolor": "#E5ECF6",
           "caxis": {
            "gridcolor": "white",
            "linecolor": "white",
            "ticks": ""
           }
          },
          "title": {
           "x": 0.05
          },
          "xaxis": {
           "automargin": true,
           "gridcolor": "white",
           "linecolor": "white",
           "ticks": "",
           "title": {
            "standoff": 15
           },
           "zerolinecolor": "white",
           "zerolinewidth": 2
          },
          "yaxis": {
           "automargin": true,
           "gridcolor": "white",
           "linecolor": "white",
           "ticks": "",
           "title": {
            "standoff": 15
           },
           "zerolinecolor": "white",
           "zerolinewidth": 2
          }
         }
        },
        "title": {
         "text": "클러스터별 전체/취소되지 않은 예약 건수 및 취소율"
        },
        "xaxis": {
         "anchor": "y",
         "domain": [
          0,
          0.94
         ],
         "tickmode": "linear",
         "title": {
          "text": "클러스터 라벨"
         }
        },
        "yaxis": {
         "anchor": "x",
         "domain": [
          0,
          1
         ],
         "title": {
          "text": "예약 건수"
         }
        },
        "yaxis2": {
         "anchor": "x",
         "overlaying": "y",
         "side": "right",
         "title": {
          "text": "취소율"
         }
        }
       }
      }
     },
     "metadata": {},
     "output_type": "display_data"
    }
   ],
   "source": [
    "import plotly.express as px\n",
    "import pandas as pd\n",
    "import plotly.graph_objects as go\n",
    "from plotly.subplots import make_subplots\n",
    "import colorsys\n",
    "\n",
    "# Function to darken a hex color\n",
    "def darken_color(hex_color, factor=0.7):\n",
    "    hex_color = hex_color.lstrip('#')\n",
    "    rgb = tuple(int(hex_color[i:i+2], 16) for i in (0, 2, 4))\n",
    "    hls = colorsys.rgb_to_hls(*[x/255.0 for x in rgb])\n",
    "    darker_rgb = colorsys.hls_to_rgb(hls[0], max(0, min(1, hls[1] * factor)), hls[2])\n",
    "    return '#{:02x}{:02x}{:02x}'.format(*[int(x*255) for x in darker_rgb])\n",
    "\n",
    "\n",
    "# df_resort_clustered DataFrame 사용\n",
    "\n",
    "# 취소되지 않은 예약만 필터링\n",
    "df_not_canceled = df_resort_clustered[df_resort_clustered['is_canceled'] == 0].copy()\n",
    "\n",
    "# 클러스터별 취소되지 않은 예약 건수 계산\n",
    "not_canceled_counts = df_not_canceled.groupby('cluster_label').size().reset_index(name='count')\n",
    "not_canceled_counts['status'] = '취소되지 않음'\n",
    "\n",
    "\n",
    "# 클러스터별 전체 예약 건수 계산\n",
    "total_counts = df_resort_clustered.groupby('cluster_label').size().reset_index(name='count')\n",
    "total_counts['status'] = '전체 예약'\n",
    "\n",
    "# 두 데이터프레임 결합\n",
    "df_combined_counts = pd.concat([total_counts, not_canceled_counts])\n",
    "\n",
    "# 클러스터별 취소율 계산\n",
    "cluster_cancel_rate = df_resort_clustered.groupby('cluster_label')['is_canceled'].mean().reset_index(name='cancel_rate')\n",
    "\n",
    "# 클러스터별 색상 맵 정의\n",
    "cluster_colors = {\n",
    "    0: '#636efa',\n",
    "    1: '#ef553b',\n",
    "    2: '#00cc96',\n",
    "    3: '#ab63fa',\n",
    "    4: '#ffa15a'\n",
    "}\n",
    "\n",
    "# 취소되지 않은 예약 건수를 위한 더 진한 색상 맵 생성\n",
    "darker_cluster_colors = {label: darken_color(color) for label, color in cluster_colors.items()}\n",
    "\n",
    "\n",
    "# 서브플롯 생성 (막대 그래프와 꺾은선 그래프)\n",
    "fig = make_subplots(specs=[[{\"secondary_y\": True}]])\n",
    "\n",
    "# 전체 예약 건수 막대 그래프 추가\n",
    "fig.add_trace(\n",
    "    go.Bar(\n",
    "        x=df_combined_counts[df_combined_counts['status'] == '전체 예약']['cluster_label'],\n",
    "        y=df_combined_counts[df_combined_counts['status'] == '전체 예약']['count'],\n",
    "        name='전체 예약 건수',\n",
    "        text=df_combined_counts[df_combined_counts['status'] == '전체 예약']['count'],\n",
    "        textposition='auto',\n",
    "        marker=dict(color=[cluster_colors[label] for label in df_combined_counts[df_combined_counts['status'] == '전체 예약']['cluster_label']]) # 클러스터별 색상 적용\n",
    "    ),\n",
    "    secondary_y=False,\n",
    ")\n",
    "\n",
    "# 취소되지 않은 예약 건수 막대 그래프 추가\n",
    "fig.add_trace(\n",
    "    go.Bar(\n",
    "        x=df_combined_counts[df_combined_counts['status'] == '취소되지 않음']['cluster_label'],\n",
    "        y=df_combined_counts[df_combined_counts['status'] == '취소되지 않음']['count'],\n",
    "        name='취소되지 않은 예약 건수',\n",
    "         text=df_combined_counts[df_combined_counts['status'] == '취소되지 않음']['count'],\n",
    "        textposition='auto',\n",
    "        marker=dict(\n",
    "            color=[darker_cluster_colors[label] for label in df_combined_counts[df_combined_counts['status'] == '취소되지 않음']['cluster_label']], # 더 진한 색상 적용\n",
    "            line=dict(color='black', width=1) # 검은색 테두리 추가\n",
    "        )\n",
    "    ),\n",
    "    secondary_y=False,\n",
    ")\n",
    "\n",
    "# 클러스터별 취소율 꺾은선 그래프 추가\n",
    "fig.add_trace(\n",
    "    go.Scatter(\n",
    "        x=cluster_cancel_rate['cluster_label'],\n",
    "        y=cluster_cancel_rate['cancel_rate'],\n",
    "        mode='lines+markers',\n",
    "        name='취소율',\n",
    "        yaxis='y2', # 보조 y축 사용\n",
    "        marker=dict(size=8),\n",
    "        line=dict(dash='dot')\n",
    "    ),\n",
    "    secondary_y=True,\n",
    ")\n",
    "\n",
    "# 레이아웃 업데이트\n",
    "fig.update_layout(\n",
    "    title_text='클러스터별 전체/취소되지 않은 예약 건수 및 취소율',\n",
    "    xaxis_title='클러스터 라벨',\n",
    "    yaxis_title='예약 건수',\n",
    "    yaxis2_title='취소율',\n",
    "    legend=dict(\n",
    "        orientation=\"h\",\n",
    "        yanchor=\"bottom\",\n",
    "        y=1.02,\n",
    "        xanchor=\"right\",\n",
    "        x=1\n",
    "    )\n",
    ")\n",
    "\n",
    "# x축을 정수로 표시\n",
    "fig.update_layout(xaxis = dict(tickmode = 'linear'))\n",
    "\n",
    "\n",
    "fig.show()"
   ]
  },
  {
   "cell_type": "code",
   "execution_count": null,
   "id": "3a4f62a6",
   "metadata": {},
   "outputs": [
    {
     "data": {
      "application/vnd.plotly.v1+json": {
       "config": {
        "plotlyServerURL": "https://plot.ly"
       },
       "data": [
        {
         "hovertemplate": "color=0<br>클러스터 라벨=%{x}<br>평균 총 숙박일수=%{y}<br>text=%{text}<extra></extra>",
         "legendgroup": "0",
         "marker": {
          "color": "#636efa",
          "pattern": {
           "shape": ""
          }
         },
         "name": "0",
         "orientation": "v",
         "showlegend": true,
         "text": {
          "bdata": "ZmZmZmZmBkA=",
          "dtype": "f8"
         },
         "textposition": "outside",
         "type": "bar",
         "x": {
          "bdata": "AAAAAA==",
          "dtype": "i4"
         },
         "xaxis": "x",
         "y": {
          "bdata": "NlYL39ZTBkA=",
          "dtype": "f8"
         },
         "yaxis": "y"
        },
        {
         "hovertemplate": "color=1<br>클러스터 라벨=%{x}<br>평균 총 숙박일수=%{y}<br>text=%{text}<extra></extra>",
         "legendgroup": "1",
         "marker": {
          "color": "#ef553b",
          "pattern": {
           "shape": ""
          }
         },
         "name": "1",
         "orientation": "v",
         "showlegend": true,
         "text": {
          "bdata": "zczMzMzMBEA=",
          "dtype": "f8"
         },
         "textposition": "outside",
         "type": "bar",
         "x": {
          "bdata": "AQAAAA==",
          "dtype": "i4"
         },
         "xaxis": "x",
         "y": {
          "bdata": "c3rI1E8eBUA=",
          "dtype": "f8"
         },
         "yaxis": "y"
        },
        {
         "hovertemplate": "color=2<br>클러스터 라벨=%{x}<br>평균 총 숙박일수=%{y}<br>text=%{text}<extra></extra>",
         "legendgroup": "2",
         "marker": {
          "color": "#00cc96",
          "pattern": {
           "shape": ""
          }
         },
         "name": "2",
         "orientation": "v",
         "showlegend": true,
         "text": {
          "bdata": "MzMzMzMzEUA=",
          "dtype": "f8"
         },
         "textposition": "outside",
         "type": "bar",
         "x": {
          "bdata": "AgAAAA==",
          "dtype": "i4"
         },
         "xaxis": "x",
         "y": {
          "bdata": "WZwy5Rs/EUA=",
          "dtype": "f8"
         },
         "yaxis": "y"
        },
        {
         "hovertemplate": "color=3<br>클러스터 라벨=%{x}<br>평균 총 숙박일수=%{y}<br>text=%{text}<extra></extra>",
         "legendgroup": "3",
         "marker": {
          "color": "#ab63fa",
          "pattern": {
           "shape": ""
          }
         },
         "name": "3",
         "orientation": "v",
         "showlegend": true,
         "text": {
          "bdata": "ZmZmZmZmDkA=",
          "dtype": "f8"
         },
         "textposition": "outside",
         "type": "bar",
         "x": {
          "bdata": "AwAAAA==",
          "dtype": "i4"
         },
         "xaxis": "x",
         "y": {
          "bdata": "xf/6BUiCDkA=",
          "dtype": "f8"
         },
         "yaxis": "y"
        },
        {
         "hovertemplate": "color=4<br>클러스터 라벨=%{x}<br>평균 총 숙박일수=%{y}<br>text=%{text}<extra></extra>",
         "legendgroup": "4",
         "marker": {
          "color": "#ffa15a",
          "pattern": {
           "shape": ""
          }
         },
         "name": "4",
         "orientation": "v",
         "showlegend": true,
         "text": {
          "bdata": "AAAAAAAAEEA=",
          "dtype": "f8"
         },
         "textposition": "outside",
         "type": "bar",
         "x": {
          "bdata": "BAAAAA==",
          "dtype": "i4"
         },
         "xaxis": "x",
         "y": {
          "bdata": "qgBgHcPsD0A=",
          "dtype": "f8"
         },
         "yaxis": "y"
        }
       ],
       "layout": {
        "barmode": "relative",
        "legend": {
         "title": {
          "text": "color"
         },
         "tracegroupgap": 0
        },
        "template": {
         "data": {
          "bar": [
           {
            "error_x": {
             "color": "#2a3f5f"
            },
            "error_y": {
             "color": "#2a3f5f"
            },
            "marker": {
             "line": {
              "color": "#E5ECF6",
              "width": 0.5
             },
             "pattern": {
              "fillmode": "overlay",
              "size": 10,
              "solidity": 0.2
             }
            },
            "type": "bar"
           }
          ],
          "barpolar": [
           {
            "marker": {
             "line": {
              "color": "#E5ECF6",
              "width": 0.5
             },
             "pattern": {
              "fillmode": "overlay",
              "size": 10,
              "solidity": 0.2
             }
            },
            "type": "barpolar"
           }
          ],
          "carpet": [
           {
            "aaxis": {
             "endlinecolor": "#2a3f5f",
             "gridcolor": "white",
             "linecolor": "white",
             "minorgridcolor": "white",
             "startlinecolor": "#2a3f5f"
            },
            "baxis": {
             "endlinecolor": "#2a3f5f",
             "gridcolor": "white",
             "linecolor": "white",
             "minorgridcolor": "white",
             "startlinecolor": "#2a3f5f"
            },
            "type": "carpet"
           }
          ],
          "choropleth": [
           {
            "colorbar": {
             "outlinewidth": 0,
             "ticks": ""
            },
            "type": "choropleth"
           }
          ],
          "contour": [
           {
            "colorbar": {
             "outlinewidth": 0,
             "ticks": ""
            },
            "colorscale": [
             [
              0,
              "#0d0887"
             ],
             [
              0.1111111111111111,
              "#46039f"
             ],
             [
              0.2222222222222222,
              "#7201a8"
             ],
             [
              0.3333333333333333,
              "#9c179e"
             ],
             [
              0.4444444444444444,
              "#bd3786"
             ],
             [
              0.5555555555555556,
              "#d8576b"
             ],
             [
              0.6666666666666666,
              "#ed7953"
             ],
             [
              0.7777777777777778,
              "#fb9f3a"
             ],
             [
              0.8888888888888888,
              "#fdca26"
             ],
             [
              1,
              "#f0f921"
             ]
            ],
            "type": "contour"
           }
          ],
          "contourcarpet": [
           {
            "colorbar": {
             "outlinewidth": 0,
             "ticks": ""
            },
            "type": "contourcarpet"
           }
          ],
          "heatmap": [
           {
            "colorbar": {
             "outlinewidth": 0,
             "ticks": ""
            },
            "colorscale": [
             [
              0,
              "#0d0887"
             ],
             [
              0.1111111111111111,
              "#46039f"
             ],
             [
              0.2222222222222222,
              "#7201a8"
             ],
             [
              0.3333333333333333,
              "#9c179e"
             ],
             [
              0.4444444444444444,
              "#bd3786"
             ],
             [
              0.5555555555555556,
              "#d8576b"
             ],
             [
              0.6666666666666666,
              "#ed7953"
             ],
             [
              0.7777777777777778,
              "#fb9f3a"
             ],
             [
              0.8888888888888888,
              "#fdca26"
             ],
             [
              1,
              "#f0f921"
             ]
            ],
            "type": "heatmap"
           }
          ],
          "histogram": [
           {
            "marker": {
             "pattern": {
              "fillmode": "overlay",
              "size": 10,
              "solidity": 0.2
             }
            },
            "type": "histogram"
           }
          ],
          "histogram2d": [
           {
            "colorbar": {
             "outlinewidth": 0,
             "ticks": ""
            },
            "colorscale": [
             [
              0,
              "#0d0887"
             ],
             [
              0.1111111111111111,
              "#46039f"
             ],
             [
              0.2222222222222222,
              "#7201a8"
             ],
             [
              0.3333333333333333,
              "#9c179e"
             ],
             [
              0.4444444444444444,
              "#bd3786"
             ],
             [
              0.5555555555555556,
              "#d8576b"
             ],
             [
              0.6666666666666666,
              "#ed7953"
             ],
             [
              0.7777777777777778,
              "#fb9f3a"
             ],
             [
              0.8888888888888888,
              "#fdca26"
             ],
             [
              1,
              "#f0f921"
             ]
            ],
            "type": "histogram2d"
           }
          ],
          "histogram2dcontour": [
           {
            "colorbar": {
             "outlinewidth": 0,
             "ticks": ""
            },
            "colorscale": [
             [
              0,
              "#0d0887"
             ],
             [
              0.1111111111111111,
              "#46039f"
             ],
             [
              0.2222222222222222,
              "#7201a8"
             ],
             [
              0.3333333333333333,
              "#9c179e"
             ],
             [
              0.4444444444444444,
              "#bd3786"
             ],
             [
              0.5555555555555556,
              "#d8576b"
             ],
             [
              0.6666666666666666,
              "#ed7953"
             ],
             [
              0.7777777777777778,
              "#fb9f3a"
             ],
             [
              0.8888888888888888,
              "#fdca26"
             ],
             [
              1,
              "#f0f921"
             ]
            ],
            "type": "histogram2dcontour"
           }
          ],
          "mesh3d": [
           {
            "colorbar": {
             "outlinewidth": 0,
             "ticks": ""
            },
            "type": "mesh3d"
           }
          ],
          "parcoords": [
           {
            "line": {
             "colorbar": {
              "outlinewidth": 0,
              "ticks": ""
             }
            },
            "type": "parcoords"
           }
          ],
          "pie": [
           {
            "automargin": true,
            "type": "pie"
           }
          ],
          "scatter": [
           {
            "fillpattern": {
             "fillmode": "overlay",
             "size": 10,
             "solidity": 0.2
            },
            "type": "scatter"
           }
          ],
          "scatter3d": [
           {
            "line": {
             "colorbar": {
              "outlinewidth": 0,
              "ticks": ""
             }
            },
            "marker": {
             "colorbar": {
              "outlinewidth": 0,
              "ticks": ""
             }
            },
            "type": "scatter3d"
           }
          ],
          "scattercarpet": [
           {
            "marker": {
             "colorbar": {
              "outlinewidth": 0,
              "ticks": ""
             }
            },
            "type": "scattercarpet"
           }
          ],
          "scattergeo": [
           {
            "marker": {
             "colorbar": {
              "outlinewidth": 0,
              "ticks": ""
             }
            },
            "type": "scattergeo"
           }
          ],
          "scattergl": [
           {
            "marker": {
             "colorbar": {
              "outlinewidth": 0,
              "ticks": ""
             }
            },
            "type": "scattergl"
           }
          ],
          "scattermap": [
           {
            "marker": {
             "colorbar": {
              "outlinewidth": 0,
              "ticks": ""
             }
            },
            "type": "scattermap"
           }
          ],
          "scattermapbox": [
           {
            "marker": {
             "colorbar": {
              "outlinewidth": 0,
              "ticks": ""
             }
            },
            "type": "scattermapbox"
           }
          ],
          "scatterpolar": [
           {
            "marker": {
             "colorbar": {
              "outlinewidth": 0,
              "ticks": ""
             }
            },
            "type": "scatterpolar"
           }
          ],
          "scatterpolargl": [
           {
            "marker": {
             "colorbar": {
              "outlinewidth": 0,
              "ticks": ""
             }
            },
            "type": "scatterpolargl"
           }
          ],
          "scatterternary": [
           {
            "marker": {
             "colorbar": {
              "outlinewidth": 0,
              "ticks": ""
             }
            },
            "type": "scatterternary"
           }
          ],
          "surface": [
           {
            "colorbar": {
             "outlinewidth": 0,
             "ticks": ""
            },
            "colorscale": [
             [
              0,
              "#0d0887"
             ],
             [
              0.1111111111111111,
              "#46039f"
             ],
             [
              0.2222222222222222,
              "#7201a8"
             ],
             [
              0.3333333333333333,
              "#9c179e"
             ],
             [
              0.4444444444444444,
              "#bd3786"
             ],
             [
              0.5555555555555556,
              "#d8576b"
             ],
             [
              0.6666666666666666,
              "#ed7953"
             ],
             [
              0.7777777777777778,
              "#fb9f3a"
             ],
             [
              0.8888888888888888,
              "#fdca26"
             ],
             [
              1,
              "#f0f921"
             ]
            ],
            "type": "surface"
           }
          ],
          "table": [
           {
            "cells": {
             "fill": {
              "color": "#EBF0F8"
             },
             "line": {
              "color": "white"
             }
            },
            "header": {
             "fill": {
              "color": "#C8D4E3"
             },
             "line": {
              "color": "white"
             }
            },
            "type": "table"
           }
          ]
         },
         "layout": {
          "annotationdefaults": {
           "arrowcolor": "#2a3f5f",
           "arrowhead": 0,
           "arrowwidth": 1
          },
          "autotypenumbers": "strict",
          "coloraxis": {
           "colorbar": {
            "outlinewidth": 0,
            "ticks": ""
           }
          },
          "colorscale": {
           "diverging": [
            [
             0,
             "#8e0152"
            ],
            [
             0.1,
             "#c51b7d"
            ],
            [
             0.2,
             "#de77ae"
            ],
            [
             0.3,
             "#f1b6da"
            ],
            [
             0.4,
             "#fde0ef"
            ],
            [
             0.5,
             "#f7f7f7"
            ],
            [
             0.6,
             "#e6f5d0"
            ],
            [
             0.7,
             "#b8e186"
            ],
            [
             0.8,
             "#7fbc41"
            ],
            [
             0.9,
             "#4d9221"
            ],
            [
             1,
             "#276419"
            ]
           ],
           "sequential": [
            [
             0,
             "#0d0887"
            ],
            [
             0.1111111111111111,
             "#46039f"
            ],
            [
             0.2222222222222222,
             "#7201a8"
            ],
            [
             0.3333333333333333,
             "#9c179e"
            ],
            [
             0.4444444444444444,
             "#bd3786"
            ],
            [
             0.5555555555555556,
             "#d8576b"
            ],
            [
             0.6666666666666666,
             "#ed7953"
            ],
            [
             0.7777777777777778,
             "#fb9f3a"
            ],
            [
             0.8888888888888888,
             "#fdca26"
            ],
            [
             1,
             "#f0f921"
            ]
           ],
           "sequentialminus": [
            [
             0,
             "#0d0887"
            ],
            [
             0.1111111111111111,
             "#46039f"
            ],
            [
             0.2222222222222222,
             "#7201a8"
            ],
            [
             0.3333333333333333,
             "#9c179e"
            ],
            [
             0.4444444444444444,
             "#bd3786"
            ],
            [
             0.5555555555555556,
             "#d8576b"
            ],
            [
             0.6666666666666666,
             "#ed7953"
            ],
            [
             0.7777777777777778,
             "#fb9f3a"
            ],
            [
             0.8888888888888888,
             "#fdca26"
            ],
            [
             1,
             "#f0f921"
            ]
           ]
          },
          "colorway": [
           "#636efa",
           "#EF553B",
           "#00cc96",
           "#ab63fa",
           "#FFA15A",
           "#19d3f3",
           "#FF6692",
           "#B6E880",
           "#FF97FF",
           "#FECB52"
          ],
          "font": {
           "color": "#2a3f5f"
          },
          "geo": {
           "bgcolor": "white",
           "lakecolor": "white",
           "landcolor": "#E5ECF6",
           "showlakes": true,
           "showland": true,
           "subunitcolor": "white"
          },
          "hoverlabel": {
           "align": "left"
          },
          "hovermode": "closest",
          "mapbox": {
           "style": "light"
          },
          "paper_bgcolor": "white",
          "plot_bgcolor": "#E5ECF6",
          "polar": {
           "angularaxis": {
            "gridcolor": "white",
            "linecolor": "white",
            "ticks": ""
           },
           "bgcolor": "#E5ECF6",
           "radialaxis": {
            "gridcolor": "white",
            "linecolor": "white",
            "ticks": ""
           }
          },
          "scene": {
           "xaxis": {
            "backgroundcolor": "#E5ECF6",
            "gridcolor": "white",
            "gridwidth": 2,
            "linecolor": "white",
            "showbackground": true,
            "ticks": "",
            "zerolinecolor": "white"
           },
           "yaxis": {
            "backgroundcolor": "#E5ECF6",
            "gridcolor": "white",
            "gridwidth": 2,
            "linecolor": "white",
            "showbackground": true,
            "ticks": "",
            "zerolinecolor": "white"
           },
           "zaxis": {
            "backgroundcolor": "#E5ECF6",
            "gridcolor": "white",
            "gridwidth": 2,
            "linecolor": "white",
            "showbackground": true,
            "ticks": "",
            "zerolinecolor": "white"
           }
          },
          "shapedefaults": {
           "line": {
            "color": "#2a3f5f"
           }
          },
          "ternary": {
           "aaxis": {
            "gridcolor": "white",
            "linecolor": "white",
            "ticks": ""
           },
           "baxis": {
            "gridcolor": "white",
            "linecolor": "white",
            "ticks": ""
           },
           "bgcolor": "#E5ECF6",
           "caxis": {
            "gridcolor": "white",
            "linecolor": "white",
            "ticks": ""
           }
          },
          "title": {
           "x": 0.05
          },
          "xaxis": {
           "automargin": true,
           "gridcolor": "white",
           "linecolor": "white",
           "ticks": "",
           "title": {
            "standoff": 15
           },
           "zerolinecolor": "white",
           "zerolinewidth": 2
          },
          "yaxis": {
           "automargin": true,
           "gridcolor": "white",
           "linecolor": "white",
           "ticks": "",
           "title": {
            "standoff": 15
           },
           "zerolinecolor": "white",
           "zerolinewidth": 2
          }
         }
        },
        "title": {
         "text": "클러스터별 평균 총 숙박일수"
        },
        "xaxis": {
         "anchor": "y",
         "domain": [
          0,
          1
         ],
         "tickmode": "linear",
         "title": {
          "text": "클러스터 라벨"
         }
        },
        "yaxis": {
         "anchor": "x",
         "domain": [
          0,
          1
         ],
         "title": {
          "text": "평균 총 숙박일수"
         }
        }
       }
      }
     },
     "metadata": {},
     "output_type": "display_data"
    }
   ],
   "source": [
    "import plotly.express as px\n",
    "import pandas as pd\n",
    "\n",
    "# cluster_profiling DataFrame 사용\n",
    "\n",
    "# 클러스터별 색상 맵 정의 (지정된 색상 사용)\n",
    "cluster_colors = {\n",
    "    '0': '#636efa',\n",
    "    '1': '#ef553b',\n",
    "    '2': '#00cc96',\n",
    "    '3': '#ab63fa',\n",
    "    '4': '#ffa15a'\n",
    "}\n",
    "\n",
    "\n",
    "fig_total_nights = px.bar(cluster_profiling, x='cluster_label', y='total_nights_mean',\n",
    "                          title='클러스터별 평균 총 숙박일수',\n",
    "                          labels={'cluster_label': '클러스터 라벨', 'total_nights_mean': '평균 총 숙박일수'},\n",
    "                          text=cluster_profiling['total_nights_mean'].round(1), # 소수점 첫째 자리까지 표시\n",
    "                          color=cluster_profiling['cluster_label'].astype(str), # 클러스터 라벨을 문자열로 변환하여 색상 구분\n",
    "                          color_discrete_map=cluster_colors) # 지정된 색상 맵 적용\n",
    "\n",
    "fig_total_nights.update_traces(textposition='outside') # 텍스트 위치를 막대 외부에 표시\n",
    "fig_total_nights.update_layout(xaxis = dict(tickmode = 'linear')) # x축을 정수로 표시\n",
    "fig_total_nights.show()"
   ]
  },
  {
   "cell_type": "code",
   "execution_count": null,
   "id": "01c817b4",
   "metadata": {},
   "outputs": [
    {
     "data": {
      "application/vnd.plotly.v1+json": {
       "config": {
        "plotlyServerURL": "https://plot.ly"
       },
       "data": [
        {
         "hovertemplate": "color=0<br>클러스터 라벨=%{x}<br>총 예상 수익=%{y}<br>text=%{text}<extra></extra>",
         "legendgroup": "0",
         "marker": {
          "color": "#636efa",
          "pattern": {
           "shape": ""
          }
         },
         "name": "0",
         "orientation": "v",
         "showlegend": true,
         "text": [
          "15,039,183"
         ],
         "textangle": 0,
         "textposition": "outside",
         "type": "bar",
         "x": {
          "bdata": "AAAAAA==",
          "dtype": "i4"
         },
         "xaxis": "x",
         "y": {
          "bdata": "FK5H4VmvbEE=",
          "dtype": "f8"
         },
         "yaxis": "y"
        },
        {
         "hovertemplate": "color=1<br>클러스터 라벨=%{x}<br>총 예상 수익=%{y}<br>text=%{text}<extra></extra>",
         "legendgroup": "1",
         "marker": {
          "color": "#ef553b",
          "pattern": {
           "shape": ""
          }
         },
         "name": "1",
         "orientation": "v",
         "showlegend": true,
         "text": [
          "707,327"
         ],
         "textangle": 0,
         "textposition": "outside",
         "type": "bar",
         "x": {
          "bdata": "AQAAAA==",
          "dtype": "i4"
         },
         "xaxis": "x",
         "y": {
          "bdata": "ZmZm5v2VJUE=",
          "dtype": "f8"
         },
         "yaxis": "y"
        },
        {
         "hovertemplate": "color=2<br>클러스터 라벨=%{x}<br>총 예상 수익=%{y}<br>text=%{text}<extra></extra>",
         "legendgroup": "2",
         "marker": {
          "color": "#00cc96",
          "pattern": {
           "shape": ""
          }
         },
         "name": "2",
         "orientation": "v",
         "showlegend": true,
         "text": [
          "10,103,940"
         ],
         "textangle": 0,
         "textposition": "outside",
         "type": "bar",
         "x": {
          "bdata": "AgAAAA==",
          "dtype": "i4"
         },
         "xaxis": "x",
         "y": {
          "bdata": "exSuj5BFY0E=",
          "dtype": "f8"
         },
         "yaxis": "y"
        },
        {
         "hovertemplate": "color=3<br>클러스터 라벨=%{x}<br>총 예상 수익=%{y}<br>text=%{text}<extra></extra>",
         "legendgroup": "3",
         "marker": {
          "color": "#ab63fa",
          "pattern": {
           "shape": ""
          }
         },
         "name": "3",
         "orientation": "v",
         "showlegend": true,
         "text": [
          "12,339,574"
         ],
         "textangle": 0,
         "textposition": "outside",
         "type": "bar",
         "x": {
          "bdata": "AwAAAA==",
          "dtype": "i4"
         },
         "xaxis": "x",
         "y": {
          "bdata": "uB6Fuy6JZ0E=",
          "dtype": "f8"
         },
         "yaxis": "y"
        },
        {
         "hovertemplate": "color=4<br>클러스터 라벨=%{x}<br>총 예상 수익=%{y}<br>text=%{text}<extra></extra>",
         "legendgroup": "4",
         "marker": {
          "color": "#ffa15a",
          "pattern": {
           "shape": ""
          }
         },
         "name": "4",
         "orientation": "v",
         "showlegend": true,
         "text": [
          "4,524,125"
         ],
         "textangle": 0,
         "textposition": "outside",
         "type": "bar",
         "x": {
          "bdata": "BAAAAA==",
          "dtype": "i4"
         },
         "xaxis": "x",
         "y": {
          "bdata": "CtejQBdCUUE=",
          "dtype": "f8"
         },
         "yaxis": "y"
        }
       ],
       "layout": {
        "barmode": "relative",
        "legend": {
         "title": {
          "text": "color"
         },
         "tracegroupgap": 0
        },
        "template": {
         "data": {
          "bar": [
           {
            "error_x": {
             "color": "#2a3f5f"
            },
            "error_y": {
             "color": "#2a3f5f"
            },
            "marker": {
             "line": {
              "color": "#E5ECF6",
              "width": 0.5
             },
             "pattern": {
              "fillmode": "overlay",
              "size": 10,
              "solidity": 0.2
             }
            },
            "type": "bar"
           }
          ],
          "barpolar": [
           {
            "marker": {
             "line": {
              "color": "#E5ECF6",
              "width": 0.5
             },
             "pattern": {
              "fillmode": "overlay",
              "size": 10,
              "solidity": 0.2
             }
            },
            "type": "barpolar"
           }
          ],
          "carpet": [
           {
            "aaxis": {
             "endlinecolor": "#2a3f5f",
             "gridcolor": "white",
             "linecolor": "white",
             "minorgridcolor": "white",
             "startlinecolor": "#2a3f5f"
            },
            "baxis": {
             "endlinecolor": "#2a3f5f",
             "gridcolor": "white",
             "linecolor": "white",
             "minorgridcolor": "white",
             "startlinecolor": "#2a3f5f"
            },
            "type": "carpet"
           }
          ],
          "choropleth": [
           {
            "colorbar": {
             "outlinewidth": 0,
             "ticks": ""
            },
            "type": "choropleth"
           }
          ],
          "contour": [
           {
            "colorbar": {
             "outlinewidth": 0,
             "ticks": ""
            },
            "colorscale": [
             [
              0,
              "#0d0887"
             ],
             [
              0.1111111111111111,
              "#46039f"
             ],
             [
              0.2222222222222222,
              "#7201a8"
             ],
             [
              0.3333333333333333,
              "#9c179e"
             ],
             [
              0.4444444444444444,
              "#bd3786"
             ],
             [
              0.5555555555555556,
              "#d8576b"
             ],
             [
              0.6666666666666666,
              "#ed7953"
             ],
             [
              0.7777777777777778,
              "#fb9f3a"
             ],
             [
              0.8888888888888888,
              "#fdca26"
             ],
             [
              1,
              "#f0f921"
             ]
            ],
            "type": "contour"
           }
          ],
          "contourcarpet": [
           {
            "colorbar": {
             "outlinewidth": 0,
             "ticks": ""
            },
            "type": "contourcarpet"
           }
          ],
          "heatmap": [
           {
            "colorbar": {
             "outlinewidth": 0,
             "ticks": ""
            },
            "colorscale": [
             [
              0,
              "#0d0887"
             ],
             [
              0.1111111111111111,
              "#46039f"
             ],
             [
              0.2222222222222222,
              "#7201a8"
             ],
             [
              0.3333333333333333,
              "#9c179e"
             ],
             [
              0.4444444444444444,
              "#bd3786"
             ],
             [
              0.5555555555555556,
              "#d8576b"
             ],
             [
              0.6666666666666666,
              "#ed7953"
             ],
             [
              0.7777777777777778,
              "#fb9f3a"
             ],
             [
              0.8888888888888888,
              "#fdca26"
             ],
             [
              1,
              "#f0f921"
             ]
            ],
            "type": "heatmap"
           }
          ],
          "histogram": [
           {
            "marker": {
             "pattern": {
              "fillmode": "overlay",
              "size": 10,
              "solidity": 0.2
             }
            },
            "type": "histogram"
           }
          ],
          "histogram2d": [
           {
            "colorbar": {
             "outlinewidth": 0,
             "ticks": ""
            },
            "colorscale": [
             [
              0,
              "#0d0887"
             ],
             [
              0.1111111111111111,
              "#46039f"
             ],
             [
              0.2222222222222222,
              "#7201a8"
             ],
             [
              0.3333333333333333,
              "#9c179e"
             ],
             [
              0.4444444444444444,
              "#bd3786"
             ],
             [
              0.5555555555555556,
              "#d8576b"
             ],
             [
              0.6666666666666666,
              "#ed7953"
             ],
             [
              0.7777777777777778,
              "#fb9f3a"
             ],
             [
              0.8888888888888888,
              "#fdca26"
             ],
             [
              1,
              "#f0f921"
             ]
            ],
            "type": "histogram2d"
           }
          ],
          "histogram2dcontour": [
           {
            "colorbar": {
             "outlinewidth": 0,
             "ticks": ""
            },
            "colorscale": [
             [
              0,
              "#0d0887"
             ],
             [
              0.1111111111111111,
              "#46039f"
             ],
             [
              0.2222222222222222,
              "#7201a8"
             ],
             [
              0.3333333333333333,
              "#9c179e"
             ],
             [
              0.4444444444444444,
              "#bd3786"
             ],
             [
              0.5555555555555556,
              "#d8576b"
             ],
             [
              0.6666666666666666,
              "#ed7953"
             ],
             [
              0.7777777777777778,
              "#fb9f3a"
             ],
             [
              0.8888888888888888,
              "#fdca26"
             ],
             [
              1,
              "#f0f921"
             ]
            ],
            "type": "histogram2dcontour"
           }
          ],
          "mesh3d": [
           {
            "colorbar": {
             "outlinewidth": 0,
             "ticks": ""
            },
            "type": "mesh3d"
           }
          ],
          "parcoords": [
           {
            "line": {
             "colorbar": {
              "outlinewidth": 0,
              "ticks": ""
             }
            },
            "type": "parcoords"
           }
          ],
          "pie": [
           {
            "automargin": true,
            "type": "pie"
           }
          ],
          "scatter": [
           {
            "fillpattern": {
             "fillmode": "overlay",
             "size": 10,
             "solidity": 0.2
            },
            "type": "scatter"
           }
          ],
          "scatter3d": [
           {
            "line": {
             "colorbar": {
              "outlinewidth": 0,
              "ticks": ""
             }
            },
            "marker": {
             "colorbar": {
              "outlinewidth": 0,
              "ticks": ""
             }
            },
            "type": "scatter3d"
           }
          ],
          "scattercarpet": [
           {
            "marker": {
             "colorbar": {
              "outlinewidth": 0,
              "ticks": ""
             }
            },
            "type": "scattercarpet"
           }
          ],
          "scattergeo": [
           {
            "marker": {
             "colorbar": {
              "outlinewidth": 0,
              "ticks": ""
             }
            },
            "type": "scattergeo"
           }
          ],
          "scattergl": [
           {
            "marker": {
             "colorbar": {
              "outlinewidth": 0,
              "ticks": ""
             }
            },
            "type": "scattergl"
           }
          ],
          "scattermap": [
           {
            "marker": {
             "colorbar": {
              "outlinewidth": 0,
              "ticks": ""
             }
            },
            "type": "scattermap"
           }
          ],
          "scattermapbox": [
           {
            "marker": {
             "colorbar": {
              "outlinewidth": 0,
              "ticks": ""
             }
            },
            "type": "scattermapbox"
           }
          ],
          "scatterpolar": [
           {
            "marker": {
             "colorbar": {
              "outlinewidth": 0,
              "ticks": ""
             }
            },
            "type": "scatterpolar"
           }
          ],
          "scatterpolargl": [
           {
            "marker": {
             "colorbar": {
              "outlinewidth": 0,
              "ticks": ""
             }
            },
            "type": "scatterpolargl"
           }
          ],
          "scatterternary": [
           {
            "marker": {
             "colorbar": {
              "outlinewidth": 0,
              "ticks": ""
             }
            },
            "type": "scatterternary"
           }
          ],
          "surface": [
           {
            "colorbar": {
             "outlinewidth": 0,
             "ticks": ""
            },
            "colorscale": [
             [
              0,
              "#0d0887"
             ],
             [
              0.1111111111111111,
              "#46039f"
             ],
             [
              0.2222222222222222,
              "#7201a8"
             ],
             [
              0.3333333333333333,
              "#9c179e"
             ],
             [
              0.4444444444444444,
              "#bd3786"
             ],
             [
              0.5555555555555556,
              "#d8576b"
             ],
             [
              0.6666666666666666,
              "#ed7953"
             ],
             [
              0.7777777777777778,
              "#fb9f3a"
             ],
             [
              0.8888888888888888,
              "#fdca26"
             ],
             [
              1,
              "#f0f921"
             ]
            ],
            "type": "surface"
           }
          ],
          "table": [
           {
            "cells": {
             "fill": {
              "color": "#EBF0F8"
             },
             "line": {
              "color": "white"
             }
            },
            "header": {
             "fill": {
              "color": "#C8D4E3"
             },
             "line": {
              "color": "white"
             }
            },
            "type": "table"
           }
          ]
         },
         "layout": {
          "annotationdefaults": {
           "arrowcolor": "#2a3f5f",
           "arrowhead": 0,
           "arrowwidth": 1
          },
          "autotypenumbers": "strict",
          "coloraxis": {
           "colorbar": {
            "outlinewidth": 0,
            "ticks": ""
           }
          },
          "colorscale": {
           "diverging": [
            [
             0,
             "#8e0152"
            ],
            [
             0.1,
             "#c51b7d"
            ],
            [
             0.2,
             "#de77ae"
            ],
            [
             0.3,
             "#f1b6da"
            ],
            [
             0.4,
             "#fde0ef"
            ],
            [
             0.5,
             "#f7f7f7"
            ],
            [
             0.6,
             "#e6f5d0"
            ],
            [
             0.7,
             "#b8e186"
            ],
            [
             0.8,
             "#7fbc41"
            ],
            [
             0.9,
             "#4d9221"
            ],
            [
             1,
             "#276419"
            ]
           ],
           "sequential": [
            [
             0,
             "#0d0887"
            ],
            [
             0.1111111111111111,
             "#46039f"
            ],
            [
             0.2222222222222222,
             "#7201a8"
            ],
            [
             0.3333333333333333,
             "#9c179e"
            ],
            [
             0.4444444444444444,
             "#bd3786"
            ],
            [
             0.5555555555555556,
             "#d8576b"
            ],
            [
             0.6666666666666666,
             "#ed7953"
            ],
            [
             0.7777777777777778,
             "#fb9f3a"
            ],
            [
             0.8888888888888888,
             "#fdca26"
            ],
            [
             1,
             "#f0f921"
            ]
           ],
           "sequentialminus": [
            [
             0,
             "#0d0887"
            ],
            [
             0.1111111111111111,
             "#46039f"
            ],
            [
             0.2222222222222222,
             "#7201a8"
            ],
            [
             0.3333333333333333,
             "#9c179e"
            ],
            [
             0.4444444444444444,
             "#bd3786"
            ],
            [
             0.5555555555555556,
             "#d8576b"
            ],
            [
             0.6666666666666666,
             "#ed7953"
            ],
            [
             0.7777777777777778,
             "#fb9f3a"
            ],
            [
             0.8888888888888888,
             "#fdca26"
            ],
            [
             1,
             "#f0f921"
            ]
           ]
          },
          "colorway": [
           "#636efa",
           "#EF553B",
           "#00cc96",
           "#ab63fa",
           "#FFA15A",
           "#19d3f3",
           "#FF6692",
           "#B6E880",
           "#FF97FF",
           "#FECB52"
          ],
          "font": {
           "color": "#2a3f5f"
          },
          "geo": {
           "bgcolor": "white",
           "lakecolor": "white",
           "landcolor": "#E5ECF6",
           "showlakes": true,
           "showland": true,
           "subunitcolor": "white"
          },
          "hoverlabel": {
           "align": "left"
          },
          "hovermode": "closest",
          "mapbox": {
           "style": "light"
          },
          "paper_bgcolor": "white",
          "plot_bgcolor": "#E5ECF6",
          "polar": {
           "angularaxis": {
            "gridcolor": "white",
            "linecolor": "white",
            "ticks": ""
           },
           "bgcolor": "#E5ECF6",
           "radialaxis": {
            "gridcolor": "white",
            "linecolor": "white",
            "ticks": ""
           }
          },
          "scene": {
           "xaxis": {
            "backgroundcolor": "#E5ECF6",
            "gridcolor": "white",
            "gridwidth": 2,
            "linecolor": "white",
            "showbackground": true,
            "ticks": "",
            "zerolinecolor": "white"
           },
           "yaxis": {
            "backgroundcolor": "#E5ECF6",
            "gridcolor": "white",
            "gridwidth": 2,
            "linecolor": "white",
            "showbackground": true,
            "ticks": "",
            "zerolinecolor": "white"
           },
           "zaxis": {
            "backgroundcolor": "#E5ECF6",
            "gridcolor": "white",
            "gridwidth": 2,
            "linecolor": "white",
            "showbackground": true,
            "ticks": "",
            "zerolinecolor": "white"
           }
          },
          "shapedefaults": {
           "line": {
            "color": "#2a3f5f"
           }
          },
          "ternary": {
           "aaxis": {
            "gridcolor": "white",
            "linecolor": "white",
            "ticks": ""
           },
           "baxis": {
            "gridcolor": "white",
            "linecolor": "white",
            "ticks": ""
           },
           "bgcolor": "#E5ECF6",
           "caxis": {
            "gridcolor": "white",
            "linecolor": "white",
            "ticks": ""
           }
          },
          "title": {
           "x": 0.05
          },
          "xaxis": {
           "automargin": true,
           "gridcolor": "white",
           "linecolor": "white",
           "ticks": "",
           "title": {
            "standoff": 15
           },
           "zerolinecolor": "white",
           "zerolinewidth": 2
          },
          "yaxis": {
           "automargin": true,
           "gridcolor": "white",
           "linecolor": "white",
           "ticks": "",
           "title": {
            "standoff": 15
           },
           "zerolinecolor": "white",
           "zerolinewidth": 2
          }
         }
        },
        "title": {
         "text": "클러스터별 총 예상 수익"
        },
        "xaxis": {
         "anchor": "y",
         "domain": [
          0,
          1
         ],
         "tickmode": "linear",
         "title": {
          "text": "클러스터 라벨"
         }
        },
        "yaxis": {
         "anchor": "x",
         "domain": [
          0,
          1
         ],
         "title": {
          "text": "총 예상 수익"
         }
        }
       }
      }
     },
     "metadata": {},
     "output_type": "display_data"
    }
   ],
   "source": [
    "import plotly.express as px\n",
    "import pandas as pd\n",
    "\n",
    "# df_resort_clustered DataFrame 사용\n",
    "\n",
    "# 각 예약의 예상 수익 계산 (total_nights * adr)\n",
    "# 취소되지 않은 예약만 포함하여 실제 발생한 수익에 가깝게 계산\n",
    "df_resort_clustered['estimated_revenue'] = df_resort_clustered['total_nights'] * df_resort_clustered['adr']\n",
    "\n",
    "# 클러스터별 예상 수익 합산\n",
    "cluster_revenue = df_resort_clustered.groupby('cluster_label')['estimated_revenue'].sum().reset_index()\n",
    "\n",
    "# 클러스터별 색상 맵 정의 (이전 셀에서 사용된 색상 재활용)\n",
    "cluster_colors = {\n",
    "    '0': '#636efa',\n",
    "    '1': '#ef553b',\n",
    "    '2': '#00cc96',\n",
    "    '3': '#ab63fa',\n",
    "    '4': '#ffa15a'\n",
    "}\n",
    "\n",
    "\n",
    "# 클러스터별 예상 수익 시각화 (막대 그래프)\n",
    "fig_revenue = px.bar(cluster_revenue, x='cluster_label', y='estimated_revenue',\n",
    "                     title='클러스터별 총 예상 수익',\n",
    "                     labels={'cluster_label': '클러스터 라벨', 'estimated_revenue': '총 예상 수익'},\n",
    "                     text=cluster_revenue['estimated_revenue'].apply(lambda x: f'{x:,.0f}'), # 천 단위 구분 기호 추가 및 소수점 제거\n",
    "                     color=cluster_revenue['cluster_label'].astype(str), # 클러스터 라벨에 따라 색상 구분\n",
    "                     color_discrete_map=cluster_colors) # 지정된 색상 맵 적용\n",
    "\n",
    "\n",
    "fig_revenue.update_traces(textposition='outside', textangle=0) # 텍스트 위치를 막대 외부에, 각도를 0(가로)으로 설정\n",
    "fig_revenue.update_layout(xaxis = dict(tickmode = 'linear'))\n",
    "fig_revenue.show()"
   ]
  },
  {
   "cell_type": "code",
   "execution_count": null,
   "id": "a5fe3dde",
   "metadata": {},
   "outputs": [
    {
     "name": "stdout",
     "output_type": "stream",
     "text": [
      "\n",
      "클러스터별 도착 주차별 예약 비율 분산 차이 사후 분석 (Levene 기반, Bonferroni 보정):\n"
     ]
    },
    {
     "data": {
      "text/html": [
       "<div>\n",
       "<style scoped>\n",
       "    .dataframe tbody tr th:only-of-type {\n",
       "        vertical-align: middle;\n",
       "    }\n",
       "\n",
       "    .dataframe tbody tr th {\n",
       "        vertical-align: top;\n",
       "    }\n",
       "\n",
       "    .dataframe thead th {\n",
       "        text-align: right;\n",
       "    }\n",
       "</style>\n",
       "<table border=\"1\" class=\"dataframe\">\n",
       "  <thead>\n",
       "    <tr style=\"text-align: right;\">\n",
       "      <th></th>\n",
       "      <th>cluster_pair</th>\n",
       "      <th>t_statistic</th>\n",
       "      <th>p_value</th>\n",
       "      <th>p_value_bonferroni</th>\n",
       "    </tr>\n",
       "  </thead>\n",
       "  <tbody>\n",
       "    <tr>\n",
       "      <th>0</th>\n",
       "      <td>0 vs 1</td>\n",
       "      <td>-5.189372</td>\n",
       "      <td>3.242295e-06</td>\n",
       "      <td>3.242295e-05</td>\n",
       "    </tr>\n",
       "    <tr>\n",
       "      <th>1</th>\n",
       "      <td>0 vs 2</td>\n",
       "      <td>-7.922758</td>\n",
       "      <td>4.816390e-11</td>\n",
       "      <td>4.816390e-10</td>\n",
       "    </tr>\n",
       "    <tr>\n",
       "      <th>2</th>\n",
       "      <td>0 vs 3</td>\n",
       "      <td>-3.831815</td>\n",
       "      <td>2.628125e-04</td>\n",
       "      <td>2.628125e-03</td>\n",
       "    </tr>\n",
       "    <tr>\n",
       "      <th>3</th>\n",
       "      <td>0 vs 4</td>\n",
       "      <td>-8.635813</td>\n",
       "      <td>3.428804e-12</td>\n",
       "      <td>3.428804e-11</td>\n",
       "    </tr>\n",
       "    <tr>\n",
       "      <th>4</th>\n",
       "      <td>1 vs 2</td>\n",
       "      <td>0.690554</td>\n",
       "      <td>4.918868e-01</td>\n",
       "      <td>1.000000e+00</td>\n",
       "    </tr>\n",
       "    <tr>\n",
       "      <th>5</th>\n",
       "      <td>1 vs 3</td>\n",
       "      <td>3.477757</td>\n",
       "      <td>9.100942e-04</td>\n",
       "      <td>9.100942e-03</td>\n",
       "    </tr>\n",
       "    <tr>\n",
       "      <th>6</th>\n",
       "      <td>1 vs 4</td>\n",
       "      <td>-0.031467</td>\n",
       "      <td>9.749727e-01</td>\n",
       "      <td>1.000000e+00</td>\n",
       "    </tr>\n",
       "    <tr>\n",
       "      <th>7</th>\n",
       "      <td>2 vs 3</td>\n",
       "      <td>4.483225</td>\n",
       "      <td>2.117595e-05</td>\n",
       "      <td>2.117595e-04</td>\n",
       "    </tr>\n",
       "    <tr>\n",
       "      <th>8</th>\n",
       "      <td>2 vs 4</td>\n",
       "      <td>-1.029318</td>\n",
       "      <td>3.057376e-01</td>\n",
       "      <td>1.000000e+00</td>\n",
       "    </tr>\n",
       "    <tr>\n",
       "      <th>9</th>\n",
       "      <td>3 vs 4</td>\n",
       "      <td>-5.392033</td>\n",
       "      <td>5.871657e-07</td>\n",
       "      <td>5.871657e-06</td>\n",
       "    </tr>\n",
       "  </tbody>\n",
       "</table>\n",
       "</div>"
      ],
      "text/plain": [
       "  cluster_pair  t_statistic       p_value  p_value_bonferroni\n",
       "0       0 vs 1    -5.189372  3.242295e-06        3.242295e-05\n",
       "1       0 vs 2    -7.922758  4.816390e-11        4.816390e-10\n",
       "2       0 vs 3    -3.831815  2.628125e-04        2.628125e-03\n",
       "3       0 vs 4    -8.635813  3.428804e-12        3.428804e-11\n",
       "4       1 vs 2     0.690554  4.918868e-01        1.000000e+00\n",
       "5       1 vs 3     3.477757  9.100942e-04        9.100942e-03\n",
       "6       1 vs 4    -0.031467  9.749727e-01        1.000000e+00\n",
       "7       2 vs 3     4.483225  2.117595e-05        2.117595e-04\n",
       "8       2 vs 4    -1.029318  3.057376e-01        1.000000e+00\n",
       "9       3 vs 4    -5.392033  5.871657e-07        5.871657e-06"
      ]
     },
     "metadata": {},
     "output_type": "display_data"
    },
    {
     "name": "stdout",
     "output_type": "stream",
     "text": [
      "\n",
      "사후 분석 결과 해석 (alpha=0.05):\n",
      " - 0 vs 1: 분산에 통계적으로 유의미한 차이가 있습니다 (조정된 p=0.0000).\n",
      " - 0 vs 2: 분산에 통계적으로 유의미한 차이가 있습니다 (조정된 p=0.0000).\n",
      " - 0 vs 3: 분산에 통계적으로 유의미한 차이가 있습니다 (조정된 p=0.0026).\n",
      " - 0 vs 4: 분산에 통계적으로 유의미한 차이가 있습니다 (조정된 p=0.0000).\n",
      " - 1 vs 2: 분산에 통계적으로 유의미한 차이가 없습니다 (조정된 p=1.0000).\n",
      " - 1 vs 3: 분산에 통계적으로 유의미한 차이가 있습니다 (조정된 p=0.0091).\n",
      " - 1 vs 4: 분산에 통계적으로 유의미한 차이가 없습니다 (조정된 p=1.0000).\n",
      " - 2 vs 3: 분산에 통계적으로 유의미한 차이가 있습니다 (조정된 p=0.0002).\n",
      " - 2 vs 4: 분산에 통계적으로 유의미한 차이가 없습니다 (조정된 p=1.0000).\n",
      " - 3 vs 4: 분산에 통계적으로 유의미한 차이가 있습니다 (조정된 p=0.0000).\n"
     ]
    }
   ],
   "source": [
    "from scipy import stats\n",
    "import pandas as pd\n",
    "import numpy as np\n",
    "from statsmodels.stats.multicomp import pairwise_tukeyhsd # Tukey HSD for means, not directly for variance\n",
    "\n",
    "# df_week_cluster_count DataFrame 사용 (이전 셀에서 생성됨)\n",
    "\n",
    "# 각 클러스터별 주차별 예약 비율 데이터 추출\n",
    "# Levene 검정의 사후 분석을 위해 그룹 중앙값으로부터의 절대 편차 계산\n",
    "df_week_cluster_count['abs_deviation_from_median'] = df_week_cluster_count.groupby('cluster_label')['percentage'].transform(lambda x: np.abs(x - x.median()))\n",
    "\n",
    "# Levene 검정 사후 분석 (Brown-Forsythe의 접근 방식)\n",
    "# 각 클러스터 쌍 간의 절대 편차에 대한 독립 표본 t-검정 수행\n",
    "clusters = sorted(df_week_cluster_count['cluster_label'].unique())\n",
    "pairwise_results = []\n",
    "\n",
    "for i in range(len(clusters)):\n",
    "    for j in range(i + 1, len(clusters)):\n",
    "        cluster1 = clusters[i]\n",
    "        cluster2 = clusters[j]\n",
    "\n",
    "        data1 = df_week_cluster_count[df_week_cluster_count['cluster_label'] == cluster1]['abs_deviation_from_median'].dropna()\n",
    "        data2 = df_week_cluster_count[df_week_cluster_count['cluster_label'] == cluster2]['abs_deviation_from_median'].dropna()\n",
    "\n",
    "        # 독립 표본 t-검정 수행\n",
    "        if len(data1) > 1 and len(data2) > 1: # Ensure enough data points for t-test\n",
    "            t_stat, p_value = stats.ttest_ind(data1, data2, equal_var=False) # Welch's t-test (doesn't assume equal variance)\n",
    "            pairwise_results.append({'cluster_pair': f'{cluster1} vs {cluster2}', 't_statistic': t_stat, 'p_value': p_value})\n",
    "        else:\n",
    "             pairwise_results.append({'cluster_pair': f'{cluster1} vs {cluster2}', 't_statistic': np.nan, 'p_value': np.nan})\n",
    "\n",
    "\n",
    "df_pairwise_results = pd.DataFrame(pairwise_results)\n",
    "\n",
    "# 다중 비교 조정 (Bonferroni 보정)\n",
    "df_pairwise_results['p_value_bonferroni'] = np.nan\n",
    "num_comparisons = len(df_pairwise_results)\n",
    "if num_comparisons > 0:\n",
    "    # Apply Bonferroni correction only to non-NaN p-values\n",
    "    valid_p_values = df_pairwise_results['p_value'].dropna()\n",
    "    if len(valid_p_values) > 0:\n",
    "        df_pairwise_results.loc[valid_p_values.index, 'p_value_bonferroni'] = np.minimum(1, valid_p_values * num_comparisons)\n",
    "\n",
    "\n",
    "print(\"\\n클러스터별 도착 주차별 예약 비율 분산 차이 사후 분석 (Levene 기반, Bonferroni 보정):\")\n",
    "display(df_pairwise_results)\n",
    "\n",
    "# 결과 해석\n",
    "alpha = 0.05\n",
    "print(\"\\n사후 분석 결과 해석 (alpha=0.05):\")\n",
    "for index, row in df_pairwise_results.iterrows():\n",
    "    if pd.notna(row['p_value_bonferroni']):\n",
    "        if row['p_value_bonferroni'] < alpha:\n",
    "            print(f\" - {row['cluster_pair']}: 분산에 통계적으로 유의미한 차이가 있습니다 (조정된 p={row['p_value_bonferroni']:.4f}).\")\n",
    "        else:\n",
    "            print(f\" - {row['cluster_pair']}: 분산에 통계적으로 유의미한 차이가 없습니다 (조정된 p={row['p_value_bonferroni']:.4f}).\")\n",
    "    else:\n",
    "        print(f\" - {row['cluster_pair']}: 분석을 위한 데이터 부족\")"
   ]
  },
  {
   "cell_type": "markdown",
   "id": "2e053882",
   "metadata": {},
   "source": [
    "## 3.4.4. 클러스터 프로파일링 및 해석 (결과 요약)\n",
    "\n",
    "앞서 K-Means 클러스터링을 통해 5개의 고객 집단으로 분류했으며, 각 클러스터는 다음과 같은 주요 특징에 따라 구분됩니다.\n",
    "\n",
    "클러스터별 특성 프로파일 (평균값 및 주요 지표):\n",
    "\n",
    "| cluster_label | adr_mean | lead_time_mean | total_guests_mean | total_nights_mean | is_canceled_rate | market_segment_mode | is_repeated_guest_ratio |\n",
    "|---------------|----------|----------------|-------------------|-------------------|------------------|---------------------|-------------------------|\n",
    "| 0             | 102.18   | 18.12          | 1.88              | 2.79              | 0.23             | Online TA           | 0.06                    |\n",
    "| 1             | 78.80    | 434.40         | 1.91              | 2.64              | 0.67             | Groups              | 0.00                    |\n",
    "| 2             | 107.94   | 175.65         | 2.05              | 4.31              | 0.46             | Online TA           | 0.00                    |\n",
    "| 3             | 107.45   | 88.91          | 2.05              | 3.81              | 0.42             | Online TA           | 0.01                    |\n",
    "| 4             | 89.16    | 286.86         | 2.03              | 3.99              | 0.63             | Groups              | 0.02                    |\n",
    "\n",
    "**클러스터별 주요 특징:**\n",
    "\n",
    "*   **클러스터 0:**\n",
    "    *   **낮은 리드 타임 (lead_time_mean: 18.12):** 비교적 짧은 시간 전에 예약하는 경향이 있습니다.\n",
    "    *   **낮은 취소율 (is_canceled_rate: 0.23):** 예약 취소율이 가장 낮습니다.\n",
    "    *   **주요 시장 세그먼트 (market_segment_mode: Online TA):** 주로 온라인 여행사를 통해 예약합니다.\n",
    "    *   **가장 높은 반복 고객 비율 (is_repeated_guest_ratio: 0.06):** 반복 방문객의 비중이 가장 높습니다.\n",
    "    *   **해석:** 이 집단은 주로 온라인 여행사를 통해 짧은 리드 타임으로 예약하며, 취소율이 낮고 반복 방문율이 높아 **안정적인 온라인 채널 충성 고객**으로 볼 수 있습니다.\n",
    "\n",
    "*   **클러스터 1:**\n",
    "    *   **매우 높은 리드 타임 (lead_time_mean: 434.40):** 다른 클러스터에 비해 압도적으로 긴 시간 전에 예약합니다.\n",
    "    *   **매우 높은 취소율 (is_canceled_rate: 0.67):** 취소율이 가장 높습니다.\n",
    "    *   **주요 시장 세그먼트 (market_segment_mode: Groups):** 단체 예약의 비중이 높습니다.\n",
    "    *   **해석:** 이 집단은 장기 계획을 세우는 단체 고객일 가능성이 높으며, 예약 후 취소하는 경우가 많아 **고위험 장기 예약 단체 고객**으로 특징 지을 수 있습니다.\n",
    "\n",
    "*   **클러스터 2:**\n",
    "    *   **높은 평균 ADR (adr_mean: 107.94):** 객실 단가가 비교적 높습니다.\n",
    "    *   **긴 숙박 기간 (total_nights_mean: 4.31):** 평균 숙박 일수가 가장 깁니다.\n",
    "    *   **주요 시장 세그먼트 (market_segment_mode: Online TA):** 주로 온라인 여행사를 통해 예약합니다.\n",
    "    *   **해석:** 이 집단은 높은 객실 단가와 긴 숙박 기간을 특징으로 하는 **고가치 장기 체류 온라인 고객**으로 보입니다.\n",
    "\n",
    "*   **클러스터 3:**\n",
    "    *   **높은 평균 ADR (adr_mean: 107.45):** 객실 단가가 비교적 높습니다.\n",
    "    *   **중간 정도의 리드 타임 (lead_time_mean: 88.91):** 중간 정도의 시간 전에 예약합니다.\n",
    "    *   **주요 시장 세그먼트 (market_segment_mode: Online TA):** 주로 온라인 여행사를 통해 예약합니다.\n",
    "    *   **해석:** 이 집단은 클러스터 2와 유사하게 높은 객실 단가를 보이지만, 숙박 기간이나 리드 타임은 그보다 짧은 **고가치 중간 예약 온라인 고객**으로 특징 지을 수 있습니다.\n",
    "\n",
    "*   **클러스터 4:**\n",
    "    *   **높은 리드 타임 (lead_time_mean: 286.86):** 클러스터 1 다음으로 긴 리드 타임을 가집니다.\n",
    "    *   **높은 취소율 (is_canceled_rate: 0.63):** 클러스터 1 다음으로 취소율이 높습니다.\n",
    "    *   **주요 시장 세그먼트 (market_segment_mode: Groups):** 단체 예약의 비중이 높습니다.\n",
    "    *   **해석:** 클러스터 1과 유사하게 장기 예약 단체 고객이지만, 리드 타임과 취소율은 클러스터 1보다 다소 낮은 **중위험 장기 예약 단체 고객**으로 볼 수 있습니다.\n",
    "\n",
    "클러스터 0: “충성 온라인 고객”\n",
    "\n",
    "클러스터 1: “불안정 장기 단체”\n",
    "\n",
    "클러스터 2: “프리미엄 장기 체류”\n",
    "\n",
    "클러스터 3: “프리미엄 단기 체류”\n",
    "\n",
    "클러스터 4: “위험 단체 고객”\n",
    "\n",
    "\n",
    "**통계적 검정 결과 요약:**\n",
    "\n",
    "*   **클러스터별 평균 ADR:** ANOVA 검정 결과, 클러스터별 평균 ADR은 통계적으로 유의미한 차이가 있음을 확인했습니다 (p < 0.05). 이는 ADR이 클러스터를 구분하는 중요한 특징 중 하나임을 시사합니다.\n",
    "*   **클러스터 라벨과 Market Segment 연관성:** 카이제곱 검정 결과, 클러스터 라벨과 Market Segment 간에는 통계적으로 유의미한 연관성이 있음을 확인했습니다 (p < 0.05). 이는 시장 세그먼트가 각 클러스터의 특성을 정의하는 데 중요한 역할을 함을 나타냅니다.\n",
    "\n",
    "이러한 클러스터별 특징 분석 결과는 호텔의 마케팅 전략 수립, 서비스 맞춤화, 예약 취소 관리 등에 활용될 수 있습니다. 예를 들어, 클러스터 1과 4와 같은 고위험/중위험 단체 고객에게는 예약 확정 유도를 위한 선제적인 커뮤니케이션이나 맞춤형 프로모션을 제공하는 방안을 고려할 수 있습니다. 반면, 클러스터 0과 같은 안정적인 온라인 충성 고객에게는 반복 방문을 장려하는 로열티 프로그램을 강화할 수 있습니다."
   ]
  },
  {
   "cell_type": "markdown",
   "id": "8a738a89",
   "metadata": {},
   "source": [
    "## 3.4.5 클러스터링 평가\n",
    "\n",
    "다양한 지표를 사용하여 클러스터링 결과의 품질을 평가합니다."
   ]
  },
  {
   "cell_type": "code",
   "execution_count": null,
   "id": "dfb491cc",
   "metadata": {},
   "outputs": [
    {
     "name": "stdout",
     "output_type": "stream",
     "text": [
      "클러스터별 실무적 해석 지표 (통계적 차이 검정):\n",
      "\n",
      "Cluster별 ADR 차이 ANOVA 검정: F=559.0470, p=0.0000\n",
      "결론: 클러스터별 평균 ADR은 통계적으로 유의미한 차이가 있습니다.\n",
      "\n",
      "Cluster 라벨과 Market Segment 간의 교차표:\n"
     ]
    },
    {
     "data": {
      "text/html": [
       "<div>\n",
       "<style scoped>\n",
       "    .dataframe tbody tr th:only-of-type {\n",
       "        vertical-align: middle;\n",
       "    }\n",
       "\n",
       "    .dataframe tbody tr th {\n",
       "        vertical-align: top;\n",
       "    }\n",
       "\n",
       "    .dataframe thead th {\n",
       "        text-align: right;\n",
       "    }\n",
       "</style>\n",
       "<table border=\"1\" class=\"dataframe\">\n",
       "  <thead>\n",
       "    <tr style=\"text-align: right;\">\n",
       "      <th>market_segment</th>\n",
       "      <th>Aviation</th>\n",
       "      <th>Complementary</th>\n",
       "      <th>Corporate</th>\n",
       "      <th>Direct</th>\n",
       "      <th>Groups</th>\n",
       "      <th>Offline TA/TO</th>\n",
       "      <th>Online TA</th>\n",
       "      <th>Undefined</th>\n",
       "    </tr>\n",
       "    <tr>\n",
       "      <th>cluster_label</th>\n",
       "      <th></th>\n",
       "      <th></th>\n",
       "      <th></th>\n",
       "      <th></th>\n",
       "      <th></th>\n",
       "      <th></th>\n",
       "      <th></th>\n",
       "      <th></th>\n",
       "    </tr>\n",
       "  </thead>\n",
       "  <tbody>\n",
       "    <tr>\n",
       "      <th>0</th>\n",
       "      <td>231</td>\n",
       "      <td>665</td>\n",
       "      <td>4571</td>\n",
       "      <td>8535</td>\n",
       "      <td>3711</td>\n",
       "      <td>7152</td>\n",
       "      <td>26596</td>\n",
       "      <td>2</td>\n",
       "    </tr>\n",
       "    <tr>\n",
       "      <th>1</th>\n",
       "      <td>0</td>\n",
       "      <td>1</td>\n",
       "      <td>0</td>\n",
       "      <td>5</td>\n",
       "      <td>2274</td>\n",
       "      <td>1107</td>\n",
       "      <td>25</td>\n",
       "      <td>0</td>\n",
       "    </tr>\n",
       "    <tr>\n",
       "      <th>2</th>\n",
       "      <td>0</td>\n",
       "      <td>2</td>\n",
       "      <td>76</td>\n",
       "      <td>1362</td>\n",
       "      <td>4315</td>\n",
       "      <td>5729</td>\n",
       "      <td>10064</td>\n",
       "      <td>0</td>\n",
       "    </tr>\n",
       "    <tr>\n",
       "      <th>3</th>\n",
       "      <td>0</td>\n",
       "      <td>44</td>\n",
       "      <td>557</td>\n",
       "      <td>2167</td>\n",
       "      <td>4617</td>\n",
       "      <td>6408</td>\n",
       "      <td>16000</td>\n",
       "      <td>0</td>\n",
       "    </tr>\n",
       "    <tr>\n",
       "      <th>4</th>\n",
       "      <td>0</td>\n",
       "      <td>3</td>\n",
       "      <td>27</td>\n",
       "      <td>380</td>\n",
       "      <td>4842</td>\n",
       "      <td>3653</td>\n",
       "      <td>3444</td>\n",
       "      <td>0</td>\n",
       "    </tr>\n",
       "  </tbody>\n",
       "</table>\n",
       "</div>"
      ],
      "text/plain": [
       "market_segment  Aviation  Complementary  Corporate  Direct  Groups  \\\n",
       "cluster_label                                                        \n",
       "0                    231            665       4571    8535    3711   \n",
       "1                      0              1          0       5    2274   \n",
       "2                      0              2         76    1362    4315   \n",
       "3                      0             44        557    2167    4617   \n",
       "4                      0              3         27     380    4842   \n",
       "\n",
       "market_segment  Offline TA/TO  Online TA  Undefined  \n",
       "cluster_label                                        \n",
       "0                        7152      26596          2  \n",
       "1                        1107         25          0  \n",
       "2                        5729      10064          0  \n",
       "3                        6408      16000          0  \n",
       "4                        3653       3444          0  "
      ]
     },
     "metadata": {},
     "output_type": "display_data"
    },
    {
     "name": "stdout",
     "output_type": "stream",
     "text": [
      "\n",
      "Cluster 라벨과 Market Segment 연관성 카이제곱 검정: Chi2=25783.9281, p=0.0000\n",
      "결론: 클러스터 라벨과 Market Segment 간에는 통계적으로 유의미한 연관성이 있습니다.\n"
     ]
    }
   ],
   "source": [
    "from scipy import stats\n",
    "import pandas as pd\n",
    "\n",
    "print(\"클러스터별 실무적 해석 지표 (통계적 차이 검정):\")\n",
    "\n",
    "# 수치형 변수에 대한 ANOVA 검정 (예: adr, lead_time)\n",
    "# 각 클러스터별 adr 데이터 추출\n",
    "adr_by_cluster = [df_resort_clustered[df_resort_clustered['cluster_label'] == i]['adr'].dropna()\n",
    "                  for i in sorted(df_resort_clustered['cluster_label'].unique())]\n",
    "\n",
    "# ANOVA 검정 수행\n",
    "# F-statistic과 p-value 확인\n",
    "fvalue_adr, pvalue_adr = stats.f_oneway(*adr_by_cluster)\n",
    "print(f\"\\nCluster별 ADR 차이 ANOVA 검정: F={fvalue_adr:.4f}, p={pvalue_adr:.4f}\")\n",
    "\n",
    "# 결과 해석\n",
    "alpha = 0.05\n",
    "if pvalue_adr < alpha:\n",
    "    print(\"결론: 클러스터별 평균 ADR은 통계적으로 유의미한 차이가 있습니다.\")\n",
    "else:\n",
    "    print(\"결론: 클러스터별 평균 ADR은 통계적으로 유의미한 차이가 없습니다.\")\n",
    "\n",
    "\n",
    "# 다른 수치형 변수에 대해서도 유사하게 검정 가능 (예: lead_time)\n",
    "# lead_time_by_cluster = [df_resort_clustered[df_resort_clustered['cluster_label'] == i]['lead_time'].dropna()\n",
    "#                         for i in sorted(df_resort_clustered['cluster_label'].unique())]\n",
    "# fvalue_lead_time, pvalue_lead_time = stats.f_oneway(*lead_time_by_cluster)\n",
    "# print(f\"\\nCluster별 Lead Time 차이 ANOVA 검정: F={fvalue_lead_time:.4f}, p={pvalue_lead_time:.4f}\")\n",
    "# if pvalue_lead_time < alpha:\n",
    "#     print(\"결론: 클러스터별 평균 Lead Time은 통계적으로 유의미한 차이가 있습니다.\")\n",
    "# else:\n",
    "#     print(\"결론: 클러스터별 평균 Lead Time은 통계적으로 유의미한 차이가 없습니다.\")\n",
    "\n",
    "\n",
    "# 범주형 변수에 대한 카이제곱 검정 (예: market_segment)\n",
    "# 클러스터 라벨과 market_segment 간의 교차표 생성\n",
    "contingency_table_market_segment = pd.crosstab(df_resort_clustered['cluster_label'], df_resort_clustered['market_segment'])\n",
    "\n",
    "print(\"\\nCluster 라벨과 Market Segment 간의 교차표:\")\n",
    "display(contingency_table_market_segment)\n",
    "\n",
    "# 카이제곱 검정 수행\n",
    "chi2_market_segment, p_market_segment, dof_market_segment, expected_market_segment = stats.chi2_contingency(contingency_table_market_segment)\n",
    "\n",
    "print(f\"\\nCluster 라벨과 Market Segment 연관성 카이제곱 검정: Chi2={chi2_market_segment:.4f}, p={p_market_segment:.4f}\")\n",
    "\n",
    "# 결과 해석\n",
    "if p_market_segment < alpha:\n",
    "    print(\"결론: 클러스터 라벨과 Market Segment 간에는 통계적으로 유의미한 연관성이 있습니다.\")\n",
    "else:\n",
    "    print(\"결론: 클러스터 라벨과 Market Segment 간에는 통계적으로 유의미한 연관성이 없습니다.\")\n",
    "\n",
    "# 다른 범주형 변수에 대해서도 유사하게 검정 가능 (예: customer_group, distribution_channel)\n",
    "# contingency_table_customer_group = pd.crosstab(df_resort_clustered['cluster_label'], df_resort_clustered['customer_group'])\n",
    "# chi2_customer_group, p_customer_group, dof_customer_group, expected_customer_group = stats.chi2_contingency(contingency_table_customer_group)\n",
    "# print(f\"\\nCluster 라벨과 Customer Group 연관성 카이제곱 검정: Chi2={chi2_customer_customer_group:.4f}, p={p_customer_group:.4f}\")\n",
    "# if p_customer_group < alpha:\n",
    "#     print(\"결론: 클러스터 라벨과 Customer Group 간에는 통계적으로 유의미한 연관성이 있습니다.\")\n",
    "# else:\n",
    "#     print(\"결론: 클러스터 라벨과 Customer Group 간에는 통계적으로 유의미한 연관성이 없습니다.\")"
   ]
  }
 ],
 "metadata": {
  "language_info": {
   "name": "python"
  }
 },
 "nbformat": 4,
 "nbformat_minor": 5
}
