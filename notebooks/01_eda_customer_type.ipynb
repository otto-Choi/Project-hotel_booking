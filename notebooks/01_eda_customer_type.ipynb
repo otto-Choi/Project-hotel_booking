{
 "cells": [
  {
   "cell_type": "markdown",
   "id": "d269a8ca",
   "metadata": {},
   "source": [
    "#호텔 예약 데이터 분석\n",
    "\n",
    "이 노트북은 호텔 예약 데이터를 사용하여 다양한 측면을 탐색적 데이터 분석(EDA)하고 주요 특징 및 관계를 파악하는 것을 목표로 합니다."
   ]
  },
  {
   "cell_type": "markdown",
   "id": "950c38db",
   "metadata": {},
   "source": [
    "## 1. 데이터 로딩 및 전처리\n",
    "\n",
    "이 섹션에서는 분석에 필요한 데이터를 불러오고, 전처리 과정을 수행합니다."
   ]
  },
  {
   "cell_type": "markdown",
   "id": "518c8fde",
   "metadata": {},
   "source": [
    "### 1.1 Google Drive 마운트"
   ]
  },
  {
   "cell_type": "markdown",
   "id": "48bc2e0e",
   "metadata": {},
   "source": [
    "### 1.2 한글 폰트 설정"
   ]
  },
  {
   "cell_type": "code",
   "execution_count": null,
   "id": "a3c092f5",
   "metadata": {},
   "outputs": [
    {
     "data": {
      "image/png": "[encoded data removed]",
      "text/plain": [
       "<Figure size 640x480 with 1 Axes>"
      ]
     },
     "metadata": {},
     "output_type": "display_data"
    }
   ],
   "source": [
    "import matplotlib as mpl\n",
    "import matplotlib.pyplot as plt\n",
    "\n",
    "# 한글 폰트 설정 (Windows 기본)\n",
    "mpl.rcParams['font.family'] = 'Malgun Gothic'\n",
    "mpl.rcParams['axes.unicode_minus'] = False  # 마이너스 기호 깨짐 방지\n",
    "\n",
    "plt.plot([1,2,3],[1,4,9])\n",
    "plt.title(\"한글 테스트 - 맑은 고딕\")\n",
    "plt.show()\n"
   ]
  },
  {
   "cell_type": "code",
   "execution_count": null,
   "id": "624b82a9",
   "metadata": {},
   "outputs": [
    {
     "name": "stdout",
     "output_type": "stream",
     "text": [
      "Defaulting to user installation because normal site-packages is not writeable\n",
      "Requirement already satisfied: plotly in c:\\users\\pmpm9\\appdata\\roaming\\python\\python313\\site-packages (6.3.0)\n",
      "Requirement already satisfied: narwhals>=1.15.1 in c:\\users\\pmpm9\\appdata\\roaming\\python\\python313\\site-packages (from plotly) (2.5.0)\n",
      "Requirement already satisfied: packaging in c:\\users\\pmpm9\\appdata\\roaming\\python\\python313\\site-packages (from plotly) (25.0)\n"
     ]
    }
   ],
   "source": [
    "!pip install plotly\n",
    "import plotly.express as px"
   ]
  },
  {
   "cell_type": "markdown",
   "id": "5f1b8f33",
   "metadata": {},
   "source": [
    "### 1.3 데이터 로딩 및 초기 필터링"
   ]
  },
  {
   "cell_type": "code",
   "execution_count": null,
   "id": "27fc1f12",
   "metadata": {},
   "outputs": [],
   "source": [
    "import pandas as pd\n",
    "\n",
    "# 같은 경로에 있는 CSV 파일 로드\n",
    "file_path = 'hotel_booking.csv'\n",
    "df = pd.read_csv(file_path)\n"
   ]
  },
  {
   "cell_type": "markdown",
   "id": "2e2e7864",
   "metadata": {},
   "source": [
    "### 1.4 파생변수 생성"
   ]
  },
  {
   "cell_type": "code",
   "execution_count": null,
   "id": "16976428",
   "metadata": {},
   "outputs": [
    {
     "name": "stdout",
     "output_type": "stream",
     "text": [
      "파생변수 생성 후 데이터프레임의 상위 5개 행 (추가된 열 확인):\n"
     ]
    },
    {
     "data": {
      "text/html": [
       "<div>\n",
       "<style scoped>\n",
       "    .dataframe tbody tr th:only-of-type {\n",
       "        vertical-align: middle;\n",
       "    }\n",
       "\n",
       "    .dataframe tbody tr th {\n",
       "        vertical-align: top;\n",
       "    }\n",
       "\n",
       "    .dataframe thead th {\n",
       "        text-align: right;\n",
       "    }\n",
       "</style>\n",
       "<table border=\"1\" class=\"dataframe\">\n",
       "  <thead>\n",
       "    <tr style=\"text-align: right;\">\n",
       "      <th></th>\n",
       "      <th>arrival_date</th>\n",
       "      <th>total_guests</th>\n",
       "      <th>is_family</th>\n",
       "    </tr>\n",
       "  </thead>\n",
       "  <tbody>\n",
       "    <tr>\n",
       "      <th>0</th>\n",
       "      <td>2015-07-01</td>\n",
       "      <td>2.0</td>\n",
       "      <td>False</td>\n",
       "    </tr>\n",
       "    <tr>\n",
       "      <th>1</th>\n",
       "      <td>2015-07-01</td>\n",
       "      <td>2.0</td>\n",
       "      <td>False</td>\n",
       "    </tr>\n",
       "    <tr>\n",
       "      <th>2</th>\n",
       "      <td>2015-07-01</td>\n",
       "      <td>1.0</td>\n",
       "      <td>False</td>\n",
       "    </tr>\n",
       "    <tr>\n",
       "      <th>3</th>\n",
       "      <td>2015-07-01</td>\n",
       "      <td>1.0</td>\n",
       "      <td>False</td>\n",
       "    </tr>\n",
       "    <tr>\n",
       "      <th>4</th>\n",
       "      <td>2015-07-01</td>\n",
       "      <td>2.0</td>\n",
       "      <td>False</td>\n",
       "    </tr>\n",
       "  </tbody>\n",
       "</table>\n",
       "</div>"
      ],
      "text/plain": [
       "  arrival_date  total_guests  is_family\n",
       "0   2015-07-01           2.0      False\n",
       "1   2015-07-01           2.0      False\n",
       "2   2015-07-01           1.0      False\n",
       "3   2015-07-01           1.0      False\n",
       "4   2015-07-01           2.0      False"
      ]
     },
     "metadata": {},
     "output_type": "display_data"
    },
    {
     "name": "stdout",
     "output_type": "stream",
     "text": [
      "\n",
      "파생변수 생성 완료.\n"
     ]
    }
   ],
   "source": [
    "import pandas as pd\n",
    "\n",
    "# 1. yyyy-mm-dd 형태의 날짜 데이터 생성\n",
    "# 월 이름을 숫자로 변환하기 위한 매핑 딕셔너리\n",
    "month_mapping = {\n",
    "    'January': 1, 'February': 2, 'March': 3, 'April': 4, 'May': 5, 'June': 6,\n",
    "    'July': 7, 'August': 8, 'September': 9, 'October': 10, 'November': 11, 'December': 12\n",
    "}\n",
    "df['arrival_date_month_num'] = df['arrival_date_month'].map(month_mapping)\n",
    "\n",
    "# 날짜 문자열 생성 (월이 한 자릿수일 경우 앞에 0을 붙여야 함)\n",
    "df['arrival_date'] = df['arrival_date_year'].astype(str) + '-' + \\\n",
    "                     df['arrival_date_month_num'].astype(str).str.zfill(2) + '-' + \\\n",
    "                     df['arrival_date_day_of_month'].astype(str).str.zfill(2)\n",
    "\n",
    "# 날짜 형식으로 변환\n",
    "df['arrival_date'] = pd.to_datetime(df['arrival_date'], errors='coerce')\n",
    "\n",
    "# 임시로 만든 월 숫자 열 삭제\n",
    "df = df.drop(columns=['arrival_date_month_num'])\n",
    "\n",
    "# 2. total_guests 생성\n",
    "df['total_guests'] = df['adults'] + df['children'] + df['babies']\n",
    "\n",
    "# 3. is_family 생성\n",
    "# adults가 1 이상이고 (children > 0 또는 babies > 0) 인 경우 가족으로 판단\n",
    "df['is_family'] = ((df['adults'] > 0) & ((df['children'] > 0) | (df['babies'] > 0)))\n",
    "\n",
    "# 원본 날짜 관련 열 삭제\n",
    "df = df.drop(columns=['arrival_date_year', 'arrival_date_month', 'arrival_date_week_number', 'arrival_date_day_of_month'])\n",
    "\n",
    "\n",
    "print(\"파생변수 생성 후 데이터프레임의 상위 5개 행 (추가된 열 확인):\")\n",
    "display(df[['arrival_date', 'total_guests', 'is_family']].head())\n",
    "\n",
    "print(\"\\n파생변수 생성 완료.\")"
   ]
  },
  {
   "cell_type": "markdown",
   "id": "ebf879d1",
   "metadata": {},
   "source": [
    "### 1.5 데이터 기본 정보 및 기술 통계 확인"
   ]
  },
  {
   "cell_type": "code",
   "execution_count": null,
   "id": "c633f7a2",
   "metadata": {},
   "outputs": [
    {
     "name": "stdout",
     "output_type": "stream",
     "text": [
      "데이터프레임의 기술 통계:\n"
     ]
    },
    {
     "data": {
      "text/html": [
       "<div>\n",
       "<style scoped>\n",
       "    .dataframe tbody tr th:only-of-type {\n",
       "        vertical-align: middle;\n",
       "    }\n",
       "\n",
       "    .dataframe tbody tr th {\n",
       "        vertical-align: top;\n",
       "    }\n",
       "\n",
       "    .dataframe thead th {\n",
       "        text-align: right;\n",
       "    }\n",
       "</style>\n",
       "<table border=\"1\" class=\"dataframe\">\n",
       "  <thead>\n",
       "    <tr style=\"text-align: right;\">\n",
       "      <th></th>\n",
       "      <th>is_canceled</th>\n",
       "      <th>lead_time</th>\n",
       "      <th>stays_in_weekend_nights</th>\n",
       "      <th>stays_in_week_nights</th>\n",
       "      <th>adults</th>\n",
       "      <th>children</th>\n",
       "      <th>babies</th>\n",
       "      <th>is_repeated_guest</th>\n",
       "      <th>previous_cancellations</th>\n",
       "      <th>previous_bookings_not_canceled</th>\n",
       "      <th>booking_changes</th>\n",
       "      <th>agent</th>\n",
       "      <th>company</th>\n",
       "      <th>days_in_waiting_list</th>\n",
       "      <th>adr</th>\n",
       "      <th>required_car_parking_spaces</th>\n",
       "      <th>total_of_special_requests</th>\n",
       "      <th>arrival_date</th>\n",
       "      <th>total_guests</th>\n",
       "    </tr>\n",
       "  </thead>\n",
       "  <tbody>\n",
       "    <tr>\n",
       "      <th>count</th>\n",
       "      <td>119390.000000</td>\n",
       "      <td>119390.000000</td>\n",
       "      <td>119390.000000</td>\n",
       "      <td>119390.000000</td>\n",
       "      <td>119390.000000</td>\n",
       "      <td>119386.000000</td>\n",
       "      <td>119390.000000</td>\n",
       "      <td>119390.000000</td>\n",
       "      <td>119390.000000</td>\n",
       "      <td>119390.000000</td>\n",
       "      <td>119390.000000</td>\n",
       "      <td>103050.000000</td>\n",
       "      <td>6797.000000</td>\n",
       "      <td>119390.000000</td>\n",
       "      <td>119390.000000</td>\n",
       "      <td>119390.000000</td>\n",
       "      <td>119390.000000</td>\n",
       "      <td>119390</td>\n",
       "      <td>119386.000000</td>\n",
       "    </tr>\n",
       "    <tr>\n",
       "      <th>mean</th>\n",
       "      <td>0.370416</td>\n",
       "      <td>104.011416</td>\n",
       "      <td>0.927599</td>\n",
       "      <td>2.500302</td>\n",
       "      <td>1.856403</td>\n",
       "      <td>0.103890</td>\n",
       "      <td>0.007949</td>\n",
       "      <td>0.031912</td>\n",
       "      <td>0.087118</td>\n",
       "      <td>0.137097</td>\n",
       "      <td>0.221124</td>\n",
       "      <td>86.693382</td>\n",
       "      <td>189.266735</td>\n",
       "      <td>2.321149</td>\n",
       "      <td>101.831122</td>\n",
       "      <td>0.062518</td>\n",
       "      <td>0.571363</td>\n",
       "      <td>2016-08-28 16:39:45.727447808</td>\n",
       "      <td>1.968229</td>\n",
       "    </tr>\n",
       "    <tr>\n",
       "      <th>min</th>\n",
       "      <td>0.000000</td>\n",
       "      <td>0.000000</td>\n",
       "      <td>0.000000</td>\n",
       "      <td>0.000000</td>\n",
       "      <td>0.000000</td>\n",
       "      <td>0.000000</td>\n",
       "      <td>0.000000</td>\n",
       "      <td>0.000000</td>\n",
       "      <td>0.000000</td>\n",
       "      <td>0.000000</td>\n",
       "      <td>0.000000</td>\n",
       "      <td>1.000000</td>\n",
       "      <td>6.000000</td>\n",
       "      <td>0.000000</td>\n",
       "      <td>-6.380000</td>\n",
       "      <td>0.000000</td>\n",
       "      <td>0.000000</td>\n",
       "      <td>2015-07-01 00:00:00</td>\n",
       "      <td>0.000000</td>\n",
       "    </tr>\n",
       "    <tr>\n",
       "      <th>25%</th>\n",
       "      <td>0.000000</td>\n",
       "      <td>18.000000</td>\n",
       "      <td>0.000000</td>\n",
       "      <td>1.000000</td>\n",
       "      <td>2.000000</td>\n",
       "      <td>0.000000</td>\n",
       "      <td>0.000000</td>\n",
       "      <td>0.000000</td>\n",
       "      <td>0.000000</td>\n",
       "      <td>0.000000</td>\n",
       "      <td>0.000000</td>\n",
       "      <td>9.000000</td>\n",
       "      <td>62.000000</td>\n",
       "      <td>0.000000</td>\n",
       "      <td>69.290000</td>\n",
       "      <td>0.000000</td>\n",
       "      <td>0.000000</td>\n",
       "      <td>2016-03-13 00:00:00</td>\n",
       "      <td>2.000000</td>\n",
       "    </tr>\n",
       "    <tr>\n",
       "      <th>50%</th>\n",
       "      <td>0.000000</td>\n",
       "      <td>69.000000</td>\n",
       "      <td>1.000000</td>\n",
       "      <td>2.000000</td>\n",
       "      <td>2.000000</td>\n",
       "      <td>0.000000</td>\n",
       "      <td>0.000000</td>\n",
       "      <td>0.000000</td>\n",
       "      <td>0.000000</td>\n",
       "      <td>0.000000</td>\n",
       "      <td>0.000000</td>\n",
       "      <td>14.000000</td>\n",
       "      <td>179.000000</td>\n",
       "      <td>0.000000</td>\n",
       "      <td>94.575000</td>\n",
       "      <td>0.000000</td>\n",
       "      <td>0.000000</td>\n",
       "      <td>2016-09-06 00:00:00</td>\n",
       "      <td>2.000000</td>\n",
       "    </tr>\n",
       "    <tr>\n",
       "      <th>75%</th>\n",
       "      <td>1.000000</td>\n",
       "      <td>160.000000</td>\n",
       "      <td>2.000000</td>\n",
       "      <td>3.000000</td>\n",
       "      <td>2.000000</td>\n",
       "      <td>0.000000</td>\n",
       "      <td>0.000000</td>\n",
       "      <td>0.000000</td>\n",
       "      <td>0.000000</td>\n",
       "      <td>0.000000</td>\n",
       "      <td>0.000000</td>\n",
       "      <td>229.000000</td>\n",
       "      <td>270.000000</td>\n",
       "      <td>0.000000</td>\n",
       "      <td>126.000000</td>\n",
       "      <td>0.000000</td>\n",
       "      <td>1.000000</td>\n",
       "      <td>2017-03-18 00:00:00</td>\n",
       "      <td>2.000000</td>\n",
       "    </tr>\n",
       "    <tr>\n",
       "      <th>max</th>\n",
       "      <td>1.000000</td>\n",
       "      <td>737.000000</td>\n",
       "      <td>19.000000</td>\n",
       "      <td>50.000000</td>\n",
       "      <td>55.000000</td>\n",
       "      <td>10.000000</td>\n",
       "      <td>10.000000</td>\n",
       "      <td>1.000000</td>\n",
       "      <td>26.000000</td>\n",
       "      <td>72.000000</td>\n",
       "      <td>21.000000</td>\n",
       "      <td>535.000000</td>\n",
       "      <td>543.000000</td>\n",
       "      <td>391.000000</td>\n",
       "      <td>5400.000000</td>\n",
       "      <td>8.000000</td>\n",
       "      <td>5.000000</td>\n",
       "      <td>2017-08-31 00:00:00</td>\n",
       "      <td>55.000000</td>\n",
       "    </tr>\n",
       "    <tr>\n",
       "      <th>std</th>\n",
       "      <td>0.482918</td>\n",
       "      <td>106.863097</td>\n",
       "      <td>0.998613</td>\n",
       "      <td>1.908286</td>\n",
       "      <td>0.579261</td>\n",
       "      <td>0.398561</td>\n",
       "      <td>0.097436</td>\n",
       "      <td>0.175767</td>\n",
       "      <td>0.844336</td>\n",
       "      <td>1.497437</td>\n",
       "      <td>0.652306</td>\n",
       "      <td>110.774548</td>\n",
       "      <td>131.655015</td>\n",
       "      <td>17.594721</td>\n",
       "      <td>50.535790</td>\n",
       "      <td>0.245291</td>\n",
       "      <td>0.792798</td>\n",
       "      <td>NaN</td>\n",
       "      <td>0.722400</td>\n",
       "    </tr>\n",
       "  </tbody>\n",
       "</table>\n",
       "</div>"
      ],
      "text/plain": [
       "         is_canceled      lead_time  stays_in_weekend_nights  \\\n",
       "count  119390.000000  119390.000000            119390.000000   \n",
       "mean        0.370416     104.011416                 0.927599   \n",
       "min         0.000000       0.000000                 0.000000   \n",
       "25%         0.000000      18.000000                 0.000000   \n",
       "50%         0.000000      69.000000                 1.000000   \n",
       "75%         1.000000     160.000000                 2.000000   \n",
       "max         1.000000     737.000000                19.000000   \n",
       "std         0.482918     106.863097                 0.998613   \n",
       "\n",
       "       stays_in_week_nights         adults       children         babies  \\\n",
       "count         119390.000000  119390.000000  119386.000000  119390.000000   \n",
       "mean               2.500302       1.856403       0.103890       0.007949   \n",
       "min                0.000000       0.000000       0.000000       0.000000   \n",
       "25%                1.000000       2.000000       0.000000       0.000000   \n",
       "50%                2.000000       2.000000       0.000000       0.000000   \n",
       "75%                3.000000       2.000000       0.000000       0.000000   \n",
       "max               50.000000      55.000000      10.000000      10.000000   \n",
       "std                1.908286       0.579261       0.398561       0.097436   \n",
       "\n",
       "       is_repeated_guest  previous_cancellations  \\\n",
       "count      119390.000000           119390.000000   \n",
       "mean            0.031912                0.087118   \n",
       "min             0.000000                0.000000   \n",
       "25%             0.000000                0.000000   \n",
       "50%             0.000000                0.000000   \n",
       "75%             0.000000                0.000000   \n",
       "max             1.000000               26.000000   \n",
       "std             0.175767                0.844336   \n",
       "\n",
       "       previous_bookings_not_canceled  booking_changes          agent  \\\n",
       "count                   119390.000000    119390.000000  103050.000000   \n",
       "mean                         0.137097         0.221124      86.693382   \n",
       "min                          0.000000         0.000000       1.000000   \n",
       "25%                          0.000000         0.000000       9.000000   \n",
       "50%                          0.000000         0.000000      14.000000   \n",
       "75%                          0.000000         0.000000     229.000000   \n",
       "max                         72.000000        21.000000     535.000000   \n",
       "std                          1.497437         0.652306     110.774548   \n",
       "\n",
       "           company  days_in_waiting_list            adr  \\\n",
       "count  6797.000000         119390.000000  119390.000000   \n",
       "mean    189.266735              2.321149     101.831122   \n",
       "min       6.000000              0.000000      -6.380000   \n",
       "25%      62.000000              0.000000      69.290000   \n",
       "50%     179.000000              0.000000      94.575000   \n",
       "75%     270.000000              0.000000     126.000000   \n",
       "max     543.000000            391.000000    5400.000000   \n",
       "std     131.655015             17.594721      50.535790   \n",
       "\n",
       "       required_car_parking_spaces  total_of_special_requests  \\\n",
       "count                119390.000000              119390.000000   \n",
       "mean                      0.062518                   0.571363   \n",
       "min                       0.000000                   0.000000   \n",
       "25%                       0.000000                   0.000000   \n",
       "50%                       0.000000                   0.000000   \n",
       "75%                       0.000000                   1.000000   \n",
       "max                       8.000000                   5.000000   \n",
       "std                       0.245291                   0.792798   \n",
       "\n",
       "                        arrival_date   total_guests  \n",
       "count                         119390  119386.000000  \n",
       "mean   2016-08-28 16:39:45.727447808       1.968229  \n",
       "min              2015-07-01 00:00:00       0.000000  \n",
       "25%              2016-03-13 00:00:00       2.000000  \n",
       "50%              2016-09-06 00:00:00       2.000000  \n",
       "75%              2017-03-18 00:00:00       2.000000  \n",
       "max              2017-08-31 00:00:00      55.000000  \n",
       "std                              NaN       0.722400  "
      ]
     },
     "metadata": {},
     "output_type": "display_data"
    },
    {
     "name": "stdout",
     "output_type": "stream",
     "text": [
      "\n",
      "데이터프레임 정보:\n",
      "<class 'pandas.core.frame.DataFrame'>\n",
      "RangeIndex: 119390 entries, 0 to 119389\n",
      "Data columns (total 35 columns):\n",
      " #   Column                          Non-Null Count   Dtype         \n",
      "---  ------                          --------------   -----         \n",
      " 0   hotel                           119390 non-null  object        \n",
      " 1   is_canceled                     119390 non-null  int64         \n",
      " 2   lead_time                       119390 non-null  int64         \n",
      " 3   stays_in_weekend_nights         119390 non-null  int64         \n",
      " 4   stays_in_week_nights            119390 non-null  int64         \n",
      " 5   adults                          119390 non-null  int64         \n",
      " 6   children                        119386 non-null  float64       \n",
      " 7   babies                          119390 non-null  int64         \n",
      " 8   meal                            119390 non-null  object        \n",
      " 9   country                         118902 non-null  object        \n",
      " 10  market_segment                  119390 non-null  object        \n",
      " 11  distribution_channel            119390 non-null  object        \n",
      " 12  is_repeated_guest               119390 non-null  int64         \n",
      " 13  previous_cancellations          119390 non-null  int64         \n",
      " 14  previous_bookings_not_canceled  119390 non-null  int64         \n",
      " 15  reserved_room_type              119390 non-null  object        \n",
      " 16  assigned_room_type              119390 non-null  object        \n",
      " 17  booking_changes                 119390 non-null  int64         \n",
      " 18  deposit_type                    119390 non-null  object        \n",
      " 19  agent                           103050 non-null  float64       \n",
      " 20  company                         6797 non-null    float64       \n",
      " 21  days_in_waiting_list            119390 non-null  int64         \n",
      " 22  customer_type                   119390 non-null  object        \n",
      " 23  adr                             119390 non-null  float64       \n",
      " 24  required_car_parking_spaces     119390 non-null  int64         \n",
      " 25  total_of_special_requests       119390 non-null  int64         \n",
      " 26  reservation_status              119390 non-null  object        \n",
      " 27  reservation_status_date         119390 non-null  object        \n",
      " 28  name                            119390 non-null  object        \n",
      " 29  email                           119390 non-null  object        \n",
      " 30  phone-number                    119390 non-null  object        \n",
      " 31  credit_card                     119390 non-null  object        \n",
      " 32  arrival_date                    119390 non-null  datetime64[ns]\n",
      " 33  total_guests                    119386 non-null  float64       \n",
      " 34  is_family                       119390 non-null  bool          \n",
      "dtypes: bool(1), datetime64[ns](1), float64(5), int64(13), object(15)\n",
      "memory usage: 31.1+ MB\n"
     ]
    }
   ],
   "source": [
    "# 데이터프레임의 기술 통계 확인 (숫자형 열)\n",
    "print(\"데이터프레임의 기술 통계:\")\n",
    "display(df.describe())\n",
    "\n",
    "# 데이터프레임의 정보 확인 (열 정보, 데이터 타입, 결측치 등)\n",
    "print(\"\\n데이터프레임 정보:\")\n",
    "df.info()"
   ]
  },
  {
   "cell_type": "markdown",
   "id": "e548aa72",
   "metadata": {},
   "source": [
    "## 2. Market Segment 분석\n",
    "\n",
    "이 섹션에서는 Market Segment 변수에 대한 탐색적 데이터 분석(EDA)을 수행합니다. Market Segment가 예약 특성에 미치는 영향을 분석합니다."
   ]
  },
  {
   "cell_type": "markdown",
   "id": "f5c5ec16",
   "metadata": {},
   "source": [
    "### 2.1 Market Segment 분포 확인"
   ]
  },
  {
   "cell_type": "code",
   "execution_count": null,
   "id": "1913ffe6",
   "metadata": {},
   "outputs": [
    {
     "name": "stdout",
     "output_type": "stream",
     "text": [
      "Market Segment 분포:\n"
     ]
    },
    {
     "data": {
      "text/plain": [
       "market_segment\n",
       "Online TA        56477\n",
       "Offline TA/TO    24219\n",
       "Groups           19811\n",
       "Direct           12606\n",
       "Corporate         5295\n",
       "Complementary      743\n",
       "Aviation           237\n",
       "Undefined            2\n",
       "Name: count, dtype: int64"
      ]
     },
     "metadata": {},
     "output_type": "display_data"
    },
    {
     "data": {
      "application/vnd.plotly.v1+json": {
       "config": {
        "plotlyServerURL": "https://plot.ly"
       },
       "data": [
        {
         "domain": {
          "x": [
           0,
           1
          ],
          "y": [
           0,
           1
          ]
         },
         "hovertemplate": "label=%{label}<br>value=%{value}<extra></extra>",
         "labels": [
          "Online TA",
          "Offline TA/TO",
          "Groups",
          "Direct",
          "Corporate",
          "Complementary",
          "Aviation",
          "Undefined"
         ],
         "legendgroup": "",
         "name": "",
         "showlegend": true,
         "textinfo": "percent+label",
         "textposition": "inside",
         "type": "pie",
         "values": {
          "bdata": "ndwAAJteAABjTQAAPjEAAK8UAADnAgAA7QAAAAIAAAA=",
          "dtype": "i4"
         }
        }
       ],
       "layout": {
        "legend": {
         "tracegroupgap": 0
        },
        "piecolorway": [
         "#636EFA",
         "#EF553B",
         "#00CC96",
         "#AB63FA",
         "#FFA15A",
         "#19D3F3",
         "#FF6692",
         "#B6E880",
         "#FF97FF",
         "#FECB52"
        ],
        "template": {
         "data": {
          "bar": [
           {
            "error_x": {
             "color": "#2a3f5f"
            },
            "error_y": {
             "color": "#2a3f5f"
            },
            "marker": {
             "line": {
              "color": "#E5ECF6",
              "width": 0.5
             },
             "pattern": {
              "fillmode": "overlay",
              "size": 10,
              "solidity": 0.2
             }
            },
            "type": "bar"
           }
          ],
          "barpolar": [
           {
            "marker": {
             "line": {
              "color": "#E5ECF6",
              "width": 0.5
             },
             "pattern": {
              "fillmode": "overlay",
              "size": 10,
              "solidity": 0.2
             }
            },
            "type": "barpolar"
           }
          ],
          "carpet": [
           {
            "aaxis": {
             "endlinecolor": "#2a3f5f",
             "gridcolor": "white",
             "linecolor": "white",
             "minorgridcolor": "white",
             "startlinecolor": "#2a3f5f"
            },
            "baxis": {
             "endlinecolor": "#2a3f5f",
             "gridcolor": "white",
             "linecolor": "white",
             "minorgridcolor": "white",
             "startlinecolor": "#2a3f5f"
            },
            "type": "carpet"
           }
          ],
          "choropleth": [
           {
            "colorbar": {
             "outlinewidth": 0,
             "ticks": ""
            },
            "type": "choropleth"
           }
          ],
          "contour": [
           {
            "colorbar": {
             "outlinewidth": 0,
             "ticks": ""
            },
            "colorscale": [
             [
              0,
              "#0d0887"
             ],
             [
              0.1111111111111111,
              "#46039f"
             ],
             [
              0.2222222222222222,
              "#7201a8"
             ],
             [
              0.3333333333333333,
              "#9c179e"
             ],
             [
              0.4444444444444444,
              "#bd3786"
             ],
             [
              0.5555555555555556,
              "#d8576b"
             ],
             [
              0.6666666666666666,
              "#ed7953"
             ],
             [
              0.7777777777777778,
              "#fb9f3a"
             ],
             [
              0.8888888888888888,
              "#fdca26"
             ],
             [
              1,
              "#f0f921"
             ]
            ],
            "type": "contour"
           }
          ],
          "contourcarpet": [
           {
            "colorbar": {
             "outlinewidth": 0,
             "ticks": ""
            },
            "type": "contourcarpet"
           }
          ],
          "heatmap": [
           {
            "colorbar": {
             "outlinewidth": 0,
             "ticks": ""
            },
            "colorscale": [
             [
              0,
              "#0d0887"
             ],
             [
              0.1111111111111111,
              "#46039f"
             ],
             [
              0.2222222222222222,
              "#7201a8"
             ],
             [
              0.3333333333333333,
              "#9c179e"
             ],
             [
              0.4444444444444444,
              "#bd3786"
             ],
             [
              0.5555555555555556,
              "#d8576b"
             ],
             [
              0.6666666666666666,
              "#ed7953"
             ],
             [
              0.7777777777777778,
              "#fb9f3a"
             ],
             [
              0.8888888888888888,
              "#fdca26"
             ],
             [
              1,
              "#f0f921"
             ]
            ],
            "type": "heatmap"
           }
          ],
          "histogram": [
           {
            "marker": {
             "pattern": {
              "fillmode": "overlay",
              "size": 10,
              "solidity": 0.2
             }
            },
            "type": "histogram"
           }
          ],
          "histogram2d": [
           {
            "colorbar": {
             "outlinewidth": 0,
             "ticks": ""
            },
            "colorscale": [
             [
              0,
              "#0d0887"
             ],
             [
              0.1111111111111111,
              "#46039f"
             ],
             [
              0.2222222222222222,
              "#7201a8"
             ],
             [
              0.3333333333333333,
              "#9c179e"
             ],
             [
              0.4444444444444444,
              "#bd3786"
             ],
             [
              0.5555555555555556,
              "#d8576b"
             ],
             [
              0.6666666666666666,
              "#ed7953"
             ],
             [
              0.7777777777777778,
              "#fb9f3a"
             ],
             [
              0.8888888888888888,
              "#fdca26"
             ],
             [
              1,
              "#f0f921"
             ]
            ],
            "type": "histogram2d"
           }
          ],
          "histogram2dcontour": [
           {
            "colorbar": {
             "outlinewidth": 0,
             "ticks": ""
            },
            "colorscale": [
             [
              0,
              "#0d0887"
             ],
             [
              0.1111111111111111,
              "#46039f"
             ],
             [
              0.2222222222222222,
              "#7201a8"
             ],
             [
              0.3333333333333333,
              "#9c179e"
             ],
             [
              0.4444444444444444,
              "#bd3786"
             ],
             [
              0.5555555555555556,
              "#d8576b"
             ],
             [
              0.6666666666666666,
              "#ed7953"
             ],
             [
              0.7777777777777778,
              "#fb9f3a"
             ],
             [
              0.8888888888888888,
              "#fdca26"
             ],
             [
              1,
              "#f0f921"
             ]
            ],
            "type": "histogram2dcontour"
           }
          ],
          "mesh3d": [
           {
            "colorbar": {
             "outlinewidth": 0,
             "ticks": ""
            },
            "type": "mesh3d"
           }
          ],
          "parcoords": [
           {
            "line": {
             "colorbar": {
              "outlinewidth": 0,
              "ticks": ""
             }
            },
            "type": "parcoords"
           }
          ],
          "pie": [
           {
            "automargin": true,
            "type": "pie"
           }
          ],
          "scatter": [
           {
            "fillpattern": {
             "fillmode": "overlay",
             "size": 10,
             "solidity": 0.2
            },
            "type": "scatter"
           }
          ],
          "scatter3d": [
           {
            "line": {
             "colorbar": {
              "outlinewidth": 0,
              "ticks": ""
             }
            },
            "marker": {
             "colorbar": {
              "outlinewidth": 0,
              "ticks": ""
             }
            },
            "type": "scatter3d"
           }
          ],
          "scattercarpet": [
           {
            "marker": {
             "colorbar": {
              "outlinewidth": 0,
              "ticks": ""
             }
            },
            "type": "scattercarpet"
           }
          ],
          "scattergeo": [
           {
            "marker": {
             "colorbar": {
              "outlinewidth": 0,
              "ticks": ""
             }
            },
            "type": "scattergeo"
           }
          ],
          "scattergl": [
           {
            "marker": {
             "colorbar": {
              "outlinewidth": 0,
              "ticks": ""
             }
            },
            "type": "scattergl"
           }
          ],
          "scattermap": [
           {
            "marker": {
             "colorbar": {
              "outlinewidth": 0,
              "ticks": ""
             }
            },
            "type": "scattermap"
           }
          ],
          "scattermapbox": [
           {
            "marker": {
             "colorbar": {
              "outlinewidth": 0,
              "ticks": ""
             }
            },
            "type": "scattermapbox"
           }
          ],
          "scatterpolar": [
           {
            "marker": {
             "colorbar": {
              "outlinewidth": 0,
              "ticks": ""
             }
            },
            "type": "scatterpolar"
           }
          ],
          "scatterpolargl": [
           {
            "marker": {
             "colorbar": {
              "outlinewidth": 0,
              "ticks": ""
             }
            },
            "type": "scatterpolargl"
           }
          ],
          "scatterternary": [
           {
            "marker": {
             "colorbar": {
              "outlinewidth": 0,
              "ticks": ""
             }
            },
            "type": "scatterternary"
           }
          ],
          "surface": [
           {
            "colorbar": {
             "outlinewidth": 0,
             "ticks": ""
            },
            "colorscale": [
             [
              0,
              "#0d0887"
             ],
             [
              0.1111111111111111,
              "#46039f"
             ],
             [
              0.2222222222222222,
              "#7201a8"
             ],
             [
              0.3333333333333333,
              "#9c179e"
             ],
             [
              0.4444444444444444,
              "#bd3786"
             ],
             [
              0.5555555555555556,
              "#d8576b"
             ],
             [
              0.6666666666666666,
              "#ed7953"
             ],
             [
              0.7777777777777778,
              "#fb9f3a"
             ],
             [
              0.8888888888888888,
              "#fdca26"
             ],
             [
              1,
              "#f0f921"
             ]
            ],
            "type": "surface"
           }
          ],
          "table": [
           {
            "cells": {
             "fill": {
              "color": "#EBF0F8"
             },
             "line": {
              "color": "white"
             }
            },
            "header": {
             "fill": {
              "color": "#C8D4E3"
             },
             "line": {
              "color": "white"
             }
            },
            "type": "table"
           }
          ]
         },
         "layout": {
          "annotationdefaults": {
           "arrowcolor": "#2a3f5f",
           "arrowhead": 0,
           "arrowwidth": 1
          },
          "autotypenumbers": "strict",
          "coloraxis": {
           "colorbar": {
            "outlinewidth": 0,
            "ticks": ""
           }
          },
          "colorscale": {
           "diverging": [
            [
             0,
             "#8e0152"
            ],
            [
             0.1,
             "#c51b7d"
            ],
            [
             0.2,
             "#de77ae"
            ],
            [
             0.3,
             "#f1b6da"
            ],
            [
             0.4,
             "#fde0ef"
            ],
            [
             0.5,
             "#f7f7f7"
            ],
            [
             0.6,
             "#e6f5d0"
            ],
            [
             0.7,
             "#b8e186"
            ],
            [
             0.8,
             "#7fbc41"
            ],
            [
             0.9,
             "#4d9221"
            ],
            [
             1,
             "#276419"
            ]
           ],
           "sequential": [
            [
             0,
             "#0d0887"
            ],
            [
             0.1111111111111111,
             "#46039f"
            ],
            [
             0.2222222222222222,
             "#7201a8"
            ],
            [
             0.3333333333333333,
             "#9c179e"
            ],
            [
             0.4444444444444444,
             "#bd3786"
            ],
            [
             0.5555555555555556,
             "#d8576b"
            ],
            [
             0.6666666666666666,
             "#ed7953"
            ],
            [
             0.7777777777777778,
             "#fb9f3a"
            ],
            [
             0.8888888888888888,
             "#fdca26"
            ],
            [
             1,
             "#f0f921"
            ]
           ],
           "sequentialminus": [
            [
             0,
             "#0d0887"
            ],
            [
             0.1111111111111111,
             "#46039f"
            ],
            [
             0.2222222222222222,
             "#7201a8"
            ],
            [
             0.3333333333333333,
             "#9c179e"
            ],
            [
             0.4444444444444444,
             "#bd3786"
            ],
            [
             0.5555555555555556,
             "#d8576b"
            ],
            [
             0.6666666666666666,
             "#ed7953"
            ],
            [
             0.7777777777777778,
             "#fb9f3a"
            ],
            [
             0.8888888888888888,
             "#fdca26"
            ],
            [
             1,
             "#f0f921"
            ]
           ]
          },
          "colorway": [
           "#636efa",
           "#EF553B",
           "#00cc96",
           "#ab63fa",
           "#FFA15A",
           "#19d3f3",
           "#FF6692",
           "#B6E880",
           "#FF97FF",
           "#FECB52"
          ],
          "font": {
           "color": "#2a3f5f"
          },
          "geo": {
           "bgcolor": "white",
           "lakecolor": "white",
           "landcolor": "#E5ECF6",
           "showlakes": true,
           "showland": true,
           "subunitcolor": "white"
          },
          "hoverlabel": {
           "align": "left"
          },
          "hovermode": "closest",
          "mapbox": {
           "style": "light"
          },
          "paper_bgcolor": "white",
          "plot_bgcolor": "#E5ECF6",
          "polar": {
           "angularaxis": {
            "gridcolor": "white",
            "linecolor": "white",
            "ticks": ""
           },
           "bgcolor": "#E5ECF6",
           "radialaxis": {
            "gridcolor": "white",
            "linecolor": "white",
            "ticks": ""
           }
          },
          "scene": {
           "xaxis": {
            "backgroundcolor": "#E5ECF6",
            "gridcolor": "white",
            "gridwidth": 2,
            "linecolor": "white",
            "showbackground": true,
            "ticks": "",
            "zerolinecolor": "white"
           },
           "yaxis": {
            "backgroundcolor": "#E5ECF6",
            "gridcolor": "white",
            "gridwidth": 2,
            "linecolor": "white",
            "showbackground": true,
            "ticks": "",
            "zerolinecolor": "white"
           },
           "zaxis": {
            "backgroundcolor": "#E5ECF6",
            "gridcolor": "white",
            "gridwidth": 2,
            "linecolor": "white",
            "showbackground": true,
            "ticks": "",
            "zerolinecolor": "white"
           }
          },
          "shapedefaults": {
           "line": {
            "color": "#2a3f5f"
           }
          },
          "ternary": {
           "aaxis": {
            "gridcolor": "white",
            "linecolor": "white",
            "ticks": ""
           },
           "baxis": {
            "gridcolor": "white",
            "linecolor": "white",
            "ticks": ""
           },
           "bgcolor": "#E5ECF6",
           "caxis": {
            "gridcolor": "white",
            "linecolor": "white",
            "ticks": ""
           }
          },
          "title": {
           "x": 0.05
          },
          "xaxis": {
           "automargin": true,
           "gridcolor": "white",
           "linecolor": "white",
           "ticks": "",
           "title": {
            "standoff": 15
           },
           "zerolinecolor": "white",
           "zerolinewidth": 2
          },
          "yaxis": {
           "automargin": true,
           "gridcolor": "white",
           "linecolor": "white",
           "ticks": "",
           "title": {
            "standoff": 15
           },
           "zerolinecolor": "white",
           "zerolinewidth": 2
          }
         }
        },
        "title": {
         "text": "Market Segment 분포"
        },
        "uniformtext": {
         "minsize": 12,
         "mode": "hide"
        }
       }
      }
     },
     "metadata": {},
     "output_type": "display_data"
    }
   ],
   "source": [
    "import plotly.express as px\n",
    "import pandas as pd\n",
    "\n",
    "# Market Segment 분포 확인\n",
    "market_segment_counts = df['market_segment'].value_counts()\n",
    "\n",
    "print(\"Market Segment 분포:\")\n",
    "display(market_segment_counts)\n",
    "\n",
    "# Market Segment 분포 시각화 (Plotly 파이 차트)\n",
    "fig = px.pie(names=market_segment_counts.index, values=market_segment_counts.values,\n",
    "             title='Market Segment 분포',\n",
    "             color_discrete_sequence=px.colors.qualitative.Plotly) # Plotly 기본 색상 스케일 사용\n",
    "fig.update_traces(textposition='inside', textinfo='percent+label') # 텍스트 위치 및 정보 설정\n",
    "fig.update_layout(uniformtext_minsize=12, uniformtext_mode='hide') # 텍스트 크기 설정\n",
    "fig.show()"
   ]
  },
  {
   "cell_type": "markdown",
   "id": "383d6db8",
   "metadata": {},
   "source": [
    "### 2.2 Market Segment와 취소 여부 (is canceled) 관계 분석\n"
   ]
  },
  {
   "cell_type": "markdown",
   "id": "bf6563b5",
   "metadata": {},
   "source": [
    "**Market Segment와 취소 여부 관계 분석 결과 요약:** Market Segment별 취소율을 분석한 결과 Groups 세그먼트의 취소율이 가장 높았고 Direct 세그먼트의 취소율이 가장 낮았습니다. Online TA 세그먼트도 비교적 높은 취소율을 보였습니다."
   ]
  },
  {
   "cell_type": "code",
   "execution_count": null,
   "id": "06354a1a",
   "metadata": {},
   "outputs": [
    {
     "name": "stdout",
     "output_type": "stream",
     "text": [
      "Market Segment별 예약 취소율:\n"
     ]
    },
    {
     "data": {
      "text/plain": [
       "market_segment\n",
       "Undefined        1.000000\n",
       "Groups           0.610620\n",
       "Online TA        0.367211\n",
       "Offline TA/TO    0.343160\n",
       "Aviation         0.219409\n",
       "Corporate        0.187347\n",
       "Direct           0.153419\n",
       "Complementary    0.130552\n",
       "Name: is_canceled, dtype: float64"
      ]
     },
     "metadata": {},
     "output_type": "display_data"
    },
    {
     "name": "stdout",
     "output_type": "stream",
     "text": [
      "\n",
      "전체 평균 예약 취소율: 37.04%\n"
     ]
    },
    {
     "data": {
      "application/vnd.plotly.v1+json": {
       "config": {
        "plotlyServerURL": "https://plot.ly"
       },
       "data": [
        {
         "hovertemplate": "color=Undefined<br>Market Segment=%{x}<br>예약 취소율=%{y}<br>text=%{text}<extra></extra>",
         "legendgroup": "Undefined",
         "marker": {
          "color": "#636EFA",
          "pattern": {
           "shape": ""
          }
         },
         "name": "Undefined",
         "orientation": "v",
         "showlegend": true,
         "text": [
          "100.00%"
         ],
         "textposition": "outside",
         "type": "bar",
         "x": [
          "Undefined"
         ],
         "xaxis": "x",
         "y": {
          "bdata": "AAAAAAAA8D8=",
          "dtype": "f8"
         },
         "yaxis": "y"
        },
        {
         "hovertemplate": "color=Groups<br>Market Segment=%{x}<br>예약 취소율=%{y}<br>text=%{text}<extra></extra>",
         "legendgroup": "Groups",
         "marker": {
          "color": "#EF553B",
          "pattern": {
           "shape": ""
          }
         },
         "name": "Groups",
         "orientation": "v",
         "showlegend": true,
         "text": [
          "61.06%"
         ],
         "textposition": "outside",
         "type": "bar",
         "x": [
          "Groups"
         ],
         "xaxis": "x",
         "y": {
          "bdata": "rV/ctjOK4z8=",
          "dtype": "f8"
         },
         "yaxis": "y"
        },
        {
         "hovertemplate": "color=Online TA<br>Market Segment=%{x}<br>예약 취소율=%{y}<br>text=%{text}<extra></extra>",
         "legendgroup": "Online TA",
         "marker": {
          "color": "#00CC96",
          "pattern": {
           "shape": ""
          }
         },
         "name": "Online TA",
         "orientation": "v",
         "showlegend": true,
         "text": [
          "36.72%"
         ],
         "textposition": "outside",
         "type": "bar",
         "x": [
          "Online TA"
         ],
         "xaxis": "x",
         "y": {
          "bdata": "Mb3uX2SA1z8=",
          "dtype": "f8"
         },
         "yaxis": "y"
        },
        {
         "hovertemplate": "color=Offline TA/TO<br>Market Segment=%{x}<br>예약 취소율=%{y}<br>text=%{text}<extra></extra>",
         "legendgroup": "Offline TA/TO",
         "marker": {
          "color": "#AB63FA",
          "pattern": {
           "shape": ""
          }
         },
         "name": "Offline TA/TO",
         "orientation": "v",
         "showlegend": true,
         "text": [
          "34.32%"
         ],
         "textposition": "outside",
         "type": "bar",
         "x": [
          "Offline TA/TO"
         ],
         "xaxis": "x",
         "y": {
          "bdata": "sFs6vVb21T8=",
          "dtype": "f8"
         },
         "yaxis": "y"
        },
        {
         "hovertemplate": "color=Aviation<br>Market Segment=%{x}<br>예약 취소율=%{y}<br>text=%{text}<extra></extra>",
         "legendgroup": "Aviation",
         "marker": {
          "color": "#FFA15A",
          "pattern": {
           "shape": ""
          }
         },
         "name": "Aviation",
         "orientation": "v",
         "showlegend": true,
         "text": [
          "21.94%"
         ],
         "textposition": "outside",
         "type": "bar",
         "x": [
          "Aviation"
         ],
         "xaxis": "x",
         "y": {
          "bdata": "gY3RdpoVzD8=",
          "dtype": "f8"
         },
         "yaxis": "y"
        },
        {
         "hovertemplate": "color=Corporate<br>Market Segment=%{x}<br>예약 취소율=%{y}<br>text=%{text}<extra></extra>",
         "legendgroup": "Corporate",
         "marker": {
          "color": "#19D3F3",
          "pattern": {
           "shape": ""
          }
         },
         "name": "Corporate",
         "orientation": "v",
         "showlegend": true,
         "text": [
          "18.73%"
         ],
         "textposition": "outside",
         "type": "bar",
         "x": [
          "Corporate"
         ],
         "xaxis": "x",
         "y": {
          "bdata": "xULVy/j6xz8=",
          "dtype": "f8"
         },
         "yaxis": "y"
        },
        {
         "hovertemplate": "color=Direct<br>Market Segment=%{x}<br>예약 취소율=%{y}<br>text=%{text}<extra></extra>",
         "legendgroup": "Direct",
         "marker": {
          "color": "#FF6692",
          "pattern": {
           "shape": ""
          }
         },
         "name": "Direct",
         "orientation": "v",
         "showlegend": true,
         "text": [
          "15.34%"
         ],
         "textposition": "outside",
         "type": "bar",
         "x": [
          "Direct"
         ],
         "xaxis": "x",
         "y": {
          "bdata": "EWZx6Dujwz8=",
          "dtype": "f8"
         },
         "yaxis": "y"
        },
        {
         "hovertemplate": "color=Complementary<br>Market Segment=%{x}<br>예약 취소율=%{y}<br>text=%{text}<extra></extra>",
         "legendgroup": "Complementary",
         "marker": {
          "color": "#B6E880",
          "pattern": {
           "shape": ""
          }
         },
         "name": "Complementary",
         "orientation": "v",
         "showlegend": true,
         "text": [
          "13.06%"
         ],
         "textposition": "outside",
         "type": "bar",
         "x": [
          "Complementary"
         ],
         "xaxis": "x",
         "y": {
          "bdata": "dXQiBOy1wD8=",
          "dtype": "f8"
         },
         "yaxis": "y"
        }
       ],
       "layout": {
        "annotations": [
         {
          "showarrow": false,
          "text": "전체 평균: 37.04%",
          "x": 1,
          "xanchor": "right",
          "xref": "x domain",
          "y": 0.37041628277075134,
          "yanchor": "top",
          "yref": "y"
         }
        ],
        "barmode": "relative",
        "legend": {
         "title": {
          "text": "color"
         },
         "tracegroupgap": 0
        },
        "shapes": [
         {
          "line": {
           "color": "red",
           "dash": "dash"
          },
          "type": "line",
          "x0": 0,
          "x1": 1,
          "xref": "x domain",
          "y0": 0.37041628277075134,
          "y1": 0.37041628277075134,
          "yref": "y"
         }
        ],
        "template": {
         "data": {
          "bar": [
           {
            "error_x": {
             "color": "#2a3f5f"
            },
            "error_y": {
             "color": "#2a3f5f"
            },
            "marker": {
             "line": {
              "color": "#E5ECF6",
              "width": 0.5
             },
             "pattern": {
              "fillmode": "overlay",
              "size": 10,
              "solidity": 0.2
             }
            },
            "type": "bar"
           }
          ],
          "barpolar": [
           {
            "marker": {
             "line": {
              "color": "#E5ECF6",
              "width": 0.5
             },
             "pattern": {
              "fillmode": "overlay",
              "size": 10,
              "solidity": 0.2
             }
            },
            "type": "barpolar"
           }
          ],
          "carpet": [
           {
            "aaxis": {
             "endlinecolor": "#2a3f5f",
             "gridcolor": "white",
             "linecolor": "white",
             "minorgridcolor": "white",
             "startlinecolor": "#2a3f5f"
            },
            "baxis": {
             "endlinecolor": "#2a3f5f",
             "gridcolor": "white",
             "linecolor": "white",
             "minorgridcolor": "white",
             "startlinecolor": "#2a3f5f"
            },
            "type": "carpet"
           }
          ],
          "choropleth": [
           {
            "colorbar": {
             "outlinewidth": 0,
             "ticks": ""
            },
            "type": "choropleth"
           }
          ],
          "contour": [
           {
            "colorbar": {
             "outlinewidth": 0,
             "ticks": ""
            },
            "colorscale": [
             [
              0,
              "#0d0887"
             ],
             [
              0.1111111111111111,
              "#46039f"
             ],
             [
              0.2222222222222222,
              "#7201a8"
             ],
             [
              0.3333333333333333,
              "#9c179e"
             ],
             [
              0.4444444444444444,
              "#bd3786"
             ],
             [
              0.5555555555555556,
              "#d8576b"
             ],
             [
              0.6666666666666666,
              "#ed7953"
             ],
             [
              0.7777777777777778,
              "#fb9f3a"
             ],
             [
              0.8888888888888888,
              "#fdca26"
             ],
             [
              1,
              "#f0f921"
             ]
            ],
            "type": "contour"
           }
          ],
          "contourcarpet": [
           {
            "colorbar": {
             "outlinewidth": 0,
             "ticks": ""
            },
            "type": "contourcarpet"
           }
          ],
          "heatmap": [
           {
            "colorbar": {
             "outlinewidth": 0,
             "ticks": ""
            },
            "colorscale": [
             [
              0,
              "#0d0887"
             ],
             [
              0.1111111111111111,
              "#46039f"
             ],
             [
              0.2222222222222222,
              "#7201a8"
             ],
             [
              0.3333333333333333,
              "#9c179e"
             ],
             [
              0.4444444444444444,
              "#bd3786"
             ],
             [
              0.5555555555555556,
              "#d8576b"
             ],
             [
              0.6666666666666666,
              "#ed7953"
             ],
             [
              0.7777777777777778,
              "#fb9f3a"
             ],
             [
              0.8888888888888888,
              "#fdca26"
             ],
             [
              1,
              "#f0f921"
             ]
            ],
            "type": "heatmap"
           }
          ],
          "histogram": [
           {
            "marker": {
             "pattern": {
              "fillmode": "overlay",
              "size": 10,
              "solidity": 0.2
             }
            },
            "type": "histogram"
           }
          ],
          "histogram2d": [
           {
            "colorbar": {
             "outlinewidth": 0,
             "ticks": ""
            },
            "colorscale": [
             [
              0,
              "#0d0887"
             ],
             [
              0.1111111111111111,
              "#46039f"
             ],
             [
              0.2222222222222222,
              "#7201a8"
             ],
             [
              0.3333333333333333,
              "#9c179e"
             ],
             [
              0.4444444444444444,
              "#bd3786"
             ],
             [
              0.5555555555555556,
              "#d8576b"
             ],
             [
              0.6666666666666666,
              "#ed7953"
             ],
             [
              0.7777777777777778,
              "#fb9f3a"
             ],
             [
              0.8888888888888888,
              "#fdca26"
             ],
             [
              1,
              "#f0f921"
             ]
            ],
            "type": "histogram2d"
           }
          ],
          "histogram2dcontour": [
           {
            "colorbar": {
             "outlinewidth": 0,
             "ticks": ""
            },
            "colorscale": [
             [
              0,
              "#0d0887"
             ],
             [
              0.1111111111111111,
              "#46039f"
             ],
             [
              0.2222222222222222,
              "#7201a8"
             ],
             [
              0.3333333333333333,
              "#9c179e"
             ],
             [
              0.4444444444444444,
              "#bd3786"
             ],
             [
              0.5555555555555556,
              "#d8576b"
             ],
             [
              0.6666666666666666,
              "#ed7953"
             ],
             [
              0.7777777777777778,
              "#fb9f3a"
             ],
             [
              0.8888888888888888,
              "#fdca26"
             ],
             [
              1,
              "#f0f921"
             ]
            ],
            "type": "histogram2dcontour"
           }
          ],
          "mesh3d": [
           {
            "colorbar": {
             "outlinewidth": 0,
             "ticks": ""
            },
            "type": "mesh3d"
           }
          ],
          "parcoords": [
           {
            "line": {
             "colorbar": {
              "outlinewidth": 0,
              "ticks": ""
             }
            },
            "type": "parcoords"
           }
          ],
          "pie": [
           {
            "automargin": true,
            "type": "pie"
           }
          ],
          "scatter": [
           {
            "fillpattern": {
             "fillmode": "overlay",
             "size": 10,
             "solidity": 0.2
            },
            "type": "scatter"
           }
          ],
          "scatter3d": [
           {
            "line": {
             "colorbar": {
              "outlinewidth": 0,
              "ticks": ""
             }
            },
            "marker": {
             "colorbar": {
              "outlinewidth": 0,
              "ticks": ""
             }
            },
            "type": "scatter3d"
           }
          ],
          "scattercarpet": [
           {
            "marker": {
             "colorbar": {
              "outlinewidth": 0,
              "ticks": ""
             }
            },
            "type": "scattercarpet"
           }
          ],
          "scattergeo": [
           {
            "marker": {
             "colorbar": {
              "outlinewidth": 0,
              "ticks": ""
             }
            },
            "type": "scattergeo"
           }
          ],
          "scattergl": [
           {
            "marker": {
             "colorbar": {
              "outlinewidth": 0,
              "ticks": ""
             }
            },
            "type": "scattergl"
           }
          ],
          "scattermap": [
           {
            "marker": {
             "colorbar": {
              "outlinewidth": 0,
              "ticks": ""
             }
            },
            "type": "scattermap"
           }
          ],
          "scattermapbox": [
           {
            "marker": {
             "colorbar": {
              "outlinewidth": 0,
              "ticks": ""
             }
            },
            "type": "scattermapbox"
           }
          ],
          "scatterpolar": [
           {
            "marker": {
             "colorbar": {
              "outlinewidth": 0,
              "ticks": ""
             }
            },
            "type": "scatterpolar"
           }
          ],
          "scatterpolargl": [
           {
            "marker": {
             "colorbar": {
              "outlinewidth": 0,
              "ticks": ""
             }
            },
            "type": "scatterpolargl"
           }
          ],
          "scatterternary": [
           {
            "marker": {
             "colorbar": {
              "outlinewidth": 0,
              "ticks": ""
             }
            },
            "type": "scatterternary"
           }
          ],
          "surface": [
           {
            "colorbar": {
             "outlinewidth": 0,
             "ticks": ""
            },
            "colorscale": [
             [
              0,
              "#0d0887"
             ],
             [
              0.1111111111111111,
              "#46039f"
             ],
             [
              0.2222222222222222,
              "#7201a8"
             ],
             [
              0.3333333333333333,
              "#9c179e"
             ],
             [
              0.4444444444444444,
              "#bd3786"
             ],
             [
              0.5555555555555556,
              "#d8576b"
             ],
             [
              0.6666666666666666,
              "#ed7953"
             ],
             [
              0.7777777777777778,
              "#fb9f3a"
             ],
             [
              0.8888888888888888,
              "#fdca26"
             ],
             [
              1,
              "#f0f921"
             ]
            ],
            "type": "surface"
           }
          ],
          "table": [
           {
            "cells": {
             "fill": {
              "color": "#EBF0F8"
             },
             "line": {
              "color": "white"
             }
            },
            "header": {
             "fill": {
              "color": "#C8D4E3"
             },
             "line": {
              "color": "white"
             }
            },
            "type": "table"
           }
          ]
         },
         "layout": {
          "annotationdefaults": {
           "arrowcolor": "#2a3f5f",
           "arrowhead": 0,
           "arrowwidth": 1
          },
          "autotypenumbers": "strict",
          "coloraxis": {
           "colorbar": {
            "outlinewidth": 0,
            "ticks": ""
           }
          },
          "colorscale": {
           "diverging": [
            [
             0,
             "#8e0152"
            ],
            [
             0.1,
             "#c51b7d"
            ],
            [
             0.2,
             "#de77ae"
            ],
            [
             0.3,
             "#f1b6da"
            ],
            [
             0.4,
             "#fde0ef"
            ],
            [
             0.5,
             "#f7f7f7"
            ],
            [
             0.6,
             "#e6f5d0"
            ],
            [
             0.7,
             "#b8e186"
            ],
            [
             0.8,
             "#7fbc41"
            ],
            [
             0.9,
             "#4d9221"
            ],
            [
             1,
             "#276419"
            ]
           ],
           "sequential": [
            [
             0,
             "#0d0887"
            ],
            [
             0.1111111111111111,
             "#46039f"
            ],
            [
             0.2222222222222222,
             "#7201a8"
            ],
            [
             0.3333333333333333,
             "#9c179e"
            ],
            [
             0.4444444444444444,
             "#bd3786"
            ],
            [
             0.5555555555555556,
             "#d8576b"
            ],
            [
             0.6666666666666666,
             "#ed7953"
            ],
            [
             0.7777777777777778,
             "#fb9f3a"
            ],
            [
             0.8888888888888888,
             "#fdca26"
            ],
            [
             1,
             "#f0f921"
            ]
           ],
           "sequentialminus": [
            [
             0,
             "#0d0887"
            ],
            [
             0.1111111111111111,
             "#46039f"
            ],
            [
             0.2222222222222222,
             "#7201a8"
            ],
            [
             0.3333333333333333,
             "#9c179e"
            ],
            [
             0.4444444444444444,
             "#bd3786"
            ],
            [
             0.5555555555555556,
             "#d8576b"
            ],
            [
             0.6666666666666666,
             "#ed7953"
            ],
            [
             0.7777777777777778,
             "#fb9f3a"
            ],
            [
             0.8888888888888888,
             "#fdca26"
            ],
            [
             1,
             "#f0f921"
            ]
           ]
          },
          "colorway": [
           "#636efa",
           "#EF553B",
           "#00cc96",
           "#ab63fa",
           "#FFA15A",
           "#19d3f3",
           "#FF6692",
           "#B6E880",
           "#FF97FF",
           "#FECB52"
          ],
          "font": {
           "color": "#2a3f5f"
          },
          "geo": {
           "bgcolor": "white",
           "lakecolor": "white",
           "landcolor": "#E5ECF6",
           "showlakes": true,
           "showland": true,
           "subunitcolor": "white"
          },
          "hoverlabel": {
           "align": "left"
          },
          "hovermode": "closest",
          "mapbox": {
           "style": "light"
          },
          "paper_bgcolor": "white",
          "plot_bgcolor": "#E5ECF6",
          "polar": {
           "angularaxis": {
            "gridcolor": "white",
            "linecolor": "white",
            "ticks": ""
           },
           "bgcolor": "#E5ECF6",
           "radialaxis": {
            "gridcolor": "white",
            "linecolor": "white",
            "ticks": ""
           }
          },
          "scene": {
           "xaxis": {
            "backgroundcolor": "#E5ECF6",
            "gridcolor": "white",
            "gridwidth": 2,
            "linecolor": "white",
            "showbackground": true,
            "ticks": "",
            "zerolinecolor": "white"
           },
           "yaxis": {
            "backgroundcolor": "#E5ECF6",
            "gridcolor": "white",
            "gridwidth": 2,
            "linecolor": "white",
            "showbackground": true,
            "ticks": "",
            "zerolinecolor": "white"
           },
           "zaxis": {
            "backgroundcolor": "#E5ECF6",
            "gridcolor": "white",
            "gridwidth": 2,
            "linecolor": "white",
            "showbackground": true,
            "ticks": "",
            "zerolinecolor": "white"
           }
          },
          "shapedefaults": {
           "line": {
            "color": "#2a3f5f"
           }
          },
          "ternary": {
           "aaxis": {
            "gridcolor": "white",
            "linecolor": "white",
            "ticks": ""
           },
           "baxis": {
            "gridcolor": "white",
            "linecolor": "white",
            "ticks": ""
           },
           "bgcolor": "#E5ECF6",
           "caxis": {
            "gridcolor": "white",
            "linecolor": "white",
            "ticks": ""
           }
          },
          "title": {
           "x": 0.05
          },
          "xaxis": {
           "automargin": true,
           "gridcolor": "white",
           "linecolor": "white",
           "ticks": "",
           "title": {
            "standoff": 15
           },
           "zerolinecolor": "white",
           "zerolinewidth": 2
          },
          "yaxis": {
           "automargin": true,
           "gridcolor": "white",
           "linecolor": "white",
           "ticks": "",
           "title": {
            "standoff": 15
           },
           "zerolinecolor": "white",
           "zerolinewidth": 2
          }
         }
        },
        "title": {
         "text": "Market Segment별 예약 취소율"
        },
        "xaxis": {
         "anchor": "y",
         "domain": [
          0,
          1
         ],
         "tickangle": -45,
         "title": {
          "text": "Market Segment"
         }
        },
        "yaxis": {
         "anchor": "x",
         "domain": [
          0,
          1
         ],
         "title": {
          "text": "예약 취소율"
         }
        }
       }
      }
     },
     "metadata": {},
     "output_type": "display_data"
    }
   ],
   "source": [
    "import plotly.express as px\n",
    "\n",
    "# Market Segment별 예약 취소율 계산\n",
    "# 'market_segment' 열을 기준으로 데이터프레임을 그룹화하고, 각 그룹의 'is_canceled' 열에 대한 평균을 계산합니다.\n",
    "# is_canceled가 0 또는 1이므로 평균은 취소율이 됩니다.\n",
    "cancellation_rate_by_segment = df.groupby('market_segment')['is_canceled'].mean().sort_values(ascending=False)\n",
    "\n",
    "print(\"Market Segment별 예약 취소율:\")\n",
    "display(cancellation_rate_by_segment)\n",
    "\n",
    "# 전체 평균 취소율 계산\n",
    "overall_avg_cancellation_rate = df['is_canceled'].mean()\n",
    "print(f\"\\n전체 평균 예약 취소율: {overall_avg_cancellation_rate:.2%}\")\n",
    "\n",
    "# Market Segment별 예약 취소율 시각화 (Plotly 막대 그래프)\n",
    "fig = px.bar(x=cancellation_rate_by_segment.index, y=cancellation_rate_by_segment.values,\n",
    "             title='Market Segment별 예약 취소율', # 그래프 제목 설정\n",
    "             labels={'x': 'Market Segment', 'y': '예약 취소율'}, # x, y축 레이블 설정\n",
    "             color=cancellation_rate_by_segment.index, # 각 막대에 다른 색상 적용\n",
    "             color_discrete_sequence=px.colors.qualitative.Plotly, # Plotly 기본 색상 스케일 사용\n",
    "             text=cancellation_rate_by_segment.apply(lambda x: f'{x:.2%}') # 막대 위에 텍스트로 취소율 표시 (백분율 형식)\n",
    "            )\n",
    "\n",
    "# 전체 평균 취소율 점선 추가\n",
    "fig.add_hline(y=overall_avg_cancellation_rate, line_dash=\"dash\", line_color=\"red\", annotation_text=f\"전체 평균: {overall_avg_cancellation_rate:.2%}\", annotation_position=\"bottom right\")\n",
    "\n",
    "\n",
    "fig.update_layout(xaxis_tickangle=-45) # x축 레이블 각도 조절\n",
    "fig.update_traces(textposition='outside') # 텍스트 위치를 막대 외부에 표시\n",
    "fig.show()"
   ]
  },
  {
   "cell_type": "markdown",
   "id": "cbe2cba7",
   "metadata": {},
   "source": [
    "### 2.3 Market Segment와 ADR (Average Daily Rate) 관계 분석"
   ]
  },
  {
   "cell_type": "markdown",
   "id": "035ba9a4",
   "metadata": {},
   "source": [
    "**Market Segment와 ADR 관계 분석 결과 요약:** Market Segment별 평균 ADR을 분석한 결과 Online TA와 Direct 세그먼트의 평균 ADR이 다른 세그먼트에 비해 높았습니다. Complementary 세그먼트는 평균 ADR이 매우 낮았습니다."
   ]
  },
  {
   "cell_type": "code",
   "execution_count": null,
   "id": "e458ca36",
   "metadata": {},
   "outputs": [
    {
     "name": "stdout",
     "output_type": "stream",
     "text": [
      "\n",
      "Market Segment별 평균 ADR:\n"
     ]
    },
    {
     "data": {
      "text/plain": [
       "market_segment\n",
       "Online TA        117.197063\n",
       "Direct           115.445175\n",
       "Aviation         100.142110\n",
       "Offline TA/TO     87.354783\n",
       "Groups            79.479472\n",
       "Corporate         69.358952\n",
       "Undefined         15.000000\n",
       "Complementary      2.886366\n",
       "Name: adr, dtype: float64"
      ]
     },
     "metadata": {},
     "output_type": "display_data"
    },
    {
     "name": "stdout",
     "output_type": "stream",
     "text": [
      "\n",
      "전체 평균 ADR: 101.83\n"
     ]
    },
    {
     "data": {
      "application/vnd.plotly.v1+json": {
       "config": {
        "plotlyServerURL": "https://plot.ly"
       },
       "data": [
        {
         "hovertemplate": "color=Online TA<br>Market Segment=%{x}<br>평균 ADR=%{y}<br>text=%{text}<extra></extra>",
         "legendgroup": "Online TA",
         "marker": {
          "color": "#636EFA",
          "pattern": {
           "shape": ""
          }
         },
         "name": "Online TA",
         "orientation": "v",
         "showlegend": true,
         "text": {
          "bdata": "zczMzMxMXUA=",
          "dtype": "f8"
         },
         "textposition": "outside",
         "type": "bar",
         "x": [
          "Online TA"
         ],
         "xaxis": "x",
         "y": {
          "bdata": "WAKbrZxMXUA=",
          "dtype": "f8"
         },
         "yaxis": "y"
        },
        {
         "hovertemplate": "color=Direct<br>Market Segment=%{x}<br>평균 ADR=%{y}<br>text=%{text}<extra></extra>",
         "legendgroup": "Direct",
         "marker": {
          "color": "#EF553B",
          "pattern": {
           "shape": ""
          }
         },
         "name": "Direct",
         "orientation": "v",
         "showlegend": true,
         "text": {
          "bdata": "zczMzMzcXEA=",
          "dtype": "f8"
         },
         "textposition": "outside",
         "type": "bar",
         "x": [
          "Direct"
         ],
         "xaxis": "x",
         "y": {
          "bdata": "0vKYwH3cXEA=",
          "dtype": "f8"
         },
         "yaxis": "y"
        },
        {
         "hovertemplate": "color=Aviation<br>Market Segment=%{x}<br>평균 ADR=%{y}<br>text=%{text}<extra></extra>",
         "legendgroup": "Aviation",
         "marker": {
          "color": "#00CC96",
          "pattern": {
           "shape": ""
          }
         },
         "name": "Aviation",
         "orientation": "v",
         "showlegend": true,
         "text": {
          "bdata": "KVyPwvUIWUA=",
          "dtype": "f8"
         },
         "textposition": "outside",
         "type": "bar",
         "x": [
          "Aviation"
         ],
         "xaxis": "x",
         "y": {
          "bdata": "P3hNUxgJWUA=",
          "dtype": "f8"
         },
         "yaxis": "y"
        },
        {
         "hovertemplate": "color=Offline TA/TO<br>Market Segment=%{x}<br>평균 ADR=%{y}<br>text=%{text}<extra></extra>",
         "legendgroup": "Offline TA/TO",
         "marker": {
          "color": "#AB63FA",
          "pattern": {
           "shape": ""
          }
         },
         "name": "Offline TA/TO",
         "orientation": "v",
         "showlegend": true,
         "text": {
          "bdata": "ZmZmZmbWVUA=",
          "dtype": "f8"
         },
         "textposition": "outside",
         "type": "bar",
         "x": [
          "Offline TA/TO"
         ],
         "xaxis": "x",
         "y": {
          "bdata": "ZWIdwrTWVUA=",
          "dtype": "f8"
         },
         "yaxis": "y"
        },
        {
         "hovertemplate": "color=Groups<br>Market Segment=%{x}<br>평균 ADR=%{y}<br>text=%{text}<extra></extra>",
         "legendgroup": "Groups",
         "marker": {
          "color": "#FFA15A",
          "pattern": {
           "shape": ""
          }
         },
         "name": "Groups",
         "orientation": "v",
         "showlegend": true,
         "text": {
          "bdata": "H4XrUbjeU0A=",
          "dtype": "f8"
         },
         "textposition": "outside",
         "type": "bar",
         "x": [
          "Groups"
         ],
         "xaxis": "x",
         "y": {
          "bdata": "Qhxfq6/eU0A=",
          "dtype": "f8"
         },
         "yaxis": "y"
        },
        {
         "hovertemplate": "color=Corporate<br>Market Segment=%{x}<br>평균 ADR=%{y}<br>text=%{text}<extra></extra>",
         "legendgroup": "Corporate",
         "marker": {
          "color": "#19D3F3",
          "pattern": {
           "shape": ""
          }
         },
         "name": "Corporate",
         "orientation": "v",
         "showlegend": true,
         "text": {
          "bdata": "16NwPQpXUUA=",
          "dtype": "f8"
         },
         "textposition": "outside",
         "type": "bar",
         "x": [
          "Corporate"
         ],
         "xaxis": "x",
         "y": {
          "bdata": "rN4kEflWUUA=",
          "dtype": "f8"
         },
         "yaxis": "y"
        },
        {
         "hovertemplate": "color=Undefined<br>Market Segment=%{x}<br>평균 ADR=%{y}<br>text=%{text}<extra></extra>",
         "legendgroup": "Undefined",
         "marker": {
          "color": "#FF6692",
          "pattern": {
           "shape": ""
          }
         },
         "name": "Undefined",
         "orientation": "v",
         "showlegend": true,
         "text": {
          "bdata": "AAAAAAAALkA=",
          "dtype": "f8"
         },
         "textposition": "outside",
         "type": "bar",
         "x": [
          "Undefined"
         ],
         "xaxis": "x",
         "y": {
          "bdata": "AAAAAAAALkA=",
          "dtype": "f8"
         },
         "yaxis": "y"
        },
        {
         "hovertemplate": "color=Complementary<br>Market Segment=%{x}<br>평균 ADR=%{y}<br>text=%{text}<extra></extra>",
         "legendgroup": "Complementary",
         "marker": {
          "color": "#B6E880",
          "pattern": {
           "shape": ""
          }
         },
         "name": "Complementary",
         "orientation": "v",
         "showlegend": true,
         "text": {
          "bdata": "H4XrUbgeB0A=",
          "dtype": "f8"
         },
         "textposition": "outside",
         "type": "bar",
         "x": [
          "Complementary"
         ],
         "xaxis": "x",
         "y": {
          "bdata": "uXTlGUcXB0A=",
          "dtype": "f8"
         },
         "yaxis": "y"
        }
       ],
       "layout": {
        "annotations": [
         {
          "showarrow": false,
          "text": "전체 평균: 101.83",
          "x": 1,
          "xanchor": "right",
          "xref": "x domain",
          "y": 101.83112153446687,
          "yanchor": "top",
          "yref": "y"
         }
        ],
        "barmode": "relative",
        "legend": {
         "title": {
          "text": "color"
         },
         "tracegroupgap": 0
        },
        "shapes": [
         {
          "line": {
           "color": "red",
           "dash": "dash"
          },
          "type": "line",
          "x0": 0,
          "x1": 1,
          "xref": "x domain",
          "y0": 101.83112153446687,
          "y1": 101.83112153446687,
          "yref": "y"
         }
        ],
        "template": {
         "data": {
          "bar": [
           {
            "error_x": {
             "color": "#2a3f5f"
            },
            "error_y": {
             "color": "#2a3f5f"
            },
            "marker": {
             "line": {
              "color": "#E5ECF6",
              "width": 0.5
             },
             "pattern": {
              "fillmode": "overlay",
              "size": 10,
              "solidity": 0.2
             }
            },
            "type": "bar"
           }
          ],
          "barpolar": [
           {
            "marker": {
             "line": {
              "color": "#E5ECF6",
              "width": 0.5
             },
             "pattern": {
              "fillmode": "overlay",
              "size": 10,
              "solidity": 0.2
             }
            },
            "type": "barpolar"
           }
          ],
          "carpet": [
           {
            "aaxis": {
             "endlinecolor": "#2a3f5f",
             "gridcolor": "white",
             "linecolor": "white",
             "minorgridcolor": "white",
             "startlinecolor": "#2a3f5f"
            },
            "baxis": {
             "endlinecolor": "#2a3f5f",
             "gridcolor": "white",
             "linecolor": "white",
             "minorgridcolor": "white",
             "startlinecolor": "#2a3f5f"
            },
            "type": "carpet"
           }
          ],
          "choropleth": [
           {
            "colorbar": {
             "outlinewidth": 0,
             "ticks": ""
            },
            "type": "choropleth"
           }
          ],
          "contour": [
           {
            "colorbar": {
             "outlinewidth": 0,
             "ticks": ""
            },
            "colorscale": [
             [
              0,
              "#0d0887"
             ],
             [
              0.1111111111111111,
              "#46039f"
             ],
             [
              0.2222222222222222,
              "#7201a8"
             ],
             [
              0.3333333333333333,
              "#9c179e"
             ],
             [
              0.4444444444444444,
              "#bd3786"
             ],
             [
              0.5555555555555556,
              "#d8576b"
             ],
             [
              0.6666666666666666,
              "#ed7953"
             ],
             [
              0.7777777777777778,
              "#fb9f3a"
             ],
             [
              0.8888888888888888,
              "#fdca26"
             ],
             [
              1,
              "#f0f921"
             ]
            ],
            "type": "contour"
           }
          ],
          "contourcarpet": [
           {
            "colorbar": {
             "outlinewidth": 0,
             "ticks": ""
            },
            "type": "contourcarpet"
           }
          ],
          "heatmap": [
           {
            "colorbar": {
             "outlinewidth": 0,
             "ticks": ""
            },
            "colorscale": [
             [
              0,
              "#0d0887"
             ],
             [
              0.1111111111111111,
              "#46039f"
             ],
             [
              0.2222222222222222,
              "#7201a8"
             ],
             [
              0.3333333333333333,
              "#9c179e"
             ],
             [
              0.4444444444444444,
              "#bd3786"
             ],
             [
              0.5555555555555556,
              "#d8576b"
             ],
             [
              0.6666666666666666,
              "#ed7953"
             ],
             [
              0.7777777777777778,
              "#fb9f3a"
             ],
             [
              0.8888888888888888,
              "#fdca26"
             ],
             [
              1,
              "#f0f921"
             ]
            ],
            "type": "heatmap"
           }
          ],
          "histogram": [
           {
            "marker": {
             "pattern": {
              "fillmode": "overlay",
              "size": 10,
              "solidity": 0.2
             }
            },
            "type": "histogram"
           }
          ],
          "histogram2d": [
           {
            "colorbar": {
             "outlinewidth": 0,
             "ticks": ""
            },
            "colorscale": [
             [
              0,
              "#0d0887"
             ],
             [
              0.1111111111111111,
              "#46039f"
             ],
             [
              0.2222222222222222,
              "#7201a8"
             ],
             [
              0.3333333333333333,
              "#9c179e"
             ],
             [
              0.4444444444444444,
              "#bd3786"
             ],
             [
              0.5555555555555556,
              "#d8576b"
             ],
             [
              0.6666666666666666,
              "#ed7953"
             ],
             [
              0.7777777777777778,
              "#fb9f3a"
             ],
             [
              0.8888888888888888,
              "#fdca26"
             ],
             [
              1,
              "#f0f921"
             ]
            ],
            "type": "histogram2d"
           }
          ],
          "histogram2dcontour": [
           {
            "colorbar": {
             "outlinewidth": 0,
             "ticks": ""
            },
            "colorscale": [
             [
              0,
              "#0d0887"
             ],
             [
              0.1111111111111111,
              "#46039f"
             ],
             [
              0.2222222222222222,
              "#7201a8"
             ],
             [
              0.3333333333333333,
              "#9c179e"
             ],
             [
              0.4444444444444444,
              "#bd3786"
             ],
             [
              0.5555555555555556,
              "#d8576b"
             ],
             [
              0.6666666666666666,
              "#ed7953"
             ],
             [
              0.7777777777777778,
              "#fb9f3a"
             ],
             [
              0.8888888888888888,
              "#fdca26"
             ],
             [
              1,
              "#f0f921"
             ]
            ],
            "type": "histogram2dcontour"
           }
          ],
          "mesh3d": [
           {
            "colorbar": {
             "outlinewidth": 0,
             "ticks": ""
            },
            "type": "mesh3d"
           }
          ],
          "parcoords": [
           {
            "line": {
             "colorbar": {
              "outlinewidth": 0,
              "ticks": ""
             }
            },
            "type": "parcoords"
           }
          ],
          "pie": [
           {
            "automargin": true,
            "type": "pie"
           }
          ],
          "scatter": [
           {
            "fillpattern": {
             "fillmode": "overlay",
             "size": 10,
             "solidity": 0.2
            },
            "type": "scatter"
           }
          ],
          "scatter3d": [
           {
            "line": {
             "colorbar": {
              "outlinewidth": 0,
              "ticks": ""
             }
            },
            "marker": {
             "colorbar": {
              "outlinewidth": 0,
              "ticks": ""
             }
            },
            "type": "scatter3d"
           }
          ],
          "scattercarpet": [
           {
            "marker": {
             "colorbar": {
              "outlinewidth": 0,
              "ticks": ""
             }
            },
            "type": "scattercarpet"
           }
          ],
          "scattergeo": [
           {
            "marker": {
             "colorbar": {
              "outlinewidth": 0,
              "ticks": ""
             }
            },
            "type": "scattergeo"
           }
          ],
          "scattergl": [
           {
            "marker": {
             "colorbar": {
              "outlinewidth": 0,
              "ticks": ""
             }
            },
            "type": "scattergl"
           }
          ],
          "scattermap": [
           {
            "marker": {
             "colorbar": {
              "outlinewidth": 0,
              "ticks": ""
             }
            },
            "type": "scattermap"
           }
          ],
          "scattermapbox": [
           {
            "marker": {
             "colorbar": {
              "outlinewidth": 0,
              "ticks": ""
             }
            },
            "type": "scattermapbox"
           }
          ],
          "scatterpolar": [
           {
            "marker": {
             "colorbar": {
              "outlinewidth": 0,
              "ticks": ""
             }
            },
            "type": "scatterpolar"
           }
          ],
          "scatterpolargl": [
           {
            "marker": {
             "colorbar": {
              "outlinewidth": 0,
              "ticks": ""
             }
            },
            "type": "scatterpolargl"
           }
          ],
          "scatterternary": [
           {
            "marker": {
             "colorbar": {
              "outlinewidth": 0,
              "ticks": ""
             }
            },
            "type": "scatterternary"
           }
          ],
          "surface": [
           {
            "colorbar": {
             "outlinewidth": 0,
             "ticks": ""
            },
            "colorscale": [
             [
              0,
              "#0d0887"
             ],
             [
              0.1111111111111111,
              "#46039f"
             ],
             [
              0.2222222222222222,
              "#7201a8"
             ],
             [
              0.3333333333333333,
              "#9c179e"
             ],
             [
              0.4444444444444444,
              "#bd3786"
             ],
             [
              0.5555555555555556,
              "#d8576b"
             ],
             [
              0.6666666666666666,
              "#ed7953"
             ],
             [
              0.7777777777777778,
              "#fb9f3a"
             ],
             [
              0.8888888888888888,
              "#fdca26"
             ],
             [
              1,
              "#f0f921"
             ]
            ],
            "type": "surface"
           }
          ],
          "table": [
           {
            "cells": {
             "fill": {
              "color": "#EBF0F8"
             },
             "line": {
              "color": "white"
             }
            },
            "header": {
             "fill": {
              "color": "#C8D4E3"
             },
             "line": {
              "color": "white"
             }
            },
            "type": "table"
           }
          ]
         },
         "layout": {
          "annotationdefaults": {
           "arrowcolor": "#2a3f5f",
           "arrowhead": 0,
           "arrowwidth": 1
          },
          "autotypenumbers": "strict",
          "coloraxis": {
           "colorbar": {
            "outlinewidth": 0,
            "ticks": ""
           }
          },
          "colorscale": {
           "diverging": [
            [
             0,
             "#8e0152"
            ],
            [
             0.1,
             "#c51b7d"
            ],
            [
             0.2,
             "#de77ae"
            ],
            [
             0.3,
             "#f1b6da"
            ],
            [
             0.4,
             "#fde0ef"
            ],
            [
             0.5,
             "#f7f7f7"
            ],
            [
             0.6,
             "#e6f5d0"
            ],
            [
             0.7,
             "#b8e186"
            ],
            [
             0.8,
             "#7fbc41"
            ],
            [
             0.9,
             "#4d9221"
            ],
            [
             1,
             "#276419"
            ]
           ],
           "sequential": [
            [
             0,
             "#0d0887"
            ],
            [
             0.1111111111111111,
             "#46039f"
            ],
            [
             0.2222222222222222,
             "#7201a8"
            ],
            [
             0.3333333333333333,
             "#9c179e"
            ],
            [
             0.4444444444444444,
             "#bd3786"
            ],
            [
             0.5555555555555556,
             "#d8576b"
            ],
            [
             0.6666666666666666,
             "#ed7953"
            ],
            [
             0.7777777777777778,
             "#fb9f3a"
            ],
            [
             0.8888888888888888,
             "#fdca26"
            ],
            [
             1,
             "#f0f921"
            ]
           ],
           "sequentialminus": [
            [
             0,
             "#0d0887"
            ],
            [
             0.1111111111111111,
             "#46039f"
            ],
            [
             0.2222222222222222,
             "#7201a8"
            ],
            [
             0.3333333333333333,
             "#9c179e"
            ],
            [
             0.4444444444444444,
             "#bd3786"
            ],
            [
             0.5555555555555556,
             "#d8576b"
            ],
            [
             0.6666666666666666,
             "#ed7953"
            ],
            [
             0.7777777777777778,
             "#fb9f3a"
            ],
            [
             0.8888888888888888,
             "#fdca26"
            ],
            [
             1,
             "#f0f921"
            ]
           ]
          },
          "colorway": [
           "#636efa",
           "#EF553B",
           "#00cc96",
           "#ab63fa",
           "#FFA15A",
           "#19d3f3",
           "#FF6692",
           "#B6E880",
           "#FF97FF",
           "#FECB52"
          ],
          "font": {
           "color": "#2a3f5f"
          },
          "geo": {
           "bgcolor": "white",
           "lakecolor": "white",
           "landcolor": "#E5ECF6",
           "showlakes": true,
           "showland": true,
           "subunitcolor": "white"
          },
          "hoverlabel": {
           "align": "left"
          },
          "hovermode": "closest",
          "mapbox": {
           "style": "light"
          },
          "paper_bgcolor": "white",
          "plot_bgcolor": "#E5ECF6",
          "polar": {
           "angularaxis": {
            "gridcolor": "white",
            "linecolor": "white",
            "ticks": ""
           },
           "bgcolor": "#E5ECF6",
           "radialaxis": {
            "gridcolor": "white",
            "linecolor": "white",
            "ticks": ""
           }
          },
          "scene": {
           "xaxis": {
            "backgroundcolor": "#E5ECF6",
            "gridcolor": "white",
            "gridwidth": 2,
            "linecolor": "white",
            "showbackground": true,
            "ticks": "",
            "zerolinecolor": "white"
           },
           "yaxis": {
            "backgroundcolor": "#E5ECF6",
            "gridcolor": "white",
            "gridwidth": 2,
            "linecolor": "white",
            "showbackground": true,
            "ticks": "",
            "zerolinecolor": "white"
           },
           "zaxis": {
            "backgroundcolor": "#E5ECF6",
            "gridcolor": "white",
            "gridwidth": 2,
            "linecolor": "white",
            "showbackground": true,
            "ticks": "",
            "zerolinecolor": "white"
           }
          },
          "shapedefaults": {
           "line": {
            "color": "#2a3f5f"
           }
          },
          "ternary": {
           "aaxis": {
            "gridcolor": "white",
            "linecolor": "white",
            "ticks": ""
           },
           "baxis": {
            "gridcolor": "white",
            "linecolor": "white",
            "ticks": ""
           },
           "bgcolor": "#E5ECF6",
           "caxis": {
            "gridcolor": "white",
            "linecolor": "white",
            "ticks": ""
           }
          },
          "title": {
           "x": 0.05
          },
          "xaxis": {
           "automargin": true,
           "gridcolor": "white",
           "linecolor": "white",
           "ticks": "",
           "title": {
            "standoff": 15
           },
           "zerolinecolor": "white",
           "zerolinewidth": 2
          },
          "yaxis": {
           "automargin": true,
           "gridcolor": "white",
           "linecolor": "white",
           "ticks": "",
           "title": {
            "standoff": 15
           },
           "zerolinecolor": "white",
           "zerolinewidth": 2
          }
         }
        },
        "title": {
         "text": "Market Segment별 평균 ADR"
        },
        "xaxis": {
         "anchor": "y",
         "domain": [
          0,
          1
         ],
         "tickangle": -45,
         "title": {
          "text": "Market Segment"
         }
        },
        "yaxis": {
         "anchor": "x",
         "domain": [
          0,
          1
         ],
         "title": {
          "text": "평균 ADR"
         }
        }
       }
      }
     },
     "metadata": {},
     "output_type": "display_data"
    }
   ],
   "source": [
    "import plotly.express as px\n",
    "\n",
    "# Market Segment별 평균 ADR 계산\n",
    "adr_by_segment = df.groupby('market_segment')['adr'].mean().sort_values(ascending=False)\n",
    "\n",
    "print(\"\\nMarket Segment별 평균 ADR:\")\n",
    "display(adr_by_segment)\n",
    "\n",
    "# 전체 평균 ADR 계산\n",
    "overall_avg_adr = df['adr'].mean()\n",
    "print(f\"\\n전체 평균 ADR: {overall_avg_adr:.2f}\")\n",
    "\n",
    "# Market Segment별 평균 ADR 시각화 (Plotly 막대 그래프)\n",
    "fig = px.bar(x=adr_by_segment.index, y=adr_by_segment.values,\n",
    "             title='Market Segment별 평균 ADR',\n",
    "             labels={'x': 'Market Segment', 'y': '평균 ADR'},\n",
    "             color=adr_by_segment.index, # 각 막대에 다른 색상 적용\n",
    "             color_discrete_sequence=px.colors.qualitative.Plotly,\n",
    "             text=adr_by_segment.values.round(2)) # 막대 위에 텍스트로 평균 ADR 표시 (소수점 둘째 자리까지)\n",
    "\n",
    "# 전체 평균 ADR 점선 추가\n",
    "fig.add_hline(y=overall_avg_adr, line_dash=\"dash\", line_color=\"red\", annotation_text=f\"전체 평균: {overall_avg_adr:.2f}\", annotation_position=\"bottom right\")\n",
    "\n",
    "fig.update_layout(xaxis_tickangle=-45) # x축 레이블 각도 조절\n",
    "fig.update_traces(textposition='outside') # 텍스트 위치를 막대 외부에 표시\n",
    "fig.show()"
   ]
  },
  {
   "cell_type": "markdown",
   "id": "4cdf2978",
   "metadata": {},
   "source": [
    "### 2.4 Market Segment와 총 숙박일수 (total stay) 관계 분석"
   ]
  },
  {
   "cell_type": "markdown",
   "id": "abf1e301",
   "metadata": {},
   "source": [
    "**Market Segment와 총 숙박일수 관계 분석 결과 요약:** Market Segment별 평균 총 숙박일수를 분석한 결과 Offline TA/TO 세그먼트의 평균 숙박일수가 가장 길었습니다. Corporate 및 Complementary 세그먼트의 평균 숙박일수가 짧은 편이었습니다."
   ]
  },
  {
   "cell_type": "code",
   "execution_count": null,
   "id": "bde3d174",
   "metadata": {},
   "outputs": [
    {
     "name": "stdout",
     "output_type": "stream",
     "text": [
      "\n",
      "Market Segment별 평균 총 숙박일수:\n"
     ]
    },
    {
     "data": {
      "text/plain": [
       "market_segment\n",
       "Offline TA/TO    3.903877\n",
       "Aviation         3.607595\n",
       "Online TA        3.573986\n",
       "Direct           3.205775\n",
       "Groups           2.992529\n",
       "Corporate        2.092918\n",
       "Complementary    1.647376\n",
       "Undefined        1.500000\n",
       "Name: total_stay, dtype: float64"
      ]
     },
     "metadata": {},
     "output_type": "display_data"
    },
    {
     "name": "stdout",
     "output_type": "stream",
     "text": [
      "\n",
      "전체 평균 총 숙박일수: 3.43\n"
     ]
    },
    {
     "data": {
      "application/vnd.plotly.v1+json": {
       "config": {
        "plotlyServerURL": "https://plot.ly"
       },
       "data": [
        {
         "hovertemplate": "color=Offline TA/TO<br>Market Segment=%{x}<br>평균 총 숙박일수=%{y}<br>text=%{text}<extra></extra>",
         "legendgroup": "Offline TA/TO",
         "marker": {
          "color": "#636EFA",
          "pattern": {
           "shape": ""
          }
         },
         "name": "Offline TA/TO",
         "orientation": "v",
         "showlegend": true,
         "text": {
          "bdata": "MzMzMzMzD0A=",
          "dtype": "f8"
         },
         "textposition": "outside",
         "type": "bar",
         "x": [
          "Offline TA/TO"
         ],
         "xaxis": "x",
         "y": {
          "bdata": "p5qb7SM7D0A=",
          "dtype": "f8"
         },
         "yaxis": "y"
        },
        {
         "hovertemplate": "color=Aviation<br>Market Segment=%{x}<br>평균 총 숙박일수=%{y}<br>text=%{text}<extra></extra>",
         "legendgroup": "Aviation",
         "marker": {
          "color": "#EF553B",
          "pattern": {
           "shape": ""
          }
         },
         "name": "Aviation",
         "orientation": "v",
         "showlegend": true,
         "text": {
          "bdata": "4XoUrkfhDEA=",
          "dtype": "f8"
         },
         "textposition": "outside",
         "type": "bar",
         "x": [
          "Aviation"
         ],
         "xaxis": "x",
         "y": {
          "bdata": "uQnzu1rcDEA=",
          "dtype": "f8"
         },
         "yaxis": "y"
        },
        {
         "hovertemplate": "color=Online TA<br>Market Segment=%{x}<br>평균 총 숙박일수=%{y}<br>text=%{text}<extra></extra>",
         "legendgroup": "Online TA",
         "marker": {
          "color": "#00CC96",
          "pattern": {
           "shape": ""
          }
         },
         "name": "Online TA",
         "orientation": "v",
         "showlegend": true,
         "text": {
          "bdata": "j8L1KFyPDEA=",
          "dtype": "f8"
         },
         "textposition": "outside",
         "type": "bar",
         "x": [
          "Online TA"
         ],
         "xaxis": "x",
         "y": {
          "bdata": "ek1s54WXDEA=",
          "dtype": "f8"
         },
         "yaxis": "y"
        },
        {
         "hovertemplate": "color=Direct<br>Market Segment=%{x}<br>평균 총 숙박일수=%{y}<br>text=%{text}<extra></extra>",
         "legendgroup": "Direct",
         "marker": {
          "color": "#AB63FA",
          "pattern": {
           "shape": ""
          }
         },
         "name": "Direct",
         "orientation": "v",
         "showlegend": true,
         "text": {
          "bdata": "rkfhehSuCUA=",
          "dtype": "f8"
         },
         "textposition": "outside",
         "type": "bar",
         "x": [
          "Direct"
         ],
         "xaxis": "x",
         "y": {
          "bdata": "eai0YG2lCUA=",
          "dtype": "f8"
         },
         "yaxis": "y"
        },
        {
         "hovertemplate": "color=Groups<br>Market Segment=%{x}<br>평균 총 숙박일수=%{y}<br>text=%{text}<extra></extra>",
         "legendgroup": "Groups",
         "marker": {
          "color": "#FFA15A",
          "pattern": {
           "shape": ""
          }
         },
         "name": "Groups",
         "orientation": "v",
         "showlegend": true,
         "text": {
          "bdata": "7FG4HoXrB0A=",
          "dtype": "f8"
         },
         "textposition": "outside",
         "type": "bar",
         "x": [
          "Groups"
         ],
         "xaxis": "x",
         "y": {
          "bdata": "uLZsQbPwB0A=",
          "dtype": "f8"
         },
         "yaxis": "y"
        },
        {
         "hovertemplate": "color=Corporate<br>Market Segment=%{x}<br>평균 총 숙박일수=%{y}<br>text=%{text}<extra></extra>",
         "legendgroup": "Corporate",
         "marker": {
          "color": "#19D3F3",
          "pattern": {
           "shape": ""
          }
         },
         "name": "Corporate",
         "orientation": "v",
         "showlegend": true,
         "text": {
          "bdata": "uB6F61G4AEA=",
          "dtype": "f8"
         },
         "textposition": "outside",
         "type": "bar",
         "x": [
          "Corporate"
         ],
         "xaxis": "x",
         "y": {
          "bdata": "joNRtku+AEA=",
          "dtype": "f8"
         },
         "yaxis": "y"
        },
        {
         "hovertemplate": "color=Complementary<br>Market Segment=%{x}<br>평균 총 숙박일수=%{y}<br>text=%{text}<extra></extra>",
         "legendgroup": "Complementary",
         "marker": {
          "color": "#FF6692",
          "pattern": {
           "shape": ""
          }
         },
         "name": "Complementary",
         "orientation": "v",
         "showlegend": true,
         "text": {
          "bdata": "ZmZmZmZm+j8=",
          "dtype": "f8"
         },
         "textposition": "outside",
         "type": "bar",
         "x": [
          "Complementary"
         ],
         "xaxis": "x",
         "y": {
          "bdata": "KGvPaqZb+j8=",
          "dtype": "f8"
         },
         "yaxis": "y"
        },
        {
         "hovertemplate": "color=Undefined<br>Market Segment=%{x}<br>평균 총 숙박일수=%{y}<br>text=%{text}<extra></extra>",
         "legendgroup": "Undefined",
         "marker": {
          "color": "#B6E880",
          "pattern": {
           "shape": ""
          }
         },
         "name": "Undefined",
         "orientation": "v",
         "showlegend": true,
         "text": {
          "bdata": "AAAAAAAA+D8=",
          "dtype": "f8"
         },
         "textposition": "outside",
         "type": "bar",
         "x": [
          "Undefined"
         ],
         "xaxis": "x",
         "y": {
          "bdata": "AAAAAAAA+D8=",
          "dtype": "f8"
         },
         "yaxis": "y"
        }
       ],
       "layout": {
        "annotations": [
         {
          "showarrow": false,
          "text": "전체 평균: 3.43",
          "x": 1,
          "xanchor": "right",
          "xref": "x domain",
          "y": 3.4279001591423066,
          "yanchor": "top",
          "yref": "y"
         }
        ],
        "barmode": "relative",
        "legend": {
         "title": {
          "text": "color"
         },
         "tracegroupgap": 0
        },
        "shapes": [
         {
          "line": {
           "color": "red",
           "dash": "dash"
          },
          "type": "line",
          "x0": 0,
          "x1": 1,
          "xref": "x domain",
          "y0": 3.4279001591423066,
          "y1": 3.4279001591423066,
          "yref": "y"
         }
        ],
        "template": {
         "data": {
          "bar": [
           {
            "error_x": {
             "color": "#2a3f5f"
            },
            "error_y": {
             "color": "#2a3f5f"
            },
            "marker": {
             "line": {
              "color": "#E5ECF6",
              "width": 0.5
             },
             "pattern": {
              "fillmode": "overlay",
              "size": 10,
              "solidity": 0.2
             }
            },
            "type": "bar"
           }
          ],
          "barpolar": [
           {
            "marker": {
             "line": {
              "color": "#E5ECF6",
              "width": 0.5
             },
             "pattern": {
              "fillmode": "overlay",
              "size": 10,
              "solidity": 0.2
             }
            },
            "type": "barpolar"
           }
          ],
          "carpet": [
           {
            "aaxis": {
             "endlinecolor": "#2a3f5f",
             "gridcolor": "white",
             "linecolor": "white",
             "minorgridcolor": "white",
             "startlinecolor": "#2a3f5f"
            },
            "baxis": {
             "endlinecolor": "#2a3f5f",
             "gridcolor": "white",
             "linecolor": "white",
             "minorgridcolor": "white",
             "startlinecolor": "#2a3f5f"
            },
            "type": "carpet"
           }
          ],
          "choropleth": [
           {
            "colorbar": {
             "outlinewidth": 0,
             "ticks": ""
            },
            "type": "choropleth"
           }
          ],
          "contour": [
           {
            "colorbar": {
             "outlinewidth": 0,
             "ticks": ""
            },
            "colorscale": [
             [
              0,
              "#0d0887"
             ],
             [
              0.1111111111111111,
              "#46039f"
             ],
             [
              0.2222222222222222,
              "#7201a8"
             ],
             [
              0.3333333333333333,
              "#9c179e"
             ],
             [
              0.4444444444444444,
              "#bd3786"
             ],
             [
              0.5555555555555556,
              "#d8576b"
             ],
             [
              0.6666666666666666,
              "#ed7953"
             ],
             [
              0.7777777777777778,
              "#fb9f3a"
             ],
             [
              0.8888888888888888,
              "#fdca26"
             ],
             [
              1,
              "#f0f921"
             ]
            ],
            "type": "contour"
           }
          ],
          "contourcarpet": [
           {
            "colorbar": {
             "outlinewidth": 0,
             "ticks": ""
            },
            "type": "contourcarpet"
           }
          ],
          "heatmap": [
           {
            "colorbar": {
             "outlinewidth": 0,
             "ticks": ""
            },
            "colorscale": [
             [
              0,
              "#0d0887"
             ],
             [
              0.1111111111111111,
              "#46039f"
             ],
             [
              0.2222222222222222,
              "#7201a8"
             ],
             [
              0.3333333333333333,
              "#9c179e"
             ],
             [
              0.4444444444444444,
              "#bd3786"
             ],
             [
              0.5555555555555556,
              "#d8576b"
             ],
             [
              0.6666666666666666,
              "#ed7953"
             ],
             [
              0.7777777777777778,
              "#fb9f3a"
             ],
             [
              0.8888888888888888,
              "#fdca26"
             ],
             [
              1,
              "#f0f921"
             ]
            ],
            "type": "heatmap"
           }
          ],
          "histogram": [
           {
            "marker": {
             "pattern": {
              "fillmode": "overlay",
              "size": 10,
              "solidity": 0.2
             }
            },
            "type": "histogram"
           }
          ],
          "histogram2d": [
           {
            "colorbar": {
             "outlinewidth": 0,
             "ticks": ""
            },
            "colorscale": [
             [
              0,
              "#0d0887"
             ],
             [
              0.1111111111111111,
              "#46039f"
             ],
             [
              0.2222222222222222,
              "#7201a8"
             ],
             [
              0.3333333333333333,
              "#9c179e"
             ],
             [
              0.4444444444444444,
              "#bd3786"
             ],
             [
              0.5555555555555556,
              "#d8576b"
             ],
             [
              0.6666666666666666,
              "#ed7953"
             ],
             [
              0.7777777777777778,
              "#fb9f3a"
             ],
             [
              0.8888888888888888,
              "#fdca26"
             ],
             [
              1,
              "#f0f921"
             ]
            ],
            "type": "histogram2d"
           }
          ],
          "histogram2dcontour": [
           {
            "colorbar": {
             "outlinewidth": 0,
             "ticks": ""
            },
            "colorscale": [
             [
              0,
              "#0d0887"
             ],
             [
              0.1111111111111111,
              "#46039f"
             ],
             [
              0.2222222222222222,
              "#7201a8"
             ],
             [
              0.3333333333333333,
              "#9c179e"
             ],
             [
              0.4444444444444444,
              "#bd3786"
             ],
             [
              0.5555555555555556,
              "#d8576b"
             ],
             [
              0.6666666666666666,
              "#ed7953"
             ],
             [
              0.7777777777777778,
              "#fb9f3a"
             ],
             [
              0.8888888888888888,
              "#fdca26"
             ],
             [
              1,
              "#f0f921"
             ]
            ],
            "type": "histogram2dcontour"
           }
          ],
          "mesh3d": [
           {
            "colorbar": {
             "outlinewidth": 0,
             "ticks": ""
            },
            "type": "mesh3d"
           }
          ],
          "parcoords": [
           {
            "line": {
             "colorbar": {
              "outlinewidth": 0,
              "ticks": ""
             }
            },
            "type": "parcoords"
           }
          ],
          "pie": [
           {
            "automargin": true,
            "type": "pie"
           }
          ],
          "scatter": [
           {
            "fillpattern": {
             "fillmode": "overlay",
             "size": 10,
             "solidity": 0.2
            },
            "type": "scatter"
           }
          ],
          "scatter3d": [
           {
            "line": {
             "colorbar": {
              "outlinewidth": 0,
              "ticks": ""
             }
            },
            "marker": {
             "colorbar": {
              "outlinewidth": 0,
              "ticks": ""
             }
            },
            "type": "scatter3d"
           }
          ],
          "scattercarpet": [
           {
            "marker": {
             "colorbar": {
              "outlinewidth": 0,
              "ticks": ""
             }
            },
            "type": "scattercarpet"
           }
          ],
          "scattergeo": [
           {
            "marker": {
             "colorbar": {
              "outlinewidth": 0,
              "ticks": ""
             }
            },
            "type": "scattergeo"
           }
          ],
          "scattergl": [
           {
            "marker": {
             "colorbar": {
              "outlinewidth": 0,
              "ticks": ""
             }
            },
            "type": "scattergl"
           }
          ],
          "scattermap": [
           {
            "marker": {
             "colorbar": {
              "outlinewidth": 0,
              "ticks": ""
             }
            },
            "type": "scattermap"
           }
          ],
          "scattermapbox": [
           {
            "marker": {
             "colorbar": {
              "outlinewidth": 0,
              "ticks": ""
             }
            },
            "type": "scattermapbox"
           }
          ],
          "scatterpolar": [
           {
            "marker": {
             "colorbar": {
              "outlinewidth": 0,
              "ticks": ""
             }
            },
            "type": "scatterpolar"
           }
          ],
          "scatterpolargl": [
           {
            "marker": {
             "colorbar": {
              "outlinewidth": 0,
              "ticks": ""
             }
            },
            "type": "scatterpolargl"
           }
          ],
          "scatterternary": [
           {
            "marker": {
             "colorbar": {
              "outlinewidth": 0,
              "ticks": ""
             }
            },
            "type": "scatterternary"
           }
          ],
          "surface": [
           {
            "colorbar": {
             "outlinewidth": 0,
             "ticks": ""
            },
            "colorscale": [
             [
              0,
              "#0d0887"
             ],
             [
              0.1111111111111111,
              "#46039f"
             ],
             [
              0.2222222222222222,
              "#7201a8"
             ],
             [
              0.3333333333333333,
              "#9c179e"
             ],
             [
              0.4444444444444444,
              "#bd3786"
             ],
             [
              0.5555555555555556,
              "#d8576b"
             ],
             [
              0.6666666666666666,
              "#ed7953"
             ],
             [
              0.7777777777777778,
              "#fb9f3a"
             ],
             [
              0.8888888888888888,
              "#fdca26"
             ],
             [
              1,
              "#f0f921"
             ]
            ],
            "type": "surface"
           }
          ],
          "table": [
           {
            "cells": {
             "fill": {
              "color": "#EBF0F8"
             },
             "line": {
              "color": "white"
             }
            },
            "header": {
             "fill": {
              "color": "#C8D4E3"
             },
             "line": {
              "color": "white"
             }
            },
            "type": "table"
           }
          ]
         },
         "layout": {
          "annotationdefaults": {
           "arrowcolor": "#2a3f5f",
           "arrowhead": 0,
           "arrowwidth": 1
          },
          "autotypenumbers": "strict",
          "coloraxis": {
           "colorbar": {
            "outlinewidth": 0,
            "ticks": ""
           }
          },
          "colorscale": {
           "diverging": [
            [
             0,
             "#8e0152"
            ],
            [
             0.1,
             "#c51b7d"
            ],
            [
             0.2,
             "#de77ae"
            ],
            [
             0.3,
             "#f1b6da"
            ],
            [
             0.4,
             "#fde0ef"
            ],
            [
             0.5,
             "#f7f7f7"
            ],
            [
             0.6,
             "#e6f5d0"
            ],
            [
             0.7,
             "#b8e186"
            ],
            [
             0.8,
             "#7fbc41"
            ],
            [
             0.9,
             "#4d9221"
            ],
            [
             1,
             "#276419"
            ]
           ],
           "sequential": [
            [
             0,
             "#0d0887"
            ],
            [
             0.1111111111111111,
             "#46039f"
            ],
            [
             0.2222222222222222,
             "#7201a8"
            ],
            [
             0.3333333333333333,
             "#9c179e"
            ],
            [
             0.4444444444444444,
             "#bd3786"
            ],
            [
             0.5555555555555556,
             "#d8576b"
            ],
            [
             0.6666666666666666,
             "#ed7953"
            ],
            [
             0.7777777777777778,
             "#fb9f3a"
            ],
            [
             0.8888888888888888,
             "#fdca26"
            ],
            [
             1,
             "#f0f921"
            ]
           ],
           "sequentialminus": [
            [
             0,
             "#0d0887"
            ],
            [
             0.1111111111111111,
             "#46039f"
            ],
            [
             0.2222222222222222,
             "#7201a8"
            ],
            [
             0.3333333333333333,
             "#9c179e"
            ],
            [
             0.4444444444444444,
             "#bd3786"
            ],
            [
             0.5555555555555556,
             "#d8576b"
            ],
            [
             0.6666666666666666,
             "#ed7953"
            ],
            [
             0.7777777777777778,
             "#fb9f3a"
            ],
            [
             0.8888888888888888,
             "#fdca26"
            ],
            [
             1,
             "#f0f921"
            ]
           ]
          },
          "colorway": [
           "#636efa",
           "#EF553B",
           "#00cc96",
           "#ab63fa",
           "#FFA15A",
           "#19d3f3",
           "#FF6692",
           "#B6E880",
           "#FF97FF",
           "#FECB52"
          ],
          "font": {
           "color": "#2a3f5f"
          },
          "geo": {
           "bgcolor": "white",
           "lakecolor": "white",
           "landcolor": "#E5ECF6",
           "showlakes": true,
           "showland": true,
           "subunitcolor": "white"
          },
          "hoverlabel": {
           "align": "left"
          },
          "hovermode": "closest",
          "mapbox": {
           "style": "light"
          },
          "paper_bgcolor": "white",
          "plot_bgcolor": "#E5ECF6",
          "polar": {
           "angularaxis": {
            "gridcolor": "white",
            "linecolor": "white",
            "ticks": ""
           },
           "bgcolor": "#E5ECF6",
           "radialaxis": {
            "gridcolor": "white",
            "linecolor": "white",
            "ticks": ""
           }
          },
          "scene": {
           "xaxis": {
            "backgroundcolor": "#E5ECF6",
            "gridcolor": "white",
            "gridwidth": 2,
            "linecolor": "white",
            "showbackground": true,
            "ticks": "",
            "zerolinecolor": "white"
           },
           "yaxis": {
            "backgroundcolor": "#E5ECF6",
            "gridcolor": "white",
            "gridwidth": 2,
            "linecolor": "white",
            "showbackground": true,
            "ticks": "",
            "zerolinecolor": "white"
           },
           "zaxis": {
            "backgroundcolor": "#E5ECF6",
            "gridcolor": "white",
            "gridwidth": 2,
            "linecolor": "white",
            "showbackground": true,
            "ticks": "",
            "zerolinecolor": "white"
           }
          },
          "shapedefaults": {
           "line": {
            "color": "#2a3f5f"
           }
          },
          "ternary": {
           "aaxis": {
            "gridcolor": "white",
            "linecolor": "white",
            "ticks": ""
           },
           "baxis": {
            "gridcolor": "white",
            "linecolor": "white",
            "ticks": ""
           },
           "bgcolor": "#E5ECF6",
           "caxis": {
            "gridcolor": "white",
            "linecolor": "white",
            "ticks": ""
           }
          },
          "title": {
           "x": 0.05
          },
          "xaxis": {
           "automargin": true,
           "gridcolor": "white",
           "linecolor": "white",
           "ticks": "",
           "title": {
            "standoff": 15
           },
           "zerolinecolor": "white",
           "zerolinewidth": 2
          },
          "yaxis": {
           "automargin": true,
           "gridcolor": "white",
           "linecolor": "white",
           "ticks": "",
           "title": {
            "standoff": 15
           },
           "zerolinecolor": "white",
           "zerolinewidth": 2
          }
         }
        },
        "title": {
         "text": "Market Segment별 평균 총 숙박일수"
        },
        "xaxis": {
         "anchor": "y",
         "domain": [
          0,
          1
         ],
         "tickangle": -45,
         "title": {
          "text": "Market Segment"
         }
        },
        "yaxis": {
         "anchor": "x",
         "domain": [
          0,
          1
         ],
         "title": {
          "text": "평균 총 숙박일수"
         }
        }
       }
      }
     },
     "metadata": {},
     "output_type": "display_data"
    }
   ],
   "source": [
    "import plotly.express as px\n",
    "\n",
    "# 총 숙박일수 계산\n",
    "df['total_stay'] = df['stays_in_weekend_nights'] + df['stays_in_week_nights']\n",
    "\n",
    "# Market Segment별 평균 총 숙박일수 계산\n",
    "avg_total_stay_by_segment = df.groupby('market_segment')['total_stay'].mean().sort_values(ascending=False)\n",
    "\n",
    "print(\"\\nMarket Segment별 평균 총 숙박일수:\")\n",
    "display(avg_total_stay_by_segment)\n",
    "\n",
    "# 전체 평균 총 숙박일수 계산\n",
    "overall_avg_total_stay = df['total_stay'].mean()\n",
    "print(f\"\\n전체 평균 총 숙박일수: {overall_avg_total_stay:.2f}\")\n",
    "\n",
    "\n",
    "# Market Segment별 평균 총 숙박일수 시각화 (Plotly 막대 그래프)\n",
    "fig = px.bar(x=avg_total_stay_by_segment.index, y=avg_total_stay_by_segment.values,\n",
    "             title='Market Segment별 평균 총 숙박일수',\n",
    "             labels={'x': 'Market Segment', 'y': '평균 총 숙박일수'},\n",
    "             color=avg_total_stay_by_segment.index, # 각 막대에 다른 색상 적용\n",
    "             color_discrete_sequence=px.colors.qualitative.Plotly,\n",
    "             text=avg_total_stay_by_segment.values.round(2)) # 막대 위에 텍스트로 평균 숙박일수 표시 (소수점 둘째 자리까지)\n",
    "\n",
    "# 전체 평균 총 숙박일수 점선 추가\n",
    "fig.add_hline(y=overall_avg_total_stay, line_dash=\"dash\", line_color=\"red\", annotation_text=f\"전체 평균: {overall_avg_total_stay:.2f}\", annotation_position=\"bottom right\")\n",
    "\n",
    "\n",
    "fig.update_layout(xaxis_tickangle=-45) # x축 레이블 각도 조절\n",
    "fig.update_traces(textposition='outside') # 텍스트 위치를 막대 외부에 표시\n",
    "fig.show()"
   ]
  },
  {
   "cell_type": "markdown",
   "id": "20f104df",
   "metadata": {},
   "source": [
    "### 2.5 Market Segment와 예약 변경 횟수 (booking changes) 관계 분석"
   ]
  },
  {
   "cell_type": "markdown",
   "id": "4cd4b913",
   "metadata": {},
   "source": [
    "**Market Segment와 예약 변경 횟수 관계 분석 결과 요약:** Market Segment별 평균 예약 변경 횟수를 분석한 결과 Complementary 세그먼트의 평균 예약 변경 횟수가 가장 많았습니다. Offline TA/TO 세그먼트가 가장 적었습니다. Direct 및 Groups 세그먼트도 비교적 예약 변경이 잦은 편이었습니다."
   ]
  },
  {
   "cell_type": "code",
   "execution_count": null,
   "id": "d497d687",
   "metadata": {},
   "outputs": [
    {
     "name": "stdout",
     "output_type": "stream",
     "text": [
      "\n",
      "Market Segment별 평균 예약 변경 횟수:\n"
     ]
    },
    {
     "data": {
      "text/plain": [
       "market_segment\n",
       "Direct           0.395764\n",
       "Complementary    0.332436\n",
       "Corporate        0.307271\n",
       "Aviation         0.261603\n",
       "Groups           0.211802\n",
       "Online TA        0.201321\n",
       "Offline TA/TO    0.161402\n",
       "Undefined        0.000000\n",
       "Name: booking_changes, dtype: float64"
      ]
     },
     "metadata": {},
     "output_type": "display_data"
    },
    {
     "name": "stdout",
     "output_type": "stream",
     "text": [
      "\n",
      "전체 평균 예약 변경 횟수: 0.22\n"
     ]
    },
    {
     "data": {
      "application/vnd.plotly.v1+json": {
       "config": {
        "plotlyServerURL": "https://plot.ly"
       },
       "data": [
        {
         "hovertemplate": "color=Direct<br>Market Segment=%{x}<br>평균 예약 변경 횟수=%{y}<br>text=%{text}<extra></extra>",
         "legendgroup": "Direct",
         "marker": {
          "color": "#636EFA",
          "pattern": {
           "shape": ""
          }
         },
         "name": "Direct",
         "orientation": "v",
         "showlegend": true,
         "text": {
          "bdata": "mpmZmZmZ2T8=",
          "dtype": "f8"
         },
         "textposition": "outside",
         "type": "bar",
         "x": [
          "Direct"
         ],
         "xaxis": "x",
         "y": {
          "bdata": "1FhrMzJU2T8=",
          "dtype": "f8"
         },
         "yaxis": "y"
        },
        {
         "hovertemplate": "color=Complementary<br>Market Segment=%{x}<br>평균 예약 변경 횟수=%{y}<br>text=%{text}<extra></extra>",
         "legendgroup": "Complementary",
         "marker": {
          "color": "#EF553B",
          "pattern": {
           "shape": ""
          }
         },
         "name": "Complementary",
         "orientation": "v",
         "showlegend": true,
         "text": {
          "bdata": "H4XrUbge1T8=",
          "dtype": "f8"
         },
         "textposition": "outside",
         "type": "bar",
         "x": [
          "Complementary"
         ],
         "xaxis": "x",
         "y": {
          "bdata": "6pYm8KFG1T8=",
          "dtype": "f8"
         },
         "yaxis": "y"
        },
        {
         "hovertemplate": "color=Corporate<br>Market Segment=%{x}<br>평균 예약 변경 횟수=%{y}<br>text=%{text}<extra></extra>",
         "legendgroup": "Corporate",
         "marker": {
          "color": "#00CC96",
          "pattern": {
           "shape": ""
          }
         },
         "name": "Corporate",
         "orientation": "v",
         "showlegend": true,
         "text": {
          "bdata": "16NwPQrX0z8=",
          "dtype": "f8"
         },
         "textposition": "outside",
         "type": "bar",
         "x": [
          "Corporate"
         ],
         "xaxis": "x",
         "y": {
          "bdata": "PconB1Sq0z8=",
          "dtype": "f8"
         },
         "yaxis": "y"
        },
        {
         "hovertemplate": "color=Aviation<br>Market Segment=%{x}<br>평균 예약 변경 횟수=%{y}<br>text=%{text}<extra></extra>",
         "legendgroup": "Aviation",
         "marker": {
          "color": "#AB63FA",
          "pattern": {
           "shape": ""
          }
         },
         "name": "Aviation",
         "orientation": "v",
         "showlegend": true,
         "text": {
          "bdata": "pHA9Ctej0D8=",
          "dtype": "f8"
         },
         "textposition": "outside",
         "type": "bar",
         "x": [
          "Aviation"
         ],
         "xaxis": "x",
         "y": {
          "bdata": "0naaFRy+0D8=",
          "dtype": "f8"
         },
         "yaxis": "y"
        },
        {
         "hovertemplate": "color=Groups<br>Market Segment=%{x}<br>평균 예약 변경 횟수=%{y}<br>text=%{text}<extra></extra>",
         "legendgroup": "Groups",
         "marker": {
          "color": "#FFA15A",
          "pattern": {
           "shape": ""
          }
         },
         "name": "Groups",
         "orientation": "v",
         "showlegend": true,
         "text": {
          "bdata": "4XoUrkfhyj8=",
          "dtype": "f8"
         },
         "textposition": "outside",
         "type": "bar",
         "x": [
          "Groups"
         ],
         "xaxis": "x",
         "y": {
          "bdata": "h1ZI9k8cyz8=",
          "dtype": "f8"
         },
         "yaxis": "y"
        },
        {
         "hovertemplate": "color=Online TA<br>Market Segment=%{x}<br>평균 예약 변경 횟수=%{y}<br>text=%{text}<extra></extra>",
         "legendgroup": "Online TA",
         "marker": {
          "color": "#19D3F3",
          "pattern": {
           "shape": ""
          }
         },
         "name": "Online TA",
         "orientation": "v",
         "showlegend": true,
         "text": {
          "bdata": "mpmZmZmZyT8=",
          "dtype": "f8"
         },
         "textposition": "outside",
         "type": "bar",
         "x": [
          "Online TA"
         ],
         "xaxis": "x",
         "y": {
          "bdata": "G+3nCuLEyT8=",
          "dtype": "f8"
         },
         "yaxis": "y"
        },
        {
         "hovertemplate": "color=Offline TA/TO<br>Market Segment=%{x}<br>평균 예약 변경 횟수=%{y}<br>text=%{text}<extra></extra>",
         "legendgroup": "Offline TA/TO",
         "marker": {
          "color": "#FF6692",
          "pattern": {
           "shape": ""
          }
         },
         "name": "Offline TA/TO",
         "orientation": "v",
         "showlegend": true,
         "text": {
          "bdata": "exSuR+F6xD8=",
          "dtype": "f8"
         },
         "textposition": "outside",
         "type": "bar",
         "x": [
          "Offline TA/TO"
         ],
         "xaxis": "x",
         "y": {
          "bdata": "0GC709OoxD8=",
          "dtype": "f8"
         },
         "yaxis": "y"
        },
        {
         "hovertemplate": "color=Undefined<br>Market Segment=%{x}<br>평균 예약 변경 횟수=%{y}<br>text=%{text}<extra></extra>",
         "legendgroup": "Undefined",
         "marker": {
          "color": "#B6E880",
          "pattern": {
           "shape": ""
          }
         },
         "name": "Undefined",
         "orientation": "v",
         "showlegend": true,
         "text": {
          "bdata": "AAAAAAAAAAA=",
          "dtype": "f8"
         },
         "textposition": "outside",
         "type": "bar",
         "x": [
          "Undefined"
         ],
         "xaxis": "x",
         "y": {
          "bdata": "AAAAAAAAAAA=",
          "dtype": "f8"
         },
         "yaxis": "y"
        }
       ],
       "layout": {
        "annotations": [
         {
          "showarrow": false,
          "text": "전체 평균: 0.22",
          "x": 1,
          "xanchor": "right",
          "xref": "x domain",
          "y": 0.22112404724013737,
          "yanchor": "top",
          "yref": "y"
         }
        ],
        "barmode": "relative",
        "legend": {
         "title": {
          "text": "color"
         },
         "tracegroupgap": 0
        },
        "shapes": [
         {
          "line": {
           "color": "red",
           "dash": "dash"
          },
          "type": "line",
          "x0": 0,
          "x1": 1,
          "xref": "x domain",
          "y0": 0.22112404724013737,
          "y1": 0.22112404724013737,
          "yref": "y"
         }
        ],
        "template": {
         "data": {
          "bar": [
           {
            "error_x": {
             "color": "#2a3f5f"
            },
            "error_y": {
             "color": "#2a3f5f"
            },
            "marker": {
             "line": {
              "color": "#E5ECF6",
              "width": 0.5
             },
             "pattern": {
              "fillmode": "overlay",
              "size": 10,
              "solidity": 0.2
             }
            },
            "type": "bar"
           }
          ],
          "barpolar": [
           {
            "marker": {
             "line": {
              "color": "#E5ECF6",
              "width": 0.5
             },
             "pattern": {
              "fillmode": "overlay",
              "size": 10,
              "solidity": 0.2
             }
            },
            "type": "barpolar"
           }
          ],
          "carpet": [
           {
            "aaxis": {
             "endlinecolor": "#2a3f5f",
             "gridcolor": "white",
             "linecolor": "white",
             "minorgridcolor": "white",
             "startlinecolor": "#2a3f5f"
            },
            "baxis": {
             "endlinecolor": "#2a3f5f",
             "gridcolor": "white",
             "linecolor": "white",
             "minorgridcolor": "white",
             "startlinecolor": "#2a3f5f"
            },
            "type": "carpet"
           }
          ],
          "choropleth": [
           {
            "colorbar": {
             "outlinewidth": 0,
             "ticks": ""
            },
            "type": "choropleth"
           }
          ],
          "contour": [
           {
            "colorbar": {
             "outlinewidth": 0,
             "ticks": ""
            },
            "colorscale": [
             [
              0,
              "#0d0887"
             ],
             [
              0.1111111111111111,
              "#46039f"
             ],
             [
              0.2222222222222222,
              "#7201a8"
             ],
             [
              0.3333333333333333,
              "#9c179e"
             ],
             [
              0.4444444444444444,
              "#bd3786"
             ],
             [
              0.5555555555555556,
              "#d8576b"
             ],
             [
              0.6666666666666666,
              "#ed7953"
             ],
             [
              0.7777777777777778,
              "#fb9f3a"
             ],
             [
              0.8888888888888888,
              "#fdca26"
             ],
             [
              1,
              "#f0f921"
             ]
            ],
            "type": "contour"
           }
          ],
          "contourcarpet": [
           {
            "colorbar": {
             "outlinewidth": 0,
             "ticks": ""
            },
            "type": "contourcarpet"
           }
          ],
          "heatmap": [
           {
            "colorbar": {
             "outlinewidth": 0,
             "ticks": ""
            },
            "colorscale": [
             [
              0,
              "#0d0887"
             ],
             [
              0.1111111111111111,
              "#46039f"
             ],
             [
              0.2222222222222222,
              "#7201a8"
             ],
             [
              0.3333333333333333,
              "#9c179e"
             ],
             [
              0.4444444444444444,
              "#bd3786"
             ],
             [
              0.5555555555555556,
              "#d8576b"
             ],
             [
              0.6666666666666666,
              "#ed7953"
             ],
             [
              0.7777777777777778,
              "#fb9f3a"
             ],
             [
              0.8888888888888888,
              "#fdca26"
             ],
             [
              1,
              "#f0f921"
             ]
            ],
            "type": "heatmap"
           }
          ],
          "histogram": [
           {
            "marker": {
             "pattern": {
              "fillmode": "overlay",
              "size": 10,
              "solidity": 0.2
             }
            },
            "type": "histogram"
           }
          ],
          "histogram2d": [
           {
            "colorbar": {
             "outlinewidth": 0,
             "ticks": ""
            },
            "colorscale": [
             [
              0,
              "#0d0887"
             ],
             [
              0.1111111111111111,
              "#46039f"
             ],
             [
              0.2222222222222222,
              "#7201a8"
             ],
             [
              0.3333333333333333,
              "#9c179e"
             ],
             [
              0.4444444444444444,
              "#bd3786"
             ],
             [
              0.5555555555555556,
              "#d8576b"
             ],
             [
              0.6666666666666666,
              "#ed7953"
             ],
             [
              0.7777777777777778,
              "#fb9f3a"
             ],
             [
              0.8888888888888888,
              "#fdca26"
             ],
             [
              1,
              "#f0f921"
             ]
            ],
            "type": "histogram2d"
           }
          ],
          "histogram2dcontour": [
           {
            "colorbar": {
             "outlinewidth": 0,
             "ticks": ""
            },
            "colorscale": [
             [
              0,
              "#0d0887"
             ],
             [
              0.1111111111111111,
              "#46039f"
             ],
             [
              0.2222222222222222,
              "#7201a8"
             ],
             [
              0.3333333333333333,
              "#9c179e"
             ],
             [
              0.4444444444444444,
              "#bd3786"
             ],
             [
              0.5555555555555556,
              "#d8576b"
             ],
             [
              0.6666666666666666,
              "#ed7953"
             ],
             [
              0.7777777777777778,
              "#fb9f3a"
             ],
             [
              0.8888888888888888,
              "#fdca26"
             ],
             [
              1,
              "#f0f921"
             ]
            ],
            "type": "histogram2dcontour"
           }
          ],
          "mesh3d": [
           {
            "colorbar": {
             "outlinewidth": 0,
             "ticks": ""
            },
            "type": "mesh3d"
           }
          ],
          "parcoords": [
           {
            "line": {
             "colorbar": {
              "outlinewidth": 0,
              "ticks": ""
             }
            },
            "type": "parcoords"
           }
          ],
          "pie": [
           {
            "automargin": true,
            "type": "pie"
           }
          ],
          "scatter": [
           {
            "fillpattern": {
             "fillmode": "overlay",
             "size": 10,
             "solidity": 0.2
            },
            "type": "scatter"
           }
          ],
          "scatter3d": [
           {
            "line": {
             "colorbar": {
              "outlinewidth": 0,
              "ticks": ""
             }
            },
            "marker": {
             "colorbar": {
              "outlinewidth": 0,
              "ticks": ""
             }
            },
            "type": "scatter3d"
           }
          ],
          "scattercarpet": [
           {
            "marker": {
             "colorbar": {
              "outlinewidth": 0,
              "ticks": ""
             }
            },
            "type": "scattercarpet"
           }
          ],
          "scattergeo": [
           {
            "marker": {
             "colorbar": {
              "outlinewidth": 0,
              "ticks": ""
             }
            },
            "type": "scattergeo"
           }
          ],
          "scattergl": [
           {
            "marker": {
             "colorbar": {
              "outlinewidth": 0,
              "ticks": ""
             }
            },
            "type": "scattergl"
           }
          ],
          "scattermap": [
           {
            "marker": {
             "colorbar": {
              "outlinewidth": 0,
              "ticks": ""
             }
            },
            "type": "scattermap"
           }
          ],
          "scattermapbox": [
           {
            "marker": {
             "colorbar": {
              "outlinewidth": 0,
              "ticks": ""
             }
            },
            "type": "scattermapbox"
           }
          ],
          "scatterpolar": [
           {
            "marker": {
             "colorbar": {
              "outlinewidth": 0,
              "ticks": ""
             }
            },
            "type": "scatterpolar"
           }
          ],
          "scatterpolargl": [
           {
            "marker": {
             "colorbar": {
              "outlinewidth": 0,
              "ticks": ""
             }
            },
            "type": "scatterpolargl"
           }
          ],
          "scatterternary": [
           {
            "marker": {
             "colorbar": {
              "outlinewidth": 0,
              "ticks": ""
             }
            },
            "type": "scatterternary"
           }
          ],
          "surface": [
           {
            "colorbar": {
             "outlinewidth": 0,
             "ticks": ""
            },
            "colorscale": [
             [
              0,
              "#0d0887"
             ],
             [
              0.1111111111111111,
              "#46039f"
             ],
             [
              0.2222222222222222,
              "#7201a8"
             ],
             [
              0.3333333333333333,
              "#9c179e"
             ],
             [
              0.4444444444444444,
              "#bd3786"
             ],
             [
              0.5555555555555556,
              "#d8576b"
             ],
             [
              0.6666666666666666,
              "#ed7953"
             ],
             [
              0.7777777777777778,
              "#fb9f3a"
             ],
             [
              0.8888888888888888,
              "#fdca26"
             ],
             [
              1,
              "#f0f921"
             ]
            ],
            "type": "surface"
           }
          ],
          "table": [
           {
            "cells": {
             "fill": {
              "color": "#EBF0F8"
             },
             "line": {
              "color": "white"
             }
            },
            "header": {
             "fill": {
              "color": "#C8D4E3"
             },
             "line": {
              "color": "white"
             }
            },
            "type": "table"
           }
          ]
         },
         "layout": {
          "annotationdefaults": {
           "arrowcolor": "#2a3f5f",
           "arrowhead": 0,
           "arrowwidth": 1
          },
          "autotypenumbers": "strict",
          "coloraxis": {
           "colorbar": {
            "outlinewidth": 0,
            "ticks": ""
           }
          },
          "colorscale": {
           "diverging": [
            [
             0,
             "#8e0152"
            ],
            [
             0.1,
             "#c51b7d"
            ],
            [
             0.2,
             "#de77ae"
            ],
            [
             0.3,
             "#f1b6da"
            ],
            [
             0.4,
             "#fde0ef"
            ],
            [
             0.5,
             "#f7f7f7"
            ],
            [
             0.6,
             "#e6f5d0"
            ],
            [
             0.7,
             "#b8e186"
            ],
            [
             0.8,
             "#7fbc41"
            ],
            [
             0.9,
             "#4d9221"
            ],
            [
             1,
             "#276419"
            ]
           ],
           "sequential": [
            [
             0,
             "#0d0887"
            ],
            [
             0.1111111111111111,
             "#46039f"
            ],
            [
             0.2222222222222222,
             "#7201a8"
            ],
            [
             0.3333333333333333,
             "#9c179e"
            ],
            [
             0.4444444444444444,
             "#bd3786"
            ],
            [
             0.5555555555555556,
             "#d8576b"
            ],
            [
             0.6666666666666666,
             "#ed7953"
            ],
            [
             0.7777777777777778,
             "#fb9f3a"
            ],
            [
             0.8888888888888888,
             "#fdca26"
            ],
            [
             1,
             "#f0f921"
            ]
           ],
           "sequentialminus": [
            [
             0,
             "#0d0887"
            ],
            [
             0.1111111111111111,
             "#46039f"
            ],
            [
             0.2222222222222222,
             "#7201a8"
            ],
            [
             0.3333333333333333,
             "#9c179e"
            ],
            [
             0.4444444444444444,
             "#bd3786"
            ],
            [
             0.5555555555555556,
             "#d8576b"
            ],
            [
             0.6666666666666666,
             "#ed7953"
            ],
            [
             0.7777777777777778,
             "#fb9f3a"
            ],
            [
             0.8888888888888888,
             "#fdca26"
            ],
            [
             1,
             "#f0f921"
            ]
           ]
          },
          "colorway": [
           "#636efa",
           "#EF553B",
           "#00cc96",
           "#ab63fa",
           "#FFA15A",
           "#19d3f3",
           "#FF6692",
           "#B6E880",
           "#FF97FF",
           "#FECB52"
          ],
          "font": {
           "color": "#2a3f5f"
          },
          "geo": {
           "bgcolor": "white",
           "lakecolor": "white",
           "landcolor": "#E5ECF6",
           "showlakes": true,
           "showland": true,
           "subunitcolor": "white"
          },
          "hoverlabel": {
           "align": "left"
          },
          "hovermode": "closest",
          "mapbox": {
           "style": "light"
          },
          "paper_bgcolor": "white",
          "plot_bgcolor": "#E5ECF6",
          "polar": {
           "angularaxis": {
            "gridcolor": "white",
            "linecolor": "white",
            "ticks": ""
           },
           "bgcolor": "#E5ECF6",
           "radialaxis": {
            "gridcolor": "white",
            "linecolor": "white",
            "ticks": ""
           }
          },
          "scene": {
           "xaxis": {
            "backgroundcolor": "#E5ECF6",
            "gridcolor": "white",
            "gridwidth": 2,
            "linecolor": "white",
            "showbackground": true,
            "ticks": "",
            "zerolinecolor": "white"
           },
           "yaxis": {
            "backgroundcolor": "#E5ECF6",
            "gridcolor": "white",
            "gridwidth": 2,
            "linecolor": "white",
            "showbackground": true,
            "ticks": "",
            "zerolinecolor": "white"
           },
           "zaxis": {
            "backgroundcolor": "#E5ECF6",
            "gridcolor": "white",
            "gridwidth": 2,
            "linecolor": "white",
            "showbackground": true,
            "ticks": "",
            "zerolinecolor": "white"
           }
          },
          "shapedefaults": {
           "line": {
            "color": "#2a3f5f"
           }
          },
          "ternary": {
           "aaxis": {
            "gridcolor": "white",
            "linecolor": "white",
            "ticks": ""
           },
           "baxis": {
            "gridcolor": "white",
            "linecolor": "white",
            "ticks": ""
           },
           "bgcolor": "#E5ECF6",
           "caxis": {
            "gridcolor": "white",
            "linecolor": "white",
            "ticks": ""
           }
          },
          "title": {
           "x": 0.05
          },
          "xaxis": {
           "automargin": true,
           "gridcolor": "white",
           "linecolor": "white",
           "ticks": "",
           "title": {
            "standoff": 15
           },
           "zerolinecolor": "white",
           "zerolinewidth": 2
          },
          "yaxis": {
           "automargin": true,
           "gridcolor": "white",
           "linecolor": "white",
           "ticks": "",
           "title": {
            "standoff": 15
           },
           "zerolinecolor": "white",
           "zerolinewidth": 2
          }
         }
        },
        "title": {
         "text": "Market Segment별 평균 예약 변경 횟수"
        },
        "xaxis": {
         "anchor": "y",
         "domain": [
          0,
          1
         ],
         "tickangle": -45,
         "title": {
          "text": "Market Segment"
         }
        },
        "yaxis": {
         "anchor": "x",
         "domain": [
          0,
          1
         ],
         "title": {
          "text": "평균 예약 변경 횟수"
         }
        }
       }
      }
     },
     "metadata": {},
     "output_type": "display_data"
    }
   ],
   "source": [
    "import plotly.express as px\n",
    "\n",
    "# Market Segment별 평균 예약 변경 횟수 계산\n",
    "avg_booking_changes_by_segment = df.groupby('market_segment')['booking_changes'].mean().sort_values(ascending=False)\n",
    "\n",
    "print(\"\\nMarket Segment별 평균 예약 변경 횟수:\")\n",
    "display(avg_booking_changes_by_segment)\n",
    "\n",
    "# 전체 평균 예약 변경 횟수 계산\n",
    "overall_avg_booking_changes = df['booking_changes'].mean()\n",
    "print(f\"\\n전체 평균 예약 변경 횟수: {overall_avg_booking_changes:.2f}\")\n",
    "\n",
    "\n",
    "# Market Segment별 평균 예약 변경 횟수 시각화 (Plotly 막대 그래프)\n",
    "fig = px.bar(x=avg_booking_changes_by_segment.index, y=avg_booking_changes_by_segment.values,\n",
    "             title='Market Segment별 평균 예약 변경 횟수',\n",
    "             labels={'x': 'Market Segment', 'y': '평균 예약 변경 횟수'},\n",
    "             color=avg_booking_changes_by_segment.index, # 각 막대에 다른 색상 적용\n",
    "             color_discrete_sequence=px.colors.qualitative.Plotly,\n",
    "             text=avg_booking_changes_by_segment.values.round(2)) # 막대 위에 텍스트로 평균 예약 변경 횟수 표시 (소수점 둘째 자리까지)\n",
    "\n",
    "# 전체 평균 예약 변경 횟수 점선 추가\n",
    "fig.add_hline(y=overall_avg_booking_changes, line_dash=\"dash\", line_color=\"red\", annotation_text=f\"전체 평균: {overall_avg_booking_changes:.2f}\", annotation_position=\"bottom right\")\n",
    "\n",
    "\n",
    "fig.update_layout(xaxis_tickangle=-45) # x축 레이블 각도 조절\n",
    "fig.update_traces(textposition='outside') # 텍스트 위치를 막대 외부에 표시\n",
    "fig.show()"
   ]
  },
  {
   "cell_type": "markdown",
   "id": "2dd67255",
   "metadata": {},
   "source": [
    "### 2.6 추가적인 Market Segment 관계 탐색"
   ]
  },
  {
   "cell_type": "code",
   "execution_count": null,
   "id": "432dc749",
   "metadata": {},
   "outputs": [
    {
     "name": "stdout",
     "output_type": "stream",
     "text": [
      "--- Market Segment 내 Customer Type 분포 (정규화) ---\n"
     ]
    },
    {
     "data": {
      "text/html": [
       "<style type=\"text/css\">\n",
       "#T_809c7_row0_col0, #T_809c7_row0_col1, #T_809c7_row0_col2, #T_809c7_row0_col3, #T_809c7_row0_col7, #T_809c7_row1_col2, #T_809c7_row1_col4, #T_809c7_row1_col5, #T_809c7_row1_col6, #T_809c7_row1_col7, #T_809c7_row2_col7 {\n",
       "  background-color: #f7fbff;\n",
       "  color: #000000;\n",
       "}\n",
       "#T_809c7_row0_col4 {\n",
       "  background-color: #eaf2fb;\n",
       "  color: #000000;\n",
       "}\n",
       "#T_809c7_row0_col5 {\n",
       "  background-color: #e0ecf8;\n",
       "  color: #000000;\n",
       "}\n",
       "#T_809c7_row0_col6 {\n",
       "  background-color: #f2f8fd;\n",
       "  color: #000000;\n",
       "}\n",
       "#T_809c7_row1_col0, #T_809c7_row1_col3 {\n",
       "  background-color: #f5fafe;\n",
       "  color: #000000;\n",
       "}\n",
       "#T_809c7_row1_col1 {\n",
       "  background-color: #f6faff;\n",
       "  color: #000000;\n",
       "}\n",
       "#T_809c7_row2_col0, #T_809c7_row2_col1, #T_809c7_row2_col2, #T_809c7_row2_col3, #T_809c7_row2_col5, #T_809c7_row2_col6, #T_809c7_row3_col4, #T_809c7_row3_col7 {\n",
       "  background-color: #08306b;\n",
       "  color: #f1f1f1;\n",
       "}\n",
       "#T_809c7_row2_col4 {\n",
       "  background-color: #1966ad;\n",
       "  color: #f1f1f1;\n",
       "}\n",
       "#T_809c7_row3_col0 {\n",
       "  background-color: #e8f1fa;\n",
       "  color: #000000;\n",
       "}\n",
       "#T_809c7_row3_col1 {\n",
       "  background-color: #eff6fc;\n",
       "  color: #000000;\n",
       "}\n",
       "#T_809c7_row3_col2 {\n",
       "  background-color: #7ab6d9;\n",
       "  color: #000000;\n",
       "}\n",
       "#T_809c7_row3_col3 {\n",
       "  background-color: #e3eef9;\n",
       "  color: #000000;\n",
       "}\n",
       "#T_809c7_row3_col5 {\n",
       "  background-color: #539ecd;\n",
       "  color: #f1f1f1;\n",
       "}\n",
       "#T_809c7_row3_col6 {\n",
       "  background-color: #eaf3fb;\n",
       "  color: #000000;\n",
       "}\n",
       "</style>\n",
       "<table id=\"T_809c7\">\n",
       "  <thead>\n",
       "    <tr>\n",
       "      <th class=\"index_name level0\" >market_segment</th>\n",
       "      <th id=\"T_809c7_level0_col0\" class=\"col_heading level0 col0\" >Aviation</th>\n",
       "      <th id=\"T_809c7_level0_col1\" class=\"col_heading level0 col1\" >Complementary</th>\n",
       "      <th id=\"T_809c7_level0_col2\" class=\"col_heading level0 col2\" >Corporate</th>\n",
       "      <th id=\"T_809c7_level0_col3\" class=\"col_heading level0 col3\" >Direct</th>\n",
       "      <th id=\"T_809c7_level0_col4\" class=\"col_heading level0 col4\" >Groups</th>\n",
       "      <th id=\"T_809c7_level0_col5\" class=\"col_heading level0 col5\" >Offline TA/TO</th>\n",
       "      <th id=\"T_809c7_level0_col6\" class=\"col_heading level0 col6\" >Online TA</th>\n",
       "      <th id=\"T_809c7_level0_col7\" class=\"col_heading level0 col7\" >Undefined</th>\n",
       "    </tr>\n",
       "    <tr>\n",
       "      <th class=\"index_name level0\" >customer_type</th>\n",
       "      <th class=\"blank col0\" >&nbsp;</th>\n",
       "      <th class=\"blank col1\" >&nbsp;</th>\n",
       "      <th class=\"blank col2\" >&nbsp;</th>\n",
       "      <th class=\"blank col3\" >&nbsp;</th>\n",
       "      <th class=\"blank col4\" >&nbsp;</th>\n",
       "      <th class=\"blank col5\" >&nbsp;</th>\n",
       "      <th class=\"blank col6\" >&nbsp;</th>\n",
       "      <th class=\"blank col7\" >&nbsp;</th>\n",
       "    </tr>\n",
       "  </thead>\n",
       "  <tbody>\n",
       "    <tr>\n",
       "      <th id=\"T_809c7_level0_row0\" class=\"row_heading level0 row0\" >Contract</th>\n",
       "      <td id=\"T_809c7_row0_col0\" class=\"data row0 col0\" >0.000000</td>\n",
       "      <td id=\"T_809c7_row0_col1\" class=\"data row0 col1\" >0.002692</td>\n",
       "      <td id=\"T_809c7_row0_col2\" class=\"data row0 col2\" >0.004155</td>\n",
       "      <td id=\"T_809c7_row0_col3\" class=\"data row0 col3\" >0.001111</td>\n",
       "      <td id=\"T_809c7_row0_col4\" class=\"data row0 col4\" >0.037101</td>\n",
       "      <td id=\"T_809c7_row0_col5\" class=\"data row0 col5\" >0.075024</td>\n",
       "      <td id=\"T_809c7_row0_col6\" class=\"data row0 col6\" >0.026312</td>\n",
       "      <td id=\"T_809c7_row0_col7\" class=\"data row0 col7\" >0.000000</td>\n",
       "    </tr>\n",
       "    <tr>\n",
       "      <th id=\"T_809c7_level0_row1\" class=\"row_heading level0 row1\" >Group</th>\n",
       "      <td id=\"T_809c7_row1_col0\" class=\"data row1 col0\" >0.008439</td>\n",
       "      <td id=\"T_809c7_row1_col1\" class=\"data row1 col1\" >0.008075</td>\n",
       "      <td id=\"T_809c7_row1_col2\" class=\"data row1 col2\" >0.005477</td>\n",
       "      <td id=\"T_809c7_row1_col3\" class=\"data row1 col3\" >0.010630</td>\n",
       "      <td id=\"T_809c7_row1_col4\" class=\"data row1 col4\" >0.000808</td>\n",
       "      <td id=\"T_809c7_row1_col5\" class=\"data row1 col5\" >0.008712</td>\n",
       "      <td id=\"T_809c7_row1_col6\" class=\"data row1 col6\" >0.003169</td>\n",
       "      <td id=\"T_809c7_row1_col7\" class=\"data row1 col7\" >0.000000</td>\n",
       "    </tr>\n",
       "    <tr>\n",
       "      <th id=\"T_809c7_level0_row2\" class=\"row_heading level0 row2\" >Transient</th>\n",
       "      <td id=\"T_809c7_row2_col0\" class=\"data row2 col0\" >0.919831</td>\n",
       "      <td id=\"T_809c7_row2_col1\" class=\"data row2 col1\" >0.946164</td>\n",
       "      <td id=\"T_809c7_row2_col2\" class=\"data row2 col2\" >0.675354</td>\n",
       "      <td id=\"T_809c7_row2_col3\" class=\"data row2 col3\" >0.899254</td>\n",
       "      <td id=\"T_809c7_row2_col4\" class=\"data row2 col4\" >0.425370</td>\n",
       "      <td id=\"T_809c7_row2_col5\" class=\"data row2 col5\" >0.580288</td>\n",
       "      <td id=\"T_809c7_row2_col6\" class=\"data row2 col6\" >0.908317</td>\n",
       "      <td id=\"T_809c7_row2_col7\" class=\"data row2 col7\" >0.000000</td>\n",
       "    </tr>\n",
       "    <tr>\n",
       "      <th id=\"T_809c7_level0_row3\" class=\"row_heading level0 row3\" >Transient-Party</th>\n",
       "      <td id=\"T_809c7_row3_col0\" class=\"data row3 col0\" >0.071730</td>\n",
       "      <td id=\"T_809c7_row3_col1\" class=\"data row3 col1\" >0.043069</td>\n",
       "      <td id=\"T_809c7_row3_col2\" class=\"data row3 col2\" >0.315014</td>\n",
       "      <td id=\"T_809c7_row3_col3\" class=\"data row3 col3\" >0.089005</td>\n",
       "      <td id=\"T_809c7_row3_col4\" class=\"data row3 col4\" >0.536722</td>\n",
       "      <td id=\"T_809c7_row3_col5\" class=\"data row3 col5\" >0.335976</td>\n",
       "      <td id=\"T_809c7_row3_col6\" class=\"data row3 col6\" >0.062202</td>\n",
       "      <td id=\"T_809c7_row3_col7\" class=\"data row3 col7\" >1.000000</td>\n",
       "    </tr>\n",
       "  </tbody>\n",
       "</table>\n"
      ],
      "text/plain": [
       "<pandas.io.formats.style.Styler at 0x2414a603b10>"
      ]
     },
     "metadata": {},
     "output_type": "display_data"
    },
    {
     "data": {
      "application/vnd.plotly.v1+json": {
       "config": {
        "plotlyServerURL": "https://plot.ly"
       },
       "data": [
        {
         "hovertemplate": "customer_type=Contract<br>Market Segment=%{x}<br>비율=%{y}<extra></extra>",
         "legendgroup": "Contract",
         "marker": {
          "color": "#636EFA",
          "pattern": {
           "shape": ""
          }
         },
         "name": "Contract",
         "orientation": "v",
         "showlegend": true,
         "textposition": "auto",
         "type": "bar",
         "x": [
          "Aviation",
          "Complementary",
          "Corporate",
          "Direct",
          "Groups",
          "Offline TA/TO",
          "Online TA",
          "Undefined"
         ],
         "xaxis": "x",
         "y": {
          "bdata": "AAAAAAAAAACYoR3GFw1mP87cp5CwBHE/6xzInx4yUj+FVSKV2f6iP/fd+4TBNLM/v4YVT23xmj8AAAAAAAAAAA==",
          "dtype": "f8"
         },
         "yaxis": "y"
        },
        {
         "hovertemplate": "customer_type=Group<br>Market Segment=%{x}<br>비율=%{y}<extra></extra>",
         "legendgroup": "Group",
         "marker": {
          "color": "#EF553B",
          "pattern": {
           "shape": ""
          }
         },
         "name": "Group",
         "orientation": "v",
         "showlegend": true,
         "textposition": "auto",
         "type": "bar",
         "x": [
          "Aviation",
          "Complementary",
          "Corporate",
          "Direct",
          "Groups",
          "Offline TA/TO",
          "Online TA",
          "Undefined"
         ],
         "xaxis": "x",
         "y": {
          "bdata": "O80KDl9IgT8yOZbU0YmAP1W6rr7obnY/ddkqfxvFhT8HAGrH6HZKP3Q3pmmv14E/FolBvsf2aT8AAAAAAAAAAA==",
          "dtype": "f8"
         },
         "yaxis": "y"
        },
        {
         "hovertemplate": "customer_type=Transient<br>Market Segment=%{x}<br>비율=%{y}<extra></extra>",
         "legendgroup": "Transient",
         "marker": {
          "color": "#00CC96",
          "pattern": {
           "shape": ""
          }
         },
         "name": "Transient",
         "orientation": "v",
         "showlegend": true,
         "textposition": "auto",
         "type": "bar",
         "x": [
          "Aviation",
          "Complementary",
          "Corporate",
          "Direct",
          "Groups",
          "Offline TA/TO",
          "Online TA",
          "Undefined"
         ],
         "xaxis": "x",
         "y": {
          "bdata": "iWXq40Fv7T9gr4Uk+kbuP9lBsjeAnOU/TsKwALHG7D93cuIEQjnbP+D4BZG4keI/WPySGe4Q7T8AAAAAAAAAAA==",
          "dtype": "f8"
         },
         "yaxis": "y"
        },
        {
         "hovertemplate": "customer_type=Transient-Party<br>Market Segment=%{x}<br>비율=%{y}<extra></extra>",
         "legendgroup": "Transient-Party",
         "marker": {
          "color": "#AB63FA",
          "pattern": {
           "shape": ""
          }
         },
         "name": "Transient-Party",
         "orientation": "v",
         "showlegend": true,
         "textposition": "auto",
         "type": "bar",
         "x": [
          "Aviation",
          "Complementary",
          "Corporate",
          "Direct",
          "Groups",
          "Offline TA/TO",
          "Online TA",
          "Undefined"
         ],
         "xaxis": "x",
         "y": {
          "bdata": "D3rr/uRcsj+YoR3GFw2mP/EhXisxKdQ/7XEVEAzJtj/sxgqq0yzhPwblZwGhgNU/ll5hQ/vYrz8AAAAAAADwPw==",
          "dtype": "f8"
         },
         "yaxis": "y"
        }
       ],
       "layout": {
        "barmode": "relative",
        "legend": {
         "title": {
          "text": "customer_type"
         },
         "tracegroupgap": 0
        },
        "template": {
         "data": {
          "bar": [
           {
            "error_x": {
             "color": "#2a3f5f"
            },
            "error_y": {
             "color": "#2a3f5f"
            },
            "marker": {
             "line": {
              "color": "#E5ECF6",
              "width": 0.5
             },
             "pattern": {
              "fillmode": "overlay",
              "size": 10,
              "solidity": 0.2
             }
            },
            "type": "bar"
           }
          ],
          "barpolar": [
           {
            "marker": {
             "line": {
              "color": "#E5ECF6",
              "width": 0.5
             },
             "pattern": {
              "fillmode": "overlay",
              "size": 10,
              "solidity": 0.2
             }
            },
            "type": "barpolar"
           }
          ],
          "carpet": [
           {
            "aaxis": {
             "endlinecolor": "#2a3f5f",
             "gridcolor": "white",
             "linecolor": "white",
             "minorgridcolor": "white",
             "startlinecolor": "#2a3f5f"
            },
            "baxis": {
             "endlinecolor": "#2a3f5f",
             "gridcolor": "white",
             "linecolor": "white",
             "minorgridcolor": "white",
             "startlinecolor": "#2a3f5f"
            },
            "type": "carpet"
           }
          ],
          "choropleth": [
           {
            "colorbar": {
             "outlinewidth": 0,
             "ticks": ""
            },
            "type": "choropleth"
           }
          ],
          "contour": [
           {
            "colorbar": {
             "outlinewidth": 0,
             "ticks": ""
            },
            "colorscale": [
             [
              0,
              "#0d0887"
             ],
             [
              0.1111111111111111,
              "#46039f"
             ],
             [
              0.2222222222222222,
              "#7201a8"
             ],
             [
              0.3333333333333333,
              "#9c179e"
             ],
             [
              0.4444444444444444,
              "#bd3786"
             ],
             [
              0.5555555555555556,
              "#d8576b"
             ],
             [
              0.6666666666666666,
              "#ed7953"
             ],
             [
              0.7777777777777778,
              "#fb9f3a"
             ],
             [
              0.8888888888888888,
              "#fdca26"
             ],
             [
              1,
              "#f0f921"
             ]
            ],
            "type": "contour"
           }
          ],
          "contourcarpet": [
           {
            "colorbar": {
             "outlinewidth": 0,
             "ticks": ""
            },
            "type": "contourcarpet"
           }
          ],
          "heatmap": [
           {
            "colorbar": {
             "outlinewidth": 0,
             "ticks": ""
            },
            "colorscale": [
             [
              0,
              "#0d0887"
             ],
             [
              0.1111111111111111,
              "#46039f"
             ],
             [
              0.2222222222222222,
              "#7201a8"
             ],
             [
              0.3333333333333333,
              "#9c179e"
             ],
             [
              0.4444444444444444,
              "#bd3786"
             ],
             [
              0.5555555555555556,
              "#d8576b"
             ],
             [
              0.6666666666666666,
              "#ed7953"
             ],
             [
              0.7777777777777778,
              "#fb9f3a"
             ],
             [
              0.8888888888888888,
              "#fdca26"
             ],
             [
              1,
              "#f0f921"
             ]
            ],
            "type": "heatmap"
           }
          ],
          "histogram": [
           {
            "marker": {
             "pattern": {
              "fillmode": "overlay",
              "size": 10,
              "solidity": 0.2
             }
            },
            "type": "histogram"
           }
          ],
          "histogram2d": [
           {
            "colorbar": {
             "outlinewidth": 0,
             "ticks": ""
            },
            "colorscale": [
             [
              0,
              "#0d0887"
             ],
             [
              0.1111111111111111,
              "#46039f"
             ],
             [
              0.2222222222222222,
              "#7201a8"
             ],
             [
              0.3333333333333333,
              "#9c179e"
             ],
             [
              0.4444444444444444,
              "#bd3786"
             ],
             [
              0.5555555555555556,
              "#d8576b"
             ],
             [
              0.6666666666666666,
              "#ed7953"
             ],
             [
              0.7777777777777778,
              "#fb9f3a"
             ],
             [
              0.8888888888888888,
              "#fdca26"
             ],
             [
              1,
              "#f0f921"
             ]
            ],
            "type": "histogram2d"
           }
          ],
          "histogram2dcontour": [
           {
            "colorbar": {
             "outlinewidth": 0,
             "ticks": ""
            },
            "colorscale": [
             [
              0,
              "#0d0887"
             ],
             [
              0.1111111111111111,
              "#46039f"
             ],
             [
              0.2222222222222222,
              "#7201a8"
             ],
             [
              0.3333333333333333,
              "#9c179e"
             ],
             [
              0.4444444444444444,
              "#bd3786"
             ],
             [
              0.5555555555555556,
              "#d8576b"
             ],
             [
              0.6666666666666666,
              "#ed7953"
             ],
             [
              0.7777777777777778,
              "#fb9f3a"
             ],
             [
              0.8888888888888888,
              "#fdca26"
             ],
             [
              1,
              "#f0f921"
             ]
            ],
            "type": "histogram2dcontour"
           }
          ],
          "mesh3d": [
           {
            "colorbar": {
             "outlinewidth": 0,
             "ticks": ""
            },
            "type": "mesh3d"
           }
          ],
          "parcoords": [
           {
            "line": {
             "colorbar": {
              "outlinewidth": 0,
              "ticks": ""
             }
            },
            "type": "parcoords"
           }
          ],
          "pie": [
           {
            "automargin": true,
            "type": "pie"
           }
          ],
          "scatter": [
           {
            "fillpattern": {
             "fillmode": "overlay",
             "size": 10,
             "solidity": 0.2
            },
            "type": "scatter"
           }
          ],
          "scatter3d": [
           {
            "line": {
             "colorbar": {
              "outlinewidth": 0,
              "ticks": ""
             }
            },
            "marker": {
             "colorbar": {
              "outlinewidth": 0,
              "ticks": ""
             }
            },
            "type": "scatter3d"
           }
          ],
          "scattercarpet": [
           {
            "marker": {
             "colorbar": {
              "outlinewidth": 0,
              "ticks": ""
             }
            },
            "type": "scattercarpet"
           }
          ],
          "scattergeo": [
           {
            "marker": {
             "colorbar": {
              "outlinewidth": 0,
              "ticks": ""
             }
            },
            "type": "scattergeo"
           }
          ],
          "scattergl": [
           {
            "marker": {
             "colorbar": {
              "outlinewidth": 0,
              "ticks": ""
             }
            },
            "type": "scattergl"
           }
          ],
          "scattermap": [
           {
            "marker": {
             "colorbar": {
              "outlinewidth": 0,
              "ticks": ""
             }
            },
            "type": "scattermap"
           }
          ],
          "scattermapbox": [
           {
            "marker": {
             "colorbar": {
              "outlinewidth": 0,
              "ticks": ""
             }
            },
            "type": "scattermapbox"
           }
          ],
          "scatterpolar": [
           {
            "marker": {
             "colorbar": {
              "outlinewidth": 0,
              "ticks": ""
             }
            },
            "type": "scatterpolar"
           }
          ],
          "scatterpolargl": [
           {
            "marker": {
             "colorbar": {
              "outlinewidth": 0,
              "ticks": ""
             }
            },
            "type": "scatterpolargl"
           }
          ],
          "scatterternary": [
           {
            "marker": {
             "colorbar": {
              "outlinewidth": 0,
              "ticks": ""
             }
            },
            "type": "scatterternary"
           }
          ],
          "surface": [
           {
            "colorbar": {
             "outlinewidth": 0,
             "ticks": ""
            },
            "colorscale": [
             [
              0,
              "#0d0887"
             ],
             [
              0.1111111111111111,
              "#46039f"
             ],
             [
              0.2222222222222222,
              "#7201a8"
             ],
             [
              0.3333333333333333,
              "#9c179e"
             ],
             [
              0.4444444444444444,
              "#bd3786"
             ],
             [
              0.5555555555555556,
              "#d8576b"
             ],
             [
              0.6666666666666666,
              "#ed7953"
             ],
             [
              0.7777777777777778,
              "#fb9f3a"
             ],
             [
              0.8888888888888888,
              "#fdca26"
             ],
             [
              1,
              "#f0f921"
             ]
            ],
            "type": "surface"
           }
          ],
          "table": [
           {
            "cells": {
             "fill": {
              "color": "#EBF0F8"
             },
             "line": {
              "color": "white"
             }
            },
            "header": {
             "fill": {
              "color": "#C8D4E3"
             },
             "line": {
              "color": "white"
             }
            },
            "type": "table"
           }
          ]
         },
         "layout": {
          "annotationdefaults": {
           "arrowcolor": "#2a3f5f",
           "arrowhead": 0,
           "arrowwidth": 1
          },
          "autotypenumbers": "strict",
          "coloraxis": {
           "colorbar": {
            "outlinewidth": 0,
            "ticks": ""
           }
          },
          "colorscale": {
           "diverging": [
            [
             0,
             "#8e0152"
            ],
            [
             0.1,
             "#c51b7d"
            ],
            [
             0.2,
             "#de77ae"
            ],
            [
             0.3,
             "#f1b6da"
            ],
            [
             0.4,
             "#fde0ef"
            ],
            [
             0.5,
             "#f7f7f7"
            ],
            [
             0.6,
             "#e6f5d0"
            ],
            [
             0.7,
             "#b8e186"
            ],
            [
             0.8,
             "#7fbc41"
            ],
            [
             0.9,
             "#4d9221"
            ],
            [
             1,
             "#276419"
            ]
           ],
           "sequential": [
            [
             0,
             "#0d0887"
            ],
            [
             0.1111111111111111,
             "#46039f"
            ],
            [
             0.2222222222222222,
             "#7201a8"
            ],
            [
             0.3333333333333333,
             "#9c179e"
            ],
            [
             0.4444444444444444,
             "#bd3786"
            ],
            [
             0.5555555555555556,
             "#d8576b"
            ],
            [
             0.6666666666666666,
             "#ed7953"
            ],
            [
             0.7777777777777778,
             "#fb9f3a"
            ],
            [
             0.8888888888888888,
             "#fdca26"
            ],
            [
             1,
             "#f0f921"
            ]
           ],
           "sequentialminus": [
            [
             0,
             "#0d0887"
            ],
            [
             0.1111111111111111,
             "#46039f"
            ],
            [
             0.2222222222222222,
             "#7201a8"
            ],
            [
             0.3333333333333333,
             "#9c179e"
            ],
            [
             0.4444444444444444,
             "#bd3786"
            ],
            [
             0.5555555555555556,
             "#d8576b"
            ],
            [
             0.6666666666666666,
             "#ed7953"
            ],
            [
             0.7777777777777778,
             "#fb9f3a"
            ],
            [
             0.8888888888888888,
             "#fdca26"
            ],
            [
             1,
             "#f0f921"
            ]
           ]
          },
          "colorway": [
           "#636efa",
           "#EF553B",
           "#00cc96",
           "#ab63fa",
           "#FFA15A",
           "#19d3f3",
           "#FF6692",
           "#B6E880",
           "#FF97FF",
           "#FECB52"
          ],
          "font": {
           "color": "#2a3f5f"
          },
          "geo": {
           "bgcolor": "white",
           "lakecolor": "white",
           "landcolor": "#E5ECF6",
           "showlakes": true,
           "showland": true,
           "subunitcolor": "white"
          },
          "hoverlabel": {
           "align": "left"
          },
          "hovermode": "closest",
          "mapbox": {
           "style": "light"
          },
          "paper_bgcolor": "white",
          "plot_bgcolor": "#E5ECF6",
          "polar": {
           "angularaxis": {
            "gridcolor": "white",
            "linecolor": "white",
            "ticks": ""
           },
           "bgcolor": "#E5ECF6",
           "radialaxis": {
            "gridcolor": "white",
            "linecolor": "white",
            "ticks": ""
           }
          },
          "scene": {
           "xaxis": {
            "backgroundcolor": "#E5ECF6",
            "gridcolor": "white",
            "gridwidth": 2,
            "linecolor": "white",
            "showbackground": true,
            "ticks": "",
            "zerolinecolor": "white"
           },
           "yaxis": {
            "backgroundcolor": "#E5ECF6",
            "gridcolor": "white",
            "gridwidth": 2,
            "linecolor": "white",
            "showbackground": true,
            "ticks": "",
            "zerolinecolor": "white"
           },
           "zaxis": {
            "backgroundcolor": "#E5ECF6",
            "gridcolor": "white",
            "gridwidth": 2,
            "linecolor": "white",
            "showbackground": true,
            "ticks": "",
            "zerolinecolor": "white"
           }
          },
          "shapedefaults": {
           "line": {
            "color": "#2a3f5f"
           }
          },
          "ternary": {
           "aaxis": {
            "gridcolor": "white",
            "linecolor": "white",
            "ticks": ""
           },
           "baxis": {
            "gridcolor": "white",
            "linecolor": "white",
            "ticks": ""
           },
           "bgcolor": "#E5ECF6",
           "caxis": {
            "gridcolor": "white",
            "linecolor": "white",
            "ticks": ""
           }
          },
          "title": {
           "x": 0.05
          },
          "xaxis": {
           "automargin": true,
           "gridcolor": "white",
           "linecolor": "white",
           "ticks": "",
           "title": {
            "standoff": 15
           },
           "zerolinecolor": "white",
           "zerolinewidth": 2
          },
          "yaxis": {
           "automargin": true,
           "gridcolor": "white",
           "linecolor": "white",
           "ticks": "",
           "title": {
            "standoff": 15
           },
           "zerolinecolor": "white",
           "zerolinewidth": 2
          }
         }
        },
        "title": {
         "text": "Market Segment별 Customer Type 분포"
        },
        "xaxis": {
         "anchor": "y",
         "domain": [
          0,
          1
         ],
         "tickangle": -45,
         "title": {
          "text": "Market Segment"
         }
        },
        "yaxis": {
         "anchor": "x",
         "domain": [
          0,
          1
         ],
         "tickformat": ".0%",
         "title": {
          "text": "비율"
         }
        }
       }
      }
     },
     "metadata": {},
     "output_type": "display_data"
    },
    {
     "name": "stdout",
     "output_type": "stream",
     "text": [
      "\n",
      "--- Market Segment 내 Distribution Channel 분포 (정규화) ---\n"
     ]
    },
    {
     "data": {
      "text/html": [
       "<style type=\"text/css\">\n",
       "#T_ad632_row0_col0, #T_ad632_row0_col2, #T_ad632_row1_col1, #T_ad632_row1_col3, #T_ad632_row3_col4, #T_ad632_row3_col5, #T_ad632_row3_col6, #T_ad632_row4_col7 {\n",
       "  background-color: #08306b;\n",
       "  color: #f1f1f1;\n",
       "}\n",
       "#T_ad632_row0_col1 {\n",
       "  background-color: #d9e7f5;\n",
       "  color: #000000;\n",
       "}\n",
       "#T_ad632_row0_col3 {\n",
       "  background-color: #f6faff;\n",
       "  color: #000000;\n",
       "}\n",
       "#T_ad632_row0_col4 {\n",
       "  background-color: #e9f2fa;\n",
       "  color: #000000;\n",
       "}\n",
       "#T_ad632_row0_col5 {\n",
       "  background-color: #f5fafe;\n",
       "  color: #000000;\n",
       "}\n",
       "#T_ad632_row0_col6, #T_ad632_row0_col7, #T_ad632_row1_col0, #T_ad632_row1_col5, #T_ad632_row1_col6, #T_ad632_row1_col7, #T_ad632_row2_col0, #T_ad632_row2_col1, #T_ad632_row2_col2, #T_ad632_row2_col3, #T_ad632_row2_col4, #T_ad632_row2_col5, #T_ad632_row2_col6, #T_ad632_row2_col7, #T_ad632_row3_col7, #T_ad632_row4_col0, #T_ad632_row4_col1, #T_ad632_row4_col2, #T_ad632_row4_col3, #T_ad632_row4_col4, #T_ad632_row4_col5, #T_ad632_row4_col6 {\n",
       "  background-color: #f7fbff;\n",
       "  color: #000000;\n",
       "}\n",
       "#T_ad632_row1_col2 {\n",
       "  background-color: #f0f6fd;\n",
       "  color: #000000;\n",
       "}\n",
       "#T_ad632_row1_col4 {\n",
       "  background-color: #e6f0f9;\n",
       "  color: #000000;\n",
       "}\n",
       "#T_ad632_row3_col0 {\n",
       "  background-color: #eef5fc;\n",
       "  color: #000000;\n",
       "}\n",
       "#T_ad632_row3_col1 {\n",
       "  background-color: #dceaf6;\n",
       "  color: #000000;\n",
       "}\n",
       "#T_ad632_row3_col2 {\n",
       "  background-color: #eaf2fb;\n",
       "  color: #000000;\n",
       "}\n",
       "#T_ad632_row3_col3 {\n",
       "  background-color: #f4f9fe;\n",
       "  color: #000000;\n",
       "}\n",
       "</style>\n",
       "<table id=\"T_ad632\">\n",
       "  <thead>\n",
       "    <tr>\n",
       "      <th class=\"index_name level0\" >market_segment</th>\n",
       "      <th id=\"T_ad632_level0_col0\" class=\"col_heading level0 col0\" >Aviation</th>\n",
       "      <th id=\"T_ad632_level0_col1\" class=\"col_heading level0 col1\" >Complementary</th>\n",
       "      <th id=\"T_ad632_level0_col2\" class=\"col_heading level0 col2\" >Corporate</th>\n",
       "      <th id=\"T_ad632_level0_col3\" class=\"col_heading level0 col3\" >Direct</th>\n",
       "      <th id=\"T_ad632_level0_col4\" class=\"col_heading level0 col4\" >Groups</th>\n",
       "      <th id=\"T_ad632_level0_col5\" class=\"col_heading level0 col5\" >Offline TA/TO</th>\n",
       "      <th id=\"T_ad632_level0_col6\" class=\"col_heading level0 col6\" >Online TA</th>\n",
       "      <th id=\"T_ad632_level0_col7\" class=\"col_heading level0 col7\" >Undefined</th>\n",
       "    </tr>\n",
       "    <tr>\n",
       "      <th class=\"index_name level0\" >distribution_channel</th>\n",
       "      <th class=\"blank col0\" >&nbsp;</th>\n",
       "      <th class=\"blank col1\" >&nbsp;</th>\n",
       "      <th class=\"blank col2\" >&nbsp;</th>\n",
       "      <th class=\"blank col3\" >&nbsp;</th>\n",
       "      <th class=\"blank col4\" >&nbsp;</th>\n",
       "      <th class=\"blank col5\" >&nbsp;</th>\n",
       "      <th class=\"blank col6\" >&nbsp;</th>\n",
       "      <th class=\"blank col7\" >&nbsp;</th>\n",
       "    </tr>\n",
       "  </thead>\n",
       "  <tbody>\n",
       "    <tr>\n",
       "      <th id=\"T_ad632_level0_row0\" class=\"row_heading level0 row0\" >Corporate</th>\n",
       "      <td id=\"T_ad632_row0_col0\" class=\"data row0 col0\" >0.957806</td>\n",
       "      <td id=\"T_ad632_row0_col1\" class=\"data row0 col1\" >0.119785</td>\n",
       "      <td id=\"T_ad632_row0_col2\" class=\"data row0 col2\" >0.904249</td>\n",
       "      <td id=\"T_ad632_row0_col3\" class=\"data row0 col3\" >0.007139</td>\n",
       "      <td id=\"T_ad632_row0_col4\" class=\"data row0 col4\" >0.061986</td>\n",
       "      <td id=\"T_ad632_row0_col5\" class=\"data row0 col5\" >0.008753</td>\n",
       "      <td id=\"T_ad632_row0_col6\" class=\"data row0 col6\" >0.000761</td>\n",
       "      <td id=\"T_ad632_row0_col7\" class=\"data row0 col7\" >0.000000</td>\n",
       "    </tr>\n",
       "    <tr>\n",
       "      <th id=\"T_ad632_level0_row1\" class=\"row_heading level0 row1\" >Direct</th>\n",
       "      <td id=\"T_ad632_row1_col0\" class=\"data row1 col0\" >0.000000</td>\n",
       "      <td id=\"T_ad632_row1_col1\" class=\"data row1 col1\" >0.775236</td>\n",
       "      <td id=\"T_ad632_row1_col2\" class=\"data row1 col2\" >0.032483</td>\n",
       "      <td id=\"T_ad632_row1_col3\" class=\"data row1 col3\" >0.973822</td>\n",
       "      <td id=\"T_ad632_row1_col4\" class=\"data row1 col4\" >0.074302</td>\n",
       "      <td id=\"T_ad632_row1_col5\" class=\"data row1 col5\" >0.000661</td>\n",
       "      <td id=\"T_ad632_row1_col6\" class=\"data row1 col6\" >0.002355</td>\n",
       "      <td id=\"T_ad632_row1_col7\" class=\"data row1 col7\" >0.000000</td>\n",
       "    </tr>\n",
       "    <tr>\n",
       "      <th id=\"T_ad632_level0_row2\" class=\"row_heading level0 row2\" >GDS</th>\n",
       "      <td id=\"T_ad632_row2_col0\" class=\"data row2 col0\" >0.000000</td>\n",
       "      <td id=\"T_ad632_row2_col1\" class=\"data row2 col1\" >0.000000</td>\n",
       "      <td id=\"T_ad632_row2_col2\" class=\"data row2 col2\" >0.000000</td>\n",
       "      <td id=\"T_ad632_row2_col3\" class=\"data row2 col3\" >0.000079</td>\n",
       "      <td id=\"T_ad632_row2_col4\" class=\"data row2 col4\" >0.000000</td>\n",
       "      <td id=\"T_ad632_row2_col5\" class=\"data row2 col5\" >0.001858</td>\n",
       "      <td id=\"T_ad632_row2_col6\" class=\"data row2 col6\" >0.002603</td>\n",
       "      <td id=\"T_ad632_row2_col7\" class=\"data row2 col7\" >0.000000</td>\n",
       "    </tr>\n",
       "    <tr>\n",
       "      <th id=\"T_ad632_level0_row3\" class=\"row_heading level0 row3\" >TA/TO</th>\n",
       "      <td id=\"T_ad632_row3_col0\" class=\"data row3 col0\" >0.042194</td>\n",
       "      <td id=\"T_ad632_row3_col1\" class=\"data row3 col1\" >0.104980</td>\n",
       "      <td id=\"T_ad632_row3_col2\" class=\"data row3 col2\" >0.063267</td>\n",
       "      <td id=\"T_ad632_row3_col3\" class=\"data row3 col3\" >0.018801</td>\n",
       "      <td id=\"T_ad632_row3_col4\" class=\"data row3 col4\" >0.863712</td>\n",
       "      <td id=\"T_ad632_row3_col5\" class=\"data row3 col5\" >0.988728</td>\n",
       "      <td id=\"T_ad632_row3_col6\" class=\"data row3 col6\" >0.994263</td>\n",
       "      <td id=\"T_ad632_row3_col7\" class=\"data row3 col7\" >0.000000</td>\n",
       "    </tr>\n",
       "    <tr>\n",
       "      <th id=\"T_ad632_level0_row4\" class=\"row_heading level0 row4\" >Undefined</th>\n",
       "      <td id=\"T_ad632_row4_col0\" class=\"data row4 col0\" >0.000000</td>\n",
       "      <td id=\"T_ad632_row4_col1\" class=\"data row4 col1\" >0.000000</td>\n",
       "      <td id=\"T_ad632_row4_col2\" class=\"data row4 col2\" >0.000000</td>\n",
       "      <td id=\"T_ad632_row4_col3\" class=\"data row4 col3\" >0.000159</td>\n",
       "      <td id=\"T_ad632_row4_col4\" class=\"data row4 col4\" >0.000000</td>\n",
       "      <td id=\"T_ad632_row4_col5\" class=\"data row4 col5\" >0.000000</td>\n",
       "      <td id=\"T_ad632_row4_col6\" class=\"data row4 col6\" >0.000018</td>\n",
       "      <td id=\"T_ad632_row4_col7\" class=\"data row4 col7\" >1.000000</td>\n",
       "    </tr>\n",
       "  </tbody>\n",
       "</table>\n"
      ],
      "text/plain": [
       "<pandas.io.formats.style.Styler at 0x2414a603b10>"
      ]
     },
     "metadata": {},
     "output_type": "display_data"
    },
    {
     "data": {
      "application/vnd.plotly.v1+json": {
       "config": {
        "plotlyServerURL": "https://plot.ly"
       },
       "data": [
        {
         "hovertemplate": "distribution_channel=Corporate<br>Market Segment=%{x}<br>비율=%{y}<extra></extra>",
         "legendgroup": "Corporate",
         "marker": {
          "color": "#636EFA",
          "pattern": {
           "shape": ""
          }
         },
         "name": "Corporate",
         "orientation": "v",
         "showlegend": true,
         "textposition": "auto",
         "type": "bar",
         "x": [
          "Aviation",
          "Complementary",
          "Corporate",
          "Direct",
          "Groups",
          "Offline TA/TO",
          "Online TA",
          "Undefined"
         ],
         "xaxis": "x",
         "y": {
          "bdata": "9yfnklim7j+3NIEPNaq+P8uv9DWc7+w/w8DKgEM+fT8IHiQnmbyvP0x/rz9V7YE/Sv3NrNnySD8AAAAAAAAAAA==",
          "dtype": "f8"
         },
         "yaxis": "y"
        },
        {
         "hovertemplate": "distribution_channel=Direct<br>Market Segment=%{x}<br>비율=%{y}<extra></extra>",
         "legendgroup": "Direct",
         "marker": {
          "color": "#EF553B",
          "pattern": {
           "shape": ""
          }
         },
         "name": "Direct",
         "orientation": "v",
         "showlegend": true,
         "textposition": "auto",
         "type": "bar",
         "x": [
          "Aviation",
          "Complementary",
          "Corporate",
          "Direct",
          "Groups",
          "Offline TA/TO",
          "Online TA",
          "Undefined"
         ],
         "xaxis": "x",
         "y": {
          "bdata": "AAAAAAAAAADLVeG+us7oP7I6Xo2soaA/0Nuku4wp7z8FMFRPdwWzP4LYRwnWpUU/I2CTS6tKYz8AAAAAAAAAAA==",
          "dtype": "f8"
         },
         "yaxis": "y"
        },
        {
         "hovertemplate": "distribution_channel=GDS<br>Market Segment=%{x}<br>비율=%{y}<extra></extra>",
         "legendgroup": "GDS",
         "marker": {
          "color": "#00CC96",
          "pattern": {
           "shape": ""
          }
         },
         "name": "GDS",
         "orientation": "v",
         "showlegend": true,
         "textposition": "auto",
         "type": "bar",
         "x": [
          "Aviation",
          "Complementary",
          "Corporate",
          "Direct",
          "Groups",
          "Offline TA/TO",
          "Online TA",
          "Undefined"
         ],
         "xaxis": "x",
         "y": {
          "bdata": "AAAAAAAAAAAAAAAAAAAAAAAAAAAAAAAAxI6btpDLFD8AAAAAAAAAAHcIDf00cV4/u3d6bodSZT8AAAAAAAAAAA==",
          "dtype": "f8"
         },
         "yaxis": "y"
        },
        {
         "hovertemplate": "distribution_channel=TA/TO<br>Market Segment=%{x}<br>비율=%{y}<extra></extra>",
         "legendgroup": "TA/TO",
         "marker": {
          "color": "#AB63FA",
          "pattern": {
           "shape": ""
          }
         },
         "name": "TA/TO",
         "orientation": "v",
         "showlegend": true,
         "textposition": "auto",
         "type": "bar",
         "x": [
          "Aviation",
          "Complementary",
          "Corporate",
          "Direct",
          "Groups",
          "Offline TA/TO",
          "Online TA",
          "Undefined"
         ],
         "xaxis": "x",
         "y": {
          "bdata": "ioCN0XaapT/xHHT59N+6P1JkqwlIMrA/KwMO+XRAkz8fOKODh6PrP4hpAJuoo+8/cEDY9ADR7z8AAAAAAAAAAA==",
          "dtype": "f8"
         },
         "yaxis": "y"
        },
        {
         "hovertemplate": "distribution_channel=Undefined<br>Market Segment=%{x}<br>비율=%{y}<extra></extra>",
         "legendgroup": "Undefined",
         "marker": {
          "color": "#FFA15A",
          "pattern": {
           "shape": ""
          }
         },
         "name": "Undefined",
         "orientation": "v",
         "showlegend": true,
         "textposition": "auto",
         "type": "bar",
         "x": [
          "Aviation",
          "Complementary",
          "Corporate",
          "Direct",
          "Groups",
          "Offline TA/TO",
          "Online TA",
          "Undefined"
         ],
         "xaxis": "x",
         "y": {
          "bdata": "AAAAAAAAAAAAAAAAAAAAAAAAAAAAAAAAxI6btpDLJD8AAAAAAAAAAAAAAAAAAAAAbUUcPwGR8j4AAAAAAADwPw==",
          "dtype": "f8"
         },
         "yaxis": "y"
        }
       ],
       "layout": {
        "barmode": "relative",
        "legend": {
         "title": {
          "text": "distribution_channel"
         },
         "tracegroupgap": 0
        },
        "template": {
         "data": {
          "bar": [
           {
            "error_x": {
             "color": "#2a3f5f"
            },
            "error_y": {
             "color": "#2a3f5f"
            },
            "marker": {
             "line": {
              "color": "#E5ECF6",
              "width": 0.5
             },
             "pattern": {
              "fillmode": "overlay",
              "size": 10,
              "solidity": 0.2
             }
            },
            "type": "bar"
           }
          ],
          "barpolar": [
           {
            "marker": {
             "line": {
              "color": "#E5ECF6",
              "width": 0.5
             },
             "pattern": {
              "fillmode": "overlay",
              "size": 10,
              "solidity": 0.2
             }
            },
            "type": "barpolar"
           }
          ],
          "carpet": [
           {
            "aaxis": {
             "endlinecolor": "#2a3f5f",
             "gridcolor": "white",
             "linecolor": "white",
             "minorgridcolor": "white",
             "startlinecolor": "#2a3f5f"
            },
            "baxis": {
             "endlinecolor": "#2a3f5f",
             "gridcolor": "white",
             "linecolor": "white",
             "minorgridcolor": "white",
             "startlinecolor": "#2a3f5f"
            },
            "type": "carpet"
           }
          ],
          "choropleth": [
           {
            "colorbar": {
             "outlinewidth": 0,
             "ticks": ""
            },
            "type": "choropleth"
           }
          ],
          "contour": [
           {
            "colorbar": {
             "outlinewidth": 0,
             "ticks": ""
            },
            "colorscale": [
             [
              0,
              "#0d0887"
             ],
             [
              0.1111111111111111,
              "#46039f"
             ],
             [
              0.2222222222222222,
              "#7201a8"
             ],
             [
              0.3333333333333333,
              "#9c179e"
             ],
             [
              0.4444444444444444,
              "#bd3786"
             ],
             [
              0.5555555555555556,
              "#d8576b"
             ],
             [
              0.6666666666666666,
              "#ed7953"
             ],
             [
              0.7777777777777778,
              "#fb9f3a"
             ],
             [
              0.8888888888888888,
              "#fdca26"
             ],
             [
              1,
              "#f0f921"
             ]
            ],
            "type": "contour"
           }
          ],
          "contourcarpet": [
           {
            "colorbar": {
             "outlinewidth": 0,
             "ticks": ""
            },
            "type": "contourcarpet"
           }
          ],
          "heatmap": [
           {
            "colorbar": {
             "outlinewidth": 0,
             "ticks": ""
            },
            "colorscale": [
             [
              0,
              "#0d0887"
             ],
             [
              0.1111111111111111,
              "#46039f"
             ],
             [
              0.2222222222222222,
              "#7201a8"
             ],
             [
              0.3333333333333333,
              "#9c179e"
             ],
             [
              0.4444444444444444,
              "#bd3786"
             ],
             [
              0.5555555555555556,
              "#d8576b"
             ],
             [
              0.6666666666666666,
              "#ed7953"
             ],
             [
              0.7777777777777778,
              "#fb9f3a"
             ],
             [
              0.8888888888888888,
              "#fdca26"
             ],
             [
              1,
              "#f0f921"
             ]
            ],
            "type": "heatmap"
           }
          ],
          "histogram": [
           {
            "marker": {
             "pattern": {
              "fillmode": "overlay",
              "size": 10,
              "solidity": 0.2
             }
            },
            "type": "histogram"
           }
          ],
          "histogram2d": [
           {
            "colorbar": {
             "outlinewidth": 0,
             "ticks": ""
            },
            "colorscale": [
             [
              0,
              "#0d0887"
             ],
             [
              0.1111111111111111,
              "#46039f"
             ],
             [
              0.2222222222222222,
              "#7201a8"
             ],
             [
              0.3333333333333333,
              "#9c179e"
             ],
             [
              0.4444444444444444,
              "#bd3786"
             ],
             [
              0.5555555555555556,
              "#d8576b"
             ],
             [
              0.6666666666666666,
              "#ed7953"
             ],
             [
              0.7777777777777778,
              "#fb9f3a"
             ],
             [
              0.8888888888888888,
              "#fdca26"
             ],
             [
              1,
              "#f0f921"
             ]
            ],
            "type": "histogram2d"
           }
          ],
          "histogram2dcontour": [
           {
            "colorbar": {
             "outlinewidth": 0,
             "ticks": ""
            },
            "colorscale": [
             [
              0,
              "#0d0887"
             ],
             [
              0.1111111111111111,
              "#46039f"
             ],
             [
              0.2222222222222222,
              "#7201a8"
             ],
             [
              0.3333333333333333,
              "#9c179e"
             ],
             [
              0.4444444444444444,
              "#bd3786"
             ],
             [
              0.5555555555555556,
              "#d8576b"
             ],
             [
              0.6666666666666666,
              "#ed7953"
             ],
             [
              0.7777777777777778,
              "#fb9f3a"
             ],
             [
              0.8888888888888888,
              "#fdca26"
             ],
             [
              1,
              "#f0f921"
             ]
            ],
            "type": "histogram2dcontour"
           }
          ],
          "mesh3d": [
           {
            "colorbar": {
             "outlinewidth": 0,
             "ticks": ""
            },
            "type": "mesh3d"
           }
          ],
          "parcoords": [
           {
            "line": {
             "colorbar": {
              "outlinewidth": 0,
              "ticks": ""
             }
            },
            "type": "parcoords"
           }
          ],
          "pie": [
           {
            "automargin": true,
            "type": "pie"
           }
          ],
          "scatter": [
           {
            "fillpattern": {
             "fillmode": "overlay",
             "size": 10,
             "solidity": 0.2
            },
            "type": "scatter"
           }
          ],
          "scatter3d": [
           {
            "line": {
             "colorbar": {
              "outlinewidth": 0,
              "ticks": ""
             }
            },
            "marker": {
             "colorbar": {
              "outlinewidth": 0,
              "ticks": ""
             }
            },
            "type": "scatter3d"
           }
          ],
          "scattercarpet": [
           {
            "marker": {
             "colorbar": {
              "outlinewidth": 0,
              "ticks": ""
             }
            },
            "type": "scattercarpet"
           }
          ],
          "scattergeo": [
           {
            "marker": {
             "colorbar": {
              "outlinewidth": 0,
              "ticks": ""
             }
            },
            "type": "scattergeo"
           }
          ],
          "scattergl": [
           {
            "marker": {
             "colorbar": {
              "outlinewidth": 0,
              "ticks": ""
             }
            },
            "type": "scattergl"
           }
          ],
          "scattermap": [
           {
            "marker": {
             "colorbar": {
              "outlinewidth": 0,
              "ticks": ""
             }
            },
            "type": "scattermap"
           }
          ],
          "scattermapbox": [
           {
            "marker": {
             "colorbar": {
              "outlinewidth": 0,
              "ticks": ""
             }
            },
            "type": "scattermapbox"
           }
          ],
          "scatterpolar": [
           {
            "marker": {
             "colorbar": {
              "outlinewidth": 0,
              "ticks": ""
             }
            },
            "type": "scatterpolar"
           }
          ],
          "scatterpolargl": [
           {
            "marker": {
             "colorbar": {
              "outlinewidth": 0,
              "ticks": ""
             }
            },
            "type": "scatterpolargl"
           }
          ],
          "scatterternary": [
           {
            "marker": {
             "colorbar": {
              "outlinewidth": 0,
              "ticks": ""
             }
            },
            "type": "scatterternary"
           }
          ],
          "surface": [
           {
            "colorbar": {
             "outlinewidth": 0,
             "ticks": ""
            },
            "colorscale": [
             [
              0,
              "#0d0887"
             ],
             [
              0.1111111111111111,
              "#46039f"
             ],
             [
              0.2222222222222222,
              "#7201a8"
             ],
             [
              0.3333333333333333,
              "#9c179e"
             ],
             [
              0.4444444444444444,
              "#bd3786"
             ],
             [
              0.5555555555555556,
              "#d8576b"
             ],
             [
              0.6666666666666666,
              "#ed7953"
             ],
             [
              0.7777777777777778,
              "#fb9f3a"
             ],
             [
              0.8888888888888888,
              "#fdca26"
             ],
             [
              1,
              "#f0f921"
             ]
            ],
            "type": "surface"
           }
          ],
          "table": [
           {
            "cells": {
             "fill": {
              "color": "#EBF0F8"
             },
             "line": {
              "color": "white"
             }
            },
            "header": {
             "fill": {
              "color": "#C8D4E3"
             },
             "line": {
              "color": "white"
             }
            },
            "type": "table"
           }
          ]
         },
         "layout": {
          "annotationdefaults": {
           "arrowcolor": "#2a3f5f",
           "arrowhead": 0,
           "arrowwidth": 1
          },
          "autotypenumbers": "strict",
          "coloraxis": {
           "colorbar": {
            "outlinewidth": 0,
            "ticks": ""
           }
          },
          "colorscale": {
           "diverging": [
            [
             0,
             "#8e0152"
            ],
            [
             0.1,
             "#c51b7d"
            ],
            [
             0.2,
             "#de77ae"
            ],
            [
             0.3,
             "#f1b6da"
            ],
            [
             0.4,
             "#fde0ef"
            ],
            [
             0.5,
             "#f7f7f7"
            ],
            [
             0.6,
             "#e6f5d0"
            ],
            [
             0.7,
             "#b8e186"
            ],
            [
             0.8,
             "#7fbc41"
            ],
            [
             0.9,
             "#4d9221"
            ],
            [
             1,
             "#276419"
            ]
           ],
           "sequential": [
            [
             0,
             "#0d0887"
            ],
            [
             0.1111111111111111,
             "#46039f"
            ],
            [
             0.2222222222222222,
             "#7201a8"
            ],
            [
             0.3333333333333333,
             "#9c179e"
            ],
            [
             0.4444444444444444,
             "#bd3786"
            ],
            [
             0.5555555555555556,
             "#d8576b"
            ],
            [
             0.6666666666666666,
             "#ed7953"
            ],
            [
             0.7777777777777778,
             "#fb9f3a"
            ],
            [
             0.8888888888888888,
             "#fdca26"
            ],
            [
             1,
             "#f0f921"
            ]
           ],
           "sequentialminus": [
            [
             0,
             "#0d0887"
            ],
            [
             0.1111111111111111,
             "#46039f"
            ],
            [
             0.2222222222222222,
             "#7201a8"
            ],
            [
             0.3333333333333333,
             "#9c179e"
            ],
            [
             0.4444444444444444,
             "#bd3786"
            ],
            [
             0.5555555555555556,
             "#d8576b"
            ],
            [
             0.6666666666666666,
             "#ed7953"
            ],
            [
             0.7777777777777778,
             "#fb9f3a"
            ],
            [
             0.8888888888888888,
             "#fdca26"
            ],
            [
             1,
             "#f0f921"
            ]
           ]
          },
          "colorway": [
           "#636efa",
           "#EF553B",
           "#00cc96",
           "#ab63fa",
           "#FFA15A",
           "#19d3f3",
           "#FF6692",
           "#B6E880",
           "#FF97FF",
           "#FECB52"
          ],
          "font": {
           "color": "#2a3f5f"
          },
          "geo": {
           "bgcolor": "white",
           "lakecolor": "white",
           "landcolor": "#E5ECF6",
           "showlakes": true,
           "showland": true,
           "subunitcolor": "white"
          },
          "hoverlabel": {
           "align": "left"
          },
          "hovermode": "closest",
          "mapbox": {
           "style": "light"
          },
          "paper_bgcolor": "white",
          "plot_bgcolor": "#E5ECF6",
          "polar": {
           "angularaxis": {
            "gridcolor": "white",
            "linecolor": "white",
            "ticks": ""
           },
           "bgcolor": "#E5ECF6",
           "radialaxis": {
            "gridcolor": "white",
            "linecolor": "white",
            "ticks": ""
           }
          },
          "scene": {
           "xaxis": {
            "backgroundcolor": "#E5ECF6",
            "gridcolor": "white",
            "gridwidth": 2,
            "linecolor": "white",
            "showbackground": true,
            "ticks": "",
            "zerolinecolor": "white"
           },
           "yaxis": {
            "backgroundcolor": "#E5ECF6",
            "gridcolor": "white",
            "gridwidth": 2,
            "linecolor": "white",
            "showbackground": true,
            "ticks": "",
            "zerolinecolor": "white"
           },
           "zaxis": {
            "backgroundcolor": "#E5ECF6",
            "gridcolor": "white",
            "gridwidth": 2,
            "linecolor": "white",
            "showbackground": true,
            "ticks": "",
            "zerolinecolor": "white"
           }
          },
          "shapedefaults": {
           "line": {
            "color": "#2a3f5f"
           }
          },
          "ternary": {
           "aaxis": {
            "gridcolor": "white",
            "linecolor": "white",
            "ticks": ""
           },
           "baxis": {
            "gridcolor": "white",
            "linecolor": "white",
            "ticks": ""
           },
           "bgcolor": "#E5ECF6",
           "caxis": {
            "gridcolor": "white",
            "linecolor": "white",
            "ticks": ""
           }
          },
          "title": {
           "x": 0.05
          },
          "xaxis": {
           "automargin": true,
           "gridcolor": "white",
           "linecolor": "white",
           "ticks": "",
           "title": {
            "standoff": 15
           },
           "zerolinecolor": "white",
           "zerolinewidth": 2
          },
          "yaxis": {
           "automargin": true,
           "gridcolor": "white",
           "linecolor": "white",
           "ticks": "",
           "title": {
            "standoff": 15
           },
           "zerolinecolor": "white",
           "zerolinewidth": 2
          }
         }
        },
        "title": {
         "text": "Market Segment별 Distribution Channel 분포"
        },
        "xaxis": {
         "anchor": "y",
         "domain": [
          0,
          1
         ],
         "tickangle": -45,
         "title": {
          "text": "Market Segment"
         }
        },
        "yaxis": {
         "anchor": "x",
         "domain": [
          0,
          1
         ],
         "tickformat": ".0%",
         "title": {
          "text": "비율"
         }
        }
       }
      }
     },
     "metadata": {},
     "output_type": "display_data"
    }
   ],
   "source": [
    "import pandas as pd\n",
    "import plotly.express as px\n",
    "\n",
    "# Market Segment와 Customer Type 간의 관계 분석 (정규화된 교차표 및 시각화)\n",
    "print(\"--- Market Segment 내 Customer Type 분포 (정규화) ---\")\n",
    "crosstab_market_customer_normalized = pd.crosstab(df['market_segment'], df['customer_type'], normalize='index')\n",
    "display(crosstab_market_customer_normalized.T.style.background_gradient(cmap='Blues'))\n",
    "\n",
    "# 시각화 (누적 막대 그래프)\n",
    "fig_market_customer = px.bar(crosstab_market_customer_normalized,\n",
    "                             title='Market Segment별 Customer Type 분포',\n",
    "                             labels={'market_segment': 'Market Segment', 'value': '비율', 'variable': 'Customer Type'},\n",
    "                             color_discrete_sequence=px.colors.qualitative.Plotly)\n",
    "fig_market_customer.update_layout(xaxis_tickangle=-45, yaxis_tickformat=\".0%\")\n",
    "fig_market_customer.show()\n",
    "\n",
    "\n",
    "# Market Segment와 Distribution Channel 간의 관계 분석 (정규화된 교차표 및 시각화)\n",
    "print(\"\\n--- Market Segment 내 Distribution Channel 분포 (정규화) ---\")\n",
    "crosstab_market_channel_normalized = pd.crosstab(df['market_segment'], df['distribution_channel'], normalize='index')\n",
    "display(crosstab_market_channel_normalized.T.style.background_gradient(cmap='Blues'))\n",
    "\n",
    "# 시각화 (누적 막대 그래프)\n",
    "fig_market_channel = px.bar(crosstab_market_channel_normalized,\n",
    "                             title='Market Segment별 Distribution Channel 분포',\n",
    "                             labels={'market_segment': 'Market Segment', 'value': '비율', 'variable': 'Distribution Channel'},\n",
    "                             color_discrete_sequence=px.colors.qualitative.Plotly)\n",
    "fig_market_channel.update_layout(xaxis_tickangle=-45, yaxis_tickformat=\".0%\")\n",
    "fig_market_channel.show()"
   ]
  },
  {
   "cell_type": "markdown",
   "id": "c39d45c9",
   "metadata": {},
   "source": [
    "**추가 Market Segment 관계 분석 결과 요약:** Market Segment와 다른 범주형 변수(Customer Type, Distribution Channel) 간의 관계를 교차표로 살펴본 결과, 각 Market Segment는 특정 Customer Type이나 Distribution Channel과 연관성이 있음을 확인했습니다."
   ]
  },
  {
   "cell_type": "markdown",
   "id": "a24bcc70",
   "metadata": {},
   "source": [
    "## 3. Distribution Channel 분석\n",
    "\n",
    "이 섹션에서는 Distribution Channel 변수에 대한 EDA를 수행합니다. Distribution Channel이 예약 특성에 미치는 영향을 분석합니다."
   ]
  },
  {
   "cell_type": "markdown",
   "id": "b6009f0e",
   "metadata": {},
   "source": [
    "### 3.1 Distribution Channel 분포 확인"
   ]
  },
  {
   "cell_type": "markdown",
   "id": "75d2c551",
   "metadata": {},
   "source": [
    "**Distribution Channel 분포 확인 결과 요약:** Distribution Channel 분포를 확인한 결과, TA/TO 채널을 통한 예약이 압도적으로 많았으며, Direct, Corporate 채널이 그 뒤를 이었습니다. Undefined 채널은 매우 적었습니다."
   ]
  },
  {
   "cell_type": "code",
   "execution_count": null,
   "id": "ef2ae6d4",
   "metadata": {},
   "outputs": [
    {
     "name": "stdout",
     "output_type": "stream",
     "text": [
      "Distribution Channel 분포:\n"
     ]
    },
    {
     "data": {
      "text/plain": [
       "distribution_channel\n",
       "TA/TO        97870\n",
       "Direct       14645\n",
       "Corporate     6677\n",
       "GDS            193\n",
       "Undefined        5\n",
       "Name: count, dtype: int64"
      ]
     },
     "metadata": {},
     "output_type": "display_data"
    },
    {
     "data": {
      "application/vnd.plotly.v1+json": {
       "config": {
        "plotlyServerURL": "https://plot.ly"
       },
       "data": [
        {
         "domain": {
          "x": [
           0,
           1
          ],
          "y": [
           0,
           1
          ]
         },
         "hovertemplate": "label=%{label}<br>value=%{value}<extra></extra>",
         "labels": [
          "TA/TO",
          "Direct",
          "Corporate",
          "GDS",
          "Undefined"
         ],
         "legendgroup": "",
         "name": "",
         "showlegend": true,
         "textinfo": "percent+label",
         "textposition": "inside",
         "type": "pie",
         "values": {
          "bdata": "Tn4BADU5AAAVGgAAwQAAAAUAAAA=",
          "dtype": "i4"
         }
        }
       ],
       "layout": {
        "legend": {
         "tracegroupgap": 0
        },
        "piecolorway": [
         "#636EFA",
         "#EF553B",
         "#00CC96",
         "#AB63FA",
         "#FFA15A",
         "#19D3F3",
         "#FF6692",
         "#B6E880",
         "#FF97FF",
         "#FECB52"
        ],
        "template": {
         "data": {
          "bar": [
           {
            "error_x": {
             "color": "#2a3f5f"
            },
            "error_y": {
             "color": "#2a3f5f"
            },
            "marker": {
             "line": {
              "color": "#E5ECF6",
              "width": 0.5
             },
             "pattern": {
              "fillmode": "overlay",
              "size": 10,
              "solidity": 0.2
             }
            },
            "type": "bar"
           }
          ],
          "barpolar": [
           {
            "marker": {
             "line": {
              "color": "#E5ECF6",
              "width": 0.5
             },
             "pattern": {
              "fillmode": "overlay",
              "size": 10,
              "solidity": 0.2
             }
            },
            "type": "barpolar"
           }
          ],
          "carpet": [
           {
            "aaxis": {
             "endlinecolor": "#2a3f5f",
             "gridcolor": "white",
             "linecolor": "white",
             "minorgridcolor": "white",
             "startlinecolor": "#2a3f5f"
            },
            "baxis": {
             "endlinecolor": "#2a3f5f",
             "gridcolor": "white",
             "linecolor": "white",
             "minorgridcolor": "white",
             "startlinecolor": "#2a3f5f"
            },
            "type": "carpet"
           }
          ],
          "choropleth": [
           {
            "colorbar": {
             "outlinewidth": 0,
             "ticks": ""
            },
            "type": "choropleth"
           }
          ],
          "contour": [
           {
            "colorbar": {
             "outlinewidth": 0,
             "ticks": ""
            },
            "colorscale": [
             [
              0,
              "#0d0887"
             ],
             [
              0.1111111111111111,
              "#46039f"
             ],
             [
              0.2222222222222222,
              "#7201a8"
             ],
             [
              0.3333333333333333,
              "#9c179e"
             ],
             [
              0.4444444444444444,
              "#bd3786"
             ],
             [
              0.5555555555555556,
              "#d8576b"
             ],
             [
              0.6666666666666666,
              "#ed7953"
             ],
             [
              0.7777777777777778,
              "#fb9f3a"
             ],
             [
              0.8888888888888888,
              "#fdca26"
             ],
             [
              1,
              "#f0f921"
             ]
            ],
            "type": "contour"
           }
          ],
          "contourcarpet": [
           {
            "colorbar": {
             "outlinewidth": 0,
             "ticks": ""
            },
            "type": "contourcarpet"
           }
          ],
          "heatmap": [
           {
            "colorbar": {
             "outlinewidth": 0,
             "ticks": ""
            },
            "colorscale": [
             [
              0,
              "#0d0887"
             ],
             [
              0.1111111111111111,
              "#46039f"
             ],
             [
              0.2222222222222222,
              "#7201a8"
             ],
             [
              0.3333333333333333,
              "#9c179e"
             ],
             [
              0.4444444444444444,
              "#bd3786"
             ],
             [
              0.5555555555555556,
              "#d8576b"
             ],
             [
              0.6666666666666666,
              "#ed7953"
             ],
             [
              0.7777777777777778,
              "#fb9f3a"
             ],
             [
              0.8888888888888888,
              "#fdca26"
             ],
             [
              1,
              "#f0f921"
             ]
            ],
            "type": "heatmap"
           }
          ],
          "histogram": [
           {
            "marker": {
             "pattern": {
              "fillmode": "overlay",
              "size": 10,
              "solidity": 0.2
             }
            },
            "type": "histogram"
           }
          ],
          "histogram2d": [
           {
            "colorbar": {
             "outlinewidth": 0,
             "ticks": ""
            },
            "colorscale": [
             [
              0,
              "#0d0887"
             ],
             [
              0.1111111111111111,
              "#46039f"
             ],
             [
              0.2222222222222222,
              "#7201a8"
             ],
             [
              0.3333333333333333,
              "#9c179e"
             ],
             [
              0.4444444444444444,
              "#bd3786"
             ],
             [
              0.5555555555555556,
              "#d8576b"
             ],
             [
              0.6666666666666666,
              "#ed7953"
             ],
             [
              0.7777777777777778,
              "#fb9f3a"
             ],
             [
              0.8888888888888888,
              "#fdca26"
             ],
             [
              1,
              "#f0f921"
             ]
            ],
            "type": "histogram2d"
           }
          ],
          "histogram2dcontour": [
           {
            "colorbar": {
             "outlinewidth": 0,
             "ticks": ""
            },
            "colorscale": [
             [
              0,
              "#0d0887"
             ],
             [
              0.1111111111111111,
              "#46039f"
             ],
             [
              0.2222222222222222,
              "#7201a8"
             ],
             [
              0.3333333333333333,
              "#9c179e"
             ],
             [
              0.4444444444444444,
              "#bd3786"
             ],
             [
              0.5555555555555556,
              "#d8576b"
             ],
             [
              0.6666666666666666,
              "#ed7953"
             ],
             [
              0.7777777777777778,
              "#fb9f3a"
             ],
             [
              0.8888888888888888,
              "#fdca26"
             ],
             [
              1,
              "#f0f921"
             ]
            ],
            "type": "histogram2dcontour"
           }
          ],
          "mesh3d": [
           {
            "colorbar": {
             "outlinewidth": 0,
             "ticks": ""
            },
            "type": "mesh3d"
           }
          ],
          "parcoords": [
           {
            "line": {
             "colorbar": {
              "outlinewidth": 0,
              "ticks": ""
             }
            },
            "type": "parcoords"
           }
          ],
          "pie": [
           {
            "automargin": true,
            "type": "pie"
           }
          ],
          "scatter": [
           {
            "fillpattern": {
             "fillmode": "overlay",
             "size": 10,
             "solidity": 0.2
            },
            "type": "scatter"
           }
          ],
          "scatter3d": [
           {
            "line": {
             "colorbar": {
              "outlinewidth": 0,
              "ticks": ""
             }
            },
            "marker": {
             "colorbar": {
              "outlinewidth": 0,
              "ticks": ""
             }
            },
            "type": "scatter3d"
           }
          ],
          "scattercarpet": [
           {
            "marker": {
             "colorbar": {
              "outlinewidth": 0,
              "ticks": ""
             }
            },
            "type": "scattercarpet"
           }
          ],
          "scattergeo": [
           {
            "marker": {
             "colorbar": {
              "outlinewidth": 0,
              "ticks": ""
             }
            },
            "type": "scattergeo"
           }
          ],
          "scattergl": [
           {
            "marker": {
             "colorbar": {
              "outlinewidth": 0,
              "ticks": ""
             }
            },
            "type": "scattergl"
           }
          ],
          "scattermap": [
           {
            "marker": {
             "colorbar": {
              "outlinewidth": 0,
              "ticks": ""
             }
            },
            "type": "scattermap"
           }
          ],
          "scattermapbox": [
           {
            "marker": {
             "colorbar": {
              "outlinewidth": 0,
              "ticks": ""
             }
            },
            "type": "scattermapbox"
           }
          ],
          "scatterpolar": [
           {
            "marker": {
             "colorbar": {
              "outlinewidth": 0,
              "ticks": ""
             }
            },
            "type": "scatterpolar"
           }
          ],
          "scatterpolargl": [
           {
            "marker": {
             "colorbar": {
              "outlinewidth": 0,
              "ticks": ""
             }
            },
            "type": "scatterpolargl"
           }
          ],
          "scatterternary": [
           {
            "marker": {
             "colorbar": {
              "outlinewidth": 0,
              "ticks": ""
             }
            },
            "type": "scatterternary"
           }
          ],
          "surface": [
           {
            "colorbar": {
             "outlinewidth": 0,
             "ticks": ""
            },
            "colorscale": [
             [
              0,
              "#0d0887"
             ],
             [
              0.1111111111111111,
              "#46039f"
             ],
             [
              0.2222222222222222,
              "#7201a8"
             ],
             [
              0.3333333333333333,
              "#9c179e"
             ],
             [
              0.4444444444444444,
              "#bd3786"
             ],
             [
              0.5555555555555556,
              "#d8576b"
             ],
             [
              0.6666666666666666,
              "#ed7953"
             ],
             [
              0.7777777777777778,
              "#fb9f3a"
             ],
             [
              0.8888888888888888,
              "#fdca26"
             ],
             [
              1,
              "#f0f921"
             ]
            ],
            "type": "surface"
           }
          ],
          "table": [
           {
            "cells": {
             "fill": {
              "color": "#EBF0F8"
             },
             "line": {
              "color": "white"
             }
            },
            "header": {
             "fill": {
              "color": "#C8D4E3"
             },
             "line": {
              "color": "white"
             }
            },
            "type": "table"
           }
          ]
         },
         "layout": {
          "annotationdefaults": {
           "arrowcolor": "#2a3f5f",
           "arrowhead": 0,
           "arrowwidth": 1
          },
          "autotypenumbers": "strict",
          "coloraxis": {
           "colorbar": {
            "outlinewidth": 0,
            "ticks": ""
           }
          },
          "colorscale": {
           "diverging": [
            [
             0,
             "#8e0152"
            ],
            [
             0.1,
             "#c51b7d"
            ],
            [
             0.2,
             "#de77ae"
            ],
            [
             0.3,
             "#f1b6da"
            ],
            [
             0.4,
             "#fde0ef"
            ],
            [
             0.5,
             "#f7f7f7"
            ],
            [
             0.6,
             "#e6f5d0"
            ],
            [
             0.7,
             "#b8e186"
            ],
            [
             0.8,
             "#7fbc41"
            ],
            [
             0.9,
             "#4d9221"
            ],
            [
             1,
             "#276419"
            ]
           ],
           "sequential": [
            [
             0,
             "#0d0887"
            ],
            [
             0.1111111111111111,
             "#46039f"
            ],
            [
             0.2222222222222222,
             "#7201a8"
            ],
            [
             0.3333333333333333,
             "#9c179e"
            ],
            [
             0.4444444444444444,
             "#bd3786"
            ],
            [
             0.5555555555555556,
             "#d8576b"
            ],
            [
             0.6666666666666666,
             "#ed7953"
            ],
            [
             0.7777777777777778,
             "#fb9f3a"
            ],
            [
             0.8888888888888888,
             "#fdca26"
            ],
            [
             1,
             "#f0f921"
            ]
           ],
           "sequentialminus": [
            [
             0,
             "#0d0887"
            ],
            [
             0.1111111111111111,
             "#46039f"
            ],
            [
             0.2222222222222222,
             "#7201a8"
            ],
            [
             0.3333333333333333,
             "#9c179e"
            ],
            [
             0.4444444444444444,
             "#bd3786"
            ],
            [
             0.5555555555555556,
             "#d8576b"
            ],
            [
             0.6666666666666666,
             "#ed7953"
            ],
            [
             0.7777777777777778,
             "#fb9f3a"
            ],
            [
             0.8888888888888888,
             "#fdca26"
            ],
            [
             1,
             "#f0f921"
            ]
           ]
          },
          "colorway": [
           "#636efa",
           "#EF553B",
           "#00cc96",
           "#ab63fa",
           "#FFA15A",
           "#19d3f3",
           "#FF6692",
           "#B6E880",
           "#FF97FF",
           "#FECB52"
          ],
          "font": {
           "color": "#2a3f5f"
          },
          "geo": {
           "bgcolor": "white",
           "lakecolor": "white",
           "landcolor": "#E5ECF6",
           "showlakes": true,
           "showland": true,
           "subunitcolor": "white"
          },
          "hoverlabel": {
           "align": "left"
          },
          "hovermode": "closest",
          "mapbox": {
           "style": "light"
          },
          "paper_bgcolor": "white",
          "plot_bgcolor": "#E5ECF6",
          "polar": {
           "angularaxis": {
            "gridcolor": "white",
            "linecolor": "white",
            "ticks": ""
           },
           "bgcolor": "#E5ECF6",
           "radialaxis": {
            "gridcolor": "white",
            "linecolor": "white",
            "ticks": ""
           }
          },
          "scene": {
           "xaxis": {
            "backgroundcolor": "#E5ECF6",
            "gridcolor": "white",
            "gridwidth": 2,
            "linecolor": "white",
            "showbackground": true,
            "ticks": "",
            "zerolinecolor": "white"
           },
           "yaxis": {
            "backgroundcolor": "#E5ECF6",
            "gridcolor": "white",
            "gridwidth": 2,
            "linecolor": "white",
            "showbackground": true,
            "ticks": "",
            "zerolinecolor": "white"
           },
           "zaxis": {
            "backgroundcolor": "#E5ECF6",
            "gridcolor": "white",
            "gridwidth": 2,
            "linecolor": "white",
            "showbackground": true,
            "ticks": "",
            "zerolinecolor": "white"
           }
          },
          "shapedefaults": {
           "line": {
            "color": "#2a3f5f"
           }
          },
          "ternary": {
           "aaxis": {
            "gridcolor": "white",
            "linecolor": "white",
            "ticks": ""
           },
           "baxis": {
            "gridcolor": "white",
            "linecolor": "white",
            "ticks": ""
           },
           "bgcolor": "#E5ECF6",
           "caxis": {
            "gridcolor": "white",
            "linecolor": "white",
            "ticks": ""
           }
          },
          "title": {
           "x": 0.05
          },
          "xaxis": {
           "automargin": true,
           "gridcolor": "white",
           "linecolor": "white",
           "ticks": "",
           "title": {
            "standoff": 15
           },
           "zerolinecolor": "white",
           "zerolinewidth": 2
          },
          "yaxis": {
           "automargin": true,
           "gridcolor": "white",
           "linecolor": "white",
           "ticks": "",
           "title": {
            "standoff": 15
           },
           "zerolinecolor": "white",
           "zerolinewidth": 2
          }
         }
        },
        "title": {
         "text": "Distribution Channel 분포"
        },
        "uniformtext": {
         "minsize": 12,
         "mode": "hide"
        }
       }
      }
     },
     "metadata": {},
     "output_type": "display_data"
    }
   ],
   "source": [
    "# Distribution Channel 분포 확인\n",
    "distribution_channel_counts = df['distribution_channel'].value_counts()\n",
    "\n",
    "print(\"Distribution Channel 분포:\")\n",
    "display(distribution_channel_counts)\n",
    "\n",
    "# Distribution Channel 분포 시각화 (Plotly 파이 차트)\n",
    "fig = px.pie(names=distribution_channel_counts.index, values=distribution_channel_counts.values,\n",
    "             title='Distribution Channel 분포',\n",
    "             color_discrete_sequence=px.colors.qualitative.Plotly) # Plotly 기본 색상 스케일 사용\n",
    "fig.update_traces(textposition='inside', textinfo='percent+label') # 텍스트 위치 및 정보 설정\n",
    "fig.update_layout(uniformtext_minsize=12, uniformtext_mode='hide') # 텍스트 크기 설정\n",
    "fig.show()"
   ]
  },
  {
   "cell_type": "markdown",
   "id": "913cd794",
   "metadata": {},
   "source": [
    "### 3.2 Distribution Channel과 취소 여부 (is canceled) 관계 분석"
   ]
  },
  {
   "cell_type": "markdown",
   "id": "8e72937a",
   "metadata": {},
   "source": [
    "**Distribution Channel과 취소 여부 관계 분석 결과 요약:** Distribution Channel별 취소율을 분석한 결과, TA/TO 채널의 취소율이 가장 높았고, Corporate 및 Direct 채널의 취소율은 상대적으로 낮았습니다."
   ]
  },
  {
   "cell_type": "code",
   "execution_count": null,
   "id": "2699fc3f",
   "metadata": {},
   "outputs": [
    {
     "name": "stdout",
     "output_type": "stream",
     "text": [
      "\n",
      "Distribution Channel별 예약 취소율:\n"
     ]
    },
    {
     "data": {
      "text/plain": [
       "distribution_channel\n",
       "Undefined    0.800000\n",
       "TA/TO        0.410259\n",
       "Corporate    0.220758\n",
       "GDS          0.191710\n",
       "Direct       0.174599\n",
       "Name: is_canceled, dtype: float64"
      ]
     },
     "metadata": {},
     "output_type": "display_data"
    },
    {
     "name": "stdout",
     "output_type": "stream",
     "text": [
      "\n",
      "전체 평균 예약 취소율: 37.04%\n"
     ]
    },
    {
     "data": {
      "application/vnd.plotly.v1+json": {
       "config": {
        "plotlyServerURL": "https://plot.ly"
       },
       "data": [
        {
         "hovertemplate": "color=Undefined<br>Distribution Channel=%{x}<br>예약 취소율=%{y}<br>text=%{text}<extra></extra>",
         "legendgroup": "Undefined",
         "marker": {
          "color": "#636EFA",
          "pattern": {
           "shape": ""
          }
         },
         "name": "Undefined",
         "orientation": "v",
         "showlegend": true,
         "text": [
          "80.00%"
         ],
         "textposition": "outside",
         "type": "bar",
         "x": [
          "Undefined"
         ],
         "xaxis": "x",
         "y": {
          "bdata": "mpmZmZmZ6T8=",
          "dtype": "f8"
         },
         "yaxis": "y"
        },
        {
         "hovertemplate": "color=TA/TO<br>Distribution Channel=%{x}<br>예약 취소율=%{y}<br>text=%{text}<extra></extra>",
         "legendgroup": "TA/TO",
         "marker": {
          "color": "#EF553B",
          "pattern": {
           "shape": ""
          }
         },
         "name": "TA/TO",
         "orientation": "v",
         "showlegend": true,
         "text": [
          "41.03%"
         ],
         "textposition": "outside",
         "type": "bar",
         "x": [
          "TA/TO"
         ],
         "xaxis": "x",
         "y": {
          "bdata": "fTC95KxB2j8=",
          "dtype": "f8"
         },
         "yaxis": "y"
        },
        {
         "hovertemplate": "color=Corporate<br>Distribution Channel=%{x}<br>예약 취소율=%{y}<br>text=%{text}<extra></extra>",
         "legendgroup": "Corporate",
         "marker": {
          "color": "#00CC96",
          "pattern": {
           "shape": ""
          }
         },
         "name": "Corporate",
         "orientation": "v",
         "showlegend": true,
         "text": [
          "22.08%"
         ],
         "textposition": "outside",
         "type": "bar",
         "x": [
          "Corporate"
         ],
         "xaxis": "x",
         "y": {
          "bdata": "+Mwm3MpBzD8=",
          "dtype": "f8"
         },
         "yaxis": "y"
        },
        {
         "hovertemplate": "color=GDS<br>Distribution Channel=%{x}<br>예약 취소율=%{y}<br>text=%{text}<extra></extra>",
         "legendgroup": "GDS",
         "marker": {
          "color": "#AB63FA",
          "pattern": {
           "shape": ""
          }
         },
         "name": "GDS",
         "orientation": "v",
         "showlegend": true,
         "text": [
          "19.17%"
         ],
         "textposition": "outside",
         "type": "bar",
         "x": [
          "GDS"
         ],
         "xaxis": "x",
         "y": {
          "bdata": "ZzJavPKJyD8=",
          "dtype": "f8"
         },
         "yaxis": "y"
        },
        {
         "hovertemplate": "color=Direct<br>Distribution Channel=%{x}<br>예약 취소율=%{y}<br>text=%{text}<extra></extra>",
         "legendgroup": "Direct",
         "marker": {
          "color": "#FFA15A",
          "pattern": {
           "shape": ""
          }
         },
         "name": "Direct",
         "orientation": "v",
         "showlegend": true,
         "text": [
          "17.46%"
         ],
         "textposition": "outside",
         "type": "bar",
         "x": [
          "Direct"
         ],
         "xaxis": "x",
         "y": {
          "bdata": "jSQhOEFZxj8=",
          "dtype": "f8"
         },
         "yaxis": "y"
        }
       ],
       "layout": {
        "annotations": [
         {
          "showarrow": false,
          "text": "전체 평균: 37.04%",
          "x": 1,
          "xanchor": "right",
          "xref": "x domain",
          "y": 0.37041628277075134,
          "yanchor": "top",
          "yref": "y"
         }
        ],
        "barmode": "relative",
        "legend": {
         "title": {
          "text": "color"
         },
         "tracegroupgap": 0
        },
        "shapes": [
         {
          "line": {
           "color": "red",
           "dash": "dash"
          },
          "type": "line",
          "x0": 0,
          "x1": 1,
          "xref": "x domain",
          "y0": 0.37041628277075134,
          "y1": 0.37041628277075134,
          "yref": "y"
         }
        ],
        "template": {
         "data": {
          "bar": [
           {
            "error_x": {
             "color": "#2a3f5f"
            },
            "error_y": {
             "color": "#2a3f5f"
            },
            "marker": {
             "line": {
              "color": "#E5ECF6",
              "width": 0.5
             },
             "pattern": {
              "fillmode": "overlay",
              "size": 10,
              "solidity": 0.2
             }
            },
            "type": "bar"
           }
          ],
          "barpolar": [
           {
            "marker": {
             "line": {
              "color": "#E5ECF6",
              "width": 0.5
             },
             "pattern": {
              "fillmode": "overlay",
              "size": 10,
              "solidity": 0.2
             }
            },
            "type": "barpolar"
           }
          ],
          "carpet": [
           {
            "aaxis": {
             "endlinecolor": "#2a3f5f",
             "gridcolor": "white",
             "linecolor": "white",
             "minorgridcolor": "white",
             "startlinecolor": "#2a3f5f"
            },
            "baxis": {
             "endlinecolor": "#2a3f5f",
             "gridcolor": "white",
             "linecolor": "white",
             "minorgridcolor": "white",
             "startlinecolor": "#2a3f5f"
            },
            "type": "carpet"
           }
          ],
          "choropleth": [
           {
            "colorbar": {
             "outlinewidth": 0,
             "ticks": ""
            },
            "type": "choropleth"
           }
          ],
          "contour": [
           {
            "colorbar": {
             "outlinewidth": 0,
             "ticks": ""
            },
            "colorscale": [
             [
              0,
              "#0d0887"
             ],
             [
              0.1111111111111111,
              "#46039f"
             ],
             [
              0.2222222222222222,
              "#7201a8"
             ],
             [
              0.3333333333333333,
              "#9c179e"
             ],
             [
              0.4444444444444444,
              "#bd3786"
             ],
             [
              0.5555555555555556,
              "#d8576b"
             ],
             [
              0.6666666666666666,
              "#ed7953"
             ],
             [
              0.7777777777777778,
              "#fb9f3a"
             ],
             [
              0.8888888888888888,
              "#fdca26"
             ],
             [
              1,
              "#f0f921"
             ]
            ],
            "type": "contour"
           }
          ],
          "contourcarpet": [
           {
            "colorbar": {
             "outlinewidth": 0,
             "ticks": ""
            },
            "type": "contourcarpet"
           }
          ],
          "heatmap": [
           {
            "colorbar": {
             "outlinewidth": 0,
             "ticks": ""
            },
            "colorscale": [
             [
              0,
              "#0d0887"
             ],
             [
              0.1111111111111111,
              "#46039f"
             ],
             [
              0.2222222222222222,
              "#7201a8"
             ],
             [
              0.3333333333333333,
              "#9c179e"
             ],
             [
              0.4444444444444444,
              "#bd3786"
             ],
             [
              0.5555555555555556,
              "#d8576b"
             ],
             [
              0.6666666666666666,
              "#ed7953"
             ],
             [
              0.7777777777777778,
              "#fb9f3a"
             ],
             [
              0.8888888888888888,
              "#fdca26"
             ],
             [
              1,
              "#f0f921"
             ]
            ],
            "type": "heatmap"
           }
          ],
          "histogram": [
           {
            "marker": {
             "pattern": {
              "fillmode": "overlay",
              "size": 10,
              "solidity": 0.2
             }
            },
            "type": "histogram"
           }
          ],
          "histogram2d": [
           {
            "colorbar": {
             "outlinewidth": 0,
             "ticks": ""
            },
            "colorscale": [
             [
              0,
              "#0d0887"
             ],
             [
              0.1111111111111111,
              "#46039f"
             ],
             [
              0.2222222222222222,
              "#7201a8"
             ],
             [
              0.3333333333333333,
              "#9c179e"
             ],
             [
              0.4444444444444444,
              "#bd3786"
             ],
             [
              0.5555555555555556,
              "#d8576b"
             ],
             [
              0.6666666666666666,
              "#ed7953"
             ],
             [
              0.7777777777777778,
              "#fb9f3a"
             ],
             [
              0.8888888888888888,
              "#fdca26"
             ],
             [
              1,
              "#f0f921"
             ]
            ],
            "type": "histogram2d"
           }
          ],
          "histogram2dcontour": [
           {
            "colorbar": {
             "outlinewidth": 0,
             "ticks": ""
            },
            "colorscale": [
             [
              0,
              "#0d0887"
             ],
             [
              0.1111111111111111,
              "#46039f"
             ],
             [
              0.2222222222222222,
              "#7201a8"
             ],
             [
              0.3333333333333333,
              "#9c179e"
             ],
             [
              0.4444444444444444,
              "#bd3786"
             ],
             [
              0.5555555555555556,
              "#d8576b"
             ],
             [
              0.6666666666666666,
              "#ed7953"
             ],
             [
              0.7777777777777778,
              "#fb9f3a"
             ],
             [
              0.8888888888888888,
              "#fdca26"
             ],
             [
              1,
              "#f0f921"
             ]
            ],
            "type": "histogram2dcontour"
           }
          ],
          "mesh3d": [
           {
            "colorbar": {
             "outlinewidth": 0,
             "ticks": ""
            },
            "type": "mesh3d"
           }
          ],
          "parcoords": [
           {
            "line": {
             "colorbar": {
              "outlinewidth": 0,
              "ticks": ""
             }
            },
            "type": "parcoords"
           }
          ],
          "pie": [
           {
            "automargin": true,
            "type": "pie"
           }
          ],
          "scatter": [
           {
            "fillpattern": {
             "fillmode": "overlay",
             "size": 10,
             "solidity": 0.2
            },
            "type": "scatter"
           }
          ],
          "scatter3d": [
           {
            "line": {
             "colorbar": {
              "outlinewidth": 0,
              "ticks": ""
             }
            },
            "marker": {
             "colorbar": {
              "outlinewidth": 0,
              "ticks": ""
             }
            },
            "type": "scatter3d"
           }
          ],
          "scattercarpet": [
           {
            "marker": {
             "colorbar": {
              "outlinewidth": 0,
              "ticks": ""
             }
            },
            "type": "scattercarpet"
           }
          ],
          "scattergeo": [
           {
            "marker": {
             "colorbar": {
              "outlinewidth": 0,
              "ticks": ""
             }
            },
            "type": "scattergeo"
           }
          ],
          "scattergl": [
           {
            "marker": {
             "colorbar": {
              "outlinewidth": 0,
              "ticks": ""
             }
            },
            "type": "scattergl"
           }
          ],
          "scattermap": [
           {
            "marker": {
             "colorbar": {
              "outlinewidth": 0,
              "ticks": ""
             }
            },
            "type": "scattermap"
           }
          ],
          "scattermapbox": [
           {
            "marker": {
             "colorbar": {
              "outlinewidth": 0,
              "ticks": ""
             }
            },
            "type": "scattermapbox"
           }
          ],
          "scatterpolar": [
           {
            "marker": {
             "colorbar": {
              "outlinewidth": 0,
              "ticks": ""
             }
            },
            "type": "scatterpolar"
           }
          ],
          "scatterpolargl": [
           {
            "marker": {
             "colorbar": {
              "outlinewidth": 0,
              "ticks": ""
             }
            },
            "type": "scatterpolargl"
           }
          ],
          "scatterternary": [
           {
            "marker": {
             "colorbar": {
              "outlinewidth": 0,
              "ticks": ""
             }
            },
            "type": "scatterternary"
           }
          ],
          "surface": [
           {
            "colorbar": {
             "outlinewidth": 0,
             "ticks": ""
            },
            "colorscale": [
             [
              0,
              "#0d0887"
             ],
             [
              0.1111111111111111,
              "#46039f"
             ],
             [
              0.2222222222222222,
              "#7201a8"
             ],
             [
              0.3333333333333333,
              "#9c179e"
             ],
             [
              0.4444444444444444,
              "#bd3786"
             ],
             [
              0.5555555555555556,
              "#d8576b"
             ],
             [
              0.6666666666666666,
              "#ed7953"
             ],
             [
              0.7777777777777778,
              "#fb9f3a"
             ],
             [
              0.8888888888888888,
              "#fdca26"
             ],
             [
              1,
              "#f0f921"
             ]
            ],
            "type": "surface"
           }
          ],
          "table": [
           {
            "cells": {
             "fill": {
              "color": "#EBF0F8"
             },
             "line": {
              "color": "white"
             }
            },
            "header": {
             "fill": {
              "color": "#C8D4E3"
             },
             "line": {
              "color": "white"
             }
            },
            "type": "table"
           }
          ]
         },
         "layout": {
          "annotationdefaults": {
           "arrowcolor": "#2a3f5f",
           "arrowhead": 0,
           "arrowwidth": 1
          },
          "autotypenumbers": "strict",
          "coloraxis": {
           "colorbar": {
            "outlinewidth": 0,
            "ticks": ""
           }
          },
          "colorscale": {
           "diverging": [
            [
             0,
             "#8e0152"
            ],
            [
             0.1,
             "#c51b7d"
            ],
            [
             0.2,
             "#de77ae"
            ],
            [
             0.3,
             "#f1b6da"
            ],
            [
             0.4,
             "#fde0ef"
            ],
            [
             0.5,
             "#f7f7f7"
            ],
            [
             0.6,
             "#e6f5d0"
            ],
            [
             0.7,
             "#b8e186"
            ],
            [
             0.8,
             "#7fbc41"
            ],
            [
             0.9,
             "#4d9221"
            ],
            [
             1,
             "#276419"
            ]
           ],
           "sequential": [
            [
             0,
             "#0d0887"
            ],
            [
             0.1111111111111111,
             "#46039f"
            ],
            [
             0.2222222222222222,
             "#7201a8"
            ],
            [
             0.3333333333333333,
             "#9c179e"
            ],
            [
             0.4444444444444444,
             "#bd3786"
            ],
            [
             0.5555555555555556,
             "#d8576b"
            ],
            [
             0.6666666666666666,
             "#ed7953"
            ],
            [
             0.7777777777777778,
             "#fb9f3a"
            ],
            [
             0.8888888888888888,
             "#fdca26"
            ],
            [
             1,
             "#f0f921"
            ]
           ],
           "sequentialminus": [
            [
             0,
             "#0d0887"
            ],
            [
             0.1111111111111111,
             "#46039f"
            ],
            [
             0.2222222222222222,
             "#7201a8"
            ],
            [
             0.3333333333333333,
             "#9c179e"
            ],
            [
             0.4444444444444444,
             "#bd3786"
            ],
            [
             0.5555555555555556,
             "#d8576b"
            ],
            [
             0.6666666666666666,
             "#ed7953"
            ],
            [
             0.7777777777777778,
             "#fb9f3a"
            ],
            [
             0.8888888888888888,
             "#fdca26"
            ],
            [
             1,
             "#f0f921"
            ]
           ]
          },
          "colorway": [
           "#636efa",
           "#EF553B",
           "#00cc96",
           "#ab63fa",
           "#FFA15A",
           "#19d3f3",
           "#FF6692",
           "#B6E880",
           "#FF97FF",
           "#FECB52"
          ],
          "font": {
           "color": "#2a3f5f"
          },
          "geo": {
           "bgcolor": "white",
           "lakecolor": "white",
           "landcolor": "#E5ECF6",
           "showlakes": true,
           "showland": true,
           "subunitcolor": "white"
          },
          "hoverlabel": {
           "align": "left"
          },
          "hovermode": "closest",
          "mapbox": {
           "style": "light"
          },
          "paper_bgcolor": "white",
          "plot_bgcolor": "#E5ECF6",
          "polar": {
           "angularaxis": {
            "gridcolor": "white",
            "linecolor": "white",
            "ticks": ""
           },
           "bgcolor": "#E5ECF6",
           "radialaxis": {
            "gridcolor": "white",
            "linecolor": "white",
            "ticks": ""
           }
          },
          "scene": {
           "xaxis": {
            "backgroundcolor": "#E5ECF6",
            "gridcolor": "white",
            "gridwidth": 2,
            "linecolor": "white",
            "showbackground": true,
            "ticks": "",
            "zerolinecolor": "white"
           },
           "yaxis": {
            "backgroundcolor": "#E5ECF6",
            "gridcolor": "white",
            "gridwidth": 2,
            "linecolor": "white",
            "showbackground": true,
            "ticks": "",
            "zerolinecolor": "white"
           },
           "zaxis": {
            "backgroundcolor": "#E5ECF6",
            "gridcolor": "white",
            "gridwidth": 2,
            "linecolor": "white",
            "showbackground": true,
            "ticks": "",
            "zerolinecolor": "white"
           }
          },
          "shapedefaults": {
           "line": {
            "color": "#2a3f5f"
           }
          },
          "ternary": {
           "aaxis": {
            "gridcolor": "white",
            "linecolor": "white",
            "ticks": ""
           },
           "baxis": {
            "gridcolor": "white",
            "linecolor": "white",
            "ticks": ""
           },
           "bgcolor": "#E5ECF6",
           "caxis": {
            "gridcolor": "white",
            "linecolor": "white",
            "ticks": ""
           }
          },
          "title": {
           "x": 0.05
          },
          "xaxis": {
           "automargin": true,
           "gridcolor": "white",
           "linecolor": "white",
           "ticks": "",
           "title": {
            "standoff": 15
           },
           "zerolinecolor": "white",
           "zerolinewidth": 2
          },
          "yaxis": {
           "automargin": true,
           "gridcolor": "white",
           "linecolor": "white",
           "ticks": "",
           "title": {
            "standoff": 15
           },
           "zerolinecolor": "white",
           "zerolinewidth": 2
          }
         }
        },
        "title": {
         "text": "Distribution Channel별 예약 취소율"
        },
        "xaxis": {
         "anchor": "y",
         "domain": [
          0,
          1
         ],
         "tickangle": -45,
         "title": {
          "text": "Distribution Channel"
         }
        },
        "yaxis": {
         "anchor": "x",
         "domain": [
          0,
          1
         ],
         "title": {
          "text": "예약 취소율"
         }
        }
       }
      }
     },
     "metadata": {},
     "output_type": "display_data"
    }
   ],
   "source": [
    "import plotly.express as px\n",
    "\n",
    "# Distribution Channel별 예약 취소율 계산\n",
    "cancellation_rate_by_distribution_channel = df.groupby('distribution_channel')['is_canceled'].mean().sort_values(ascending=False)\n",
    "\n",
    "print(\"\\nDistribution Channel별 예약 취소율:\")\n",
    "display(cancellation_rate_by_distribution_channel)\n",
    "\n",
    "# 전체 평균 취소율 계산\n",
    "overall_avg_cancellation_rate = df['is_canceled'].mean()\n",
    "print(f\"\\n전체 평균 예약 취소율: {overall_avg_cancellation_rate:.2%}\")\n",
    "\n",
    "\n",
    "# Distribution Channel별 예약 취소율 시각화 (Plotly 막대 그래프)\n",
    "fig = px.bar(x=cancellation_rate_by_distribution_channel.index, y=cancellation_rate_by_distribution_channel.values,\n",
    "             title='Distribution Channel별 예약 취소율',\n",
    "             labels={'x': 'Distribution Channel', 'y': '예약 취소율'},\n",
    "             color=cancellation_rate_by_distribution_channel.index, # 각 막대에 다른 색상 적용\n",
    "             color_discrete_sequence=px.colors.qualitative.Plotly,\n",
    "             text=cancellation_rate_by_distribution_channel.apply(lambda x: f'{x:.2%}') # 막대 위에 텍스트로 취소율 표시 (백분율 형식)\n",
    "            )\n",
    "\n",
    "# 전체 평균 취소율 점선 추가\n",
    "fig.add_hline(y=overall_avg_cancellation_rate, line_dash=\"dash\", line_color=\"red\", annotation_text=f\"전체 평균: {overall_avg_cancellation_rate:.2%}\", annotation_position=\"bottom right\")\n",
    "\n",
    "\n",
    "fig.update_layout(xaxis_tickangle=-45) # x축 레이블 각도 조절\n",
    "fig.update_traces(textposition='outside') # 텍스트 위치를 막대 외부에 표시\n",
    "fig.show()"
   ]
  },
  {
   "cell_type": "markdown",
   "id": "45124493",
   "metadata": {},
   "source": [
    "### 3.3 Distribution Channel과 ADR (Average Daily Rate) 관계 분석"
   ]
  },
  {
   "cell_type": "markdown",
   "id": "e2922ca8",
   "metadata": {},
   "source": [
    "**Distribution Channel과 ADR 관계 분석 결과 요약:** Distribution Channel별 평균 ADR을 분석한 결과, Undefined 채널의 평균 ADR이 가장 높았으나 데이터 수가 적어 유의미한 해석은 어렵습니다. Direct 채널의 평균 ADR이 Corporate 및 TA/TO 채널보다 높게 나타났습니다."
   ]
  },
  {
   "cell_type": "code",
   "execution_count": null,
   "id": "cbd114d2",
   "metadata": {},
   "outputs": [
    {
     "name": "stdout",
     "output_type": "stream",
     "text": [
      "\n",
      "Distribution Channel별 평균 ADR:\n"
     ]
    },
    {
     "data": {
      "text/plain": [
       "distribution_channel\n",
       "GDS          120.554301\n",
       "Direct       106.654983\n",
       "TA/TO        103.292866\n",
       "Corporate     69.325204\n",
       "Undefined     46.240000\n",
       "Name: adr, dtype: float64"
      ]
     },
     "metadata": {},
     "output_type": "display_data"
    },
    {
     "name": "stdout",
     "output_type": "stream",
     "text": [
      "\n",
      "전체 평균 ADR: 101.83\n"
     ]
    },
    {
     "data": {
      "application/vnd.plotly.v1+json": {
       "config": {
        "plotlyServerURL": "https://plot.ly"
       },
       "data": [
        {
         "hovertemplate": "color=GDS<br>Distribution Channel=%{x}<br>평균 ADR=%{y}<br>text=%{text}<extra></extra>",
         "legendgroup": "GDS",
         "marker": {
          "color": "#636EFA",
          "pattern": {
           "shape": ""
          }
         },
         "name": "GDS",
         "orientation": "v",
         "showlegend": true,
         "text": {
          "bdata": "MzMzMzMjXkA=",
          "dtype": "f8"
         },
         "textposition": "outside",
         "type": "bar",
         "x": [
          "GDS"
         ],
         "xaxis": "x",
         "y": {
          "bdata": "2GLhqHkjXkA=",
          "dtype": "f8"
         },
         "yaxis": "y"
        },
        {
         "hovertemplate": "color=Direct<br>Distribution Channel=%{x}<br>평균 ADR=%{y}<br>text=%{text}<extra></extra>",
         "legendgroup": "Direct",
         "marker": {
          "color": "#EF553B",
          "pattern": {
           "shape": ""
          }
         },
         "name": "Direct",
         "orientation": "v",
         "showlegend": true,
         "text": {
          "bdata": "mpmZmZmpWkA=",
          "dtype": "f8"
         },
         "textposition": "outside",
         "type": "bar",
         "x": [
          "Direct"
         ],
         "xaxis": "x",
         "y": {
          "bdata": "jqIWPOupWkA=",
          "dtype": "f8"
         },
         "yaxis": "y"
        },
        {
         "hovertemplate": "color=TA/TO<br>Distribution Channel=%{x}<br>평균 ADR=%{y}<br>text=%{text}<extra></extra>",
         "legendgroup": "TA/TO",
         "marker": {
          "color": "#00CC96",
          "pattern": {
           "shape": ""
          }
         },
         "name": "TA/TO",
         "orientation": "v",
         "showlegend": true,
         "text": {
          "bdata": "w/UoXI/SWUA=",
          "dtype": "f8"
         },
         "textposition": "outside",
         "type": "bar",
         "x": [
          "TA/TO"
         ],
         "xaxis": "x",
         "y": {
          "bdata": "fPyoUb7SWUA=",
          "dtype": "f8"
         },
         "yaxis": "y"
        },
        {
         "hovertemplate": "color=Corporate<br>Distribution Channel=%{x}<br>평균 ADR=%{y}<br>text=%{text}<extra></extra>",
         "legendgroup": "Corporate",
         "marker": {
          "color": "#AB63FA",
          "pattern": {
           "shape": ""
          }
         },
         "name": "Corporate",
         "orientation": "v",
         "showlegend": true,
         "text": {
          "bdata": "hetRuB5VUUA=",
          "dtype": "f8"
         },
         "textposition": "outside",
         "type": "bar",
         "x": [
          "Corporate"
         ],
         "xaxis": "x",
         "y": {
          "bdata": "UDNBJtBUUUA=",
          "dtype": "f8"
         },
         "yaxis": "y"
        },
        {
         "hovertemplate": "color=Undefined<br>Distribution Channel=%{x}<br>평균 ADR=%{y}<br>text=%{text}<extra></extra>",
         "legendgroup": "Undefined",
         "marker": {
          "color": "#FFA15A",
          "pattern": {
           "shape": ""
          }
         },
         "name": "Undefined",
         "orientation": "v",
         "showlegend": true,
         "text": {
          "bdata": "H4XrUbgeR0A=",
          "dtype": "f8"
         },
         "textposition": "outside",
         "type": "bar",
         "x": [
          "Undefined"
         ],
         "xaxis": "x",
         "y": {
          "bdata": "HoXrUbgeR0A=",
          "dtype": "f8"
         },
         "yaxis": "y"
        }
       ],
       "layout": {
        "annotations": [
         {
          "showarrow": false,
          "text": "전체 평균: 101.83",
          "x": 1,
          "xanchor": "right",
          "xref": "x domain",
          "y": 101.83112153446687,
          "yanchor": "top",
          "yref": "y"
         }
        ],
        "barmode": "relative",
        "legend": {
         "title": {
          "text": "color"
         },
         "tracegroupgap": 0
        },
        "shapes": [
         {
          "line": {
           "color": "red",
           "dash": "dash"
          },
          "type": "line",
          "x0": 0,
          "x1": 1,
          "xref": "x domain",
          "y0": 101.83112153446687,
          "y1": 101.83112153446687,
          "yref": "y"
         }
        ],
        "template": {
         "data": {
          "bar": [
           {
            "error_x": {
             "color": "#2a3f5f"
            },
            "error_y": {
             "color": "#2a3f5f"
            },
            "marker": {
             "line": {
              "color": "#E5ECF6",
              "width": 0.5
             },
             "pattern": {
              "fillmode": "overlay",
              "size": 10,
              "solidity": 0.2
             }
            },
            "type": "bar"
           }
          ],
          "barpolar": [
           {
            "marker": {
             "line": {
              "color": "#E5ECF6",
              "width": 0.5
             },
             "pattern": {
              "fillmode": "overlay",
              "size": 10,
              "solidity": 0.2
             }
            },
            "type": "barpolar"
           }
          ],
          "carpet": [
           {
            "aaxis": {
             "endlinecolor": "#2a3f5f",
             "gridcolor": "white",
             "linecolor": "white",
             "minorgridcolor": "white",
             "startlinecolor": "#2a3f5f"
            },
            "baxis": {
             "endlinecolor": "#2a3f5f",
             "gridcolor": "white",
             "linecolor": "white",
             "minorgridcolor": "white",
             "startlinecolor": "#2a3f5f"
            },
            "type": "carpet"
           }
          ],
          "choropleth": [
           {
            "colorbar": {
             "outlinewidth": 0,
             "ticks": ""
            },
            "type": "choropleth"
           }
          ],
          "contour": [
           {
            "colorbar": {
             "outlinewidth": 0,
             "ticks": ""
            },
            "colorscale": [
             [
              0,
              "#0d0887"
             ],
             [
              0.1111111111111111,
              "#46039f"
             ],
             [
              0.2222222222222222,
              "#7201a8"
             ],
             [
              0.3333333333333333,
              "#9c179e"
             ],
             [
              0.4444444444444444,
              "#bd3786"
             ],
             [
              0.5555555555555556,
              "#d8576b"
             ],
             [
              0.6666666666666666,
              "#ed7953"
             ],
             [
              0.7777777777777778,
              "#fb9f3a"
             ],
             [
              0.8888888888888888,
              "#fdca26"
             ],
             [
              1,
              "#f0f921"
             ]
            ],
            "type": "contour"
           }
          ],
          "contourcarpet": [
           {
            "colorbar": {
             "outlinewidth": 0,
             "ticks": ""
            },
            "type": "contourcarpet"
           }
          ],
          "heatmap": [
           {
            "colorbar": {
             "outlinewidth": 0,
             "ticks": ""
            },
            "colorscale": [
             [
              0,
              "#0d0887"
             ],
             [
              0.1111111111111111,
              "#46039f"
             ],
             [
              0.2222222222222222,
              "#7201a8"
             ],
             [
              0.3333333333333333,
              "#9c179e"
             ],
             [
              0.4444444444444444,
              "#bd3786"
             ],
             [
              0.5555555555555556,
              "#d8576b"
             ],
             [
              0.6666666666666666,
              "#ed7953"
             ],
             [
              0.7777777777777778,
              "#fb9f3a"
             ],
             [
              0.8888888888888888,
              "#fdca26"
             ],
             [
              1,
              "#f0f921"
             ]
            ],
            "type": "heatmap"
           }
          ],
          "histogram": [
           {
            "marker": {
             "pattern": {
              "fillmode": "overlay",
              "size": 10,
              "solidity": 0.2
             }
            },
            "type": "histogram"
           }
          ],
          "histogram2d": [
           {
            "colorbar": {
             "outlinewidth": 0,
             "ticks": ""
            },
            "colorscale": [
             [
              0,
              "#0d0887"
             ],
             [
              0.1111111111111111,
              "#46039f"
             ],
             [
              0.2222222222222222,
              "#7201a8"
             ],
             [
              0.3333333333333333,
              "#9c179e"
             ],
             [
              0.4444444444444444,
              "#bd3786"
             ],
             [
              0.5555555555555556,
              "#d8576b"
             ],
             [
              0.6666666666666666,
              "#ed7953"
             ],
             [
              0.7777777777777778,
              "#fb9f3a"
             ],
             [
              0.8888888888888888,
              "#fdca26"
             ],
             [
              1,
              "#f0f921"
             ]
            ],
            "type": "histogram2d"
           }
          ],
          "histogram2dcontour": [
           {
            "colorbar": {
             "outlinewidth": 0,
             "ticks": ""
            },
            "colorscale": [
             [
              0,
              "#0d0887"
             ],
             [
              0.1111111111111111,
              "#46039f"
             ],
             [
              0.2222222222222222,
              "#7201a8"
             ],
             [
              0.3333333333333333,
              "#9c179e"
             ],
             [
              0.4444444444444444,
              "#bd3786"
             ],
             [
              0.5555555555555556,
              "#d8576b"
             ],
             [
              0.6666666666666666,
              "#ed7953"
             ],
             [
              0.7777777777777778,
              "#fb9f3a"
             ],
             [
              0.8888888888888888,
              "#fdca26"
             ],
             [
              1,
              "#f0f921"
             ]
            ],
            "type": "histogram2dcontour"
           }
          ],
          "mesh3d": [
           {
            "colorbar": {
             "outlinewidth": 0,
             "ticks": ""
            },
            "type": "mesh3d"
           }
          ],
          "parcoords": [
           {
            "line": {
             "colorbar": {
              "outlinewidth": 0,
              "ticks": ""
             }
            },
            "type": "parcoords"
           }
          ],
          "pie": [
           {
            "automargin": true,
            "type": "pie"
           }
          ],
          "scatter": [
           {
            "fillpattern": {
             "fillmode": "overlay",
             "size": 10,
             "solidity": 0.2
            },
            "type": "scatter"
           }
          ],
          "scatter3d": [
           {
            "line": {
             "colorbar": {
              "outlinewidth": 0,
              "ticks": ""
             }
            },
            "marker": {
             "colorbar": {
              "outlinewidth": 0,
              "ticks": ""
             }
            },
            "type": "scatter3d"
           }
          ],
          "scattercarpet": [
           {
            "marker": {
             "colorbar": {
              "outlinewidth": 0,
              "ticks": ""
             }
            },
            "type": "scattercarpet"
           }
          ],
          "scattergeo": [
           {
            "marker": {
             "colorbar": {
              "outlinewidth": 0,
              "ticks": ""
             }
            },
            "type": "scattergeo"
           }
          ],
          "scattergl": [
           {
            "marker": {
             "colorbar": {
              "outlinewidth": 0,
              "ticks": ""
             }
            },
            "type": "scattergl"
           }
          ],
          "scattermap": [
           {
            "marker": {
             "colorbar": {
              "outlinewidth": 0,
              "ticks": ""
             }
            },
            "type": "scattermap"
           }
          ],
          "scattermapbox": [
           {
            "marker": {
             "colorbar": {
              "outlinewidth": 0,
              "ticks": ""
             }
            },
            "type": "scattermapbox"
           }
          ],
          "scatterpolar": [
           {
            "marker": {
             "colorbar": {
              "outlinewidth": 0,
              "ticks": ""
             }
            },
            "type": "scatterpolar"
           }
          ],
          "scatterpolargl": [
           {
            "marker": {
             "colorbar": {
              "outlinewidth": 0,
              "ticks": ""
             }
            },
            "type": "scatterpolargl"
           }
          ],
          "scatterternary": [
           {
            "marker": {
             "colorbar": {
              "outlinewidth": 0,
              "ticks": ""
             }
            },
            "type": "scatterternary"
           }
          ],
          "surface": [
           {
            "colorbar": {
             "outlinewidth": 0,
             "ticks": ""
            },
            "colorscale": [
             [
              0,
              "#0d0887"
             ],
             [
              0.1111111111111111,
              "#46039f"
             ],
             [
              0.2222222222222222,
              "#7201a8"
             ],
             [
              0.3333333333333333,
              "#9c179e"
             ],
             [
              0.4444444444444444,
              "#bd3786"
             ],
             [
              0.5555555555555556,
              "#d8576b"
             ],
             [
              0.6666666666666666,
              "#ed7953"
             ],
             [
              0.7777777777777778,
              "#fb9f3a"
             ],
             [
              0.8888888888888888,
              "#fdca26"
             ],
             [
              1,
              "#f0f921"
             ]
            ],
            "type": "surface"
           }
          ],
          "table": [
           {
            "cells": {
             "fill": {
              "color": "#EBF0F8"
             },
             "line": {
              "color": "white"
             }
            },
            "header": {
             "fill": {
              "color": "#C8D4E3"
             },
             "line": {
              "color": "white"
             }
            },
            "type": "table"
           }
          ]
         },
         "layout": {
          "annotationdefaults": {
           "arrowcolor": "#2a3f5f",
           "arrowhead": 0,
           "arrowwidth": 1
          },
          "autotypenumbers": "strict",
          "coloraxis": {
           "colorbar": {
            "outlinewidth": 0,
            "ticks": ""
           }
          },
          "colorscale": {
           "diverging": [
            [
             0,
             "#8e0152"
            ],
            [
             0.1,
             "#c51b7d"
            ],
            [
             0.2,
             "#de77ae"
            ],
            [
             0.3,
             "#f1b6da"
            ],
            [
             0.4,
             "#fde0ef"
            ],
            [
             0.5,
             "#f7f7f7"
            ],
            [
             0.6,
             "#e6f5d0"
            ],
            [
             0.7,
             "#b8e186"
            ],
            [
             0.8,
             "#7fbc41"
            ],
            [
             0.9,
             "#4d9221"
            ],
            [
             1,
             "#276419"
            ]
           ],
           "sequential": [
            [
             0,
             "#0d0887"
            ],
            [
             0.1111111111111111,
             "#46039f"
            ],
            [
             0.2222222222222222,
             "#7201a8"
            ],
            [
             0.3333333333333333,
             "#9c179e"
            ],
            [
             0.4444444444444444,
             "#bd3786"
            ],
            [
             0.5555555555555556,
             "#d8576b"
            ],
            [
             0.6666666666666666,
             "#ed7953"
            ],
            [
             0.7777777777777778,
             "#fb9f3a"
            ],
            [
             0.8888888888888888,
             "#fdca26"
            ],
            [
             1,
             "#f0f921"
            ]
           ],
           "sequentialminus": [
            [
             0,
             "#0d0887"
            ],
            [
             0.1111111111111111,
             "#46039f"
            ],
            [
             0.2222222222222222,
             "#7201a8"
            ],
            [
             0.3333333333333333,
             "#9c179e"
            ],
            [
             0.4444444444444444,
             "#bd3786"
            ],
            [
             0.5555555555555556,
             "#d8576b"
            ],
            [
             0.6666666666666666,
             "#ed7953"
            ],
            [
             0.7777777777777778,
             "#fb9f3a"
            ],
            [
             0.8888888888888888,
             "#fdca26"
            ],
            [
             1,
             "#f0f921"
            ]
           ]
          },
          "colorway": [
           "#636efa",
           "#EF553B",
           "#00cc96",
           "#ab63fa",
           "#FFA15A",
           "#19d3f3",
           "#FF6692",
           "#B6E880",
           "#FF97FF",
           "#FECB52"
          ],
          "font": {
           "color": "#2a3f5f"
          },
          "geo": {
           "bgcolor": "white",
           "lakecolor": "white",
           "landcolor": "#E5ECF6",
           "showlakes": true,
           "showland": true,
           "subunitcolor": "white"
          },
          "hoverlabel": {
           "align": "left"
          },
          "hovermode": "closest",
          "mapbox": {
           "style": "light"
          },
          "paper_bgcolor": "white",
          "plot_bgcolor": "#E5ECF6",
          "polar": {
           "angularaxis": {
            "gridcolor": "white",
            "linecolor": "white",
            "ticks": ""
           },
           "bgcolor": "#E5ECF6",
           "radialaxis": {
            "gridcolor": "white",
            "linecolor": "white",
            "ticks": ""
           }
          },
          "scene": {
           "xaxis": {
            "backgroundcolor": "#E5ECF6",
            "gridcolor": "white",
            "gridwidth": 2,
            "linecolor": "white",
            "showbackground": true,
            "ticks": "",
            "zerolinecolor": "white"
           },
           "yaxis": {
            "backgroundcolor": "#E5ECF6",
            "gridcolor": "white",
            "gridwidth": 2,
            "linecolor": "white",
            "showbackground": true,
            "ticks": "",
            "zerolinecolor": "white"
           },
           "zaxis": {
            "backgroundcolor": "#E5ECF6",
            "gridcolor": "white",
            "gridwidth": 2,
            "linecolor": "white",
            "showbackground": true,
            "ticks": "",
            "zerolinecolor": "white"
           }
          },
          "shapedefaults": {
           "line": {
            "color": "#2a3f5f"
           }
          },
          "ternary": {
           "aaxis": {
            "gridcolor": "white",
            "linecolor": "white",
            "ticks": ""
           },
           "baxis": {
            "gridcolor": "white",
            "linecolor": "white",
            "ticks": ""
           },
           "bgcolor": "#E5ECF6",
           "caxis": {
            "gridcolor": "white",
            "linecolor": "white",
            "ticks": ""
           }
          },
          "title": {
           "x": 0.05
          },
          "xaxis": {
           "automargin": true,
           "gridcolor": "white",
           "linecolor": "white",
           "ticks": "",
           "title": {
            "standoff": 15
           },
           "zerolinecolor": "white",
           "zerolinewidth": 2
          },
          "yaxis": {
           "automargin": true,
           "gridcolor": "white",
           "linecolor": "white",
           "ticks": "",
           "title": {
            "standoff": 15
           },
           "zerolinecolor": "white",
           "zerolinewidth": 2
          }
         }
        },
        "title": {
         "text": "Distribution Channel별 평균 ADR"
        },
        "xaxis": {
         "anchor": "y",
         "domain": [
          0,
          1
         ],
         "tickangle": -45,
         "title": {
          "text": "Distribution Channel"
         }
        },
        "yaxis": {
         "anchor": "x",
         "domain": [
          0,
          1
         ],
         "title": {
          "text": "평균 ADR"
         }
        }
       }
      }
     },
     "metadata": {},
     "output_type": "display_data"
    }
   ],
   "source": [
    "import plotly.express as px\n",
    "\n",
    "# 'distribution_channel'로 그룹화하고 각 그룹의 'adr' 열에 대한 평균을 계산합니다. 결과를 ADR이 높은 순서로 정렬합니다.\n",
    "adr_by_distribution_channel = df.groupby('distribution_channel')['adr'].mean().sort_values(ascending=False)\n",
    "\n",
    "print(\"\\nDistribution Channel별 평균 ADR:\")\n",
    "display(adr_by_distribution_channel)\n",
    "\n",
    "# 전체 평균 ADR 계산\n",
    "overall_avg_adr = df['adr'].mean()\n",
    "print(f\"\\n전체 평균 ADR: {overall_avg_adr:.2f}\")\n",
    "\n",
    "\n",
    "# 계산된 평균 ADR을 막대 그래프로 시각화합니다.\n",
    "# 그래프의 제목을 'Distribution Channel별 평균 ADR'로 설정하고 x축 레이블은 'Distribution Channel', y축 레이블은 '평균 ADR'로 설정합니다.\n",
    "# 각 막대에 다른 색상을 적용하고, 막대 위에 평균 ADR 값을 소수점 둘째 자리까지 표시합니다. x축 레이블이 겹치지 않도록 각도를 조절합니다.\n",
    "fig = px.bar(x=adr_by_distribution_channel.index, y=adr_by_distribution_channel.values,\n",
    "             title='Distribution Channel별 평균 ADR',\n",
    "             labels={'x': 'Distribution Channel', 'y': '평균 ADR'},\n",
    "             color=adr_by_distribution_channel.index, # 각 막대에 다른 색상 적용\n",
    "             color_discrete_sequence=px.colors.qualitative.Plotly,\n",
    "             text=adr_by_distribution_channel.values.round(2)) # 막대 위에 텍스트로 평균 ADR 표시 (소수점 둘째 자리까지)\n",
    "\n",
    "# 전체 평균 ADR 점선 추가\n",
    "fig.add_hline(y=overall_avg_adr, line_dash=\"dash\", line_color=\"red\", annotation_text=f\"전체 평균: {overall_avg_adr:.2f}\", annotation_position=\"bottom right\")\n",
    "\n",
    "fig.update_layout(xaxis_tickangle=-45) # x축 레이블 각도 조절\n",
    "fig.update_traces(textposition='outside') # 텍스트 위치를 막대 외부에 표시\n",
    "fig.show()"
   ]
  },
  {
   "cell_type": "markdown",
   "id": "bf863f7c",
   "metadata": {},
   "source": [
    "### 3.4 Distribution Channel과 총 숙박일수 (total stay) 관계 분석"
   ]
  },
  {
   "cell_type": "markdown",
   "id": "fbbddc0f",
   "metadata": {},
   "source": [
    "**Distribution Channel과 총 숙박일수 관계 분석 결과 요약:** Distribution Channel별 평균 총 숙박일수를 분석한 결과, Undefined 채널의 평균 숙박일수가 가장 길었으나 데이터 수가 적습니다. TA/TO 채널의 평균 숙박일수가 Direct 및 Corporate 채널보다 길게 나타났습니다."
   ]
  },
  {
   "cell_type": "code",
   "execution_count": null,
   "id": "89d7586c",
   "metadata": {},
   "outputs": [
    {
     "name": "stdout",
     "output_type": "stream",
     "text": [
      "\n",
      "Distribution Channel별 평균 총 숙박일수:\n"
     ]
    },
    {
     "data": {
      "text/plain": [
       "distribution_channel\n",
       "TA/TO        3.537192\n",
       "Undefined    3.400000\n",
       "Direct       3.194333\n",
       "Corporate    2.380710\n",
       "GDS          1.958549\n",
       "Name: total_stay, dtype: float64"
      ]
     },
     "metadata": {},
     "output_type": "display_data"
    },
    {
     "name": "stdout",
     "output_type": "stream",
     "text": [
      "\n",
      "전체 평균 총 숙박일수: 3.43\n"
     ]
    },
    {
     "data": {
      "application/vnd.plotly.v1+json": {
       "config": {
        "plotlyServerURL": "https://plot.ly"
       },
       "data": [
        {
         "hovertemplate": "color=TA/TO<br>Distribution Channel=%{x}<br>평균 총 숙박일수=%{y}<br>text=%{text}<extra></extra>",
         "legendgroup": "TA/TO",
         "marker": {
          "color": "#636EFA",
          "pattern": {
           "shape": ""
          }
         },
         "name": "TA/TO",
         "orientation": "v",
         "showlegend": true,
         "text": {
          "bdata": "UrgehetRDEA=",
          "dtype": "f8"
         },
         "textposition": "outside",
         "type": "bar",
         "x": [
          "TA/TO"
         ],
         "xaxis": "x",
         "y": {
          "bdata": "JcW9aytMDEA=",
          "dtype": "f8"
         },
         "yaxis": "y"
        },
        {
         "hovertemplate": "color=Undefined<br>Distribution Channel=%{x}<br>평균 총 숙박일수=%{y}<br>text=%{text}<extra></extra>",
         "legendgroup": "Undefined",
         "marker": {
          "color": "#EF553B",
          "pattern": {
           "shape": ""
          }
         },
         "name": "Undefined",
         "orientation": "v",
         "showlegend": true,
         "text": {
          "bdata": "MzMzMzMzC0A=",
          "dtype": "f8"
         },
         "textposition": "outside",
         "type": "bar",
         "x": [
          "Undefined"
         ],
         "xaxis": "x",
         "y": {
          "bdata": "MzMzMzMzC0A=",
          "dtype": "f8"
         },
         "yaxis": "y"
        },
        {
         "hovertemplate": "color=Direct<br>Distribution Channel=%{x}<br>평균 총 숙박일수=%{y}<br>text=%{text}<extra></extra>",
         "legendgroup": "Direct",
         "marker": {
          "color": "#00CC96",
          "pattern": {
           "shape": ""
          }
         },
         "name": "Direct",
         "orientation": "v",
         "showlegend": true,
         "text": {
          "bdata": "hetRuB6FCUA=",
          "dtype": "f8"
         },
         "textposition": "outside",
         "type": "bar",
         "x": [
          "Direct"
         ],
         "xaxis": "x",
         "y": {
          "bdata": "+HeNN/6NCUA=",
          "dtype": "f8"
         },
         "yaxis": "y"
        },
        {
         "hovertemplate": "color=Corporate<br>Distribution Channel=%{x}<br>평균 총 숙박일수=%{y}<br>text=%{text}<extra></extra>",
         "legendgroup": "Corporate",
         "marker": {
          "color": "#AB63FA",
          "pattern": {
           "shape": ""
          }
         },
         "name": "Corporate",
         "orientation": "v",
         "showlegend": true,
         "text": {
          "bdata": "CtejcD0KA0A=",
          "dtype": "f8"
         },
         "textposition": "outside",
         "type": "bar",
         "x": [
          "Corporate"
         ],
         "xaxis": "x",
         "y": {
          "bdata": "jUXCobELA0A=",
          "dtype": "f8"
         },
         "yaxis": "y"
        },
        {
         "hovertemplate": "color=GDS<br>Distribution Channel=%{x}<br>평균 총 숙박일수=%{y}<br>text=%{text}<extra></extra>",
         "legendgroup": "GDS",
         "marker": {
          "color": "#FFA15A",
          "pattern": {
           "shape": ""
          }
         },
         "name": "GDS",
         "orientation": "v",
         "showlegend": true,
         "text": {
          "bdata": "XI/C9Shc/z8=",
          "dtype": "f8"
         },
         "textposition": "outside",
         "type": "bar",
         "x": [
          "GDS"
         ],
         "xaxis": "x",
         "y": {
          "bdata": "gV+4tTdW/z8=",
          "dtype": "f8"
         },
         "yaxis": "y"
        }
       ],
       "layout": {
        "annotations": [
         {
          "showarrow": false,
          "text": "전체 평균: 3.43",
          "x": 1,
          "xanchor": "right",
          "xref": "x domain",
          "y": 3.4279001591423066,
          "yanchor": "top",
          "yref": "y"
         }
        ],
        "barmode": "relative",
        "legend": {
         "title": {
          "text": "color"
         },
         "tracegroupgap": 0
        },
        "shapes": [
         {
          "line": {
           "color": "red",
           "dash": "dash"
          },
          "type": "line",
          "x0": 0,
          "x1": 1,
          "xref": "x domain",
          "y0": 3.4279001591423066,
          "y1": 3.4279001591423066,
          "yref": "y"
         }
        ],
        "template": {
         "data": {
          "bar": [
           {
            "error_x": {
             "color": "#2a3f5f"
            },
            "error_y": {
             "color": "#2a3f5f"
            },
            "marker": {
             "line": {
              "color": "#E5ECF6",
              "width": 0.5
             },
             "pattern": {
              "fillmode": "overlay",
              "size": 10,
              "solidity": 0.2
             }
            },
            "type": "bar"
           }
          ],
          "barpolar": [
           {
            "marker": {
             "line": {
              "color": "#E5ECF6",
              "width": 0.5
             },
             "pattern": {
              "fillmode": "overlay",
              "size": 10,
              "solidity": 0.2
             }
            },
            "type": "barpolar"
           }
          ],
          "carpet": [
           {
            "aaxis": {
             "endlinecolor": "#2a3f5f",
             "gridcolor": "white",
             "linecolor": "white",
             "minorgridcolor": "white",
             "startlinecolor": "#2a3f5f"
            },
            "baxis": {
             "endlinecolor": "#2a3f5f",
             "gridcolor": "white",
             "linecolor": "white",
             "minorgridcolor": "white",
             "startlinecolor": "#2a3f5f"
            },
            "type": "carpet"
           }
          ],
          "choropleth": [
           {
            "colorbar": {
             "outlinewidth": 0,
             "ticks": ""
            },
            "type": "choropleth"
           }
          ],
          "contour": [
           {
            "colorbar": {
             "outlinewidth": 0,
             "ticks": ""
            },
            "colorscale": [
             [
              0,
              "#0d0887"
             ],
             [
              0.1111111111111111,
              "#46039f"
             ],
             [
              0.2222222222222222,
              "#7201a8"
             ],
             [
              0.3333333333333333,
              "#9c179e"
             ],
             [
              0.4444444444444444,
              "#bd3786"
             ],
             [
              0.5555555555555556,
              "#d8576b"
             ],
             [
              0.6666666666666666,
              "#ed7953"
             ],
             [
              0.7777777777777778,
              "#fb9f3a"
             ],
             [
              0.8888888888888888,
              "#fdca26"
             ],
             [
              1,
              "#f0f921"
             ]
            ],
            "type": "contour"
           }
          ],
          "contourcarpet": [
           {
            "colorbar": {
             "outlinewidth": 0,
             "ticks": ""
            },
            "type": "contourcarpet"
           }
          ],
          "heatmap": [
           {
            "colorbar": {
             "outlinewidth": 0,
             "ticks": ""
            },
            "colorscale": [
             [
              0,
              "#0d0887"
             ],
             [
              0.1111111111111111,
              "#46039f"
             ],
             [
              0.2222222222222222,
              "#7201a8"
             ],
             [
              0.3333333333333333,
              "#9c179e"
             ],
             [
              0.4444444444444444,
              "#bd3786"
             ],
             [
              0.5555555555555556,
              "#d8576b"
             ],
             [
              0.6666666666666666,
              "#ed7953"
             ],
             [
              0.7777777777777778,
              "#fb9f3a"
             ],
             [
              0.8888888888888888,
              "#fdca26"
             ],
             [
              1,
              "#f0f921"
             ]
            ],
            "type": "heatmap"
           }
          ],
          "histogram": [
           {
            "marker": {
             "pattern": {
              "fillmode": "overlay",
              "size": 10,
              "solidity": 0.2
             }
            },
            "type": "histogram"
           }
          ],
          "histogram2d": [
           {
            "colorbar": {
             "outlinewidth": 0,
             "ticks": ""
            },
            "colorscale": [
             [
              0,
              "#0d0887"
             ],
             [
              0.1111111111111111,
              "#46039f"
             ],
             [
              0.2222222222222222,
              "#7201a8"
             ],
             [
              0.3333333333333333,
              "#9c179e"
             ],
             [
              0.4444444444444444,
              "#bd3786"
             ],
             [
              0.5555555555555556,
              "#d8576b"
             ],
             [
              0.6666666666666666,
              "#ed7953"
             ],
             [
              0.7777777777777778,
              "#fb9f3a"
             ],
             [
              0.8888888888888888,
              "#fdca26"
             ],
             [
              1,
              "#f0f921"
             ]
            ],
            "type": "histogram2d"
           }
          ],
          "histogram2dcontour": [
           {
            "colorbar": {
             "outlinewidth": 0,
             "ticks": ""
            },
            "colorscale": [
             [
              0,
              "#0d0887"
             ],
             [
              0.1111111111111111,
              "#46039f"
             ],
             [
              0.2222222222222222,
              "#7201a8"
             ],
             [
              0.3333333333333333,
              "#9c179e"
             ],
             [
              0.4444444444444444,
              "#bd3786"
             ],
             [
              0.5555555555555556,
              "#d8576b"
             ],
             [
              0.6666666666666666,
              "#ed7953"
             ],
             [
              0.7777777777777778,
              "#fb9f3a"
             ],
             [
              0.8888888888888888,
              "#fdca26"
             ],
             [
              1,
              "#f0f921"
             ]
            ],
            "type": "histogram2dcontour"
           }
          ],
          "mesh3d": [
           {
            "colorbar": {
             "outlinewidth": 0,
             "ticks": ""
            },
            "type": "mesh3d"
           }
          ],
          "parcoords": [
           {
            "line": {
             "colorbar": {
              "outlinewidth": 0,
              "ticks": ""
             }
            },
            "type": "parcoords"
           }
          ],
          "pie": [
           {
            "automargin": true,
            "type": "pie"
           }
          ],
          "scatter": [
           {
            "fillpattern": {
             "fillmode": "overlay",
             "size": 10,
             "solidity": 0.2
            },
            "type": "scatter"
           }
          ],
          "scatter3d": [
           {
            "line": {
             "colorbar": {
              "outlinewidth": 0,
              "ticks": ""
             }
            },
            "marker": {
             "colorbar": {
              "outlinewidth": 0,
              "ticks": ""
             }
            },
            "type": "scatter3d"
           }
          ],
          "scattercarpet": [
           {
            "marker": {
             "colorbar": {
              "outlinewidth": 0,
              "ticks": ""
             }
            },
            "type": "scattercarpet"
           }
          ],
          "scattergeo": [
           {
            "marker": {
             "colorbar": {
              "outlinewidth": 0,
              "ticks": ""
             }
            },
            "type": "scattergeo"
           }
          ],
          "scattergl": [
           {
            "marker": {
             "colorbar": {
              "outlinewidth": 0,
              "ticks": ""
             }
            },
            "type": "scattergl"
           }
          ],
          "scattermap": [
           {
            "marker": {
             "colorbar": {
              "outlinewidth": 0,
              "ticks": ""
             }
            },
            "type": "scattermap"
           }
          ],
          "scattermapbox": [
           {
            "marker": {
             "colorbar": {
              "outlinewidth": 0,
              "ticks": ""
             }
            },
            "type": "scattermapbox"
           }
          ],
          "scatterpolar": [
           {
            "marker": {
             "colorbar": {
              "outlinewidth": 0,
              "ticks": ""
             }
            },
            "type": "scatterpolar"
           }
          ],
          "scatterpolargl": [
           {
            "marker": {
             "colorbar": {
              "outlinewidth": 0,
              "ticks": ""
             }
            },
            "type": "scatterpolargl"
           }
          ],
          "scatterternary": [
           {
            "marker": {
             "colorbar": {
              "outlinewidth": 0,
              "ticks": ""
             }
            },
            "type": "scatterternary"
           }
          ],
          "surface": [
           {
            "colorbar": {
             "outlinewidth": 0,
             "ticks": ""
            },
            "colorscale": [
             [
              0,
              "#0d0887"
             ],
             [
              0.1111111111111111,
              "#46039f"
             ],
             [
              0.2222222222222222,
              "#7201a8"
             ],
             [
              0.3333333333333333,
              "#9c179e"
             ],
             [
              0.4444444444444444,
              "#bd3786"
             ],
             [
              0.5555555555555556,
              "#d8576b"
             ],
             [
              0.6666666666666666,
              "#ed7953"
             ],
             [
              0.7777777777777778,
              "#fb9f3a"
             ],
             [
              0.8888888888888888,
              "#fdca26"
             ],
             [
              1,
              "#f0f921"
             ]
            ],
            "type": "surface"
           }
          ],
          "table": [
           {
            "cells": {
             "fill": {
              "color": "#EBF0F8"
             },
             "line": {
              "color": "white"
             }
            },
            "header": {
             "fill": {
              "color": "#C8D4E3"
             },
             "line": {
              "color": "white"
             }
            },
            "type": "table"
           }
          ]
         },
         "layout": {
          "annotationdefaults": {
           "arrowcolor": "#2a3f5f",
           "arrowhead": 0,
           "arrowwidth": 1
          },
          "autotypenumbers": "strict",
          "coloraxis": {
           "colorbar": {
            "outlinewidth": 0,
            "ticks": ""
           }
          },
          "colorscale": {
           "diverging": [
            [
             0,
             "#8e0152"
            ],
            [
             0.1,
             "#c51b7d"
            ],
            [
             0.2,
             "#de77ae"
            ],
            [
             0.3,
             "#f1b6da"
            ],
            [
             0.4,
             "#fde0ef"
            ],
            [
             0.5,
             "#f7f7f7"
            ],
            [
             0.6,
             "#e6f5d0"
            ],
            [
             0.7,
             "#b8e186"
            ],
            [
             0.8,
             "#7fbc41"
            ],
            [
             0.9,
             "#4d9221"
            ],
            [
             1,
             "#276419"
            ]
           ],
           "sequential": [
            [
             0,
             "#0d0887"
            ],
            [
             0.1111111111111111,
             "#46039f"
            ],
            [
             0.2222222222222222,
             "#7201a8"
            ],
            [
             0.3333333333333333,
             "#9c179e"
            ],
            [
             0.4444444444444444,
             "#bd3786"
            ],
            [
             0.5555555555555556,
             "#d8576b"
            ],
            [
             0.6666666666666666,
             "#ed7953"
            ],
            [
             0.7777777777777778,
             "#fb9f3a"
            ],
            [
             0.8888888888888888,
             "#fdca26"
            ],
            [
             1,
             "#f0f921"
            ]
           ],
           "sequentialminus": [
            [
             0,
             "#0d0887"
            ],
            [
             0.1111111111111111,
             "#46039f"
            ],
            [
             0.2222222222222222,
             "#7201a8"
            ],
            [
             0.3333333333333333,
             "#9c179e"
            ],
            [
             0.4444444444444444,
             "#bd3786"
            ],
            [
             0.5555555555555556,
             "#d8576b"
            ],
            [
             0.6666666666666666,
             "#ed7953"
            ],
            [
             0.7777777777777778,
             "#fb9f3a"
            ],
            [
             0.8888888888888888,
             "#fdca26"
            ],
            [
             1,
             "#f0f921"
            ]
           ]
          },
          "colorway": [
           "#636efa",
           "#EF553B",
           "#00cc96",
           "#ab63fa",
           "#FFA15A",
           "#19d3f3",
           "#FF6692",
           "#B6E880",
           "#FF97FF",
           "#FECB52"
          ],
          "font": {
           "color": "#2a3f5f"
          },
          "geo": {
           "bgcolor": "white",
           "lakecolor": "white",
           "landcolor": "#E5ECF6",
           "showlakes": true,
           "showland": true,
           "subunitcolor": "white"
          },
          "hoverlabel": {
           "align": "left"
          },
          "hovermode": "closest",
          "mapbox": {
           "style": "light"
          },
          "paper_bgcolor": "white",
          "plot_bgcolor": "#E5ECF6",
          "polar": {
           "angularaxis": {
            "gridcolor": "white",
            "linecolor": "white",
            "ticks": ""
           },
           "bgcolor": "#E5ECF6",
           "radialaxis": {
            "gridcolor": "white",
            "linecolor": "white",
            "ticks": ""
           }
          },
          "scene": {
           "xaxis": {
            "backgroundcolor": "#E5ECF6",
            "gridcolor": "white",
            "gridwidth": 2,
            "linecolor": "white",
            "showbackground": true,
            "ticks": "",
            "zerolinecolor": "white"
           },
           "yaxis": {
            "backgroundcolor": "#E5ECF6",
            "gridcolor": "white",
            "gridwidth": 2,
            "linecolor": "white",
            "showbackground": true,
            "ticks": "",
            "zerolinecolor": "white"
           },
           "zaxis": {
            "backgroundcolor": "#E5ECF6",
            "gridcolor": "white",
            "gridwidth": 2,
            "linecolor": "white",
            "showbackground": true,
            "ticks": "",
            "zerolinecolor": "white"
           }
          },
          "shapedefaults": {
           "line": {
            "color": "#2a3f5f"
           }
          },
          "ternary": {
           "aaxis": {
            "gridcolor": "white",
            "linecolor": "white",
            "ticks": ""
           },
           "baxis": {
            "gridcolor": "white",
            "linecolor": "white",
            "ticks": ""
           },
           "bgcolor": "#E5ECF6",
           "caxis": {
            "gridcolor": "white",
            "linecolor": "white",
            "ticks": ""
           }
          },
          "title": {
           "x": 0.05
          },
          "xaxis": {
           "automargin": true,
           "gridcolor": "white",
           "linecolor": "white",
           "ticks": "",
           "title": {
            "standoff": 15
           },
           "zerolinecolor": "white",
           "zerolinewidth": 2
          },
          "yaxis": {
           "automargin": true,
           "gridcolor": "white",
           "linecolor": "white",
           "ticks": "",
           "title": {
            "standoff": 15
           },
           "zerolinecolor": "white",
           "zerolinewidth": 2
          }
         }
        },
        "title": {
         "text": "Distribution Channel별 평균 총 숙박일수"
        },
        "xaxis": {
         "anchor": "y",
         "domain": [
          0,
          1
         ],
         "tickangle": -45,
         "title": {
          "text": "Distribution Channel"
         }
        },
        "yaxis": {
         "anchor": "x",
         "domain": [
          0,
          1
         ],
         "title": {
          "text": "평균 총 숙박일수"
         }
        }
       }
      }
     },
     "metadata": {},
     "output_type": "display_data"
    }
   ],
   "source": [
    "import plotly.express as px\n",
    "\n",
    "# 1. 그룹화할 열을 'distribution_channel', 집계할 열을 'total_stay'로 설정하고 평균을 계산합니다. 계산된 결과를 총 숙박일수가 많은 순서로 정렬합니다.\n",
    "avg_total_stay_by_distribution_channel = df.groupby('distribution_channel')['total_stay'].mean().sort_values(ascending=False)\n",
    "\n",
    "print(\"\\nDistribution Channel별 평균 총 숙박일수:\")\n",
    "display(avg_total_stay_by_distribution_channel)\n",
    "\n",
    "# 전체 평균 총 숙박일수 계산\n",
    "overall_avg_total_stay = df['total_stay'].mean()\n",
    "print(f\"\\n전체 평균 총 숙박일수: {overall_avg_total_stay:.2f}\")\n",
    "\n",
    "# 2-4. Plotly Express를 사용하여 막대 그래프를 생성하고, 제목, 레이블, 색상, 텍스트 표시, x축 레이블 각도를 설정합니다.\n",
    "fig = px.bar(x=avg_total_stay_by_distribution_channel.index, y=avg_total_stay_by_distribution_channel.values,\n",
    "             title='Distribution Channel별 평균 총 숙박일수',\n",
    "             labels={'x': 'Distribution Channel', 'y': '평균 총 숙박일수'},\n",
    "             color=avg_total_stay_by_distribution_channel.index, # 각 막대에 다른 색상 적용\n",
    "             color_discrete_sequence=px.colors.qualitative.Plotly,\n",
    "             text=avg_total_stay_by_distribution_channel.values.round(2)) # 막대 위에 텍스트로 평균 총 숙박일수 표시 (소수점 둘째 자리까지)\n",
    "\n",
    "# 전체 평균 총 숙박일수 점선 추가\n",
    "fig.add_hline(y=overall_avg_total_stay, line_dash=\"dash\", line_color=\"red\", annotation_text=f\"전체 평균: {overall_avg_total_stay:.2f}\", annotation_position=\"bottom right\")\n",
    "\n",
    "fig.update_layout(xaxis_tickangle=-45) # x축 레이블 각도 조절\n",
    "fig.update_traces(textposition='outside') # 텍스트 위치를 막대 외부에 표시\n",
    "fig.show()"
   ]
  },
  {
   "cell_type": "markdown",
   "id": "a0ade59e",
   "metadata": {},
   "source": [
    "### 3.5 Distribution Channel과 예약 변경 횟수 (booking changes) 관계 분석"
   ]
  },
  {
   "cell_type": "markdown",
   "id": "12ec3518",
   "metadata": {},
   "source": [
    "**Distribution Channel과 예약 변경 횟수 관계 분석 결과 요약:** Distribution Channel별 평균 예약 변경 횟수를 분석한 결과, Corporate 및 Direct 채널의 평균 예약 변경 횟수가 TA/TO 채널보다 많았습니다. Undefined 채널은 예약 변경이 없었습니다."
   ]
  },
  {
   "cell_type": "code",
   "execution_count": null,
   "id": "9255a43e",
   "metadata": {},
   "outputs": [
    {
     "name": "stdout",
     "output_type": "stream",
     "text": [
      "\n",
      "Distribution Channel별 평균 예약 변경 횟수:\n"
     ]
    },
    {
     "data": {
      "text/plain": [
       "distribution_channel\n",
       "Direct       0.398293\n",
       "Corporate    0.364086\n",
       "TA/TO        0.185123\n",
       "GDS          0.093264\n",
       "Undefined    0.000000\n",
       "Name: booking_changes, dtype: float64"
      ]
     },
     "metadata": {},
     "output_type": "display_data"
    },
    {
     "name": "stdout",
     "output_type": "stream",
     "text": [
      "\n",
      "전체 평균 예약 변경 횟수: 0.22\n"
     ]
    },
    {
     "data": {
      "application/vnd.plotly.v1+json": {
       "config": {
        "plotlyServerURL": "https://plot.ly"
       },
       "data": [
        {
         "hovertemplate": "color=Direct<br>Distribution Channel=%{x}<br>평균 예약 변경 횟수=%{y}<br>text=%{text}<extra></extra>",
         "legendgroup": "Direct",
         "marker": {
          "color": "#636EFA",
          "pattern": {
           "shape": ""
          }
         },
         "name": "Direct",
         "orientation": "v",
         "showlegend": true,
         "text": {
          "bdata": "mpmZmZmZ2T8=",
          "dtype": "f8"
         },
         "textposition": "outside",
         "type": "bar",
         "x": [
          "Direct"
         ],
         "xaxis": "x",
         "y": {
          "bdata": "q5UWpKF92T8=",
          "dtype": "f8"
         },
         "yaxis": "y"
        },
        {
         "hovertemplate": "color=Corporate<br>Distribution Channel=%{x}<br>평균 예약 변경 횟수=%{y}<br>text=%{text}<extra></extra>",
         "legendgroup": "Corporate",
         "marker": {
          "color": "#EF553B",
          "pattern": {
           "shape": ""
          }
         },
         "name": "Corporate",
         "orientation": "v",
         "showlegend": true,
         "text": {
          "bdata": "CtejcD0K1z8=",
          "dtype": "f8"
         },
         "textposition": "outside",
         "type": "bar",
         "x": [
          "Corporate"
         ],
         "xaxis": "x",
         "y": {
          "bdata": "1Jdo+C1N1z8=",
          "dtype": "f8"
         },
         "yaxis": "y"
        },
        {
         "hovertemplate": "color=TA/TO<br>Distribution Channel=%{x}<br>평균 예약 변경 횟수=%{y}<br>text=%{text}<extra></extra>",
         "legendgroup": "TA/TO",
         "marker": {
          "color": "#00CC96",
          "pattern": {
           "shape": ""
          }
         },
         "name": "TA/TO",
         "orientation": "v",
         "showlegend": true,
         "text": {
          "bdata": "UrgehetRyD8=",
          "dtype": "f8"
         },
         "textposition": "outside",
         "type": "bar",
         "x": [
          "TA/TO"
         ],
         "xaxis": "x",
         "y": {
          "bdata": "3at0Th2yxz8=",
          "dtype": "f8"
         },
         "yaxis": "y"
        },
        {
         "hovertemplate": "color=GDS<br>Distribution Channel=%{x}<br>평균 예약 변경 횟수=%{y}<br>text=%{text}<extra></extra>",
         "legendgroup": "GDS",
         "marker": {
          "color": "#AB63FA",
          "pattern": {
           "shape": ""
          }
         },
         "name": "GDS",
         "orientation": "v",
         "showlegend": true,
         "text": {
          "bdata": "CtejcD0Ktz8=",
          "dtype": "f8"
         },
         "textposition": "outside",
         "type": "bar",
         "x": [
          "GDS"
         ],
         "xaxis": "x",
         "y": {
          "bdata": "6JEScirgtz8=",
          "dtype": "f8"
         },
         "yaxis": "y"
        },
        {
         "hovertemplate": "color=Undefined<br>Distribution Channel=%{x}<br>평균 예약 변경 횟수=%{y}<br>text=%{text}<extra></extra>",
         "legendgroup": "Undefined",
         "marker": {
          "color": "#FFA15A",
          "pattern": {
           "shape": ""
          }
         },
         "name": "Undefined",
         "orientation": "v",
         "showlegend": true,
         "text": {
          "bdata": "AAAAAAAAAAA=",
          "dtype": "f8"
         },
         "textposition": "outside",
         "type": "bar",
         "x": [
          "Undefined"
         ],
         "xaxis": "x",
         "y": {
          "bdata": "AAAAAAAAAAA=",
          "dtype": "f8"
         },
         "yaxis": "y"
        }
       ],
       "layout": {
        "annotations": [
         {
          "showarrow": false,
          "text": "전체 평균: 0.22",
          "x": 1,
          "xanchor": "right",
          "xref": "x domain",
          "y": 0.22112404724013737,
          "yanchor": "top",
          "yref": "y"
         }
        ],
        "barmode": "relative",
        "legend": {
         "title": {
          "text": "color"
         },
         "tracegroupgap": 0
        },
        "shapes": [
         {
          "line": {
           "color": "red",
           "dash": "dash"
          },
          "type": "line",
          "x0": 0,
          "x1": 1,
          "xref": "x domain",
          "y0": 0.22112404724013737,
          "y1": 0.22112404724013737,
          "yref": "y"
         }
        ],
        "template": {
         "data": {
          "bar": [
           {
            "error_x": {
             "color": "#2a3f5f"
            },
            "error_y": {
             "color": "#2a3f5f"
            },
            "marker": {
             "line": {
              "color": "#E5ECF6",
              "width": 0.5
             },
             "pattern": {
              "fillmode": "overlay",
              "size": 10,
              "solidity": 0.2
             }
            },
            "type": "bar"
           }
          ],
          "barpolar": [
           {
            "marker": {
             "line": {
              "color": "#E5ECF6",
              "width": 0.5
             },
             "pattern": {
              "fillmode": "overlay",
              "size": 10,
              "solidity": 0.2
             }
            },
            "type": "barpolar"
           }
          ],
          "carpet": [
           {
            "aaxis": {
             "endlinecolor": "#2a3f5f",
             "gridcolor": "white",
             "linecolor": "white",
             "minorgridcolor": "white",
             "startlinecolor": "#2a3f5f"
            },
            "baxis": {
             "endlinecolor": "#2a3f5f",
             "gridcolor": "white",
             "linecolor": "white",
             "minorgridcolor": "white",
             "startlinecolor": "#2a3f5f"
            },
            "type": "carpet"
           }
          ],
          "choropleth": [
           {
            "colorbar": {
             "outlinewidth": 0,
             "ticks": ""
            },
            "type": "choropleth"
           }
          ],
          "contour": [
           {
            "colorbar": {
             "outlinewidth": 0,
             "ticks": ""
            },
            "colorscale": [
             [
              0,
              "#0d0887"
             ],
             [
              0.1111111111111111,
              "#46039f"
             ],
             [
              0.2222222222222222,
              "#7201a8"
             ],
             [
              0.3333333333333333,
              "#9c179e"
             ],
             [
              0.4444444444444444,
              "#bd3786"
             ],
             [
              0.5555555555555556,
              "#d8576b"
             ],
             [
              0.6666666666666666,
              "#ed7953"
             ],
             [
              0.7777777777777778,
              "#fb9f3a"
             ],
             [
              0.8888888888888888,
              "#fdca26"
             ],
             [
              1,
              "#f0f921"
             ]
            ],
            "type": "contour"
           }
          ],
          "contourcarpet": [
           {
            "colorbar": {
             "outlinewidth": 0,
             "ticks": ""
            },
            "type": "contourcarpet"
           }
          ],
          "heatmap": [
           {
            "colorbar": {
             "outlinewidth": 0,
             "ticks": ""
            },
            "colorscale": [
             [
              0,
              "#0d0887"
             ],
             [
              0.1111111111111111,
              "#46039f"
             ],
             [
              0.2222222222222222,
              "#7201a8"
             ],
             [
              0.3333333333333333,
              "#9c179e"
             ],
             [
              0.4444444444444444,
              "#bd3786"
             ],
             [
              0.5555555555555556,
              "#d8576b"
             ],
             [
              0.6666666666666666,
              "#ed7953"
             ],
             [
              0.7777777777777778,
              "#fb9f3a"
             ],
             [
              0.8888888888888888,
              "#fdca26"
             ],
             [
              1,
              "#f0f921"
             ]
            ],
            "type": "heatmap"
           }
          ],
          "histogram": [
           {
            "marker": {
             "pattern": {
              "fillmode": "overlay",
              "size": 10,
              "solidity": 0.2
             }
            },
            "type": "histogram"
           }
          ],
          "histogram2d": [
           {
            "colorbar": {
             "outlinewidth": 0,
             "ticks": ""
            },
            "colorscale": [
             [
              0,
              "#0d0887"
             ],
             [
              0.1111111111111111,
              "#46039f"
             ],
             [
              0.2222222222222222,
              "#7201a8"
             ],
             [
              0.3333333333333333,
              "#9c179e"
             ],
             [
              0.4444444444444444,
              "#bd3786"
             ],
             [
              0.5555555555555556,
              "#d8576b"
             ],
             [
              0.6666666666666666,
              "#ed7953"
             ],
             [
              0.7777777777777778,
              "#fb9f3a"
             ],
             [
              0.8888888888888888,
              "#fdca26"
             ],
             [
              1,
              "#f0f921"
             ]
            ],
            "type": "histogram2d"
           }
          ],
          "histogram2dcontour": [
           {
            "colorbar": {
             "outlinewidth": 0,
             "ticks": ""
            },
            "colorscale": [
             [
              0,
              "#0d0887"
             ],
             [
              0.1111111111111111,
              "#46039f"
             ],
             [
              0.2222222222222222,
              "#7201a8"
             ],
             [
              0.3333333333333333,
              "#9c179e"
             ],
             [
              0.4444444444444444,
              "#bd3786"
             ],
             [
              0.5555555555555556,
              "#d8576b"
             ],
             [
              0.6666666666666666,
              "#ed7953"
             ],
             [
              0.7777777777777778,
              "#fb9f3a"
             ],
             [
              0.8888888888888888,
              "#fdca26"
             ],
             [
              1,
              "#f0f921"
             ]
            ],
            "type": "histogram2dcontour"
           }
          ],
          "mesh3d": [
           {
            "colorbar": {
             "outlinewidth": 0,
             "ticks": ""
            },
            "type": "mesh3d"
           }
          ],
          "parcoords": [
           {
            "line": {
             "colorbar": {
              "outlinewidth": 0,
              "ticks": ""
             }
            },
            "type": "parcoords"
           }
          ],
          "pie": [
           {
            "automargin": true,
            "type": "pie"
           }
          ],
          "scatter": [
           {
            "fillpattern": {
             "fillmode": "overlay",
             "size": 10,
             "solidity": 0.2
            },
            "type": "scatter"
           }
          ],
          "scatter3d": [
           {
            "line": {
             "colorbar": {
              "outlinewidth": 0,
              "ticks": ""
             }
            },
            "marker": {
             "colorbar": {
              "outlinewidth": 0,
              "ticks": ""
             }
            },
            "type": "scatter3d"
           }
          ],
          "scattercarpet": [
           {
            "marker": {
             "colorbar": {
              "outlinewidth": 0,
              "ticks": ""
             }
            },
            "type": "scattercarpet"
           }
          ],
          "scattergeo": [
           {
            "marker": {
             "colorbar": {
              "outlinewidth": 0,
              "ticks": ""
             }
            },
            "type": "scattergeo"
           }
          ],
          "scattergl": [
           {
            "marker": {
             "colorbar": {
              "outlinewidth": 0,
              "ticks": ""
             }
            },
            "type": "scattergl"
           }
          ],
          "scattermap": [
           {
            "marker": {
             "colorbar": {
              "outlinewidth": 0,
              "ticks": ""
             }
            },
            "type": "scattermap"
           }
          ],
          "scattermapbox": [
           {
            "marker": {
             "colorbar": {
              "outlinewidth": 0,
              "ticks": ""
             }
            },
            "type": "scattermapbox"
           }
          ],
          "scatterpolar": [
           {
            "marker": {
             "colorbar": {
              "outlinewidth": 0,
              "ticks": ""
             }
            },
            "type": "scatterpolar"
           }
          ],
          "scatterpolargl": [
           {
            "marker": {
             "colorbar": {
              "outlinewidth": 0,
              "ticks": ""
             }
            },
            "type": "scatterpolargl"
           }
          ],
          "scatterternary": [
           {
            "marker": {
             "colorbar": {
              "outlinewidth": 0,
              "ticks": ""
             }
            },
            "type": "scatterternary"
           }
          ],
          "surface": [
           {
            "colorbar": {
             "outlinewidth": 0,
             "ticks": ""
            },
            "colorscale": [
             [
              0,
              "#0d0887"
             ],
             [
              0.1111111111111111,
              "#46039f"
             ],
             [
              0.2222222222222222,
              "#7201a8"
             ],
             [
              0.3333333333333333,
              "#9c179e"
             ],
             [
              0.4444444444444444,
              "#bd3786"
             ],
             [
              0.5555555555555556,
              "#d8576b"
             ],
             [
              0.6666666666666666,
              "#ed7953"
             ],
             [
              0.7777777777777778,
              "#fb9f3a"
             ],
             [
              0.8888888888888888,
              "#fdca26"
             ],
             [
              1,
              "#f0f921"
             ]
            ],
            "type": "surface"
           }
          ],
          "table": [
           {
            "cells": {
             "fill": {
              "color": "#EBF0F8"
             },
             "line": {
              "color": "white"
             }
            },
            "header": {
             "fill": {
              "color": "#C8D4E3"
             },
             "line": {
              "color": "white"
             }
            },
            "type": "table"
           }
          ]
         },
         "layout": {
          "annotationdefaults": {
           "arrowcolor": "#2a3f5f",
           "arrowhead": 0,
           "arrowwidth": 1
          },
          "autotypenumbers": "strict",
          "coloraxis": {
           "colorbar": {
            "outlinewidth": 0,
            "ticks": ""
           }
          },
          "colorscale": {
           "diverging": [
            [
             0,
             "#8e0152"
            ],
            [
             0.1,
             "#c51b7d"
            ],
            [
             0.2,
             "#de77ae"
            ],
            [
             0.3,
             "#f1b6da"
            ],
            [
             0.4,
             "#fde0ef"
            ],
            [
             0.5,
             "#f7f7f7"
            ],
            [
             0.6,
             "#e6f5d0"
            ],
            [
             0.7,
             "#b8e186"
            ],
            [
             0.8,
             "#7fbc41"
            ],
            [
             0.9,
             "#4d9221"
            ],
            [
             1,
             "#276419"
            ]
           ],
           "sequential": [
            [
             0,
             "#0d0887"
            ],
            [
             0.1111111111111111,
             "#46039f"
            ],
            [
             0.2222222222222222,
             "#7201a8"
            ],
            [
             0.3333333333333333,
             "#9c179e"
            ],
            [
             0.4444444444444444,
             "#bd3786"
            ],
            [
             0.5555555555555556,
             "#d8576b"
            ],
            [
             0.6666666666666666,
             "#ed7953"
            ],
            [
             0.7777777777777778,
             "#fb9f3a"
            ],
            [
             0.8888888888888888,
             "#fdca26"
            ],
            [
             1,
             "#f0f921"
            ]
           ],
           "sequentialminus": [
            [
             0,
             "#0d0887"
            ],
            [
             0.1111111111111111,
             "#46039f"
            ],
            [
             0.2222222222222222,
             "#7201a8"
            ],
            [
             0.3333333333333333,
             "#9c179e"
            ],
            [
             0.4444444444444444,
             "#bd3786"
            ],
            [
             0.5555555555555556,
             "#d8576b"
            ],
            [
             0.6666666666666666,
             "#ed7953"
            ],
            [
             0.7777777777777778,
             "#fb9f3a"
            ],
            [
             0.8888888888888888,
             "#fdca26"
            ],
            [
             1,
             "#f0f921"
            ]
           ]
          },
          "colorway": [
           "#636efa",
           "#EF553B",
           "#00cc96",
           "#ab63fa",
           "#FFA15A",
           "#19d3f3",
           "#FF6692",
           "#B6E880",
           "#FF97FF",
           "#FECB52"
          ],
          "font": {
           "color": "#2a3f5f"
          },
          "geo": {
           "bgcolor": "white",
           "lakecolor": "white",
           "landcolor": "#E5ECF6",
           "showlakes": true,
           "showland": true,
           "subunitcolor": "white"
          },
          "hoverlabel": {
           "align": "left"
          },
          "hovermode": "closest",
          "mapbox": {
           "style": "light"
          },
          "paper_bgcolor": "white",
          "plot_bgcolor": "#E5ECF6",
          "polar": {
           "angularaxis": {
            "gridcolor": "white",
            "linecolor": "white",
            "ticks": ""
           },
           "bgcolor": "#E5ECF6",
           "radialaxis": {
            "gridcolor": "white",
            "linecolor": "white",
            "ticks": ""
           }
          },
          "scene": {
           "xaxis": {
            "backgroundcolor": "#E5ECF6",
            "gridcolor": "white",
            "gridwidth": 2,
            "linecolor": "white",
            "showbackground": true,
            "ticks": "",
            "zerolinecolor": "white"
           },
           "yaxis": {
            "backgroundcolor": "#E5ECF6",
            "gridcolor": "white",
            "gridwidth": 2,
            "linecolor": "white",
            "showbackground": true,
            "ticks": "",
            "zerolinecolor": "white"
           },
           "zaxis": {
            "backgroundcolor": "#E5ECF6",
            "gridcolor": "white",
            "gridwidth": 2,
            "linecolor": "white",
            "showbackground": true,
            "ticks": "",
            "zerolinecolor": "white"
           }
          },
          "shapedefaults": {
           "line": {
            "color": "#2a3f5f"
           }
          },
          "ternary": {
           "aaxis": {
            "gridcolor": "white",
            "linecolor": "white",
            "ticks": ""
           },
           "baxis": {
            "gridcolor": "white",
            "linecolor": "white",
            "ticks": ""
           },
           "bgcolor": "#E5ECF6",
           "caxis": {
            "gridcolor": "white",
            "linecolor": "white",
            "ticks": ""
           }
          },
          "title": {
           "x": 0.05
          },
          "xaxis": {
           "automargin": true,
           "gridcolor": "white",
           "linecolor": "white",
           "ticks": "",
           "title": {
            "standoff": 15
           },
           "zerolinecolor": "white",
           "zerolinewidth": 2
          },
          "yaxis": {
           "automargin": true,
           "gridcolor": "white",
           "linecolor": "white",
           "ticks": "",
           "title": {
            "standoff": 15
           },
           "zerolinecolor": "white",
           "zerolinewidth": 2
          }
         }
        },
        "title": {
         "text": "Distribution Channel별 평균 예약 변경 횟수"
        },
        "xaxis": {
         "anchor": "y",
         "domain": [
          0,
          1
         ],
         "tickangle": -45,
         "title": {
          "text": "Distribution Channel"
         }
        },
        "yaxis": {
         "anchor": "x",
         "domain": [
          0,
          1
         ],
         "title": {
          "text": "평균 예약 변경 횟수"
         }
        }
       }
      }
     },
     "metadata": {},
     "output_type": "display_data"
    }
   ],
   "source": [
    "# 1. df 데이터프레임을 'distribution_channel' 열을 기준으로 그룹화하고, 각 그룹의 'booking_changes' 열의 평균을 계산합니다.\n",
    "avg_booking_changes_by_distribution_channel = df.groupby('distribution_channel')['booking_changes'].mean()\n",
    "\n",
    "# 2. 계산된 평균 예약 변경 횟수를 내림차순으로 정렬합니다.\n",
    "avg_booking_changes_by_distribution_channel = avg_booking_changes_by_distribution_channel.sort_values(ascending=False)\n",
    "\n",
    "print(\"\\nDistribution Channel별 평균 예약 변경 횟수:\")\n",
    "display(avg_booking_changes_by_distribution_channel)\n",
    "\n",
    "# 전체 평균 예약 변경 횟수 계산\n",
    "overall_avg_booking_changes = df['booking_changes'].mean()\n",
    "print(f\"\\n전체 평균 예약 변경 횟수: {overall_avg_booking_changes:.2f}\")\n",
    "\n",
    "\n",
    "# 3-9. Plotly Express를 사용하여 막대 그래프를 생성하고, 제목, 레이블, 색상, 텍스트 표시, x축 레이블 각도를 설정합니다.\n",
    "fig = px.bar(x=avg_booking_changes_by_distribution_channel.index, y=avg_booking_changes_by_distribution_channel.values,\n",
    "             title='Distribution Channel별 평균 예약 변경 횟수', # 4. 그래프 제목 설정\n",
    "             labels={'x': 'Distribution Channel', 'y': '평균 예약 변경 횟수'}, # 5. x, y축 레이블 설정\n",
    "             color=avg_booking_changes_by_distribution_channel.index, # 6. 각 막대에 다른 색상 적용\n",
    "             color_discrete_sequence=px.colors.qualitative.Plotly, # 다양한 색상 활용\n",
    "             text=avg_booking_changes_by_distribution_channel.values.round(2)) # 7. 막대 위에 평균 예약 변경 횟수 표시 (소수점 둘째 자리까지)\n",
    "\n",
    "# 전체 평균 예약 변경 횟수 점선 추가\n",
    "fig.add_hline(y=overall_avg_booking_changes, line_dash=\"dash\", line_color=\"red\", annotation_text=f\"전체 평균: {overall_avg_booking_changes:.2f}\", annotation_position=\"bottom right\")\n",
    "\n",
    "fig.update_layout(xaxis_tickangle=-45) # 8. x축 레이블 각도 조절\n",
    "fig.update_traces(textposition='outside') # 9. 텍스트 위치를 막대 외부에 표시\n",
    "\n",
    "# 10. 생성된 그래프를 출력합니다.\n",
    "fig.show()"
   ]
  },
  {
   "cell_type": "markdown",
   "id": "cf6378a1",
   "metadata": {},
   "source": [
    "### 3.6 추가적인 Distribution Channel 관계 탐색"
   ]
  },
  {
   "cell_type": "markdown",
   "id": "9d789da8",
   "metadata": {},
   "source": [
    "**추가 Distribution Channel 관계 분석 결과 요약:** Distribution Channel과 다른 범주형 변수(Customer Type, Reserved/Assigned Room Type, Deposit Type, Meal, Country) 간의 관계를 교차표로 살펴본 결과, 각 Distribution Channel은 특정 Customer Type, Room Type, Deposit Type 등과 연관성이 있음을 확인했습니다. 예를 들어, Corporate 채널은 Corporate Customer Type과 강한 연관성을 보였습니다."
   ]
  },
  {
   "cell_type": "code",
   "execution_count": null,
   "id": "17f51b02",
   "metadata": {},
   "outputs": [
    {
     "name": "stdout",
     "output_type": "stream",
     "text": [
      "Distribution Channel과 다른 범주형 변수 간의 관계:\n",
      "\n",
      "--- Distribution Channel vs customer_type ---\n"
     ]
    },
    {
     "data": {
      "text/html": [
       "<style type=\"text/css\">\n",
       "#T_9e8dc_row0_col0, #T_9e8dc_row0_col1, #T_9e8dc_row0_col2, #T_9e8dc_row0_col4, #T_9e8dc_row1_col0, #T_9e8dc_row1_col2, #T_9e8dc_row1_col3, #T_9e8dc_row1_col4, #T_9e8dc_row3_col2 {\n",
       "  background-color: #f7fbff;\n",
       "  color: #000000;\n",
       "}\n",
       "#T_9e8dc_row0_col3 {\n",
       "  background-color: #eef5fc;\n",
       "  color: #000000;\n",
       "}\n",
       "#T_9e8dc_row1_col1 {\n",
       "  background-color: #f5fafe;\n",
       "  color: #000000;\n",
       "}\n",
       "#T_9e8dc_row2_col0, #T_9e8dc_row2_col1, #T_9e8dc_row2_col2, #T_9e8dc_row2_col3, #T_9e8dc_row3_col4 {\n",
       "  background-color: #08306b;\n",
       "  color: #f1f1f1;\n",
       "}\n",
       "#T_9e8dc_row2_col4 {\n",
       "  background-color: #c6dbef;\n",
       "  color: #000000;\n",
       "}\n",
       "#T_9e8dc_row3_col0 {\n",
       "  background-color: #4e9acb;\n",
       "  color: #f1f1f1;\n",
       "}\n",
       "#T_9e8dc_row3_col1 {\n",
       "  background-color: #d5e5f4;\n",
       "  color: #000000;\n",
       "}\n",
       "#T_9e8dc_row3_col3 {\n",
       "  background-color: #bed8ec;\n",
       "  color: #000000;\n",
       "}\n",
       "</style>\n",
       "<table id=\"T_9e8dc\">\n",
       "  <thead>\n",
       "    <tr>\n",
       "      <th class=\"index_name level0\" >distribution_channel</th>\n",
       "      <th id=\"T_9e8dc_level0_col0\" class=\"col_heading level0 col0\" >Corporate</th>\n",
       "      <th id=\"T_9e8dc_level0_col1\" class=\"col_heading level0 col1\" >Direct</th>\n",
       "      <th id=\"T_9e8dc_level0_col2\" class=\"col_heading level0 col2\" >GDS</th>\n",
       "      <th id=\"T_9e8dc_level0_col3\" class=\"col_heading level0 col3\" >TA/TO</th>\n",
       "      <th id=\"T_9e8dc_level0_col4\" class=\"col_heading level0 col4\" >Undefined</th>\n",
       "    </tr>\n",
       "    <tr>\n",
       "      <th class=\"index_name level0\" >customer_type</th>\n",
       "      <th class=\"blank col0\" >&nbsp;</th>\n",
       "      <th class=\"blank col1\" >&nbsp;</th>\n",
       "      <th class=\"blank col2\" >&nbsp;</th>\n",
       "      <th class=\"blank col3\" >&nbsp;</th>\n",
       "      <th class=\"blank col4\" >&nbsp;</th>\n",
       "    </tr>\n",
       "  </thead>\n",
       "  <tbody>\n",
       "    <tr>\n",
       "      <th id=\"T_9e8dc_level0_row0\" class=\"row_heading level0 row0\" >Contract</th>\n",
       "      <td id=\"T_9e8dc_row0_col0\" class=\"data row0 col0\" >27</td>\n",
       "      <td id=\"T_9e8dc_row0_col1\" class=\"data row0 col1\" >19</td>\n",
       "      <td id=\"T_9e8dc_row0_col2\" class=\"data row0 col2\" >0</td>\n",
       "      <td id=\"T_9e8dc_row0_col3\" class=\"data row0 col3\" >4030</td>\n",
       "      <td id=\"T_9e8dc_row0_col4\" class=\"data row0 col4\" >0</td>\n",
       "    </tr>\n",
       "    <tr>\n",
       "      <th id=\"T_9e8dc_level0_row1\" class=\"row_heading level0 row1\" >Group</th>\n",
       "      <td id=\"T_9e8dc_row1_col0\" class=\"data row1 col0\" >31</td>\n",
       "      <td id=\"T_9e8dc_row1_col1\" class=\"data row1 col1\" >116</td>\n",
       "      <td id=\"T_9e8dc_row1_col2\" class=\"data row1 col2\" >0</td>\n",
       "      <td id=\"T_9e8dc_row1_col3\" class=\"data row1 col3\" >430</td>\n",
       "      <td id=\"T_9e8dc_row1_col4\" class=\"data row1 col4\" >0</td>\n",
       "    </tr>\n",
       "    <tr>\n",
       "      <th id=\"T_9e8dc_level0_row2\" class=\"row_heading level0 row2\" >Transient</th>\n",
       "      <td id=\"T_9e8dc_row2_col0\" class=\"data row2 col0\" >4157</td>\n",
       "      <td id=\"T_9e8dc_row2_col1\" class=\"data row2 col1\" >12343</td>\n",
       "      <td id=\"T_9e8dc_row2_col2\" class=\"data row2 col2\" >193</td>\n",
       "      <td id=\"T_9e8dc_row2_col3\" class=\"data row2 col3\" >72919</td>\n",
       "      <td id=\"T_9e8dc_row2_col4\" class=\"data row2 col4\" >1</td>\n",
       "    </tr>\n",
       "    <tr>\n",
       "      <th id=\"T_9e8dc_level0_row3\" class=\"row_heading level0 row3\" >Transient-Party</th>\n",
       "      <td id=\"T_9e8dc_row3_col0\" class=\"data row3 col0\" >2462</td>\n",
       "      <td id=\"T_9e8dc_row3_col1\" class=\"data row3 col1\" >2167</td>\n",
       "      <td id=\"T_9e8dc_row3_col2\" class=\"data row3 col2\" >0</td>\n",
       "      <td id=\"T_9e8dc_row3_col3\" class=\"data row3 col3\" >20491</td>\n",
       "      <td id=\"T_9e8dc_row3_col4\" class=\"data row3 col4\" >4</td>\n",
       "    </tr>\n",
       "  </tbody>\n",
       "</table>\n"
      ],
      "text/plain": [
       "<pandas.io.formats.style.Styler at 0x2414a600190>"
      ]
     },
     "metadata": {},
     "output_type": "display_data"
    },
    {
     "name": "stdout",
     "output_type": "stream",
     "text": [
      "\n",
      "--- Distribution Channel vs reserved_room_type ---\n"
     ]
    },
    {
     "data": {
      "text/html": [
       "<style type=\"text/css\">\n",
       "#T_c6b45_row0_col0, #T_c6b45_row0_col1, #T_c6b45_row0_col2, #T_c6b45_row0_col3, #T_c6b45_row1_col4 {\n",
       "  background-color: #08306b;\n",
       "  color: #f1f1f1;\n",
       "}\n",
       "#T_c6b45_row0_col4 {\n",
       "  background-color: #c6dbef;\n",
       "  color: #000000;\n",
       "}\n",
       "#T_c6b45_row1_col0, #T_c6b45_row1_col2, #T_c6b45_row2_col2, #T_c6b45_row2_col4, #T_c6b45_row3_col4, #T_c6b45_row4_col4, #T_c6b45_row5_col0, #T_c6b45_row5_col2, #T_c6b45_row5_col4, #T_c6b45_row6_col2, #T_c6b45_row6_col4, #T_c6b45_row7_col0, #T_c6b45_row7_col2, #T_c6b45_row7_col4, #T_c6b45_row8_col0, #T_c6b45_row8_col1, #T_c6b45_row8_col2, #T_c6b45_row8_col3, #T_c6b45_row8_col4, #T_c6b45_row9_col0, #T_c6b45_row9_col1, #T_c6b45_row9_col2, #T_c6b45_row9_col3, #T_c6b45_row9_col4 {\n",
       "  background-color: #f7fbff;\n",
       "  color: #000000;\n",
       "}\n",
       "#T_c6b45_row1_col1 {\n",
       "  background-color: #f1f7fd;\n",
       "  color: #000000;\n",
       "}\n",
       "#T_c6b45_row1_col3 {\n",
       "  background-color: #f5f9fe;\n",
       "  color: #000000;\n",
       "}\n",
       "#T_c6b45_row2_col0, #T_c6b45_row6_col0, #T_c6b45_row7_col3 {\n",
       "  background-color: #f6faff;\n",
       "  color: #000000;\n",
       "}\n",
       "#T_c6b45_row2_col1 {\n",
       "  background-color: #eff6fc;\n",
       "  color: #000000;\n",
       "}\n",
       "#T_c6b45_row2_col3 {\n",
       "  background-color: #f5fafe;\n",
       "  color: #000000;\n",
       "}\n",
       "#T_c6b45_row3_col0, #T_c6b45_row3_col2 {\n",
       "  background-color: #e8f1fa;\n",
       "  color: #000000;\n",
       "}\n",
       "#T_c6b45_row3_col1 {\n",
       "  background-color: #b7d4ea;\n",
       "  color: #000000;\n",
       "}\n",
       "#T_c6b45_row3_col3 {\n",
       "  background-color: #cadef0;\n",
       "  color: #000000;\n",
       "}\n",
       "#T_c6b45_row4_col0 {\n",
       "  background-color: #edf4fc;\n",
       "  color: #000000;\n",
       "}\n",
       "#T_c6b45_row4_col1 {\n",
       "  background-color: #d1e2f3;\n",
       "  color: #000000;\n",
       "}\n",
       "#T_c6b45_row4_col2 {\n",
       "  background-color: #d5e5f4;\n",
       "  color: #000000;\n",
       "}\n",
       "#T_c6b45_row4_col3 {\n",
       "  background-color: #eaf3fb;\n",
       "  color: #000000;\n",
       "}\n",
       "#T_c6b45_row5_col1 {\n",
       "  background-color: #e2edf8;\n",
       "  color: #000000;\n",
       "}\n",
       "#T_c6b45_row5_col3 {\n",
       "  background-color: #f2f7fd;\n",
       "  color: #000000;\n",
       "}\n",
       "#T_c6b45_row6_col1 {\n",
       "  background-color: #eaf2fb;\n",
       "  color: #000000;\n",
       "}\n",
       "#T_c6b45_row6_col3 {\n",
       "  background-color: #f3f8fe;\n",
       "  color: #000000;\n",
       "}\n",
       "#T_c6b45_row7_col1 {\n",
       "  background-color: #f4f9fe;\n",
       "  color: #000000;\n",
       "}\n",
       "</style>\n",
       "<table id=\"T_c6b45\">\n",
       "  <thead>\n",
       "    <tr>\n",
       "      <th class=\"index_name level0\" >distribution_channel</th>\n",
       "      <th id=\"T_c6b45_level0_col0\" class=\"col_heading level0 col0\" >Corporate</th>\n",
       "      <th id=\"T_c6b45_level0_col1\" class=\"col_heading level0 col1\" >Direct</th>\n",
       "      <th id=\"T_c6b45_level0_col2\" class=\"col_heading level0 col2\" >GDS</th>\n",
       "      <th id=\"T_c6b45_level0_col3\" class=\"col_heading level0 col3\" >TA/TO</th>\n",
       "      <th id=\"T_c6b45_level0_col4\" class=\"col_heading level0 col4\" >Undefined</th>\n",
       "    </tr>\n",
       "    <tr>\n",
       "      <th class=\"index_name level0\" >reserved_room_type</th>\n",
       "      <th class=\"blank col0\" >&nbsp;</th>\n",
       "      <th class=\"blank col1\" >&nbsp;</th>\n",
       "      <th class=\"blank col2\" >&nbsp;</th>\n",
       "      <th class=\"blank col3\" >&nbsp;</th>\n",
       "      <th class=\"blank col4\" >&nbsp;</th>\n",
       "    </tr>\n",
       "  </thead>\n",
       "  <tbody>\n",
       "    <tr>\n",
       "      <th id=\"T_c6b45_level0_row0\" class=\"row_heading level0 row0\" >A</th>\n",
       "      <td id=\"T_c6b45_row0_col0\" class=\"data row0 col0\" >5847</td>\n",
       "      <td id=\"T_c6b45_row0_col1\" class=\"data row0 col1\" >8321</td>\n",
       "      <td id=\"T_c6b45_row0_col2\" class=\"data row0 col2\" >154</td>\n",
       "      <td id=\"T_c6b45_row0_col3\" class=\"data row0 col3\" >71671</td>\n",
       "      <td id=\"T_c6b45_row0_col4\" class=\"data row0 col4\" >1</td>\n",
       "    </tr>\n",
       "    <tr>\n",
       "      <th id=\"T_c6b45_level0_row1\" class=\"row_heading level0 row1\" >B</th>\n",
       "      <td id=\"T_c6b45_row1_col0\" class=\"data row1 col0\" >3</td>\n",
       "      <td id=\"T_c6b45_row1_col1\" class=\"data row1 col1\" >264</td>\n",
       "      <td id=\"T_c6b45_row1_col2\" class=\"data row1 col2\" >0</td>\n",
       "      <td id=\"T_c6b45_row1_col3\" class=\"data row1 col3\" >847</td>\n",
       "      <td id=\"T_c6b45_row1_col4\" class=\"data row1 col4\" >4</td>\n",
       "    </tr>\n",
       "    <tr>\n",
       "      <th id=\"T_c6b45_level0_row2\" class=\"row_heading level0 row2\" >C</th>\n",
       "      <td id=\"T_c6b45_row2_col0\" class=\"data row2 col0\" >23</td>\n",
       "      <td id=\"T_c6b45_row2_col1\" class=\"data row2 col1\" >332</td>\n",
       "      <td id=\"T_c6b45_row2_col2\" class=\"data row2 col2\" >0</td>\n",
       "      <td id=\"T_c6b45_row2_col3\" class=\"data row2 col3\" >577</td>\n",
       "      <td id=\"T_c6b45_row2_col4\" class=\"data row2 col4\" >0</td>\n",
       "    </tr>\n",
       "    <tr>\n",
       "      <th id=\"T_c6b45_level0_row3\" class=\"row_heading level0 row3\" >D</th>\n",
       "      <td id=\"T_c6b45_row3_col0\" class=\"data row3 col0\" >455</td>\n",
       "      <td id=\"T_c6b45_row3_col1\" class=\"data row3 col1\" >2482</td>\n",
       "      <td id=\"T_c6b45_row3_col2\" class=\"data row3 col2\" >12</td>\n",
       "      <td id=\"T_c6b45_row3_col3\" class=\"data row3 col3\" >16252</td>\n",
       "      <td id=\"T_c6b45_row3_col4\" class=\"data row3 col4\" >0</td>\n",
       "    </tr>\n",
       "    <tr>\n",
       "      <th id=\"T_c6b45_level0_row4\" class=\"row_heading level0 row4\" >E</th>\n",
       "      <td id=\"T_c6b45_row4_col0\" class=\"data row4 col0\" >302</td>\n",
       "      <td id=\"T_c6b45_row4_col1\" class=\"data row4 col1\" >1606</td>\n",
       "      <td id=\"T_c6b45_row4_col2\" class=\"data row4 col2\" >27</td>\n",
       "      <td id=\"T_c6b45_row4_col3\" class=\"data row4 col3\" >4600</td>\n",
       "      <td id=\"T_c6b45_row4_col4\" class=\"data row4 col4\" >0</td>\n",
       "    </tr>\n",
       "    <tr>\n",
       "      <th id=\"T_c6b45_level0_row5\" class=\"row_heading level0 row5\" >F</th>\n",
       "      <td id=\"T_c6b45_row5_col0\" class=\"data row5 col0\" >15</td>\n",
       "      <td id=\"T_c6b45_row5_col1\" class=\"data row5 col1\" >909</td>\n",
       "      <td id=\"T_c6b45_row5_col2\" class=\"data row5 col2\" >0</td>\n",
       "      <td id=\"T_c6b45_row5_col3\" class=\"data row5 col3\" >1973</td>\n",
       "      <td id=\"T_c6b45_row5_col4\" class=\"data row5 col4\" >0</td>\n",
       "    </tr>\n",
       "    <tr>\n",
       "      <th id=\"T_c6b45_level0_row6\" class=\"row_heading level0 row6\" >G</th>\n",
       "      <td id=\"T_c6b45_row6_col0\" class=\"data row6 col0\" >23</td>\n",
       "      <td id=\"T_c6b45_row6_col1\" class=\"data row6 col1\" >575</td>\n",
       "      <td id=\"T_c6b45_row6_col2\" class=\"data row6 col2\" >0</td>\n",
       "      <td id=\"T_c6b45_row6_col3\" class=\"data row6 col3\" >1496</td>\n",
       "      <td id=\"T_c6b45_row6_col4\" class=\"data row6 col4\" >0</td>\n",
       "    </tr>\n",
       "    <tr>\n",
       "      <th id=\"T_c6b45_level0_row7\" class=\"row_heading level0 row7\" >H</th>\n",
       "      <td id=\"T_c6b45_row7_col0\" class=\"data row7 col0\" >2</td>\n",
       "      <td id=\"T_c6b45_row7_col1\" class=\"data row7 col1\" >149</td>\n",
       "      <td id=\"T_c6b45_row7_col2\" class=\"data row7 col2\" >0</td>\n",
       "      <td id=\"T_c6b45_row7_col3\" class=\"data row7 col3\" >450</td>\n",
       "      <td id=\"T_c6b45_row7_col4\" class=\"data row7 col4\" >0</td>\n",
       "    </tr>\n",
       "    <tr>\n",
       "      <th id=\"T_c6b45_level0_row8\" class=\"row_heading level0 row8\" >L</th>\n",
       "      <td id=\"T_c6b45_row8_col0\" class=\"data row8 col0\" >0</td>\n",
       "      <td id=\"T_c6b45_row8_col1\" class=\"data row8 col1\" >6</td>\n",
       "      <td id=\"T_c6b45_row8_col2\" class=\"data row8 col2\" >0</td>\n",
       "      <td id=\"T_c6b45_row8_col3\" class=\"data row8 col3\" >0</td>\n",
       "      <td id=\"T_c6b45_row8_col4\" class=\"data row8 col4\" >0</td>\n",
       "    </tr>\n",
       "    <tr>\n",
       "      <th id=\"T_c6b45_level0_row9\" class=\"row_heading level0 row9\" >P</th>\n",
       "      <td id=\"T_c6b45_row9_col0\" class=\"data row9 col0\" >7</td>\n",
       "      <td id=\"T_c6b45_row9_col1\" class=\"data row9 col1\" >1</td>\n",
       "      <td id=\"T_c6b45_row9_col2\" class=\"data row9 col2\" >0</td>\n",
       "      <td id=\"T_c6b45_row9_col3\" class=\"data row9 col3\" >4</td>\n",
       "      <td id=\"T_c6b45_row9_col4\" class=\"data row9 col4\" >0</td>\n",
       "    </tr>\n",
       "  </tbody>\n",
       "</table>\n"
      ],
      "text/plain": [
       "<pandas.io.formats.style.Styler at 0x2414a600190>"
      ]
     },
     "metadata": {},
     "output_type": "display_data"
    },
    {
     "name": "stdout",
     "output_type": "stream",
     "text": [
      "\n",
      "--- Distribution Channel vs assigned_room_type ---\n"
     ]
    },
    {
     "data": {
      "text/html": [
       "<style type=\"text/css\">\n",
       "#T_e59c1_row0_col0, #T_e59c1_row0_col1, #T_e59c1_row0_col2, #T_e59c1_row0_col3, #T_e59c1_row1_col4 {\n",
       "  background-color: #08306b;\n",
       "  color: #f1f1f1;\n",
       "}\n",
       "#T_e59c1_row0_col4 {\n",
       "  background-color: #c6dbef;\n",
       "  color: #000000;\n",
       "}\n",
       "#T_e59c1_row1_col0, #T_e59c1_row6_col0 {\n",
       "  background-color: #f4f9fe;\n",
       "  color: #000000;\n",
       "}\n",
       "#T_e59c1_row1_col1 {\n",
       "  background-color: #edf4fc;\n",
       "  color: #000000;\n",
       "}\n",
       "#T_e59c1_row1_col2, #T_e59c1_row2_col2, #T_e59c1_row7_col0, #T_e59c1_row8_col3, #T_e59c1_row9_col1 {\n",
       "  background-color: #f6faff;\n",
       "  color: #000000;\n",
       "}\n",
       "#T_e59c1_row1_col3, #T_e59c1_row5_col0, #T_e59c1_row6_col3, #T_e59c1_row7_col1 {\n",
       "  background-color: #f2f7fd;\n",
       "  color: #000000;\n",
       "}\n",
       "#T_e59c1_row2_col0, #T_e59c1_row5_col3 {\n",
       "  background-color: #eff6fc;\n",
       "  color: #000000;\n",
       "}\n",
       "#T_e59c1_row2_col1 {\n",
       "  background-color: #e5eff9;\n",
       "  color: #000000;\n",
       "}\n",
       "#T_e59c1_row2_col3 {\n",
       "  background-color: #f2f8fd;\n",
       "  color: #000000;\n",
       "}\n",
       "#T_e59c1_row2_col4, #T_e59c1_row3_col4, #T_e59c1_row4_col4, #T_e59c1_row5_col2, #T_e59c1_row5_col4, #T_e59c1_row6_col2, #T_e59c1_row6_col4, #T_e59c1_row7_col2, #T_e59c1_row7_col4, #T_e59c1_row8_col2, #T_e59c1_row8_col4, #T_e59c1_row9_col0, #T_e59c1_row9_col2, #T_e59c1_row9_col3, #T_e59c1_row9_col4, #T_e59c1_row10_col0, #T_e59c1_row10_col1, #T_e59c1_row10_col2, #T_e59c1_row10_col3, #T_e59c1_row10_col4, #T_e59c1_row11_col0, #T_e59c1_row11_col1, #T_e59c1_row11_col2, #T_e59c1_row11_col3, #T_e59c1_row11_col4 {\n",
       "  background-color: #f7fbff;\n",
       "  color: #000000;\n",
       "}\n",
       "#T_e59c1_row3_col0 {\n",
       "  background-color: #abd0e6;\n",
       "  color: #000000;\n",
       "}\n",
       "#T_e59c1_row3_col1 {\n",
       "  background-color: #61a7d2;\n",
       "  color: #f1f1f1;\n",
       "}\n",
       "#T_e59c1_row3_col2 {\n",
       "  background-color: #eaf2fb;\n",
       "  color: #000000;\n",
       "}\n",
       "#T_e59c1_row3_col3 {\n",
       "  background-color: #afd1e7;\n",
       "  color: #000000;\n",
       "}\n",
       "#T_e59c1_row4_col0 {\n",
       "  background-color: #e0ecf8;\n",
       "  color: #000000;\n",
       "}\n",
       "#T_e59c1_row4_col1 {\n",
       "  background-color: #bad6eb;\n",
       "  color: #000000;\n",
       "}\n",
       "#T_e59c1_row4_col2 {\n",
       "  background-color: #cde0f1;\n",
       "  color: #000000;\n",
       "}\n",
       "#T_e59c1_row4_col3 {\n",
       "  background-color: #e6f0f9;\n",
       "  color: #000000;\n",
       "}\n",
       "#T_e59c1_row5_col1 {\n",
       "  background-color: #d4e4f4;\n",
       "  color: #000000;\n",
       "}\n",
       "#T_e59c1_row6_col1 {\n",
       "  background-color: #e3eef8;\n",
       "  color: #000000;\n",
       "}\n",
       "#T_e59c1_row7_col3, #T_e59c1_row8_col0, #T_e59c1_row8_col1 {\n",
       "  background-color: #f5fafe;\n",
       "  color: #000000;\n",
       "}\n",
       "</style>\n",
       "<table id=\"T_e59c1\">\n",
       "  <thead>\n",
       "    <tr>\n",
       "      <th class=\"index_name level0\" >distribution_channel</th>\n",
       "      <th id=\"T_e59c1_level0_col0\" class=\"col_heading level0 col0\" >Corporate</th>\n",
       "      <th id=\"T_e59c1_level0_col1\" class=\"col_heading level0 col1\" >Direct</th>\n",
       "      <th id=\"T_e59c1_level0_col2\" class=\"col_heading level0 col2\" >GDS</th>\n",
       "      <th id=\"T_e59c1_level0_col3\" class=\"col_heading level0 col3\" >TA/TO</th>\n",
       "      <th id=\"T_e59c1_level0_col4\" class=\"col_heading level0 col4\" >Undefined</th>\n",
       "    </tr>\n",
       "    <tr>\n",
       "      <th class=\"index_name level0\" >assigned_room_type</th>\n",
       "      <th class=\"blank col0\" >&nbsp;</th>\n",
       "      <th class=\"blank col1\" >&nbsp;</th>\n",
       "      <th class=\"blank col2\" >&nbsp;</th>\n",
       "      <th class=\"blank col3\" >&nbsp;</th>\n",
       "      <th class=\"blank col4\" >&nbsp;</th>\n",
       "    </tr>\n",
       "  </thead>\n",
       "  <tbody>\n",
       "    <tr>\n",
       "      <th id=\"T_e59c1_level0_row0\" class=\"row_heading level0 row0\" >A</th>\n",
       "      <td id=\"T_e59c1_row0_col0\" class=\"data row0 col0\" >4236</td>\n",
       "      <td id=\"T_e59c1_row0_col1\" class=\"data row0 col1\" >6407</td>\n",
       "      <td id=\"T_e59c1_row0_col2\" class=\"data row0 col2\" >149</td>\n",
       "      <td id=\"T_e59c1_row0_col3\" class=\"data row0 col3\" >63260</td>\n",
       "      <td id=\"T_e59c1_row0_col4\" class=\"data row0 col4\" >1</td>\n",
       "    </tr>\n",
       "    <tr>\n",
       "      <th id=\"T_e59c1_level0_row1\" class=\"row_heading level0 row1\" >B</th>\n",
       "      <td id=\"T_e59c1_row1_col0\" class=\"data row1 col0\" >79</td>\n",
       "      <td id=\"T_e59c1_row1_col1\" class=\"data row1 col1\" >330</td>\n",
       "      <td id=\"T_e59c1_row1_col2\" class=\"data row1 col2\" >1</td>\n",
       "      <td id=\"T_e59c1_row1_col3\" class=\"data row1 col3\" >1749</td>\n",
       "      <td id=\"T_e59c1_row1_col4\" class=\"data row1 col4\" >4</td>\n",
       "    </tr>\n",
       "    <tr>\n",
       "      <th id=\"T_e59c1_level0_row2\" class=\"row_heading level0 row2\" >C</th>\n",
       "      <td id=\"T_e59c1_row2_col0\" class=\"data row2 col0\" >175</td>\n",
       "      <td id=\"T_e59c1_row2_col1\" class=\"data row2 col1\" >597</td>\n",
       "      <td id=\"T_e59c1_row2_col2\" class=\"data row2 col2\" >1</td>\n",
       "      <td id=\"T_e59c1_row2_col3\" class=\"data row2 col3\" >1602</td>\n",
       "      <td id=\"T_e59c1_row2_col4\" class=\"data row2 col4\" >0</td>\n",
       "    </tr>\n",
       "    <tr>\n",
       "      <th id=\"T_e59c1_level0_row3\" class=\"row_heading level0 row3\" >D</th>\n",
       "      <td id=\"T_e59c1_row3_col0\" class=\"data row3 col0\" >1415</td>\n",
       "      <td id=\"T_e59c1_row3_col1\" class=\"data row3 col1\" >3387</td>\n",
       "      <td id=\"T_e59c1_row3_col2\" class=\"data row3 col2\" >10</td>\n",
       "      <td id=\"T_e59c1_row3_col3\" class=\"data row3 col3\" >20510</td>\n",
       "      <td id=\"T_e59c1_row3_col4\" class=\"data row3 col4\" >0</td>\n",
       "    </tr>\n",
       "    <tr>\n",
       "      <th id=\"T_e59c1_level0_row4\" class=\"row_heading level0 row4\" >E</th>\n",
       "      <td id=\"T_e59c1_row4_col0\" class=\"data row4 col0\" >491</td>\n",
       "      <td id=\"T_e59c1_row4_col1\" class=\"data row4 col1\" >1830</td>\n",
       "      <td id=\"T_e59c1_row4_col2\" class=\"data row4 col2\" >32</td>\n",
       "      <td id=\"T_e59c1_row4_col3\" class=\"data row4 col3\" >5453</td>\n",
       "      <td id=\"T_e59c1_row4_col4\" class=\"data row4 col4\" >0</td>\n",
       "    </tr>\n",
       "    <tr>\n",
       "      <th id=\"T_e59c1_level0_row5\" class=\"row_heading level0 row5\" >F</th>\n",
       "      <td id=\"T_e59c1_row5_col0\" class=\"data row5 col0\" >117</td>\n",
       "      <td id=\"T_e59c1_row5_col1\" class=\"data row5 col1\" >1131</td>\n",
       "      <td id=\"T_e59c1_row5_col2\" class=\"data row5 col2\" >0</td>\n",
       "      <td id=\"T_e59c1_row5_col3\" class=\"data row5 col3\" >2503</td>\n",
       "      <td id=\"T_e59c1_row5_col4\" class=\"data row5 col4\" >0</td>\n",
       "    </tr>\n",
       "    <tr>\n",
       "      <th id=\"T_e59c1_level0_row6\" class=\"row_heading level0 row6\" >G</th>\n",
       "      <td id=\"T_e59c1_row6_col0\" class=\"data row6 col0\" >74</td>\n",
       "      <td id=\"T_e59c1_row6_col1\" class=\"data row6 col1\" >676</td>\n",
       "      <td id=\"T_e59c1_row6_col2\" class=\"data row6 col2\" >0</td>\n",
       "      <td id=\"T_e59c1_row6_col3\" class=\"data row6 col3\" >1803</td>\n",
       "      <td id=\"T_e59c1_row6_col4\" class=\"data row6 col4\" >0</td>\n",
       "    </tr>\n",
       "    <tr>\n",
       "      <th id=\"T_e59c1_level0_row7\" class=\"row_heading level0 row7\" >H</th>\n",
       "      <td id=\"T_e59c1_row7_col0\" class=\"data row7 col0\" >29</td>\n",
       "      <td id=\"T_e59c1_row7_col1\" class=\"data row7 col1\" >180</td>\n",
       "      <td id=\"T_e59c1_row7_col2\" class=\"data row7 col2\" >0</td>\n",
       "      <td id=\"T_e59c1_row7_col3\" class=\"data row7 col3\" >503</td>\n",
       "      <td id=\"T_e59c1_row7_col4\" class=\"data row7 col4\" >0</td>\n",
       "    </tr>\n",
       "    <tr>\n",
       "      <th id=\"T_e59c1_level0_row8\" class=\"row_heading level0 row8\" >I</th>\n",
       "      <td id=\"T_e59c1_row8_col0\" class=\"data row8 col0\" >41</td>\n",
       "      <td id=\"T_e59c1_row8_col1\" class=\"data row8 col1\" >63</td>\n",
       "      <td id=\"T_e59c1_row8_col2\" class=\"data row8 col2\" >0</td>\n",
       "      <td id=\"T_e59c1_row8_col3\" class=\"data row8 col3\" >259</td>\n",
       "      <td id=\"T_e59c1_row8_col4\" class=\"data row8 col4\" >0</td>\n",
       "    </tr>\n",
       "    <tr>\n",
       "      <th id=\"T_e59c1_level0_row9\" class=\"row_heading level0 row9\" >K</th>\n",
       "      <td id=\"T_e59c1_row9_col0\" class=\"data row9 col0\" >13</td>\n",
       "      <td id=\"T_e59c1_row9_col1\" class=\"data row9 col1\" >42</td>\n",
       "      <td id=\"T_e59c1_row9_col2\" class=\"data row9 col2\" >0</td>\n",
       "      <td id=\"T_e59c1_row9_col3\" class=\"data row9 col3\" >224</td>\n",
       "      <td id=\"T_e59c1_row9_col4\" class=\"data row9 col4\" >0</td>\n",
       "    </tr>\n",
       "    <tr>\n",
       "      <th id=\"T_e59c1_level0_row10\" class=\"row_heading level0 row10\" >L</th>\n",
       "      <td id=\"T_e59c1_row10_col0\" class=\"data row10 col0\" >0</td>\n",
       "      <td id=\"T_e59c1_row10_col1\" class=\"data row10 col1\" >1</td>\n",
       "      <td id=\"T_e59c1_row10_col2\" class=\"data row10 col2\" >0</td>\n",
       "      <td id=\"T_e59c1_row10_col3\" class=\"data row10 col3\" >0</td>\n",
       "      <td id=\"T_e59c1_row10_col4\" class=\"data row10 col4\" >0</td>\n",
       "    </tr>\n",
       "    <tr>\n",
       "      <th id=\"T_e59c1_level0_row11\" class=\"row_heading level0 row11\" >P</th>\n",
       "      <td id=\"T_e59c1_row11_col0\" class=\"data row11 col0\" >7</td>\n",
       "      <td id=\"T_e59c1_row11_col1\" class=\"data row11 col1\" >1</td>\n",
       "      <td id=\"T_e59c1_row11_col2\" class=\"data row11 col2\" >0</td>\n",
       "      <td id=\"T_e59c1_row11_col3\" class=\"data row11 col3\" >4</td>\n",
       "      <td id=\"T_e59c1_row11_col4\" class=\"data row11 col4\" >0</td>\n",
       "    </tr>\n",
       "  </tbody>\n",
       "</table>\n"
      ],
      "text/plain": [
       "<pandas.io.formats.style.Styler at 0x2414a600190>"
      ]
     },
     "metadata": {},
     "output_type": "display_data"
    },
    {
     "name": "stdout",
     "output_type": "stream",
     "text": [
      "\n",
      "--- Distribution Channel vs deposit_type ---\n"
     ]
    },
    {
     "data": {
      "text/html": [
       "<style type=\"text/css\">\n",
       "#T_da7ab_row0_col0, #T_da7ab_row0_col1, #T_da7ab_row0_col2, #T_da7ab_row0_col3, #T_da7ab_row0_col4 {\n",
       "  background-color: #08306b;\n",
       "  color: #f1f1f1;\n",
       "}\n",
       "#T_da7ab_row1_col0 {\n",
       "  background-color: #e6f0f9;\n",
       "  color: #000000;\n",
       "}\n",
       "#T_da7ab_row1_col1 {\n",
       "  background-color: #f3f8fe;\n",
       "  color: #000000;\n",
       "}\n",
       "#T_da7ab_row1_col2, #T_da7ab_row1_col4, #T_da7ab_row2_col0, #T_da7ab_row2_col1, #T_da7ab_row2_col2, #T_da7ab_row2_col3, #T_da7ab_row2_col4 {\n",
       "  background-color: #f7fbff;\n",
       "  color: #000000;\n",
       "}\n",
       "#T_da7ab_row1_col3 {\n",
       "  background-color: #d7e6f5;\n",
       "  color: #000000;\n",
       "}\n",
       "</style>\n",
       "<table id=\"T_da7ab\">\n",
       "  <thead>\n",
       "    <tr>\n",
       "      <th class=\"index_name level0\" >distribution_channel</th>\n",
       "      <th id=\"T_da7ab_level0_col0\" class=\"col_heading level0 col0\" >Corporate</th>\n",
       "      <th id=\"T_da7ab_level0_col1\" class=\"col_heading level0 col1\" >Direct</th>\n",
       "      <th id=\"T_da7ab_level0_col2\" class=\"col_heading level0 col2\" >GDS</th>\n",
       "      <th id=\"T_da7ab_level0_col3\" class=\"col_heading level0 col3\" >TA/TO</th>\n",
       "      <th id=\"T_da7ab_level0_col4\" class=\"col_heading level0 col4\" >Undefined</th>\n",
       "    </tr>\n",
       "    <tr>\n",
       "      <th class=\"index_name level0\" >deposit_type</th>\n",
       "      <th class=\"blank col0\" >&nbsp;</th>\n",
       "      <th class=\"blank col1\" >&nbsp;</th>\n",
       "      <th class=\"blank col2\" >&nbsp;</th>\n",
       "      <th class=\"blank col3\" >&nbsp;</th>\n",
       "      <th class=\"blank col4\" >&nbsp;</th>\n",
       "    </tr>\n",
       "  </thead>\n",
       "  <tbody>\n",
       "    <tr>\n",
       "      <th id=\"T_da7ab_level0_row0\" class=\"row_heading level0 row0\" >No Deposit</th>\n",
       "      <td id=\"T_da7ab_row0_col0\" class=\"data row0 col0\" >6135</td>\n",
       "      <td id=\"T_da7ab_row0_col1\" class=\"data row0 col1\" >14149</td>\n",
       "      <td id=\"T_da7ab_row0_col2\" class=\"data row0 col2\" >193</td>\n",
       "      <td id=\"T_da7ab_row0_col3\" class=\"data row0 col3\" >84159</td>\n",
       "      <td id=\"T_da7ab_row0_col4\" class=\"data row0 col4\" >5</td>\n",
       "    </tr>\n",
       "    <tr>\n",
       "      <th id=\"T_da7ab_level0_row1\" class=\"row_heading level0 row1\" >Non Refund</th>\n",
       "      <td id=\"T_da7ab_row1_col0\" class=\"data row1 col0\" >538</td>\n",
       "      <td id=\"T_da7ab_row1_col1\" class=\"data row1 col1\" >398</td>\n",
       "      <td id=\"T_da7ab_row1_col2\" class=\"data row1 col2\" >0</td>\n",
       "      <td id=\"T_da7ab_row1_col3\" class=\"data row1 col3\" >13651</td>\n",
       "      <td id=\"T_da7ab_row1_col4\" class=\"data row1 col4\" >0</td>\n",
       "    </tr>\n",
       "    <tr>\n",
       "      <th id=\"T_da7ab_level0_row2\" class=\"row_heading level0 row2\" >Refundable</th>\n",
       "      <td id=\"T_da7ab_row2_col0\" class=\"data row2 col0\" >4</td>\n",
       "      <td id=\"T_da7ab_row2_col1\" class=\"data row2 col1\" >98</td>\n",
       "      <td id=\"T_da7ab_row2_col2\" class=\"data row2 col2\" >0</td>\n",
       "      <td id=\"T_da7ab_row2_col3\" class=\"data row2 col3\" >60</td>\n",
       "      <td id=\"T_da7ab_row2_col4\" class=\"data row2 col4\" >0</td>\n",
       "    </tr>\n",
       "  </tbody>\n",
       "</table>\n"
      ],
      "text/plain": [
       "<pandas.io.formats.style.Styler at 0x2414a600190>"
      ]
     },
     "metadata": {},
     "output_type": "display_data"
    },
    {
     "name": "stdout",
     "output_type": "stream",
     "text": [
      "\n",
      "--- Distribution Channel vs meal ---\n"
     ]
    },
    {
     "data": {
      "text/html": [
       "<style type=\"text/css\">\n",
       "#T_77752_row0_col0, #T_77752_row0_col1, #T_77752_row0_col2, #T_77752_row0_col3, #T_77752_row0_col4 {\n",
       "  background-color: #08306b;\n",
       "  color: #f1f1f1;\n",
       "}\n",
       "#T_77752_row1_col0, #T_77752_row1_col1, #T_77752_row1_col2, #T_77752_row1_col3, #T_77752_row1_col4, #T_77752_row2_col2, #T_77752_row3_col0, #T_77752_row3_col4, #T_77752_row4_col0, #T_77752_row4_col2, #T_77752_row4_col4 {\n",
       "  background-color: #f7fbff;\n",
       "  color: #000000;\n",
       "}\n",
       "#T_77752_row2_col0, #T_77752_row3_col1 {\n",
       "  background-color: #f4f9fe;\n",
       "  color: #000000;\n",
       "}\n",
       "#T_77752_row2_col1 {\n",
       "  background-color: #dfebf7;\n",
       "  color: #000000;\n",
       "}\n",
       "#T_77752_row2_col3 {\n",
       "  background-color: #d6e6f4;\n",
       "  color: #000000;\n",
       "}\n",
       "#T_77752_row2_col4 {\n",
       "  background-color: #c6dbef;\n",
       "  color: #000000;\n",
       "}\n",
       "#T_77752_row3_col2 {\n",
       "  background-color: #3484bf;\n",
       "  color: #f1f1f1;\n",
       "}\n",
       "#T_77752_row3_col3 {\n",
       "  background-color: #ddeaf7;\n",
       "  color: #000000;\n",
       "}\n",
       "#T_77752_row4_col1, #T_77752_row4_col3 {\n",
       "  background-color: #f6faff;\n",
       "  color: #000000;\n",
       "}\n",
       "</style>\n",
       "<table id=\"T_77752\">\n",
       "  <thead>\n",
       "    <tr>\n",
       "      <th class=\"index_name level0\" >distribution_channel</th>\n",
       "      <th id=\"T_77752_level0_col0\" class=\"col_heading level0 col0\" >Corporate</th>\n",
       "      <th id=\"T_77752_level0_col1\" class=\"col_heading level0 col1\" >Direct</th>\n",
       "      <th id=\"T_77752_level0_col2\" class=\"col_heading level0 col2\" >GDS</th>\n",
       "      <th id=\"T_77752_level0_col3\" class=\"col_heading level0 col3\" >TA/TO</th>\n",
       "      <th id=\"T_77752_level0_col4\" class=\"col_heading level0 col4\" >Undefined</th>\n",
       "    </tr>\n",
       "    <tr>\n",
       "      <th class=\"index_name level0\" >meal</th>\n",
       "      <th class=\"blank col0\" >&nbsp;</th>\n",
       "      <th class=\"blank col1\" >&nbsp;</th>\n",
       "      <th class=\"blank col2\" >&nbsp;</th>\n",
       "      <th class=\"blank col3\" >&nbsp;</th>\n",
       "      <th class=\"blank col4\" >&nbsp;</th>\n",
       "    </tr>\n",
       "  </thead>\n",
       "  <tbody>\n",
       "    <tr>\n",
       "      <th id=\"T_77752_level0_row0\" class=\"row_heading level0 row0\" >BB</th>\n",
       "      <td id=\"T_77752_row0_col0\" class=\"data row0 col0\" >6370</td>\n",
       "      <td id=\"T_77752_row0_col1\" class=\"data row0 col1\" >12109</td>\n",
       "      <td id=\"T_77752_row0_col2\" class=\"data row0 col2\" >115</td>\n",
       "      <td id=\"T_77752_row0_col3\" class=\"data row0 col3\" >73712</td>\n",
       "      <td id=\"T_77752_row0_col4\" class=\"data row0 col4\" >4</td>\n",
       "    </tr>\n",
       "    <tr>\n",
       "      <th id=\"T_77752_level0_row1\" class=\"row_heading level0 row1\" >FB</th>\n",
       "      <td id=\"T_77752_row1_col0\" class=\"data row1 col0\" >52</td>\n",
       "      <td id=\"T_77752_row1_col1\" class=\"data row1 col1\" >194</td>\n",
       "      <td id=\"T_77752_row1_col2\" class=\"data row1 col2\" >0</td>\n",
       "      <td id=\"T_77752_row1_col3\" class=\"data row1 col3\" >552</td>\n",
       "      <td id=\"T_77752_row1_col4\" class=\"data row1 col4\" >0</td>\n",
       "    </tr>\n",
       "    <tr>\n",
       "      <th id=\"T_77752_level0_row2\" class=\"row_heading level0 row2\" >HB</th>\n",
       "      <td id=\"T_77752_row2_col0\" class=\"data row2 col0\" >164</td>\n",
       "      <td id=\"T_77752_row2_col1\" class=\"data row2 col1\" >1673</td>\n",
       "      <td id=\"T_77752_row2_col2\" class=\"data row2 col2\" >0</td>\n",
       "      <td id=\"T_77752_row2_col3\" class=\"data row2 col3\" >12625</td>\n",
       "      <td id=\"T_77752_row2_col4\" class=\"data row2 col4\" >1</td>\n",
       "    </tr>\n",
       "    <tr>\n",
       "      <th id=\"T_77752_level0_row3\" class=\"row_heading level0 row3\" >SC</th>\n",
       "      <td id=\"T_77752_row3_col0\" class=\"data row3 col0\" >44</td>\n",
       "      <td id=\"T_77752_row3_col1\" class=\"data row3 col1\" >396</td>\n",
       "      <td id=\"T_77752_row3_col2\" class=\"data row3 col2\" >78</td>\n",
       "      <td id=\"T_77752_row3_col3\" class=\"data row3 col3\" >10132</td>\n",
       "      <td id=\"T_77752_row3_col4\" class=\"data row3 col4\" >0</td>\n",
       "    </tr>\n",
       "    <tr>\n",
       "      <th id=\"T_77752_level0_row4\" class=\"row_heading level0 row4\" >Undefined</th>\n",
       "      <td id=\"T_77752_row4_col0\" class=\"data row4 col0\" >47</td>\n",
       "      <td id=\"T_77752_row4_col1\" class=\"data row4 col1\" >273</td>\n",
       "      <td id=\"T_77752_row4_col2\" class=\"data row4 col2\" >0</td>\n",
       "      <td id=\"T_77752_row4_col3\" class=\"data row4 col3\" >849</td>\n",
       "      <td id=\"T_77752_row4_col4\" class=\"data row4 col4\" >0</td>\n",
       "    </tr>\n",
       "  </tbody>\n",
       "</table>\n"
      ],
      "text/plain": [
       "<pandas.io.formats.style.Styler at 0x2414a600190>"
      ]
     },
     "metadata": {},
     "output_type": "display_data"
    },
    {
     "name": "stdout",
     "output_type": "stream",
     "text": [
      "\n",
      "--- Distribution Channel vs country ---\n"
     ]
    },
    {
     "data": {
      "text/html": [
       "<style type=\"text/css\">\n",
       "#T_83423_row0_col0, #T_83423_row0_col1, #T_83423_row0_col2, #T_83423_row0_col3, #T_83423_row0_col4, #T_83423_row1_col0, #T_83423_row1_col2, #T_83423_row1_col4, #T_83423_row2_col0, #T_83423_row2_col1, #T_83423_row2_col2, #T_83423_row2_col3, #T_83423_row2_col4, #T_83423_row3_col0, #T_83423_row3_col1, #T_83423_row3_col2, #T_83423_row3_col3, #T_83423_row3_col4, #T_83423_row4_col0, #T_83423_row4_col1, #T_83423_row4_col2, #T_83423_row4_col3, #T_83423_row4_col4, #T_83423_row5_col0, #T_83423_row5_col1, #T_83423_row5_col2, #T_83423_row5_col3, #T_83423_row5_col4, #T_83423_row6_col0, #T_83423_row6_col1, #T_83423_row6_col4, #T_83423_row7_col0, #T_83423_row7_col1, #T_83423_row7_col2, #T_83423_row7_col3, #T_83423_row7_col4, #T_83423_row8_col0, #T_83423_row8_col1, #T_83423_row8_col2, #T_83423_row8_col3, #T_83423_row8_col4, #T_83423_row9_col0, #T_83423_row9_col1, #T_83423_row9_col2, #T_83423_row9_col3, #T_83423_row9_col4, #T_83423_row10_col0, #T_83423_row10_col1, #T_83423_row10_col2, #T_83423_row10_col3, #T_83423_row10_col4, #T_83423_row11_col0, #T_83423_row11_col2, #T_83423_row11_col4, #T_83423_row12_col4, #T_83423_row13_col0, #T_83423_row13_col1, #T_83423_row13_col2, #T_83423_row13_col3, #T_83423_row13_col4, #T_83423_row14_col0, #T_83423_row14_col1, #T_83423_row14_col2, #T_83423_row14_col3, #T_83423_row14_col4, #T_83423_row15_col4, #T_83423_row16_col0, #T_83423_row16_col1, #T_83423_row16_col2, #T_83423_row16_col3, #T_83423_row16_col4, #T_83423_row17_col0, #T_83423_row17_col1, #T_83423_row17_col2, #T_83423_row17_col3, #T_83423_row17_col4, #T_83423_row18_col0, #T_83423_row18_col1, #T_83423_row18_col2, #T_83423_row18_col3, #T_83423_row18_col4, #T_83423_row19_col0, #T_83423_row19_col1, #T_83423_row19_col2, #T_83423_row19_col3, #T_83423_row19_col4, #T_83423_row20_col0, #T_83423_row20_col1, #T_83423_row20_col2, #T_83423_row20_col3, #T_83423_row20_col4, #T_83423_row21_col0, #T_83423_row21_col1, #T_83423_row21_col2, #T_83423_row21_col3, #T_83423_row21_col4, #T_83423_row22_col0, #T_83423_row22_col1, #T_83423_row22_col2, #T_83423_row22_col3, #T_83423_row22_col4, #T_83423_row23_col0, #T_83423_row23_col1, #T_83423_row23_col2, #T_83423_row23_col3, #T_83423_row23_col4, #T_83423_row24_col0, #T_83423_row24_col1, #T_83423_row24_col2, #T_83423_row24_col3, #T_83423_row24_col4, #T_83423_row25_col4, #T_83423_row26_col0, #T_83423_row26_col1, #T_83423_row26_col2, #T_83423_row26_col3, #T_83423_row26_col4, #T_83423_row27_col0, #T_83423_row27_col1, #T_83423_row27_col2, #T_83423_row27_col3, #T_83423_row27_col4, #T_83423_row28_col0, #T_83423_row28_col1, #T_83423_row28_col2, #T_83423_row28_col3, #T_83423_row28_col4, #T_83423_row29_col4, #T_83423_row30_col0, #T_83423_row30_col1, #T_83423_row30_col2, #T_83423_row30_col3, #T_83423_row30_col4, #T_83423_row31_col0, #T_83423_row31_col2, #T_83423_row31_col4, #T_83423_row32_col0, #T_83423_row32_col1, #T_83423_row32_col2, #T_83423_row32_col3, #T_83423_row32_col4, #T_83423_row33_col0, #T_83423_row33_col1, #T_83423_row33_col3, #T_83423_row33_col4, #T_83423_row34_col0, #T_83423_row34_col2, #T_83423_row34_col4, #T_83423_row35_col0, #T_83423_row35_col1, #T_83423_row35_col2, #T_83423_row35_col3, #T_83423_row35_col4, #T_83423_row36_col0, #T_83423_row36_col1, #T_83423_row36_col2, #T_83423_row36_col3, #T_83423_row36_col4, #T_83423_row37_col0, #T_83423_row37_col1, #T_83423_row37_col2, #T_83423_row37_col3, #T_83423_row37_col4, #T_83423_row38_col0, #T_83423_row38_col1, #T_83423_row38_col2, #T_83423_row38_col3, #T_83423_row38_col4, #T_83423_row39_col0, #T_83423_row39_col1, #T_83423_row39_col2, #T_83423_row39_col3, #T_83423_row39_col4, #T_83423_row40_col0, #T_83423_row40_col1, #T_83423_row40_col2, #T_83423_row40_col3, #T_83423_row40_col4, #T_83423_row41_col0, #T_83423_row41_col1, #T_83423_row41_col2, #T_83423_row41_col3, #T_83423_row41_col4, #T_83423_row42_col0, #T_83423_row42_col1, #T_83423_row42_col4, #T_83423_row43_col4, #T_83423_row44_col0, #T_83423_row44_col1, #T_83423_row44_col2, #T_83423_row44_col3, #T_83423_row44_col4, #T_83423_row45_col0, #T_83423_row45_col1, #T_83423_row45_col2, #T_83423_row45_col3, #T_83423_row45_col4, #T_83423_row46_col0, #T_83423_row46_col4, #T_83423_row47_col0, #T_83423_row47_col1, #T_83423_row47_col2, #T_83423_row47_col3, #T_83423_row47_col4, #T_83423_row48_col0, #T_83423_row48_col1, #T_83423_row48_col2, #T_83423_row48_col3, #T_83423_row48_col4, #T_83423_row49_col0, #T_83423_row49_col1, #T_83423_row49_col2, #T_83423_row49_col3, #T_83423_row49_col4, #T_83423_row50_col0, #T_83423_row50_col1, #T_83423_row50_col2, #T_83423_row50_col3, #T_83423_row50_col4, #T_83423_row51_col4, #T_83423_row52_col0, #T_83423_row52_col1, #T_83423_row52_col2, #T_83423_row52_col3, #T_83423_row52_col4, #T_83423_row53_col0, #T_83423_row53_col1, #T_83423_row53_col2, #T_83423_row53_col3, #T_83423_row53_col4, #T_83423_row54_col0, #T_83423_row54_col4, #T_83423_row55_col0, #T_83423_row55_col1, #T_83423_row55_col2, #T_83423_row55_col3, #T_83423_row55_col4, #T_83423_row56_col4, #T_83423_row57_col0, #T_83423_row57_col1, #T_83423_row57_col2, #T_83423_row57_col3, #T_83423_row57_col4, #T_83423_row58_col0, #T_83423_row58_col1, #T_83423_row58_col2, #T_83423_row58_col3, #T_83423_row58_col4, #T_83423_row59_col4, #T_83423_row60_col0, #T_83423_row60_col1, #T_83423_row60_col2, #T_83423_row60_col3, #T_83423_row60_col4, #T_83423_row61_col0, #T_83423_row61_col1, #T_83423_row61_col2, #T_83423_row61_col3, #T_83423_row61_col4, #T_83423_row62_col0, #T_83423_row62_col1, #T_83423_row62_col2, #T_83423_row62_col3, #T_83423_row62_col4, #T_83423_row63_col0, #T_83423_row63_col1, #T_83423_row63_col2, #T_83423_row63_col3, #T_83423_row63_col4, #T_83423_row64_col0, #T_83423_row64_col1, #T_83423_row64_col2, #T_83423_row64_col3, #T_83423_row64_col4, #T_83423_row65_col0, #T_83423_row65_col1, #T_83423_row65_col2, #T_83423_row65_col3, #T_83423_row65_col4, #T_83423_row66_col1, #T_83423_row66_col2, #T_83423_row66_col3, #T_83423_row66_col4, #T_83423_row67_col0, #T_83423_row67_col1, #T_83423_row67_col2, #T_83423_row67_col3, #T_83423_row67_col4, #T_83423_row68_col0, #T_83423_row68_col1, #T_83423_row68_col2, #T_83423_row68_col3, #T_83423_row68_col4, #T_83423_row69_col0, #T_83423_row69_col1, #T_83423_row69_col2, #T_83423_row69_col3, #T_83423_row69_col4, #T_83423_row70_col0, #T_83423_row70_col1, #T_83423_row70_col2, #T_83423_row70_col3, #T_83423_row70_col4, #T_83423_row71_col0, #T_83423_row71_col1, #T_83423_row71_col2, #T_83423_row71_col3, #T_83423_row71_col4, #T_83423_row72_col0, #T_83423_row72_col1, #T_83423_row72_col2, #T_83423_row72_col4, #T_83423_row73_col0, #T_83423_row73_col1, #T_83423_row73_col2, #T_83423_row73_col3, #T_83423_row73_col4, #T_83423_row74_col0, #T_83423_row74_col1, #T_83423_row74_col2, #T_83423_row74_col3, #T_83423_row74_col4, #T_83423_row75_col0, #T_83423_row75_col1, #T_83423_row75_col3, #T_83423_row75_col4, #T_83423_row76_col0, #T_83423_row76_col4, #T_83423_row77_col0, #T_83423_row77_col1, #T_83423_row77_col2, #T_83423_row77_col3, #T_83423_row77_col4, #T_83423_row78_col0, #T_83423_row78_col1, #T_83423_row78_col2, #T_83423_row78_col3, #T_83423_row78_col4, #T_83423_row79_col0, #T_83423_row79_col1, #T_83423_row79_col2, #T_83423_row79_col3, #T_83423_row79_col4, #T_83423_row80_col0, #T_83423_row80_col1, #T_83423_row80_col2, #T_83423_row80_col4, #T_83423_row81_col4, #T_83423_row82_col0, #T_83423_row82_col1, #T_83423_row82_col2, #T_83423_row82_col3, #T_83423_row82_col4, #T_83423_row83_col0, #T_83423_row83_col1, #T_83423_row83_col2, #T_83423_row83_col3, #T_83423_row83_col4, #T_83423_row84_col0, #T_83423_row84_col1, #T_83423_row84_col3, #T_83423_row84_col4, #T_83423_row85_col0, #T_83423_row85_col1, #T_83423_row85_col2, #T_83423_row85_col4, #T_83423_row86_col0, #T_83423_row86_col1, #T_83423_row86_col2, #T_83423_row86_col3, #T_83423_row86_col4, #T_83423_row87_col0, #T_83423_row87_col1, #T_83423_row87_col2, #T_83423_row87_col3, #T_83423_row87_col4, #T_83423_row88_col0, #T_83423_row88_col1, #T_83423_row88_col2, #T_83423_row88_col3, #T_83423_row88_col4, #T_83423_row89_col0, #T_83423_row89_col1, #T_83423_row89_col2, #T_83423_row89_col3, #T_83423_row89_col4, #T_83423_row90_col0, #T_83423_row90_col1, #T_83423_row90_col2, #T_83423_row90_col3, #T_83423_row90_col4, #T_83423_row91_col0, #T_83423_row91_col1, #T_83423_row91_col2, #T_83423_row91_col3, #T_83423_row91_col4, #T_83423_row92_col0, #T_83423_row92_col1, #T_83423_row92_col2, #T_83423_row92_col3, #T_83423_row92_col4, #T_83423_row93_col0, #T_83423_row93_col1, #T_83423_row93_col2, #T_83423_row93_col3, #T_83423_row93_col4, #T_83423_row94_col0, #T_83423_row94_col1, #T_83423_row94_col2, #T_83423_row94_col3, #T_83423_row94_col4, #T_83423_row95_col0, #T_83423_row95_col1, #T_83423_row95_col2, #T_83423_row95_col3, #T_83423_row95_col4, #T_83423_row96_col0, #T_83423_row96_col1, #T_83423_row96_col2, #T_83423_row96_col3, #T_83423_row96_col4, #T_83423_row97_col0, #T_83423_row97_col1, #T_83423_row97_col2, #T_83423_row97_col3, #T_83423_row97_col4, #T_83423_row98_col0, #T_83423_row98_col1, #T_83423_row98_col2, #T_83423_row98_col3, #T_83423_row98_col4, #T_83423_row99_col0, #T_83423_row99_col1, #T_83423_row99_col2, #T_83423_row99_col3, #T_83423_row99_col4, #T_83423_row100_col0, #T_83423_row100_col2, #T_83423_row100_col4, #T_83423_row101_col0, #T_83423_row101_col1, #T_83423_row101_col2, #T_83423_row101_col3, #T_83423_row101_col4, #T_83423_row102_col0, #T_83423_row102_col1, #T_83423_row102_col3, #T_83423_row102_col4, #T_83423_row103_col0, #T_83423_row103_col2, #T_83423_row103_col4, #T_83423_row104_col0, #T_83423_row104_col1, #T_83423_row104_col2, #T_83423_row104_col3, #T_83423_row104_col4, #T_83423_row105_col0, #T_83423_row105_col1, #T_83423_row105_col2, #T_83423_row105_col3, #T_83423_row105_col4, #T_83423_row106_col0, #T_83423_row106_col1, #T_83423_row106_col2, #T_83423_row106_col3, #T_83423_row106_col4, #T_83423_row107_col0, #T_83423_row107_col1, #T_83423_row107_col2, #T_83423_row107_col3, #T_83423_row107_col4, #T_83423_row108_col0, #T_83423_row108_col1, #T_83423_row108_col2, #T_83423_row108_col3, #T_83423_row108_col4, #T_83423_row109_col0, #T_83423_row109_col1, #T_83423_row109_col2, #T_83423_row109_col3, #T_83423_row109_col4, #T_83423_row110_col0, #T_83423_row110_col1, #T_83423_row110_col2, #T_83423_row110_col3, #T_83423_row110_col4, #T_83423_row111_col0, #T_83423_row111_col1, #T_83423_row111_col2, #T_83423_row111_col3, #T_83423_row111_col4, #T_83423_row112_col0, #T_83423_row112_col1, #T_83423_row112_col2, #T_83423_row112_col3, #T_83423_row112_col4, #T_83423_row113_col0, #T_83423_row113_col1, #T_83423_row113_col2, #T_83423_row113_col3, #T_83423_row113_col4, #T_83423_row114_col0, #T_83423_row114_col1, #T_83423_row114_col2, #T_83423_row114_col3, #T_83423_row114_col4, #T_83423_row115_col0, #T_83423_row115_col1, #T_83423_row115_col2, #T_83423_row115_col3, #T_83423_row115_col4, #T_83423_row116_col0, #T_83423_row116_col1, #T_83423_row116_col2, #T_83423_row116_col3, #T_83423_row116_col4, #T_83423_row117_col0, #T_83423_row117_col1, #T_83423_row117_col2, #T_83423_row117_col3, #T_83423_row117_col4, #T_83423_row118_col0, #T_83423_row118_col1, #T_83423_row118_col2, #T_83423_row118_col3, #T_83423_row118_col4, #T_83423_row119_col0, #T_83423_row119_col1, #T_83423_row119_col2, #T_83423_row119_col3, #T_83423_row119_col4, #T_83423_row120_col0, #T_83423_row120_col1, #T_83423_row120_col2, #T_83423_row120_col3, #T_83423_row120_col4, #T_83423_row121_col0, #T_83423_row121_col1, #T_83423_row121_col2, #T_83423_row121_col3, #T_83423_row121_col4, #T_83423_row122_col0, #T_83423_row122_col1, #T_83423_row122_col2, #T_83423_row122_col3, #T_83423_row122_col4, #T_83423_row123_col4, #T_83423_row124_col0, #T_83423_row124_col4, #T_83423_row125_col0, #T_83423_row125_col1, #T_83423_row125_col2, #T_83423_row125_col3, #T_83423_row125_col4, #T_83423_row126_col0, #T_83423_row126_col1, #T_83423_row126_col2, #T_83423_row126_col3, #T_83423_row126_col4, #T_83423_row127_col0, #T_83423_row127_col1, #T_83423_row127_col2, #T_83423_row127_col3, #T_83423_row127_col4, #T_83423_row128_col0, #T_83423_row128_col1, #T_83423_row128_col2, #T_83423_row128_col3, #T_83423_row128_col4, #T_83423_row129_col0, #T_83423_row129_col1, #T_83423_row129_col2, #T_83423_row129_col3, #T_83423_row129_col4, #T_83423_row130_col0, #T_83423_row130_col1, #T_83423_row130_col2, #T_83423_row130_col3, #T_83423_row130_col4, #T_83423_row131_col0, #T_83423_row131_col1, #T_83423_row131_col2, #T_83423_row131_col3, #T_83423_row131_col4, #T_83423_row132_col0, #T_83423_row132_col1, #T_83423_row132_col2, #T_83423_row132_col3, #T_83423_row132_col4, #T_83423_row133_col4, #T_83423_row134_col0, #T_83423_row134_col1, #T_83423_row134_col2, #T_83423_row134_col3, #T_83423_row134_col4, #T_83423_row136_col0, #T_83423_row136_col1, #T_83423_row136_col2, #T_83423_row136_col3, #T_83423_row136_col4, #T_83423_row137_col0, #T_83423_row137_col1, #T_83423_row137_col2, #T_83423_row137_col3, #T_83423_row137_col4, #T_83423_row138_col0, #T_83423_row138_col1, #T_83423_row138_col2, #T_83423_row138_col3, #T_83423_row138_col4, #T_83423_row139_col0, #T_83423_row139_col4, #T_83423_row140_col4, #T_83423_row141_col0, #T_83423_row141_col1, #T_83423_row141_col2, #T_83423_row141_col3, #T_83423_row141_col4, #T_83423_row142_col0, #T_83423_row142_col1, #T_83423_row142_col2, #T_83423_row142_col3, #T_83423_row142_col4, #T_83423_row143_col0, #T_83423_row143_col1, #T_83423_row143_col2, #T_83423_row143_col3, #T_83423_row143_col4, #T_83423_row144_col0, #T_83423_row144_col1, #T_83423_row144_col2, #T_83423_row144_col3, #T_83423_row144_col4, #T_83423_row145_col0, #T_83423_row145_col1, #T_83423_row145_col2, #T_83423_row145_col3, #T_83423_row145_col4, #T_83423_row146_col0, #T_83423_row146_col1, #T_83423_row146_col2, #T_83423_row146_col3, #T_83423_row146_col4, #T_83423_row147_col0, #T_83423_row147_col1, #T_83423_row147_col2, #T_83423_row147_col3, #T_83423_row147_col4, #T_83423_row148_col0, #T_83423_row148_col1, #T_83423_row148_col2, #T_83423_row148_col3, #T_83423_row148_col4, #T_83423_row149_col0, #T_83423_row149_col1, #T_83423_row149_col2, #T_83423_row149_col3, #T_83423_row149_col4, #T_83423_row150_col0, #T_83423_row150_col1, #T_83423_row150_col2, #T_83423_row150_col3, #T_83423_row150_col4, #T_83423_row151_col0, #T_83423_row151_col1, #T_83423_row151_col2, #T_83423_row151_col3, #T_83423_row151_col4, #T_83423_row152_col0, #T_83423_row152_col1, #T_83423_row152_col2, #T_83423_row152_col3, #T_83423_row152_col4, #T_83423_row153_col0, #T_83423_row153_col1, #T_83423_row153_col2, #T_83423_row153_col3, #T_83423_row153_col4, #T_83423_row154_col4, #T_83423_row155_col0, #T_83423_row155_col1, #T_83423_row155_col2, #T_83423_row155_col3, #T_83423_row155_col4, #T_83423_row156_col0, #T_83423_row156_col1, #T_83423_row156_col2, #T_83423_row156_col3, #T_83423_row156_col4, #T_83423_row157_col0, #T_83423_row157_col1, #T_83423_row157_col2, #T_83423_row157_col3, #T_83423_row157_col4, #T_83423_row158_col0, #T_83423_row158_col1, #T_83423_row158_col2, #T_83423_row158_col3, #T_83423_row158_col4, #T_83423_row159_col0, #T_83423_row159_col1, #T_83423_row159_col2, #T_83423_row159_col3, #T_83423_row159_col4, #T_83423_row160_col0, #T_83423_row160_col1, #T_83423_row160_col2, #T_83423_row160_col3, #T_83423_row160_col4, #T_83423_row161_col0, #T_83423_row161_col1, #T_83423_row161_col2, #T_83423_row161_col3, #T_83423_row161_col4, #T_83423_row162_col0, #T_83423_row162_col1, #T_83423_row162_col4, #T_83423_row163_col0, #T_83423_row163_col1, #T_83423_row163_col2, #T_83423_row163_col3, #T_83423_row163_col4, #T_83423_row164_col0, #T_83423_row164_col1, #T_83423_row164_col2, #T_83423_row164_col3, #T_83423_row164_col4, #T_83423_row165_col0, #T_83423_row165_col1, #T_83423_row165_col2, #T_83423_row165_col3, #T_83423_row165_col4, #T_83423_row166_col0, #T_83423_row166_col1, #T_83423_row166_col3, #T_83423_row166_col4, #T_83423_row167_col0, #T_83423_row167_col1, #T_83423_row167_col2, #T_83423_row167_col3, #T_83423_row167_col4, #T_83423_row168_col0, #T_83423_row168_col1, #T_83423_row168_col2, #T_83423_row168_col3, #T_83423_row168_col4, #T_83423_row169_col4, #T_83423_row170_col0, #T_83423_row170_col1, #T_83423_row170_col2, #T_83423_row170_col3, #T_83423_row170_col4, #T_83423_row171_col0, #T_83423_row171_col1, #T_83423_row171_col2, #T_83423_row171_col3, #T_83423_row171_col4, #T_83423_row172_col0, #T_83423_row172_col1, #T_83423_row172_col2, #T_83423_row172_col3, #T_83423_row172_col4, #T_83423_row173_col0, #T_83423_row173_col1, #T_83423_row173_col2, #T_83423_row173_col3, #T_83423_row173_col4, #T_83423_row174_col0, #T_83423_row174_col1, #T_83423_row174_col2, #T_83423_row174_col3, #T_83423_row174_col4, #T_83423_row175_col0, #T_83423_row175_col1, #T_83423_row175_col2, #T_83423_row175_col3, #T_83423_row175_col4, #T_83423_row176_col0, #T_83423_row176_col1, #T_83423_row176_col2, #T_83423_row176_col3, #T_83423_row176_col4 {\n",
       "  background-color: #f7fbff;\n",
       "  color: #000000;\n",
       "}\n",
       "#T_83423_row1_col1, #T_83423_row43_col0, #T_83423_row81_col0, #T_83423_row133_col3 {\n",
       "  background-color: #f3f8fe;\n",
       "  color: #000000;\n",
       "}\n",
       "#T_83423_row1_col3, #T_83423_row6_col3, #T_83423_row11_col1, #T_83423_row25_col0, #T_83423_row29_col0, #T_83423_row31_col1, #T_83423_row42_col3, #T_83423_row46_col1, #T_83423_row66_col0, #T_83423_row72_col3, #T_83423_row85_col3, #T_83423_row100_col1, #T_83423_row100_col3, #T_83423_row103_col1, #T_83423_row103_col3, #T_83423_row124_col1, #T_83423_row133_col0, #T_83423_row139_col1, #T_83423_row140_col1, #T_83423_row162_col3, #T_83423_row169_col0 {\n",
       "  background-color: #f6faff;\n",
       "  color: #000000;\n",
       "}\n",
       "#T_83423_row6_col2, #T_83423_row12_col3, #T_83423_row25_col1, #T_83423_row29_col1, #T_83423_row29_col2, #T_83423_row33_col2, #T_83423_row46_col2, #T_83423_row75_col2, #T_83423_row102_col2, #T_83423_row123_col1, #T_83423_row139_col2, #T_83423_row140_col2, #T_83423_row154_col2, #T_83423_row166_col2 {\n",
       "  background-color: #f2f7fd;\n",
       "  color: #000000;\n",
       "}\n",
       "#T_83423_row11_col3, #T_83423_row12_col1, #T_83423_row46_col3, #T_83423_row54_col1, #T_83423_row54_col3, #T_83423_row140_col0, #T_83423_row154_col0, #T_83423_row154_col1 {\n",
       "  background-color: #f5fafe;\n",
       "  color: #000000;\n",
       "}\n",
       "#T_83423_row12_col0, #T_83423_row34_col1, #T_83423_row80_col3, #T_83423_row133_col1 {\n",
       "  background-color: #f4f9fe;\n",
       "  color: #000000;\n",
       "}\n",
       "#T_83423_row12_col2, #T_83423_row25_col2, #T_83423_row42_col2, #T_83423_row76_col2, #T_83423_row84_col2, #T_83423_row162_col2 {\n",
       "  background-color: #ecf4fb;\n",
       "  color: #000000;\n",
       "}\n",
       "#T_83423_row15_col0, #T_83423_row31_col3, #T_83423_row154_col3 {\n",
       "  background-color: #f2f8fd;\n",
       "  color: #000000;\n",
       "}\n",
       "#T_83423_row15_col1, #T_83423_row29_col3, #T_83423_row51_col0 {\n",
       "  background-color: #eff6fc;\n",
       "  color: #000000;\n",
       "}\n",
       "#T_83423_row15_col2, #T_83423_row54_col2 {\n",
       "  background-color: #e7f0fa;\n",
       "  color: #000000;\n",
       "}\n",
       "#T_83423_row15_col3, #T_83423_row25_col3 {\n",
       "  background-color: #edf4fc;\n",
       "  color: #000000;\n",
       "}\n",
       "#T_83423_row34_col3, #T_83423_row81_col1 {\n",
       "  background-color: #f1f7fd;\n",
       "  color: #000000;\n",
       "}\n",
       "#T_83423_row43_col1 {\n",
       "  background-color: #ebf3fb;\n",
       "  color: #000000;\n",
       "}\n",
       "#T_83423_row43_col2, #T_83423_row59_col2, #T_83423_row169_col2 {\n",
       "  background-color: #4191c6;\n",
       "  color: #f1f1f1;\n",
       "}\n",
       "#T_83423_row43_col3 {\n",
       "  background-color: #d3e4f3;\n",
       "  color: #000000;\n",
       "}\n",
       "#T_83423_row51_col1 {\n",
       "  background-color: #d9e7f5;\n",
       "  color: #000000;\n",
       "}\n",
       "#T_83423_row51_col2, #T_83423_row135_col0, #T_83423_row135_col1, #T_83423_row135_col3, #T_83423_row135_col4 {\n",
       "  background-color: #08306b;\n",
       "  color: #f1f1f1;\n",
       "}\n",
       "#T_83423_row51_col3 {\n",
       "  background-color: #d0e2f2;\n",
       "  color: #000000;\n",
       "}\n",
       "#T_83423_row56_col0, #T_83423_row123_col3, #T_83423_row169_col1, #T_83423_row169_col3 {\n",
       "  background-color: #eef5fc;\n",
       "  color: #000000;\n",
       "}\n",
       "#T_83423_row56_col1 {\n",
       "  background-color: #dce9f6;\n",
       "  color: #000000;\n",
       "}\n",
       "#T_83423_row56_col2 {\n",
       "  background-color: #d0e1f2;\n",
       "  color: #000000;\n",
       "}\n",
       "#T_83423_row56_col3 {\n",
       "  background-color: #c7dbef;\n",
       "  color: #000000;\n",
       "}\n",
       "#T_83423_row59_col0 {\n",
       "  background-color: #dceaf6;\n",
       "  color: #000000;\n",
       "}\n",
       "#T_83423_row59_col1 {\n",
       "  background-color: #d4e4f4;\n",
       "  color: #000000;\n",
       "}\n",
       "#T_83423_row59_col3 {\n",
       "  background-color: #bdd7ec;\n",
       "  color: #000000;\n",
       "}\n",
       "#T_83423_row76_col1 {\n",
       "  background-color: #eaf2fb;\n",
       "  color: #000000;\n",
       "}\n",
       "#T_83423_row76_col3 {\n",
       "  background-color: #e8f1fa;\n",
       "  color: #000000;\n",
       "}\n",
       "#T_83423_row81_col2 {\n",
       "  background-color: #94c4df;\n",
       "  color: #000000;\n",
       "}\n",
       "#T_83423_row81_col3 {\n",
       "  background-color: #e5eff9;\n",
       "  color: #000000;\n",
       "}\n",
       "#T_83423_row123_col0, #T_83423_row124_col3, #T_83423_row139_col3, #T_83423_row140_col3 {\n",
       "  background-color: #f5f9fe;\n",
       "  color: #000000;\n",
       "}\n",
       "#T_83423_row123_col2 {\n",
       "  background-color: #a9cfe5;\n",
       "  color: #000000;\n",
       "}\n",
       "#T_83423_row124_col2 {\n",
       "  background-color: #d6e5f4;\n",
       "  color: #000000;\n",
       "}\n",
       "#T_83423_row133_col2 {\n",
       "  background-color: #e0ecf8;\n",
       "  color: #000000;\n",
       "}\n",
       "#T_83423_row135_col2 {\n",
       "  background-color: #4a98c9;\n",
       "  color: #f1f1f1;\n",
       "}\n",
       "</style>\n",
       "<table id=\"T_83423\">\n",
       "  <thead>\n",
       "    <tr>\n",
       "      <th class=\"index_name level0\" >distribution_channel</th>\n",
       "      <th id=\"T_83423_level0_col0\" class=\"col_heading level0 col0\" >Corporate</th>\n",
       "      <th id=\"T_83423_level0_col1\" class=\"col_heading level0 col1\" >Direct</th>\n",
       "      <th id=\"T_83423_level0_col2\" class=\"col_heading level0 col2\" >GDS</th>\n",
       "      <th id=\"T_83423_level0_col3\" class=\"col_heading level0 col3\" >TA/TO</th>\n",
       "      <th id=\"T_83423_level0_col4\" class=\"col_heading level0 col4\" >Undefined</th>\n",
       "    </tr>\n",
       "    <tr>\n",
       "      <th class=\"index_name level0\" >country</th>\n",
       "      <th class=\"blank col0\" >&nbsp;</th>\n",
       "      <th class=\"blank col1\" >&nbsp;</th>\n",
       "      <th class=\"blank col2\" >&nbsp;</th>\n",
       "      <th class=\"blank col3\" >&nbsp;</th>\n",
       "      <th class=\"blank col4\" >&nbsp;</th>\n",
       "    </tr>\n",
       "  </thead>\n",
       "  <tbody>\n",
       "    <tr>\n",
       "      <th id=\"T_83423_level0_row0\" class=\"row_heading level0 row0\" >ABW</th>\n",
       "      <td id=\"T_83423_row0_col0\" class=\"data row0 col0\" >0</td>\n",
       "      <td id=\"T_83423_row0_col1\" class=\"data row0 col1\" >0</td>\n",
       "      <td id=\"T_83423_row0_col2\" class=\"data row0 col2\" >0</td>\n",
       "      <td id=\"T_83423_row0_col3\" class=\"data row0 col3\" >2</td>\n",
       "      <td id=\"T_83423_row0_col4\" class=\"data row0 col4\" >0</td>\n",
       "    </tr>\n",
       "    <tr>\n",
       "      <th id=\"T_83423_level0_row1\" class=\"row_heading level0 row1\" >AGO</th>\n",
       "      <td id=\"T_83423_row1_col0\" class=\"data row1 col0\" >5</td>\n",
       "      <td id=\"T_83423_row1_col1\" class=\"data row1 col1\" >148</td>\n",
       "      <td id=\"T_83423_row1_col2\" class=\"data row1 col2\" >0</td>\n",
       "      <td id=\"T_83423_row1_col3\" class=\"data row1 col3\" >209</td>\n",
       "      <td id=\"T_83423_row1_col4\" class=\"data row1 col4\" >0</td>\n",
       "    </tr>\n",
       "    <tr>\n",
       "      <th id=\"T_83423_level0_row2\" class=\"row_heading level0 row2\" >AIA</th>\n",
       "      <td id=\"T_83423_row2_col0\" class=\"data row2 col0\" >0</td>\n",
       "      <td id=\"T_83423_row2_col1\" class=\"data row2 col1\" >0</td>\n",
       "      <td id=\"T_83423_row2_col2\" class=\"data row2 col2\" >0</td>\n",
       "      <td id=\"T_83423_row2_col3\" class=\"data row2 col3\" >1</td>\n",
       "      <td id=\"T_83423_row2_col4\" class=\"data row2 col4\" >0</td>\n",
       "    </tr>\n",
       "    <tr>\n",
       "      <th id=\"T_83423_level0_row3\" class=\"row_heading level0 row3\" >ALB</th>\n",
       "      <td id=\"T_83423_row3_col0\" class=\"data row3 col0\" >2</td>\n",
       "      <td id=\"T_83423_row3_col1\" class=\"data row3 col1\" >2</td>\n",
       "      <td id=\"T_83423_row3_col2\" class=\"data row3 col2\" >0</td>\n",
       "      <td id=\"T_83423_row3_col3\" class=\"data row3 col3\" >8</td>\n",
       "      <td id=\"T_83423_row3_col4\" class=\"data row3 col4\" >0</td>\n",
       "    </tr>\n",
       "    <tr>\n",
       "      <th id=\"T_83423_level0_row4\" class=\"row_heading level0 row4\" >AND</th>\n",
       "      <td id=\"T_83423_row4_col0\" class=\"data row4 col0\" >0</td>\n",
       "      <td id=\"T_83423_row4_col1\" class=\"data row4 col1\" >1</td>\n",
       "      <td id=\"T_83423_row4_col2\" class=\"data row4 col2\" >0</td>\n",
       "      <td id=\"T_83423_row4_col3\" class=\"data row4 col3\" >6</td>\n",
       "      <td id=\"T_83423_row4_col4\" class=\"data row4 col4\" >0</td>\n",
       "    </tr>\n",
       "    <tr>\n",
       "      <th id=\"T_83423_level0_row5\" class=\"row_heading level0 row5\" >ARE</th>\n",
       "      <td id=\"T_83423_row5_col0\" class=\"data row5 col0\" >0</td>\n",
       "      <td id=\"T_83423_row5_col1\" class=\"data row5 col1\" >4</td>\n",
       "      <td id=\"T_83423_row5_col2\" class=\"data row5 col2\" >0</td>\n",
       "      <td id=\"T_83423_row5_col3\" class=\"data row5 col3\" >47</td>\n",
       "      <td id=\"T_83423_row5_col4\" class=\"data row5 col4\" >0</td>\n",
       "    </tr>\n",
       "    <tr>\n",
       "      <th id=\"T_83423_level0_row6\" class=\"row_heading level0 row6\" >ARG</th>\n",
       "      <td id=\"T_83423_row6_col0\" class=\"data row6 col0\" >11</td>\n",
       "      <td id=\"T_83423_row6_col1\" class=\"data row6 col1\" >27</td>\n",
       "      <td id=\"T_83423_row6_col2\" class=\"data row6 col2\" >1</td>\n",
       "      <td id=\"T_83423_row6_col3\" class=\"data row6 col3\" >175</td>\n",
       "      <td id=\"T_83423_row6_col4\" class=\"data row6 col4\" >0</td>\n",
       "    </tr>\n",
       "    <tr>\n",
       "      <th id=\"T_83423_level0_row7\" class=\"row_heading level0 row7\" >ARM</th>\n",
       "      <td id=\"T_83423_row7_col0\" class=\"data row7 col0\" >1</td>\n",
       "      <td id=\"T_83423_row7_col1\" class=\"data row7 col1\" >1</td>\n",
       "      <td id=\"T_83423_row7_col2\" class=\"data row7 col2\" >0</td>\n",
       "      <td id=\"T_83423_row7_col3\" class=\"data row7 col3\" >6</td>\n",
       "      <td id=\"T_83423_row7_col4\" class=\"data row7 col4\" >0</td>\n",
       "    </tr>\n",
       "    <tr>\n",
       "      <th id=\"T_83423_level0_row8\" class=\"row_heading level0 row8\" >ASM</th>\n",
       "      <td id=\"T_83423_row8_col0\" class=\"data row8 col0\" >0</td>\n",
       "      <td id=\"T_83423_row8_col1\" class=\"data row8 col1\" >0</td>\n",
       "      <td id=\"T_83423_row8_col2\" class=\"data row8 col2\" >0</td>\n",
       "      <td id=\"T_83423_row8_col3\" class=\"data row8 col3\" >1</td>\n",
       "      <td id=\"T_83423_row8_col4\" class=\"data row8 col4\" >0</td>\n",
       "    </tr>\n",
       "    <tr>\n",
       "      <th id=\"T_83423_level0_row9\" class=\"row_heading level0 row9\" >ATA</th>\n",
       "      <td id=\"T_83423_row9_col0\" class=\"data row9 col0\" >0</td>\n",
       "      <td id=\"T_83423_row9_col1\" class=\"data row9 col1\" >1</td>\n",
       "      <td id=\"T_83423_row9_col2\" class=\"data row9 col2\" >0</td>\n",
       "      <td id=\"T_83423_row9_col3\" class=\"data row9 col3\" >1</td>\n",
       "      <td id=\"T_83423_row9_col4\" class=\"data row9 col4\" >0</td>\n",
       "    </tr>\n",
       "    <tr>\n",
       "      <th id=\"T_83423_level0_row10\" class=\"row_heading level0 row10\" >ATF</th>\n",
       "      <td id=\"T_83423_row10_col0\" class=\"data row10 col0\" >0</td>\n",
       "      <td id=\"T_83423_row10_col1\" class=\"data row10 col1\" >0</td>\n",
       "      <td id=\"T_83423_row10_col2\" class=\"data row10 col2\" >0</td>\n",
       "      <td id=\"T_83423_row10_col3\" class=\"data row10 col3\" >1</td>\n",
       "      <td id=\"T_83423_row10_col4\" class=\"data row10 col4\" >0</td>\n",
       "    </tr>\n",
       "    <tr>\n",
       "      <th id=\"T_83423_level0_row11\" class=\"row_heading level0 row11\" >AUS</th>\n",
       "      <td id=\"T_83423_row11_col0\" class=\"data row11 col0\" >7</td>\n",
       "      <td id=\"T_83423_row11_col1\" class=\"data row11 col1\" >49</td>\n",
       "      <td id=\"T_83423_row11_col2\" class=\"data row11 col2\" >0</td>\n",
       "      <td id=\"T_83423_row11_col3\" class=\"data row11 col3\" >370</td>\n",
       "      <td id=\"T_83423_row11_col4\" class=\"data row11 col4\" >0</td>\n",
       "    </tr>\n",
       "    <tr>\n",
       "      <th id=\"T_83423_level0_row12\" class=\"row_heading level0 row12\" >AUT</th>\n",
       "      <td id=\"T_83423_row12_col0\" class=\"data row12 col0\" >77</td>\n",
       "      <td id=\"T_83423_row12_col1\" class=\"data row12 col1\" >70</td>\n",
       "      <td id=\"T_83423_row12_col2\" class=\"data row12 col2\" >2</td>\n",
       "      <td id=\"T_83423_row12_col3\" class=\"data row12 col3\" >1114</td>\n",
       "      <td id=\"T_83423_row12_col4\" class=\"data row12 col4\" >0</td>\n",
       "    </tr>\n",
       "    <tr>\n",
       "      <th id=\"T_83423_level0_row13\" class=\"row_heading level0 row13\" >AZE</th>\n",
       "      <td id=\"T_83423_row13_col0\" class=\"data row13 col0\" >0</td>\n",
       "      <td id=\"T_83423_row13_col1\" class=\"data row13 col1\" >2</td>\n",
       "      <td id=\"T_83423_row13_col2\" class=\"data row13 col2\" >0</td>\n",
       "      <td id=\"T_83423_row13_col3\" class=\"data row13 col3\" >15</td>\n",
       "      <td id=\"T_83423_row13_col4\" class=\"data row13 col4\" >0</td>\n",
       "    </tr>\n",
       "    <tr>\n",
       "      <th id=\"T_83423_level0_row14\" class=\"row_heading level0 row14\" >BDI</th>\n",
       "      <td id=\"T_83423_row14_col0\" class=\"data row14 col0\" >0</td>\n",
       "      <td id=\"T_83423_row14_col1\" class=\"data row14 col1\" >0</td>\n",
       "      <td id=\"T_83423_row14_col2\" class=\"data row14 col2\" >0</td>\n",
       "      <td id=\"T_83423_row14_col3\" class=\"data row14 col3\" >1</td>\n",
       "      <td id=\"T_83423_row14_col4\" class=\"data row14 col4\" >0</td>\n",
       "    </tr>\n",
       "    <tr>\n",
       "      <th id=\"T_83423_level0_row15\" class=\"row_heading level0 row15\" >BEL</th>\n",
       "      <td id=\"T_83423_row15_col0\" class=\"data row15 col0\" >122</td>\n",
       "      <td id=\"T_83423_row15_col1\" class=\"data row15 col1\" >304</td>\n",
       "      <td id=\"T_83423_row15_col2\" class=\"data row15 col2\" >3</td>\n",
       "      <td id=\"T_83423_row15_col3\" class=\"data row15 col3\" >1913</td>\n",
       "      <td id=\"T_83423_row15_col4\" class=\"data row15 col4\" >0</td>\n",
       "    </tr>\n",
       "    <tr>\n",
       "      <th id=\"T_83423_level0_row16\" class=\"row_heading level0 row16\" >BEN</th>\n",
       "      <td id=\"T_83423_row16_col0\" class=\"data row16 col0\" >0</td>\n",
       "      <td id=\"T_83423_row16_col1\" class=\"data row16 col1\" >0</td>\n",
       "      <td id=\"T_83423_row16_col2\" class=\"data row16 col2\" >0</td>\n",
       "      <td id=\"T_83423_row16_col3\" class=\"data row16 col3\" >3</td>\n",
       "      <td id=\"T_83423_row16_col4\" class=\"data row16 col4\" >0</td>\n",
       "    </tr>\n",
       "    <tr>\n",
       "      <th id=\"T_83423_level0_row17\" class=\"row_heading level0 row17\" >BFA</th>\n",
       "      <td id=\"T_83423_row17_col0\" class=\"data row17 col0\" >0</td>\n",
       "      <td id=\"T_83423_row17_col1\" class=\"data row17 col1\" >0</td>\n",
       "      <td id=\"T_83423_row17_col2\" class=\"data row17 col2\" >0</td>\n",
       "      <td id=\"T_83423_row17_col3\" class=\"data row17 col3\" >1</td>\n",
       "      <td id=\"T_83423_row17_col4\" class=\"data row17 col4\" >0</td>\n",
       "    </tr>\n",
       "    <tr>\n",
       "      <th id=\"T_83423_level0_row18\" class=\"row_heading level0 row18\" >BGD</th>\n",
       "      <td id=\"T_83423_row18_col0\" class=\"data row18 col0\" >0</td>\n",
       "      <td id=\"T_83423_row18_col1\" class=\"data row18 col1\" >1</td>\n",
       "      <td id=\"T_83423_row18_col2\" class=\"data row18 col2\" >0</td>\n",
       "      <td id=\"T_83423_row18_col3\" class=\"data row18 col3\" >11</td>\n",
       "      <td id=\"T_83423_row18_col4\" class=\"data row18 col4\" >0</td>\n",
       "    </tr>\n",
       "    <tr>\n",
       "      <th id=\"T_83423_level0_row19\" class=\"row_heading level0 row19\" >BGR</th>\n",
       "      <td id=\"T_83423_row19_col0\" class=\"data row19 col0\" >3</td>\n",
       "      <td id=\"T_83423_row19_col1\" class=\"data row19 col1\" >8</td>\n",
       "      <td id=\"T_83423_row19_col2\" class=\"data row19 col2\" >0</td>\n",
       "      <td id=\"T_83423_row19_col3\" class=\"data row19 col3\" >64</td>\n",
       "      <td id=\"T_83423_row19_col4\" class=\"data row19 col4\" >0</td>\n",
       "    </tr>\n",
       "    <tr>\n",
       "      <th id=\"T_83423_level0_row20\" class=\"row_heading level0 row20\" >BHR</th>\n",
       "      <td id=\"T_83423_row20_col0\" class=\"data row20 col0\" >0</td>\n",
       "      <td id=\"T_83423_row20_col1\" class=\"data row20 col1\" >0</td>\n",
       "      <td id=\"T_83423_row20_col2\" class=\"data row20 col2\" >0</td>\n",
       "      <td id=\"T_83423_row20_col3\" class=\"data row20 col3\" >5</td>\n",
       "      <td id=\"T_83423_row20_col4\" class=\"data row20 col4\" >0</td>\n",
       "    </tr>\n",
       "    <tr>\n",
       "      <th id=\"T_83423_level0_row21\" class=\"row_heading level0 row21\" >BHS</th>\n",
       "      <td id=\"T_83423_row21_col0\" class=\"data row21 col0\" >0</td>\n",
       "      <td id=\"T_83423_row21_col1\" class=\"data row21 col1\" >0</td>\n",
       "      <td id=\"T_83423_row21_col2\" class=\"data row21 col2\" >0</td>\n",
       "      <td id=\"T_83423_row21_col3\" class=\"data row21 col3\" >1</td>\n",
       "      <td id=\"T_83423_row21_col4\" class=\"data row21 col4\" >0</td>\n",
       "    </tr>\n",
       "    <tr>\n",
       "      <th id=\"T_83423_level0_row22\" class=\"row_heading level0 row22\" >BIH</th>\n",
       "      <td id=\"T_83423_row22_col0\" class=\"data row22 col0\" >0</td>\n",
       "      <td id=\"T_83423_row22_col1\" class=\"data row22 col1\" >3</td>\n",
       "      <td id=\"T_83423_row22_col2\" class=\"data row22 col2\" >0</td>\n",
       "      <td id=\"T_83423_row22_col3\" class=\"data row22 col3\" >10</td>\n",
       "      <td id=\"T_83423_row22_col4\" class=\"data row22 col4\" >0</td>\n",
       "    </tr>\n",
       "    <tr>\n",
       "      <th id=\"T_83423_level0_row23\" class=\"row_heading level0 row23\" >BLR</th>\n",
       "      <td id=\"T_83423_row23_col0\" class=\"data row23 col0\" >0</td>\n",
       "      <td id=\"T_83423_row23_col1\" class=\"data row23 col1\" >4</td>\n",
       "      <td id=\"T_83423_row23_col2\" class=\"data row23 col2\" >0</td>\n",
       "      <td id=\"T_83423_row23_col3\" class=\"data row23 col3\" >22</td>\n",
       "      <td id=\"T_83423_row23_col4\" class=\"data row23 col4\" >0</td>\n",
       "    </tr>\n",
       "    <tr>\n",
       "      <th id=\"T_83423_level0_row24\" class=\"row_heading level0 row24\" >BOL</th>\n",
       "      <td id=\"T_83423_row24_col0\" class=\"data row24 col0\" >0</td>\n",
       "      <td id=\"T_83423_row24_col1\" class=\"data row24 col1\" >0</td>\n",
       "      <td id=\"T_83423_row24_col2\" class=\"data row24 col2\" >0</td>\n",
       "      <td id=\"T_83423_row24_col3\" class=\"data row24 col3\" >10</td>\n",
       "      <td id=\"T_83423_row24_col4\" class=\"data row24 col4\" >0</td>\n",
       "    </tr>\n",
       "    <tr>\n",
       "      <th id=\"T_83423_level0_row25\" class=\"row_heading level0 row25\" >BRA</th>\n",
       "      <td id=\"T_83423_row25_col0\" class=\"data row25 col0\" >33</td>\n",
       "      <td id=\"T_83423_row25_col1\" class=\"data row25 col1\" >208</td>\n",
       "      <td id=\"T_83423_row25_col2\" class=\"data row25 col2\" >2</td>\n",
       "      <td id=\"T_83423_row25_col3\" class=\"data row25 col3\" >1981</td>\n",
       "      <td id=\"T_83423_row25_col4\" class=\"data row25 col4\" >0</td>\n",
       "    </tr>\n",
       "    <tr>\n",
       "      <th id=\"T_83423_level0_row26\" class=\"row_heading level0 row26\" >BRB</th>\n",
       "      <td id=\"T_83423_row26_col0\" class=\"data row26 col0\" >0</td>\n",
       "      <td id=\"T_83423_row26_col1\" class=\"data row26 col1\" >0</td>\n",
       "      <td id=\"T_83423_row26_col2\" class=\"data row26 col2\" >0</td>\n",
       "      <td id=\"T_83423_row26_col3\" class=\"data row26 col3\" >4</td>\n",
       "      <td id=\"T_83423_row26_col4\" class=\"data row26 col4\" >0</td>\n",
       "    </tr>\n",
       "    <tr>\n",
       "      <th id=\"T_83423_level0_row27\" class=\"row_heading level0 row27\" >BWA</th>\n",
       "      <td id=\"T_83423_row27_col0\" class=\"data row27 col0\" >0</td>\n",
       "      <td id=\"T_83423_row27_col1\" class=\"data row27 col1\" >0</td>\n",
       "      <td id=\"T_83423_row27_col2\" class=\"data row27 col2\" >0</td>\n",
       "      <td id=\"T_83423_row27_col3\" class=\"data row27 col3\" >1</td>\n",
       "      <td id=\"T_83423_row27_col4\" class=\"data row27 col4\" >0</td>\n",
       "    </tr>\n",
       "    <tr>\n",
       "      <th id=\"T_83423_level0_row28\" class=\"row_heading level0 row28\" >CAF</th>\n",
       "      <td id=\"T_83423_row28_col0\" class=\"data row28 col0\" >0</td>\n",
       "      <td id=\"T_83423_row28_col1\" class=\"data row28 col1\" >0</td>\n",
       "      <td id=\"T_83423_row28_col2\" class=\"data row28 col2\" >0</td>\n",
       "      <td id=\"T_83423_row28_col3\" class=\"data row28 col3\" >5</td>\n",
       "      <td id=\"T_83423_row28_col4\" class=\"data row28 col4\" >0</td>\n",
       "    </tr>\n",
       "    <tr>\n",
       "      <th id=\"T_83423_level0_row29\" class=\"row_heading level0 row29\" >CHE</th>\n",
       "      <td id=\"T_83423_row29_col0\" class=\"data row29 col0\" >19</td>\n",
       "      <td id=\"T_83423_row29_col1\" class=\"data row29 col1\" >214</td>\n",
       "      <td id=\"T_83423_row29_col2\" class=\"data row29 col2\" >1</td>\n",
       "      <td id=\"T_83423_row29_col3\" class=\"data row29 col3\" >1496</td>\n",
       "      <td id=\"T_83423_row29_col4\" class=\"data row29 col4\" >0</td>\n",
       "    </tr>\n",
       "    <tr>\n",
       "      <th id=\"T_83423_level0_row30\" class=\"row_heading level0 row30\" >CHL</th>\n",
       "      <td id=\"T_83423_row30_col0\" class=\"data row30 col0\" >5</td>\n",
       "      <td id=\"T_83423_row30_col1\" class=\"data row30 col1\" >5</td>\n",
       "      <td id=\"T_83423_row30_col2\" class=\"data row30 col2\" >0</td>\n",
       "      <td id=\"T_83423_row30_col3\" class=\"data row30 col3\" >55</td>\n",
       "      <td id=\"T_83423_row30_col4\" class=\"data row30 col4\" >0</td>\n",
       "    </tr>\n",
       "    <tr>\n",
       "      <th id=\"T_83423_level0_row31\" class=\"row_heading level0 row31\" >CHN</th>\n",
       "      <td id=\"T_83423_row31_col0\" class=\"data row31 col0\" >13</td>\n",
       "      <td id=\"T_83423_row31_col1\" class=\"data row31 col1\" >53</td>\n",
       "      <td id=\"T_83423_row31_col2\" class=\"data row31 col2\" >0</td>\n",
       "      <td id=\"T_83423_row31_col3\" class=\"data row31 col3\" >933</td>\n",
       "      <td id=\"T_83423_row31_col4\" class=\"data row31 col4\" >0</td>\n",
       "    </tr>\n",
       "    <tr>\n",
       "      <th id=\"T_83423_level0_row32\" class=\"row_heading level0 row32\" >CIV</th>\n",
       "      <td id=\"T_83423_row32_col0\" class=\"data row32 col0\" >0</td>\n",
       "      <td id=\"T_83423_row32_col1\" class=\"data row32 col1\" >2</td>\n",
       "      <td id=\"T_83423_row32_col2\" class=\"data row32 col2\" >0</td>\n",
       "      <td id=\"T_83423_row32_col3\" class=\"data row32 col3\" >4</td>\n",
       "      <td id=\"T_83423_row32_col4\" class=\"data row32 col4\" >0</td>\n",
       "    </tr>\n",
       "    <tr>\n",
       "      <th id=\"T_83423_level0_row33\" class=\"row_heading level0 row33\" >CMR</th>\n",
       "      <td id=\"T_83423_row33_col0\" class=\"data row33 col0\" >0</td>\n",
       "      <td id=\"T_83423_row33_col1\" class=\"data row33 col1\" >0</td>\n",
       "      <td id=\"T_83423_row33_col2\" class=\"data row33 col2\" >1</td>\n",
       "      <td id=\"T_83423_row33_col3\" class=\"data row33 col3\" >9</td>\n",
       "      <td id=\"T_83423_row33_col4\" class=\"data row33 col4\" >0</td>\n",
       "    </tr>\n",
       "    <tr>\n",
       "      <th id=\"T_83423_level0_row34\" class=\"row_heading level0 row34\" >CN</th>\n",
       "      <td id=\"T_83423_row34_col0\" class=\"data row34 col0\" >6</td>\n",
       "      <td id=\"T_83423_row34_col1\" class=\"data row34 col1\" >114</td>\n",
       "      <td id=\"T_83423_row34_col2\" class=\"data row34 col2\" >0</td>\n",
       "      <td id=\"T_83423_row34_col3\" class=\"data row34 col3\" >1159</td>\n",
       "      <td id=\"T_83423_row34_col4\" class=\"data row34 col4\" >0</td>\n",
       "    </tr>\n",
       "    <tr>\n",
       "      <th id=\"T_83423_level0_row35\" class=\"row_heading level0 row35\" >COL</th>\n",
       "      <td id=\"T_83423_row35_col0\" class=\"data row35 col0\" >1</td>\n",
       "      <td id=\"T_83423_row35_col1\" class=\"data row35 col1\" >8</td>\n",
       "      <td id=\"T_83423_row35_col2\" class=\"data row35 col2\" >0</td>\n",
       "      <td id=\"T_83423_row35_col3\" class=\"data row35 col3\" >62</td>\n",
       "      <td id=\"T_83423_row35_col4\" class=\"data row35 col4\" >0</td>\n",
       "    </tr>\n",
       "    <tr>\n",
       "      <th id=\"T_83423_level0_row36\" class=\"row_heading level0 row36\" >COM</th>\n",
       "      <td id=\"T_83423_row36_col0\" class=\"data row36 col0\" >0</td>\n",
       "      <td id=\"T_83423_row36_col1\" class=\"data row36 col1\" >0</td>\n",
       "      <td id=\"T_83423_row36_col2\" class=\"data row36 col2\" >0</td>\n",
       "      <td id=\"T_83423_row36_col3\" class=\"data row36 col3\" >2</td>\n",
       "      <td id=\"T_83423_row36_col4\" class=\"data row36 col4\" >0</td>\n",
       "    </tr>\n",
       "    <tr>\n",
       "      <th id=\"T_83423_level0_row37\" class=\"row_heading level0 row37\" >CPV</th>\n",
       "      <td id=\"T_83423_row37_col0\" class=\"data row37 col0\" >0</td>\n",
       "      <td id=\"T_83423_row37_col1\" class=\"data row37 col1\" >3</td>\n",
       "      <td id=\"T_83423_row37_col2\" class=\"data row37 col2\" >0</td>\n",
       "      <td id=\"T_83423_row37_col3\" class=\"data row37 col3\" >21</td>\n",
       "      <td id=\"T_83423_row37_col4\" class=\"data row37 col4\" >0</td>\n",
       "    </tr>\n",
       "    <tr>\n",
       "      <th id=\"T_83423_level0_row38\" class=\"row_heading level0 row38\" >CRI</th>\n",
       "      <td id=\"T_83423_row38_col0\" class=\"data row38 col0\" >1</td>\n",
       "      <td id=\"T_83423_row38_col1\" class=\"data row38 col1\" >2</td>\n",
       "      <td id=\"T_83423_row38_col2\" class=\"data row38 col2\" >0</td>\n",
       "      <td id=\"T_83423_row38_col3\" class=\"data row38 col3\" >16</td>\n",
       "      <td id=\"T_83423_row38_col4\" class=\"data row38 col4\" >0</td>\n",
       "    </tr>\n",
       "    <tr>\n",
       "      <th id=\"T_83423_level0_row39\" class=\"row_heading level0 row39\" >CUB</th>\n",
       "      <td id=\"T_83423_row39_col0\" class=\"data row39 col0\" >0</td>\n",
       "      <td id=\"T_83423_row39_col1\" class=\"data row39 col1\" >3</td>\n",
       "      <td id=\"T_83423_row39_col2\" class=\"data row39 col2\" >0</td>\n",
       "      <td id=\"T_83423_row39_col3\" class=\"data row39 col3\" >5</td>\n",
       "      <td id=\"T_83423_row39_col4\" class=\"data row39 col4\" >0</td>\n",
       "    </tr>\n",
       "    <tr>\n",
       "      <th id=\"T_83423_level0_row40\" class=\"row_heading level0 row40\" >CYM</th>\n",
       "      <td id=\"T_83423_row40_col0\" class=\"data row40 col0\" >0</td>\n",
       "      <td id=\"T_83423_row40_col1\" class=\"data row40 col1\" >0</td>\n",
       "      <td id=\"T_83423_row40_col2\" class=\"data row40 col2\" >0</td>\n",
       "      <td id=\"T_83423_row40_col3\" class=\"data row40 col3\" >1</td>\n",
       "      <td id=\"T_83423_row40_col4\" class=\"data row40 col4\" >0</td>\n",
       "    </tr>\n",
       "    <tr>\n",
       "      <th id=\"T_83423_level0_row41\" class=\"row_heading level0 row41\" >CYP</th>\n",
       "      <td id=\"T_83423_row41_col0\" class=\"data row41 col0\" >10</td>\n",
       "      <td id=\"T_83423_row41_col1\" class=\"data row41 col1\" >4</td>\n",
       "      <td id=\"T_83423_row41_col2\" class=\"data row41 col2\" >0</td>\n",
       "      <td id=\"T_83423_row41_col3\" class=\"data row41 col3\" >37</td>\n",
       "      <td id=\"T_83423_row41_col4\" class=\"data row41 col4\" >0</td>\n",
       "    </tr>\n",
       "    <tr>\n",
       "      <th id=\"T_83423_level0_row42\" class=\"row_heading level0 row42\" >CZE</th>\n",
       "      <td id=\"T_83423_row42_col0\" class=\"data row42 col0\" >11</td>\n",
       "      <td id=\"T_83423_row42_col1\" class=\"data row42 col1\" >10</td>\n",
       "      <td id=\"T_83423_row42_col2\" class=\"data row42 col2\" >2</td>\n",
       "      <td id=\"T_83423_row42_col3\" class=\"data row42 col3\" >148</td>\n",
       "      <td id=\"T_83423_row42_col4\" class=\"data row42 col4\" >0</td>\n",
       "    </tr>\n",
       "    <tr>\n",
       "      <th id=\"T_83423_level0_row43\" class=\"row_heading level0 row43\" >DEU</th>\n",
       "      <td id=\"T_83423_row43_col0\" class=\"data row43 col0\" >95</td>\n",
       "      <td id=\"T_83423_row43_col1\" class=\"data row43 col1\" >431</td>\n",
       "      <td id=\"T_83423_row43_col2\" class=\"data row43 col2\" >22</td>\n",
       "      <td id=\"T_83423_row43_col3\" class=\"data row43 col3\" >6739</td>\n",
       "      <td id=\"T_83423_row43_col4\" class=\"data row43 col4\" >0</td>\n",
       "    </tr>\n",
       "    <tr>\n",
       "      <th id=\"T_83423_level0_row44\" class=\"row_heading level0 row44\" >DJI</th>\n",
       "      <td id=\"T_83423_row44_col0\" class=\"data row44 col0\" >0</td>\n",
       "      <td id=\"T_83423_row44_col1\" class=\"data row44 col1\" >0</td>\n",
       "      <td id=\"T_83423_row44_col2\" class=\"data row44 col2\" >0</td>\n",
       "      <td id=\"T_83423_row44_col3\" class=\"data row44 col3\" >1</td>\n",
       "      <td id=\"T_83423_row44_col4\" class=\"data row44 col4\" >0</td>\n",
       "    </tr>\n",
       "    <tr>\n",
       "      <th id=\"T_83423_level0_row45\" class=\"row_heading level0 row45\" >DMA</th>\n",
       "      <td id=\"T_83423_row45_col0\" class=\"data row45 col0\" >0</td>\n",
       "      <td id=\"T_83423_row45_col1\" class=\"data row45 col1\" >0</td>\n",
       "      <td id=\"T_83423_row45_col2\" class=\"data row45 col2\" >0</td>\n",
       "      <td id=\"T_83423_row45_col3\" class=\"data row45 col3\" >1</td>\n",
       "      <td id=\"T_83423_row45_col4\" class=\"data row45 col4\" >0</td>\n",
       "    </tr>\n",
       "    <tr>\n",
       "      <th id=\"T_83423_level0_row46\" class=\"row_heading level0 row46\" >DNK</th>\n",
       "      <td id=\"T_83423_row46_col0\" class=\"data row46 col0\" >13</td>\n",
       "      <td id=\"T_83423_row46_col1\" class=\"data row46 col1\" >45</td>\n",
       "      <td id=\"T_83423_row46_col2\" class=\"data row46 col2\" >1</td>\n",
       "      <td id=\"T_83423_row46_col3\" class=\"data row46 col3\" >376</td>\n",
       "      <td id=\"T_83423_row46_col4\" class=\"data row46 col4\" >0</td>\n",
       "    </tr>\n",
       "    <tr>\n",
       "      <th id=\"T_83423_level0_row47\" class=\"row_heading level0 row47\" >DOM</th>\n",
       "      <td id=\"T_83423_row47_col0\" class=\"data row47 col0\" >0</td>\n",
       "      <td id=\"T_83423_row47_col1\" class=\"data row47 col1\" >1</td>\n",
       "      <td id=\"T_83423_row47_col2\" class=\"data row47 col2\" >0</td>\n",
       "      <td id=\"T_83423_row47_col3\" class=\"data row47 col3\" >13</td>\n",
       "      <td id=\"T_83423_row47_col4\" class=\"data row47 col4\" >0</td>\n",
       "    </tr>\n",
       "    <tr>\n",
       "      <th id=\"T_83423_level0_row48\" class=\"row_heading level0 row48\" >DZA</th>\n",
       "      <td id=\"T_83423_row48_col0\" class=\"data row48 col0\" >6</td>\n",
       "      <td id=\"T_83423_row48_col1\" class=\"data row48 col1\" >3</td>\n",
       "      <td id=\"T_83423_row48_col2\" class=\"data row48 col2\" >0</td>\n",
       "      <td id=\"T_83423_row48_col3\" class=\"data row48 col3\" >94</td>\n",
       "      <td id=\"T_83423_row48_col4\" class=\"data row48 col4\" >0</td>\n",
       "    </tr>\n",
       "    <tr>\n",
       "      <th id=\"T_83423_level0_row49\" class=\"row_heading level0 row49\" >ECU</th>\n",
       "      <td id=\"T_83423_row49_col0\" class=\"data row49 col0\" >0</td>\n",
       "      <td id=\"T_83423_row49_col1\" class=\"data row49 col1\" >10</td>\n",
       "      <td id=\"T_83423_row49_col2\" class=\"data row49 col2\" >0</td>\n",
       "      <td id=\"T_83423_row49_col3\" class=\"data row49 col3\" >17</td>\n",
       "      <td id=\"T_83423_row49_col4\" class=\"data row49 col4\" >0</td>\n",
       "    </tr>\n",
       "    <tr>\n",
       "      <th id=\"T_83423_level0_row50\" class=\"row_heading level0 row50\" >EGY</th>\n",
       "      <td id=\"T_83423_row50_col0\" class=\"data row50 col0\" >0</td>\n",
       "      <td id=\"T_83423_row50_col1\" class=\"data row50 col1\" >1</td>\n",
       "      <td id=\"T_83423_row50_col2\" class=\"data row50 col2\" >0</td>\n",
       "      <td id=\"T_83423_row50_col3\" class=\"data row50 col3\" >31</td>\n",
       "      <td id=\"T_83423_row50_col4\" class=\"data row50 col4\" >0</td>\n",
       "    </tr>\n",
       "    <tr>\n",
       "      <th id=\"T_83423_level0_row51\" class=\"row_heading level0 row51\" >ESP</th>\n",
       "      <td id=\"T_83423_row51_col0\" class=\"data row51 col0\" >183</td>\n",
       "      <td id=\"T_83423_row51_col1\" class=\"data row51 col1\" >1125</td>\n",
       "      <td id=\"T_83423_row51_col2\" class=\"data row51 col2\" >35</td>\n",
       "      <td id=\"T_83423_row51_col3\" class=\"data row51 col3\" >7225</td>\n",
       "      <td id=\"T_83423_row51_col4\" class=\"data row51 col4\" >0</td>\n",
       "    </tr>\n",
       "    <tr>\n",
       "      <th id=\"T_83423_level0_row52\" class=\"row_heading level0 row52\" >EST</th>\n",
       "      <td id=\"T_83423_row52_col0\" class=\"data row52 col0\" >4</td>\n",
       "      <td id=\"T_83423_row52_col1\" class=\"data row52 col1\" >7</td>\n",
       "      <td id=\"T_83423_row52_col2\" class=\"data row52 col2\" >0</td>\n",
       "      <td id=\"T_83423_row52_col3\" class=\"data row52 col3\" >72</td>\n",
       "      <td id=\"T_83423_row52_col4\" class=\"data row52 col4\" >0</td>\n",
       "    </tr>\n",
       "    <tr>\n",
       "      <th id=\"T_83423_level0_row53\" class=\"row_heading level0 row53\" >ETH</th>\n",
       "      <td id=\"T_83423_row53_col0\" class=\"data row53 col0\" >0</td>\n",
       "      <td id=\"T_83423_row53_col1\" class=\"data row53 col1\" >1</td>\n",
       "      <td id=\"T_83423_row53_col2\" class=\"data row53 col2\" >0</td>\n",
       "      <td id=\"T_83423_row53_col3\" class=\"data row53 col3\" >2</td>\n",
       "      <td id=\"T_83423_row53_col4\" class=\"data row53 col4\" >0</td>\n",
       "    </tr>\n",
       "    <tr>\n",
       "      <th id=\"T_83423_level0_row54\" class=\"row_heading level0 row54\" >FIN</th>\n",
       "      <td id=\"T_83423_row54_col0\" class=\"data row54 col0\" >10</td>\n",
       "      <td id=\"T_83423_row54_col1\" class=\"data row54 col1\" >63</td>\n",
       "      <td id=\"T_83423_row54_col2\" class=\"data row54 col2\" >3</td>\n",
       "      <td id=\"T_83423_row54_col3\" class=\"data row54 col3\" >371</td>\n",
       "      <td id=\"T_83423_row54_col4\" class=\"data row54 col4\" >0</td>\n",
       "    </tr>\n",
       "    <tr>\n",
       "      <th id=\"T_83423_level0_row55\" class=\"row_heading level0 row55\" >FJI</th>\n",
       "      <td id=\"T_83423_row55_col0\" class=\"data row55 col0\" >0</td>\n",
       "      <td id=\"T_83423_row55_col1\" class=\"data row55 col1\" >0</td>\n",
       "      <td id=\"T_83423_row55_col2\" class=\"data row55 col2\" >0</td>\n",
       "      <td id=\"T_83423_row55_col3\" class=\"data row55 col3\" >1</td>\n",
       "      <td id=\"T_83423_row55_col4\" class=\"data row55 col4\" >0</td>\n",
       "    </tr>\n",
       "    <tr>\n",
       "      <th id=\"T_83423_level0_row56\" class=\"row_heading level0 row56\" >FRA</th>\n",
       "      <td id=\"T_83423_row56_col0\" class=\"data row56 col0\" >227</td>\n",
       "      <td id=\"T_83423_row56_col1\" class=\"data row56 col1\" >1019</td>\n",
       "      <td id=\"T_83423_row56_col2\" class=\"data row56 col2\" >7</td>\n",
       "      <td id=\"T_83423_row56_col3\" class=\"data row56 col3\" >9162</td>\n",
       "      <td id=\"T_83423_row56_col4\" class=\"data row56 col4\" >0</td>\n",
       "    </tr>\n",
       "    <tr>\n",
       "      <th id=\"T_83423_level0_row57\" class=\"row_heading level0 row57\" >FRO</th>\n",
       "      <td id=\"T_83423_row57_col0\" class=\"data row57 col0\" >0</td>\n",
       "      <td id=\"T_83423_row57_col1\" class=\"data row57 col1\" >0</td>\n",
       "      <td id=\"T_83423_row57_col2\" class=\"data row57 col2\" >0</td>\n",
       "      <td id=\"T_83423_row57_col3\" class=\"data row57 col3\" >5</td>\n",
       "      <td id=\"T_83423_row57_col4\" class=\"data row57 col4\" >0</td>\n",
       "    </tr>\n",
       "    <tr>\n",
       "      <th id=\"T_83423_level0_row58\" class=\"row_heading level0 row58\" >GAB</th>\n",
       "      <td id=\"T_83423_row58_col0\" class=\"data row58 col0\" >0</td>\n",
       "      <td id=\"T_83423_row58_col1\" class=\"data row58 col1\" >1</td>\n",
       "      <td id=\"T_83423_row58_col2\" class=\"data row58 col2\" >0</td>\n",
       "      <td id=\"T_83423_row58_col3\" class=\"data row58 col3\" >3</td>\n",
       "      <td id=\"T_83423_row58_col4\" class=\"data row58 col4\" >0</td>\n",
       "    </tr>\n",
       "    <tr>\n",
       "      <th id=\"T_83423_level0_row59\" class=\"row_heading level0 row59\" >GBR</th>\n",
       "      <td id=\"T_83423_row59_col0\" class=\"data row59 col0\" >606</td>\n",
       "      <td id=\"T_83423_row59_col1\" class=\"data row59 col1\" >1277</td>\n",
       "      <td id=\"T_83423_row59_col2\" class=\"data row59 col2\" >22</td>\n",
       "      <td id=\"T_83423_row59_col3\" class=\"data row59 col3\" >10224</td>\n",
       "      <td id=\"T_83423_row59_col4\" class=\"data row59 col4\" >0</td>\n",
       "    </tr>\n",
       "    <tr>\n",
       "      <th id=\"T_83423_level0_row60\" class=\"row_heading level0 row60\" >GEO</th>\n",
       "      <td id=\"T_83423_row60_col0\" class=\"data row60 col0\" >0</td>\n",
       "      <td id=\"T_83423_row60_col1\" class=\"data row60 col1\" >1</td>\n",
       "      <td id=\"T_83423_row60_col2\" class=\"data row60 col2\" >0</td>\n",
       "      <td id=\"T_83423_row60_col3\" class=\"data row60 col3\" >21</td>\n",
       "      <td id=\"T_83423_row60_col4\" class=\"data row60 col4\" >0</td>\n",
       "    </tr>\n",
       "    <tr>\n",
       "      <th id=\"T_83423_level0_row61\" class=\"row_heading level0 row61\" >GGY</th>\n",
       "      <td id=\"T_83423_row61_col0\" class=\"data row61 col0\" >0</td>\n",
       "      <td id=\"T_83423_row61_col1\" class=\"data row61 col1\" >0</td>\n",
       "      <td id=\"T_83423_row61_col2\" class=\"data row61 col2\" >0</td>\n",
       "      <td id=\"T_83423_row61_col3\" class=\"data row61 col3\" >3</td>\n",
       "      <td id=\"T_83423_row61_col4\" class=\"data row61 col4\" >0</td>\n",
       "    </tr>\n",
       "    <tr>\n",
       "      <th id=\"T_83423_level0_row62\" class=\"row_heading level0 row62\" >GHA</th>\n",
       "      <td id=\"T_83423_row62_col0\" class=\"data row62 col0\" >0</td>\n",
       "      <td id=\"T_83423_row62_col1\" class=\"data row62 col1\" >1</td>\n",
       "      <td id=\"T_83423_row62_col2\" class=\"data row62 col2\" >0</td>\n",
       "      <td id=\"T_83423_row62_col3\" class=\"data row62 col3\" >3</td>\n",
       "      <td id=\"T_83423_row62_col4\" class=\"data row62 col4\" >0</td>\n",
       "    </tr>\n",
       "    <tr>\n",
       "      <th id=\"T_83423_level0_row63\" class=\"row_heading level0 row63\" >GIB</th>\n",
       "      <td id=\"T_83423_row63_col0\" class=\"data row63 col0\" >0</td>\n",
       "      <td id=\"T_83423_row63_col1\" class=\"data row63 col1\" >0</td>\n",
       "      <td id=\"T_83423_row63_col2\" class=\"data row63 col2\" >0</td>\n",
       "      <td id=\"T_83423_row63_col3\" class=\"data row63 col3\" >18</td>\n",
       "      <td id=\"T_83423_row63_col4\" class=\"data row63 col4\" >0</td>\n",
       "    </tr>\n",
       "    <tr>\n",
       "      <th id=\"T_83423_level0_row64\" class=\"row_heading level0 row64\" >GLP</th>\n",
       "      <td id=\"T_83423_row64_col0\" class=\"data row64 col0\" >0</td>\n",
       "      <td id=\"T_83423_row64_col1\" class=\"data row64 col1\" >0</td>\n",
       "      <td id=\"T_83423_row64_col2\" class=\"data row64 col2\" >0</td>\n",
       "      <td id=\"T_83423_row64_col3\" class=\"data row64 col3\" >2</td>\n",
       "      <td id=\"T_83423_row64_col4\" class=\"data row64 col4\" >0</td>\n",
       "    </tr>\n",
       "    <tr>\n",
       "      <th id=\"T_83423_level0_row65\" class=\"row_heading level0 row65\" >GNB</th>\n",
       "      <td id=\"T_83423_row65_col0\" class=\"data row65 col0\" >0</td>\n",
       "      <td id=\"T_83423_row65_col1\" class=\"data row65 col1\" >4</td>\n",
       "      <td id=\"T_83423_row65_col2\" class=\"data row65 col2\" >0</td>\n",
       "      <td id=\"T_83423_row65_col3\" class=\"data row65 col3\" >5</td>\n",
       "      <td id=\"T_83423_row65_col4\" class=\"data row65 col4\" >0</td>\n",
       "    </tr>\n",
       "    <tr>\n",
       "      <th id=\"T_83423_level0_row66\" class=\"row_heading level0 row66\" >GRC</th>\n",
       "      <td id=\"T_83423_row66_col0\" class=\"data row66 col0\" >20</td>\n",
       "      <td id=\"T_83423_row66_col1\" class=\"data row66 col1\" >12</td>\n",
       "      <td id=\"T_83423_row66_col2\" class=\"data row66 col2\" >0</td>\n",
       "      <td id=\"T_83423_row66_col3\" class=\"data row66 col3\" >96</td>\n",
       "      <td id=\"T_83423_row66_col4\" class=\"data row66 col4\" >0</td>\n",
       "    </tr>\n",
       "    <tr>\n",
       "      <th id=\"T_83423_level0_row67\" class=\"row_heading level0 row67\" >GTM</th>\n",
       "      <td id=\"T_83423_row67_col0\" class=\"data row67 col0\" >0</td>\n",
       "      <td id=\"T_83423_row67_col1\" class=\"data row67 col1\" >0</td>\n",
       "      <td id=\"T_83423_row67_col2\" class=\"data row67 col2\" >0</td>\n",
       "      <td id=\"T_83423_row67_col3\" class=\"data row67 col3\" >4</td>\n",
       "      <td id=\"T_83423_row67_col4\" class=\"data row67 col4\" >0</td>\n",
       "    </tr>\n",
       "    <tr>\n",
       "      <th id=\"T_83423_level0_row68\" class=\"row_heading level0 row68\" >GUY</th>\n",
       "      <td id=\"T_83423_row68_col0\" class=\"data row68 col0\" >0</td>\n",
       "      <td id=\"T_83423_row68_col1\" class=\"data row68 col1\" >0</td>\n",
       "      <td id=\"T_83423_row68_col2\" class=\"data row68 col2\" >0</td>\n",
       "      <td id=\"T_83423_row68_col3\" class=\"data row68 col3\" >1</td>\n",
       "      <td id=\"T_83423_row68_col4\" class=\"data row68 col4\" >0</td>\n",
       "    </tr>\n",
       "    <tr>\n",
       "      <th id=\"T_83423_level0_row69\" class=\"row_heading level0 row69\" >HKG</th>\n",
       "      <td id=\"T_83423_row69_col0\" class=\"data row69 col0\" >0</td>\n",
       "      <td id=\"T_83423_row69_col1\" class=\"data row69 col1\" >0</td>\n",
       "      <td id=\"T_83423_row69_col2\" class=\"data row69 col2\" >0</td>\n",
       "      <td id=\"T_83423_row69_col3\" class=\"data row69 col3\" >29</td>\n",
       "      <td id=\"T_83423_row69_col4\" class=\"data row69 col4\" >0</td>\n",
       "    </tr>\n",
       "    <tr>\n",
       "      <th id=\"T_83423_level0_row70\" class=\"row_heading level0 row70\" >HND</th>\n",
       "      <td id=\"T_83423_row70_col0\" class=\"data row70 col0\" >0</td>\n",
       "      <td id=\"T_83423_row70_col1\" class=\"data row70 col1\" >0</td>\n",
       "      <td id=\"T_83423_row70_col2\" class=\"data row70 col2\" >0</td>\n",
       "      <td id=\"T_83423_row70_col3\" class=\"data row70 col3\" >1</td>\n",
       "      <td id=\"T_83423_row70_col4\" class=\"data row70 col4\" >0</td>\n",
       "    </tr>\n",
       "    <tr>\n",
       "      <th id=\"T_83423_level0_row71\" class=\"row_heading level0 row71\" >HRV</th>\n",
       "      <td id=\"T_83423_row71_col0\" class=\"data row71 col0\" >12</td>\n",
       "      <td id=\"T_83423_row71_col1\" class=\"data row71 col1\" >10</td>\n",
       "      <td id=\"T_83423_row71_col2\" class=\"data row71 col2\" >0</td>\n",
       "      <td id=\"T_83423_row71_col3\" class=\"data row71 col3\" >78</td>\n",
       "      <td id=\"T_83423_row71_col4\" class=\"data row71 col4\" >0</td>\n",
       "    </tr>\n",
       "    <tr>\n",
       "      <th id=\"T_83423_level0_row72\" class=\"row_heading level0 row72\" >HUN</th>\n",
       "      <td id=\"T_83423_row72_col0\" class=\"data row72 col0\" >5</td>\n",
       "      <td id=\"T_83423_row72_col1\" class=\"data row72 col1\" >21</td>\n",
       "      <td id=\"T_83423_row72_col2\" class=\"data row72 col2\" >0</td>\n",
       "      <td id=\"T_83423_row72_col3\" class=\"data row72 col3\" >204</td>\n",
       "      <td id=\"T_83423_row72_col4\" class=\"data row72 col4\" >0</td>\n",
       "    </tr>\n",
       "    <tr>\n",
       "      <th id=\"T_83423_level0_row73\" class=\"row_heading level0 row73\" >IDN</th>\n",
       "      <td id=\"T_83423_row73_col0\" class=\"data row73 col0\" >0</td>\n",
       "      <td id=\"T_83423_row73_col1\" class=\"data row73 col1\" >5</td>\n",
       "      <td id=\"T_83423_row73_col2\" class=\"data row73 col2\" >0</td>\n",
       "      <td id=\"T_83423_row73_col3\" class=\"data row73 col3\" >30</td>\n",
       "      <td id=\"T_83423_row73_col4\" class=\"data row73 col4\" >0</td>\n",
       "    </tr>\n",
       "    <tr>\n",
       "      <th id=\"T_83423_level0_row74\" class=\"row_heading level0 row74\" >IMN</th>\n",
       "      <td id=\"T_83423_row74_col0\" class=\"data row74 col0\" >0</td>\n",
       "      <td id=\"T_83423_row74_col1\" class=\"data row74 col1\" >0</td>\n",
       "      <td id=\"T_83423_row74_col2\" class=\"data row74 col2\" >0</td>\n",
       "      <td id=\"T_83423_row74_col3\" class=\"data row74 col3\" >2</td>\n",
       "      <td id=\"T_83423_row74_col4\" class=\"data row74 col4\" >0</td>\n",
       "    </tr>\n",
       "    <tr>\n",
       "      <th id=\"T_83423_level0_row75\" class=\"row_heading level0 row75\" >IND</th>\n",
       "      <td id=\"T_83423_row75_col0\" class=\"data row75 col0\" >3</td>\n",
       "      <td id=\"T_83423_row75_col1\" class=\"data row75 col1\" >13</td>\n",
       "      <td id=\"T_83423_row75_col2\" class=\"data row75 col2\" >1</td>\n",
       "      <td id=\"T_83423_row75_col3\" class=\"data row75 col3\" >135</td>\n",
       "      <td id=\"T_83423_row75_col4\" class=\"data row75 col4\" >0</td>\n",
       "    </tr>\n",
       "    <tr>\n",
       "      <th id=\"T_83423_level0_row76\" class=\"row_heading level0 row76\" >IRL</th>\n",
       "      <td id=\"T_83423_row76_col0\" class=\"data row76 col0\" >14</td>\n",
       "      <td id=\"T_83423_row76_col1\" class=\"data row76 col1\" >492</td>\n",
       "      <td id=\"T_83423_row76_col2\" class=\"data row76 col2\" >2</td>\n",
       "      <td id=\"T_83423_row76_col3\" class=\"data row76 col3\" >2867</td>\n",
       "      <td id=\"T_83423_row76_col4\" class=\"data row76 col4\" >0</td>\n",
       "    </tr>\n",
       "    <tr>\n",
       "      <th id=\"T_83423_level0_row77\" class=\"row_heading level0 row77\" >IRN</th>\n",
       "      <td id=\"T_83423_row77_col0\" class=\"data row77 col0\" >1</td>\n",
       "      <td id=\"T_83423_row77_col1\" class=\"data row77 col1\" >13</td>\n",
       "      <td id=\"T_83423_row77_col2\" class=\"data row77 col2\" >0</td>\n",
       "      <td id=\"T_83423_row77_col3\" class=\"data row77 col3\" >69</td>\n",
       "      <td id=\"T_83423_row77_col4\" class=\"data row77 col4\" >0</td>\n",
       "    </tr>\n",
       "    <tr>\n",
       "      <th id=\"T_83423_level0_row78\" class=\"row_heading level0 row78\" >IRQ</th>\n",
       "      <td id=\"T_83423_row78_col0\" class=\"data row78 col0\" >0</td>\n",
       "      <td id=\"T_83423_row78_col1\" class=\"data row78 col1\" >4</td>\n",
       "      <td id=\"T_83423_row78_col2\" class=\"data row78 col2\" >0</td>\n",
       "      <td id=\"T_83423_row78_col3\" class=\"data row78 col3\" >10</td>\n",
       "      <td id=\"T_83423_row78_col4\" class=\"data row78 col4\" >0</td>\n",
       "    </tr>\n",
       "    <tr>\n",
       "      <th id=\"T_83423_level0_row79\" class=\"row_heading level0 row79\" >ISL</th>\n",
       "      <td id=\"T_83423_row79_col0\" class=\"data row79 col0\" >1</td>\n",
       "      <td id=\"T_83423_row79_col1\" class=\"data row79 col1\" >1</td>\n",
       "      <td id=\"T_83423_row79_col2\" class=\"data row79 col2\" >0</td>\n",
       "      <td id=\"T_83423_row79_col3\" class=\"data row79 col3\" >55</td>\n",
       "      <td id=\"T_83423_row79_col4\" class=\"data row79 col4\" >0</td>\n",
       "    </tr>\n",
       "    <tr>\n",
       "      <th id=\"T_83423_level0_row80\" class=\"row_heading level0 row80\" >ISR</th>\n",
       "      <td id=\"T_83423_row80_col0\" class=\"data row80 col0\" >3</td>\n",
       "      <td id=\"T_83423_row80_col1\" class=\"data row80 col1\" >27</td>\n",
       "      <td id=\"T_83423_row80_col2\" class=\"data row80 col2\" >0</td>\n",
       "      <td id=\"T_83423_row80_col3\" class=\"data row80 col3\" >639</td>\n",
       "      <td id=\"T_83423_row80_col4\" class=\"data row80 col4\" >0</td>\n",
       "    </tr>\n",
       "    <tr>\n",
       "      <th id=\"T_83423_level0_row81\" class=\"row_heading level0 row81\" >ITA</th>\n",
       "      <td id=\"T_83423_row81_col0\" class=\"data row81 col0\" >106</td>\n",
       "      <td id=\"T_83423_row81_col1\" class=\"data row81 col1\" >254</td>\n",
       "      <td id=\"T_83423_row81_col2\" class=\"data row81 col2\" >14</td>\n",
       "      <td id=\"T_83423_row81_col3\" class=\"data row81 col3\" >3392</td>\n",
       "      <td id=\"T_83423_row81_col4\" class=\"data row81 col4\" >0</td>\n",
       "    </tr>\n",
       "    <tr>\n",
       "      <th id=\"T_83423_level0_row82\" class=\"row_heading level0 row82\" >JAM</th>\n",
       "      <td id=\"T_83423_row82_col0\" class=\"data row82 col0\" >0</td>\n",
       "      <td id=\"T_83423_row82_col1\" class=\"data row82 col1\" >0</td>\n",
       "      <td id=\"T_83423_row82_col2\" class=\"data row82 col2\" >0</td>\n",
       "      <td id=\"T_83423_row82_col3\" class=\"data row82 col3\" >6</td>\n",
       "      <td id=\"T_83423_row82_col4\" class=\"data row82 col4\" >0</td>\n",
       "    </tr>\n",
       "    <tr>\n",
       "      <th id=\"T_83423_level0_row83\" class=\"row_heading level0 row83\" >JEY</th>\n",
       "      <td id=\"T_83423_row83_col0\" class=\"data row83 col0\" >0</td>\n",
       "      <td id=\"T_83423_row83_col1\" class=\"data row83 col1\" >0</td>\n",
       "      <td id=\"T_83423_row83_col2\" class=\"data row83 col2\" >0</td>\n",
       "      <td id=\"T_83423_row83_col3\" class=\"data row83 col3\" >8</td>\n",
       "      <td id=\"T_83423_row83_col4\" class=\"data row83 col4\" >0</td>\n",
       "    </tr>\n",
       "    <tr>\n",
       "      <th id=\"T_83423_level0_row84\" class=\"row_heading level0 row84\" >JOR</th>\n",
       "      <td id=\"T_83423_row84_col0\" class=\"data row84 col0\" >0</td>\n",
       "      <td id=\"T_83423_row84_col1\" class=\"data row84 col1\" >2</td>\n",
       "      <td id=\"T_83423_row84_col2\" class=\"data row84 col2\" >2</td>\n",
       "      <td id=\"T_83423_row84_col3\" class=\"data row84 col3\" >17</td>\n",
       "      <td id=\"T_83423_row84_col4\" class=\"data row84 col4\" >0</td>\n",
       "    </tr>\n",
       "    <tr>\n",
       "      <th id=\"T_83423_level0_row85\" class=\"row_heading level0 row85\" >JPN</th>\n",
       "      <td id=\"T_83423_row85_col0\" class=\"data row85 col0\" >5</td>\n",
       "      <td id=\"T_83423_row85_col1\" class=\"data row85 col1\" >23</td>\n",
       "      <td id=\"T_83423_row85_col2\" class=\"data row85 col2\" >0</td>\n",
       "      <td id=\"T_83423_row85_col3\" class=\"data row85 col3\" >169</td>\n",
       "      <td id=\"T_83423_row85_col4\" class=\"data row85 col4\" >0</td>\n",
       "    </tr>\n",
       "    <tr>\n",
       "      <th id=\"T_83423_level0_row86\" class=\"row_heading level0 row86\" >KAZ</th>\n",
       "      <td id=\"T_83423_row86_col0\" class=\"data row86 col0\" >0</td>\n",
       "      <td id=\"T_83423_row86_col1\" class=\"data row86 col1\" >1</td>\n",
       "      <td id=\"T_83423_row86_col2\" class=\"data row86 col2\" >0</td>\n",
       "      <td id=\"T_83423_row86_col3\" class=\"data row86 col3\" >18</td>\n",
       "      <td id=\"T_83423_row86_col4\" class=\"data row86 col4\" >0</td>\n",
       "    </tr>\n",
       "    <tr>\n",
       "      <th id=\"T_83423_level0_row87\" class=\"row_heading level0 row87\" >KEN</th>\n",
       "      <td id=\"T_83423_row87_col0\" class=\"data row87 col0\" >0</td>\n",
       "      <td id=\"T_83423_row87_col1\" class=\"data row87 col1\" >1</td>\n",
       "      <td id=\"T_83423_row87_col2\" class=\"data row87 col2\" >0</td>\n",
       "      <td id=\"T_83423_row87_col3\" class=\"data row87 col3\" >5</td>\n",
       "      <td id=\"T_83423_row87_col4\" class=\"data row87 col4\" >0</td>\n",
       "    </tr>\n",
       "    <tr>\n",
       "      <th id=\"T_83423_level0_row88\" class=\"row_heading level0 row88\" >KHM</th>\n",
       "      <td id=\"T_83423_row88_col0\" class=\"data row88 col0\" >0</td>\n",
       "      <td id=\"T_83423_row88_col1\" class=\"data row88 col1\" >0</td>\n",
       "      <td id=\"T_83423_row88_col2\" class=\"data row88 col2\" >0</td>\n",
       "      <td id=\"T_83423_row88_col3\" class=\"data row88 col3\" >2</td>\n",
       "      <td id=\"T_83423_row88_col4\" class=\"data row88 col4\" >0</td>\n",
       "    </tr>\n",
       "    <tr>\n",
       "      <th id=\"T_83423_level0_row89\" class=\"row_heading level0 row89\" >KIR</th>\n",
       "      <td id=\"T_83423_row89_col0\" class=\"data row89 col0\" >0</td>\n",
       "      <td id=\"T_83423_row89_col1\" class=\"data row89 col1\" >0</td>\n",
       "      <td id=\"T_83423_row89_col2\" class=\"data row89 col2\" >0</td>\n",
       "      <td id=\"T_83423_row89_col3\" class=\"data row89 col3\" >1</td>\n",
       "      <td id=\"T_83423_row89_col4\" class=\"data row89 col4\" >0</td>\n",
       "    </tr>\n",
       "    <tr>\n",
       "      <th id=\"T_83423_level0_row90\" class=\"row_heading level0 row90\" >KNA</th>\n",
       "      <td id=\"T_83423_row90_col0\" class=\"data row90 col0\" >0</td>\n",
       "      <td id=\"T_83423_row90_col1\" class=\"data row90 col1\" >0</td>\n",
       "      <td id=\"T_83423_row90_col2\" class=\"data row90 col2\" >0</td>\n",
       "      <td id=\"T_83423_row90_col3\" class=\"data row90 col3\" >2</td>\n",
       "      <td id=\"T_83423_row90_col4\" class=\"data row90 col4\" >0</td>\n",
       "    </tr>\n",
       "    <tr>\n",
       "      <th id=\"T_83423_level0_row91\" class=\"row_heading level0 row91\" >KOR</th>\n",
       "      <td id=\"T_83423_row91_col0\" class=\"data row91 col0\" >3</td>\n",
       "      <td id=\"T_83423_row91_col1\" class=\"data row91 col1\" >12</td>\n",
       "      <td id=\"T_83423_row91_col2\" class=\"data row91 col2\" >0</td>\n",
       "      <td id=\"T_83423_row91_col3\" class=\"data row91 col3\" >118</td>\n",
       "      <td id=\"T_83423_row91_col4\" class=\"data row91 col4\" >0</td>\n",
       "    </tr>\n",
       "    <tr>\n",
       "      <th id=\"T_83423_level0_row92\" class=\"row_heading level0 row92\" >KWT</th>\n",
       "      <td id=\"T_83423_row92_col0\" class=\"data row92 col0\" >0</td>\n",
       "      <td id=\"T_83423_row92_col1\" class=\"data row92 col1\" >0</td>\n",
       "      <td id=\"T_83423_row92_col2\" class=\"data row92 col2\" >0</td>\n",
       "      <td id=\"T_83423_row92_col3\" class=\"data row92 col3\" >16</td>\n",
       "      <td id=\"T_83423_row92_col4\" class=\"data row92 col4\" >0</td>\n",
       "    </tr>\n",
       "    <tr>\n",
       "      <th id=\"T_83423_level0_row93\" class=\"row_heading level0 row93\" >LAO</th>\n",
       "      <td id=\"T_83423_row93_col0\" class=\"data row93 col0\" >0</td>\n",
       "      <td id=\"T_83423_row93_col1\" class=\"data row93 col1\" >0</td>\n",
       "      <td id=\"T_83423_row93_col2\" class=\"data row93 col2\" >0</td>\n",
       "      <td id=\"T_83423_row93_col3\" class=\"data row93 col3\" >2</td>\n",
       "      <td id=\"T_83423_row93_col4\" class=\"data row93 col4\" >0</td>\n",
       "    </tr>\n",
       "    <tr>\n",
       "      <th id=\"T_83423_level0_row94\" class=\"row_heading level0 row94\" >LBN</th>\n",
       "      <td id=\"T_83423_row94_col0\" class=\"data row94 col0\" >0</td>\n",
       "      <td id=\"T_83423_row94_col1\" class=\"data row94 col1\" >2</td>\n",
       "      <td id=\"T_83423_row94_col2\" class=\"data row94 col2\" >0</td>\n",
       "      <td id=\"T_83423_row94_col3\" class=\"data row94 col3\" >29</td>\n",
       "      <td id=\"T_83423_row94_col4\" class=\"data row94 col4\" >0</td>\n",
       "    </tr>\n",
       "    <tr>\n",
       "      <th id=\"T_83423_level0_row95\" class=\"row_heading level0 row95\" >LBY</th>\n",
       "      <td id=\"T_83423_row95_col0\" class=\"data row95 col0\" >0</td>\n",
       "      <td id=\"T_83423_row95_col1\" class=\"data row95 col1\" >0</td>\n",
       "      <td id=\"T_83423_row95_col2\" class=\"data row95 col2\" >0</td>\n",
       "      <td id=\"T_83423_row95_col3\" class=\"data row95 col3\" >8</td>\n",
       "      <td id=\"T_83423_row95_col4\" class=\"data row95 col4\" >0</td>\n",
       "    </tr>\n",
       "    <tr>\n",
       "      <th id=\"T_83423_level0_row96\" class=\"row_heading level0 row96\" >LCA</th>\n",
       "      <td id=\"T_83423_row96_col0\" class=\"data row96 col0\" >0</td>\n",
       "      <td id=\"T_83423_row96_col1\" class=\"data row96 col1\" >0</td>\n",
       "      <td id=\"T_83423_row96_col2\" class=\"data row96 col2\" >0</td>\n",
       "      <td id=\"T_83423_row96_col3\" class=\"data row96 col3\" >1</td>\n",
       "      <td id=\"T_83423_row96_col4\" class=\"data row96 col4\" >0</td>\n",
       "    </tr>\n",
       "    <tr>\n",
       "      <th id=\"T_83423_level0_row97\" class=\"row_heading level0 row97\" >LIE</th>\n",
       "      <td id=\"T_83423_row97_col0\" class=\"data row97 col0\" >0</td>\n",
       "      <td id=\"T_83423_row97_col1\" class=\"data row97 col1\" >0</td>\n",
       "      <td id=\"T_83423_row97_col2\" class=\"data row97 col2\" >0</td>\n",
       "      <td id=\"T_83423_row97_col3\" class=\"data row97 col3\" >3</td>\n",
       "      <td id=\"T_83423_row97_col4\" class=\"data row97 col4\" >0</td>\n",
       "    </tr>\n",
       "    <tr>\n",
       "      <th id=\"T_83423_level0_row98\" class=\"row_heading level0 row98\" >LKA</th>\n",
       "      <td id=\"T_83423_row98_col0\" class=\"data row98 col0\" >1</td>\n",
       "      <td id=\"T_83423_row98_col1\" class=\"data row98 col1\" >0</td>\n",
       "      <td id=\"T_83423_row98_col2\" class=\"data row98 col2\" >0</td>\n",
       "      <td id=\"T_83423_row98_col3\" class=\"data row98 col3\" >6</td>\n",
       "      <td id=\"T_83423_row98_col4\" class=\"data row98 col4\" >0</td>\n",
       "    </tr>\n",
       "    <tr>\n",
       "      <th id=\"T_83423_level0_row99\" class=\"row_heading level0 row99\" >LTU</th>\n",
       "      <td id=\"T_83423_row99_col0\" class=\"data row99 col0\" >2</td>\n",
       "      <td id=\"T_83423_row99_col1\" class=\"data row99 col1\" >7</td>\n",
       "      <td id=\"T_83423_row99_col2\" class=\"data row99 col2\" >0</td>\n",
       "      <td id=\"T_83423_row99_col3\" class=\"data row99 col3\" >72</td>\n",
       "      <td id=\"T_83423_row99_col4\" class=\"data row99 col4\" >0</td>\n",
       "    </tr>\n",
       "    <tr>\n",
       "      <th id=\"T_83423_level0_row100\" class=\"row_heading level0 row100\" >LUX</th>\n",
       "      <td id=\"T_83423_row100_col0\" class=\"data row100 col0\" >0</td>\n",
       "      <td id=\"T_83423_row100_col1\" class=\"data row100 col1\" >30</td>\n",
       "      <td id=\"T_83423_row100_col2\" class=\"data row100 col2\" >0</td>\n",
       "      <td id=\"T_83423_row100_col3\" class=\"data row100 col3\" >257</td>\n",
       "      <td id=\"T_83423_row100_col4\" class=\"data row100 col4\" >0</td>\n",
       "    </tr>\n",
       "    <tr>\n",
       "      <th id=\"T_83423_level0_row101\" class=\"row_heading level0 row101\" >LVA</th>\n",
       "      <td id=\"T_83423_row101_col0\" class=\"data row101 col0\" >2</td>\n",
       "      <td id=\"T_83423_row101_col1\" class=\"data row101 col1\" >4</td>\n",
       "      <td id=\"T_83423_row101_col2\" class=\"data row101 col2\" >0</td>\n",
       "      <td id=\"T_83423_row101_col3\" class=\"data row101 col3\" >49</td>\n",
       "      <td id=\"T_83423_row101_col4\" class=\"data row101 col4\" >0</td>\n",
       "    </tr>\n",
       "    <tr>\n",
       "      <th id=\"T_83423_level0_row102\" class=\"row_heading level0 row102\" >MAC</th>\n",
       "      <td id=\"T_83423_row102_col0\" class=\"data row102 col0\" >0</td>\n",
       "      <td id=\"T_83423_row102_col1\" class=\"data row102 col1\" >0</td>\n",
       "      <td id=\"T_83423_row102_col2\" class=\"data row102 col2\" >1</td>\n",
       "      <td id=\"T_83423_row102_col3\" class=\"data row102 col3\" >15</td>\n",
       "      <td id=\"T_83423_row102_col4\" class=\"data row102 col4\" >0</td>\n",
       "    </tr>\n",
       "    <tr>\n",
       "      <th id=\"T_83423_level0_row103\" class=\"row_heading level0 row103\" >MAR</th>\n",
       "      <td id=\"T_83423_row103_col0\" class=\"data row103 col0\" >2</td>\n",
       "      <td id=\"T_83423_row103_col1\" class=\"data row103 col1\" >34</td>\n",
       "      <td id=\"T_83423_row103_col2\" class=\"data row103 col2\" >0</td>\n",
       "      <td id=\"T_83423_row103_col3\" class=\"data row103 col3\" >223</td>\n",
       "      <td id=\"T_83423_row103_col4\" class=\"data row103 col4\" >0</td>\n",
       "    </tr>\n",
       "    <tr>\n",
       "      <th id=\"T_83423_level0_row104\" class=\"row_heading level0 row104\" >MCO</th>\n",
       "      <td id=\"T_83423_row104_col0\" class=\"data row104 col0\" >0</td>\n",
       "      <td id=\"T_83423_row104_col1\" class=\"data row104 col1\" >0</td>\n",
       "      <td id=\"T_83423_row104_col2\" class=\"data row104 col2\" >0</td>\n",
       "      <td id=\"T_83423_row104_col3\" class=\"data row104 col3\" >4</td>\n",
       "      <td id=\"T_83423_row104_col4\" class=\"data row104 col4\" >0</td>\n",
       "    </tr>\n",
       "    <tr>\n",
       "      <th id=\"T_83423_level0_row105\" class=\"row_heading level0 row105\" >MDG</th>\n",
       "      <td id=\"T_83423_row105_col0\" class=\"data row105 col0\" >0</td>\n",
       "      <td id=\"T_83423_row105_col1\" class=\"data row105 col1\" >1</td>\n",
       "      <td id=\"T_83423_row105_col2\" class=\"data row105 col2\" >0</td>\n",
       "      <td id=\"T_83423_row105_col3\" class=\"data row105 col3\" >0</td>\n",
       "      <td id=\"T_83423_row105_col4\" class=\"data row105 col4\" >0</td>\n",
       "    </tr>\n",
       "    <tr>\n",
       "      <th id=\"T_83423_level0_row106\" class=\"row_heading level0 row106\" >MDV</th>\n",
       "      <td id=\"T_83423_row106_col0\" class=\"data row106 col0\" >0</td>\n",
       "      <td id=\"T_83423_row106_col1\" class=\"data row106 col1\" >3</td>\n",
       "      <td id=\"T_83423_row106_col2\" class=\"data row106 col2\" >0</td>\n",
       "      <td id=\"T_83423_row106_col3\" class=\"data row106 col3\" >9</td>\n",
       "      <td id=\"T_83423_row106_col4\" class=\"data row106 col4\" >0</td>\n",
       "    </tr>\n",
       "    <tr>\n",
       "      <th id=\"T_83423_level0_row107\" class=\"row_heading level0 row107\" >MEX</th>\n",
       "      <td id=\"T_83423_row107_col0\" class=\"data row107 col0\" >3</td>\n",
       "      <td id=\"T_83423_row107_col1\" class=\"data row107 col1\" >8</td>\n",
       "      <td id=\"T_83423_row107_col2\" class=\"data row107 col2\" >0</td>\n",
       "      <td id=\"T_83423_row107_col3\" class=\"data row107 col3\" >74</td>\n",
       "      <td id=\"T_83423_row107_col4\" class=\"data row107 col4\" >0</td>\n",
       "    </tr>\n",
       "    <tr>\n",
       "      <th id=\"T_83423_level0_row108\" class=\"row_heading level0 row108\" >MKD</th>\n",
       "      <td id=\"T_83423_row108_col0\" class=\"data row108 col0\" >7</td>\n",
       "      <td id=\"T_83423_row108_col1\" class=\"data row108 col1\" >0</td>\n",
       "      <td id=\"T_83423_row108_col2\" class=\"data row108 col2\" >0</td>\n",
       "      <td id=\"T_83423_row108_col3\" class=\"data row108 col3\" >3</td>\n",
       "      <td id=\"T_83423_row108_col4\" class=\"data row108 col4\" >0</td>\n",
       "    </tr>\n",
       "    <tr>\n",
       "      <th id=\"T_83423_level0_row109\" class=\"row_heading level0 row109\" >MLI</th>\n",
       "      <td id=\"T_83423_row109_col0\" class=\"data row109 col0\" >0</td>\n",
       "      <td id=\"T_83423_row109_col1\" class=\"data row109 col1\" >0</td>\n",
       "      <td id=\"T_83423_row109_col2\" class=\"data row109 col2\" >0</td>\n",
       "      <td id=\"T_83423_row109_col3\" class=\"data row109 col3\" >1</td>\n",
       "      <td id=\"T_83423_row109_col4\" class=\"data row109 col4\" >0</td>\n",
       "    </tr>\n",
       "    <tr>\n",
       "      <th id=\"T_83423_level0_row110\" class=\"row_heading level0 row110\" >MLT</th>\n",
       "      <td id=\"T_83423_row110_col0\" class=\"data row110 col0\" >4</td>\n",
       "      <td id=\"T_83423_row110_col1\" class=\"data row110 col1\" >2</td>\n",
       "      <td id=\"T_83423_row110_col2\" class=\"data row110 col2\" >0</td>\n",
       "      <td id=\"T_83423_row110_col3\" class=\"data row110 col3\" >12</td>\n",
       "      <td id=\"T_83423_row110_col4\" class=\"data row110 col4\" >0</td>\n",
       "    </tr>\n",
       "    <tr>\n",
       "      <th id=\"T_83423_level0_row111\" class=\"row_heading level0 row111\" >MMR</th>\n",
       "      <td id=\"T_83423_row111_col0\" class=\"data row111 col0\" >0</td>\n",
       "      <td id=\"T_83423_row111_col1\" class=\"data row111 col1\" >0</td>\n",
       "      <td id=\"T_83423_row111_col2\" class=\"data row111 col2\" >0</td>\n",
       "      <td id=\"T_83423_row111_col3\" class=\"data row111 col3\" >1</td>\n",
       "      <td id=\"T_83423_row111_col4\" class=\"data row111 col4\" >0</td>\n",
       "    </tr>\n",
       "    <tr>\n",
       "      <th id=\"T_83423_level0_row112\" class=\"row_heading level0 row112\" >MNE</th>\n",
       "      <td id=\"T_83423_row112_col0\" class=\"data row112 col0\" >0</td>\n",
       "      <td id=\"T_83423_row112_col1\" class=\"data row112 col1\" >1</td>\n",
       "      <td id=\"T_83423_row112_col2\" class=\"data row112 col2\" >0</td>\n",
       "      <td id=\"T_83423_row112_col3\" class=\"data row112 col3\" >4</td>\n",
       "      <td id=\"T_83423_row112_col4\" class=\"data row112 col4\" >0</td>\n",
       "    </tr>\n",
       "    <tr>\n",
       "      <th id=\"T_83423_level0_row113\" class=\"row_heading level0 row113\" >MOZ</th>\n",
       "      <td id=\"T_83423_row113_col0\" class=\"data row113 col0\" >0</td>\n",
       "      <td id=\"T_83423_row113_col1\" class=\"data row113 col1\" >9</td>\n",
       "      <td id=\"T_83423_row113_col2\" class=\"data row113 col2\" >0</td>\n",
       "      <td id=\"T_83423_row113_col3\" class=\"data row113 col3\" >58</td>\n",
       "      <td id=\"T_83423_row113_col4\" class=\"data row113 col4\" >0</td>\n",
       "    </tr>\n",
       "    <tr>\n",
       "      <th id=\"T_83423_level0_row114\" class=\"row_heading level0 row114\" >MRT</th>\n",
       "      <td id=\"T_83423_row114_col0\" class=\"data row114 col0\" >0</td>\n",
       "      <td id=\"T_83423_row114_col1\" class=\"data row114 col1\" >0</td>\n",
       "      <td id=\"T_83423_row114_col2\" class=\"data row114 col2\" >0</td>\n",
       "      <td id=\"T_83423_row114_col3\" class=\"data row114 col3\" >1</td>\n",
       "      <td id=\"T_83423_row114_col4\" class=\"data row114 col4\" >0</td>\n",
       "    </tr>\n",
       "    <tr>\n",
       "      <th id=\"T_83423_level0_row115\" class=\"row_heading level0 row115\" >MUS</th>\n",
       "      <td id=\"T_83423_row115_col0\" class=\"data row115 col0\" >0</td>\n",
       "      <td id=\"T_83423_row115_col1\" class=\"data row115 col1\" >0</td>\n",
       "      <td id=\"T_83423_row115_col2\" class=\"data row115 col2\" >0</td>\n",
       "      <td id=\"T_83423_row115_col3\" class=\"data row115 col3\" >7</td>\n",
       "      <td id=\"T_83423_row115_col4\" class=\"data row115 col4\" >0</td>\n",
       "    </tr>\n",
       "    <tr>\n",
       "      <th id=\"T_83423_level0_row116\" class=\"row_heading level0 row116\" >MWI</th>\n",
       "      <td id=\"T_83423_row116_col0\" class=\"data row116 col0\" >0</td>\n",
       "      <td id=\"T_83423_row116_col1\" class=\"data row116 col1\" >0</td>\n",
       "      <td id=\"T_83423_row116_col2\" class=\"data row116 col2\" >0</td>\n",
       "      <td id=\"T_83423_row116_col3\" class=\"data row116 col3\" >2</td>\n",
       "      <td id=\"T_83423_row116_col4\" class=\"data row116 col4\" >0</td>\n",
       "    </tr>\n",
       "    <tr>\n",
       "      <th id=\"T_83423_level0_row117\" class=\"row_heading level0 row117\" >MYS</th>\n",
       "      <td id=\"T_83423_row117_col0\" class=\"data row117 col0\" >0</td>\n",
       "      <td id=\"T_83423_row117_col1\" class=\"data row117 col1\" >3</td>\n",
       "      <td id=\"T_83423_row117_col2\" class=\"data row117 col2\" >0</td>\n",
       "      <td id=\"T_83423_row117_col3\" class=\"data row117 col3\" >25</td>\n",
       "      <td id=\"T_83423_row117_col4\" class=\"data row117 col4\" >0</td>\n",
       "    </tr>\n",
       "    <tr>\n",
       "      <th id=\"T_83423_level0_row118\" class=\"row_heading level0 row118\" >MYT</th>\n",
       "      <td id=\"T_83423_row118_col0\" class=\"data row118 col0\" >0</td>\n",
       "      <td id=\"T_83423_row118_col1\" class=\"data row118 col1\" >0</td>\n",
       "      <td id=\"T_83423_row118_col2\" class=\"data row118 col2\" >0</td>\n",
       "      <td id=\"T_83423_row118_col3\" class=\"data row118 col3\" >2</td>\n",
       "      <td id=\"T_83423_row118_col4\" class=\"data row118 col4\" >0</td>\n",
       "    </tr>\n",
       "    <tr>\n",
       "      <th id=\"T_83423_level0_row119\" class=\"row_heading level0 row119\" >NAM</th>\n",
       "      <td id=\"T_83423_row119_col0\" class=\"data row119 col0\" >0</td>\n",
       "      <td id=\"T_83423_row119_col1\" class=\"data row119 col1\" >0</td>\n",
       "      <td id=\"T_83423_row119_col2\" class=\"data row119 col2\" >0</td>\n",
       "      <td id=\"T_83423_row119_col3\" class=\"data row119 col3\" >1</td>\n",
       "      <td id=\"T_83423_row119_col4\" class=\"data row119 col4\" >0</td>\n",
       "    </tr>\n",
       "    <tr>\n",
       "      <th id=\"T_83423_level0_row120\" class=\"row_heading level0 row120\" >NCL</th>\n",
       "      <td id=\"T_83423_row120_col0\" class=\"data row120 col0\" >0</td>\n",
       "      <td id=\"T_83423_row120_col1\" class=\"data row120 col1\" >0</td>\n",
       "      <td id=\"T_83423_row120_col2\" class=\"data row120 col2\" >0</td>\n",
       "      <td id=\"T_83423_row120_col3\" class=\"data row120 col3\" >1</td>\n",
       "      <td id=\"T_83423_row120_col4\" class=\"data row120 col4\" >0</td>\n",
       "    </tr>\n",
       "    <tr>\n",
       "      <th id=\"T_83423_level0_row121\" class=\"row_heading level0 row121\" >NGA</th>\n",
       "      <td id=\"T_83423_row121_col0\" class=\"data row121 col0\" >0</td>\n",
       "      <td id=\"T_83423_row121_col1\" class=\"data row121 col1\" >7</td>\n",
       "      <td id=\"T_83423_row121_col2\" class=\"data row121 col2\" >0</td>\n",
       "      <td id=\"T_83423_row121_col3\" class=\"data row121 col3\" >27</td>\n",
       "      <td id=\"T_83423_row121_col4\" class=\"data row121 col4\" >0</td>\n",
       "    </tr>\n",
       "    <tr>\n",
       "      <th id=\"T_83423_level0_row122\" class=\"row_heading level0 row122\" >NIC</th>\n",
       "      <td id=\"T_83423_row122_col0\" class=\"data row122 col0\" >0</td>\n",
       "      <td id=\"T_83423_row122_col1\" class=\"data row122 col1\" >0</td>\n",
       "      <td id=\"T_83423_row122_col2\" class=\"data row122 col2\" >0</td>\n",
       "      <td id=\"T_83423_row122_col3\" class=\"data row122 col3\" >1</td>\n",
       "      <td id=\"T_83423_row122_col4\" class=\"data row122 col4\" >0</td>\n",
       "    </tr>\n",
       "    <tr>\n",
       "      <th id=\"T_83423_level0_row123\" class=\"row_heading level0 row123\" >NLD</th>\n",
       "      <td id=\"T_83423_row123_col0\" class=\"data row123 col0\" >70</td>\n",
       "      <td id=\"T_83423_row123_col1\" class=\"data row123 col1\" >204</td>\n",
       "      <td id=\"T_83423_row123_col2\" class=\"data row123 col2\" >12</td>\n",
       "      <td id=\"T_83423_row123_col3\" class=\"data row123 col3\" >1818</td>\n",
       "      <td id=\"T_83423_row123_col4\" class=\"data row123 col4\" >0</td>\n",
       "    </tr>\n",
       "    <tr>\n",
       "      <th id=\"T_83423_level0_row124\" class=\"row_heading level0 row124\" >NOR</th>\n",
       "      <td id=\"T_83423_row124_col0\" class=\"data row124 col0\" >13</td>\n",
       "      <td id=\"T_83423_row124_col1\" class=\"data row124 col1\" >56</td>\n",
       "      <td id=\"T_83423_row124_col2\" class=\"data row124 col2\" >6</td>\n",
       "      <td id=\"T_83423_row124_col3\" class=\"data row124 col3\" >532</td>\n",
       "      <td id=\"T_83423_row124_col4\" class=\"data row124 col4\" >0</td>\n",
       "    </tr>\n",
       "    <tr>\n",
       "      <th id=\"T_83423_level0_row125\" class=\"row_heading level0 row125\" >NPL</th>\n",
       "      <td id=\"T_83423_row125_col0\" class=\"data row125 col0\" >0</td>\n",
       "      <td id=\"T_83423_row125_col1\" class=\"data row125 col1\" >0</td>\n",
       "      <td id=\"T_83423_row125_col2\" class=\"data row125 col2\" >0</td>\n",
       "      <td id=\"T_83423_row125_col3\" class=\"data row125 col3\" >1</td>\n",
       "      <td id=\"T_83423_row125_col4\" class=\"data row125 col4\" >0</td>\n",
       "    </tr>\n",
       "    <tr>\n",
       "      <th id=\"T_83423_level0_row126\" class=\"row_heading level0 row126\" >NZL</th>\n",
       "      <td id=\"T_83423_row126_col0\" class=\"data row126 col0\" >2</td>\n",
       "      <td id=\"T_83423_row126_col1\" class=\"data row126 col1\" >5</td>\n",
       "      <td id=\"T_83423_row126_col2\" class=\"data row126 col2\" >0</td>\n",
       "      <td id=\"T_83423_row126_col3\" class=\"data row126 col3\" >67</td>\n",
       "      <td id=\"T_83423_row126_col4\" class=\"data row126 col4\" >0</td>\n",
       "    </tr>\n",
       "    <tr>\n",
       "      <th id=\"T_83423_level0_row127\" class=\"row_heading level0 row127\" >OMN</th>\n",
       "      <td id=\"T_83423_row127_col0\" class=\"data row127 col0\" >0</td>\n",
       "      <td id=\"T_83423_row127_col1\" class=\"data row127 col1\" >0</td>\n",
       "      <td id=\"T_83423_row127_col2\" class=\"data row127 col2\" >0</td>\n",
       "      <td id=\"T_83423_row127_col3\" class=\"data row127 col3\" >18</td>\n",
       "      <td id=\"T_83423_row127_col4\" class=\"data row127 col4\" >0</td>\n",
       "    </tr>\n",
       "    <tr>\n",
       "      <th id=\"T_83423_level0_row128\" class=\"row_heading level0 row128\" >PAK</th>\n",
       "      <td id=\"T_83423_row128_col0\" class=\"data row128 col0\" >2</td>\n",
       "      <td id=\"T_83423_row128_col1\" class=\"data row128 col1\" >0</td>\n",
       "      <td id=\"T_83423_row128_col2\" class=\"data row128 col2\" >0</td>\n",
       "      <td id=\"T_83423_row128_col3\" class=\"data row128 col3\" >12</td>\n",
       "      <td id=\"T_83423_row128_col4\" class=\"data row128 col4\" >0</td>\n",
       "    </tr>\n",
       "    <tr>\n",
       "      <th id=\"T_83423_level0_row129\" class=\"row_heading level0 row129\" >PAN</th>\n",
       "      <td id=\"T_83423_row129_col0\" class=\"data row129 col0\" >0</td>\n",
       "      <td id=\"T_83423_row129_col1\" class=\"data row129 col1\" >0</td>\n",
       "      <td id=\"T_83423_row129_col2\" class=\"data row129 col2\" >0</td>\n",
       "      <td id=\"T_83423_row129_col3\" class=\"data row129 col3\" >9</td>\n",
       "      <td id=\"T_83423_row129_col4\" class=\"data row129 col4\" >0</td>\n",
       "    </tr>\n",
       "    <tr>\n",
       "      <th id=\"T_83423_level0_row130\" class=\"row_heading level0 row130\" >PER</th>\n",
       "      <td id=\"T_83423_row130_col0\" class=\"data row130 col0\" >1</td>\n",
       "      <td id=\"T_83423_row130_col1\" class=\"data row130 col1\" >4</td>\n",
       "      <td id=\"T_83423_row130_col2\" class=\"data row130 col2\" >0</td>\n",
       "      <td id=\"T_83423_row130_col3\" class=\"data row130 col3\" >24</td>\n",
       "      <td id=\"T_83423_row130_col4\" class=\"data row130 col4\" >0</td>\n",
       "    </tr>\n",
       "    <tr>\n",
       "      <th id=\"T_83423_level0_row131\" class=\"row_heading level0 row131\" >PHL</th>\n",
       "      <td id=\"T_83423_row131_col0\" class=\"data row131 col0\" >0</td>\n",
       "      <td id=\"T_83423_row131_col1\" class=\"data row131 col1\" >6</td>\n",
       "      <td id=\"T_83423_row131_col2\" class=\"data row131 col2\" >0</td>\n",
       "      <td id=\"T_83423_row131_col3\" class=\"data row131 col3\" >34</td>\n",
       "      <td id=\"T_83423_row131_col4\" class=\"data row131 col4\" >0</td>\n",
       "    </tr>\n",
       "    <tr>\n",
       "      <th id=\"T_83423_level0_row132\" class=\"row_heading level0 row132\" >PLW</th>\n",
       "      <td id=\"T_83423_row132_col0\" class=\"data row132 col0\" >0</td>\n",
       "      <td id=\"T_83423_row132_col1\" class=\"data row132 col1\" >0</td>\n",
       "      <td id=\"T_83423_row132_col2\" class=\"data row132 col2\" >0</td>\n",
       "      <td id=\"T_83423_row132_col3\" class=\"data row132 col3\" >1</td>\n",
       "      <td id=\"T_83423_row132_col4\" class=\"data row132 col4\" >0</td>\n",
       "    </tr>\n",
       "    <tr>\n",
       "      <th id=\"T_83423_level0_row133\" class=\"row_heading level0 row133\" >POL</th>\n",
       "      <td id=\"T_83423_row133_col0\" class=\"data row133 col0\" >31</td>\n",
       "      <td id=\"T_83423_row133_col1\" class=\"data row133 col1\" >116</td>\n",
       "      <td id=\"T_83423_row133_col2\" class=\"data row133 col2\" >4</td>\n",
       "      <td id=\"T_83423_row133_col3\" class=\"data row133 col3\" >768</td>\n",
       "      <td id=\"T_83423_row133_col4\" class=\"data row133 col4\" >0</td>\n",
       "    </tr>\n",
       "    <tr>\n",
       "      <th id=\"T_83423_level0_row134\" class=\"row_heading level0 row134\" >PRI</th>\n",
       "      <td id=\"T_83423_row134_col0\" class=\"data row134 col0\" >7</td>\n",
       "      <td id=\"T_83423_row134_col1\" class=\"data row134 col1\" >1</td>\n",
       "      <td id=\"T_83423_row134_col2\" class=\"data row134 col2\" >0</td>\n",
       "      <td id=\"T_83423_row134_col3\" class=\"data row134 col3\" >4</td>\n",
       "      <td id=\"T_83423_row134_col4\" class=\"data row134 col4\" >0</td>\n",
       "    </tr>\n",
       "    <tr>\n",
       "      <th id=\"T_83423_level0_row135\" class=\"row_heading level0 row135\" >PRT</th>\n",
       "      <td id=\"T_83423_row135_col0\" class=\"data row135 col0\" >4526</td>\n",
       "      <td id=\"T_83423_row135_col1\" class=\"data row135 col1\" >7258</td>\n",
       "      <td id=\"T_83423_row135_col2\" class=\"data row135 col2\" >21</td>\n",
       "      <td id=\"T_83423_row135_col3\" class=\"data row135 col3\" >36780</td>\n",
       "      <td id=\"T_83423_row135_col4\" class=\"data row135 col4\" >5</td>\n",
       "    </tr>\n",
       "    <tr>\n",
       "      <th id=\"T_83423_level0_row136\" class=\"row_heading level0 row136\" >PRY</th>\n",
       "      <td id=\"T_83423_row136_col0\" class=\"data row136 col0\" >0</td>\n",
       "      <td id=\"T_83423_row136_col1\" class=\"data row136 col1\" >0</td>\n",
       "      <td id=\"T_83423_row136_col2\" class=\"data row136 col2\" >0</td>\n",
       "      <td id=\"T_83423_row136_col3\" class=\"data row136 col3\" >4</td>\n",
       "      <td id=\"T_83423_row136_col4\" class=\"data row136 col4\" >0</td>\n",
       "    </tr>\n",
       "    <tr>\n",
       "      <th id=\"T_83423_level0_row137\" class=\"row_heading level0 row137\" >PYF</th>\n",
       "      <td id=\"T_83423_row137_col0\" class=\"data row137 col0\" >0</td>\n",
       "      <td id=\"T_83423_row137_col1\" class=\"data row137 col1\" >0</td>\n",
       "      <td id=\"T_83423_row137_col2\" class=\"data row137 col2\" >0</td>\n",
       "      <td id=\"T_83423_row137_col3\" class=\"data row137 col3\" >1</td>\n",
       "      <td id=\"T_83423_row137_col4\" class=\"data row137 col4\" >0</td>\n",
       "    </tr>\n",
       "    <tr>\n",
       "      <th id=\"T_83423_level0_row138\" class=\"row_heading level0 row138\" >QAT</th>\n",
       "      <td id=\"T_83423_row138_col0\" class=\"data row138 col0\" >0</td>\n",
       "      <td id=\"T_83423_row138_col1\" class=\"data row138 col1\" >1</td>\n",
       "      <td id=\"T_83423_row138_col2\" class=\"data row138 col2\" >0</td>\n",
       "      <td id=\"T_83423_row138_col3\" class=\"data row138 col3\" >14</td>\n",
       "      <td id=\"T_83423_row138_col4\" class=\"data row138 col4\" >0</td>\n",
       "    </tr>\n",
       "    <tr>\n",
       "      <th id=\"T_83423_level0_row139\" class=\"row_heading level0 row139\" >ROU</th>\n",
       "      <td id=\"T_83423_row139_col0\" class=\"data row139 col0\" >3</td>\n",
       "      <td id=\"T_83423_row139_col1\" class=\"data row139 col1\" >41</td>\n",
       "      <td id=\"T_83423_row139_col2\" class=\"data row139 col2\" >1</td>\n",
       "      <td id=\"T_83423_row139_col3\" class=\"data row139 col3\" >455</td>\n",
       "      <td id=\"T_83423_row139_col4\" class=\"data row139 col4\" >0</td>\n",
       "    </tr>\n",
       "    <tr>\n",
       "      <th id=\"T_83423_level0_row140\" class=\"row_heading level0 row140\" >RUS</th>\n",
       "      <td id=\"T_83423_row140_col0\" class=\"data row140 col0\" >51</td>\n",
       "      <td id=\"T_83423_row140_col1\" class=\"data row140 col1\" >39</td>\n",
       "      <td id=\"T_83423_row140_col2\" class=\"data row140 col2\" >1</td>\n",
       "      <td id=\"T_83423_row140_col3\" class=\"data row140 col3\" >541</td>\n",
       "      <td id=\"T_83423_row140_col4\" class=\"data row140 col4\" >0</td>\n",
       "    </tr>\n",
       "    <tr>\n",
       "      <th id=\"T_83423_level0_row141\" class=\"row_heading level0 row141\" >RWA</th>\n",
       "      <td id=\"T_83423_row141_col0\" class=\"data row141 col0\" >0</td>\n",
       "      <td id=\"T_83423_row141_col1\" class=\"data row141 col1\" >1</td>\n",
       "      <td id=\"T_83423_row141_col2\" class=\"data row141 col2\" >0</td>\n",
       "      <td id=\"T_83423_row141_col3\" class=\"data row141 col3\" >1</td>\n",
       "      <td id=\"T_83423_row141_col4\" class=\"data row141 col4\" >0</td>\n",
       "    </tr>\n",
       "    <tr>\n",
       "      <th id=\"T_83423_level0_row142\" class=\"row_heading level0 row142\" >SAU</th>\n",
       "      <td id=\"T_83423_row142_col0\" class=\"data row142 col0\" >0</td>\n",
       "      <td id=\"T_83423_row142_col1\" class=\"data row142 col1\" >2</td>\n",
       "      <td id=\"T_83423_row142_col2\" class=\"data row142 col2\" >0</td>\n",
       "      <td id=\"T_83423_row142_col3\" class=\"data row142 col3\" >46</td>\n",
       "      <td id=\"T_83423_row142_col4\" class=\"data row142 col4\" >0</td>\n",
       "    </tr>\n",
       "    <tr>\n",
       "      <th id=\"T_83423_level0_row143\" class=\"row_heading level0 row143\" >SDN</th>\n",
       "      <td id=\"T_83423_row143_col0\" class=\"data row143 col0\" >0</td>\n",
       "      <td id=\"T_83423_row143_col1\" class=\"data row143 col1\" >0</td>\n",
       "      <td id=\"T_83423_row143_col2\" class=\"data row143 col2\" >0</td>\n",
       "      <td id=\"T_83423_row143_col3\" class=\"data row143 col3\" >1</td>\n",
       "      <td id=\"T_83423_row143_col4\" class=\"data row143 col4\" >0</td>\n",
       "    </tr>\n",
       "    <tr>\n",
       "      <th id=\"T_83423_level0_row144\" class=\"row_heading level0 row144\" >SEN</th>\n",
       "      <td id=\"T_83423_row144_col0\" class=\"data row144 col0\" >0</td>\n",
       "      <td id=\"T_83423_row144_col1\" class=\"data row144 col1\" >0</td>\n",
       "      <td id=\"T_83423_row144_col2\" class=\"data row144 col2\" >0</td>\n",
       "      <td id=\"T_83423_row144_col3\" class=\"data row144 col3\" >11</td>\n",
       "      <td id=\"T_83423_row144_col4\" class=\"data row144 col4\" >0</td>\n",
       "    </tr>\n",
       "    <tr>\n",
       "      <th id=\"T_83423_level0_row145\" class=\"row_heading level0 row145\" >SGP</th>\n",
       "      <td id=\"T_83423_row145_col0\" class=\"data row145 col0\" >0</td>\n",
       "      <td id=\"T_83423_row145_col1\" class=\"data row145 col1\" >11</td>\n",
       "      <td id=\"T_83423_row145_col2\" class=\"data row145 col2\" >0</td>\n",
       "      <td id=\"T_83423_row145_col3\" class=\"data row145 col3\" >28</td>\n",
       "      <td id=\"T_83423_row145_col4\" class=\"data row145 col4\" >0</td>\n",
       "    </tr>\n",
       "    <tr>\n",
       "      <th id=\"T_83423_level0_row146\" class=\"row_heading level0 row146\" >SLE</th>\n",
       "      <td id=\"T_83423_row146_col0\" class=\"data row146 col0\" >0</td>\n",
       "      <td id=\"T_83423_row146_col1\" class=\"data row146 col1\" >0</td>\n",
       "      <td id=\"T_83423_row146_col2\" class=\"data row146 col2\" >0</td>\n",
       "      <td id=\"T_83423_row146_col3\" class=\"data row146 col3\" >1</td>\n",
       "      <td id=\"T_83423_row146_col4\" class=\"data row146 col4\" >0</td>\n",
       "    </tr>\n",
       "    <tr>\n",
       "      <th id=\"T_83423_level0_row147\" class=\"row_heading level0 row147\" >SLV</th>\n",
       "      <td id=\"T_83423_row147_col0\" class=\"data row147 col0\" >0</td>\n",
       "      <td id=\"T_83423_row147_col1\" class=\"data row147 col1\" >0</td>\n",
       "      <td id=\"T_83423_row147_col2\" class=\"data row147 col2\" >0</td>\n",
       "      <td id=\"T_83423_row147_col3\" class=\"data row147 col3\" >2</td>\n",
       "      <td id=\"T_83423_row147_col4\" class=\"data row147 col4\" >0</td>\n",
       "    </tr>\n",
       "    <tr>\n",
       "      <th id=\"T_83423_level0_row148\" class=\"row_heading level0 row148\" >SMR</th>\n",
       "      <td id=\"T_83423_row148_col0\" class=\"data row148 col0\" >0</td>\n",
       "      <td id=\"T_83423_row148_col1\" class=\"data row148 col1\" >1</td>\n",
       "      <td id=\"T_83423_row148_col2\" class=\"data row148 col2\" >0</td>\n",
       "      <td id=\"T_83423_row148_col3\" class=\"data row148 col3\" >0</td>\n",
       "      <td id=\"T_83423_row148_col4\" class=\"data row148 col4\" >0</td>\n",
       "    </tr>\n",
       "    <tr>\n",
       "      <th id=\"T_83423_level0_row149\" class=\"row_heading level0 row149\" >SRB</th>\n",
       "      <td id=\"T_83423_row149_col0\" class=\"data row149 col0\" >1</td>\n",
       "      <td id=\"T_83423_row149_col1\" class=\"data row149 col1\" >2</td>\n",
       "      <td id=\"T_83423_row149_col2\" class=\"data row149 col2\" >0</td>\n",
       "      <td id=\"T_83423_row149_col3\" class=\"data row149 col3\" >98</td>\n",
       "      <td id=\"T_83423_row149_col4\" class=\"data row149 col4\" >0</td>\n",
       "    </tr>\n",
       "    <tr>\n",
       "      <th id=\"T_83423_level0_row150\" class=\"row_heading level0 row150\" >STP</th>\n",
       "      <td id=\"T_83423_row150_col0\" class=\"data row150 col0\" >0</td>\n",
       "      <td id=\"T_83423_row150_col1\" class=\"data row150 col1\" >2</td>\n",
       "      <td id=\"T_83423_row150_col2\" class=\"data row150 col2\" >0</td>\n",
       "      <td id=\"T_83423_row150_col3\" class=\"data row150 col3\" >0</td>\n",
       "      <td id=\"T_83423_row150_col4\" class=\"data row150 col4\" >0</td>\n",
       "    </tr>\n",
       "    <tr>\n",
       "      <th id=\"T_83423_level0_row151\" class=\"row_heading level0 row151\" >SUR</th>\n",
       "      <td id=\"T_83423_row151_col0\" class=\"data row151 col0\" >1</td>\n",
       "      <td id=\"T_83423_row151_col1\" class=\"data row151 col1\" >0</td>\n",
       "      <td id=\"T_83423_row151_col2\" class=\"data row151 col2\" >0</td>\n",
       "      <td id=\"T_83423_row151_col3\" class=\"data row151 col3\" >4</td>\n",
       "      <td id=\"T_83423_row151_col4\" class=\"data row151 col4\" >0</td>\n",
       "    </tr>\n",
       "    <tr>\n",
       "      <th id=\"T_83423_level0_row152\" class=\"row_heading level0 row152\" >SVK</th>\n",
       "      <td id=\"T_83423_row152_col0\" class=\"data row152 col0\" >2</td>\n",
       "      <td id=\"T_83423_row152_col1\" class=\"data row152 col1\" >6</td>\n",
       "      <td id=\"T_83423_row152_col2\" class=\"data row152 col2\" >0</td>\n",
       "      <td id=\"T_83423_row152_col3\" class=\"data row152 col3\" >57</td>\n",
       "      <td id=\"T_83423_row152_col4\" class=\"data row152 col4\" >0</td>\n",
       "    </tr>\n",
       "    <tr>\n",
       "      <th id=\"T_83423_level0_row153\" class=\"row_heading level0 row153\" >SVN</th>\n",
       "      <td id=\"T_83423_row153_col0\" class=\"data row153 col0\" >7</td>\n",
       "      <td id=\"T_83423_row153_col1\" class=\"data row153 col1\" >5</td>\n",
       "      <td id=\"T_83423_row153_col2\" class=\"data row153 col2\" >0</td>\n",
       "      <td id=\"T_83423_row153_col3\" class=\"data row153 col3\" >45</td>\n",
       "      <td id=\"T_83423_row153_col4\" class=\"data row153 col4\" >0</td>\n",
       "    </tr>\n",
       "    <tr>\n",
       "      <th id=\"T_83423_level0_row154\" class=\"row_heading level0 row154\" >SWE</th>\n",
       "      <td id=\"T_83423_row154_col0\" class=\"data row154 col0\" >53</td>\n",
       "      <td id=\"T_83423_row154_col1\" class=\"data row154 col1\" >72</td>\n",
       "      <td id=\"T_83423_row154_col2\" class=\"data row154 col2\" >1</td>\n",
       "      <td id=\"T_83423_row154_col3\" class=\"data row154 col3\" >898</td>\n",
       "      <td id=\"T_83423_row154_col4\" class=\"data row154 col4\" >0</td>\n",
       "    </tr>\n",
       "    <tr>\n",
       "      <th id=\"T_83423_level0_row155\" class=\"row_heading level0 row155\" >SYC</th>\n",
       "      <td id=\"T_83423_row155_col0\" class=\"data row155 col0\" >0</td>\n",
       "      <td id=\"T_83423_row155_col1\" class=\"data row155 col1\" >0</td>\n",
       "      <td id=\"T_83423_row155_col2\" class=\"data row155 col2\" >0</td>\n",
       "      <td id=\"T_83423_row155_col3\" class=\"data row155 col3\" >2</td>\n",
       "      <td id=\"T_83423_row155_col4\" class=\"data row155 col4\" >0</td>\n",
       "    </tr>\n",
       "    <tr>\n",
       "      <th id=\"T_83423_level0_row156\" class=\"row_heading level0 row156\" >SYR</th>\n",
       "      <td id=\"T_83423_row156_col0\" class=\"data row156 col0\" >0</td>\n",
       "      <td id=\"T_83423_row156_col1\" class=\"data row156 col1\" >1</td>\n",
       "      <td id=\"T_83423_row156_col2\" class=\"data row156 col2\" >0</td>\n",
       "      <td id=\"T_83423_row156_col3\" class=\"data row156 col3\" >2</td>\n",
       "      <td id=\"T_83423_row156_col4\" class=\"data row156 col4\" >0</td>\n",
       "    </tr>\n",
       "    <tr>\n",
       "      <th id=\"T_83423_level0_row157\" class=\"row_heading level0 row157\" >TGO</th>\n",
       "      <td id=\"T_83423_row157_col0\" class=\"data row157 col0\" >0</td>\n",
       "      <td id=\"T_83423_row157_col1\" class=\"data row157 col1\" >0</td>\n",
       "      <td id=\"T_83423_row157_col2\" class=\"data row157 col2\" >0</td>\n",
       "      <td id=\"T_83423_row157_col3\" class=\"data row157 col3\" >2</td>\n",
       "      <td id=\"T_83423_row157_col4\" class=\"data row157 col4\" >0</td>\n",
       "    </tr>\n",
       "    <tr>\n",
       "      <th id=\"T_83423_level0_row158\" class=\"row_heading level0 row158\" >THA</th>\n",
       "      <td id=\"T_83423_row158_col0\" class=\"data row158 col0\" >0</td>\n",
       "      <td id=\"T_83423_row158_col1\" class=\"data row158 col1\" >4</td>\n",
       "      <td id=\"T_83423_row158_col2\" class=\"data row158 col2\" >0</td>\n",
       "      <td id=\"T_83423_row158_col3\" class=\"data row158 col3\" >55</td>\n",
       "      <td id=\"T_83423_row158_col4\" class=\"data row158 col4\" >0</td>\n",
       "    </tr>\n",
       "    <tr>\n",
       "      <th id=\"T_83423_level0_row159\" class=\"row_heading level0 row159\" >TJK</th>\n",
       "      <td id=\"T_83423_row159_col0\" class=\"data row159 col0\" >0</td>\n",
       "      <td id=\"T_83423_row159_col1\" class=\"data row159 col1\" >0</td>\n",
       "      <td id=\"T_83423_row159_col2\" class=\"data row159 col2\" >0</td>\n",
       "      <td id=\"T_83423_row159_col3\" class=\"data row159 col3\" >9</td>\n",
       "      <td id=\"T_83423_row159_col4\" class=\"data row159 col4\" >0</td>\n",
       "    </tr>\n",
       "    <tr>\n",
       "      <th id=\"T_83423_level0_row160\" class=\"row_heading level0 row160\" >TMP</th>\n",
       "      <td id=\"T_83423_row160_col0\" class=\"data row160 col0\" >0</td>\n",
       "      <td id=\"T_83423_row160_col1\" class=\"data row160 col1\" >0</td>\n",
       "      <td id=\"T_83423_row160_col2\" class=\"data row160 col2\" >0</td>\n",
       "      <td id=\"T_83423_row160_col3\" class=\"data row160 col3\" >3</td>\n",
       "      <td id=\"T_83423_row160_col4\" class=\"data row160 col4\" >0</td>\n",
       "    </tr>\n",
       "    <tr>\n",
       "      <th id=\"T_83423_level0_row161\" class=\"row_heading level0 row161\" >TUN</th>\n",
       "      <td id=\"T_83423_row161_col0\" class=\"data row161 col0\" >1</td>\n",
       "      <td id=\"T_83423_row161_col1\" class=\"data row161 col1\" >5</td>\n",
       "      <td id=\"T_83423_row161_col2\" class=\"data row161 col2\" >0</td>\n",
       "      <td id=\"T_83423_row161_col3\" class=\"data row161 col3\" >33</td>\n",
       "      <td id=\"T_83423_row161_col4\" class=\"data row161 col4\" >0</td>\n",
       "    </tr>\n",
       "    <tr>\n",
       "      <th id=\"T_83423_level0_row162\" class=\"row_heading level0 row162\" >TUR</th>\n",
       "      <td id=\"T_83423_row162_col0\" class=\"data row162 col0\" >13</td>\n",
       "      <td id=\"T_83423_row162_col1\" class=\"data row162 col1\" >16</td>\n",
       "      <td id=\"T_83423_row162_col2\" class=\"data row162 col2\" >2</td>\n",
       "      <td id=\"T_83423_row162_col3\" class=\"data row162 col3\" >217</td>\n",
       "      <td id=\"T_83423_row162_col4\" class=\"data row162 col4\" >0</td>\n",
       "    </tr>\n",
       "    <tr>\n",
       "      <th id=\"T_83423_level0_row163\" class=\"row_heading level0 row163\" >TWN</th>\n",
       "      <td id=\"T_83423_row163_col0\" class=\"data row163 col0\" >1</td>\n",
       "      <td id=\"T_83423_row163_col1\" class=\"data row163 col1\" >4</td>\n",
       "      <td id=\"T_83423_row163_col2\" class=\"data row163 col2\" >0</td>\n",
       "      <td id=\"T_83423_row163_col3\" class=\"data row163 col3\" >46</td>\n",
       "      <td id=\"T_83423_row163_col4\" class=\"data row163 col4\" >0</td>\n",
       "    </tr>\n",
       "    <tr>\n",
       "      <th id=\"T_83423_level0_row164\" class=\"row_heading level0 row164\" >TZA</th>\n",
       "      <td id=\"T_83423_row164_col0\" class=\"data row164 col0\" >0</td>\n",
       "      <td id=\"T_83423_row164_col1\" class=\"data row164 col1\" >0</td>\n",
       "      <td id=\"T_83423_row164_col2\" class=\"data row164 col2\" >0</td>\n",
       "      <td id=\"T_83423_row164_col3\" class=\"data row164 col3\" >5</td>\n",
       "      <td id=\"T_83423_row164_col4\" class=\"data row164 col4\" >0</td>\n",
       "    </tr>\n",
       "    <tr>\n",
       "      <th id=\"T_83423_level0_row165\" class=\"row_heading level0 row165\" >UGA</th>\n",
       "      <td id=\"T_83423_row165_col0\" class=\"data row165 col0\" >0</td>\n",
       "      <td id=\"T_83423_row165_col1\" class=\"data row165 col1\" >0</td>\n",
       "      <td id=\"T_83423_row165_col2\" class=\"data row165 col2\" >0</td>\n",
       "      <td id=\"T_83423_row165_col3\" class=\"data row165 col3\" >2</td>\n",
       "      <td id=\"T_83423_row165_col4\" class=\"data row165 col4\" >0</td>\n",
       "    </tr>\n",
       "    <tr>\n",
       "      <th id=\"T_83423_level0_row166\" class=\"row_heading level0 row166\" >UKR</th>\n",
       "      <td id=\"T_83423_row166_col0\" class=\"data row166 col0\" >0</td>\n",
       "      <td id=\"T_83423_row166_col1\" class=\"data row166 col1\" >4</td>\n",
       "      <td id=\"T_83423_row166_col2\" class=\"data row166 col2\" >1</td>\n",
       "      <td id=\"T_83423_row166_col3\" class=\"data row166 col3\" >63</td>\n",
       "      <td id=\"T_83423_row166_col4\" class=\"data row166 col4\" >0</td>\n",
       "    </tr>\n",
       "    <tr>\n",
       "      <th id=\"T_83423_level0_row167\" class=\"row_heading level0 row167\" >UMI</th>\n",
       "      <td id=\"T_83423_row167_col0\" class=\"data row167 col0\" >0</td>\n",
       "      <td id=\"T_83423_row167_col1\" class=\"data row167 col1\" >0</td>\n",
       "      <td id=\"T_83423_row167_col2\" class=\"data row167 col2\" >0</td>\n",
       "      <td id=\"T_83423_row167_col3\" class=\"data row167 col3\" >1</td>\n",
       "      <td id=\"T_83423_row167_col4\" class=\"data row167 col4\" >0</td>\n",
       "    </tr>\n",
       "    <tr>\n",
       "      <th id=\"T_83423_level0_row168\" class=\"row_heading level0 row168\" >URY</th>\n",
       "      <td id=\"T_83423_row168_col0\" class=\"data row168 col0\" >4</td>\n",
       "      <td id=\"T_83423_row168_col1\" class=\"data row168 col1\" >3</td>\n",
       "      <td id=\"T_83423_row168_col2\" class=\"data row168 col2\" >0</td>\n",
       "      <td id=\"T_83423_row168_col3\" class=\"data row168 col3\" >25</td>\n",
       "      <td id=\"T_83423_row168_col4\" class=\"data row168 col4\" >0</td>\n",
       "    </tr>\n",
       "    <tr>\n",
       "      <th id=\"T_83423_level0_row169\" class=\"row_heading level0 row169\" >USA</th>\n",
       "      <td id=\"T_83423_row169_col0\" class=\"data row169 col0\" >35</td>\n",
       "      <td id=\"T_83423_row169_col1\" class=\"data row169 col1\" >351</td>\n",
       "      <td id=\"T_83423_row169_col2\" class=\"data row169 col2\" >22</td>\n",
       "      <td id=\"T_83423_row169_col3\" class=\"data row169 col3\" >1689</td>\n",
       "      <td id=\"T_83423_row169_col4\" class=\"data row169 col4\" >0</td>\n",
       "    </tr>\n",
       "    <tr>\n",
       "      <th id=\"T_83423_level0_row170\" class=\"row_heading level0 row170\" >UZB</th>\n",
       "      <td id=\"T_83423_row170_col0\" class=\"data row170 col0\" >0</td>\n",
       "      <td id=\"T_83423_row170_col1\" class=\"data row170 col1\" >1</td>\n",
       "      <td id=\"T_83423_row170_col2\" class=\"data row170 col2\" >0</td>\n",
       "      <td id=\"T_83423_row170_col3\" class=\"data row170 col3\" >3</td>\n",
       "      <td id=\"T_83423_row170_col4\" class=\"data row170 col4\" >0</td>\n",
       "    </tr>\n",
       "    <tr>\n",
       "      <th id=\"T_83423_level0_row171\" class=\"row_heading level0 row171\" >VEN</th>\n",
       "      <td id=\"T_83423_row171_col0\" class=\"data row171 col0\" >2</td>\n",
       "      <td id=\"T_83423_row171_col1\" class=\"data row171 col1\" >1</td>\n",
       "      <td id=\"T_83423_row171_col2\" class=\"data row171 col2\" >0</td>\n",
       "      <td id=\"T_83423_row171_col3\" class=\"data row171 col3\" >23</td>\n",
       "      <td id=\"T_83423_row171_col4\" class=\"data row171 col4\" >0</td>\n",
       "    </tr>\n",
       "    <tr>\n",
       "      <th id=\"T_83423_level0_row172\" class=\"row_heading level0 row172\" >VGB</th>\n",
       "      <td id=\"T_83423_row172_col0\" class=\"data row172 col0\" >0</td>\n",
       "      <td id=\"T_83423_row172_col1\" class=\"data row172 col1\" >0</td>\n",
       "      <td id=\"T_83423_row172_col2\" class=\"data row172 col2\" >0</td>\n",
       "      <td id=\"T_83423_row172_col3\" class=\"data row172 col3\" >1</td>\n",
       "      <td id=\"T_83423_row172_col4\" class=\"data row172 col4\" >0</td>\n",
       "    </tr>\n",
       "    <tr>\n",
       "      <th id=\"T_83423_level0_row173\" class=\"row_heading level0 row173\" >VNM</th>\n",
       "      <td id=\"T_83423_row173_col0\" class=\"data row173 col0\" >0</td>\n",
       "      <td id=\"T_83423_row173_col1\" class=\"data row173 col1\" >0</td>\n",
       "      <td id=\"T_83423_row173_col2\" class=\"data row173 col2\" >0</td>\n",
       "      <td id=\"T_83423_row173_col3\" class=\"data row173 col3\" >8</td>\n",
       "      <td id=\"T_83423_row173_col4\" class=\"data row173 col4\" >0</td>\n",
       "    </tr>\n",
       "    <tr>\n",
       "      <th id=\"T_83423_level0_row174\" class=\"row_heading level0 row174\" >ZAF</th>\n",
       "      <td id=\"T_83423_row174_col0\" class=\"data row174 col0\" >0</td>\n",
       "      <td id=\"T_83423_row174_col1\" class=\"data row174 col1\" >15</td>\n",
       "      <td id=\"T_83423_row174_col2\" class=\"data row174 col2\" >0</td>\n",
       "      <td id=\"T_83423_row174_col3\" class=\"data row174 col3\" >65</td>\n",
       "      <td id=\"T_83423_row174_col4\" class=\"data row174 col4\" >0</td>\n",
       "    </tr>\n",
       "    <tr>\n",
       "      <th id=\"T_83423_level0_row175\" class=\"row_heading level0 row175\" >ZMB</th>\n",
       "      <td id=\"T_83423_row175_col0\" class=\"data row175 col0\" >0</td>\n",
       "      <td id=\"T_83423_row175_col1\" class=\"data row175 col1\" >0</td>\n",
       "      <td id=\"T_83423_row175_col2\" class=\"data row175 col2\" >0</td>\n",
       "      <td id=\"T_83423_row175_col3\" class=\"data row175 col3\" >2</td>\n",
       "      <td id=\"T_83423_row175_col4\" class=\"data row175 col4\" >0</td>\n",
       "    </tr>\n",
       "    <tr>\n",
       "      <th id=\"T_83423_level0_row176\" class=\"row_heading level0 row176\" >ZWE</th>\n",
       "      <td id=\"T_83423_row176_col0\" class=\"data row176 col0\" >0</td>\n",
       "      <td id=\"T_83423_row176_col1\" class=\"data row176 col1\" >2</td>\n",
       "      <td id=\"T_83423_row176_col2\" class=\"data row176 col2\" >0</td>\n",
       "      <td id=\"T_83423_row176_col3\" class=\"data row176 col3\" >2</td>\n",
       "      <td id=\"T_83423_row176_col4\" class=\"data row176 col4\" >0</td>\n",
       "    </tr>\n",
       "  </tbody>\n",
       "</table>\n"
      ],
      "text/plain": [
       "<pandas.io.formats.style.Styler at 0x2414a600190>"
      ]
     },
     "metadata": {},
     "output_type": "display_data"
    },
    {
     "name": "stdout",
     "output_type": "stream",
     "text": [
      "\n",
      "--- Distribution Channel 내 Customer Type 분포 (정규화) ---\n"
     ]
    },
    {
     "data": {
      "text/html": [
       "<style type=\"text/css\">\n",
       "#T_a7a54_row0_col0, #T_a7a54_row0_col1, #T_a7a54_row0_col2, #T_a7a54_row0_col4, #T_a7a54_row1_col0, #T_a7a54_row1_col2, #T_a7a54_row1_col3, #T_a7a54_row1_col4, #T_a7a54_row3_col2 {\n",
       "  background-color: #f7fbff;\n",
       "  color: #000000;\n",
       "}\n",
       "#T_a7a54_row0_col3 {\n",
       "  background-color: #eef5fc;\n",
       "  color: #000000;\n",
       "}\n",
       "#T_a7a54_row1_col1 {\n",
       "  background-color: #f5fafe;\n",
       "  color: #000000;\n",
       "}\n",
       "#T_a7a54_row2_col0, #T_a7a54_row2_col1, #T_a7a54_row2_col2, #T_a7a54_row2_col3, #T_a7a54_row3_col4 {\n",
       "  background-color: #08306b;\n",
       "  color: #f1f1f1;\n",
       "}\n",
       "#T_a7a54_row2_col4 {\n",
       "  background-color: #c6dbef;\n",
       "  color: #000000;\n",
       "}\n",
       "#T_a7a54_row3_col0 {\n",
       "  background-color: #4e9acb;\n",
       "  color: #f1f1f1;\n",
       "}\n",
       "#T_a7a54_row3_col1 {\n",
       "  background-color: #d5e5f4;\n",
       "  color: #000000;\n",
       "}\n",
       "#T_a7a54_row3_col3 {\n",
       "  background-color: #bed8ec;\n",
       "  color: #000000;\n",
       "}\n",
       "</style>\n",
       "<table id=\"T_a7a54\">\n",
       "  <thead>\n",
       "    <tr>\n",
       "      <th class=\"index_name level0\" >distribution_channel</th>\n",
       "      <th id=\"T_a7a54_level0_col0\" class=\"col_heading level0 col0\" >Corporate</th>\n",
       "      <th id=\"T_a7a54_level0_col1\" class=\"col_heading level0 col1\" >Direct</th>\n",
       "      <th id=\"T_a7a54_level0_col2\" class=\"col_heading level0 col2\" >GDS</th>\n",
       "      <th id=\"T_a7a54_level0_col3\" class=\"col_heading level0 col3\" >TA/TO</th>\n",
       "      <th id=\"T_a7a54_level0_col4\" class=\"col_heading level0 col4\" >Undefined</th>\n",
       "    </tr>\n",
       "    <tr>\n",
       "      <th class=\"index_name level0\" >customer_type</th>\n",
       "      <th class=\"blank col0\" >&nbsp;</th>\n",
       "      <th class=\"blank col1\" >&nbsp;</th>\n",
       "      <th class=\"blank col2\" >&nbsp;</th>\n",
       "      <th class=\"blank col3\" >&nbsp;</th>\n",
       "      <th class=\"blank col4\" >&nbsp;</th>\n",
       "    </tr>\n",
       "  </thead>\n",
       "  <tbody>\n",
       "    <tr>\n",
       "      <th id=\"T_a7a54_level0_row0\" class=\"row_heading level0 row0\" >Contract</th>\n",
       "      <td id=\"T_a7a54_row0_col0\" class=\"data row0 col0\" >0.004044</td>\n",
       "      <td id=\"T_a7a54_row0_col1\" class=\"data row0 col1\" >0.001297</td>\n",
       "      <td id=\"T_a7a54_row0_col2\" class=\"data row0 col2\" >0.000000</td>\n",
       "      <td id=\"T_a7a54_row0_col3\" class=\"data row0 col3\" >0.041177</td>\n",
       "      <td id=\"T_a7a54_row0_col4\" class=\"data row0 col4\" >0.000000</td>\n",
       "    </tr>\n",
       "    <tr>\n",
       "      <th id=\"T_a7a54_level0_row1\" class=\"row_heading level0 row1\" >Group</th>\n",
       "      <td id=\"T_a7a54_row1_col0\" class=\"data row1 col0\" >0.004643</td>\n",
       "      <td id=\"T_a7a54_row1_col1\" class=\"data row1 col1\" >0.007921</td>\n",
       "      <td id=\"T_a7a54_row1_col2\" class=\"data row1 col2\" >0.000000</td>\n",
       "      <td id=\"T_a7a54_row1_col3\" class=\"data row1 col3\" >0.004394</td>\n",
       "      <td id=\"T_a7a54_row1_col4\" class=\"data row1 col4\" >0.000000</td>\n",
       "    </tr>\n",
       "    <tr>\n",
       "      <th id=\"T_a7a54_level0_row2\" class=\"row_heading level0 row2\" >Transient</th>\n",
       "      <td id=\"T_a7a54_row2_col0\" class=\"data row2 col0\" >0.622585</td>\n",
       "      <td id=\"T_a7a54_row2_col1\" class=\"data row2 col1\" >0.842813</td>\n",
       "      <td id=\"T_a7a54_row2_col2\" class=\"data row2 col2\" >1.000000</td>\n",
       "      <td id=\"T_a7a54_row2_col3\" class=\"data row2 col3\" >0.745060</td>\n",
       "      <td id=\"T_a7a54_row2_col4\" class=\"data row2 col4\" >0.200000</td>\n",
       "    </tr>\n",
       "    <tr>\n",
       "      <th id=\"T_a7a54_level0_row3\" class=\"row_heading level0 row3\" >Transient-Party</th>\n",
       "      <td id=\"T_a7a54_row3_col0\" class=\"data row3 col0\" >0.368728</td>\n",
       "      <td id=\"T_a7a54_row3_col1\" class=\"data row3 col1\" >0.147969</td>\n",
       "      <td id=\"T_a7a54_row3_col2\" class=\"data row3 col2\" >0.000000</td>\n",
       "      <td id=\"T_a7a54_row3_col3\" class=\"data row3 col3\" >0.209370</td>\n",
       "      <td id=\"T_a7a54_row3_col4\" class=\"data row3 col4\" >0.800000</td>\n",
       "    </tr>\n",
       "  </tbody>\n",
       "</table>\n"
      ],
      "text/plain": [
       "<pandas.io.formats.style.Styler at 0x2414a600190>"
      ]
     },
     "metadata": {},
     "output_type": "display_data"
    }
   ],
   "source": [
    "# Analyze the relationship between 'distribution_channel' and other categorical variables\n",
    "categorical_cols = ['customer_type', 'reserved_room_type', 'assigned_room_type', 'deposit_type', 'meal', 'country']\n",
    "\n",
    "print(\"Distribution Channel과 다른 범주형 변수 간의 관계:\")\n",
    "\n",
    "for col in categorical_cols:\n",
    "    if col in df.columns:\n",
    "        print(f\"\\n--- Distribution Channel vs {col} ---\")\n",
    "        crosstab_result = pd.crosstab(df['distribution_channel'], df[col])\n",
    "        display(crosstab_result.T.style.background_gradient(cmap='Blues'))\n",
    "\n",
    "# Analyze the relationship between 'customer_type' and 'distribution_channel' with normalization\n",
    "print(\"\\n--- Distribution Channel 내 Customer Type 분포 (정규화) ---\")\n",
    "crosstab_normalized = pd.crosstab(df['distribution_channel'], df['customer_type'], normalize='index')\n",
    "display(crosstab_normalized.T.style.background_gradient(cmap='Blues'))\n"
   ]
  },
  {
   "cell_type": "code",
   "execution_count": null,
   "id": "7977ca20",
   "metadata": {},
   "outputs": [
    {
     "name": "stdout",
     "output_type": "stream",
     "text": [
      "\n",
      "Distribution Channel별 반복 투숙객 비율:\n"
     ]
    },
    {
     "data": {
      "text/plain": [
       "distribution_channel\n",
       "Corporate    0.235435\n",
       "Direct       0.063981\n",
       "GDS          0.015544\n",
       "TA/TO        0.013262\n",
       "Undefined    0.000000\n",
       "Name: is_repeated_guest, dtype: float64"
      ]
     },
     "metadata": {},
     "output_type": "display_data"
    },
    {
     "name": "stdout",
     "output_type": "stream",
     "text": [
      "\n",
      "전체 평균 반복 투숙객 비율: 3.19%\n"
     ]
    },
    {
     "data": {
      "application/vnd.plotly.v1+json": {
       "config": {
        "plotlyServerURL": "https://plot.ly"
       },
       "data": [
        {
         "hovertemplate": "color=Corporate<br>Distribution Channel=%{x}<br>반복 투숙객 비율=%{y}<br>text=%{text}<extra></extra>",
         "legendgroup": "Corporate",
         "marker": {
          "color": "#636EFA",
          "pattern": {
           "shape": ""
          }
         },
         "name": "Corporate",
         "orientation": "v",
         "showlegend": true,
         "text": [
          "23.54%"
         ],
         "textposition": "outside",
         "type": "bar",
         "x": [
          "Corporate"
         ],
         "xaxis": "x",
         "y": {
          "bdata": "oEYWj7wizj8=",
          "dtype": "f8"
         },
         "yaxis": "y"
        },
        {
         "hovertemplate": "color=Direct<br>Distribution Channel=%{x}<br>반복 투숙객 비율=%{y}<br>text=%{text}<extra></extra>",
         "legendgroup": "Direct",
         "marker": {
          "color": "#EF553B",
          "pattern": {
           "shape": ""
          }
         },
         "name": "Direct",
         "orientation": "v",
         "showlegend": true,
         "text": [
          "6.40%"
         ],
         "textposition": "outside",
         "type": "bar",
         "x": [
          "Direct"
         ],
         "xaxis": "x",
         "y": {
          "bdata": "pk3ODg1hsD8=",
          "dtype": "f8"
         },
         "yaxis": "y"
        },
        {
         "hovertemplate": "color=GDS<br>Distribution Channel=%{x}<br>반복 투숙객 비율=%{y}<br>text=%{text}<extra></extra>",
         "legendgroup": "GDS",
         "marker": {
          "color": "#00CC96",
          "pattern": {
           "shape": ""
          }
         },
         "name": "GDS",
         "orientation": "v",
         "showlegend": true,
         "text": [
          "1.55%"
         ],
         "textposition": "outside",
         "type": "bar",
         "x": [
          "GDS"
         ],
         "xaxis": "x",
         "y": {
          "bdata": "4Bdu7Y3Vjz8=",
          "dtype": "f8"
         },
         "yaxis": "y"
        },
        {
         "hovertemplate": "color=TA/TO<br>Distribution Channel=%{x}<br>반복 투숙객 비율=%{y}<br>text=%{text}<extra></extra>",
         "legendgroup": "TA/TO",
         "marker": {
          "color": "#AB63FA",
          "pattern": {
           "shape": ""
          }
         },
         "name": "TA/TO",
         "orientation": "v",
         "showlegend": true,
         "text": [
          "1.33%"
         ],
         "textposition": "outside",
         "type": "bar",
         "x": [
          "TA/TO"
         ],
         "xaxis": "x",
         "y": {
          "bdata": "VCvqal0piz8=",
          "dtype": "f8"
         },
         "yaxis": "y"
        },
        {
         "hovertemplate": "color=Undefined<br>Distribution Channel=%{x}<br>반복 투숙객 비율=%{y}<br>text=%{text}<extra></extra>",
         "legendgroup": "Undefined",
         "marker": {
          "color": "#FFA15A",
          "pattern": {
           "shape": ""
          }
         },
         "name": "Undefined",
         "orientation": "v",
         "showlegend": true,
         "text": [
          "0.00%"
         ],
         "textposition": "outside",
         "type": "bar",
         "x": [
          "Undefined"
         ],
         "xaxis": "x",
         "y": {
          "bdata": "AAAAAAAAAAA=",
          "dtype": "f8"
         },
         "yaxis": "y"
        }
       ],
       "layout": {
        "annotations": [
         {
          "showarrow": false,
          "text": "전체 평균: 3.19%",
          "x": 1,
          "xanchor": "right",
          "xref": "x domain",
          "y": 0.03191222045397437,
          "yanchor": "top",
          "yref": "y"
         }
        ],
        "barmode": "relative",
        "legend": {
         "title": {
          "text": "color"
         },
         "tracegroupgap": 0
        },
        "shapes": [
         {
          "line": {
           "color": "red",
           "dash": "dash"
          },
          "type": "line",
          "x0": 0,
          "x1": 1,
          "xref": "x domain",
          "y0": 0.03191222045397437,
          "y1": 0.03191222045397437,
          "yref": "y"
         }
        ],
        "template": {
         "data": {
          "bar": [
           {
            "error_x": {
             "color": "#2a3f5f"
            },
            "error_y": {
             "color": "#2a3f5f"
            },
            "marker": {
             "line": {
              "color": "#E5ECF6",
              "width": 0.5
             },
             "pattern": {
              "fillmode": "overlay",
              "size": 10,
              "solidity": 0.2
             }
            },
            "type": "bar"
           }
          ],
          "barpolar": [
           {
            "marker": {
             "line": {
              "color": "#E5ECF6",
              "width": 0.5
             },
             "pattern": {
              "fillmode": "overlay",
              "size": 10,
              "solidity": 0.2
             }
            },
            "type": "barpolar"
           }
          ],
          "carpet": [
           {
            "aaxis": {
             "endlinecolor": "#2a3f5f",
             "gridcolor": "white",
             "linecolor": "white",
             "minorgridcolor": "white",
             "startlinecolor": "#2a3f5f"
            },
            "baxis": {
             "endlinecolor": "#2a3f5f",
             "gridcolor": "white",
             "linecolor": "white",
             "minorgridcolor": "white",
             "startlinecolor": "#2a3f5f"
            },
            "type": "carpet"
           }
          ],
          "choropleth": [
           {
            "colorbar": {
             "outlinewidth": 0,
             "ticks": ""
            },
            "type": "choropleth"
           }
          ],
          "contour": [
           {
            "colorbar": {
             "outlinewidth": 0,
             "ticks": ""
            },
            "colorscale": [
             [
              0,
              "#0d0887"
             ],
             [
              0.1111111111111111,
              "#46039f"
             ],
             [
              0.2222222222222222,
              "#7201a8"
             ],
             [
              0.3333333333333333,
              "#9c179e"
             ],
             [
              0.4444444444444444,
              "#bd3786"
             ],
             [
              0.5555555555555556,
              "#d8576b"
             ],
             [
              0.6666666666666666,
              "#ed7953"
             ],
             [
              0.7777777777777778,
              "#fb9f3a"
             ],
             [
              0.8888888888888888,
              "#fdca26"
             ],
             [
              1,
              "#f0f921"
             ]
            ],
            "type": "contour"
           }
          ],
          "contourcarpet": [
           {
            "colorbar": {
             "outlinewidth": 0,
             "ticks": ""
            },
            "type": "contourcarpet"
           }
          ],
          "heatmap": [
           {
            "colorbar": {
             "outlinewidth": 0,
             "ticks": ""
            },
            "colorscale": [
             [
              0,
              "#0d0887"
             ],
             [
              0.1111111111111111,
              "#46039f"
             ],
             [
              0.2222222222222222,
              "#7201a8"
             ],
             [
              0.3333333333333333,
              "#9c179e"
             ],
             [
              0.4444444444444444,
              "#bd3786"
             ],
             [
              0.5555555555555556,
              "#d8576b"
             ],
             [
              0.6666666666666666,
              "#ed7953"
             ],
             [
              0.7777777777777778,
              "#fb9f3a"
             ],
             [
              0.8888888888888888,
              "#fdca26"
             ],
             [
              1,
              "#f0f921"
             ]
            ],
            "type": "heatmap"
           }
          ],
          "histogram": [
           {
            "marker": {
             "pattern": {
              "fillmode": "overlay",
              "size": 10,
              "solidity": 0.2
             }
            },
            "type": "histogram"
           }
          ],
          "histogram2d": [
           {
            "colorbar": {
             "outlinewidth": 0,
             "ticks": ""
            },
            "colorscale": [
             [
              0,
              "#0d0887"
             ],
             [
              0.1111111111111111,
              "#46039f"
             ],
             [
              0.2222222222222222,
              "#7201a8"
             ],
             [
              0.3333333333333333,
              "#9c179e"
             ],
             [
              0.4444444444444444,
              "#bd3786"
             ],
             [
              0.5555555555555556,
              "#d8576b"
             ],
             [
              0.6666666666666666,
              "#ed7953"
             ],
             [
              0.7777777777777778,
              "#fb9f3a"
             ],
             [
              0.8888888888888888,
              "#fdca26"
             ],
             [
              1,
              "#f0f921"
             ]
            ],
            "type": "histogram2d"
           }
          ],
          "histogram2dcontour": [
           {
            "colorbar": {
             "outlinewidth": 0,
             "ticks": ""
            },
            "colorscale": [
             [
              0,
              "#0d0887"
             ],
             [
              0.1111111111111111,
              "#46039f"
             ],
             [
              0.2222222222222222,
              "#7201a8"
             ],
             [
              0.3333333333333333,
              "#9c179e"
             ],
             [
              0.4444444444444444,
              "#bd3786"
             ],
             [
              0.5555555555555556,
              "#d8576b"
             ],
             [
              0.6666666666666666,
              "#ed7953"
             ],
             [
              0.7777777777777778,
              "#fb9f3a"
             ],
             [
              0.8888888888888888,
              "#fdca26"
             ],
             [
              1,
              "#f0f921"
             ]
            ],
            "type": "histogram2dcontour"
           }
          ],
          "mesh3d": [
           {
            "colorbar": {
             "outlinewidth": 0,
             "ticks": ""
            },
            "type": "mesh3d"
           }
          ],
          "parcoords": [
           {
            "line": {
             "colorbar": {
              "outlinewidth": 0,
              "ticks": ""
             }
            },
            "type": "parcoords"
           }
          ],
          "pie": [
           {
            "automargin": true,
            "type": "pie"
           }
          ],
          "scatter": [
           {
            "fillpattern": {
             "fillmode": "overlay",
             "size": 10,
             "solidity": 0.2
            },
            "type": "scatter"
           }
          ],
          "scatter3d": [
           {
            "line": {
             "colorbar": {
              "outlinewidth": 0,
              "ticks": ""
             }
            },
            "marker": {
             "colorbar": {
              "outlinewidth": 0,
              "ticks": ""
             }
            },
            "type": "scatter3d"
           }
          ],
          "scattercarpet": [
           {
            "marker": {
             "colorbar": {
              "outlinewidth": 0,
              "ticks": ""
             }
            },
            "type": "scattercarpet"
           }
          ],
          "scattergeo": [
           {
            "marker": {
             "colorbar": {
              "outlinewidth": 0,
              "ticks": ""
             }
            },
            "type": "scattergeo"
           }
          ],
          "scattergl": [
           {
            "marker": {
             "colorbar": {
              "outlinewidth": 0,
              "ticks": ""
             }
            },
            "type": "scattergl"
           }
          ],
          "scattermap": [
           {
            "marker": {
             "colorbar": {
              "outlinewidth": 0,
              "ticks": ""
             }
            },
            "type": "scattermap"
           }
          ],
          "scattermapbox": [
           {
            "marker": {
             "colorbar": {
              "outlinewidth": 0,
              "ticks": ""
             }
            },
            "type": "scattermapbox"
           }
          ],
          "scatterpolar": [
           {
            "marker": {
             "colorbar": {
              "outlinewidth": 0,
              "ticks": ""
             }
            },
            "type": "scatterpolar"
           }
          ],
          "scatterpolargl": [
           {
            "marker": {
             "colorbar": {
              "outlinewidth": 0,
              "ticks": ""
             }
            },
            "type": "scatterpolargl"
           }
          ],
          "scatterternary": [
           {
            "marker": {
             "colorbar": {
              "outlinewidth": 0,
              "ticks": ""
             }
            },
            "type": "scatterternary"
           }
          ],
          "surface": [
           {
            "colorbar": {
             "outlinewidth": 0,
             "ticks": ""
            },
            "colorscale": [
             [
              0,
              "#0d0887"
             ],
             [
              0.1111111111111111,
              "#46039f"
             ],
             [
              0.2222222222222222,
              "#7201a8"
             ],
             [
              0.3333333333333333,
              "#9c179e"
             ],
             [
              0.4444444444444444,
              "#bd3786"
             ],
             [
              0.5555555555555556,
              "#d8576b"
             ],
             [
              0.6666666666666666,
              "#ed7953"
             ],
             [
              0.7777777777777778,
              "#fb9f3a"
             ],
             [
              0.8888888888888888,
              "#fdca26"
             ],
             [
              1,
              "#f0f921"
             ]
            ],
            "type": "surface"
           }
          ],
          "table": [
           {
            "cells": {
             "fill": {
              "color": "#EBF0F8"
             },
             "line": {
              "color": "white"
             }
            },
            "header": {
             "fill": {
              "color": "#C8D4E3"
             },
             "line": {
              "color": "white"
             }
            },
            "type": "table"
           }
          ]
         },
         "layout": {
          "annotationdefaults": {
           "arrowcolor": "#2a3f5f",
           "arrowhead": 0,
           "arrowwidth": 1
          },
          "autotypenumbers": "strict",
          "coloraxis": {
           "colorbar": {
            "outlinewidth": 0,
            "ticks": ""
           }
          },
          "colorscale": {
           "diverging": [
            [
             0,
             "#8e0152"
            ],
            [
             0.1,
             "#c51b7d"
            ],
            [
             0.2,
             "#de77ae"
            ],
            [
             0.3,
             "#f1b6da"
            ],
            [
             0.4,
             "#fde0ef"
            ],
            [
             0.5,
             "#f7f7f7"
            ],
            [
             0.6,
             "#e6f5d0"
            ],
            [
             0.7,
             "#b8e186"
            ],
            [
             0.8,
             "#7fbc41"
            ],
            [
             0.9,
             "#4d9221"
            ],
            [
             1,
             "#276419"
            ]
           ],
           "sequential": [
            [
             0,
             "#0d0887"
            ],
            [
             0.1111111111111111,
             "#46039f"
            ],
            [
             0.2222222222222222,
             "#7201a8"
            ],
            [
             0.3333333333333333,
             "#9c179e"
            ],
            [
             0.4444444444444444,
             "#bd3786"
            ],
            [
             0.5555555555555556,
             "#d8576b"
            ],
            [
             0.6666666666666666,
             "#ed7953"
            ],
            [
             0.7777777777777778,
             "#fb9f3a"
            ],
            [
             0.8888888888888888,
             "#fdca26"
            ],
            [
             1,
             "#f0f921"
            ]
           ],
           "sequentialminus": [
            [
             0,
             "#0d0887"
            ],
            [
             0.1111111111111111,
             "#46039f"
            ],
            [
             0.2222222222222222,
             "#7201a8"
            ],
            [
             0.3333333333333333,
             "#9c179e"
            ],
            [
             0.4444444444444444,
             "#bd3786"
            ],
            [
             0.5555555555555556,
             "#d8576b"
            ],
            [
             0.6666666666666666,
             "#ed7953"
            ],
            [
             0.7777777777777778,
             "#fb9f3a"
            ],
            [
             0.8888888888888888,
             "#fdca26"
            ],
            [
             1,
             "#f0f921"
            ]
           ]
          },
          "colorway": [
           "#636efa",
           "#EF553B",
           "#00cc96",
           "#ab63fa",
           "#FFA15A",
           "#19d3f3",
           "#FF6692",
           "#B6E880",
           "#FF97FF",
           "#FECB52"
          ],
          "font": {
           "color": "#2a3f5f"
          },
          "geo": {
           "bgcolor": "white",
           "lakecolor": "white",
           "landcolor": "#E5ECF6",
           "showlakes": true,
           "showland": true,
           "subunitcolor": "white"
          },
          "hoverlabel": {
           "align": "left"
          },
          "hovermode": "closest",
          "mapbox": {
           "style": "light"
          },
          "paper_bgcolor": "white",
          "plot_bgcolor": "#E5ECF6",
          "polar": {
           "angularaxis": {
            "gridcolor": "white",
            "linecolor": "white",
            "ticks": ""
           },
           "bgcolor": "#E5ECF6",
           "radialaxis": {
            "gridcolor": "white",
            "linecolor": "white",
            "ticks": ""
           }
          },
          "scene": {
           "xaxis": {
            "backgroundcolor": "#E5ECF6",
            "gridcolor": "white",
            "gridwidth": 2,
            "linecolor": "white",
            "showbackground": true,
            "ticks": "",
            "zerolinecolor": "white"
           },
           "yaxis": {
            "backgroundcolor": "#E5ECF6",
            "gridcolor": "white",
            "gridwidth": 2,
            "linecolor": "white",
            "showbackground": true,
            "ticks": "",
            "zerolinecolor": "white"
           },
           "zaxis": {
            "backgroundcolor": "#E5ECF6",
            "gridcolor": "white",
            "gridwidth": 2,
            "linecolor": "white",
            "showbackground": true,
            "ticks": "",
            "zerolinecolor": "white"
           }
          },
          "shapedefaults": {
           "line": {
            "color": "#2a3f5f"
           }
          },
          "ternary": {
           "aaxis": {
            "gridcolor": "white",
            "linecolor": "white",
            "ticks": ""
           },
           "baxis": {
            "gridcolor": "white",
            "linecolor": "white",
            "ticks": ""
           },
           "bgcolor": "#E5ECF6",
           "caxis": {
            "gridcolor": "white",
            "linecolor": "white",
            "ticks": ""
           }
          },
          "title": {
           "x": 0.05
          },
          "xaxis": {
           "automargin": true,
           "gridcolor": "white",
           "linecolor": "white",
           "ticks": "",
           "title": {
            "standoff": 15
           },
           "zerolinecolor": "white",
           "zerolinewidth": 2
          },
          "yaxis": {
           "automargin": true,
           "gridcolor": "white",
           "linecolor": "white",
           "ticks": "",
           "title": {
            "standoff": 15
           },
           "zerolinecolor": "white",
           "zerolinewidth": 2
          }
         }
        },
        "title": {
         "text": "Distribution Channel별 반복 투숙객 비율"
        },
        "xaxis": {
         "anchor": "y",
         "domain": [
          0,
          1
         ],
         "tickangle": -45,
         "title": {
          "text": "Distribution Channel"
         }
        },
        "yaxis": {
         "anchor": "x",
         "domain": [
          0,
          1
         ],
         "title": {
          "text": "반복 투숙객 비율"
         }
        }
       }
      }
     },
     "metadata": {},
     "output_type": "display_data"
    },
    {
     "name": "stdout",
     "output_type": "stream",
     "text": [
      "\n",
      "Distribution Channel별 평균 특별 요청 수:\n"
     ]
    },
    {
     "data": {
      "text/plain": [
       "distribution_channel\n",
       "Undefined    1.400000\n",
       "TA/TO        0.602565\n",
       "Direct       0.534175\n",
       "Corporate    0.205781\n",
       "GDS          0.196891\n",
       "Name: total_of_special_requests, dtype: float64"
      ]
     },
     "metadata": {},
     "output_type": "display_data"
    },
    {
     "name": "stdout",
     "output_type": "stream",
     "text": [
      "\n",
      "전체 평균 특별 요청 수: 0.57\n"
     ]
    },
    {
     "data": {
      "application/vnd.plotly.v1+json": {
       "config": {
        "plotlyServerURL": "https://plot.ly"
       },
       "data": [
        {
         "hovertemplate": "color=Undefined<br>Distribution Channel=%{x}<br>평균 특별 요청 수=%{y}<br>text=%{text}<extra></extra>",
         "legendgroup": "Undefined",
         "marker": {
          "color": "#636EFA",
          "pattern": {
           "shape": ""
          }
         },
         "name": "Undefined",
         "orientation": "v",
         "showlegend": true,
         "text": {
          "bdata": "ZmZmZmZm9j8=",
          "dtype": "f8"
         },
         "textposition": "outside",
         "type": "bar",
         "x": [
          "Undefined"
         ],
         "xaxis": "x",
         "y": {
          "bdata": "ZmZmZmZm9j8=",
          "dtype": "f8"
         },
         "yaxis": "y"
        },
        {
         "hovertemplate": "color=TA/TO<br>Distribution Channel=%{x}<br>평균 특별 요청 수=%{y}<br>text=%{text}<extra></extra>",
         "legendgroup": "TA/TO",
         "marker": {
          "color": "#EF553B",
          "pattern": {
           "shape": ""
          }
         },
         "name": "TA/TO",
         "orientation": "v",
         "showlegend": true,
         "text": {
          "bdata": "MzMzMzMz4z8=",
          "dtype": "f8"
         },
         "textposition": "outside",
         "type": "bar",
         "x": [
          "TA/TO"
         ],
         "xaxis": "x",
         "y": {
          "bdata": "EKaXnDVI4z8=",
          "dtype": "f8"
         },
         "yaxis": "y"
        },
        {
         "hovertemplate": "color=Direct<br>Distribution Channel=%{x}<br>평균 특별 요청 수=%{y}<br>text=%{text}<extra></extra>",
         "legendgroup": "Direct",
         "marker": {
          "color": "#00CC96",
          "pattern": {
           "shape": ""
          }
         },
         "name": "Direct",
         "orientation": "v",
         "showlegend": true,
         "text": {
          "bdata": "9ihcj8L14D8=",
          "dtype": "f8"
         },
         "textposition": "outside",
         "type": "bar",
         "x": [
          "Direct"
         ],
         "xaxis": "x",
         "y": {
          "bdata": "X+ecMPcX4T8=",
          "dtype": "f8"
         },
         "yaxis": "y"
        },
        {
         "hovertemplate": "color=Corporate<br>Distribution Channel=%{x}<br>평균 특별 요청 수=%{y}<br>text=%{text}<extra></extra>",
         "legendgroup": "Corporate",
         "marker": {
          "color": "#AB63FA",
          "pattern": {
           "shape": ""
          }
         },
         "name": "Corporate",
         "orientation": "v",
         "showlegend": true,
         "text": {
          "bdata": "4XoUrkfhyj8=",
          "dtype": "f8"
         },
         "textposition": "outside",
         "type": "bar",
         "x": [
          "Corporate"
         ],
         "xaxis": "x",
         "y": {
          "bdata": "Pf0neQhXyj8=",
          "dtype": "f8"
         },
         "yaxis": "y"
        },
        {
         "hovertemplate": "color=GDS<br>Distribution Channel=%{x}<br>평균 특별 요청 수=%{y}<br>text=%{text}<extra></extra>",
         "legendgroup": "GDS",
         "marker": {
          "color": "#FFA15A",
          "pattern": {
           "shape": ""
          }
         },
         "name": "GDS",
         "orientation": "v",
         "showlegend": true,
         "text": {
          "bdata": "mpmZmZmZyT8=",
          "dtype": "f8"
         },
         "textposition": "outside",
         "type": "bar",
         "x": [
          "GDS"
         ],
         "xaxis": "x",
         "y": {
          "bdata": "59KhBrszyT8=",
          "dtype": "f8"
         },
         "yaxis": "y"
        }
       ],
       "layout": {
        "annotations": [
         {
          "showarrow": false,
          "text": "전체 평균: 0.57",
          "x": 1,
          "xanchor": "right",
          "xref": "x domain",
          "y": 0.5713627607002262,
          "yanchor": "top",
          "yref": "y"
         }
        ],
        "barmode": "relative",
        "legend": {
         "title": {
          "text": "color"
         },
         "tracegroupgap": 0
        },
        "shapes": [
         {
          "line": {
           "color": "red",
           "dash": "dash"
          },
          "type": "line",
          "x0": 0,
          "x1": 1,
          "xref": "x domain",
          "y0": 0.5713627607002262,
          "y1": 0.5713627607002262,
          "yref": "y"
         }
        ],
        "template": {
         "data": {
          "bar": [
           {
            "error_x": {
             "color": "#2a3f5f"
            },
            "error_y": {
             "color": "#2a3f5f"
            },
            "marker": {
             "line": {
              "color": "#E5ECF6",
              "width": 0.5
             },
             "pattern": {
              "fillmode": "overlay",
              "size": 10,
              "solidity": 0.2
             }
            },
            "type": "bar"
           }
          ],
          "barpolar": [
           {
            "marker": {
             "line": {
              "color": "#E5ECF6",
              "width": 0.5
             },
             "pattern": {
              "fillmode": "overlay",
              "size": 10,
              "solidity": 0.2
             }
            },
            "type": "barpolar"
           }
          ],
          "carpet": [
           {
            "aaxis": {
             "endlinecolor": "#2a3f5f",
             "gridcolor": "white",
             "linecolor": "white",
             "minorgridcolor": "white",
             "startlinecolor": "#2a3f5f"
            },
            "baxis": {
             "endlinecolor": "#2a3f5f",
             "gridcolor": "white",
             "linecolor": "white",
             "minorgridcolor": "white",
             "startlinecolor": "#2a3f5f"
            },
            "type": "carpet"
           }
          ],
          "choropleth": [
           {
            "colorbar": {
             "outlinewidth": 0,
             "ticks": ""
            },
            "type": "choropleth"
           }
          ],
          "contour": [
           {
            "colorbar": {
             "outlinewidth": 0,
             "ticks": ""
            },
            "colorscale": [
             [
              0,
              "#0d0887"
             ],
             [
              0.1111111111111111,
              "#46039f"
             ],
             [
              0.2222222222222222,
              "#7201a8"
             ],
             [
              0.3333333333333333,
              "#9c179e"
             ],
             [
              0.4444444444444444,
              "#bd3786"
             ],
             [
              0.5555555555555556,
              "#d8576b"
             ],
             [
              0.6666666666666666,
              "#ed7953"
             ],
             [
              0.7777777777777778,
              "#fb9f3a"
             ],
             [
              0.8888888888888888,
              "#fdca26"
             ],
             [
              1,
              "#f0f921"
             ]
            ],
            "type": "contour"
           }
          ],
          "contourcarpet": [
           {
            "colorbar": {
             "outlinewidth": 0,
             "ticks": ""
            },
            "type": "contourcarpet"
           }
          ],
          "heatmap": [
           {
            "colorbar": {
             "outlinewidth": 0,
             "ticks": ""
            },
            "colorscale": [
             [
              0,
              "#0d0887"
             ],
             [
              0.1111111111111111,
              "#46039f"
             ],
             [
              0.2222222222222222,
              "#7201a8"
             ],
             [
              0.3333333333333333,
              "#9c179e"
             ],
             [
              0.4444444444444444,
              "#bd3786"
             ],
             [
              0.5555555555555556,
              "#d8576b"
             ],
             [
              0.6666666666666666,
              "#ed7953"
             ],
             [
              0.7777777777777778,
              "#fb9f3a"
             ],
             [
              0.8888888888888888,
              "#fdca26"
             ],
             [
              1,
              "#f0f921"
             ]
            ],
            "type": "heatmap"
           }
          ],
          "histogram": [
           {
            "marker": {
             "pattern": {
              "fillmode": "overlay",
              "size": 10,
              "solidity": 0.2
             }
            },
            "type": "histogram"
           }
          ],
          "histogram2d": [
           {
            "colorbar": {
             "outlinewidth": 0,
             "ticks": ""
            },
            "colorscale": [
             [
              0,
              "#0d0887"
             ],
             [
              0.1111111111111111,
              "#46039f"
             ],
             [
              0.2222222222222222,
              "#7201a8"
             ],
             [
              0.3333333333333333,
              "#9c179e"
             ],
             [
              0.4444444444444444,
              "#bd3786"
             ],
             [
              0.5555555555555556,
              "#d8576b"
             ],
             [
              0.6666666666666666,
              "#ed7953"
             ],
             [
              0.7777777777777778,
              "#fb9f3a"
             ],
             [
              0.8888888888888888,
              "#fdca26"
             ],
             [
              1,
              "#f0f921"
             ]
            ],
            "type": "histogram2d"
           }
          ],
          "histogram2dcontour": [
           {
            "colorbar": {
             "outlinewidth": 0,
             "ticks": ""
            },
            "colorscale": [
             [
              0,
              "#0d0887"
             ],
             [
              0.1111111111111111,
              "#46039f"
             ],
             [
              0.2222222222222222,
              "#7201a8"
             ],
             [
              0.3333333333333333,
              "#9c179e"
             ],
             [
              0.4444444444444444,
              "#bd3786"
             ],
             [
              0.5555555555555556,
              "#d8576b"
             ],
             [
              0.6666666666666666,
              "#ed7953"
             ],
             [
              0.7777777777777778,
              "#fb9f3a"
             ],
             [
              0.8888888888888888,
              "#fdca26"
             ],
             [
              1,
              "#f0f921"
             ]
            ],
            "type": "histogram2dcontour"
           }
          ],
          "mesh3d": [
           {
            "colorbar": {
             "outlinewidth": 0,
             "ticks": ""
            },
            "type": "mesh3d"
           }
          ],
          "parcoords": [
           {
            "line": {
             "colorbar": {
              "outlinewidth": 0,
              "ticks": ""
             }
            },
            "type": "parcoords"
           }
          ],
          "pie": [
           {
            "automargin": true,
            "type": "pie"
           }
          ],
          "scatter": [
           {
            "fillpattern": {
             "fillmode": "overlay",
             "size": 10,
             "solidity": 0.2
            },
            "type": "scatter"
           }
          ],
          "scatter3d": [
           {
            "line": {
             "colorbar": {
              "outlinewidth": 0,
              "ticks": ""
             }
            },
            "marker": {
             "colorbar": {
              "outlinewidth": 0,
              "ticks": ""
             }
            },
            "type": "scatter3d"
           }
          ],
          "scattercarpet": [
           {
            "marker": {
             "colorbar": {
              "outlinewidth": 0,
              "ticks": ""
             }
            },
            "type": "scattercarpet"
           }
          ],
          "scattergeo": [
           {
            "marker": {
             "colorbar": {
              "outlinewidth": 0,
              "ticks": ""
             }
            },
            "type": "scattergeo"
           }
          ],
          "scattergl": [
           {
            "marker": {
             "colorbar": {
              "outlinewidth": 0,
              "ticks": ""
             }
            },
            "type": "scattergl"
           }
          ],
          "scattermap": [
           {
            "marker": {
             "colorbar": {
              "outlinewidth": 0,
              "ticks": ""
             }
            },
            "type": "scattermap"
           }
          ],
          "scattermapbox": [
           {
            "marker": {
             "colorbar": {
              "outlinewidth": 0,
              "ticks": ""
             }
            },
            "type": "scattermapbox"
           }
          ],
          "scatterpolar": [
           {
            "marker": {
             "colorbar": {
              "outlinewidth": 0,
              "ticks": ""
             }
            },
            "type": "scatterpolar"
           }
          ],
          "scatterpolargl": [
           {
            "marker": {
             "colorbar": {
              "outlinewidth": 0,
              "ticks": ""
             }
            },
            "type": "scatterpolargl"
           }
          ],
          "scatterternary": [
           {
            "marker": {
             "colorbar": {
              "outlinewidth": 0,
              "ticks": ""
             }
            },
            "type": "scatterternary"
           }
          ],
          "surface": [
           {
            "colorbar": {
             "outlinewidth": 0,
             "ticks": ""
            },
            "colorscale": [
             [
              0,
              "#0d0887"
             ],
             [
              0.1111111111111111,
              "#46039f"
             ],
             [
              0.2222222222222222,
              "#7201a8"
             ],
             [
              0.3333333333333333,
              "#9c179e"
             ],
             [
              0.4444444444444444,
              "#bd3786"
             ],
             [
              0.5555555555555556,
              "#d8576b"
             ],
             [
              0.6666666666666666,
              "#ed7953"
             ],
             [
              0.7777777777777778,
              "#fb9f3a"
             ],
             [
              0.8888888888888888,
              "#fdca26"
             ],
             [
              1,
              "#f0f921"
             ]
            ],
            "type": "surface"
           }
          ],
          "table": [
           {
            "cells": {
             "fill": {
              "color": "#EBF0F8"
             },
             "line": {
              "color": "white"
             }
            },
            "header": {
             "fill": {
              "color": "#C8D4E3"
             },
             "line": {
              "color": "white"
             }
            },
            "type": "table"
           }
          ]
         },
         "layout": {
          "annotationdefaults": {
           "arrowcolor": "#2a3f5f",
           "arrowhead": 0,
           "arrowwidth": 1
          },
          "autotypenumbers": "strict",
          "coloraxis": {
           "colorbar": {
            "outlinewidth": 0,
            "ticks": ""
           }
          },
          "colorscale": {
           "diverging": [
            [
             0,
             "#8e0152"
            ],
            [
             0.1,
             "#c51b7d"
            ],
            [
             0.2,
             "#de77ae"
            ],
            [
             0.3,
             "#f1b6da"
            ],
            [
             0.4,
             "#fde0ef"
            ],
            [
             0.5,
             "#f7f7f7"
            ],
            [
             0.6,
             "#e6f5d0"
            ],
            [
             0.7,
             "#b8e186"
            ],
            [
             0.8,
             "#7fbc41"
            ],
            [
             0.9,
             "#4d9221"
            ],
            [
             1,
             "#276419"
            ]
           ],
           "sequential": [
            [
             0,
             "#0d0887"
            ],
            [
             0.1111111111111111,
             "#46039f"
            ],
            [
             0.2222222222222222,
             "#7201a8"
            ],
            [
             0.3333333333333333,
             "#9c179e"
            ],
            [
             0.4444444444444444,
             "#bd3786"
            ],
            [
             0.5555555555555556,
             "#d8576b"
            ],
            [
             0.6666666666666666,
             "#ed7953"
            ],
            [
             0.7777777777777778,
             "#fb9f3a"
            ],
            [
             0.8888888888888888,
             "#fdca26"
            ],
            [
             1,
             "#f0f921"
            ]
           ],
           "sequentialminus": [
            [
             0,
             "#0d0887"
            ],
            [
             0.1111111111111111,
             "#46039f"
            ],
            [
             0.2222222222222222,
             "#7201a8"
            ],
            [
             0.3333333333333333,
             "#9c179e"
            ],
            [
             0.4444444444444444,
             "#bd3786"
            ],
            [
             0.5555555555555556,
             "#d8576b"
            ],
            [
             0.6666666666666666,
             "#ed7953"
            ],
            [
             0.7777777777777778,
             "#fb9f3a"
            ],
            [
             0.8888888888888888,
             "#fdca26"
            ],
            [
             1,
             "#f0f921"
            ]
           ]
          },
          "colorway": [
           "#636efa",
           "#EF553B",
           "#00cc96",
           "#ab63fa",
           "#FFA15A",
           "#19d3f3",
           "#FF6692",
           "#B6E880",
           "#FF97FF",
           "#FECB52"
          ],
          "font": {
           "color": "#2a3f5f"
          },
          "geo": {
           "bgcolor": "white",
           "lakecolor": "white",
           "landcolor": "#E5ECF6",
           "showlakes": true,
           "showland": true,
           "subunitcolor": "white"
          },
          "hoverlabel": {
           "align": "left"
          },
          "hovermode": "closest",
          "mapbox": {
           "style": "light"
          },
          "paper_bgcolor": "white",
          "plot_bgcolor": "#E5ECF6",
          "polar": {
           "angularaxis": {
            "gridcolor": "white",
            "linecolor": "white",
            "ticks": ""
           },
           "bgcolor": "#E5ECF6",
           "radialaxis": {
            "gridcolor": "white",
            "linecolor": "white",
            "ticks": ""
           }
          },
          "scene": {
           "xaxis": {
            "backgroundcolor": "#E5ECF6",
            "gridcolor": "white",
            "gridwidth": 2,
            "linecolor": "white",
            "showbackground": true,
            "ticks": "",
            "zerolinecolor": "white"
           },
           "yaxis": {
            "backgroundcolor": "#E5ECF6",
            "gridcolor": "white",
            "gridwidth": 2,
            "linecolor": "white",
            "showbackground": true,
            "ticks": "",
            "zerolinecolor": "white"
           },
           "zaxis": {
            "backgroundcolor": "#E5ECF6",
            "gridcolor": "white",
            "gridwidth": 2,
            "linecolor": "white",
            "showbackground": true,
            "ticks": "",
            "zerolinecolor": "white"
           }
          },
          "shapedefaults": {
           "line": {
            "color": "#2a3f5f"
           }
          },
          "ternary": {
           "aaxis": {
            "gridcolor": "white",
            "linecolor": "white",
            "ticks": ""
           },
           "baxis": {
            "gridcolor": "white",
            "linecolor": "white",
            "ticks": ""
           },
           "bgcolor": "#E5ECF6",
           "caxis": {
            "gridcolor": "white",
            "linecolor": "white",
            "ticks": ""
           }
          },
          "title": {
           "x": 0.05
          },
          "xaxis": {
           "automargin": true,
           "gridcolor": "white",
           "linecolor": "white",
           "ticks": "",
           "title": {
            "standoff": 15
           },
           "zerolinecolor": "white",
           "zerolinewidth": 2
          },
          "yaxis": {
           "automargin": true,
           "gridcolor": "white",
           "linecolor": "white",
           "ticks": "",
           "title": {
            "standoff": 15
           },
           "zerolinecolor": "white",
           "zerolinewidth": 2
          }
         }
        },
        "title": {
         "text": "Distribution Channel별 평균 특별 요청 수"
        },
        "xaxis": {
         "anchor": "y",
         "domain": [
          0,
          1
         ],
         "tickangle": -45,
         "title": {
          "text": "Distribution Channel"
         }
        },
        "yaxis": {
         "anchor": "x",
         "domain": [
          0,
          1
         ],
         "title": {
          "text": "평균 특별 요청 수"
         }
        }
       }
      }
     },
     "metadata": {},
     "output_type": "display_data"
    }
   ],
   "source": [
    "import plotly.express as px\n",
    "import pandas as pd # pandas import 추가\n",
    "\n",
    "# Analyze the relationship between 'distribution_channel' and 'is_repeated_guest'\n",
    "repeated_guest_by_channel = df.groupby('distribution_channel')['is_repeated_guest'].mean().sort_values(ascending=False)\n",
    "\n",
    "print(\"\\nDistribution Channel별 반복 투숙객 비율:\")\n",
    "display(repeated_guest_by_channel)\n",
    "\n",
    "# 전체 평균 반복 투숙객 비율 계산\n",
    "overall_avg_repeated_guest_rate = df['is_repeated_guest'].mean()\n",
    "print(f\"\\n전체 평균 반복 투숙객 비율: {overall_avg_repeated_guest_rate:.2%}\")\n",
    "\n",
    "\n",
    "fig_repeated = px.bar(x=repeated_guest_by_channel.index, y=repeated_guest_by_channel.values,\n",
    "                      title='Distribution Channel별 반복 투숙객 비율',\n",
    "                      labels={'x': 'Distribution Channel', 'y': '반복 투숙객 비율'},\n",
    "                      color=repeated_guest_by_channel.index,\n",
    "                      color_discrete_sequence=px.colors.qualitative.Plotly,\n",
    "                      text=repeated_guest_by_channel.apply(lambda x: f'{x:.2%}'))\n",
    "\n",
    "# 전체 평균 반복 투숙객 비율 점선 추가\n",
    "fig_repeated.add_hline(y=overall_avg_repeated_guest_rate, line_dash=\"dash\", line_color=\"red\", annotation_text=f\"전체 평균: {overall_avg_repeated_guest_rate:.2%}\", annotation_position=\"bottom right\")\n",
    "\n",
    "\n",
    "fig_repeated.update_layout(xaxis_tickangle=-45)\n",
    "fig_repeated.update_traces(textposition='outside')\n",
    "fig_repeated.show()\n",
    "\n",
    "# Analyze the relationship between 'distribution_channel' and 'total_of_special_requests'\n",
    "special_requests_by_channel = df.groupby('distribution_channel')['total_of_special_requests'].mean().sort_values(ascending=False)\n",
    "\n",
    "print(\"\\nDistribution Channel별 평균 특별 요청 수:\")\n",
    "display(special_requests_by_channel)\n",
    "\n",
    "# 전체 평균 특별 요청 수 계산\n",
    "overall_avg_special_requests = df['total_of_special_requests'].mean()\n",
    "print(f\"\\n전체 평균 특별 요청 수: {overall_avg_special_requests:.2f}\")\n",
    "\n",
    "\n",
    "fig_requests = px.bar(x=special_requests_by_channel.index, y=special_requests_by_channel.values,\n",
    "                      title='Distribution Channel별 평균 특별 요청 수',\n",
    "                      labels={'x': 'Distribution Channel', 'y': '평균 특별 요청 수'},\n",
    "                      color=special_requests_by_channel.index,\n",
    "                      color_discrete_sequence=px.colors.qualitative.Plotly,\n",
    "                      text=special_requests_by_channel.values.round(2))\n",
    "\n",
    "# 전체 평균 특별 요청 수 점선 추가\n",
    "fig_requests.add_hline(y=overall_avg_special_requests, line_dash=\"dash\", line_color=\"red\", annotation_text=f\"전체 평균: {overall_avg_special_requests:.2f}\", annotation_position=\"bottom right\")\n",
    "\n",
    "\n",
    "fig_requests.update_layout(xaxis_tickangle=-45)\n",
    "fig_requests.update_traces(textposition='outside')\n",
    "fig_requests.show()"
   ]
  },
  {
   "cell_type": "markdown",
   "id": "f0960f36",
   "metadata": {},
   "source": [
    "### 3.7 요약\n",
    "\n",
    "데이터 분석 주요 결과\n",
    "\n",
    "*   **Distribution Channel 분포:** 리조트 호텔 예약의 대다수는 'TA/TO'(여행사/투어 오퍼레이터) 채널을 통해 이루어지며(약 75%), 이어서 'Direct'(약 20%), 'Corporate'(약 5%) 순입니다. 'Undefined' 채널은 미미한 수준입니다.\n",
    "*   **취소율:** 'TA/TO' 채널의 취소율이 가장 높고(약 31.5%), 'Corporate'(약 21.1%) 및 'Direct'(약 16.9%) 채널은 취소율이 상당히 낮습니다. 'Undefined'는 취소율이 0%이지만 데이터 양이 적어 유의미하지 않을 수 있습니다.\n",
    "*   **평균 일일 요금 (ADR):** 일반적으로 'Corporate' 및 'Direct' 채널의 평균 ADR이 가장 높으며, 'TA/TO' 및 'Undefined'는 평균 ADR이 낮습니다.\n",
    "*   **총 숙박일수:** 'Undefined' 및 'TA/TO' 채널의 평균 총 숙박일수가 가장 길고, 'Direct' 및 'Corporate' 채널은 평균 숙박일수가 짧습니다.\n",
    "*   **예약 변경 횟수:** 'Corporate' 및 'Direct' 채널은 'TA/TO' 채널에 비해 평균 예약 변경 횟수가 더 많습니다. 'Undefined'는 예약 변경이 없습니다.\n",
    "*   **고객 유형 및 채널:** 'TA/TO' 예약은 주로 'Transient' 고객, 'Corporate' 예약은 주로 'Corporate' 고객, 'Direct' 예약도 대부분 'Transient' 고객입니다.\n",
    "*   **반복 투숙객:** 'Corporate' 채널에서 반복 투숙객 비율이 가장 높고, 이어서 'Direct', 'TA/TO' 순입니다.\n",
    "*   **특별 요청:** 'TA/TO' 예약은 'Direct' 및 'Corporate' 채널에 비해 평균 특별 요청 수가 더 많습니다.\n"
   ]
  }
 ],
 "metadata": {
  "language_info": {
   "name": "python"
  }
 },
 "nbformat": 4,
 "nbformat_minor": 5
}
